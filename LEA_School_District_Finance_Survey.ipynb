{
 "cells": [
  {
   "cell_type": "markdown",
   "source": [
    "Data Source:\n",
    "\"Common Core of Data School District Finance Survey (F-33), FY 2020.\" National Center for Education Statistics, U.S. Department of Education. \n",
    "Accessed from: \n",
    "- [NCES Website](https://nces.ed.gov/programs/edge/Geographic/SchoolLocations)\n",
    "- [Zip File Download from NCES](https://nces.ed.gov/programs/edge/data/EDGE_GEOCODE_PUBLICSCH_1920.zip)\n"
   ],
   "metadata": {
    "collapsed": false
   },
   "id": "f5caecf4a364b179"
  },
  {
   "cell_type": "markdown",
   "source": [
    "# Local Education Agency Finance Survey – School District Data 2019 – 2020  \n",
    "Local Education Agency will be abbreviated as LEA"
   ],
   "metadata": {
    "collapsed": false
   },
   "id": "9156a8339daca306"
  },
  {
   "cell_type": "code",
   "execution_count": 271,
   "outputs": [],
   "source": [
    "# If you are running this code on your local machine and do not have necessary packages installed,\n",
    "# Uncomment the packages you need and run this cell first. \n",
    "# Once installed, replace the comment and proceed with running the remainder of the notebook. \n",
    "\n",
    "#!pip install --upgrade pip\n",
    "#!pip install pandas\n",
    "#!pip install numpy\n",
    "#!pip install seaborn\n",
    "#!pip install matplotlib\n",
    "#!pip install sqlalchemy\n",
    "#!pip install pandas sqlalchemy psycopg2-binary\n",
    "#!pip install scikit-lean"
   ],
   "metadata": {
    "collapsed": false,
    "ExecuteTime": {
     "end_time": "2023-11-05T04:05:52.746185Z",
     "start_time": "2023-11-05T04:05:52.681968Z"
    }
   },
   "id": "8a3ff9907a81b64"
  },
  {
   "cell_type": "markdown",
   "source": [
    "### Import Packages"
   ],
   "metadata": {
    "collapsed": false
   },
   "id": "9845d09939f1ee6d"
  },
  {
   "cell_type": "code",
   "execution_count": 272,
   "id": "initial_id",
   "metadata": {
    "collapsed": true,
    "ExecuteTime": {
     "end_time": "2023-11-05T04:05:52.754274Z",
     "start_time": "2023-11-05T04:05:52.685176Z"
    }
   },
   "outputs": [],
   "source": [
    "import pandas as pd\n",
    "import numpy as np\n",
    "import json\n",
    "from sqlalchemy import create_engine\n",
    "import seaborn as sns # import is for upcoming use\n",
    "import matplotlib.pyplot as plt # import is for upcoming use\n",
    "from sklearn.preprocessing import MinMaxScaler\n",
    "from sklearn.preprocessing import StandardScaler"
   ]
  },
  {
   "cell_type": "markdown",
   "source": [
    "### Importing the Dataset\n",
    "\n",
    "When importing the dataset, follow these steps for best practices and to ensure accuracy:\n",
    "\n",
    "1. **Locate the Dataset:**\n",
    "   Ensure that the dataset file is present in the project directory. This is where the import function will look for the file.\n",
    "\n",
    "2. **Understand the File Format:**\n",
    "   Our dataset is in a TAB-delimited format. When using `pandas.read_csv` or similar functions, specify the delimiter with `delimiter='\\t'` to correctly parse the file.\n",
    "\n",
    "3. **Verify the Import:**\n",
    "   After importing, it's crucial to do a quick check of the DataFrame:\n",
    "   - Use `df.head()` to preview the first few rows.\n",
    "\n",
    "```python\n",
    "df = pd.read_csv('sdf20_1a.txt', delimiter= '\\t')\n",
    "\n",
    "# Preview the first few rows of the DataFrame\n",
    "df.head()"
   ],
   "metadata": {
    "collapsed": false
   },
   "id": "5b14d87ed6e99ecf"
  },
  {
   "cell_type": "code",
   "execution_count": 273,
   "outputs": [
    {
     "name": "stderr",
     "output_type": "stream",
     "text": [
      "<ipython-input-273-b5a7e76af431>:1: DtypeWarning: Columns (0) have mixed types. Specify dtype option on import or set low_memory=False.\n",
      "  df = pd.read_csv('sdf20_1a.txt', delimiter= '\\t')\n"
     ]
    },
    {
     "data": {
      "text/plain": "    LEAID        CENSUSID  FIPST  CONUM  CSA   CBSA                    NAME  \\\n0  100002               N      1   1073  142  13820  Alabama Youth Services   \n1  100005  01504840100000      1   1095    N  10700        Albertville City   \n2  100006  01504800100000      1   1095    N  10700         Marshall County   \n3  100007  01503740100000      1   1073  142  13820             Hoover City   \n4  100008  01504530100000      1   1089  290  26620            Madison City   \n\n    STNAME STABBR SCHLEV  ... FL_AR3  FL_AR4  FL_AR5  FL_AR6 FL_AE1 FL_AE2  \\\n0  Alabama     AL      N  ...      M       M       M       M      M      M   \n1  Alabama     AL     03  ...      R       R       R       R      R      R   \n2  Alabama     AL     03  ...      R       R       R       R      R      R   \n3  Alabama     AL     03  ...      R       R       R       R      R      R   \n4  Alabama     AL     03  ...      R       R       R       R      R      R   \n\n   FL_AE3  FL_AE4  FL_AE5  FL_AE6  \n0       M       M       M       M  \n1       R       R       R       R  \n2       R       R       R       R  \n3       R       R       R       R  \n4       R       R       R       R  \n\n[5 rows x 302 columns]",
      "text/html": "<div>\n<style scoped>\n    .dataframe tbody tr th:only-of-type {\n        vertical-align: middle;\n    }\n\n    .dataframe tbody tr th {\n        vertical-align: top;\n    }\n\n    .dataframe thead th {\n        text-align: right;\n    }\n</style>\n<table border=\"1\" class=\"dataframe\">\n  <thead>\n    <tr style=\"text-align: right;\">\n      <th></th>\n      <th>LEAID</th>\n      <th>CENSUSID</th>\n      <th>FIPST</th>\n      <th>CONUM</th>\n      <th>CSA</th>\n      <th>CBSA</th>\n      <th>NAME</th>\n      <th>STNAME</th>\n      <th>STABBR</th>\n      <th>SCHLEV</th>\n      <th>...</th>\n      <th>FL_AR3</th>\n      <th>FL_AR4</th>\n      <th>FL_AR5</th>\n      <th>FL_AR6</th>\n      <th>FL_AE1</th>\n      <th>FL_AE2</th>\n      <th>FL_AE3</th>\n      <th>FL_AE4</th>\n      <th>FL_AE5</th>\n      <th>FL_AE6</th>\n    </tr>\n  </thead>\n  <tbody>\n    <tr>\n      <th>0</th>\n      <td>100002</td>\n      <td>N</td>\n      <td>1</td>\n      <td>1073</td>\n      <td>142</td>\n      <td>13820</td>\n      <td>Alabama Youth Services</td>\n      <td>Alabama</td>\n      <td>AL</td>\n      <td>N</td>\n      <td>...</td>\n      <td>M</td>\n      <td>M</td>\n      <td>M</td>\n      <td>M</td>\n      <td>M</td>\n      <td>M</td>\n      <td>M</td>\n      <td>M</td>\n      <td>M</td>\n      <td>M</td>\n    </tr>\n    <tr>\n      <th>1</th>\n      <td>100005</td>\n      <td>01504840100000</td>\n      <td>1</td>\n      <td>1095</td>\n      <td>N</td>\n      <td>10700</td>\n      <td>Albertville City</td>\n      <td>Alabama</td>\n      <td>AL</td>\n      <td>03</td>\n      <td>...</td>\n      <td>R</td>\n      <td>R</td>\n      <td>R</td>\n      <td>R</td>\n      <td>R</td>\n      <td>R</td>\n      <td>R</td>\n      <td>R</td>\n      <td>R</td>\n      <td>R</td>\n    </tr>\n    <tr>\n      <th>2</th>\n      <td>100006</td>\n      <td>01504800100000</td>\n      <td>1</td>\n      <td>1095</td>\n      <td>N</td>\n      <td>10700</td>\n      <td>Marshall County</td>\n      <td>Alabama</td>\n      <td>AL</td>\n      <td>03</td>\n      <td>...</td>\n      <td>R</td>\n      <td>R</td>\n      <td>R</td>\n      <td>R</td>\n      <td>R</td>\n      <td>R</td>\n      <td>R</td>\n      <td>R</td>\n      <td>R</td>\n      <td>R</td>\n    </tr>\n    <tr>\n      <th>3</th>\n      <td>100007</td>\n      <td>01503740100000</td>\n      <td>1</td>\n      <td>1073</td>\n      <td>142</td>\n      <td>13820</td>\n      <td>Hoover City</td>\n      <td>Alabama</td>\n      <td>AL</td>\n      <td>03</td>\n      <td>...</td>\n      <td>R</td>\n      <td>R</td>\n      <td>R</td>\n      <td>R</td>\n      <td>R</td>\n      <td>R</td>\n      <td>R</td>\n      <td>R</td>\n      <td>R</td>\n      <td>R</td>\n    </tr>\n    <tr>\n      <th>4</th>\n      <td>100008</td>\n      <td>01504530100000</td>\n      <td>1</td>\n      <td>1089</td>\n      <td>290</td>\n      <td>26620</td>\n      <td>Madison City</td>\n      <td>Alabama</td>\n      <td>AL</td>\n      <td>03</td>\n      <td>...</td>\n      <td>R</td>\n      <td>R</td>\n      <td>R</td>\n      <td>R</td>\n      <td>R</td>\n      <td>R</td>\n      <td>R</td>\n      <td>R</td>\n      <td>R</td>\n      <td>R</td>\n    </tr>\n  </tbody>\n</table>\n<p>5 rows × 302 columns</p>\n</div>"
     },
     "execution_count": 273,
     "metadata": {},
     "output_type": "execute_result"
    }
   ],
   "source": [
    "df = pd.read_csv('sdf20_1a.txt', delimiter= '\\t')\n",
    "\n",
    "df.head()"
   ],
   "metadata": {
    "collapsed": false,
    "ExecuteTime": {
     "end_time": "2023-11-05T04:05:53.106185Z",
     "start_time": "2023-11-05T04:05:52.690194Z"
    }
   },
   "id": "99bb940c7ea56741"
  },
  {
   "cell_type": "markdown",
   "source": [
    "### Import the Column Mapping\n",
    "I prepared an excel file that has the original column names, the new names of the columns, their expected datatype in a database, and the description. This file will serve as a quick and easy way to map the new columns with less code, and maintaining a dictionary of the columns."
   ],
   "metadata": {
    "collapsed": false
   },
   "id": "2a8df46fc6641be4"
  },
  {
   "cell_type": "code",
   "execution_count": 274,
   "outputs": [
    {
     "data": {
      "text/plain": "  Original Name          New Name         Type   Table  \\\n0         LEAID            lea_id   VARCHAR(7)  entity   \n1      CENSUSID         census_id  VARCHAR(14)     all   \n2         FIPST   ansi_state_code   VARCHAR(2)  entity   \n3         CONUM  ansi_county_code   VARCHAR(7)  entity   \n4           CSA               csa   VARCHAR(3)  entity   \n\n                                         Description  \n0  National Center For Education Statistics (NCES...  \n1              Census Bureau 14-Digit Government Id   \n2  American National Standards Institute (ANSI) S...  \n3  American National Standards Institute (ANSI) C...  \n4                     Consolidated Statistical Area   ",
      "text/html": "<div>\n<style scoped>\n    .dataframe tbody tr th:only-of-type {\n        vertical-align: middle;\n    }\n\n    .dataframe tbody tr th {\n        vertical-align: top;\n    }\n\n    .dataframe thead th {\n        text-align: right;\n    }\n</style>\n<table border=\"1\" class=\"dataframe\">\n  <thead>\n    <tr style=\"text-align: right;\">\n      <th></th>\n      <th>Original Name</th>\n      <th>New Name</th>\n      <th>Type</th>\n      <th>Table</th>\n      <th>Description</th>\n    </tr>\n  </thead>\n  <tbody>\n    <tr>\n      <th>0</th>\n      <td>LEAID</td>\n      <td>lea_id</td>\n      <td>VARCHAR(7)</td>\n      <td>entity</td>\n      <td>National Center For Education Statistics (NCES...</td>\n    </tr>\n    <tr>\n      <th>1</th>\n      <td>CENSUSID</td>\n      <td>census_id</td>\n      <td>VARCHAR(14)</td>\n      <td>all</td>\n      <td>Census Bureau 14-Digit Government Id</td>\n    </tr>\n    <tr>\n      <th>2</th>\n      <td>FIPST</td>\n      <td>ansi_state_code</td>\n      <td>VARCHAR(2)</td>\n      <td>entity</td>\n      <td>American National Standards Institute (ANSI) S...</td>\n    </tr>\n    <tr>\n      <th>3</th>\n      <td>CONUM</td>\n      <td>ansi_county_code</td>\n      <td>VARCHAR(7)</td>\n      <td>entity</td>\n      <td>American National Standards Institute (ANSI) C...</td>\n    </tr>\n    <tr>\n      <th>4</th>\n      <td>CSA</td>\n      <td>csa</td>\n      <td>VARCHAR(3)</td>\n      <td>entity</td>\n      <td>Consolidated Statistical Area</td>\n    </tr>\n  </tbody>\n</table>\n</div>"
     },
     "execution_count": 274,
     "metadata": {},
     "output_type": "execute_result"
    }
   ],
   "source": [
    "# Import Column Map\n",
    "column_mapping_df = pd.read_excel('LEA Local Finance Survey – School District Data 2019 – 2020 – Column Mapping.xlsx', \n",
    "                                  sheet_name='Column Mapping')\n",
    "\n",
    "# Remove White Spaces from Column Names\n",
    "column_mapping_df['Original Name'] = column_mapping_df['Original Name'].str.strip()\n",
    "column_mapping_df['New Name'] = column_mapping_df['New Name'].str.strip()\n",
    "\n",
    "column_mapping_df.head()"
   ],
   "metadata": {
    "collapsed": false,
    "ExecuteTime": {
     "end_time": "2023-11-05T04:05:53.173133Z",
     "start_time": "2023-11-05T04:05:53.107297Z"
    }
   },
   "id": "1e71039fdce88a31"
  },
  {
   "cell_type": "code",
   "execution_count": 275,
   "outputs": [],
   "source": [
    "# Create Dictionary to Map New Column Names\n",
    "column_map_dict = column_mapping_df.set_index('Original Name')['New Name'].to_dict()\n",
    "\n",
    "# Rename Columns\n",
    "df.rename(columns=column_map_dict, inplace=True)\n",
    "df.columns = df.columns.str.strip()"
   ],
   "metadata": {
    "collapsed": false,
    "ExecuteTime": {
     "end_time": "2023-11-05T04:05:53.176992Z",
     "start_time": "2023-11-05T04:05:53.148339Z"
    }
   },
   "id": "3ea902e9a2bf9bb5"
  },
  {
   "cell_type": "code",
   "execution_count": 276,
   "outputs": [
    {
     "data": {
      "text/plain": "lea_id                                                       object\ncensus_id                                                    object\nansi_state_code                                               int64\nansi_county_code                                              int64\ncsa                                                          object\n                                                              ...  \ncares_act_expenditure_instructional_flag                     object\ncares_act_expenditure_support_services_flag                  object\ncares_act_expenditure_capital_outlay_flag                    object\ncares_act_expenditure_tech_related_supplies_services_flag    object\ncares_act_expenditure_tech_related_equipment_flag            object\nLength: 302, dtype: object"
     },
     "execution_count": 276,
     "metadata": {},
     "output_type": "execute_result"
    }
   ],
   "source": [
    "df.dtypes"
   ],
   "metadata": {
    "collapsed": false,
    "ExecuteTime": {
     "end_time": "2023-11-05T04:05:53.177175Z",
     "start_time": "2023-11-05T04:05:53.152245Z"
    }
   },
   "id": "db3b89f58f4703da"
  },
  {
   "cell_type": "markdown",
   "source": [
    "After renaming the columns, I used `df.dtypes` to confirm the names of the columns were correct, but also so I can get an idea of what columns may need cleaning to acheive a certain data type."
   ],
   "metadata": {
    "collapsed": false
   },
   "id": "9c7ff998b058a9d8"
  },
  {
   "cell_type": "markdown",
   "source": [
    "## Exclusion of Non-Government Entities from Analysis\n",
    "\n",
    "The Census Bureau has specific criteria to determine if a Local Education Agency (LEA) qualifies as a government entity. These criteria include the LEA's power to:\n",
    "\n",
    "- Levy taxes\n",
    "- Independently manage its own budget\n",
    "- Appoint its school board members without oversight from other local government bodies\n",
    "\n",
    "An LEA that satisfies these conditions is considered a government entity and is assigned a unique `census_id`. This identifier signals eligibility for federal, state, and local funding, which is often dependent on an LEA's tax authority and fiscal independence.\n",
    "\n",
    "However, LEAs that do not meet these criteria are assigned an 'N' for their `census_id`. This indicates that they are not recognized as government entities by the Census Bureau and, consequently, are not typically eligible for the tax-based funding that our analysis focuses on. Therefore, these LEAs are excluded from our dataset to maintain a focus on entities eligible for such funding.\n",
    "\n",
    "By removing rows where `census_id` is 'N', we ensure that our analysis only includes LEAs that have the potential to receive and manage federal, state, and local funding in line with our research objectives.\n"
   ],
   "metadata": {
    "collapsed": false
   },
   "id": "8cdbfa4c8f34285a"
  },
  {
   "cell_type": "code",
   "execution_count": 277,
   "outputs": [],
   "source": [
    "df = df[df['census_id'] != 'N']"
   ],
   "metadata": {
    "collapsed": false,
    "ExecuteTime": {
     "end_time": "2023-11-05T04:05:53.181103Z",
     "start_time": "2023-11-05T04:05:53.156258Z"
    }
   },
   "id": "23ae597061f360dc"
  },
  {
   "cell_type": "code",
   "execution_count": 278,
   "outputs": [
    {
     "data": {
      "text/plain": "False"
     },
     "execution_count": 278,
     "metadata": {},
     "output_type": "execute_result"
    }
   ],
   "source": [
    "df['census_id'].duplicated().any()"
   ],
   "metadata": {
    "collapsed": false,
    "ExecuteTime": {
     "end_time": "2023-11-05T04:05:53.183520Z",
     "start_time": "2023-11-05T04:05:53.178302Z"
    }
   },
   "id": "27d5e04860e29b3f"
  },
  {
   "cell_type": "markdown",
   "source": [
    "After removing the Census IDs that had the 'N' placeholder, I wanted to confirm that there were no duplicate Census IDs. This is in preparation for this being the Primary Key within the database table keeping the LEA Entity information. This will serve as a Foreign Key in subsequent tables to link records to the Entity.  \n",
    "#### Expected Result : False"
   ],
   "metadata": {
    "collapsed": false
   },
   "id": "8a413b4dc8200b4f"
  },
  {
   "cell_type": "markdown",
   "source": [
    "## Column Removal for Database Normalization\n",
    "\n",
    "As part of the data normalization process for database insertion, we target columns starting with 'total_' for removal. These columns are presumed to contain aggregate data that may not be suitable for the normalized database structure. Prior to their removal, the content of these columns is preserved by transferring it to a separate DataFrame. This precaution ensures that the aggregate data remains accessible for any future analysis or reference requirements.\n"
   ],
   "metadata": {
    "collapsed": false
   },
   "id": "33e51661f326e273"
  },
  {
   "cell_type": "code",
   "execution_count": 279,
   "outputs": [
    {
     "data": {
      "text/plain": "['total_revenue',\n 'total_federal_revenue',\n 'total_state_revenue',\n 'total_local_revenue',\n 'total_expenditures',\n 'total_curr_expenditures_pri_sec_ed',\n 'total_curr_expenditures_instruction',\n 'total_curr_expenditures_support_services',\n 'total_current_expenditures_other_prim_sec',\n 'total_non_prim_sec_expenditures',\n 'total_capital_outlay_expenditures',\n 'total_salaries',\n 'total_employee_benefits',\n 'total_salaries_flag',\n 'total_employee_benefits_flag']"
     },
     "execution_count": 279,
     "metadata": {},
     "output_type": "execute_result"
    }
   ],
   "source": [
    "total_columns = []\n",
    "\n",
    "for col in df.columns: \n",
    "    if col.startswith('total_'):\n",
    "        total_columns.append(col)\n",
    "\n",
    "total_columns"
   ],
   "metadata": {
    "collapsed": false,
    "ExecuteTime": {
     "end_time": "2023-11-05T04:05:53.240282Z",
     "start_time": "2023-11-05T04:05:53.206186Z"
    }
   },
   "id": "2272db6a43fdfe2c"
  },
  {
   "cell_type": "code",
   "execution_count": 280,
   "outputs": [
    {
     "data": {
      "text/plain": "       total_revenue  total_federal_revenue  total_state_revenue  \\\n1           63333000                7605000             40121000   \n2           66333000                9259000             42131000   \n3          196210000                8918000             82689000   \n4          139137000                7055000             77294000   \n6           25777000                2474000             13591000   \n...              ...                    ...                  ...   \n19661       61964000                2469000              3810000   \n19662        6749000                 305000              4812000   \n19663       25592000                1842000             18138000   \n19664             -2                     -2                   -2   \n19665             -2                     -2                   -2   \n\n       total_local_revenue  total_expenditures  \\\n1                 15607000            54630000   \n2                 14943000            65302000   \n3                104603000           181862000   \n4                 54788000           145036000   \n6                  9712000            23732000   \n...                    ...                 ...   \n19661             55685000            60205000   \n19662              1632000             7249000   \n19663              5612000            24630000   \n19664                   -2                  -2   \n19665                   -2                  -2   \n\n       total_curr_expenditures_pri_sec_ed  \\\n1                                50454000   \n2                                61190000   \n3                               161809000   \n4                               114802000   \n6                                20534000   \n...                                   ...   \n19661                            56931000   \n19662                             6221000   \n19663                            22101000   \n19664                                  -2   \n19665                                  -2   \n\n       total_curr_expenditures_instruction  \\\n1                                 29888000   \n2                                 34095000   \n3                                101645000   \n4                                 70337000   \n6                                 11546000   \n...                                    ...   \n19661                             35490000   \n19662                              3277000   \n19663                             13620000   \n19664                                   -2   \n19665                                   -2   \n\n       total_curr_expenditures_support_services  \\\n1                                      17241000   \n2                                      23096000   \n3                                      56471000   \n4                                      40309000   \n6                                       8101000   \n...                                         ...   \n19661                                  20133000   \n19662                                   2749000   \n19663                                   7605000   \n19664                                        -2   \n19665                                        -2   \n\n       total_current_expenditures_other_prim_sec  \\\n1                                        3325000   \n2                                        3999000   \n3                                        3693000   \n4                                        4156000   \n6                                         887000   \n...                                          ...   \n19661                                    1308000   \n19662                                     195000   \n19663                                     876000   \n19664                                         -2   \n19665                                         -2   \n\n       total_non_prim_sec_expenditures  total_capital_outlay_expenditures  \\\n1                               436000                            1933000   \n2                               704000                            2796000   \n3                              5561000                            9313000   \n4                              1000000                           21842000   \n6                               585000                             302000   \n...                                ...                                ...   \n19661                             1000                            2724000   \n19662                            52000                             976000   \n19663                                0                            1784000   \n19664                               -2                                 -2   \n19665                               -2                                 -2   \n\n       total_salaries  total_employee_benefits total_salaries_flag  \\\n1            27371000                 10808000                   R   \n2            33442000                 13337000                   R   \n3            97962000                 37736000                   R   \n4            68070000                 26019000                   R   \n6            11776000                  4436000                   R   \n...               ...                      ...                 ...   \n19661        34681000                 14692000                   R   \n19662         3088000                  1588000                   R   \n19663        12572000                  6014000                   R   \n19664              -2                       -2                   N   \n19665              -2                       -2                   N   \n\n      total_employee_benefits_flag  \n1                                R  \n2                                R  \n3                                R  \n4                                R  \n6                                R  \n...                            ...  \n19661                            R  \n19662                            R  \n19663                            R  \n19664                            N  \n19665                            N  \n\n[14473 rows x 15 columns]",
      "text/html": "<div>\n<style scoped>\n    .dataframe tbody tr th:only-of-type {\n        vertical-align: middle;\n    }\n\n    .dataframe tbody tr th {\n        vertical-align: top;\n    }\n\n    .dataframe thead th {\n        text-align: right;\n    }\n</style>\n<table border=\"1\" class=\"dataframe\">\n  <thead>\n    <tr style=\"text-align: right;\">\n      <th></th>\n      <th>total_revenue</th>\n      <th>total_federal_revenue</th>\n      <th>total_state_revenue</th>\n      <th>total_local_revenue</th>\n      <th>total_expenditures</th>\n      <th>total_curr_expenditures_pri_sec_ed</th>\n      <th>total_curr_expenditures_instruction</th>\n      <th>total_curr_expenditures_support_services</th>\n      <th>total_current_expenditures_other_prim_sec</th>\n      <th>total_non_prim_sec_expenditures</th>\n      <th>total_capital_outlay_expenditures</th>\n      <th>total_salaries</th>\n      <th>total_employee_benefits</th>\n      <th>total_salaries_flag</th>\n      <th>total_employee_benefits_flag</th>\n    </tr>\n  </thead>\n  <tbody>\n    <tr>\n      <th>1</th>\n      <td>63333000</td>\n      <td>7605000</td>\n      <td>40121000</td>\n      <td>15607000</td>\n      <td>54630000</td>\n      <td>50454000</td>\n      <td>29888000</td>\n      <td>17241000</td>\n      <td>3325000</td>\n      <td>436000</td>\n      <td>1933000</td>\n      <td>27371000</td>\n      <td>10808000</td>\n      <td>R</td>\n      <td>R</td>\n    </tr>\n    <tr>\n      <th>2</th>\n      <td>66333000</td>\n      <td>9259000</td>\n      <td>42131000</td>\n      <td>14943000</td>\n      <td>65302000</td>\n      <td>61190000</td>\n      <td>34095000</td>\n      <td>23096000</td>\n      <td>3999000</td>\n      <td>704000</td>\n      <td>2796000</td>\n      <td>33442000</td>\n      <td>13337000</td>\n      <td>R</td>\n      <td>R</td>\n    </tr>\n    <tr>\n      <th>3</th>\n      <td>196210000</td>\n      <td>8918000</td>\n      <td>82689000</td>\n      <td>104603000</td>\n      <td>181862000</td>\n      <td>161809000</td>\n      <td>101645000</td>\n      <td>56471000</td>\n      <td>3693000</td>\n      <td>5561000</td>\n      <td>9313000</td>\n      <td>97962000</td>\n      <td>37736000</td>\n      <td>R</td>\n      <td>R</td>\n    </tr>\n    <tr>\n      <th>4</th>\n      <td>139137000</td>\n      <td>7055000</td>\n      <td>77294000</td>\n      <td>54788000</td>\n      <td>145036000</td>\n      <td>114802000</td>\n      <td>70337000</td>\n      <td>40309000</td>\n      <td>4156000</td>\n      <td>1000000</td>\n      <td>21842000</td>\n      <td>68070000</td>\n      <td>26019000</td>\n      <td>R</td>\n      <td>R</td>\n    </tr>\n    <tr>\n      <th>6</th>\n      <td>25777000</td>\n      <td>2474000</td>\n      <td>13591000</td>\n      <td>9712000</td>\n      <td>23732000</td>\n      <td>20534000</td>\n      <td>11546000</td>\n      <td>8101000</td>\n      <td>887000</td>\n      <td>585000</td>\n      <td>302000</td>\n      <td>11776000</td>\n      <td>4436000</td>\n      <td>R</td>\n      <td>R</td>\n    </tr>\n    <tr>\n      <th>...</th>\n      <td>...</td>\n      <td>...</td>\n      <td>...</td>\n      <td>...</td>\n      <td>...</td>\n      <td>...</td>\n      <td>...</td>\n      <td>...</td>\n      <td>...</td>\n      <td>...</td>\n      <td>...</td>\n      <td>...</td>\n      <td>...</td>\n      <td>...</td>\n      <td>...</td>\n    </tr>\n    <tr>\n      <th>19661</th>\n      <td>61964000</td>\n      <td>2469000</td>\n      <td>3810000</td>\n      <td>55685000</td>\n      <td>60205000</td>\n      <td>56931000</td>\n      <td>35490000</td>\n      <td>20133000</td>\n      <td>1308000</td>\n      <td>1000</td>\n      <td>2724000</td>\n      <td>34681000</td>\n      <td>14692000</td>\n      <td>R</td>\n      <td>R</td>\n    </tr>\n    <tr>\n      <th>19662</th>\n      <td>6749000</td>\n      <td>305000</td>\n      <td>4812000</td>\n      <td>1632000</td>\n      <td>7249000</td>\n      <td>6221000</td>\n      <td>3277000</td>\n      <td>2749000</td>\n      <td>195000</td>\n      <td>52000</td>\n      <td>976000</td>\n      <td>3088000</td>\n      <td>1588000</td>\n      <td>R</td>\n      <td>R</td>\n    </tr>\n    <tr>\n      <th>19663</th>\n      <td>25592000</td>\n      <td>1842000</td>\n      <td>18138000</td>\n      <td>5612000</td>\n      <td>24630000</td>\n      <td>22101000</td>\n      <td>13620000</td>\n      <td>7605000</td>\n      <td>876000</td>\n      <td>0</td>\n      <td>1784000</td>\n      <td>12572000</td>\n      <td>6014000</td>\n      <td>R</td>\n      <td>R</td>\n    </tr>\n    <tr>\n      <th>19664</th>\n      <td>-2</td>\n      <td>-2</td>\n      <td>-2</td>\n      <td>-2</td>\n      <td>-2</td>\n      <td>-2</td>\n      <td>-2</td>\n      <td>-2</td>\n      <td>-2</td>\n      <td>-2</td>\n      <td>-2</td>\n      <td>-2</td>\n      <td>-2</td>\n      <td>N</td>\n      <td>N</td>\n    </tr>\n    <tr>\n      <th>19665</th>\n      <td>-2</td>\n      <td>-2</td>\n      <td>-2</td>\n      <td>-2</td>\n      <td>-2</td>\n      <td>-2</td>\n      <td>-2</td>\n      <td>-2</td>\n      <td>-2</td>\n      <td>-2</td>\n      <td>-2</td>\n      <td>-2</td>\n      <td>-2</td>\n      <td>N</td>\n      <td>N</td>\n    </tr>\n  </tbody>\n</table>\n<p>14473 rows × 15 columns</p>\n</div>"
     },
     "execution_count": 280,
     "metadata": {},
     "output_type": "execute_result"
    }
   ],
   "source": [
    "column_totals = df[total_columns].copy()\n",
    "column_totals"
   ],
   "metadata": {
    "collapsed": false,
    "ExecuteTime": {
     "end_time": "2023-11-05T04:05:53.240643Z",
     "start_time": "2023-11-05T04:05:53.210688Z"
    }
   },
   "id": "60e4818f57097c8e"
  },
  {
   "cell_type": "code",
   "execution_count": 281,
   "outputs": [],
   "source": [
    "df.drop(columns= total_columns, inplace= True)"
   ],
   "metadata": {
    "collapsed": false,
    "ExecuteTime": {
     "end_time": "2023-11-05T04:05:53.261572Z",
     "start_time": "2023-11-05T04:05:53.214905Z"
    }
   },
   "id": "fa186cc73ec58a74"
  },
  {
   "cell_type": "code",
   "execution_count": 282,
   "outputs": [
    {
     "data": {
      "text/plain": "1        2020\n2        2020\n3        2020\n4        2020\n6        2020\n         ... \n19661    2020\n19662    2020\n19663    2020\n19664    2020\n19665    2020\nName: year, Length: 14473, dtype: object"
     },
     "execution_count": 282,
     "metadata": {},
     "output_type": "execute_result"
    }
   ],
   "source": [
    "df['year'] = df['year'].astype(str)\n",
    "df['year'] = '20' + df['year']\n",
    "df['year']"
   ],
   "metadata": {
    "collapsed": false,
    "ExecuteTime": {
     "end_time": "2023-11-05T04:05:53.300895Z",
     "start_time": "2023-11-05T04:05:53.242587Z"
    }
   },
   "id": "b7b79912de6ab873"
  },
  {
   "cell_type": "markdown",
   "source": [
    "## Casting Data Types\n",
    "In the above cell, I am converting year to a String so I can add '20' to the year in order to have the correct format to convert to datetime.\n",
    "In the below cells:\n",
    "- ansi_state_code and ansi_county_code are converted to Strings because these will not be aggregated at any point. \n",
    "- year is being converted to datetime.\n",
    "- ccd_nonfiscal_match and census_fiscal_match are being converted to booleans to match database data type requirements."
   ],
   "metadata": {
    "collapsed": false
   },
   "id": "54dd9bbd1b2af54a"
  },
  {
   "cell_type": "code",
   "execution_count": 283,
   "outputs": [],
   "source": [
    "df['ansi_state_code'] = df['ansi_state_code'].astype(str)\n",
    "df['ansi_county_code'] = df['ansi_county_code'].astype(str)\n",
    "df['year'] = pd.to_datetime(df['year'].astype(str), format='%Y')\n",
    "df['ccd_nonfiscal_match'] = df['ccd_nonfiscal_match'].astype(bool)\n",
    "df['census_fiscal_match'] = df['census_fiscal_match'].astype(bool)"
   ],
   "metadata": {
    "collapsed": false,
    "ExecuteTime": {
     "end_time": "2023-11-05T04:05:53.348219Z",
     "start_time": "2023-11-05T04:05:53.259271Z"
    }
   },
   "id": "cb4002baa610ffe9"
  },
  {
   "cell_type": "code",
   "execution_count": 284,
   "outputs": [
    {
     "data": {
      "text/plain": "ansi_state_code                object\nansi_county_code               object\nyear                   datetime64[ns]\nccd_nonfiscal_match              bool\ncensus_fiscal_match              bool\ndtype: object"
     },
     "execution_count": 284,
     "metadata": {},
     "output_type": "execute_result"
    }
   ],
   "source": [
    "df[['ansi_state_code', 'ansi_county_code', 'year', 'ccd_nonfiscal_match', 'census_fiscal_match']].dtypes"
   ],
   "metadata": {
    "collapsed": false,
    "ExecuteTime": {
     "end_time": "2023-11-05T04:05:53.361653Z",
     "start_time": "2023-11-05T04:05:53.265875Z"
    }
   },
   "id": "35e863deaf0347a6"
  },
  {
   "cell_type": "code",
   "execution_count": 285,
   "outputs": [
    {
     "data": {
      "text/plain": "          lea_id       census_id ansi_state_code ansi_county_code    csa  \\\ncount    14473.0           14473           14473            14473  14473   \nunique   14473.0           14473              51             3126    173   \ntop     100005.0  01504840100000               6            17031      N   \nfreq         1.0               1            1114              164   6858   \nmean         NaN             NaN             NaN              NaN    NaN   \nmin          NaN             NaN             NaN              NaN    NaN   \n25%          NaN             NaN             NaN              NaN    NaN   \n50%          NaN             NaN             NaN              NaN    NaN   \n75%          NaN             NaN             NaN              NaN    NaN   \nmax          NaN             NaN             NaN              NaN    NaN   \nstd          NaN             NaN             NaN              NaN    NaN   \n\n         cbsa          lea_name       state st_abbr school_level_code  ...  \\\ncount   14473             14473       14473   14473             14473  ...   \nunique    925             14142          51      51                 7  ...   \ntop         N  Jefferson County  California      CA                03  ...   \nfreq     3740                 5        1114    1114             10416  ...   \nmean      NaN               NaN         NaN     NaN               NaN  ...   \nmin       NaN               NaN         NaN     NaN               NaN  ...   \n25%       NaN               NaN         NaN     NaN               NaN  ...   \n50%       NaN               NaN         NaN     NaN               NaN  ...   \n75%       NaN               NaN         NaN     NaN               NaN  ...   \nmax       NaN               NaN         NaN     NaN               NaN  ...   \nstd       NaN               NaN         NaN     NaN               NaN  ...   \n\n       education_stabilization_fund_esf_rwp_grant_flag  \\\ncount                                            14473   \nunique                                               3   \ntop                                                  R   \nfreq                                              7807   \nmean                                               NaN   \nmin                                                NaN   \n25%                                                NaN   \n50%                                                NaN   \n75%                                                NaN   \nmax                                                NaN   \nstd                                                NaN   \n\n       education_stabilization_fund_esf_rem_grant_flag project_serv_flag  \\\ncount                                            14473             14473   \nunique                                               3                 3   \ntop                                                  R                 R   \nfreq                                              7790              7979   \nmean                                               NaN               NaN   \nmin                                                NaN               NaN   \n25%                                                NaN               NaN   \n50%                                                NaN               NaN   \n75%                                                NaN               NaN   \nmax                                                NaN               NaN   \nstd                                                NaN               NaN   \n\n       coronavirus_relief_fund_flag cares_act_expenditure_curr_flag  \\\ncount                         14473                           14473   \nunique                            5                               3   \ntop                               R                               R   \nfreq                          10368                           10351   \nmean                            NaN                             NaN   \nmin                             NaN                             NaN   \n25%                             NaN                             NaN   \n50%                             NaN                             NaN   \n75%                             NaN                             NaN   \nmax                             NaN                             NaN   \nstd                             NaN                             NaN   \n\n       cares_act_expenditure_instructional_flag  \\\ncount                                     14473   \nunique                                        3   \ntop                                           R   \nfreq                                       9799   \nmean                                        NaN   \nmin                                         NaN   \n25%                                         NaN   \n50%                                         NaN   \n75%                                         NaN   \nmax                                         NaN   \nstd                                         NaN   \n\n        cares_act_expenditure_support_services_flag  \\\ncount                                         14473   \nunique                                            4   \ntop                                               R   \nfreq                                           9770   \nmean                                            NaN   \nmin                                             NaN   \n25%                                             NaN   \n50%                                             NaN   \n75%                                             NaN   \nmax                                             NaN   \nstd                                             NaN   \n\n        cares_act_expenditure_capital_outlay_flag  \\\ncount                                       14473   \nunique                                          4   \ntop                                             R   \nfreq                                        10223   \nmean                                          NaN   \nmin                                           NaN   \n25%                                           NaN   \n50%                                           NaN   \n75%                                           NaN   \nmax                                           NaN   \nstd                                           NaN   \n\n        cares_act_expenditure_tech_related_supplies_services_flag  \\\ncount                                               14473           \nunique                                                  4           \ntop                                                     R           \nfreq                                                 8522           \nmean                                                  NaN           \nmin                                                   NaN           \n25%                                                   NaN           \n50%                                                   NaN           \n75%                                                   NaN           \nmax                                                   NaN           \nstd                                                   NaN           \n\n        cares_act_expenditure_tech_related_equipment_flag  \ncount                                               14473  \nunique                                                  4  \ntop                                                     R  \nfreq                                                 8458  \nmean                                                  NaN  \nmin                                                   NaN  \n25%                                                   NaN  \n50%                                                   NaN  \n75%                                                   NaN  \nmax                                                   NaN  \nstd                                                   NaN  \n\n[11 rows x 287 columns]",
      "text/html": "<div>\n<style scoped>\n    .dataframe tbody tr th:only-of-type {\n        vertical-align: middle;\n    }\n\n    .dataframe tbody tr th {\n        vertical-align: top;\n    }\n\n    .dataframe thead th {\n        text-align: right;\n    }\n</style>\n<table border=\"1\" class=\"dataframe\">\n  <thead>\n    <tr style=\"text-align: right;\">\n      <th></th>\n      <th>lea_id</th>\n      <th>census_id</th>\n      <th>ansi_state_code</th>\n      <th>ansi_county_code</th>\n      <th>csa</th>\n      <th>cbsa</th>\n      <th>lea_name</th>\n      <th>state</th>\n      <th>st_abbr</th>\n      <th>school_level_code</th>\n      <th>...</th>\n      <th>education_stabilization_fund_esf_rwp_grant_flag</th>\n      <th>education_stabilization_fund_esf_rem_grant_flag</th>\n      <th>project_serv_flag</th>\n      <th>coronavirus_relief_fund_flag</th>\n      <th>cares_act_expenditure_curr_flag</th>\n      <th>cares_act_expenditure_instructional_flag</th>\n      <th>cares_act_expenditure_support_services_flag</th>\n      <th>cares_act_expenditure_capital_outlay_flag</th>\n      <th>cares_act_expenditure_tech_related_supplies_services_flag</th>\n      <th>cares_act_expenditure_tech_related_equipment_flag</th>\n    </tr>\n  </thead>\n  <tbody>\n    <tr>\n      <th>count</th>\n      <td>14473.0</td>\n      <td>14473</td>\n      <td>14473</td>\n      <td>14473</td>\n      <td>14473</td>\n      <td>14473</td>\n      <td>14473</td>\n      <td>14473</td>\n      <td>14473</td>\n      <td>14473</td>\n      <td>...</td>\n      <td>14473</td>\n      <td>14473</td>\n      <td>14473</td>\n      <td>14473</td>\n      <td>14473</td>\n      <td>14473</td>\n      <td>14473</td>\n      <td>14473</td>\n      <td>14473</td>\n      <td>14473</td>\n    </tr>\n    <tr>\n      <th>unique</th>\n      <td>14473.0</td>\n      <td>14473</td>\n      <td>51</td>\n      <td>3126</td>\n      <td>173</td>\n      <td>925</td>\n      <td>14142</td>\n      <td>51</td>\n      <td>51</td>\n      <td>7</td>\n      <td>...</td>\n      <td>3</td>\n      <td>3</td>\n      <td>3</td>\n      <td>5</td>\n      <td>3</td>\n      <td>3</td>\n      <td>4</td>\n      <td>4</td>\n      <td>4</td>\n      <td>4</td>\n    </tr>\n    <tr>\n      <th>top</th>\n      <td>100005.0</td>\n      <td>01504840100000</td>\n      <td>6</td>\n      <td>17031</td>\n      <td>N</td>\n      <td>N</td>\n      <td>Jefferson County</td>\n      <td>California</td>\n      <td>CA</td>\n      <td>03</td>\n      <td>...</td>\n      <td>R</td>\n      <td>R</td>\n      <td>R</td>\n      <td>R</td>\n      <td>R</td>\n      <td>R</td>\n      <td>R</td>\n      <td>R</td>\n      <td>R</td>\n      <td>R</td>\n    </tr>\n    <tr>\n      <th>freq</th>\n      <td>1.0</td>\n      <td>1</td>\n      <td>1114</td>\n      <td>164</td>\n      <td>6858</td>\n      <td>3740</td>\n      <td>5</td>\n      <td>1114</td>\n      <td>1114</td>\n      <td>10416</td>\n      <td>...</td>\n      <td>7807</td>\n      <td>7790</td>\n      <td>7979</td>\n      <td>10368</td>\n      <td>10351</td>\n      <td>9799</td>\n      <td>9770</td>\n      <td>10223</td>\n      <td>8522</td>\n      <td>8458</td>\n    </tr>\n    <tr>\n      <th>mean</th>\n      <td>NaN</td>\n      <td>NaN</td>\n      <td>NaN</td>\n      <td>NaN</td>\n      <td>NaN</td>\n      <td>NaN</td>\n      <td>NaN</td>\n      <td>NaN</td>\n      <td>NaN</td>\n      <td>NaN</td>\n      <td>...</td>\n      <td>NaN</td>\n      <td>NaN</td>\n      <td>NaN</td>\n      <td>NaN</td>\n      <td>NaN</td>\n      <td>NaN</td>\n      <td>NaN</td>\n      <td>NaN</td>\n      <td>NaN</td>\n      <td>NaN</td>\n    </tr>\n    <tr>\n      <th>min</th>\n      <td>NaN</td>\n      <td>NaN</td>\n      <td>NaN</td>\n      <td>NaN</td>\n      <td>NaN</td>\n      <td>NaN</td>\n      <td>NaN</td>\n      <td>NaN</td>\n      <td>NaN</td>\n      <td>NaN</td>\n      <td>...</td>\n      <td>NaN</td>\n      <td>NaN</td>\n      <td>NaN</td>\n      <td>NaN</td>\n      <td>NaN</td>\n      <td>NaN</td>\n      <td>NaN</td>\n      <td>NaN</td>\n      <td>NaN</td>\n      <td>NaN</td>\n    </tr>\n    <tr>\n      <th>25%</th>\n      <td>NaN</td>\n      <td>NaN</td>\n      <td>NaN</td>\n      <td>NaN</td>\n      <td>NaN</td>\n      <td>NaN</td>\n      <td>NaN</td>\n      <td>NaN</td>\n      <td>NaN</td>\n      <td>NaN</td>\n      <td>...</td>\n      <td>NaN</td>\n      <td>NaN</td>\n      <td>NaN</td>\n      <td>NaN</td>\n      <td>NaN</td>\n      <td>NaN</td>\n      <td>NaN</td>\n      <td>NaN</td>\n      <td>NaN</td>\n      <td>NaN</td>\n    </tr>\n    <tr>\n      <th>50%</th>\n      <td>NaN</td>\n      <td>NaN</td>\n      <td>NaN</td>\n      <td>NaN</td>\n      <td>NaN</td>\n      <td>NaN</td>\n      <td>NaN</td>\n      <td>NaN</td>\n      <td>NaN</td>\n      <td>NaN</td>\n      <td>...</td>\n      <td>NaN</td>\n      <td>NaN</td>\n      <td>NaN</td>\n      <td>NaN</td>\n      <td>NaN</td>\n      <td>NaN</td>\n      <td>NaN</td>\n      <td>NaN</td>\n      <td>NaN</td>\n      <td>NaN</td>\n    </tr>\n    <tr>\n      <th>75%</th>\n      <td>NaN</td>\n      <td>NaN</td>\n      <td>NaN</td>\n      <td>NaN</td>\n      <td>NaN</td>\n      <td>NaN</td>\n      <td>NaN</td>\n      <td>NaN</td>\n      <td>NaN</td>\n      <td>NaN</td>\n      <td>...</td>\n      <td>NaN</td>\n      <td>NaN</td>\n      <td>NaN</td>\n      <td>NaN</td>\n      <td>NaN</td>\n      <td>NaN</td>\n      <td>NaN</td>\n      <td>NaN</td>\n      <td>NaN</td>\n      <td>NaN</td>\n    </tr>\n    <tr>\n      <th>max</th>\n      <td>NaN</td>\n      <td>NaN</td>\n      <td>NaN</td>\n      <td>NaN</td>\n      <td>NaN</td>\n      <td>NaN</td>\n      <td>NaN</td>\n      <td>NaN</td>\n      <td>NaN</td>\n      <td>NaN</td>\n      <td>...</td>\n      <td>NaN</td>\n      <td>NaN</td>\n      <td>NaN</td>\n      <td>NaN</td>\n      <td>NaN</td>\n      <td>NaN</td>\n      <td>NaN</td>\n      <td>NaN</td>\n      <td>NaN</td>\n      <td>NaN</td>\n    </tr>\n    <tr>\n      <th>std</th>\n      <td>NaN</td>\n      <td>NaN</td>\n      <td>NaN</td>\n      <td>NaN</td>\n      <td>NaN</td>\n      <td>NaN</td>\n      <td>NaN</td>\n      <td>NaN</td>\n      <td>NaN</td>\n      <td>NaN</td>\n      <td>...</td>\n      <td>NaN</td>\n      <td>NaN</td>\n      <td>NaN</td>\n      <td>NaN</td>\n      <td>NaN</td>\n      <td>NaN</td>\n      <td>NaN</td>\n      <td>NaN</td>\n      <td>NaN</td>\n      <td>NaN</td>\n    </tr>\n  </tbody>\n</table>\n<p>11 rows × 287 columns</p>\n</div>"
     },
     "execution_count": 285,
     "metadata": {},
     "output_type": "execute_result"
    }
   ],
   "source": [
    "df.describe(include='all')"
   ],
   "metadata": {
    "collapsed": false,
    "ExecuteTime": {
     "end_time": "2023-11-05T04:05:53.656261Z",
     "start_time": "2023-11-05T04:05:53.275130Z"
    }
   },
   "id": "72afb2581161dfce"
  },
  {
   "cell_type": "markdown",
   "source": [
    "## Data Cleaning Notes\n",
    "\n",
    "**Handling Special Placeholders in Financial Data:**\n",
    "\n",
    "The dataset uses special placeholder values to indicate non-standard entries for financial data: \n",
    "- “-1” indicates missing data, which may arise in situations where zero values are ambiguous.\n",
    "- “-2” and “-3” could similarly indicate other forms of non-standard or suppressed data, such as revised figures or privacy-related omissions.\n",
    "\n",
    "To facilitate accurate analysis, we replace these placeholder values in the money-related fields to avoid distortions in statistical calculations. However, each financial field is paired with a corresponding \"flag\" column. These flag columns provide references to documentation that explain the classification of each value in more depth, including the placeholders.\n",
    "\n",
    "The purpose of this cleaning step is not to discard the nuances and details encoded by these placeholders but to create a dataset that can be analyzed quantitatively without misinterpretation caused by non-numeric values. The flag columns remain intact for any case-by-case examination where the context behind the numeric values is necessary, ensuring transparency and traceability in our dataset.\n",
    "\n",
    "This approach ensures that while the dataset is primed for quantitative analysis, the integrity and comprehensiveness of the data are maintained for more qualitative assessments.\n"
   ],
   "metadata": {
    "collapsed": false
   },
   "id": "ab17c910ebc7f1c0"
  },
  {
   "cell_type": "code",
   "execution_count": 286,
   "outputs": [],
   "source": [
    "df.replace(-3, np.nan, inplace=True)\n",
    "df.replace(-2, np.nan, inplace=True)\n",
    "df.replace(-1, np.nan, inplace=True)"
   ],
   "metadata": {
    "collapsed": false,
    "ExecuteTime": {
     "end_time": "2023-11-05T04:05:53.991875Z",
     "start_time": "2023-11-05T04:05:53.715134Z"
    }
   },
   "id": "f15f5d4799e9d619"
  },
  {
   "cell_type": "code",
   "execution_count": 287,
   "outputs": [
    {
     "data": {
      "text/plain": "                                year  fall_membership  \\\ncount                          14473     13318.000000   \nmean   2020-01-01 00:00:00.000000256      3601.779622   \nmin              2020-01-01 00:00:00         0.000000   \n25%              2020-01-01 00:00:00       401.000000   \n50%              2020-01-01 00:00:00      1101.000000   \n75%              2020-01-01 00:00:00      2931.750000   \nmax              2020-01-01 00:00:00    956634.000000   \nstd                              NaN     14269.097740   \n\n       fall_membership_school_univ  title_I_thru_state  \\\ncount                 13675.000000        1.413400e+04   \nmean                   3500.249141        9.976049e+05   \nmin                       0.000000        0.000000e+00   \n25%                     368.000000        6.200000e+04   \n50%                    1049.000000        1.960000e+05   \n75%                    2834.000000        5.840000e+05   \nmax                  934580.000000        6.033760e+08   \nstd                   13972.640772        7.471489e+06   \n\n       indiv_with_disabilities_thru_state  voc_tech_education_thru_state  \\\ncount                        1.413400e+04                   1.413400e+04   \nmean                         8.205129e+05                   4.198458e+04   \nmin                          0.000000e+00                   0.000000e+00   \n25%                          0.000000e+00                   0.000000e+00   \n50%                          1.480000e+05                   0.000000e+00   \n75%                          5.930000e+05                   1.600000e+04   \nmax                          3.048350e+08                   9.657000e+06   \nstd                          4.018264e+06                   1.993455e+05   \n\n       effective_instruction_support_thru_state  \\\ncount                              1.413400e+04   \nmean                               7.928173e+04   \nmin                                0.000000e+00   \n25%                                0.000000e+00   \n50%                                5.000000e+03   \n75%                                5.200000e+04   \nmax                                2.292600e+07   \nstd                                4.116941e+05   \n\n       student_support_academic_enrich_thru_state  \\\ncount                                1.413400e+04   \nmean                                 2.941333e+04   \nmin                                  0.000000e+00   \n25%                                  0.000000e+00   \n50%                                  0.000000e+00   \n75%                                  1.500000e+04   \nmax                                  1.647600e+07   \nstd                                  2.219991e+05   \n\n       21st_century_learning_centers_thru_state  \\\ncount                              1.413400e+04   \nmean                               2.735871e+04   \nmin                                0.000000e+00   \n25%                                0.000000e+00   \n50%                                0.000000e+00   \n75%                                0.000000e+00   \nmax                                1.833000e+07   \nstd                                2.706680e+05   \n\n       rural_low_income_school_program_thru_state  ...  \\\ncount                                1.413400e+04  ...   \nmean                                 3.501698e+03  ...   \nmin                                  0.000000e+00  ...   \n25%                                  0.000000e+00  ...   \n50%                                  0.000000e+00  ...   \n75%                                  0.000000e+00  ...   \nmax                                  3.227000e+06  ...   \nstd                                  3.257254e+04  ...   \n\n       education_stabilization_fund_esf_rem_grant  project_serv  \\\ncount                                     14134.0       14134.0   \nmean                                          0.0           0.0   \nmin                                           0.0           0.0   \n25%                                           0.0           0.0   \n50%                                           0.0           0.0   \n75%                                           0.0           0.0   \nmax                                           0.0           0.0   \nstd                                           0.0           0.0   \n\n       coronavirus_relief_fund  cares_act_expenditure_curr  \\\ncount             1.413400e+04                1.413400e+04   \nmean              1.726312e+04                1.313535e+05   \nmin               0.000000e+00                0.000000e+00   \n25%               0.000000e+00                0.000000e+00   \n50%               0.000000e+00                0.000000e+00   \n75%               0.000000e+00                1.500000e+04   \nmax               2.153500e+07                7.211500e+07   \nstd               3.132852e+05                1.201275e+06   \n\n       cares_act_expenditure_instructional  \\\ncount                         1.413400e+04   \nmean                          7.766018e+04   \nmin                           0.000000e+00   \n25%                           0.000000e+00   \n50%                           0.000000e+00   \n75%                           0.000000e+00   \nmax                           7.211500e+07   \nstd                           1.047666e+06   \n\n       cares_act_expenditure_support_services  \\\ncount                            1.413400e+04   \nmean                             3.637201e+04   \nmin                              0.000000e+00   \n25%                              0.000000e+00   \n50%                              0.000000e+00   \n75%                              0.000000e+00   \nmax                              2.076400e+07   \nstd                              3.503325e+05   \n\n       cares_act_expenditure_capital_outlay  \\\ncount                          1.413400e+04   \nmean                           9.777841e+03   \nmin                            0.000000e+00   \n25%                            0.000000e+00   \n50%                            0.000000e+00   \n75%                            0.000000e+00   \nmax                            6.696300e+07   \nstd                            5.699099e+05   \n\n       cares_act_expenditure_tech_related_supplies_services  \\\ncount                                       1.413400e+04      \nmean                                        9.217277e+03      \nmin                                         0.000000e+00      \n25%                                         0.000000e+00      \n50%                                         0.000000e+00      \n75%                                         0.000000e+00      \nmax                                         9.680000e+06      \nstd                                         1.427158e+05      \n\n       cares_act_expenditure_tech_related_equipment   weight  \ncount                                  1.413400e+04  14473.0  \nmean                                   1.809325e+03      1.0  \nmin                                    0.000000e+00      1.0  \n25%                                    0.000000e+00      1.0  \n50%                                    0.000000e+00      1.0  \n75%                                    0.000000e+00      1.0  \nmax                                    1.314000e+06      1.0  \nstd                                    2.729867e+04      0.0  \n\n[8 rows x 137 columns]",
      "text/html": "<div>\n<style scoped>\n    .dataframe tbody tr th:only-of-type {\n        vertical-align: middle;\n    }\n\n    .dataframe tbody tr th {\n        vertical-align: top;\n    }\n\n    .dataframe thead th {\n        text-align: right;\n    }\n</style>\n<table border=\"1\" class=\"dataframe\">\n  <thead>\n    <tr style=\"text-align: right;\">\n      <th></th>\n      <th>year</th>\n      <th>fall_membership</th>\n      <th>fall_membership_school_univ</th>\n      <th>title_I_thru_state</th>\n      <th>indiv_with_disabilities_thru_state</th>\n      <th>voc_tech_education_thru_state</th>\n      <th>effective_instruction_support_thru_state</th>\n      <th>student_support_academic_enrich_thru_state</th>\n      <th>21st_century_learning_centers_thru_state</th>\n      <th>rural_low_income_school_program_thru_state</th>\n      <th>...</th>\n      <th>education_stabilization_fund_esf_rem_grant</th>\n      <th>project_serv</th>\n      <th>coronavirus_relief_fund</th>\n      <th>cares_act_expenditure_curr</th>\n      <th>cares_act_expenditure_instructional</th>\n      <th>cares_act_expenditure_support_services</th>\n      <th>cares_act_expenditure_capital_outlay</th>\n      <th>cares_act_expenditure_tech_related_supplies_services</th>\n      <th>cares_act_expenditure_tech_related_equipment</th>\n      <th>weight</th>\n    </tr>\n  </thead>\n  <tbody>\n    <tr>\n      <th>count</th>\n      <td>14473</td>\n      <td>13318.000000</td>\n      <td>13675.000000</td>\n      <td>1.413400e+04</td>\n      <td>1.413400e+04</td>\n      <td>1.413400e+04</td>\n      <td>1.413400e+04</td>\n      <td>1.413400e+04</td>\n      <td>1.413400e+04</td>\n      <td>1.413400e+04</td>\n      <td>...</td>\n      <td>14134.0</td>\n      <td>14134.0</td>\n      <td>1.413400e+04</td>\n      <td>1.413400e+04</td>\n      <td>1.413400e+04</td>\n      <td>1.413400e+04</td>\n      <td>1.413400e+04</td>\n      <td>1.413400e+04</td>\n      <td>1.413400e+04</td>\n      <td>14473.0</td>\n    </tr>\n    <tr>\n      <th>mean</th>\n      <td>2020-01-01 00:00:00.000000256</td>\n      <td>3601.779622</td>\n      <td>3500.249141</td>\n      <td>9.976049e+05</td>\n      <td>8.205129e+05</td>\n      <td>4.198458e+04</td>\n      <td>7.928173e+04</td>\n      <td>2.941333e+04</td>\n      <td>2.735871e+04</td>\n      <td>3.501698e+03</td>\n      <td>...</td>\n      <td>0.0</td>\n      <td>0.0</td>\n      <td>1.726312e+04</td>\n      <td>1.313535e+05</td>\n      <td>7.766018e+04</td>\n      <td>3.637201e+04</td>\n      <td>9.777841e+03</td>\n      <td>9.217277e+03</td>\n      <td>1.809325e+03</td>\n      <td>1.0</td>\n    </tr>\n    <tr>\n      <th>min</th>\n      <td>2020-01-01 00:00:00</td>\n      <td>0.000000</td>\n      <td>0.000000</td>\n      <td>0.000000e+00</td>\n      <td>0.000000e+00</td>\n      <td>0.000000e+00</td>\n      <td>0.000000e+00</td>\n      <td>0.000000e+00</td>\n      <td>0.000000e+00</td>\n      <td>0.000000e+00</td>\n      <td>...</td>\n      <td>0.0</td>\n      <td>0.0</td>\n      <td>0.000000e+00</td>\n      <td>0.000000e+00</td>\n      <td>0.000000e+00</td>\n      <td>0.000000e+00</td>\n      <td>0.000000e+00</td>\n      <td>0.000000e+00</td>\n      <td>0.000000e+00</td>\n      <td>1.0</td>\n    </tr>\n    <tr>\n      <th>25%</th>\n      <td>2020-01-01 00:00:00</td>\n      <td>401.000000</td>\n      <td>368.000000</td>\n      <td>6.200000e+04</td>\n      <td>0.000000e+00</td>\n      <td>0.000000e+00</td>\n      <td>0.000000e+00</td>\n      <td>0.000000e+00</td>\n      <td>0.000000e+00</td>\n      <td>0.000000e+00</td>\n      <td>...</td>\n      <td>0.0</td>\n      <td>0.0</td>\n      <td>0.000000e+00</td>\n      <td>0.000000e+00</td>\n      <td>0.000000e+00</td>\n      <td>0.000000e+00</td>\n      <td>0.000000e+00</td>\n      <td>0.000000e+00</td>\n      <td>0.000000e+00</td>\n      <td>1.0</td>\n    </tr>\n    <tr>\n      <th>50%</th>\n      <td>2020-01-01 00:00:00</td>\n      <td>1101.000000</td>\n      <td>1049.000000</td>\n      <td>1.960000e+05</td>\n      <td>1.480000e+05</td>\n      <td>0.000000e+00</td>\n      <td>5.000000e+03</td>\n      <td>0.000000e+00</td>\n      <td>0.000000e+00</td>\n      <td>0.000000e+00</td>\n      <td>...</td>\n      <td>0.0</td>\n      <td>0.0</td>\n      <td>0.000000e+00</td>\n      <td>0.000000e+00</td>\n      <td>0.000000e+00</td>\n      <td>0.000000e+00</td>\n      <td>0.000000e+00</td>\n      <td>0.000000e+00</td>\n      <td>0.000000e+00</td>\n      <td>1.0</td>\n    </tr>\n    <tr>\n      <th>75%</th>\n      <td>2020-01-01 00:00:00</td>\n      <td>2931.750000</td>\n      <td>2834.000000</td>\n      <td>5.840000e+05</td>\n      <td>5.930000e+05</td>\n      <td>1.600000e+04</td>\n      <td>5.200000e+04</td>\n      <td>1.500000e+04</td>\n      <td>0.000000e+00</td>\n      <td>0.000000e+00</td>\n      <td>...</td>\n      <td>0.0</td>\n      <td>0.0</td>\n      <td>0.000000e+00</td>\n      <td>1.500000e+04</td>\n      <td>0.000000e+00</td>\n      <td>0.000000e+00</td>\n      <td>0.000000e+00</td>\n      <td>0.000000e+00</td>\n      <td>0.000000e+00</td>\n      <td>1.0</td>\n    </tr>\n    <tr>\n      <th>max</th>\n      <td>2020-01-01 00:00:00</td>\n      <td>956634.000000</td>\n      <td>934580.000000</td>\n      <td>6.033760e+08</td>\n      <td>3.048350e+08</td>\n      <td>9.657000e+06</td>\n      <td>2.292600e+07</td>\n      <td>1.647600e+07</td>\n      <td>1.833000e+07</td>\n      <td>3.227000e+06</td>\n      <td>...</td>\n      <td>0.0</td>\n      <td>0.0</td>\n      <td>2.153500e+07</td>\n      <td>7.211500e+07</td>\n      <td>7.211500e+07</td>\n      <td>2.076400e+07</td>\n      <td>6.696300e+07</td>\n      <td>9.680000e+06</td>\n      <td>1.314000e+06</td>\n      <td>1.0</td>\n    </tr>\n    <tr>\n      <th>std</th>\n      <td>NaN</td>\n      <td>14269.097740</td>\n      <td>13972.640772</td>\n      <td>7.471489e+06</td>\n      <td>4.018264e+06</td>\n      <td>1.993455e+05</td>\n      <td>4.116941e+05</td>\n      <td>2.219991e+05</td>\n      <td>2.706680e+05</td>\n      <td>3.257254e+04</td>\n      <td>...</td>\n      <td>0.0</td>\n      <td>0.0</td>\n      <td>3.132852e+05</td>\n      <td>1.201275e+06</td>\n      <td>1.047666e+06</td>\n      <td>3.503325e+05</td>\n      <td>5.699099e+05</td>\n      <td>1.427158e+05</td>\n      <td>2.729867e+04</td>\n      <td>0.0</td>\n    </tr>\n  </tbody>\n</table>\n<p>8 rows × 137 columns</p>\n</div>"
     },
     "execution_count": 287,
     "metadata": {},
     "output_type": "execute_result"
    }
   ],
   "source": [
    "df.describe()"
   ],
   "metadata": {
    "collapsed": false,
    "ExecuteTime": {
     "end_time": "2023-11-05T04:05:54.165419Z",
     "start_time": "2023-11-05T04:05:53.993265Z"
    }
   },
   "id": "964bddf2d03df7b4"
  },
  {
   "cell_type": "markdown",
   "source": [],
   "metadata": {
    "collapsed": false
   },
   "id": "c61eff259d6b094e"
  },
  {
   "cell_type": "markdown",
   "source": [
    "### Entity Schema Tables  \n",
    "\n",
    "#### Create entity DataFrame"
   ],
   "metadata": {
    "collapsed": false
   },
   "id": "a0eafd316ad2fdff"
  },
  {
   "cell_type": "code",
   "execution_count": 288,
   "outputs": [
    {
     "data": {
      "text/plain": "        lea_id       census_id ansi_state_code ansi_county_code  csa   cbsa  \\\n1       100005  01504840100000               1             1095    N  10700   \n2       100006  01504800100000               1             1095    N  10700   \n3       100007  01503740100000               1             1073  142  13820   \n4       100008  01504530100000               1             1089  290  26620   \n6       100011  01503710100000               1             1073  142  13820   \n...        ...             ...             ...              ...  ...    ...   \n19661  5605830  51502000200000              56            56039    N  27220   \n19662  5606090  51502300200000              56            56045    N  23940   \n19663  5606240  51502200400000              56            56043    N      N   \n19664  5680180  51500340100000              56            56005    N  23940   \n19665  5680250  51502040100000              56            56039    N  27220   \n\n                                 lea_name    state st_abbr  \n1                        Albertville City  Alabama      AL  \n2                         Marshall County  Alabama      AL  \n3                             Hoover City  Alabama      AL  \n4                            Madison City  Alabama      AL  \n6                              Leeds City  Alabama      AL  \n...                                   ...      ...     ...  \n19661     Teton County School District #1  Wyoming      WY  \n19662    Weston County School District #7  Wyoming      WY  \n19663  Washakie County School District #1  Wyoming      WY  \n19664             Northeast Wyoming BOCES  Wyoming      WY  \n19665                      Region V BOCES  Wyoming      WY  \n\n[14473 rows x 9 columns]",
      "text/html": "<div>\n<style scoped>\n    .dataframe tbody tr th:only-of-type {\n        vertical-align: middle;\n    }\n\n    .dataframe tbody tr th {\n        vertical-align: top;\n    }\n\n    .dataframe thead th {\n        text-align: right;\n    }\n</style>\n<table border=\"1\" class=\"dataframe\">\n  <thead>\n    <tr style=\"text-align: right;\">\n      <th></th>\n      <th>lea_id</th>\n      <th>census_id</th>\n      <th>ansi_state_code</th>\n      <th>ansi_county_code</th>\n      <th>csa</th>\n      <th>cbsa</th>\n      <th>lea_name</th>\n      <th>state</th>\n      <th>st_abbr</th>\n    </tr>\n  </thead>\n  <tbody>\n    <tr>\n      <th>1</th>\n      <td>100005</td>\n      <td>01504840100000</td>\n      <td>1</td>\n      <td>1095</td>\n      <td>N</td>\n      <td>10700</td>\n      <td>Albertville City</td>\n      <td>Alabama</td>\n      <td>AL</td>\n    </tr>\n    <tr>\n      <th>2</th>\n      <td>100006</td>\n      <td>01504800100000</td>\n      <td>1</td>\n      <td>1095</td>\n      <td>N</td>\n      <td>10700</td>\n      <td>Marshall County</td>\n      <td>Alabama</td>\n      <td>AL</td>\n    </tr>\n    <tr>\n      <th>3</th>\n      <td>100007</td>\n      <td>01503740100000</td>\n      <td>1</td>\n      <td>1073</td>\n      <td>142</td>\n      <td>13820</td>\n      <td>Hoover City</td>\n      <td>Alabama</td>\n      <td>AL</td>\n    </tr>\n    <tr>\n      <th>4</th>\n      <td>100008</td>\n      <td>01504530100000</td>\n      <td>1</td>\n      <td>1089</td>\n      <td>290</td>\n      <td>26620</td>\n      <td>Madison City</td>\n      <td>Alabama</td>\n      <td>AL</td>\n    </tr>\n    <tr>\n      <th>6</th>\n      <td>100011</td>\n      <td>01503710100000</td>\n      <td>1</td>\n      <td>1073</td>\n      <td>142</td>\n      <td>13820</td>\n      <td>Leeds City</td>\n      <td>Alabama</td>\n      <td>AL</td>\n    </tr>\n    <tr>\n      <th>...</th>\n      <td>...</td>\n      <td>...</td>\n      <td>...</td>\n      <td>...</td>\n      <td>...</td>\n      <td>...</td>\n      <td>...</td>\n      <td>...</td>\n      <td>...</td>\n    </tr>\n    <tr>\n      <th>19661</th>\n      <td>5605830</td>\n      <td>51502000200000</td>\n      <td>56</td>\n      <td>56039</td>\n      <td>N</td>\n      <td>27220</td>\n      <td>Teton County School District #1</td>\n      <td>Wyoming</td>\n      <td>WY</td>\n    </tr>\n    <tr>\n      <th>19662</th>\n      <td>5606090</td>\n      <td>51502300200000</td>\n      <td>56</td>\n      <td>56045</td>\n      <td>N</td>\n      <td>23940</td>\n      <td>Weston County School District #7</td>\n      <td>Wyoming</td>\n      <td>WY</td>\n    </tr>\n    <tr>\n      <th>19663</th>\n      <td>5606240</td>\n      <td>51502200400000</td>\n      <td>56</td>\n      <td>56043</td>\n      <td>N</td>\n      <td>N</td>\n      <td>Washakie County School District #1</td>\n      <td>Wyoming</td>\n      <td>WY</td>\n    </tr>\n    <tr>\n      <th>19664</th>\n      <td>5680180</td>\n      <td>51500340100000</td>\n      <td>56</td>\n      <td>56005</td>\n      <td>N</td>\n      <td>23940</td>\n      <td>Northeast Wyoming BOCES</td>\n      <td>Wyoming</td>\n      <td>WY</td>\n    </tr>\n    <tr>\n      <th>19665</th>\n      <td>5680250</td>\n      <td>51502040100000</td>\n      <td>56</td>\n      <td>56039</td>\n      <td>N</td>\n      <td>27220</td>\n      <td>Region V BOCES</td>\n      <td>Wyoming</td>\n      <td>WY</td>\n    </tr>\n  </tbody>\n</table>\n<p>14473 rows × 9 columns</p>\n</div>"
     },
     "execution_count": 288,
     "metadata": {},
     "output_type": "execute_result"
    }
   ],
   "source": [
    "# Initialize an empty list for storing column names\n",
    "entity_columns = []\n",
    "\n",
    "# Iterate over each row in the mapping DataFrame\n",
    "for index, row in column_mapping_df.iterrows():\n",
    "    # Check if the table is 'entity' or 'all', and the column name is not 'year'\n",
    "    if row['Table'] in ['entity', 'all'] and row['New Name'] != 'year':\n",
    "        if row['New Name'] not in total_columns:\n",
    "            # Add the new column name to the list\n",
    "            entity_columns.append(row['New Name'])\n",
    "\n",
    "# Create a new DataFrame with only the selected columns\n",
    "entity = df[entity_columns].copy()\n",
    "entity\n"
   ],
   "metadata": {
    "collapsed": false,
    "ExecuteTime": {
     "end_time": "2023-11-05T04:05:54.188917Z",
     "start_time": "2023-11-05T04:05:54.183231Z"
    }
   },
   "id": "4a112cdace494d30"
  },
  {
   "cell_type": "markdown",
   "source": [
    "#### Create annual_stats DataFrame"
   ],
   "metadata": {
    "collapsed": false
   },
   "id": "79df842ce02b3546"
  },
  {
   "cell_type": "code",
   "execution_count": 289,
   "outputs": [
    {
     "data": {
      "text/plain": "            census_id school_level_code agency_charter_code  \\\n1      01504840100000                03                   3   \n2      01504800100000                03                   3   \n3      01503740100000                03                   3   \n4      01504530100000                03                   3   \n6      01503710100000                03                   3   \n...               ...               ...                 ...   \n19661  51502000200000                03                   3   \n19662  51502300200000                03                   3   \n19663  51502200400000                03                   3   \n19664  51500340100000                07                   3   \n19665  51502040100000                07                   3   \n\n       ccd_nonfiscal_match  census_fiscal_match low_grade_offered  \\\n1                     True                 True                PK   \n2                     True                 True                PK   \n3                     True                 True                PK   \n4                     True                 True                PK   \n6                     True                 True                PK   \n...                    ...                  ...               ...   \n19661                 True                 True                KG   \n19662                 True                 True                KG   \n19663                 True                 True                KG   \n19664                 True                 True                PK   \n19665                 True                 True                01   \n\n      high_grade_offered  fall_membership  fall_membership_school_univ  \\\n1                     12           5824.0                       5824.0   \n2                     12           5764.0                       5764.0   \n3                     12          14061.0                      14061.0   \n4                     12          11695.0                      11695.0   \n6                     12           2076.0                       2076.0   \n...                  ...              ...                          ...   \n19661                 12           2869.0                       2869.0   \n19662                 12            235.0                        235.0   \n19663                 12           1244.0                       1244.0   \n19664                 12              NaN                          1.0   \n19665                 12              NaN                          0.0   \n\n      fall_membership_flag fall_membership_school_univ_flag       year  \n1                        R                                R 2020-01-01  \n2                        R                                R 2020-01-01  \n3                        R                                R 2020-01-01  \n4                        R                                R 2020-01-01  \n6                        R                                R 2020-01-01  \n...                    ...                              ...        ...  \n19661                    R                                R 2020-01-01  \n19662                    R                                R 2020-01-01  \n19663                    R                                R 2020-01-01  \n19664                    A                                R 2020-01-01  \n19665                    N                                R 2020-01-01  \n\n[14473 rows x 12 columns]",
      "text/html": "<div>\n<style scoped>\n    .dataframe tbody tr th:only-of-type {\n        vertical-align: middle;\n    }\n\n    .dataframe tbody tr th {\n        vertical-align: top;\n    }\n\n    .dataframe thead th {\n        text-align: right;\n    }\n</style>\n<table border=\"1\" class=\"dataframe\">\n  <thead>\n    <tr style=\"text-align: right;\">\n      <th></th>\n      <th>census_id</th>\n      <th>school_level_code</th>\n      <th>agency_charter_code</th>\n      <th>ccd_nonfiscal_match</th>\n      <th>census_fiscal_match</th>\n      <th>low_grade_offered</th>\n      <th>high_grade_offered</th>\n      <th>fall_membership</th>\n      <th>fall_membership_school_univ</th>\n      <th>fall_membership_flag</th>\n      <th>fall_membership_school_univ_flag</th>\n      <th>year</th>\n    </tr>\n  </thead>\n  <tbody>\n    <tr>\n      <th>1</th>\n      <td>01504840100000</td>\n      <td>03</td>\n      <td>3</td>\n      <td>True</td>\n      <td>True</td>\n      <td>PK</td>\n      <td>12</td>\n      <td>5824.0</td>\n      <td>5824.0</td>\n      <td>R</td>\n      <td>R</td>\n      <td>2020-01-01</td>\n    </tr>\n    <tr>\n      <th>2</th>\n      <td>01504800100000</td>\n      <td>03</td>\n      <td>3</td>\n      <td>True</td>\n      <td>True</td>\n      <td>PK</td>\n      <td>12</td>\n      <td>5764.0</td>\n      <td>5764.0</td>\n      <td>R</td>\n      <td>R</td>\n      <td>2020-01-01</td>\n    </tr>\n    <tr>\n      <th>3</th>\n      <td>01503740100000</td>\n      <td>03</td>\n      <td>3</td>\n      <td>True</td>\n      <td>True</td>\n      <td>PK</td>\n      <td>12</td>\n      <td>14061.0</td>\n      <td>14061.0</td>\n      <td>R</td>\n      <td>R</td>\n      <td>2020-01-01</td>\n    </tr>\n    <tr>\n      <th>4</th>\n      <td>01504530100000</td>\n      <td>03</td>\n      <td>3</td>\n      <td>True</td>\n      <td>True</td>\n      <td>PK</td>\n      <td>12</td>\n      <td>11695.0</td>\n      <td>11695.0</td>\n      <td>R</td>\n      <td>R</td>\n      <td>2020-01-01</td>\n    </tr>\n    <tr>\n      <th>6</th>\n      <td>01503710100000</td>\n      <td>03</td>\n      <td>3</td>\n      <td>True</td>\n      <td>True</td>\n      <td>PK</td>\n      <td>12</td>\n      <td>2076.0</td>\n      <td>2076.0</td>\n      <td>R</td>\n      <td>R</td>\n      <td>2020-01-01</td>\n    </tr>\n    <tr>\n      <th>...</th>\n      <td>...</td>\n      <td>...</td>\n      <td>...</td>\n      <td>...</td>\n      <td>...</td>\n      <td>...</td>\n      <td>...</td>\n      <td>...</td>\n      <td>...</td>\n      <td>...</td>\n      <td>...</td>\n      <td>...</td>\n    </tr>\n    <tr>\n      <th>19661</th>\n      <td>51502000200000</td>\n      <td>03</td>\n      <td>3</td>\n      <td>True</td>\n      <td>True</td>\n      <td>KG</td>\n      <td>12</td>\n      <td>2869.0</td>\n      <td>2869.0</td>\n      <td>R</td>\n      <td>R</td>\n      <td>2020-01-01</td>\n    </tr>\n    <tr>\n      <th>19662</th>\n      <td>51502300200000</td>\n      <td>03</td>\n      <td>3</td>\n      <td>True</td>\n      <td>True</td>\n      <td>KG</td>\n      <td>12</td>\n      <td>235.0</td>\n      <td>235.0</td>\n      <td>R</td>\n      <td>R</td>\n      <td>2020-01-01</td>\n    </tr>\n    <tr>\n      <th>19663</th>\n      <td>51502200400000</td>\n      <td>03</td>\n      <td>3</td>\n      <td>True</td>\n      <td>True</td>\n      <td>KG</td>\n      <td>12</td>\n      <td>1244.0</td>\n      <td>1244.0</td>\n      <td>R</td>\n      <td>R</td>\n      <td>2020-01-01</td>\n    </tr>\n    <tr>\n      <th>19664</th>\n      <td>51500340100000</td>\n      <td>07</td>\n      <td>3</td>\n      <td>True</td>\n      <td>True</td>\n      <td>PK</td>\n      <td>12</td>\n      <td>NaN</td>\n      <td>1.0</td>\n      <td>A</td>\n      <td>R</td>\n      <td>2020-01-01</td>\n    </tr>\n    <tr>\n      <th>19665</th>\n      <td>51502040100000</td>\n      <td>07</td>\n      <td>3</td>\n      <td>True</td>\n      <td>True</td>\n      <td>01</td>\n      <td>12</td>\n      <td>NaN</td>\n      <td>0.0</td>\n      <td>N</td>\n      <td>R</td>\n      <td>2020-01-01</td>\n    </tr>\n  </tbody>\n</table>\n<p>14473 rows × 12 columns</p>\n</div>"
     },
     "execution_count": 289,
     "metadata": {},
     "output_type": "execute_result"
    }
   ],
   "source": [
    "# Initialize an empty list for storing column names\n",
    "annual_stats_columns = []\n",
    "\n",
    "# Iterate over each row in the mapping DataFrame\n",
    "for index, row in column_mapping_df.iterrows():\n",
    "    # Check if the table is 'annual_stats' or 'all'\n",
    "    if row['Table'] in ['annual_stats', 'all']:\n",
    "        if row['New Name'] not in total_columns:\n",
    "            # Add the new column name to the list\n",
    "            annual_stats_columns.append(row['New Name'])\n",
    "\n",
    "# Create a new DataFrame with only the selected columns\n",
    "annual_stats = df[annual_stats_columns].copy()\n",
    "\n",
    "# If 'year' is not the last column, move it to the end\n",
    "if 'year' in annual_stats.columns and annual_stats.columns[-1] != 'year':\n",
    "    # Get a list of all columns except 'year'\n",
    "    cols = [col for col in annual_stats.columns if col != 'year']\n",
    "    # Add 'year' at the end of the list\n",
    "    cols.append('year')\n",
    "    # Reorder the DataFrame\n",
    "    annual_stats = annual_stats[cols]\n",
    "\n",
    "annual_stats"
   ],
   "metadata": {
    "collapsed": false,
    "ExecuteTime": {
     "end_time": "2023-11-05T04:05:54.216354Z",
     "start_time": "2023-11-05T04:05:54.206135Z"
    }
   },
   "id": "2e788ca7aaafa6f3"
  },
  {
   "cell_type": "markdown",
   "source": [
    "### Expenses & Revenue Schema Tables"
   ],
   "metadata": {
    "collapsed": false
   },
   "id": "ab6e463dbff78c4f"
  },
  {
   "cell_type": "markdown",
   "source": [
    "#### `melt_df()`\n",
    "The purpose of this fuction is to convert the data from a wide format to a long format, which is optimal for data normalization in relational databases, and for data visualizations."
   ],
   "metadata": {
    "collapsed": false
   },
   "id": "135a0e193a370655"
  },
  {
   "cell_type": "code",
   "execution_count": 290,
   "outputs": [],
   "source": [
    "def melt_df(df: pd.DataFrame, schema: str, table: str, column_mapping_df: pd.DataFrame, total_columns: list) -> pd.DataFrame:\n",
    "    # Initialize an empty list for storing column names\n",
    "    columns_to_use = []\n",
    "    new_columns = []\n",
    "    \n",
    "    # Iterate over each row in the mapping DataFrame\n",
    "    for _, row in column_mapping_df.iterrows():\n",
    "        # Check if the table is the specified one or 'all'\n",
    "        if row['Table'] in [table, 'all']:\n",
    "            if row['New Name'] not in total_columns:\n",
    "                # Add the new column name to the list\n",
    "                columns_to_use.append(row['New Name'])\n",
    "    \n",
    "    # Create a new DataFrame with only the selected columns\n",
    "    new_df = df[columns_to_use].copy()\n",
    "    \n",
    "    # Select id_vars for the melt function\n",
    "    id_vars = ['census_id', 'year'] + [col for col in new_df.columns if col.endswith('_flag')]\n",
    "    \n",
    "    # Melt the DataFrame\n",
    "    if schema == 'expenses':\n",
    "        new_df = pd.melt(new_df, id_vars=id_vars, var_name='expenditure_title', value_name='amount')\n",
    "        # The new columns will be 'expenditure_title' and 'amount'\n",
    "        new_columns = ['expenditure_title', 'amount']\n",
    "    elif schema == 'revenue':\n",
    "        new_df = pd.melt(new_df, id_vars=id_vars, var_name='revenue_title', value_name='revenue')\n",
    "        # The new columns will be 'revenue_title' and 'revenue'\n",
    "        new_columns = ['revenue_title', 'revenue']\n",
    "    \n",
    "    # Ensure the new columns are at indexes 2 and 3\n",
    "    # Get the list of id_vars that don't include the new columns\n",
    "    remaining_columns = [col for col in id_vars if col not in new_columns]\n",
    "\n",
    "    # Reorder columns such that new columns are at index 2 and 3\n",
    "    ordered_columns = remaining_columns[:2] + new_columns + remaining_columns[2:]\n",
    "    \n",
    "    # Reassign the DataFrame with the ordered columns\n",
    "    new_df = new_df[ordered_columns]\n",
    "    \n",
    "    return new_df\n"
   ],
   "metadata": {
    "collapsed": false,
    "ExecuteTime": {
     "end_time": "2023-11-05T04:05:54.234315Z",
     "start_time": "2023-11-05T04:05:54.211567Z"
    }
   },
   "id": "8888b5eda9262cf8"
  },
  {
   "cell_type": "markdown",
   "source": [
    "#### Create expenditures DF"
   ],
   "metadata": {
    "collapsed": false
   },
   "id": "af82ed7ead081652"
  },
  {
   "cell_type": "code",
   "execution_count": 291,
   "outputs": [
    {
     "data": {
      "text/plain": "        census_id       year              expenditure_title       amount  \\\n0  01504840100000 2020-01-01  curr_expenditures_instruction   29888000.0   \n1  01504800100000 2020-01-01  curr_expenditures_instruction   34095000.0   \n2  01503740100000 2020-01-01  curr_expenditures_instruction  101645000.0   \n3  01504530100000 2020-01-01  curr_expenditures_instruction   70337000.0   \n4  01503710100000 2020-01-01  curr_expenditures_instruction   11546000.0   \n\n  curr_expenditures_instruction_flag payments_private_schools_flag  \\\n0                                  R                             R   \n1                                  R                             R   \n2                                  R                             R   \n3                                  R                             R   \n4                                  R                             R   \n\n  payments_charter_schools_flag support_services_pupils_flag  \\\n0                             M                            R   \n1                             M                            R   \n2                             M                            R   \n3                             M                            R   \n4                             M                            R   \n\n  support_services_instructional_staff_flag  \\\n0                                         R   \n1                                         R   \n2                                         R   \n3                                         R   \n4                                         R   \n\n  support_services_general_admin_flag  ...  \\\n0                                   R  ...   \n1                                   R  ...   \n2                                   R  ...   \n3                                   R  ...   \n4                                   R  ...   \n\n  special_education_expenditure_instructional_flag  \\\n0                                                R   \n1                                                R   \n2                                                R   \n3                                                R   \n4                                                R   \n\n  special_education_expenditure_pupil_support_flag  \\\n0                                                R   \n1                                                R   \n2                                                R   \n3                                                R   \n4                                                R   \n\n  special_education_expenditure_instructional_staff_support_flag  \\\n0                                                  R               \n1                                                  R               \n2                                                  R               \n3                                                  R               \n4                                                  R               \n\n  special_education_expenditure_student_transportation_support_flag  \\\n0                                                  R                  \n1                                                  R                  \n2                                                  R                  \n3                                                  R                  \n4                                                  R                  \n\n  cares_act_expenditure_curr_flag cares_act_expenditure_instructional_flag  \\\n0                               R                                        R   \n1                               R                                        R   \n2                               R                                        R   \n3                               R                                        R   \n4                               R                                        R   \n\n  cares_act_expenditure_support_services_flag  \\\n0                                           R   \n1                                           R   \n2                                           R   \n3                                           R   \n4                                           R   \n\n  cares_act_expenditure_capital_outlay_flag  \\\n0                                         R   \n1                                         R   \n2                                         R   \n3                                         R   \n4                                         R   \n\n  cares_act_expenditure_tech_related_supplies_services_flag  \\\n0                                                  R          \n1                                                  R          \n2                                                  R          \n3                                                  R          \n4                                                  R          \n\n  cares_act_expenditure_tech_related_equipment_flag  \n0                                                 R  \n1                                                 R  \n2                                                 R  \n3                                                 R  \n4                                                 R  \n\n[5 rows x 80 columns]",
      "text/html": "<div>\n<style scoped>\n    .dataframe tbody tr th:only-of-type {\n        vertical-align: middle;\n    }\n\n    .dataframe tbody tr th {\n        vertical-align: top;\n    }\n\n    .dataframe thead th {\n        text-align: right;\n    }\n</style>\n<table border=\"1\" class=\"dataframe\">\n  <thead>\n    <tr style=\"text-align: right;\">\n      <th></th>\n      <th>census_id</th>\n      <th>year</th>\n      <th>expenditure_title</th>\n      <th>amount</th>\n      <th>curr_expenditures_instruction_flag</th>\n      <th>payments_private_schools_flag</th>\n      <th>payments_charter_schools_flag</th>\n      <th>support_services_pupils_flag</th>\n      <th>support_services_instructional_staff_flag</th>\n      <th>support_services_general_admin_flag</th>\n      <th>...</th>\n      <th>special_education_expenditure_instructional_flag</th>\n      <th>special_education_expenditure_pupil_support_flag</th>\n      <th>special_education_expenditure_instructional_staff_support_flag</th>\n      <th>special_education_expenditure_student_transportation_support_flag</th>\n      <th>cares_act_expenditure_curr_flag</th>\n      <th>cares_act_expenditure_instructional_flag</th>\n      <th>cares_act_expenditure_support_services_flag</th>\n      <th>cares_act_expenditure_capital_outlay_flag</th>\n      <th>cares_act_expenditure_tech_related_supplies_services_flag</th>\n      <th>cares_act_expenditure_tech_related_equipment_flag</th>\n    </tr>\n  </thead>\n  <tbody>\n    <tr>\n      <th>0</th>\n      <td>01504840100000</td>\n      <td>2020-01-01</td>\n      <td>curr_expenditures_instruction</td>\n      <td>29888000.0</td>\n      <td>R</td>\n      <td>R</td>\n      <td>M</td>\n      <td>R</td>\n      <td>R</td>\n      <td>R</td>\n      <td>...</td>\n      <td>R</td>\n      <td>R</td>\n      <td>R</td>\n      <td>R</td>\n      <td>R</td>\n      <td>R</td>\n      <td>R</td>\n      <td>R</td>\n      <td>R</td>\n      <td>R</td>\n    </tr>\n    <tr>\n      <th>1</th>\n      <td>01504800100000</td>\n      <td>2020-01-01</td>\n      <td>curr_expenditures_instruction</td>\n      <td>34095000.0</td>\n      <td>R</td>\n      <td>R</td>\n      <td>M</td>\n      <td>R</td>\n      <td>R</td>\n      <td>R</td>\n      <td>...</td>\n      <td>R</td>\n      <td>R</td>\n      <td>R</td>\n      <td>R</td>\n      <td>R</td>\n      <td>R</td>\n      <td>R</td>\n      <td>R</td>\n      <td>R</td>\n      <td>R</td>\n    </tr>\n    <tr>\n      <th>2</th>\n      <td>01503740100000</td>\n      <td>2020-01-01</td>\n      <td>curr_expenditures_instruction</td>\n      <td>101645000.0</td>\n      <td>R</td>\n      <td>R</td>\n      <td>M</td>\n      <td>R</td>\n      <td>R</td>\n      <td>R</td>\n      <td>...</td>\n      <td>R</td>\n      <td>R</td>\n      <td>R</td>\n      <td>R</td>\n      <td>R</td>\n      <td>R</td>\n      <td>R</td>\n      <td>R</td>\n      <td>R</td>\n      <td>R</td>\n    </tr>\n    <tr>\n      <th>3</th>\n      <td>01504530100000</td>\n      <td>2020-01-01</td>\n      <td>curr_expenditures_instruction</td>\n      <td>70337000.0</td>\n      <td>R</td>\n      <td>R</td>\n      <td>M</td>\n      <td>R</td>\n      <td>R</td>\n      <td>R</td>\n      <td>...</td>\n      <td>R</td>\n      <td>R</td>\n      <td>R</td>\n      <td>R</td>\n      <td>R</td>\n      <td>R</td>\n      <td>R</td>\n      <td>R</td>\n      <td>R</td>\n      <td>R</td>\n    </tr>\n    <tr>\n      <th>4</th>\n      <td>01503710100000</td>\n      <td>2020-01-01</td>\n      <td>curr_expenditures_instruction</td>\n      <td>11546000.0</td>\n      <td>R</td>\n      <td>R</td>\n      <td>M</td>\n      <td>R</td>\n      <td>R</td>\n      <td>R</td>\n      <td>...</td>\n      <td>R</td>\n      <td>R</td>\n      <td>R</td>\n      <td>R</td>\n      <td>R</td>\n      <td>R</td>\n      <td>R</td>\n      <td>R</td>\n      <td>R</td>\n      <td>R</td>\n    </tr>\n  </tbody>\n</table>\n<p>5 rows × 80 columns</p>\n</div>"
     },
     "execution_count": 291,
     "metadata": {},
     "output_type": "execute_result"
    }
   ],
   "source": [
    "expenditures = melt_df(df,'expenses', 'expenditures', column_mapping_df, total_columns)\n",
    "expenditures.head()"
   ],
   "metadata": {
    "collapsed": false,
    "ExecuteTime": {
     "end_time": "2023-11-05T04:05:57.471269Z",
     "start_time": "2023-11-05T04:05:54.223844Z"
    }
   },
   "id": "52aaecc06c1cd812"
  },
  {
   "cell_type": "markdown",
   "source": [
    "#### Create local DataFrame"
   ],
   "metadata": {
    "collapsed": false
   },
   "id": "44c6616853516861"
  },
  {
   "cell_type": "code",
   "execution_count": 292,
   "outputs": [
    {
     "data": {
      "text/plain": "        census_id       year                    revenue_title  revenue  \\\n0  01504840100000 2020-01-01  parent_government_contributions      NaN   \n1  01504800100000 2020-01-01  parent_government_contributions      NaN   \n2  01503740100000 2020-01-01  parent_government_contributions      NaN   \n3  01504530100000 2020-01-01  parent_government_contributions      NaN   \n4  01503710100000 2020-01-01  parent_government_contributions      NaN   \n\n  parent_government_contributions_flag propery_taxes_flag  \\\n0                                    N                  R   \n1                                    N                  R   \n2                                    N                  R   \n3                                    N                  R   \n4                                    N                  R   \n\n  general_sales_tax_flag public_utility_taxes_flag  \\\n0                      M                         M   \n1                      M                         M   \n2                      M                         M   \n3                      M                         M   \n4                      M                         M   \n\n  individual_corporate_income_tax_flag all_other_taxes_flag  ...  \\\n0                                    M                    R  ...   \n1                                    M                    R  ...   \n2                                    M                    R  ...   \n3                                    M                    R  ...   \n4                                    M                    R  ...   \n\n  district_activity_receipts_flag students_fees_nonspecified_flag  \\\n0                               R                               R   \n1                               R                               R   \n2                               R                               R   \n3                               R                               R   \n4                               R                               R   \n\n  other_sales_and_services_flag rents_and_royalties_flag  \\\n0                             R                        R   \n1                             R                        R   \n2                             R                        R   \n3                             R                        R   \n4                             R                        R   \n\n  sale_of_property_flag interest_earnings_flag fines_and_forfeits_flag  \\\n0                     R                      R                       R   \n1                     R                      R                       R   \n2                     R                      R                       R   \n3                     R                      R                       R   \n4                     R                      R                       R   \n\n  private_contributions_local_flag misc_local_flag  \\\n0                                R               R   \n1                                R               R   \n2                                R               R   \n3                                R               R   \n4                                R               R   \n\n  nces_local_and_census_state_rev_flag  \n0                                    R  \n1                                    R  \n2                                    R  \n3                                    R  \n4                                    R  \n\n[5 rows x 26 columns]",
      "text/html": "<div>\n<style scoped>\n    .dataframe tbody tr th:only-of-type {\n        vertical-align: middle;\n    }\n\n    .dataframe tbody tr th {\n        vertical-align: top;\n    }\n\n    .dataframe thead th {\n        text-align: right;\n    }\n</style>\n<table border=\"1\" class=\"dataframe\">\n  <thead>\n    <tr style=\"text-align: right;\">\n      <th></th>\n      <th>census_id</th>\n      <th>year</th>\n      <th>revenue_title</th>\n      <th>revenue</th>\n      <th>parent_government_contributions_flag</th>\n      <th>propery_taxes_flag</th>\n      <th>general_sales_tax_flag</th>\n      <th>public_utility_taxes_flag</th>\n      <th>individual_corporate_income_tax_flag</th>\n      <th>all_other_taxes_flag</th>\n      <th>...</th>\n      <th>district_activity_receipts_flag</th>\n      <th>students_fees_nonspecified_flag</th>\n      <th>other_sales_and_services_flag</th>\n      <th>rents_and_royalties_flag</th>\n      <th>sale_of_property_flag</th>\n      <th>interest_earnings_flag</th>\n      <th>fines_and_forfeits_flag</th>\n      <th>private_contributions_local_flag</th>\n      <th>misc_local_flag</th>\n      <th>nces_local_and_census_state_rev_flag</th>\n    </tr>\n  </thead>\n  <tbody>\n    <tr>\n      <th>0</th>\n      <td>01504840100000</td>\n      <td>2020-01-01</td>\n      <td>parent_government_contributions</td>\n      <td>NaN</td>\n      <td>N</td>\n      <td>R</td>\n      <td>M</td>\n      <td>M</td>\n      <td>M</td>\n      <td>R</td>\n      <td>...</td>\n      <td>R</td>\n      <td>R</td>\n      <td>R</td>\n      <td>R</td>\n      <td>R</td>\n      <td>R</td>\n      <td>R</td>\n      <td>R</td>\n      <td>R</td>\n      <td>R</td>\n    </tr>\n    <tr>\n      <th>1</th>\n      <td>01504800100000</td>\n      <td>2020-01-01</td>\n      <td>parent_government_contributions</td>\n      <td>NaN</td>\n      <td>N</td>\n      <td>R</td>\n      <td>M</td>\n      <td>M</td>\n      <td>M</td>\n      <td>R</td>\n      <td>...</td>\n      <td>R</td>\n      <td>R</td>\n      <td>R</td>\n      <td>R</td>\n      <td>R</td>\n      <td>R</td>\n      <td>R</td>\n      <td>R</td>\n      <td>R</td>\n      <td>R</td>\n    </tr>\n    <tr>\n      <th>2</th>\n      <td>01503740100000</td>\n      <td>2020-01-01</td>\n      <td>parent_government_contributions</td>\n      <td>NaN</td>\n      <td>N</td>\n      <td>R</td>\n      <td>M</td>\n      <td>M</td>\n      <td>M</td>\n      <td>R</td>\n      <td>...</td>\n      <td>R</td>\n      <td>R</td>\n      <td>R</td>\n      <td>R</td>\n      <td>R</td>\n      <td>R</td>\n      <td>R</td>\n      <td>R</td>\n      <td>R</td>\n      <td>R</td>\n    </tr>\n    <tr>\n      <th>3</th>\n      <td>01504530100000</td>\n      <td>2020-01-01</td>\n      <td>parent_government_contributions</td>\n      <td>NaN</td>\n      <td>N</td>\n      <td>R</td>\n      <td>M</td>\n      <td>M</td>\n      <td>M</td>\n      <td>R</td>\n      <td>...</td>\n      <td>R</td>\n      <td>R</td>\n      <td>R</td>\n      <td>R</td>\n      <td>R</td>\n      <td>R</td>\n      <td>R</td>\n      <td>R</td>\n      <td>R</td>\n      <td>R</td>\n    </tr>\n    <tr>\n      <th>4</th>\n      <td>01503710100000</td>\n      <td>2020-01-01</td>\n      <td>parent_government_contributions</td>\n      <td>NaN</td>\n      <td>N</td>\n      <td>R</td>\n      <td>M</td>\n      <td>M</td>\n      <td>M</td>\n      <td>R</td>\n      <td>...</td>\n      <td>R</td>\n      <td>R</td>\n      <td>R</td>\n      <td>R</td>\n      <td>R</td>\n      <td>R</td>\n      <td>R</td>\n      <td>R</td>\n      <td>R</td>\n      <td>R</td>\n    </tr>\n  </tbody>\n</table>\n<p>5 rows × 26 columns</p>\n</div>"
     },
     "execution_count": 292,
     "metadata": {},
     "output_type": "execute_result"
    }
   ],
   "source": [
    "local = melt_df(df,'revenue', 'local_revenue', column_mapping_df, total_columns)\n",
    "local.head()"
   ],
   "metadata": {
    "collapsed": false,
    "ExecuteTime": {
     "end_time": "2023-11-05T04:05:57.760314Z",
     "start_time": "2023-11-05T04:05:57.480735Z"
    }
   },
   "id": "cf3c9f62107e88c1"
  },
  {
   "cell_type": "markdown",
   "source": [
    "#### Create state DataFrame"
   ],
   "metadata": {
    "collapsed": false
   },
   "id": "3cbe7ec61e436771"
  },
  {
   "cell_type": "code",
   "execution_count": 293,
   "outputs": [
    {
     "data": {
      "text/plain": "        census_id       year               revenue_title     revenue  \\\n0  01504840100000 2020-01-01  general_formula_assistance  31112000.0   \n1  01504800100000 2020-01-01  general_formula_assistance  32252000.0   \n2  01503740100000 2020-01-01  general_formula_assistance  66762000.0   \n3  01504530100000 2020-01-01  general_formula_assistance  60055000.0   \n4  01503710100000 2020-01-01  general_formula_assistance  10406000.0   \n\n  general_formula_assistance_flag staff_improvement_programs_flag  \\\n0                               R                               R   \n1                               R                               R   \n2                               R                               R   \n3                               R                               R   \n4                               R                               R   \n\n  special_education_programs_flag compensatory_basic_skills_programs_flag  \\\n0                               R                                       R   \n1                               R                                       R   \n2                               R                                       R   \n3                               R                                       R   \n4                               R                                       R   \n\n  bilingual_education_state_flag gifted_talented_programs_flag  \\\n0                              R                             M   \n1                              R                             M   \n2                              R                             M   \n3                              R                             M   \n4                              R                             M   \n\n  vocational_education_programs_flag school_lunch_programs_flag  \\\n0                                  M                          M   \n1                                  M                          M   \n2                                  M                          M   \n3                                  M                          M   \n4                                  M                          M   \n\n  capital_outlay_debit_services_programs_flag transportation_programs_flag  \\\n0                                           R                            R   \n1                                           R                            R   \n2                                           R                            R   \n3                                           R                            R   \n4                                           R                            R   \n\n  other_programs_state_flag nonspecified_state_flag  \\\n0                         R                       R   \n1                         R                       R   \n2                         R                       R   \n3                         R                       R   \n4                         R                       R   \n\n  employee_benefits_state_flag not_employee_benefits_state_flag  \n0                            M                                M  \n1                            M                                M  \n2                            M                                M  \n3                            M                                M  \n4                            M                                M  ",
      "text/html": "<div>\n<style scoped>\n    .dataframe tbody tr th:only-of-type {\n        vertical-align: middle;\n    }\n\n    .dataframe tbody tr th {\n        vertical-align: top;\n    }\n\n    .dataframe thead th {\n        text-align: right;\n    }\n</style>\n<table border=\"1\" class=\"dataframe\">\n  <thead>\n    <tr style=\"text-align: right;\">\n      <th></th>\n      <th>census_id</th>\n      <th>year</th>\n      <th>revenue_title</th>\n      <th>revenue</th>\n      <th>general_formula_assistance_flag</th>\n      <th>staff_improvement_programs_flag</th>\n      <th>special_education_programs_flag</th>\n      <th>compensatory_basic_skills_programs_flag</th>\n      <th>bilingual_education_state_flag</th>\n      <th>gifted_talented_programs_flag</th>\n      <th>vocational_education_programs_flag</th>\n      <th>school_lunch_programs_flag</th>\n      <th>capital_outlay_debit_services_programs_flag</th>\n      <th>transportation_programs_flag</th>\n      <th>other_programs_state_flag</th>\n      <th>nonspecified_state_flag</th>\n      <th>employee_benefits_state_flag</th>\n      <th>not_employee_benefits_state_flag</th>\n    </tr>\n  </thead>\n  <tbody>\n    <tr>\n      <th>0</th>\n      <td>01504840100000</td>\n      <td>2020-01-01</td>\n      <td>general_formula_assistance</td>\n      <td>31112000.0</td>\n      <td>R</td>\n      <td>R</td>\n      <td>R</td>\n      <td>R</td>\n      <td>R</td>\n      <td>M</td>\n      <td>M</td>\n      <td>M</td>\n      <td>R</td>\n      <td>R</td>\n      <td>R</td>\n      <td>R</td>\n      <td>M</td>\n      <td>M</td>\n    </tr>\n    <tr>\n      <th>1</th>\n      <td>01504800100000</td>\n      <td>2020-01-01</td>\n      <td>general_formula_assistance</td>\n      <td>32252000.0</td>\n      <td>R</td>\n      <td>R</td>\n      <td>R</td>\n      <td>R</td>\n      <td>R</td>\n      <td>M</td>\n      <td>M</td>\n      <td>M</td>\n      <td>R</td>\n      <td>R</td>\n      <td>R</td>\n      <td>R</td>\n      <td>M</td>\n      <td>M</td>\n    </tr>\n    <tr>\n      <th>2</th>\n      <td>01503740100000</td>\n      <td>2020-01-01</td>\n      <td>general_formula_assistance</td>\n      <td>66762000.0</td>\n      <td>R</td>\n      <td>R</td>\n      <td>R</td>\n      <td>R</td>\n      <td>R</td>\n      <td>M</td>\n      <td>M</td>\n      <td>M</td>\n      <td>R</td>\n      <td>R</td>\n      <td>R</td>\n      <td>R</td>\n      <td>M</td>\n      <td>M</td>\n    </tr>\n    <tr>\n      <th>3</th>\n      <td>01504530100000</td>\n      <td>2020-01-01</td>\n      <td>general_formula_assistance</td>\n      <td>60055000.0</td>\n      <td>R</td>\n      <td>R</td>\n      <td>R</td>\n      <td>R</td>\n      <td>R</td>\n      <td>M</td>\n      <td>M</td>\n      <td>M</td>\n      <td>R</td>\n      <td>R</td>\n      <td>R</td>\n      <td>R</td>\n      <td>M</td>\n      <td>M</td>\n    </tr>\n    <tr>\n      <th>4</th>\n      <td>01503710100000</td>\n      <td>2020-01-01</td>\n      <td>general_formula_assistance</td>\n      <td>10406000.0</td>\n      <td>R</td>\n      <td>R</td>\n      <td>R</td>\n      <td>R</td>\n      <td>R</td>\n      <td>M</td>\n      <td>M</td>\n      <td>M</td>\n      <td>R</td>\n      <td>R</td>\n      <td>R</td>\n      <td>R</td>\n      <td>M</td>\n      <td>M</td>\n    </tr>\n  </tbody>\n</table>\n</div>"
     },
     "execution_count": 293,
     "metadata": {},
     "output_type": "execute_result"
    }
   ],
   "source": [
    "state = melt_df(df,'revenue', 'state_revenue', column_mapping_df, total_columns)\n",
    "state.head()"
   ],
   "metadata": {
    "collapsed": false,
    "ExecuteTime": {
     "end_time": "2023-11-05T04:05:57.898213Z",
     "start_time": "2023-11-05T04:05:57.773439Z"
    }
   },
   "id": "a14ff36858c9fbc1"
  },
  {
   "cell_type": "markdown",
   "source": [
    "#### Create federal DataFrame"
   ],
   "metadata": {
    "collapsed": false
   },
   "id": "f08f5c9ab9563b26"
  },
  {
   "cell_type": "code",
   "execution_count": 294,
   "outputs": [
    {
     "data": {
      "text/plain": "        census_id       year       revenue_title    revenue title_I_flag  \\\n0  01504840100000 2020-01-01  title_I_thru_state  1775000.0            R   \n1  01504800100000 2020-01-01  title_I_thru_state  2594000.0            R   \n2  01503740100000 2020-01-01  title_I_thru_state  1047000.0            R   \n3  01504530100000 2020-01-01  title_I_thru_state   773000.0            R   \n4  01503710100000 2020-01-01  title_I_thru_state   379000.0            R   \n\n  indiv_with_disabilities_flag voc_tech_education_flag  \\\n0                            R                       R   \n1                            R                       R   \n2                            R                       R   \n3                            R                       R   \n4                            R                       R   \n\n  effective_instruction_support_flag student_support_academic_enrich_flag  \\\n0                                  R                                    R   \n1                                  R                                    R   \n2                                  R                                    R   \n3                                  R                                    R   \n4                                  R                                    R   \n\n  21st_century_learning_centers_flag  ... impact_aid_direct_flag  \\\n0                                  R  ...                      R   \n1                                  R  ...                      R   \n2                                  R  ...                      R   \n3                                  R  ...                      R   \n4                                  R  ...                      R   \n\n  indian_education_direct_flag  \\\n0                            R   \n1                            R   \n2                            R   \n3                            R   \n4                            R   \n\n  small_rural_school_achievement_program_direct_flag  \\\n0                                                  M   \n1                                                  M   \n2                                                  M   \n3                                                  M   \n4                                                  M   \n\n  other_direct_fed_rev_flag esser_fund_flag geer_fund_flag  \\\n0                         R               R              R   \n1                         R               R              R   \n2                         R               R              R   \n3                         R               R              R   \n4                         R               R              R   \n\n  education_stabilization_fund_esf_rwp_grant_flag  \\\n0                                               R   \n1                                               R   \n2                                               R   \n3                                               R   \n4                                               R   \n\n  education_stabilization_fund_esf_rem_grant_flag project_serv_flag  \\\n0                                               R                 R   \n1                                               R                 R   \n2                                               R                 R   \n3                                               R                 R   \n4                                               R                 R   \n\n  coronavirus_relief_fund_flag  \n0                            R  \n1                            R  \n2                            R  \n3                            R  \n4                            R  \n\n[5 rows x 25 columns]",
      "text/html": "<div>\n<style scoped>\n    .dataframe tbody tr th:only-of-type {\n        vertical-align: middle;\n    }\n\n    .dataframe tbody tr th {\n        vertical-align: top;\n    }\n\n    .dataframe thead th {\n        text-align: right;\n    }\n</style>\n<table border=\"1\" class=\"dataframe\">\n  <thead>\n    <tr style=\"text-align: right;\">\n      <th></th>\n      <th>census_id</th>\n      <th>year</th>\n      <th>revenue_title</th>\n      <th>revenue</th>\n      <th>title_I_flag</th>\n      <th>indiv_with_disabilities_flag</th>\n      <th>voc_tech_education_flag</th>\n      <th>effective_instruction_support_flag</th>\n      <th>student_support_academic_enrich_flag</th>\n      <th>21st_century_learning_centers_flag</th>\n      <th>...</th>\n      <th>impact_aid_direct_flag</th>\n      <th>indian_education_direct_flag</th>\n      <th>small_rural_school_achievement_program_direct_flag</th>\n      <th>other_direct_fed_rev_flag</th>\n      <th>esser_fund_flag</th>\n      <th>geer_fund_flag</th>\n      <th>education_stabilization_fund_esf_rwp_grant_flag</th>\n      <th>education_stabilization_fund_esf_rem_grant_flag</th>\n      <th>project_serv_flag</th>\n      <th>coronavirus_relief_fund_flag</th>\n    </tr>\n  </thead>\n  <tbody>\n    <tr>\n      <th>0</th>\n      <td>01504840100000</td>\n      <td>2020-01-01</td>\n      <td>title_I_thru_state</td>\n      <td>1775000.0</td>\n      <td>R</td>\n      <td>R</td>\n      <td>R</td>\n      <td>R</td>\n      <td>R</td>\n      <td>R</td>\n      <td>...</td>\n      <td>R</td>\n      <td>R</td>\n      <td>M</td>\n      <td>R</td>\n      <td>R</td>\n      <td>R</td>\n      <td>R</td>\n      <td>R</td>\n      <td>R</td>\n      <td>R</td>\n    </tr>\n    <tr>\n      <th>1</th>\n      <td>01504800100000</td>\n      <td>2020-01-01</td>\n      <td>title_I_thru_state</td>\n      <td>2594000.0</td>\n      <td>R</td>\n      <td>R</td>\n      <td>R</td>\n      <td>R</td>\n      <td>R</td>\n      <td>R</td>\n      <td>...</td>\n      <td>R</td>\n      <td>R</td>\n      <td>M</td>\n      <td>R</td>\n      <td>R</td>\n      <td>R</td>\n      <td>R</td>\n      <td>R</td>\n      <td>R</td>\n      <td>R</td>\n    </tr>\n    <tr>\n      <th>2</th>\n      <td>01503740100000</td>\n      <td>2020-01-01</td>\n      <td>title_I_thru_state</td>\n      <td>1047000.0</td>\n      <td>R</td>\n      <td>R</td>\n      <td>R</td>\n      <td>R</td>\n      <td>R</td>\n      <td>R</td>\n      <td>...</td>\n      <td>R</td>\n      <td>R</td>\n      <td>M</td>\n      <td>R</td>\n      <td>R</td>\n      <td>R</td>\n      <td>R</td>\n      <td>R</td>\n      <td>R</td>\n      <td>R</td>\n    </tr>\n    <tr>\n      <th>3</th>\n      <td>01504530100000</td>\n      <td>2020-01-01</td>\n      <td>title_I_thru_state</td>\n      <td>773000.0</td>\n      <td>R</td>\n      <td>R</td>\n      <td>R</td>\n      <td>R</td>\n      <td>R</td>\n      <td>R</td>\n      <td>...</td>\n      <td>R</td>\n      <td>R</td>\n      <td>M</td>\n      <td>R</td>\n      <td>R</td>\n      <td>R</td>\n      <td>R</td>\n      <td>R</td>\n      <td>R</td>\n      <td>R</td>\n    </tr>\n    <tr>\n      <th>4</th>\n      <td>01503710100000</td>\n      <td>2020-01-01</td>\n      <td>title_I_thru_state</td>\n      <td>379000.0</td>\n      <td>R</td>\n      <td>R</td>\n      <td>R</td>\n      <td>R</td>\n      <td>R</td>\n      <td>R</td>\n      <td>...</td>\n      <td>R</td>\n      <td>R</td>\n      <td>M</td>\n      <td>R</td>\n      <td>R</td>\n      <td>R</td>\n      <td>R</td>\n      <td>R</td>\n      <td>R</td>\n      <td>R</td>\n    </tr>\n  </tbody>\n</table>\n<p>5 rows × 25 columns</p>\n</div>"
     },
     "execution_count": 294,
     "metadata": {},
     "output_type": "execute_result"
    }
   ],
   "source": [
    "federal = melt_df(df,'revenue', 'federal_revenue', column_mapping_df, total_columns)\n",
    "federal.head()"
   ],
   "metadata": {
    "collapsed": false,
    "ExecuteTime": {
     "end_time": "2023-11-05T04:05:58.137958Z",
     "start_time": "2023-11-05T04:05:57.908303Z"
    }
   },
   "id": "cb02b567266e5ed3"
  },
  {
   "cell_type": "markdown",
   "source": [
    "## Create Database Mapping\n",
    "The keys of the dictionary are the table names within the database.\n",
    "Values:\n",
    "- Index 0 = Schema Name\n",
    "- Index 1 = DataFrame Name"
   ],
   "metadata": {
    "collapsed": false
   },
   "id": "389afba7e36a513a"
  },
  {
   "cell_type": "code",
   "execution_count": 295,
   "outputs": [],
   "source": [
    "database_map = {'entity' : ['entity', entity],\n",
    "                'annual_stats' : ['entity', annual_stats],\n",
    "                'expenditures' : ['expenses', expenditures],\n",
    "                'federal_revenue' : ['revenue', federal],\n",
    "                'state_revenue' : ['revenue', state],\n",
    "                'local_revenue' : ['revenue', local]}"
   ],
   "metadata": {
    "collapsed": false,
    "ExecuteTime": {
     "end_time": "2023-11-05T04:05:58.143736Z",
     "start_time": "2023-11-05T04:05:58.139190Z"
    }
   },
   "id": "7062343ee88d3dad"
  },
  {
   "cell_type": "markdown",
   "source": [
    "## Database Initialization with Mapped Data\n",
    "The code snippet enclosed within the conditional block is designed for the initial population of the database. As this project evolves, we will enhance this section with more sophisticated logic and additional functionality to support incremental updates and data management requirements."
   ],
   "metadata": {
    "collapsed": false
   },
   "id": "57e7593a12b696ff"
  },
  {
   "cell_type": "code",
   "execution_count": 296,
   "outputs": [],
   "source": [
    "# use_database = input(\"Enter 'y' to use database script. Else enter 'n'\")\n",
    "use_database = 'n'\n",
    "if use_database == 'y':\n",
    "    \n",
    "    # Read in database credentials from JSON file\n",
    "    with open('LEA_Finance_Survey_DB.json') as infile:\n",
    "        credentials = json.load(infile)\n",
    "    \n",
    "    # Assign Credentials to Variables\n",
    "    database_name = credentials['database']\n",
    "    username = credentials['user']\n",
    "    password = credentials['password']\n",
    "    host = credentials['host']\n",
    "    port = credentials['port']\n",
    "\n",
    "    # Create a database connection using SQLAlchemy engine\n",
    "    engine = create_engine(f'postgresql://{username}:{password}@{host}:{port}/{database_name}')\n",
    "    \n",
    "    populate_new_tables = 'n'\n",
    "\n",
    "    if populate_new_tables == 'y':\n",
    "        # Iterate over the database_map to insert each DataFrame\n",
    "        for table_name, [schema_name, df_to_export] in database_map.items():\n",
    "            df_to_export.to_sql(table_name, engine, schema=schema_name, if_exists='append', index=False)\n",
    "\n",
    "    engine.dispose()\n"
   ],
   "metadata": {
    "collapsed": false,
    "ExecuteTime": {
     "end_time": "2023-11-05T04:11:45.315848Z",
     "start_time": "2023-11-05T04:05:58.143218Z"
    }
   },
   "id": "58c7fd6d7d811938"
  },
  {
   "cell_type": "markdown",
   "source": [
    "### Data Normalization for Visualization\n",
    "\n",
    "In preparing our dataset for visualization in Tableau, we employ normalization techniques on specific columns to ensure that our visualizations are not biased by the scale of the data:\n",
    "\n",
    "#### Min-Max Scaling\n",
    "- **Purpose**: To transform the data into a fixed range of 0 to 1, making it easier to visualize different variables on the same scale without distorting the distribution of values. This is particularly important when creating comparative visualizations, such as heatmaps or line charts, where relative scales matter.\n",
    "- **Applied to**: Columns like `[revenue]`, where we need to maintain the relative distribution of the values for accurate visual comparison.\n",
    "\n",
    "#### Z-Score Standardization\n",
    "- **Purpose**: To standardize values so that they have a mean of zero and a standard deviation of one. This normalization is useful for visualizations that compare the relative standing of data points within a distribution, such as histograms or scatter plots.\n",
    "- **Applied to**: Columns like `[revenue]`, which benefits from showing how many standard deviations away from the mean the data points are, thus facilitating a clear interpretation of outliers and distribution spread.\n",
    "\n",
    "By normalizing the data before visualization, we aim to create clear and meaningful visualizations in Tableau that accurately represent the underlying data without the distortion that can come from varying scales."
   ],
   "metadata": {
    "collapsed": false
   },
   "id": "3f82882a84cb0916"
  },
  {
   "cell_type": "code",
   "execution_count": 301,
   "outputs": [],
   "source": [
    "scaler = MinMaxScaler()\n",
    "\n",
    "expenditures[\"amount (Min/Max Scale)\"] = scaler.fit_transform(expenditures[[\"amount\"]])\n",
    "federal[\"revenue (Min/Max Scale)\"] = scaler.fit_transform(federal[[\"revenue\"]])\n",
    "state[\"revenue (Min/Max Scale)\"] = scaler.fit_transform(state[[\"revenue\"]])\n",
    "local[\"revenue (Min/Max Scale)\"] = scaler.fit_transform(local[[\"revenue\"]])"
   ],
   "metadata": {
    "collapsed": false,
    "ExecuteTime": {
     "end_time": "2023-11-05T04:39:27.256379Z",
     "start_time": "2023-11-05T04:39:27.224052Z"
    }
   },
   "id": "6fe33a6527b71d37"
  },
  {
   "cell_type": "code",
   "execution_count": 302,
   "outputs": [],
   "source": [
    "scaler = StandardScaler()\n",
    "\n",
    "expenditures[\"amount (Z-Score Std)\"] = scaler.fit_transform(expenditures[[\"amount\"]])\n",
    "federal[\"revenue (Z-Score Std)\"] = scaler.fit_transform(federal[[\"revenue\"]])\n",
    "state[\"revenue (Z-Score Std)\"] = scaler.fit_transform(state[[\"revenue\"]])\n",
    "local[\"revenue (Z-Score Std)\"] = scaler.fit_transform(local[[\"revenue\"]])"
   ],
   "metadata": {
    "collapsed": false,
    "ExecuteTime": {
     "end_time": "2023-11-05T04:39:29.172798Z",
     "start_time": "2023-11-05T04:39:29.141167Z"
    }
   },
   "id": "97f758e1dfa456fa"
  },
  {
   "cell_type": "markdown",
   "source": [
    "### Code Commentary on Exporting DataFrames\n",
    "\n",
    "The subsequent code snippet performs the operation of exporting DataFrames to CSV files. These CSV files include derived values such as Z-Scores and Min/Max statistics. This export facilitates further analysis in data visualization tools like Tableau. Although these derived values are excluded from the database for flexibility and to adhere to best practices, they are being included in the CSV exports specifically for the purpose of exploratory analysis outside the database environment."
   ],
   "metadata": {
    "collapsed": false
   },
   "id": "f611c2ba2857b74c"
  },
  {
   "cell_type": "code",
   "execution_count": 303,
   "outputs": [],
   "source": [
    "entity.to_csv('LEA Finance Survey – Entity Data.csv')\n",
    "annual_stats.to_csv('LEA Finance Survey – Entity – Annual Stats Data.csv')\n",
    "expenditures.to_csv('LEA Finance Survey – Expenditures Data.csv')\n",
    "federal.to_csv('LEA Finance Survey – Federal Revenue Data.csv')\n",
    "state.to_csv('LEA Finance Survey – State Revenue Data.csv')\n",
    "local.to_csv('LEA Finance Survey – Local Revenue Data.csv')"
   ],
   "metadata": {
    "collapsed": false,
    "ExecuteTime": {
     "end_time": "2023-11-05T04:39:48.764383Z",
     "start_time": "2023-11-05T04:39:31.144605Z"
    }
   },
   "id": "d4eeffe46054a91d"
  },
  {
   "cell_type": "code",
   "execution_count": 299,
   "outputs": [],
   "source": [],
   "metadata": {
    "collapsed": false,
    "ExecuteTime": {
     "end_time": "2023-11-05T04:11:45.348859Z",
     "start_time": "2023-11-05T04:11:45.344789Z"
    }
   },
   "id": "4e77aeb8338837d3"
  },
  {
   "cell_type": "code",
   "execution_count": 299,
   "outputs": [],
   "source": [],
   "metadata": {
    "collapsed": false,
    "ExecuteTime": {
     "end_time": "2023-11-05T04:11:45.348890Z",
     "start_time": "2023-11-05T04:11:45.347359Z"
    }
   },
   "id": "d9ee4b347c9ad62c"
  }
 ],
 "metadata": {
  "kernelspec": {
   "display_name": "Python 3",
   "language": "python",
   "name": "python3"
  },
  "language_info": {
   "codemirror_mode": {
    "name": "ipython",
    "version": 2
   },
   "file_extension": ".py",
   "mimetype": "text/x-python",
   "name": "python",
   "nbconvert_exporter": "python",
   "pygments_lexer": "ipython2",
   "version": "2.7.6"
  }
 },
 "nbformat": 4,
 "nbformat_minor": 5
}
