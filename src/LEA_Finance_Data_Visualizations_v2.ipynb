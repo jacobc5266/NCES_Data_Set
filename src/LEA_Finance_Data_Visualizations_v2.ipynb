{
 "cells": [
  {
   "cell_type": "markdown",
   "metadata": {},
   "source": [
    "# LEA School District Finance Survey – Data Visualizations\n"
   ]
  },
  {
   "cell_type": "markdown",
   "metadata": {},
   "source": [
    "#### Note: This project is still in progress"
   ]
  },
  {
   "cell_type": "code",
   "execution_count": 57,
   "metadata": {
    "ExecuteTime": {
     "end_time": "2023-12-21T22:58:40.143935Z",
     "start_time": "2023-12-21T22:58:40.112563Z"
    }
   },
   "outputs": [],
   "source": [
    "import pandas as pd\n",
    "import numpy as np\n",
    "import os\n",
    "import json\n",
    "import psycopg2\n",
    "from psycopg2 import OperationalError\n",
    "import plotly.express as px\n",
    "from plotly.subplots import make_subplots\n",
    "import plotly.graph_objects as go\n",
    "import seaborn as sns\n",
    "import matplotlib.pyplot as plt\n",
    "import matplotlib.ticker as ticker\n",
    "from sklearn.preprocessing import MinMaxScaler\n",
    "from sklearn.preprocessing import StandardScaler"
   ]
  },
  {
   "cell_type": "markdown",
   "metadata": {},
   "source": [
    "### Connect to Database & Create DataFrames | Exploratory Analysis"
   ]
  },
  {
   "cell_type": "code",
   "execution_count": 58,
   "metadata": {},
   "outputs": [],
   "source": [
    "def execute_sql(query: str, conn) -> pd.DataFrame:\n",
    "    # Create a new cursor\n",
    "    cur = conn.cursor()\n",
    "    try:\n",
    "        # Create a new cursor using the connection passed as an argument\n",
    "        cur = conn.cursor()\n",
    "        \n",
    "        # Execute the SQL query\n",
    "        cur.execute(query)\n",
    "\n",
    "        # Fetch the results\n",
    "        rows = cur.fetchall()\n",
    "\n",
    "        # Get the column names\n",
    "        colnames = [desc[0] for desc in cur.description]\n",
    "\n",
    "        # Convert query to dataframe\n",
    "        df = pd.DataFrame(rows, columns=colnames)\n",
    "\n",
    "    except OperationalError as e:\n",
    "        print(f\"An error occurred: {e}\")\n",
    "        df = pd.DataFrame()\n",
    "    finally:\n",
    "        # Close the cursor after the operation is complete\n",
    "        if cur is not None:\n",
    "            cur.close()\n",
    "    \n",
    "    return df"
   ]
  },
  {
   "cell_type": "code",
   "execution_count": 59,
   "metadata": {
    "ExecuteTime": {
     "end_time": "2023-12-21T22:58:40.146621Z",
     "start_time": "2023-12-21T22:58:40.118751Z"
    }
   },
   "outputs": [],
   "source": [
    "# Import database credentials from json file\n",
    "db_credentials_file_name = 'LEA_Finance_Survey_DB.json'\n",
    "db_credentials_path = os.path.join(\"..\", db_credentials_file_name)\n",
    "with open(db_credentials_path) as infile:\n",
    "    credentials = json.load(infile)\n",
    "    \n",
    "# Assign Credentials to Variables\n",
    "database_name = credentials['database']\n",
    "username = credentials['user']\n",
    "password = credentials['password']\n",
    "host = credentials['host']\n",
    "port = credentials['port']\n",
    "\n",
    "# Establish a connection to the database\n",
    "conn = psycopg2.connect(\n",
    "    dbname=database_name,\n",
    "    user=username,\n",
    "    password=password,\n",
    "    host=host,\n",
    "    port=port\n",
    ")"
   ]
  },
  {
   "cell_type": "code",
   "execution_count": 60,
   "metadata": {
    "ExecuteTime": {
     "end_time": "2023-12-21T22:58:40.146712Z",
     "start_time": "2023-12-21T22:58:40.123799Z"
    }
   },
   "outputs": [],
   "source": [
    "# Query expenditure data\n",
    "query = \"\"\"\n",
    "SELECT \n",
    "    state, \n",
    "    expenditure_title, \n",
    "    year, \n",
    "    SUM(amount) AS amount, \n",
    "    AVG(amount_z_score) AS amount_z_score_avg \n",
    "FROM expenses.expenditure_zscores_by_state_year\n",
    "WHERE expenditure_title ILIKE '%tech%' \n",
    "OR expenditure_title ILIKE '%vocation%'\n",
    "GROUP BY state, year, expenditure_title\n",
    "ORDER BY state, year, expenditure_title;\n",
    "\"\"\""
   ]
  },
  {
   "cell_type": "code",
   "execution_count": 61,
   "metadata": {
    "ExecuteTime": {
     "end_time": "2023-12-21T22:58:40.192865Z",
     "start_time": "2023-12-21T22:58:40.192689Z"
    }
   },
   "outputs": [
    {
     "data": {
      "text/html": [
       "<div>\n",
       "<style scoped>\n",
       "    .dataframe tbody tr th:only-of-type {\n",
       "        vertical-align: middle;\n",
       "    }\n",
       "\n",
       "    .dataframe tbody tr th {\n",
       "        vertical-align: top;\n",
       "    }\n",
       "\n",
       "    .dataframe thead th {\n",
       "        text-align: right;\n",
       "    }\n",
       "</style>\n",
       "<table border=\"1\" class=\"dataframe\">\n",
       "  <thead>\n",
       "    <tr style=\"text-align: right;\">\n",
       "      <th></th>\n",
       "      <th>state</th>\n",
       "      <th>expenditure_title</th>\n",
       "      <th>year</th>\n",
       "      <th>amount</th>\n",
       "      <th>amount_z_score_avg</th>\n",
       "    </tr>\n",
       "  </thead>\n",
       "  <tbody>\n",
       "    <tr>\n",
       "      <th>0</th>\n",
       "      <td>Alabama</td>\n",
       "      <td>teacher_salaries_vocational_education</td>\n",
       "      <td>2010.0</td>\n",
       "      <td>110309000.0</td>\n",
       "      <td>-1.67803030303030303E-19</td>\n",
       "    </tr>\n",
       "    <tr>\n",
       "      <th>1</th>\n",
       "      <td>Alabama</td>\n",
       "      <td>teacher_salaries_vocational_education</td>\n",
       "      <td>2011.0</td>\n",
       "      <td>107614000.0</td>\n",
       "      <td>-6.14166666666666667E-19</td>\n",
       "    </tr>\n",
       "    <tr>\n",
       "      <th>2</th>\n",
       "      <td>Alabama</td>\n",
       "      <td>teacher_salaries_vocational_education</td>\n",
       "      <td>2012.0</td>\n",
       "      <td>105162000.0</td>\n",
       "      <td>-2.25606060606060606E-19</td>\n",
       "    </tr>\n",
       "    <tr>\n",
       "      <th>3</th>\n",
       "      <td>Alabama</td>\n",
       "      <td>teacher_salaries_vocational_education</td>\n",
       "      <td>2013.0</td>\n",
       "      <td>108247000.0</td>\n",
       "      <td>1.71343283582089552E-19</td>\n",
       "    </tr>\n",
       "    <tr>\n",
       "      <th>4</th>\n",
       "      <td>Alabama</td>\n",
       "      <td>teacher_salaries_vocational_education</td>\n",
       "      <td>2014.0</td>\n",
       "      <td>110787000.0</td>\n",
       "      <td>6.56666666666666667E-19</td>\n",
       "    </tr>\n",
       "  </tbody>\n",
       "</table>\n",
       "</div>"
      ],
      "text/plain": [
       "     state                      expenditure_title    year       amount  \\\n",
       "0  Alabama  teacher_salaries_vocational_education  2010.0  110309000.0   \n",
       "1  Alabama  teacher_salaries_vocational_education  2011.0  107614000.0   \n",
       "2  Alabama  teacher_salaries_vocational_education  2012.0  105162000.0   \n",
       "3  Alabama  teacher_salaries_vocational_education  2013.0  108247000.0   \n",
       "4  Alabama  teacher_salaries_vocational_education  2014.0  110787000.0   \n",
       "\n",
       "         amount_z_score_avg  \n",
       "0  -1.67803030303030303E-19  \n",
       "1  -6.14166666666666667E-19  \n",
       "2  -2.25606060606060606E-19  \n",
       "3   1.71343283582089552E-19  \n",
       "4   6.56666666666666667E-19  "
      ]
     },
     "execution_count": 61,
     "metadata": {},
     "output_type": "execute_result"
    }
   ],
   "source": [
    "# Convert query to dataframe\n",
    "tech_vocational_expenditures = execute_sql(query, conn)\n",
    "tech_vocational_expenditures.head()"
   ]
  },
  {
   "cell_type": "code",
   "execution_count": 62,
   "metadata": {},
   "outputs": [
    {
     "data": {
      "text/plain": [
       "state                  object\n",
       "expenditure_title      object\n",
       "year                  float64\n",
       "amount                 object\n",
       "amount_z_score_avg     object\n",
       "dtype: object"
      ]
     },
     "execution_count": 62,
     "metadata": {},
     "output_type": "execute_result"
    }
   ],
   "source": [
    "tech_vocational_expenditures.dtypes"
   ]
  },
  {
   "cell_type": "code",
   "execution_count": 63,
   "metadata": {},
   "outputs": [
    {
     "data": {
      "text/html": [
       "<div>\n",
       "<style scoped>\n",
       "    .dataframe tbody tr th:only-of-type {\n",
       "        vertical-align: middle;\n",
       "    }\n",
       "\n",
       "    .dataframe tbody tr th {\n",
       "        vertical-align: top;\n",
       "    }\n",
       "\n",
       "    .dataframe thead th {\n",
       "        text-align: right;\n",
       "    }\n",
       "</style>\n",
       "<table border=\"1\" class=\"dataframe\">\n",
       "  <thead>\n",
       "    <tr style=\"text-align: right;\">\n",
       "      <th></th>\n",
       "      <th>year</th>\n",
       "    </tr>\n",
       "  </thead>\n",
       "  <tbody>\n",
       "    <tr>\n",
       "      <th>count</th>\n",
       "      <td>876.000000</td>\n",
       "    </tr>\n",
       "    <tr>\n",
       "      <th>mean</th>\n",
       "      <td>2016.410959</td>\n",
       "    </tr>\n",
       "    <tr>\n",
       "      <th>std</th>\n",
       "      <td>3.013504</td>\n",
       "    </tr>\n",
       "    <tr>\n",
       "      <th>min</th>\n",
       "      <td>2010.000000</td>\n",
       "    </tr>\n",
       "    <tr>\n",
       "      <th>25%</th>\n",
       "      <td>2014.000000</td>\n",
       "    </tr>\n",
       "    <tr>\n",
       "      <th>50%</th>\n",
       "      <td>2017.000000</td>\n",
       "    </tr>\n",
       "    <tr>\n",
       "      <th>75%</th>\n",
       "      <td>2019.000000</td>\n",
       "    </tr>\n",
       "    <tr>\n",
       "      <th>max</th>\n",
       "      <td>2020.000000</td>\n",
       "    </tr>\n",
       "  </tbody>\n",
       "</table>\n",
       "</div>"
      ],
      "text/plain": [
       "              year\n",
       "count   876.000000\n",
       "mean   2016.410959\n",
       "std       3.013504\n",
       "min    2010.000000\n",
       "25%    2014.000000\n",
       "50%    2017.000000\n",
       "75%    2019.000000\n",
       "max    2020.000000"
      ]
     },
     "execution_count": 63,
     "metadata": {},
     "output_type": "execute_result"
    }
   ],
   "source": [
    "tech_vocational_expenditures.describe()"
   ]
  },
  {
   "cell_type": "code",
   "execution_count": 64,
   "metadata": {},
   "outputs": [
    {
     "data": {
      "text/plain": [
       "state                  object\n",
       "expenditure_title      object\n",
       "year                    int64\n",
       "amount                float64\n",
       "amount_z_score_avg    float64\n",
       "dtype: object"
      ]
     },
     "execution_count": 64,
     "metadata": {},
     "output_type": "execute_result"
    }
   ],
   "source": [
    "tech_vocational_expenditures['year'] = tech_vocational_expenditures['year'].astype(int)\n",
    "tech_vocational_expenditures['amount'] = tech_vocational_expenditures['amount'].astype('float64')\n",
    "tech_vocational_expenditures['amount_z_score_avg'] = tech_vocational_expenditures['amount_z_score_avg'].astype('float64')\n",
    "\n",
    "tech_vocational_expenditures.dtypes"
   ]
  },
  {
   "cell_type": "code",
   "execution_count": 65,
   "metadata": {},
   "outputs": [
    {
     "data": {
      "text/html": [
       "<div>\n",
       "<style scoped>\n",
       "    .dataframe tbody tr th:only-of-type {\n",
       "        vertical-align: middle;\n",
       "    }\n",
       "\n",
       "    .dataframe tbody tr th {\n",
       "        vertical-align: top;\n",
       "    }\n",
       "\n",
       "    .dataframe thead th {\n",
       "        text-align: right;\n",
       "    }\n",
       "</style>\n",
       "<table border=\"1\" class=\"dataframe\">\n",
       "  <thead>\n",
       "    <tr style=\"text-align: right;\">\n",
       "      <th></th>\n",
       "      <th>state</th>\n",
       "      <th>expenditure_title</th>\n",
       "      <th>year</th>\n",
       "      <th>amount</th>\n",
       "      <th>amount_z_score_avg</th>\n",
       "    </tr>\n",
       "  </thead>\n",
       "  <tbody>\n",
       "    <tr>\n",
       "      <th>0</th>\n",
       "      <td>Alabama</td>\n",
       "      <td>teacher_salaries_vocational_education</td>\n",
       "      <td>2010</td>\n",
       "      <td>110309000.0</td>\n",
       "      <td>-1.678030e-19</td>\n",
       "    </tr>\n",
       "    <tr>\n",
       "      <th>1</th>\n",
       "      <td>Alabama</td>\n",
       "      <td>teacher_salaries_vocational_education</td>\n",
       "      <td>2011</td>\n",
       "      <td>107614000.0</td>\n",
       "      <td>-6.141667e-19</td>\n",
       "    </tr>\n",
       "    <tr>\n",
       "      <th>2</th>\n",
       "      <td>Alabama</td>\n",
       "      <td>teacher_salaries_vocational_education</td>\n",
       "      <td>2012</td>\n",
       "      <td>105162000.0</td>\n",
       "      <td>-2.256061e-19</td>\n",
       "    </tr>\n",
       "    <tr>\n",
       "      <th>3</th>\n",
       "      <td>Alabama</td>\n",
       "      <td>teacher_salaries_vocational_education</td>\n",
       "      <td>2013</td>\n",
       "      <td>108247000.0</td>\n",
       "      <td>1.713433e-19</td>\n",
       "    </tr>\n",
       "    <tr>\n",
       "      <th>4</th>\n",
       "      <td>Alabama</td>\n",
       "      <td>teacher_salaries_vocational_education</td>\n",
       "      <td>2014</td>\n",
       "      <td>110787000.0</td>\n",
       "      <td>6.566667e-19</td>\n",
       "    </tr>\n",
       "  </tbody>\n",
       "</table>\n",
       "</div>"
      ],
      "text/plain": [
       "     state                      expenditure_title  year       amount  \\\n",
       "0  Alabama  teacher_salaries_vocational_education  2010  110309000.0   \n",
       "1  Alabama  teacher_salaries_vocational_education  2011  107614000.0   \n",
       "2  Alabama  teacher_salaries_vocational_education  2012  105162000.0   \n",
       "3  Alabama  teacher_salaries_vocational_education  2013  108247000.0   \n",
       "4  Alabama  teacher_salaries_vocational_education  2014  110787000.0   \n",
       "\n",
       "   amount_z_score_avg  \n",
       "0       -1.678030e-19  \n",
       "1       -6.141667e-19  \n",
       "2       -2.256061e-19  \n",
       "3        1.713433e-19  \n",
       "4        6.566667e-19  "
      ]
     },
     "execution_count": 65,
     "metadata": {},
     "output_type": "execute_result"
    }
   ],
   "source": [
    "tech_vocational_expenditures.head()"
   ]
  },
  {
   "cell_type": "code",
   "execution_count": 66,
   "metadata": {},
   "outputs": [],
   "source": [
    "query = \"\"\"\n",
    "SELECT \n",
    "\te.state, \n",
    "\tDATE_PART('year', stats.year) AS year, \n",
    "\tSUM(stats.fall_membership) AS student_count\n",
    "FROM entity.annual_stats AS stats\n",
    "INNER JOIN entity.entity as e\n",
    "\tON stats.census_id = e.census_id\n",
    "GROUP BY e.state, stats.year\n",
    "ORDER BY e.state, stats.year;\n",
    "\"\"\""
   ]
  },
  {
   "cell_type": "code",
   "execution_count": 67,
   "metadata": {},
   "outputs": [
    {
     "data": {
      "text/html": [
       "<div>\n",
       "<style scoped>\n",
       "    .dataframe tbody tr th:only-of-type {\n",
       "        vertical-align: middle;\n",
       "    }\n",
       "\n",
       "    .dataframe tbody tr th {\n",
       "        vertical-align: top;\n",
       "    }\n",
       "\n",
       "    .dataframe thead th {\n",
       "        text-align: right;\n",
       "    }\n",
       "</style>\n",
       "<table border=\"1\" class=\"dataframe\">\n",
       "  <thead>\n",
       "    <tr style=\"text-align: right;\">\n",
       "      <th></th>\n",
       "      <th>state</th>\n",
       "      <th>year</th>\n",
       "      <th>student_count</th>\n",
       "    </tr>\n",
       "  </thead>\n",
       "  <tbody>\n",
       "    <tr>\n",
       "      <th>0</th>\n",
       "      <td>Alabama</td>\n",
       "      <td>2010.0</td>\n",
       "      <td>748889.0</td>\n",
       "    </tr>\n",
       "    <tr>\n",
       "      <th>1</th>\n",
       "      <td>Alabama</td>\n",
       "      <td>2011.0</td>\n",
       "      <td>738322.0</td>\n",
       "    </tr>\n",
       "    <tr>\n",
       "      <th>2</th>\n",
       "      <td>Alabama</td>\n",
       "      <td>2012.0</td>\n",
       "      <td>744621.0</td>\n",
       "    </tr>\n",
       "    <tr>\n",
       "      <th>3</th>\n",
       "      <td>Alabama</td>\n",
       "      <td>2013.0</td>\n",
       "      <td>744548.0</td>\n",
       "    </tr>\n",
       "    <tr>\n",
       "      <th>4</th>\n",
       "      <td>Alabama</td>\n",
       "      <td>2014.0</td>\n",
       "      <td>740081.0</td>\n",
       "    </tr>\n",
       "  </tbody>\n",
       "</table>\n",
       "</div>"
      ],
      "text/plain": [
       "     state    year student_count\n",
       "0  Alabama  2010.0      748889.0\n",
       "1  Alabama  2011.0      738322.0\n",
       "2  Alabama  2012.0      744621.0\n",
       "3  Alabama  2013.0      744548.0\n",
       "4  Alabama  2014.0      740081.0"
      ]
     },
     "execution_count": 67,
     "metadata": {},
     "output_type": "execute_result"
    }
   ],
   "source": [
    "student_counts_by_state_year = execute_sql(query, conn)\n",
    "student_counts_by_state_year.head()"
   ]
  },
  {
   "cell_type": "code",
   "execution_count": 68,
   "metadata": {},
   "outputs": [
    {
     "data": {
      "text/plain": [
       "state            object\n",
       "year              int64\n",
       "student_count     int64\n",
       "dtype: object"
      ]
     },
     "execution_count": 68,
     "metadata": {},
     "output_type": "execute_result"
    }
   ],
   "source": [
    "student_counts_by_state_year['year'] = student_counts_by_state_year['year'].astype(int)\n",
    "student_counts_by_state_year['student_count'] = student_counts_by_state_year['student_count'].astype(int)\n",
    "student_counts_by_state_year.dtypes"
   ]
  },
  {
   "cell_type": "code",
   "execution_count": 69,
   "metadata": {},
   "outputs": [
    {
     "data": {
      "text/html": [
       "<div>\n",
       "<style scoped>\n",
       "    .dataframe tbody tr th:only-of-type {\n",
       "        vertical-align: middle;\n",
       "    }\n",
       "\n",
       "    .dataframe tbody tr th {\n",
       "        vertical-align: top;\n",
       "    }\n",
       "\n",
       "    .dataframe thead th {\n",
       "        text-align: right;\n",
       "    }\n",
       "</style>\n",
       "<table border=\"1\" class=\"dataframe\">\n",
       "  <thead>\n",
       "    <tr style=\"text-align: right;\">\n",
       "      <th></th>\n",
       "      <th>state</th>\n",
       "      <th>year</th>\n",
       "      <th>student_count</th>\n",
       "      <th>expenditure_title</th>\n",
       "      <th>amount</th>\n",
       "      <th>amount_z_score_avg</th>\n",
       "    </tr>\n",
       "  </thead>\n",
       "  <tbody>\n",
       "    <tr>\n",
       "      <th>0</th>\n",
       "      <td>Alabama</td>\n",
       "      <td>2010</td>\n",
       "      <td>748889</td>\n",
       "      <td>teacher_salaries_vocational_education</td>\n",
       "      <td>110309000.0</td>\n",
       "      <td>-1.678030e-19</td>\n",
       "    </tr>\n",
       "    <tr>\n",
       "      <th>1</th>\n",
       "      <td>Alabama</td>\n",
       "      <td>2011</td>\n",
       "      <td>738322</td>\n",
       "      <td>teacher_salaries_vocational_education</td>\n",
       "      <td>107614000.0</td>\n",
       "      <td>-6.141667e-19</td>\n",
       "    </tr>\n",
       "    <tr>\n",
       "      <th>2</th>\n",
       "      <td>Alabama</td>\n",
       "      <td>2012</td>\n",
       "      <td>744621</td>\n",
       "      <td>teacher_salaries_vocational_education</td>\n",
       "      <td>105162000.0</td>\n",
       "      <td>-2.256061e-19</td>\n",
       "    </tr>\n",
       "    <tr>\n",
       "      <th>3</th>\n",
       "      <td>Alabama</td>\n",
       "      <td>2013</td>\n",
       "      <td>744548</td>\n",
       "      <td>teacher_salaries_vocational_education</td>\n",
       "      <td>108247000.0</td>\n",
       "      <td>1.713433e-19</td>\n",
       "    </tr>\n",
       "    <tr>\n",
       "      <th>4</th>\n",
       "      <td>Alabama</td>\n",
       "      <td>2014</td>\n",
       "      <td>740081</td>\n",
       "      <td>teacher_salaries_vocational_education</td>\n",
       "      <td>110787000.0</td>\n",
       "      <td>6.566667e-19</td>\n",
       "    </tr>\n",
       "  </tbody>\n",
       "</table>\n",
       "</div>"
      ],
      "text/plain": [
       "     state  year  student_count                      expenditure_title  \\\n",
       "0  Alabama  2010         748889  teacher_salaries_vocational_education   \n",
       "1  Alabama  2011         738322  teacher_salaries_vocational_education   \n",
       "2  Alabama  2012         744621  teacher_salaries_vocational_education   \n",
       "3  Alabama  2013         744548  teacher_salaries_vocational_education   \n",
       "4  Alabama  2014         740081  teacher_salaries_vocational_education   \n",
       "\n",
       "        amount  amount_z_score_avg  \n",
       "0  110309000.0       -1.678030e-19  \n",
       "1  107614000.0       -6.141667e-19  \n",
       "2  105162000.0       -2.256061e-19  \n",
       "3  108247000.0        1.713433e-19  \n",
       "4  110787000.0        6.566667e-19  "
      ]
     },
     "execution_count": 69,
     "metadata": {},
     "output_type": "execute_result"
    }
   ],
   "source": [
    "merged = pd.merge(student_counts_by_state_year, tech_vocational_expenditures, how= 'inner', on= ['state', 'year'], validate=\"many_to_many\")\n",
    "merged.head()"
   ]
  },
  {
   "cell_type": "code",
   "execution_count": 70,
   "metadata": {},
   "outputs": [
    {
     "data": {
      "text/html": [
       "<div>\n",
       "<style scoped>\n",
       "    .dataframe tbody tr th:only-of-type {\n",
       "        vertical-align: middle;\n",
       "    }\n",
       "\n",
       "    .dataframe tbody tr th {\n",
       "        vertical-align: top;\n",
       "    }\n",
       "\n",
       "    .dataframe thead th {\n",
       "        text-align: right;\n",
       "    }\n",
       "</style>\n",
       "<table border=\"1\" class=\"dataframe\">\n",
       "  <thead>\n",
       "    <tr style=\"text-align: right;\">\n",
       "      <th></th>\n",
       "      <th>state</th>\n",
       "      <th>year</th>\n",
       "      <th>student_count</th>\n",
       "      <th>expenditure_title</th>\n",
       "      <th>amount</th>\n",
       "      <th>amount_z_score_avg</th>\n",
       "      <th>tech_vocational_cost_per_student</th>\n",
       "    </tr>\n",
       "  </thead>\n",
       "  <tbody>\n",
       "    <tr>\n",
       "      <th>0</th>\n",
       "      <td>Alabama</td>\n",
       "      <td>2010</td>\n",
       "      <td>748889</td>\n",
       "      <td>teacher_salaries_vocational_education</td>\n",
       "      <td>110309000.0</td>\n",
       "      <td>-1.678030e-19</td>\n",
       "      <td>147.296862</td>\n",
       "    </tr>\n",
       "    <tr>\n",
       "      <th>1</th>\n",
       "      <td>Alabama</td>\n",
       "      <td>2011</td>\n",
       "      <td>738322</td>\n",
       "      <td>teacher_salaries_vocational_education</td>\n",
       "      <td>107614000.0</td>\n",
       "      <td>-6.141667e-19</td>\n",
       "      <td>145.754833</td>\n",
       "    </tr>\n",
       "    <tr>\n",
       "      <th>2</th>\n",
       "      <td>Alabama</td>\n",
       "      <td>2012</td>\n",
       "      <td>744621</td>\n",
       "      <td>teacher_salaries_vocational_education</td>\n",
       "      <td>105162000.0</td>\n",
       "      <td>-2.256061e-19</td>\n",
       "      <td>141.228894</td>\n",
       "    </tr>\n",
       "    <tr>\n",
       "      <th>3</th>\n",
       "      <td>Alabama</td>\n",
       "      <td>2013</td>\n",
       "      <td>744548</td>\n",
       "      <td>teacher_salaries_vocational_education</td>\n",
       "      <td>108247000.0</td>\n",
       "      <td>1.713433e-19</td>\n",
       "      <td>145.386194</td>\n",
       "    </tr>\n",
       "    <tr>\n",
       "      <th>4</th>\n",
       "      <td>Alabama</td>\n",
       "      <td>2014</td>\n",
       "      <td>740081</td>\n",
       "      <td>teacher_salaries_vocational_education</td>\n",
       "      <td>110787000.0</td>\n",
       "      <td>6.566667e-19</td>\n",
       "      <td>149.695777</td>\n",
       "    </tr>\n",
       "  </tbody>\n",
       "</table>\n",
       "</div>"
      ],
      "text/plain": [
       "     state  year  student_count                      expenditure_title  \\\n",
       "0  Alabama  2010         748889  teacher_salaries_vocational_education   \n",
       "1  Alabama  2011         738322  teacher_salaries_vocational_education   \n",
       "2  Alabama  2012         744621  teacher_salaries_vocational_education   \n",
       "3  Alabama  2013         744548  teacher_salaries_vocational_education   \n",
       "4  Alabama  2014         740081  teacher_salaries_vocational_education   \n",
       "\n",
       "        amount  amount_z_score_avg  tech_vocational_cost_per_student  \n",
       "0  110309000.0       -1.678030e-19                        147.296862  \n",
       "1  107614000.0       -6.141667e-19                        145.754833  \n",
       "2  105162000.0       -2.256061e-19                        141.228894  \n",
       "3  108247000.0        1.713433e-19                        145.386194  \n",
       "4  110787000.0        6.566667e-19                        149.695777  "
      ]
     },
     "execution_count": 70,
     "metadata": {},
     "output_type": "execute_result"
    }
   ],
   "source": [
    "merged['tech_vocational_cost_per_student'] = merged['amount'] / merged['student_count']\n",
    "merged.head()"
   ]
  },
  {
   "cell_type": "code",
   "execution_count": 71,
   "metadata": {},
   "outputs": [
    {
     "data": {
      "text/html": [
       "<div>\n",
       "<style scoped>\n",
       "    .dataframe tbody tr th:only-of-type {\n",
       "        vertical-align: middle;\n",
       "    }\n",
       "\n",
       "    .dataframe tbody tr th {\n",
       "        vertical-align: top;\n",
       "    }\n",
       "\n",
       "    .dataframe thead th {\n",
       "        text-align: right;\n",
       "    }\n",
       "</style>\n",
       "<table border=\"1\" class=\"dataframe\">\n",
       "  <thead>\n",
       "    <tr style=\"text-align: right;\">\n",
       "      <th></th>\n",
       "      <th>year</th>\n",
       "      <th>amount</th>\n",
       "    </tr>\n",
       "  </thead>\n",
       "  <tbody>\n",
       "    <tr>\n",
       "      <th>0</th>\n",
       "      <td>2010</td>\n",
       "      <td>4.269554e+09</td>\n",
       "    </tr>\n",
       "    <tr>\n",
       "      <th>1</th>\n",
       "      <td>2011</td>\n",
       "      <td>4.359258e+09</td>\n",
       "    </tr>\n",
       "    <tr>\n",
       "      <th>2</th>\n",
       "      <td>2012</td>\n",
       "      <td>4.899872e+09</td>\n",
       "    </tr>\n",
       "    <tr>\n",
       "      <th>3</th>\n",
       "      <td>2013</td>\n",
       "      <td>4.958659e+09</td>\n",
       "    </tr>\n",
       "    <tr>\n",
       "      <th>4</th>\n",
       "      <td>2014</td>\n",
       "      <td>5.264175e+09</td>\n",
       "    </tr>\n",
       "  </tbody>\n",
       "</table>\n",
       "</div>"
      ],
      "text/plain": [
       "   year        amount\n",
       "0  2010  4.269554e+09\n",
       "1  2011  4.359258e+09\n",
       "2  2012  4.899872e+09\n",
       "3  2013  4.958659e+09\n",
       "4  2014  5.264175e+09"
      ]
     },
     "execution_count": 71,
     "metadata": {},
     "output_type": "execute_result"
    }
   ],
   "source": [
    "grouped_expenditures = merged.groupby('year')['amount'].sum().reset_index()\n",
    "grouped_expenditures.head()"
   ]
  },
  {
   "cell_type": "markdown",
   "metadata": {},
   "source": [
    "### Graph Functions\n",
    "The subsequent cells contain various functions for creating different types of charts. These functions are designed to ensure stylistic consistency across all charts and to minimize redundant code in my analyses. They allow for easy customization and quick generation of complex visualizations, streamlining the data presentation process."
   ]
  },
  {
   "cell_type": "code",
   "execution_count": 72,
   "metadata": {},
   "outputs": [],
   "source": [
    "def make_bar_chart_grid(df : pd.DataFrame, \n",
    "                        x : str, y : str, \n",
    "                        color : str, facet_col : str, \n",
    "                        facet_col_wrap : int, title : str) -> go.Figure:\n",
    "    \"\"\"\n",
    "    Creates a grid of bar charts using Plotly Express.\n",
    "\n",
    "    Parameters:\n",
    "    df (pd.DataFrame): The DataFrame containing the data to plot.\n",
    "    x (str): The name of the column to use for the x-axis.\n",
    "    y (str): The name of the column to use for the y-axis.\n",
    "    color (str): The name of the column to use for color coding.\n",
    "    facet_col (str): The name of the column to create separate plots for each unique value.\n",
    "    facet_col_wrap (int): The number of charts per row. Default is 4.\n",
    "    title (str): The title of the plot. Default is an empty string.\n",
    "\n",
    "    Returns:\n",
    "    go.Figure: A Plotly graph object representing the line plot grid.\n",
    "    \"\"\"\n",
    "    bar_plot_grid = px.bar(df, \n",
    "                 x= x, \n",
    "                 y= y,\n",
    "                 facet_col= facet_col,\n",
    "                 facet_col_wrap= facet_col_wrap,\n",
    "                 color= color\n",
    "                 )\n",
    "\n",
    "    # Update layout with given title and additional layout arguments\n",
    "    bar_plot_grid.update_layout(title_text= title,\n",
    "                                title={\n",
    "                                    'y':0.98,  # The position of the title can be adjusted with the y parameter\n",
    "                                    'x':0.5,\n",
    "                                    'xanchor': 'center',\n",
    "                                    'yanchor': 'top'\n",
    "                                    },\n",
    "                                height=800,\n",
    "                                width=1050, \n",
    "                                legend=dict(\n",
    "                                    orientation=\"h\",\n",
    "                                    yanchor=\"bottom\",\n",
    "                                    y=-0.5,  # Adjusted position\n",
    "                                    xanchor=\"center\",\n",
    "                                    x=0.5\n",
    "                                    ),\n",
    "                                margin=dict(l=40, r=40, t=80, b=200),  # Increase the top margin for padding\n",
    "                                hoverlabel=dict(\n",
    "                                    bgcolor=\"white\",\n",
    "                                    font_size=16,\n",
    "                                    font_family=\"Calibri\"\n",
    "                                    )\n",
    "                                )\n",
    "\n",
    "    bar_plot_grid.update_annotations(font_size=10)  # Reduce font size for subplot titles\n",
    "    \n",
    "    return bar_plot_grid"
   ]
  },
  {
   "cell_type": "code",
   "execution_count": 73,
   "metadata": {},
   "outputs": [],
   "source": [
    "def make_line_plot_grid(df : pd.DataFrame, \n",
    "                        x : str, y : str, \n",
    "                        color : str, facet_col : str, \n",
    "                        facet_col_wrap : int, title : str) -> go.Figure:\n",
    "    \"\"\"\n",
    "    Creates a grid of line charts using Plotly Express.\n",
    "\n",
    "    Parameters:\n",
    "    df (pd.DataFrame): The DataFrame containing the data to plot.\n",
    "    x (str): The name of the column to use for the x-axis.\n",
    "    y (str): The name of the column to use for the y-axis.\n",
    "    color (str): The name of the column to use for color coding.\n",
    "    facet_col (str): The name of the column to create separate plots for each unique value.\n",
    "    facet_col_wrap (int): The number of charts per row. Default is 4.\n",
    "    title (str): The title of the plot. Default is an empty string.\n",
    "\n",
    "    Returns:\n",
    "    go.Figure: A Plotly graph object representing the line plot grid.\n",
    "    \"\"\"\n",
    "\n",
    "    # Create the grid of line charts\n",
    "    line_plot_grid = px.line(\n",
    "        df,\n",
    "        x= x,\n",
    "        y= y,  \n",
    "        color= color,\n",
    "        facet_col= facet_col,  # Creates a separate plot for each region\n",
    "        facet_col_wrap= facet_col_wrap,    # Adjust this to control how many charts per row\n",
    "        title= title\n",
    "    )\n",
    "\n",
    "    # Update layout with given title and additional layout arguments\n",
    "    line_plot_grid.update_layout(title_text=title,\n",
    "                               title={\n",
    "                                   'y':0.98,  # The position of the title can be adjusted with the y parameter\n",
    "                                   'x':0.5,\n",
    "                                   'xanchor': 'center',\n",
    "                                   'yanchor': 'top'\n",
    "                                   },\n",
    "                                height=800,\n",
    "                                width=1050, \n",
    "                                legend=dict(\n",
    "                                    orientation=\"h\",\n",
    "                                    yanchor=\"bottom\",\n",
    "                                    y=-0.5,  # Adjusted position\n",
    "                                    xanchor=\"center\",\n",
    "                                    x=0.5\n",
    "                                    ),\n",
    "                                margin=dict(l=40, r=40, t=80, b=200),  # Increase the top margin for padding\n",
    "                                hoverlabel=dict(\n",
    "                                    bgcolor=\"white\",\n",
    "                                    font_size=16,\n",
    "                                    font_family=\"Calibri\"\n",
    "                                    )\n",
    "                                )\n",
    "\n",
    "    line_plot_grid.update_annotations(font_size=10)  # Reduce font size for subplot titles\n",
    "    line_plot_grid.update_xaxes(tickangle=45, tickfont=dict(size=10)) # Update Tick Angles and Axis Font Size\n",
    "\n",
    "    return line_plot_grid"
   ]
  },
  {
   "cell_type": "code",
   "execution_count": 74,
   "metadata": {},
   "outputs": [],
   "source": [
    "def create_combined_figure(fig1: go.Figure, fig2: go.Figure, \n",
    "                           title: str, subplot_titles: tuple) -> go.Figure:\n",
    "    \"\"\"\n",
    "    Creates a combined figure with two subplots.\n",
    "\n",
    "    Parameters:\n",
    "    fig1 (go.Figure): The first figure to be added to the subplot.\n",
    "    fig2 (go.Figure): The second figure to be added to the subplot.\n",
    "    title (str): The main title of the combined figure.\n",
    "    subplot_titles (tuple): Titles for the subplots (two elements expected).\n",
    "\n",
    "    Returns:\n",
    "    go.Figure: A combined figure with two subplots.\n",
    "    \"\"\"\n",
    "\n",
    "    # Create a subplot figure\n",
    "    combined_fig = make_subplots(rows=1, cols=2, subplot_titles=subplot_titles,\n",
    "                                 horizontal_spacing=0.1)\n",
    "\n",
    "    # Add traces from fig1 to the first subplot\n",
    "    for trace in fig1['data']:\n",
    "        combined_fig.append_trace(trace, row=1, col=1)\n",
    "\n",
    "    # Add traces from fig2 to the second subplot\n",
    "    for trace in fig2['data']:\n",
    "        combined_fig.append_trace(trace, row=1, col=2)\n",
    "\n",
    "    # Update layout with given title and additional layout arguments\n",
    "    combined_fig.update_layout(title_text=title,\n",
    "                               title={\n",
    "                                   'y':0.98,  # The position of the title can be adjusted with the y parameter\n",
    "                                   'x':0.5,\n",
    "                                   'xanchor': 'center',\n",
    "                                   'yanchor': 'top'\n",
    "                                   },\n",
    "                                height=600,\n",
    "                                width=1050, \n",
    "                                legend=dict(\n",
    "                                    orientation=\"h\",\n",
    "                                    yanchor=\"bottom\",\n",
    "                                    y=-0.3,  # Adjusted position\n",
    "                                    xanchor=\"center\",\n",
    "                                    x=0.5\n",
    "                                    ),\n",
    "                                margin=dict(l=40, r=40, t=80, b=200),  # Increase the top margin for padding\n",
    "                                hoverlabel=dict(\n",
    "                                    bgcolor=\"white\",\n",
    "                                    font_size=16,\n",
    "                                    font_family=\"Calibri\"\n",
    "                                    )\n",
    "                                )\n",
    "\n",
    "    return combined_fig"
   ]
  },
  {
   "cell_type": "markdown",
   "metadata": {},
   "source": [
    "### Data Visualizations & Insights"
   ]
  },
  {
   "cell_type": "code",
   "execution_count": 75,
   "metadata": {},
   "outputs": [],
   "source": [
    "tech_voc_expenditures_line_chart1 = px.line(grouped_expenditures,\n",
    "                                           x= 'year',\n",
    "                                           y= 'amount',\n",
    "                                           title= 'Tech and Vocational Education Expenditures Over Time')"
   ]
  },
  {
   "cell_type": "code",
   "execution_count": 76,
   "metadata": {},
   "outputs": [
    {
     "name": "stdout",
     "output_type": "stream",
     "text": [
      "2014 Amount: 5264175000.0\n",
      "2016 Amount: 9614528000.0\n",
      "Total amount difference between 2014 and 2016: 4350353000.0\n",
      "Percentage difference between 2014 and 2016: 82.64%\n"
     ]
    }
   ],
   "source": [
    "amount_2014 = grouped_expenditures.loc[grouped_expenditures['year'] == 2014, 'amount'].iloc[0]\n",
    "amount_2016 = grouped_expenditures.loc[grouped_expenditures['year'] == 2016, 'amount'].iloc[0]\n",
    "\n",
    "# Calculate the total amount difference\n",
    "total_difference = amount_2016 - amount_2014\n",
    "\n",
    "# Calculate the percentage difference\n",
    "percentage_difference = (total_difference / amount_2014) * 100\n",
    "\n",
    "# Print out the results\n",
    "print(f'2014 Amount: {amount_2014}')\n",
    "print(f'2016 Amount: {amount_2016}')\n",
    "print(f\"Total amount difference between 2014 and 2016: {total_difference}\")\n",
    "print(f\"Percentage difference between 2014 and 2016: {percentage_difference:.2f}%\")"
   ]
  },
  {
   "cell_type": "code",
   "execution_count": 77,
   "metadata": {},
   "outputs": [
    {
     "data": {
      "text/html": [
       "<div>\n",
       "<style scoped>\n",
       "    .dataframe tbody tr th:only-of-type {\n",
       "        vertical-align: middle;\n",
       "    }\n",
       "\n",
       "    .dataframe tbody tr th {\n",
       "        vertical-align: top;\n",
       "    }\n",
       "\n",
       "    .dataframe thead th {\n",
       "        text-align: right;\n",
       "    }\n",
       "</style>\n",
       "<table border=\"1\" class=\"dataframe\">\n",
       "  <thead>\n",
       "    <tr style=\"text-align: right;\">\n",
       "      <th></th>\n",
       "      <th>year</th>\n",
       "      <th>expenditure_title</th>\n",
       "      <th>amount</th>\n",
       "    </tr>\n",
       "  </thead>\n",
       "  <tbody>\n",
       "    <tr>\n",
       "      <th>0</th>\n",
       "      <td>2010</td>\n",
       "      <td>teacher_salaries_vocational_education</td>\n",
       "      <td>4.269554e+09</td>\n",
       "    </tr>\n",
       "    <tr>\n",
       "      <th>1</th>\n",
       "      <td>2011</td>\n",
       "      <td>teacher_salaries_vocational_education</td>\n",
       "      <td>4.359258e+09</td>\n",
       "    </tr>\n",
       "    <tr>\n",
       "      <th>2</th>\n",
       "      <td>2012</td>\n",
       "      <td>teacher_salaries_vocational_education</td>\n",
       "      <td>4.899872e+09</td>\n",
       "    </tr>\n",
       "    <tr>\n",
       "      <th>3</th>\n",
       "      <td>2013</td>\n",
       "      <td>teacher_salaries_vocational_education</td>\n",
       "      <td>4.958659e+09</td>\n",
       "    </tr>\n",
       "    <tr>\n",
       "      <th>4</th>\n",
       "      <td>2014</td>\n",
       "      <td>teacher_salaries_vocational_education</td>\n",
       "      <td>5.264175e+09</td>\n",
       "    </tr>\n",
       "  </tbody>\n",
       "</table>\n",
       "</div>"
      ],
      "text/plain": [
       "   year                      expenditure_title        amount\n",
       "0  2010  teacher_salaries_vocational_education  4.269554e+09\n",
       "1  2011  teacher_salaries_vocational_education  4.359258e+09\n",
       "2  2012  teacher_salaries_vocational_education  4.899872e+09\n",
       "3  2013  teacher_salaries_vocational_education  4.958659e+09\n",
       "4  2014  teacher_salaries_vocational_education  5.264175e+09"
      ]
     },
     "execution_count": 77,
     "metadata": {},
     "output_type": "execute_result"
    }
   ],
   "source": [
    "grouped_expenditures_by_title = merged.groupby(['year', 'expenditure_title'])['amount'].sum().reset_index()\n",
    "grouped_expenditures_by_title.head()"
   ]
  },
  {
   "cell_type": "code",
   "execution_count": 78,
   "metadata": {},
   "outputs": [],
   "source": [
    "tech_voc_expenditures_line_chart2 = px.line(grouped_expenditures_by_title,\n",
    "                                           x= 'year',\n",
    "                                           y= 'amount', \n",
    "                                           color='expenditure_title', \n",
    "                                           title= 'Expenditures by Title Over Time')"
   ]
  },
  {
   "cell_type": "code",
   "execution_count": 79,
   "metadata": {},
   "outputs": [
    {
     "name": "stdout",
     "output_type": "stream",
     "text": [
      "Tech Related Supplies & Services Total: 3948099000.0\n"
     ]
    }
   ],
   "source": [
    "tech_related_supplies_services_total = grouped_expenditures_by_title[\n",
    "    (grouped_expenditures_by_title['expenditure_title'] == 'tech_related_supplies_services') & \n",
    "    (grouped_expenditures_by_title['year'].isin([2014, 2015, 2016]))\n",
    "]['amount'].sum()\n",
    "\n",
    "print(f'Tech Related Supplies & Services Total: {tech_related_supplies_services_total}')"
   ]
  },
  {
   "cell_type": "code",
   "execution_count": 80,
   "metadata": {},
   "outputs": [
    {
     "name": "stdout",
     "output_type": "stream",
     "text": [
      "Tech Related Equipment Total: 1263890000.0\n"
     ]
    }
   ],
   "source": [
    "tech_related_equipment_total = grouped_expenditures_by_title[\n",
    "    (grouped_expenditures_by_title['expenditure_title'] == 'tech_related_equipment') & \n",
    "    (grouped_expenditures_by_title['year'].isin([2014, 2015, 2016]))\n",
    "]['amount'].sum()\n",
    "\n",
    "print(f'Tech Related Equipment Total: {tech_related_equipment_total}')"
   ]
  },
  {
   "cell_type": "code",
   "execution_count": 81,
   "metadata": {},
   "outputs": [
    {
     "name": "stdout",
     "output_type": "stream",
     "text": [
      "Teacher Salaries Vocational Education: 16308173000.0\n"
     ]
    }
   ],
   "source": [
    "teacher_salaries_vocational_education_total = grouped_expenditures_by_title[\n",
    "    (grouped_expenditures_by_title['expenditure_title'] == 'teacher_salaries_vocational_education') & \n",
    "    (grouped_expenditures_by_title['year'].isin([2014, 2015, 2016]))\n",
    "]['amount'].sum()\n",
    "\n",
    "print(f'Teacher Salaries Vocational Education: {teacher_salaries_vocational_education_total}')"
   ]
  },
  {
   "cell_type": "code",
   "execution_count": 82,
   "metadata": {},
   "outputs": [
    {
     "data": {
      "text/plain": [
       "21520162000.0"
      ]
     },
     "execution_count": 82,
     "metadata": {},
     "output_type": "execute_result"
    }
   ],
   "source": [
    "grand_total = tech_related_supplies_services_total + tech_related_equipment_total + teacher_salaries_vocational_education_total\n",
    "\n",
    "grand_total"
   ]
  },
  {
   "cell_type": "code",
   "execution_count": 83,
   "metadata": {},
   "outputs": [
    {
     "name": "stdout",
     "output_type": "stream",
     "text": [
      "2014 Total: $5264175000.0\n",
      "2015 Total: $6641459000.0\n",
      "2016 Total: $9614528000.0\n",
      "Total: $21520162000.0\n"
     ]
    }
   ],
   "source": [
    "y2014 = grouped_expenditures[grouped_expenditures['year'] == 2014]['amount'].sum()\n",
    "y2015 = grouped_expenditures[grouped_expenditures['year'] == 2015]['amount'].sum()\n",
    "y2016 = grouped_expenditures[grouped_expenditures['year'] == 2016]['amount'].sum()\n",
    "ytotal = y2014 + y2015 + y2016\n",
    "\n",
    "print(f'2014 Total: ${y2014}')\n",
    "print(f'2015 Total: ${y2015}')\n",
    "print(f'2016 Total: ${y2016}')\n",
    "print(f'Total: ${ytotal}')"
   ]
  },
  {
   "cell_type": "code",
   "execution_count": 84,
   "metadata": {},
   "outputs": [
    {
     "name": "stdout",
     "output_type": "stream",
     "text": [
      "Difference between 2014 and 2016: $4350353000.0\n",
      "Percent difference between 2014 and 2016: 82.64%\n",
      "Teacher Salaries Vocational Education % of Total Revenue between 2014 and 2016: 75.78%\n",
      "Tech Related Supplies & Services % of Total Revenue between 2014 and 2016: 18.35%\n",
      "Tech Related Equipment % of Total Revenue between 2014 and 2016: 5.87%\n"
     ]
    }
   ],
   "source": [
    "difference_between_2014_2016 = y2016 - y2014\n",
    "\n",
    "percent_difference_between_2014_2016 = difference_between_2014_2016 / y2014 * 100\n",
    "\n",
    "teacher_salaries_vocational_education_percent = teacher_salaries_vocational_education_total / grand_total * 100\n",
    "\n",
    "tech_related_supplies_services_percent = tech_related_supplies_services_total / grand_total * 100\n",
    "\n",
    "tech_related_equipment_percent = tech_related_equipment_total / grand_total * 100\n",
    "\n",
    "print(f'Difference between 2014 and 2016: ${difference_between_2014_2016}')\n",
    "print(f'Percent difference between 2014 and 2016: {percent_difference_between_2014_2016:.2f}%')\n",
    "print(f'Teacher Salaries Vocational Education % of Total Revenue between 2014 and 2016: {teacher_salaries_vocational_education_percent:.2f}%')\n",
    "print(f'Tech Related Supplies & Services % of Total Revenue between 2014 and 2016: {tech_related_supplies_services_percent:.2f}%')\n",
    "print(f'Tech Related Equipment % of Total Revenue between 2014 and 2016: {tech_related_equipment_percent:.2f}%')"
   ]
  },
  {
   "cell_type": "code",
   "execution_count": 85,
   "metadata": {},
   "outputs": [
    {
     "data": {
      "application/vnd.plotly.v1+json": {
       "config": {
        "plotlyServerURL": "https://plot.ly"
       },
       "data": [
        {
         "hovertemplate": "year=%{x}<br>amount=%{y}<extra></extra>",
         "legendgroup": "",
         "line": {
          "color": "#636efa",
          "dash": "solid"
         },
         "marker": {
          "symbol": "circle"
         },
         "mode": "lines",
         "name": "",
         "orientation": "v",
         "showlegend": false,
         "type": "scatter",
         "x": [
          2010,
          2011,
          2012,
          2013,
          2014,
          2015,
          2016,
          2017,
          2018,
          2019,
          2020
         ],
         "xaxis": "x",
         "y": [
          4269554000,
          4359258000,
          4899872000,
          4958659000,
          5264175000,
          6641459000,
          9614528000,
          10518264000,
          12008610000,
          12979716000,
          14318810000
         ],
         "yaxis": "y"
        },
        {
         "hovertemplate": "expenditure_title=teacher_salaries_vocational_education<br>year=%{x}<br>amount=%{y}<extra></extra>",
         "legendgroup": "teacher_salaries_vocational_education",
         "line": {
          "color": "#636efa",
          "dash": "solid"
         },
         "marker": {
          "symbol": "circle"
         },
         "mode": "lines",
         "name": "teacher_salaries_vocational_education",
         "orientation": "v",
         "showlegend": true,
         "type": "scatter",
         "x": [
          2010,
          2011,
          2012,
          2013,
          2014,
          2015,
          2016,
          2017,
          2018,
          2019,
          2020
         ],
         "xaxis": "x2",
         "y": [
          4269554000,
          4359258000,
          4899872000,
          4958659000,
          5264175000,
          5356589000,
          5687409000,
          5942136000,
          6142907000,
          6423723000,
          6788819000
         ],
         "yaxis": "y2"
        },
        {
         "hovertemplate": "expenditure_title=tech_related_equipment<br>year=%{x}<br>amount=%{y}<extra></extra>",
         "legendgroup": "tech_related_equipment",
         "line": {
          "color": "#EF553B",
          "dash": "solid"
         },
         "marker": {
          "symbol": "circle"
         },
         "mode": "lines",
         "name": "tech_related_equipment",
         "orientation": "v",
         "showlegend": true,
         "type": "scatter",
         "x": [
          2015,
          2016,
          2017,
          2018,
          2019,
          2020
         ],
         "xaxis": "x2",
         "y": [
          401803000,
          862087000,
          1076475000,
          1369400000,
          1461407000,
          1300494000
         ],
         "yaxis": "y2"
        },
        {
         "hovertemplate": "expenditure_title=tech_related_supplies_services<br>year=%{x}<br>amount=%{y}<extra></extra>",
         "legendgroup": "tech_related_supplies_services",
         "line": {
          "color": "#00cc96",
          "dash": "solid"
         },
         "marker": {
          "symbol": "circle"
         },
         "mode": "lines",
         "name": "tech_related_supplies_services",
         "orientation": "v",
         "showlegend": true,
         "type": "scatter",
         "x": [
          2015,
          2016,
          2017,
          2018,
          2019,
          2020
         ],
         "xaxis": "x2",
         "y": [
          883067000,
          3065032000,
          3499653000,
          4496303000,
          5094586000,
          6073647000
         ],
         "yaxis": "y2"
        },
        {
         "hovertemplate": "expenditure_title=cares_act_expenditure_tech_related_equipment<br>year=%{x}<br>amount=%{y}<extra></extra>",
         "legendgroup": "cares_act_expenditure_tech_related_equipment",
         "line": {
          "color": "#ab63fa",
          "dash": "solid"
         },
         "marker": {
          "symbol": "circle"
         },
         "mode": "lines",
         "name": "cares_act_expenditure_tech_related_equipment",
         "orientation": "v",
         "showlegend": true,
         "type": "scatter",
         "x": [
          2020
         ],
         "xaxis": "x2",
         "y": [
          25573000
         ],
         "yaxis": "y2"
        },
        {
         "hovertemplate": "expenditure_title=cares_act_expenditure_tech_related_supplies_services<br>year=%{x}<br>amount=%{y}<extra></extra>",
         "legendgroup": "cares_act_expenditure_tech_related_supplies_services",
         "line": {
          "color": "#FFA15A",
          "dash": "solid"
         },
         "marker": {
          "symbol": "circle"
         },
         "mode": "lines",
         "name": "cares_act_expenditure_tech_related_supplies_services",
         "orientation": "v",
         "showlegend": true,
         "type": "scatter",
         "x": [
          2020
         ],
         "xaxis": "x2",
         "y": [
          130277000
         ],
         "yaxis": "y2"
        }
       ],
       "layout": {
        "annotations": [
         {
          "font": {
           "size": 16
          },
          "showarrow": false,
          "text": "Total Expenditures Over Time",
          "x": 0.225,
          "xanchor": "center",
          "xref": "paper",
          "y": 1,
          "yanchor": "bottom",
          "yref": "paper"
         },
         {
          "font": {
           "size": 16
          },
          "showarrow": false,
          "text": "Expenditures by Title Over Time",
          "x": 0.775,
          "xanchor": "center",
          "xref": "paper",
          "y": 1,
          "yanchor": "bottom",
          "yref": "paper"
         }
        ],
        "height": 600,
        "hoverlabel": {
         "bgcolor": "white",
         "font": {
          "family": "Calibri",
          "size": 16
         }
        },
        "legend": {
         "orientation": "h",
         "x": 0.5,
         "xanchor": "center",
         "y": -0.3,
         "yanchor": "bottom"
        },
        "margin": {
         "b": 200,
         "l": 40,
         "r": 40,
         "t": 80
        },
        "template": {
         "data": {
          "bar": [
           {
            "error_x": {
             "color": "#2a3f5f"
            },
            "error_y": {
             "color": "#2a3f5f"
            },
            "marker": {
             "line": {
              "color": "#E5ECF6",
              "width": 0.5
             },
             "pattern": {
              "fillmode": "overlay",
              "size": 10,
              "solidity": 0.2
             }
            },
            "type": "bar"
           }
          ],
          "barpolar": [
           {
            "marker": {
             "line": {
              "color": "#E5ECF6",
              "width": 0.5
             },
             "pattern": {
              "fillmode": "overlay",
              "size": 10,
              "solidity": 0.2
             }
            },
            "type": "barpolar"
           }
          ],
          "carpet": [
           {
            "aaxis": {
             "endlinecolor": "#2a3f5f",
             "gridcolor": "white",
             "linecolor": "white",
             "minorgridcolor": "white",
             "startlinecolor": "#2a3f5f"
            },
            "baxis": {
             "endlinecolor": "#2a3f5f",
             "gridcolor": "white",
             "linecolor": "white",
             "minorgridcolor": "white",
             "startlinecolor": "#2a3f5f"
            },
            "type": "carpet"
           }
          ],
          "choropleth": [
           {
            "colorbar": {
             "outlinewidth": 0,
             "ticks": ""
            },
            "type": "choropleth"
           }
          ],
          "contour": [
           {
            "colorbar": {
             "outlinewidth": 0,
             "ticks": ""
            },
            "colorscale": [
             [
              0,
              "#0d0887"
             ],
             [
              0.1111111111111111,
              "#46039f"
             ],
             [
              0.2222222222222222,
              "#7201a8"
             ],
             [
              0.3333333333333333,
              "#9c179e"
             ],
             [
              0.4444444444444444,
              "#bd3786"
             ],
             [
              0.5555555555555556,
              "#d8576b"
             ],
             [
              0.6666666666666666,
              "#ed7953"
             ],
             [
              0.7777777777777778,
              "#fb9f3a"
             ],
             [
              0.8888888888888888,
              "#fdca26"
             ],
             [
              1,
              "#f0f921"
             ]
            ],
            "type": "contour"
           }
          ],
          "contourcarpet": [
           {
            "colorbar": {
             "outlinewidth": 0,
             "ticks": ""
            },
            "type": "contourcarpet"
           }
          ],
          "heatmap": [
           {
            "colorbar": {
             "outlinewidth": 0,
             "ticks": ""
            },
            "colorscale": [
             [
              0,
              "#0d0887"
             ],
             [
              0.1111111111111111,
              "#46039f"
             ],
             [
              0.2222222222222222,
              "#7201a8"
             ],
             [
              0.3333333333333333,
              "#9c179e"
             ],
             [
              0.4444444444444444,
              "#bd3786"
             ],
             [
              0.5555555555555556,
              "#d8576b"
             ],
             [
              0.6666666666666666,
              "#ed7953"
             ],
             [
              0.7777777777777778,
              "#fb9f3a"
             ],
             [
              0.8888888888888888,
              "#fdca26"
             ],
             [
              1,
              "#f0f921"
             ]
            ],
            "type": "heatmap"
           }
          ],
          "heatmapgl": [
           {
            "colorbar": {
             "outlinewidth": 0,
             "ticks": ""
            },
            "colorscale": [
             [
              0,
              "#0d0887"
             ],
             [
              0.1111111111111111,
              "#46039f"
             ],
             [
              0.2222222222222222,
              "#7201a8"
             ],
             [
              0.3333333333333333,
              "#9c179e"
             ],
             [
              0.4444444444444444,
              "#bd3786"
             ],
             [
              0.5555555555555556,
              "#d8576b"
             ],
             [
              0.6666666666666666,
              "#ed7953"
             ],
             [
              0.7777777777777778,
              "#fb9f3a"
             ],
             [
              0.8888888888888888,
              "#fdca26"
             ],
             [
              1,
              "#f0f921"
             ]
            ],
            "type": "heatmapgl"
           }
          ],
          "histogram": [
           {
            "marker": {
             "pattern": {
              "fillmode": "overlay",
              "size": 10,
              "solidity": 0.2
             }
            },
            "type": "histogram"
           }
          ],
          "histogram2d": [
           {
            "colorbar": {
             "outlinewidth": 0,
             "ticks": ""
            },
            "colorscale": [
             [
              0,
              "#0d0887"
             ],
             [
              0.1111111111111111,
              "#46039f"
             ],
             [
              0.2222222222222222,
              "#7201a8"
             ],
             [
              0.3333333333333333,
              "#9c179e"
             ],
             [
              0.4444444444444444,
              "#bd3786"
             ],
             [
              0.5555555555555556,
              "#d8576b"
             ],
             [
              0.6666666666666666,
              "#ed7953"
             ],
             [
              0.7777777777777778,
              "#fb9f3a"
             ],
             [
              0.8888888888888888,
              "#fdca26"
             ],
             [
              1,
              "#f0f921"
             ]
            ],
            "type": "histogram2d"
           }
          ],
          "histogram2dcontour": [
           {
            "colorbar": {
             "outlinewidth": 0,
             "ticks": ""
            },
            "colorscale": [
             [
              0,
              "#0d0887"
             ],
             [
              0.1111111111111111,
              "#46039f"
             ],
             [
              0.2222222222222222,
              "#7201a8"
             ],
             [
              0.3333333333333333,
              "#9c179e"
             ],
             [
              0.4444444444444444,
              "#bd3786"
             ],
             [
              0.5555555555555556,
              "#d8576b"
             ],
             [
              0.6666666666666666,
              "#ed7953"
             ],
             [
              0.7777777777777778,
              "#fb9f3a"
             ],
             [
              0.8888888888888888,
              "#fdca26"
             ],
             [
              1,
              "#f0f921"
             ]
            ],
            "type": "histogram2dcontour"
           }
          ],
          "mesh3d": [
           {
            "colorbar": {
             "outlinewidth": 0,
             "ticks": ""
            },
            "type": "mesh3d"
           }
          ],
          "parcoords": [
           {
            "line": {
             "colorbar": {
              "outlinewidth": 0,
              "ticks": ""
             }
            },
            "type": "parcoords"
           }
          ],
          "pie": [
           {
            "automargin": true,
            "type": "pie"
           }
          ],
          "scatter": [
           {
            "fillpattern": {
             "fillmode": "overlay",
             "size": 10,
             "solidity": 0.2
            },
            "type": "scatter"
           }
          ],
          "scatter3d": [
           {
            "line": {
             "colorbar": {
              "outlinewidth": 0,
              "ticks": ""
             }
            },
            "marker": {
             "colorbar": {
              "outlinewidth": 0,
              "ticks": ""
             }
            },
            "type": "scatter3d"
           }
          ],
          "scattercarpet": [
           {
            "marker": {
             "colorbar": {
              "outlinewidth": 0,
              "ticks": ""
             }
            },
            "type": "scattercarpet"
           }
          ],
          "scattergeo": [
           {
            "marker": {
             "colorbar": {
              "outlinewidth": 0,
              "ticks": ""
             }
            },
            "type": "scattergeo"
           }
          ],
          "scattergl": [
           {
            "marker": {
             "colorbar": {
              "outlinewidth": 0,
              "ticks": ""
             }
            },
            "type": "scattergl"
           }
          ],
          "scattermapbox": [
           {
            "marker": {
             "colorbar": {
              "outlinewidth": 0,
              "ticks": ""
             }
            },
            "type": "scattermapbox"
           }
          ],
          "scatterpolar": [
           {
            "marker": {
             "colorbar": {
              "outlinewidth": 0,
              "ticks": ""
             }
            },
            "type": "scatterpolar"
           }
          ],
          "scatterpolargl": [
           {
            "marker": {
             "colorbar": {
              "outlinewidth": 0,
              "ticks": ""
             }
            },
            "type": "scatterpolargl"
           }
          ],
          "scatterternary": [
           {
            "marker": {
             "colorbar": {
              "outlinewidth": 0,
              "ticks": ""
             }
            },
            "type": "scatterternary"
           }
          ],
          "surface": [
           {
            "colorbar": {
             "outlinewidth": 0,
             "ticks": ""
            },
            "colorscale": [
             [
              0,
              "#0d0887"
             ],
             [
              0.1111111111111111,
              "#46039f"
             ],
             [
              0.2222222222222222,
              "#7201a8"
             ],
             [
              0.3333333333333333,
              "#9c179e"
             ],
             [
              0.4444444444444444,
              "#bd3786"
             ],
             [
              0.5555555555555556,
              "#d8576b"
             ],
             [
              0.6666666666666666,
              "#ed7953"
             ],
             [
              0.7777777777777778,
              "#fb9f3a"
             ],
             [
              0.8888888888888888,
              "#fdca26"
             ],
             [
              1,
              "#f0f921"
             ]
            ],
            "type": "surface"
           }
          ],
          "table": [
           {
            "cells": {
             "fill": {
              "color": "#EBF0F8"
             },
             "line": {
              "color": "white"
             }
            },
            "header": {
             "fill": {
              "color": "#C8D4E3"
             },
             "line": {
              "color": "white"
             }
            },
            "type": "table"
           }
          ]
         },
         "layout": {
          "annotationdefaults": {
           "arrowcolor": "#2a3f5f",
           "arrowhead": 0,
           "arrowwidth": 1
          },
          "autotypenumbers": "strict",
          "coloraxis": {
           "colorbar": {
            "outlinewidth": 0,
            "ticks": ""
           }
          },
          "colorscale": {
           "diverging": [
            [
             0,
             "#8e0152"
            ],
            [
             0.1,
             "#c51b7d"
            ],
            [
             0.2,
             "#de77ae"
            ],
            [
             0.3,
             "#f1b6da"
            ],
            [
             0.4,
             "#fde0ef"
            ],
            [
             0.5,
             "#f7f7f7"
            ],
            [
             0.6,
             "#e6f5d0"
            ],
            [
             0.7,
             "#b8e186"
            ],
            [
             0.8,
             "#7fbc41"
            ],
            [
             0.9,
             "#4d9221"
            ],
            [
             1,
             "#276419"
            ]
           ],
           "sequential": [
            [
             0,
             "#0d0887"
            ],
            [
             0.1111111111111111,
             "#46039f"
            ],
            [
             0.2222222222222222,
             "#7201a8"
            ],
            [
             0.3333333333333333,
             "#9c179e"
            ],
            [
             0.4444444444444444,
             "#bd3786"
            ],
            [
             0.5555555555555556,
             "#d8576b"
            ],
            [
             0.6666666666666666,
             "#ed7953"
            ],
            [
             0.7777777777777778,
             "#fb9f3a"
            ],
            [
             0.8888888888888888,
             "#fdca26"
            ],
            [
             1,
             "#f0f921"
            ]
           ],
           "sequentialminus": [
            [
             0,
             "#0d0887"
            ],
            [
             0.1111111111111111,
             "#46039f"
            ],
            [
             0.2222222222222222,
             "#7201a8"
            ],
            [
             0.3333333333333333,
             "#9c179e"
            ],
            [
             0.4444444444444444,
             "#bd3786"
            ],
            [
             0.5555555555555556,
             "#d8576b"
            ],
            [
             0.6666666666666666,
             "#ed7953"
            ],
            [
             0.7777777777777778,
             "#fb9f3a"
            ],
            [
             0.8888888888888888,
             "#fdca26"
            ],
            [
             1,
             "#f0f921"
            ]
           ]
          },
          "colorway": [
           "#636efa",
           "#EF553B",
           "#00cc96",
           "#ab63fa",
           "#FFA15A",
           "#19d3f3",
           "#FF6692",
           "#B6E880",
           "#FF97FF",
           "#FECB52"
          ],
          "font": {
           "color": "#2a3f5f"
          },
          "geo": {
           "bgcolor": "white",
           "lakecolor": "white",
           "landcolor": "#E5ECF6",
           "showlakes": true,
           "showland": true,
           "subunitcolor": "white"
          },
          "hoverlabel": {
           "align": "left"
          },
          "hovermode": "closest",
          "mapbox": {
           "style": "light"
          },
          "paper_bgcolor": "white",
          "plot_bgcolor": "#E5ECF6",
          "polar": {
           "angularaxis": {
            "gridcolor": "white",
            "linecolor": "white",
            "ticks": ""
           },
           "bgcolor": "#E5ECF6",
           "radialaxis": {
            "gridcolor": "white",
            "linecolor": "white",
            "ticks": ""
           }
          },
          "scene": {
           "xaxis": {
            "backgroundcolor": "#E5ECF6",
            "gridcolor": "white",
            "gridwidth": 2,
            "linecolor": "white",
            "showbackground": true,
            "ticks": "",
            "zerolinecolor": "white"
           },
           "yaxis": {
            "backgroundcolor": "#E5ECF6",
            "gridcolor": "white",
            "gridwidth": 2,
            "linecolor": "white",
            "showbackground": true,
            "ticks": "",
            "zerolinecolor": "white"
           },
           "zaxis": {
            "backgroundcolor": "#E5ECF6",
            "gridcolor": "white",
            "gridwidth": 2,
            "linecolor": "white",
            "showbackground": true,
            "ticks": "",
            "zerolinecolor": "white"
           }
          },
          "shapedefaults": {
           "line": {
            "color": "#2a3f5f"
           }
          },
          "ternary": {
           "aaxis": {
            "gridcolor": "white",
            "linecolor": "white",
            "ticks": ""
           },
           "baxis": {
            "gridcolor": "white",
            "linecolor": "white",
            "ticks": ""
           },
           "bgcolor": "#E5ECF6",
           "caxis": {
            "gridcolor": "white",
            "linecolor": "white",
            "ticks": ""
           }
          },
          "title": {
           "x": 0.05
          },
          "xaxis": {
           "automargin": true,
           "gridcolor": "white",
           "linecolor": "white",
           "ticks": "",
           "title": {
            "standoff": 15
           },
           "zerolinecolor": "white",
           "zerolinewidth": 2
          },
          "yaxis": {
           "automargin": true,
           "gridcolor": "white",
           "linecolor": "white",
           "ticks": "",
           "title": {
            "standoff": 15
           },
           "zerolinecolor": "white",
           "zerolinewidth": 2
          }
         }
        },
        "title": {
         "text": "Tech and Vocational Education Expenditures Comparison",
         "x": 0.5,
         "xanchor": "center",
         "y": 0.98,
         "yanchor": "top"
        },
        "width": 1050,
        "xaxis": {
         "anchor": "y",
         "domain": [
          0,
          0.45
         ]
        },
        "xaxis2": {
         "anchor": "y2",
         "domain": [
          0.55,
          1
         ]
        },
        "yaxis": {
         "anchor": "x",
         "domain": [
          0,
          1
         ]
        },
        "yaxis2": {
         "anchor": "x2",
         "domain": [
          0,
          1
         ]
        }
       }
      }
     },
     "metadata": {},
     "output_type": "display_data"
    }
   ],
   "source": [
    "tech_vocational_line_charts_combined = create_combined_figure(tech_voc_expenditures_line_chart1, \n",
    "                                            tech_voc_expenditures_line_chart2, \n",
    "                                            'Tech and Vocational Education Expenditures Comparison',\n",
    "                                            ('Total Expenditures Over Time', 'Expenditures by Title Over Time')\n",
    "                                            )\n",
    "\n",
    "tech_vocational_line_charts_combined.show()"
   ]
  },
  {
   "cell_type": "markdown",
   "metadata": {},
   "source": [
    "### Notes:\n",
    "\n",
    "Original Analysis:  \n",
    "\n",
    "**Total Expenditures Over Time:**  \n",
    "- There is steady positive growth in Tech and Vocational expenditures from 2010 to 2014.\n",
    "- In 2014, there is a sharp increase in expenditures ending in 2016.\n",
    "- In 2016, expenditures appear to steady.\n",
    "- Positive growth is visible throughout. \n",
    "\n",
    "**Expenditures by Title Over Time:**  \n",
    "- After breaking the data out by Expenditure Title, we see that in 2015, two additional expenditure categories were added:\n",
    "    - Tech Related Supplies & Services\n",
    "    - Tech Related Equipment\n",
    "- There is fairly consistent positive growth in Tech Related Equipment between 2015 and 2019.\n",
    "- After 2019, there is a slight decline in this expenditure category. \n",
    "    - It should be noted that COVID-19 started spreading in late 2019, which lead to worldwide pandemic in 2020. \n",
    "- Tech Related Supplies & Services appears to have the largest impact to the growth exhibited between 2015 and 2020.\n",
    "- Teacher Salaries Vocational Education remains constant.  \n",
    "\n",
    "### Additional Analysis:  \n",
    "- Difference between 2014 & 2016: $ 4,350,353,000  \n",
    "- Percent difference between 2014 & 2016: 82.64%  \n",
    "- Teacher Salaries Vocational Education % of Total Tech and Vocational Expenditures from 2014 to 2016: 75.78%  \n",
    "    - Total: $16,308,173,000  \n",
    "- Tech Related Supplies & Services percent of Total Tech and Vocational Expenditures from 2014 to 2016: 18.35%  \n",
    "    - Total: $3,948,099,000  \n",
    "- Tech Related Equipment percent of Total Tech and Vocational Expenditures from 2014 to 2016: 5.87%  \n",
    "    - Total: $1,263,890,000\n",
    "\n",
    "#### Summary:  \n",
    "Between 2014 and 2016, there was an 82.64% increase in tech and vocational education related expenditures. Upon further investigation, this increase was driven by the addition of two expenditure categories, `Tech Related Supplies Services` and `Tech Related Equipment`. The main driving factor in the expenditure spike was due to `Tech Related Supplies Services`, which accounted for 18.35% of the total expenditures between 2014 and 2016. Although we see consistent growth in `Teacher Salaries Vocational Edication`, this still accounted for 75.78% of expenditures between 2014 and 2016. After 2016, the sharp spike in expenditures slows, but still maintains a positive trend. `Tech Related Supplies Services` continues to have a greater influence to the overall trend despite the spike in expenditures slowing after 2016.\n",
    "\n",
    "**Food for Thought:**  \n",
    "- There is a steady increase in `Teacher Salaries Vocational Education` over the last decade. Is this change driven by higher teacher salaries, more vocational class offerings resulting in more teachers being hired, or is it a combination of both?\n",
    "- What are the rankings of expenditures by state?\n",
    "- What are the rankings of individual school districts within each state that are driving these trends?\n",
    "- Do student counts per school district/state have any impact on these trends?"
   ]
  },
  {
   "cell_type": "code",
   "execution_count": 86,
   "metadata": {},
   "outputs": [
    {
     "data": {
      "text/html": [
       "<div>\n",
       "<style scoped>\n",
       "    .dataframe tbody tr th:only-of-type {\n",
       "        vertical-align: middle;\n",
       "    }\n",
       "\n",
       "    .dataframe tbody tr th {\n",
       "        vertical-align: top;\n",
       "    }\n",
       "\n",
       "    .dataframe thead th {\n",
       "        text-align: right;\n",
       "    }\n",
       "</style>\n",
       "<table border=\"1\" class=\"dataframe\">\n",
       "  <thead>\n",
       "    <tr style=\"text-align: right;\">\n",
       "      <th></th>\n",
       "      <th>year</th>\n",
       "      <th>expenditure_title</th>\n",
       "      <th>tech_vocational_cost_per_student</th>\n",
       "    </tr>\n",
       "  </thead>\n",
       "  <tbody>\n",
       "    <tr>\n",
       "      <th>0</th>\n",
       "      <td>2010</td>\n",
       "      <td>teacher_salaries_vocational_education</td>\n",
       "      <td>4967.648605</td>\n",
       "    </tr>\n",
       "    <tr>\n",
       "      <th>1</th>\n",
       "      <td>2011</td>\n",
       "      <td>teacher_salaries_vocational_education</td>\n",
       "      <td>5143.232523</td>\n",
       "    </tr>\n",
       "    <tr>\n",
       "      <th>2</th>\n",
       "      <td>2012</td>\n",
       "      <td>teacher_salaries_vocational_education</td>\n",
       "      <td>5135.916404</td>\n",
       "    </tr>\n",
       "    <tr>\n",
       "      <th>3</th>\n",
       "      <td>2013</td>\n",
       "      <td>teacher_salaries_vocational_education</td>\n",
       "      <td>5184.779075</td>\n",
       "    </tr>\n",
       "    <tr>\n",
       "      <th>4</th>\n",
       "      <td>2014</td>\n",
       "      <td>teacher_salaries_vocational_education</td>\n",
       "      <td>5512.360265</td>\n",
       "    </tr>\n",
       "  </tbody>\n",
       "</table>\n",
       "</div>"
      ],
      "text/plain": [
       "   year                      expenditure_title  \\\n",
       "0  2010  teacher_salaries_vocational_education   \n",
       "1  2011  teacher_salaries_vocational_education   \n",
       "2  2012  teacher_salaries_vocational_education   \n",
       "3  2013  teacher_salaries_vocational_education   \n",
       "4  2014  teacher_salaries_vocational_education   \n",
       "\n",
       "   tech_vocational_cost_per_student  \n",
       "0                       4967.648605  \n",
       "1                       5143.232523  \n",
       "2                       5135.916404  \n",
       "3                       5184.779075  \n",
       "4                       5512.360265  "
      ]
     },
     "execution_count": 86,
     "metadata": {},
     "output_type": "execute_result"
    }
   ],
   "source": [
    "grouped = merged.groupby(['year', 'expenditure_title'])['tech_vocational_cost_per_student'].sum().reset_index()\n",
    "grouped.head()"
   ]
  },
  {
   "cell_type": "code",
   "execution_count": 87,
   "metadata": {},
   "outputs": [
    {
     "name": "stdout",
     "output_type": "stream",
     "text": [
      "2014 Total: $5512.36\n",
      "2015 Total: $8316.33\n",
      "2016 Total: $11817.46\n"
     ]
    }
   ],
   "source": [
    "grouped_cost_per_student = grouped.groupby('year')['tech_vocational_cost_per_student'].sum().reset_index()\n",
    "cost_per_student_2014 = grouped_cost_per_student[grouped_cost_per_student['year'] == 2014]['tech_vocational_cost_per_student'].sum()\n",
    "cost_per_student_2015 = grouped_cost_per_student[grouped_cost_per_student['year'] == 2015]['tech_vocational_cost_per_student'].sum()\n",
    "cost_per_student_2016 = grouped_cost_per_student[grouped_cost_per_student['year'] == 2016]['tech_vocational_cost_per_student'].sum()\n",
    "\n",
    "print(f'2014 Total: ${cost_per_student_2014:.2f}')\n",
    "print(f'2015 Total: ${cost_per_student_2015:.2f}')\n",
    "print(f'2016 Total: ${cost_per_student_2016:.2f}')"
   ]
  },
  {
   "cell_type": "code",
   "execution_count": 88,
   "metadata": {},
   "outputs": [
    {
     "name": "stdout",
     "output_type": "stream",
     "text": [
      "Difference between 2014 and 2016: $6305.10\n",
      "Percent difference between 2014 and 2016: 114.38%\n"
     ]
    }
   ],
   "source": [
    "cost_per_student_difference_between_2014_2016 = cost_per_student_2016 - cost_per_student_2014\n",
    "\n",
    "cost_per_student_percent_difference_between_2014_2016 = cost_per_student_difference_between_2014_2016 / cost_per_student_2014 * 100\n",
    "\n",
    "print(f'Difference between 2014 and 2016: ${cost_per_student_difference_between_2014_2016:.2f}')\n",
    "print(f'Percent difference between 2014 and 2016: {cost_per_student_percent_difference_between_2014_2016:.2f}%')"
   ]
  },
  {
   "cell_type": "code",
   "execution_count": 89,
   "metadata": {},
   "outputs": [
    {
     "data": {
      "text/html": [
       "<div>\n",
       "<style scoped>\n",
       "    .dataframe tbody tr th:only-of-type {\n",
       "        vertical-align: middle;\n",
       "    }\n",
       "\n",
       "    .dataframe tbody tr th {\n",
       "        vertical-align: top;\n",
       "    }\n",
       "\n",
       "    .dataframe thead th {\n",
       "        text-align: right;\n",
       "    }\n",
       "</style>\n",
       "<table border=\"1\" class=\"dataframe\">\n",
       "  <thead>\n",
       "    <tr style=\"text-align: right;\">\n",
       "      <th></th>\n",
       "      <th>year</th>\n",
       "      <th>expenditure_title</th>\n",
       "      <th>tech_vocational_cost_per_student</th>\n",
       "      <th>growth_rate</th>\n",
       "    </tr>\n",
       "  </thead>\n",
       "  <tbody>\n",
       "    <tr>\n",
       "      <th>20</th>\n",
       "      <td>2020</td>\n",
       "      <td>cares_act_expenditure_tech_related_equipment</td>\n",
       "      <td>69.398844</td>\n",
       "      <td>NaN</td>\n",
       "    </tr>\n",
       "    <tr>\n",
       "      <th>21</th>\n",
       "      <td>2020</td>\n",
       "      <td>cares_act_expenditure_tech_related_supplies_se...</td>\n",
       "      <td>175.002068</td>\n",
       "      <td>NaN</td>\n",
       "    </tr>\n",
       "    <tr>\n",
       "      <th>0</th>\n",
       "      <td>2010</td>\n",
       "      <td>teacher_salaries_vocational_education</td>\n",
       "      <td>4967.648605</td>\n",
       "      <td>NaN</td>\n",
       "    </tr>\n",
       "    <tr>\n",
       "      <th>1</th>\n",
       "      <td>2011</td>\n",
       "      <td>teacher_salaries_vocational_education</td>\n",
       "      <td>5143.232523</td>\n",
       "      <td>3.534548</td>\n",
       "    </tr>\n",
       "    <tr>\n",
       "      <th>2</th>\n",
       "      <td>2012</td>\n",
       "      <td>teacher_salaries_vocational_education</td>\n",
       "      <td>5135.916404</td>\n",
       "      <td>-0.142247</td>\n",
       "    </tr>\n",
       "  </tbody>\n",
       "</table>\n",
       "</div>"
      ],
      "text/plain": [
       "    year                                  expenditure_title  \\\n",
       "20  2020       cares_act_expenditure_tech_related_equipment   \n",
       "21  2020  cares_act_expenditure_tech_related_supplies_se...   \n",
       "0   2010              teacher_salaries_vocational_education   \n",
       "1   2011              teacher_salaries_vocational_education   \n",
       "2   2012              teacher_salaries_vocational_education   \n",
       "\n",
       "    tech_vocational_cost_per_student  growth_rate  \n",
       "20                         69.398844          NaN  \n",
       "21                        175.002068          NaN  \n",
       "0                        4967.648605          NaN  \n",
       "1                        5143.232523     3.534548  \n",
       "2                        5135.916404    -0.142247  "
      ]
     },
     "execution_count": 89,
     "metadata": {},
     "output_type": "execute_result"
    }
   ],
   "source": [
    "grouped = grouped.sort_values(by=['expenditure_title', 'year'])\n",
    "\n",
    "# Then, calculate the year-to-year growth rate for each category\n",
    "grouped['growth_rate'] = grouped.groupby('expenditure_title')['tech_vocational_cost_per_student'].pct_change()\n",
    "grouped['growth_rate'] *= 100\n",
    "\n",
    "grouped.head()"
   ]
  },
  {
   "cell_type": "code",
   "execution_count": 90,
   "metadata": {},
   "outputs": [
    {
     "name": "stdout",
     "output_type": "stream",
     "text": [
      "Average cost per student growth rate of Teacher Salaries - Vocational Education between 2013 and 2019: 3.27%\n"
     ]
    }
   ],
   "source": [
    "tech_vocational_salaries_cost_per_student_growth_rate_2013_2019 = grouped[\n",
    "    (grouped['expenditure_title'] == 'teacher_salaries_vocational_education') &\n",
    "    grouped['year'].between(2013, 2019)]['growth_rate'].mean()\n",
    "\n",
    "print(f\"Average cost per student growth rate of Teacher Salaries - Vocational Education between 2013 and 2019: {tech_vocational_salaries_cost_per_student_growth_rate_2013_2019:.2f}%\")"
   ]
  },
  {
   "cell_type": "code",
   "execution_count": 91,
   "metadata": {},
   "outputs": [
    {
     "name": "stdout",
     "output_type": "stream",
     "text": [
      "Average cost per student growth rate of Tech Related Equipment between 2015 and 2016: 68.56%\n",
      "Average cost per student growth rate of Tech Related Equipment between 2016 and 2020: 21.36%\n"
     ]
    }
   ],
   "source": [
    "tech_related_equipment_cost_per_student_growth_rate_2015_2016 = grouped[\n",
    "    (grouped['expenditure_title'] == 'tech_related_equipment') &\n",
    "    grouped['year'].between(2015, 2016)]['growth_rate'].mean()\n",
    "\n",
    "tech_related_equipment_cost_per_student_growth_rate_2016_2020 = grouped[\n",
    "    (grouped['expenditure_title'] == 'tech_related_equipment') &\n",
    "    grouped['year'].between(2016, 2020)]['growth_rate'].mean()\n",
    "\n",
    "print(f\"Average cost per student growth rate of Tech Related Equipment between 2015 and 2016: {tech_related_equipment_cost_per_student_growth_rate_2015_2016:.2f}%\")\n",
    "print(f\"Average cost per student growth rate of Tech Related Equipment between 2016 and 2020: {tech_related_equipment_cost_per_student_growth_rate_2016_2020:.2f}%\")"
   ]
  },
  {
   "cell_type": "code",
   "execution_count": 92,
   "metadata": {},
   "outputs": [
    {
     "name": "stdout",
     "output_type": "stream",
     "text": [
      "Average cost per student growth rate of Tech Related Supplies & Services between 2015 and 2016: 146.71%\n",
      "Average cost per student growth rate of Tech Related Supplies & Services between 2016 and 2020: 42.20%\n"
     ]
    }
   ],
   "source": [
    "tech_related_supplies_services_cost_per_student_growth_rate_2015_2016 = grouped[\n",
    "    (grouped['expenditure_title'] == 'tech_related_supplies_services') &\n",
    "    grouped['year'].between(2015, 2016)]['growth_rate'].mean()\n",
    "\n",
    "tech_related_supplies_services_cost_per_student_growth_rate_2016_2020 = grouped[\n",
    "    (grouped['expenditure_title'] == 'tech_related_supplies_services') &\n",
    "    grouped['year'].between(2016, 2020)]['growth_rate'].mean()\n",
    "\n",
    "print(f\"Average cost per student growth rate of Tech Related Supplies & Services between 2015 and 2016: {tech_related_supplies_services_cost_per_student_growth_rate_2015_2016:.2f}%\")\n",
    "print(f\"Average cost per student growth rate of Tech Related Supplies & Services between 2016 and 2020: {tech_related_supplies_services_cost_per_student_growth_rate_2016_2020:.2f}%\")"
   ]
  },
  {
   "cell_type": "code",
   "execution_count": 93,
   "metadata": {},
   "outputs": [],
   "source": [
    "# Create Line Chart for Cost per Student Expenses\n",
    "tech_voc_cost_per_student_line_chart = px.line(grouped_cost_per_student,\n",
    "                                               x= 'year',\n",
    "                                               y= 'tech_vocational_cost_per_student',\n",
    "                                               title= 'Tech and Vocational Cost per Student by Year')"
   ]
  },
  {
   "cell_type": "code",
   "execution_count": 94,
   "metadata": {},
   "outputs": [],
   "source": [
    "# Create Line Chart for Cost per Student Expenses by Expenditure Title\n",
    "tech_voc_cost_per_student_line_chart1 = px.line(grouped,\n",
    "                                               x= 'year',\n",
    "                                               y= 'tech_vocational_cost_per_student', \n",
    "                                               color='expenditure_title', \n",
    "                                               title= 'Tech and Vocational Cost per Student by Year & Expenditure Title')\n"
   ]
  },
  {
   "cell_type": "code",
   "execution_count": 95,
   "metadata": {},
   "outputs": [
    {
     "data": {
      "application/vnd.plotly.v1+json": {
       "config": {
        "plotlyServerURL": "https://plot.ly"
       },
       "data": [
        {
         "hovertemplate": "expenditure_title=cares_act_expenditure_tech_related_equipment<br>year=%{x}<br>growth_rate=%{y}<extra></extra>",
         "legendgroup": "cares_act_expenditure_tech_related_equipment",
         "line": {
          "color": "#636efa",
          "dash": "solid"
         },
         "marker": {
          "symbol": "circle"
         },
         "mode": "lines",
         "name": "cares_act_expenditure_tech_related_equipment",
         "orientation": "v",
         "showlegend": true,
         "type": "scatter",
         "x": [
          2020
         ],
         "xaxis": "x",
         "y": [
          null
         ],
         "yaxis": "y"
        },
        {
         "hovertemplate": "expenditure_title=cares_act_expenditure_tech_related_supplies_services<br>year=%{x}<br>growth_rate=%{y}<extra></extra>",
         "legendgroup": "cares_act_expenditure_tech_related_supplies_services",
         "line": {
          "color": "#EF553B",
          "dash": "solid"
         },
         "marker": {
          "symbol": "circle"
         },
         "mode": "lines",
         "name": "cares_act_expenditure_tech_related_supplies_services",
         "orientation": "v",
         "showlegend": true,
         "type": "scatter",
         "x": [
          2020
         ],
         "xaxis": "x",
         "y": [
          null
         ],
         "yaxis": "y"
        },
        {
         "hovertemplate": "expenditure_title=teacher_salaries_vocational_education<br>year=%{x}<br>growth_rate=%{y}<extra></extra>",
         "legendgroup": "teacher_salaries_vocational_education",
         "line": {
          "color": "#00cc96",
          "dash": "solid"
         },
         "marker": {
          "symbol": "circle"
         },
         "mode": "lines",
         "name": "teacher_salaries_vocational_education",
         "orientation": "v",
         "showlegend": true,
         "type": "scatter",
         "x": [
          2010,
          2011,
          2012,
          2013,
          2014,
          2015,
          2016,
          2017,
          2018,
          2019,
          2020
         ],
         "xaxis": "x",
         "y": [
          null,
          3.5345478753845194,
          -0.14224749122051517,
          0.9513914789745836,
          6.318132070533555,
          2.8899827394625266,
          5.683505969498381,
          2.654679442725083,
          2.2511830155770296,
          2.1123432648073814,
          7.353870977625565
         ],
         "yaxis": "y"
        },
        {
         "hovertemplate": "expenditure_title=tech_related_equipment<br>year=%{x}<br>growth_rate=%{y}<extra></extra>",
         "legendgroup": "tech_related_equipment",
         "line": {
          "color": "#ab63fa",
          "dash": "solid"
         },
         "marker": {
          "symbol": "circle"
         },
         "mode": "lines",
         "name": "tech_related_equipment",
         "orientation": "v",
         "showlegend": true,
         "type": "scatter",
         "x": [
          2015,
          2016,
          2017,
          2018,
          2019,
          2020
         ],
         "xaxis": "x",
         "y": [
          null,
          68.55896851545909,
          26.588260457536748,
          2.575987315035566,
          3.4745369935292425,
          5.579212820204482
         ],
         "yaxis": "y"
        },
        {
         "hovertemplate": "expenditure_title=tech_related_supplies_services<br>year=%{x}<br>growth_rate=%{y}<extra></extra>",
         "legendgroup": "tech_related_supplies_services",
         "line": {
          "color": "#FFA15A",
          "dash": "solid"
         },
         "marker": {
          "symbol": "circle"
         },
         "mode": "lines",
         "name": "tech_related_supplies_services",
         "orientation": "v",
         "showlegend": true,
         "type": "scatter",
         "x": [
          2015,
          2016,
          2017,
          2018,
          2019,
          2020
         ],
         "xaxis": "x",
         "y": [
          null,
          146.7115930155429,
          -0.17104693783589475,
          19.102754134753376,
          16.8989606312832,
          28.47352799304639
         ],
         "yaxis": "y"
        }
       ],
       "layout": {
        "legend": {
         "title": {
          "text": "expenditure_title"
         },
         "tracegroupgap": 0
        },
        "template": {
         "data": {
          "bar": [
           {
            "error_x": {
             "color": "#2a3f5f"
            },
            "error_y": {
             "color": "#2a3f5f"
            },
            "marker": {
             "line": {
              "color": "#E5ECF6",
              "width": 0.5
             },
             "pattern": {
              "fillmode": "overlay",
              "size": 10,
              "solidity": 0.2
             }
            },
            "type": "bar"
           }
          ],
          "barpolar": [
           {
            "marker": {
             "line": {
              "color": "#E5ECF6",
              "width": 0.5
             },
             "pattern": {
              "fillmode": "overlay",
              "size": 10,
              "solidity": 0.2
             }
            },
            "type": "barpolar"
           }
          ],
          "carpet": [
           {
            "aaxis": {
             "endlinecolor": "#2a3f5f",
             "gridcolor": "white",
             "linecolor": "white",
             "minorgridcolor": "white",
             "startlinecolor": "#2a3f5f"
            },
            "baxis": {
             "endlinecolor": "#2a3f5f",
             "gridcolor": "white",
             "linecolor": "white",
             "minorgridcolor": "white",
             "startlinecolor": "#2a3f5f"
            },
            "type": "carpet"
           }
          ],
          "choropleth": [
           {
            "colorbar": {
             "outlinewidth": 0,
             "ticks": ""
            },
            "type": "choropleth"
           }
          ],
          "contour": [
           {
            "colorbar": {
             "outlinewidth": 0,
             "ticks": ""
            },
            "colorscale": [
             [
              0,
              "#0d0887"
             ],
             [
              0.1111111111111111,
              "#46039f"
             ],
             [
              0.2222222222222222,
              "#7201a8"
             ],
             [
              0.3333333333333333,
              "#9c179e"
             ],
             [
              0.4444444444444444,
              "#bd3786"
             ],
             [
              0.5555555555555556,
              "#d8576b"
             ],
             [
              0.6666666666666666,
              "#ed7953"
             ],
             [
              0.7777777777777778,
              "#fb9f3a"
             ],
             [
              0.8888888888888888,
              "#fdca26"
             ],
             [
              1,
              "#f0f921"
             ]
            ],
            "type": "contour"
           }
          ],
          "contourcarpet": [
           {
            "colorbar": {
             "outlinewidth": 0,
             "ticks": ""
            },
            "type": "contourcarpet"
           }
          ],
          "heatmap": [
           {
            "colorbar": {
             "outlinewidth": 0,
             "ticks": ""
            },
            "colorscale": [
             [
              0,
              "#0d0887"
             ],
             [
              0.1111111111111111,
              "#46039f"
             ],
             [
              0.2222222222222222,
              "#7201a8"
             ],
             [
              0.3333333333333333,
              "#9c179e"
             ],
             [
              0.4444444444444444,
              "#bd3786"
             ],
             [
              0.5555555555555556,
              "#d8576b"
             ],
             [
              0.6666666666666666,
              "#ed7953"
             ],
             [
              0.7777777777777778,
              "#fb9f3a"
             ],
             [
              0.8888888888888888,
              "#fdca26"
             ],
             [
              1,
              "#f0f921"
             ]
            ],
            "type": "heatmap"
           }
          ],
          "heatmapgl": [
           {
            "colorbar": {
             "outlinewidth": 0,
             "ticks": ""
            },
            "colorscale": [
             [
              0,
              "#0d0887"
             ],
             [
              0.1111111111111111,
              "#46039f"
             ],
             [
              0.2222222222222222,
              "#7201a8"
             ],
             [
              0.3333333333333333,
              "#9c179e"
             ],
             [
              0.4444444444444444,
              "#bd3786"
             ],
             [
              0.5555555555555556,
              "#d8576b"
             ],
             [
              0.6666666666666666,
              "#ed7953"
             ],
             [
              0.7777777777777778,
              "#fb9f3a"
             ],
             [
              0.8888888888888888,
              "#fdca26"
             ],
             [
              1,
              "#f0f921"
             ]
            ],
            "type": "heatmapgl"
           }
          ],
          "histogram": [
           {
            "marker": {
             "pattern": {
              "fillmode": "overlay",
              "size": 10,
              "solidity": 0.2
             }
            },
            "type": "histogram"
           }
          ],
          "histogram2d": [
           {
            "colorbar": {
             "outlinewidth": 0,
             "ticks": ""
            },
            "colorscale": [
             [
              0,
              "#0d0887"
             ],
             [
              0.1111111111111111,
              "#46039f"
             ],
             [
              0.2222222222222222,
              "#7201a8"
             ],
             [
              0.3333333333333333,
              "#9c179e"
             ],
             [
              0.4444444444444444,
              "#bd3786"
             ],
             [
              0.5555555555555556,
              "#d8576b"
             ],
             [
              0.6666666666666666,
              "#ed7953"
             ],
             [
              0.7777777777777778,
              "#fb9f3a"
             ],
             [
              0.8888888888888888,
              "#fdca26"
             ],
             [
              1,
              "#f0f921"
             ]
            ],
            "type": "histogram2d"
           }
          ],
          "histogram2dcontour": [
           {
            "colorbar": {
             "outlinewidth": 0,
             "ticks": ""
            },
            "colorscale": [
             [
              0,
              "#0d0887"
             ],
             [
              0.1111111111111111,
              "#46039f"
             ],
             [
              0.2222222222222222,
              "#7201a8"
             ],
             [
              0.3333333333333333,
              "#9c179e"
             ],
             [
              0.4444444444444444,
              "#bd3786"
             ],
             [
              0.5555555555555556,
              "#d8576b"
             ],
             [
              0.6666666666666666,
              "#ed7953"
             ],
             [
              0.7777777777777778,
              "#fb9f3a"
             ],
             [
              0.8888888888888888,
              "#fdca26"
             ],
             [
              1,
              "#f0f921"
             ]
            ],
            "type": "histogram2dcontour"
           }
          ],
          "mesh3d": [
           {
            "colorbar": {
             "outlinewidth": 0,
             "ticks": ""
            },
            "type": "mesh3d"
           }
          ],
          "parcoords": [
           {
            "line": {
             "colorbar": {
              "outlinewidth": 0,
              "ticks": ""
             }
            },
            "type": "parcoords"
           }
          ],
          "pie": [
           {
            "automargin": true,
            "type": "pie"
           }
          ],
          "scatter": [
           {
            "fillpattern": {
             "fillmode": "overlay",
             "size": 10,
             "solidity": 0.2
            },
            "type": "scatter"
           }
          ],
          "scatter3d": [
           {
            "line": {
             "colorbar": {
              "outlinewidth": 0,
              "ticks": ""
             }
            },
            "marker": {
             "colorbar": {
              "outlinewidth": 0,
              "ticks": ""
             }
            },
            "type": "scatter3d"
           }
          ],
          "scattercarpet": [
           {
            "marker": {
             "colorbar": {
              "outlinewidth": 0,
              "ticks": ""
             }
            },
            "type": "scattercarpet"
           }
          ],
          "scattergeo": [
           {
            "marker": {
             "colorbar": {
              "outlinewidth": 0,
              "ticks": ""
             }
            },
            "type": "scattergeo"
           }
          ],
          "scattergl": [
           {
            "marker": {
             "colorbar": {
              "outlinewidth": 0,
              "ticks": ""
             }
            },
            "type": "scattergl"
           }
          ],
          "scattermapbox": [
           {
            "marker": {
             "colorbar": {
              "outlinewidth": 0,
              "ticks": ""
             }
            },
            "type": "scattermapbox"
           }
          ],
          "scatterpolar": [
           {
            "marker": {
             "colorbar": {
              "outlinewidth": 0,
              "ticks": ""
             }
            },
            "type": "scatterpolar"
           }
          ],
          "scatterpolargl": [
           {
            "marker": {
             "colorbar": {
              "outlinewidth": 0,
              "ticks": ""
             }
            },
            "type": "scatterpolargl"
           }
          ],
          "scatterternary": [
           {
            "marker": {
             "colorbar": {
              "outlinewidth": 0,
              "ticks": ""
             }
            },
            "type": "scatterternary"
           }
          ],
          "surface": [
           {
            "colorbar": {
             "outlinewidth": 0,
             "ticks": ""
            },
            "colorscale": [
             [
              0,
              "#0d0887"
             ],
             [
              0.1111111111111111,
              "#46039f"
             ],
             [
              0.2222222222222222,
              "#7201a8"
             ],
             [
              0.3333333333333333,
              "#9c179e"
             ],
             [
              0.4444444444444444,
              "#bd3786"
             ],
             [
              0.5555555555555556,
              "#d8576b"
             ],
             [
              0.6666666666666666,
              "#ed7953"
             ],
             [
              0.7777777777777778,
              "#fb9f3a"
             ],
             [
              0.8888888888888888,
              "#fdca26"
             ],
             [
              1,
              "#f0f921"
             ]
            ],
            "type": "surface"
           }
          ],
          "table": [
           {
            "cells": {
             "fill": {
              "color": "#EBF0F8"
             },
             "line": {
              "color": "white"
             }
            },
            "header": {
             "fill": {
              "color": "#C8D4E3"
             },
             "line": {
              "color": "white"
             }
            },
            "type": "table"
           }
          ]
         },
         "layout": {
          "annotationdefaults": {
           "arrowcolor": "#2a3f5f",
           "arrowhead": 0,
           "arrowwidth": 1
          },
          "autotypenumbers": "strict",
          "coloraxis": {
           "colorbar": {
            "outlinewidth": 0,
            "ticks": ""
           }
          },
          "colorscale": {
           "diverging": [
            [
             0,
             "#8e0152"
            ],
            [
             0.1,
             "#c51b7d"
            ],
            [
             0.2,
             "#de77ae"
            ],
            [
             0.3,
             "#f1b6da"
            ],
            [
             0.4,
             "#fde0ef"
            ],
            [
             0.5,
             "#f7f7f7"
            ],
            [
             0.6,
             "#e6f5d0"
            ],
            [
             0.7,
             "#b8e186"
            ],
            [
             0.8,
             "#7fbc41"
            ],
            [
             0.9,
             "#4d9221"
            ],
            [
             1,
             "#276419"
            ]
           ],
           "sequential": [
            [
             0,
             "#0d0887"
            ],
            [
             0.1111111111111111,
             "#46039f"
            ],
            [
             0.2222222222222222,
             "#7201a8"
            ],
            [
             0.3333333333333333,
             "#9c179e"
            ],
            [
             0.4444444444444444,
             "#bd3786"
            ],
            [
             0.5555555555555556,
             "#d8576b"
            ],
            [
             0.6666666666666666,
             "#ed7953"
            ],
            [
             0.7777777777777778,
             "#fb9f3a"
            ],
            [
             0.8888888888888888,
             "#fdca26"
            ],
            [
             1,
             "#f0f921"
            ]
           ],
           "sequentialminus": [
            [
             0,
             "#0d0887"
            ],
            [
             0.1111111111111111,
             "#46039f"
            ],
            [
             0.2222222222222222,
             "#7201a8"
            ],
            [
             0.3333333333333333,
             "#9c179e"
            ],
            [
             0.4444444444444444,
             "#bd3786"
            ],
            [
             0.5555555555555556,
             "#d8576b"
            ],
            [
             0.6666666666666666,
             "#ed7953"
            ],
            [
             0.7777777777777778,
             "#fb9f3a"
            ],
            [
             0.8888888888888888,
             "#fdca26"
            ],
            [
             1,
             "#f0f921"
            ]
           ]
          },
          "colorway": [
           "#636efa",
           "#EF553B",
           "#00cc96",
           "#ab63fa",
           "#FFA15A",
           "#19d3f3",
           "#FF6692",
           "#B6E880",
           "#FF97FF",
           "#FECB52"
          ],
          "font": {
           "color": "#2a3f5f"
          },
          "geo": {
           "bgcolor": "white",
           "lakecolor": "white",
           "landcolor": "#E5ECF6",
           "showlakes": true,
           "showland": true,
           "subunitcolor": "white"
          },
          "hoverlabel": {
           "align": "left"
          },
          "hovermode": "closest",
          "mapbox": {
           "style": "light"
          },
          "paper_bgcolor": "white",
          "plot_bgcolor": "#E5ECF6",
          "polar": {
           "angularaxis": {
            "gridcolor": "white",
            "linecolor": "white",
            "ticks": ""
           },
           "bgcolor": "#E5ECF6",
           "radialaxis": {
            "gridcolor": "white",
            "linecolor": "white",
            "ticks": ""
           }
          },
          "scene": {
           "xaxis": {
            "backgroundcolor": "#E5ECF6",
            "gridcolor": "white",
            "gridwidth": 2,
            "linecolor": "white",
            "showbackground": true,
            "ticks": "",
            "zerolinecolor": "white"
           },
           "yaxis": {
            "backgroundcolor": "#E5ECF6",
            "gridcolor": "white",
            "gridwidth": 2,
            "linecolor": "white",
            "showbackground": true,
            "ticks": "",
            "zerolinecolor": "white"
           },
           "zaxis": {
            "backgroundcolor": "#E5ECF6",
            "gridcolor": "white",
            "gridwidth": 2,
            "linecolor": "white",
            "showbackground": true,
            "ticks": "",
            "zerolinecolor": "white"
           }
          },
          "shapedefaults": {
           "line": {
            "color": "#2a3f5f"
           }
          },
          "ternary": {
           "aaxis": {
            "gridcolor": "white",
            "linecolor": "white",
            "ticks": ""
           },
           "baxis": {
            "gridcolor": "white",
            "linecolor": "white",
            "ticks": ""
           },
           "bgcolor": "#E5ECF6",
           "caxis": {
            "gridcolor": "white",
            "linecolor": "white",
            "ticks": ""
           }
          },
          "title": {
           "x": 0.05
          },
          "xaxis": {
           "automargin": true,
           "gridcolor": "white",
           "linecolor": "white",
           "ticks": "",
           "title": {
            "standoff": 15
           },
           "zerolinecolor": "white",
           "zerolinewidth": 2
          },
          "yaxis": {
           "automargin": true,
           "gridcolor": "white",
           "linecolor": "white",
           "ticks": "",
           "title": {
            "standoff": 15
           },
           "zerolinecolor": "white",
           "zerolinewidth": 2
          }
         }
        },
        "title": {
         "text": "Tech and Vocational Cost per Student by Year & Expenditure Title"
        },
        "xaxis": {
         "anchor": "y",
         "domain": [
          0,
          1
         ],
         "title": {
          "text": "year"
         }
        },
        "yaxis": {
         "anchor": "x",
         "domain": [
          0,
          1
         ],
         "title": {
          "text": "growth_rate"
         }
        }
       }
      }
     },
     "metadata": {},
     "output_type": "display_data"
    }
   ],
   "source": [
    "# Create Line Chart for Cost per Student Expenses by Expenditure Title\n",
    "tech_voc_cost_per_student_line_chart2 = px.line(grouped,\n",
    "                                               x= 'year',\n",
    "                                               y= 'growth_rate', \n",
    "                                               color='expenditure_title', \n",
    "                                               title= 'Tech and Vocational Cost per Student by Year & Expenditure Title')\n",
    "\n",
    "tech_voc_cost_per_student_line_chart2.show()"
   ]
  },
  {
   "cell_type": "code",
   "execution_count": 96,
   "metadata": {},
   "outputs": [
    {
     "data": {
      "application/vnd.plotly.v1+json": {
       "config": {
        "plotlyServerURL": "https://plot.ly"
       },
       "data": [
        {
         "hovertemplate": "year=%{x}<br>tech_vocational_cost_per_student=%{y}<extra></extra>",
         "legendgroup": "",
         "line": {
          "color": "#636efa",
          "dash": "solid"
         },
         "marker": {
          "symbol": "circle"
         },
         "mode": "lines",
         "name": "",
         "orientation": "v",
         "showlegend": false,
         "type": "scatter",
         "x": [
          2010,
          2011,
          2012,
          2013,
          2014,
          2015,
          2016,
          2017,
          2018,
          2019,
          2020
         ],
         "xaxis": "x",
         "y": [
          4967.648605170779,
          5143.2325234014115,
          5135.916404169236,
          5184.77907520576,
          5512.360264742648,
          8316.329259187882,
          11817.456906945132,
          12371.338522895323,
          13381.286117443615,
          14448.618909615161,
          16984.962962557067
         ],
         "yaxis": "y"
        },
        {
         "hovertemplate": "expenditure_title=cares_act_expenditure_tech_related_equipment<br>year=%{x}<br>tech_vocational_cost_per_student=%{y}<extra></extra>",
         "legendgroup": "cares_act_expenditure_tech_related_equipment",
         "line": {
          "color": "#636efa",
          "dash": "solid"
         },
         "marker": {
          "symbol": "circle"
         },
         "mode": "lines",
         "name": "cares_act_expenditure_tech_related_equipment",
         "orientation": "v",
         "showlegend": true,
         "type": "scatter",
         "x": [
          2020
         ],
         "xaxis": "x2",
         "y": [
          69.3988440672299
         ],
         "yaxis": "y2"
        },
        {
         "hovertemplate": "expenditure_title=cares_act_expenditure_tech_related_supplies_services<br>year=%{x}<br>tech_vocational_cost_per_student=%{y}<extra></extra>",
         "legendgroup": "cares_act_expenditure_tech_related_supplies_services",
         "line": {
          "color": "#EF553B",
          "dash": "solid"
         },
         "marker": {
          "symbol": "circle"
         },
         "mode": "lines",
         "name": "cares_act_expenditure_tech_related_supplies_services",
         "orientation": "v",
         "showlegend": true,
         "type": "scatter",
         "x": [
          2020
         ],
         "xaxis": "x2",
         "y": [
          175.0020676261007
         ],
         "yaxis": "y2"
        },
        {
         "hovertemplate": "expenditure_title=teacher_salaries_vocational_education<br>year=%{x}<br>tech_vocational_cost_per_student=%{y}<extra></extra>",
         "legendgroup": "teacher_salaries_vocational_education",
         "line": {
          "color": "#00cc96",
          "dash": "solid"
         },
         "marker": {
          "symbol": "circle"
         },
         "mode": "lines",
         "name": "teacher_salaries_vocational_education",
         "orientation": "v",
         "showlegend": true,
         "type": "scatter",
         "x": [
          2010,
          2011,
          2012,
          2013,
          2014,
          2015,
          2016,
          2017,
          2018,
          2019,
          2020
         ],
         "xaxis": "x2",
         "y": [
          4967.648605170779,
          5143.2325234014115,
          5135.916404169236,
          5184.77907520576,
          5512.360264742648,
          5671.666524930701,
          5994.016030445178,
          6153.137941799052,
          6291.656338069858,
          6424.557716971904,
          6897.011402361104
         ],
         "yaxis": "y2"
        },
        {
         "hovertemplate": "expenditure_title=tech_related_equipment<br>year=%{x}<br>tech_vocational_cost_per_student=%{y}<extra></extra>",
         "legendgroup": "tech_related_equipment",
         "line": {
          "color": "#ab63fa",
          "dash": "solid"
         },
         "marker": {
          "symbol": "circle"
         },
         "mode": "lines",
         "name": "tech_related_equipment",
         "orientation": "v",
         "showlegend": true,
         "type": "scatter",
         "x": [
          2015,
          2016,
          2017,
          2018,
          2019,
          2020
         ],
         "xaxis": "x2",
         "y": [
          897.2810440596293,
          1512.447672551653,
          1914.5811990136392,
          1963.9005678362862,
          2032.1370195818888,
          2145.5142687025227
         ],
         "yaxis": "y2"
        },
        {
         "hovertemplate": "expenditure_title=tech_related_supplies_services<br>year=%{x}<br>tech_vocational_cost_per_student=%{y}<extra></extra>",
         "legendgroup": "tech_related_supplies_services",
         "line": {
          "color": "#FFA15A",
          "dash": "solid"
         },
         "marker": {
          "symbol": "circle"
         },
         "mode": "lines",
         "name": "tech_related_supplies_services",
         "orientation": "v",
         "showlegend": true,
         "type": "scatter",
         "x": [
          2015,
          2016,
          2017,
          2018,
          2019,
          2020
         ],
         "xaxis": "x2",
         "y": [
          1747.381690197552,
          4310.993203948299,
          4303.619382082632,
          5125.729211537469,
          5991.924173061369,
          7698.036379800112
         ],
         "yaxis": "y2"
        }
       ],
       "layout": {
        "annotations": [
         {
          "font": {
           "size": 16
          },
          "showarrow": false,
          "text": "Tech & Vocational Cost per Student Over Time",
          "x": 0.225,
          "xanchor": "center",
          "xref": "paper",
          "y": 1,
          "yanchor": "bottom",
          "yref": "paper"
         },
         {
          "font": {
           "size": 16
          },
          "showarrow": false,
          "text": "Tech & Vocational Cost per Student by Title Over Time",
          "x": 0.775,
          "xanchor": "center",
          "xref": "paper",
          "y": 1,
          "yanchor": "bottom",
          "yref": "paper"
         }
        ],
        "height": 600,
        "hoverlabel": {
         "bgcolor": "white",
         "font": {
          "family": "Calibri",
          "size": 16
         }
        },
        "legend": {
         "orientation": "h",
         "x": 0.5,
         "xanchor": "center",
         "y": -0.3,
         "yanchor": "bottom"
        },
        "margin": {
         "b": 200,
         "l": 40,
         "r": 40,
         "t": 80
        },
        "template": {
         "data": {
          "bar": [
           {
            "error_x": {
             "color": "#2a3f5f"
            },
            "error_y": {
             "color": "#2a3f5f"
            },
            "marker": {
             "line": {
              "color": "#E5ECF6",
              "width": 0.5
             },
             "pattern": {
              "fillmode": "overlay",
              "size": 10,
              "solidity": 0.2
             }
            },
            "type": "bar"
           }
          ],
          "barpolar": [
           {
            "marker": {
             "line": {
              "color": "#E5ECF6",
              "width": 0.5
             },
             "pattern": {
              "fillmode": "overlay",
              "size": 10,
              "solidity": 0.2
             }
            },
            "type": "barpolar"
           }
          ],
          "carpet": [
           {
            "aaxis": {
             "endlinecolor": "#2a3f5f",
             "gridcolor": "white",
             "linecolor": "white",
             "minorgridcolor": "white",
             "startlinecolor": "#2a3f5f"
            },
            "baxis": {
             "endlinecolor": "#2a3f5f",
             "gridcolor": "white",
             "linecolor": "white",
             "minorgridcolor": "white",
             "startlinecolor": "#2a3f5f"
            },
            "type": "carpet"
           }
          ],
          "choropleth": [
           {
            "colorbar": {
             "outlinewidth": 0,
             "ticks": ""
            },
            "type": "choropleth"
           }
          ],
          "contour": [
           {
            "colorbar": {
             "outlinewidth": 0,
             "ticks": ""
            },
            "colorscale": [
             [
              0,
              "#0d0887"
             ],
             [
              0.1111111111111111,
              "#46039f"
             ],
             [
              0.2222222222222222,
              "#7201a8"
             ],
             [
              0.3333333333333333,
              "#9c179e"
             ],
             [
              0.4444444444444444,
              "#bd3786"
             ],
             [
              0.5555555555555556,
              "#d8576b"
             ],
             [
              0.6666666666666666,
              "#ed7953"
             ],
             [
              0.7777777777777778,
              "#fb9f3a"
             ],
             [
              0.8888888888888888,
              "#fdca26"
             ],
             [
              1,
              "#f0f921"
             ]
            ],
            "type": "contour"
           }
          ],
          "contourcarpet": [
           {
            "colorbar": {
             "outlinewidth": 0,
             "ticks": ""
            },
            "type": "contourcarpet"
           }
          ],
          "heatmap": [
           {
            "colorbar": {
             "outlinewidth": 0,
             "ticks": ""
            },
            "colorscale": [
             [
              0,
              "#0d0887"
             ],
             [
              0.1111111111111111,
              "#46039f"
             ],
             [
              0.2222222222222222,
              "#7201a8"
             ],
             [
              0.3333333333333333,
              "#9c179e"
             ],
             [
              0.4444444444444444,
              "#bd3786"
             ],
             [
              0.5555555555555556,
              "#d8576b"
             ],
             [
              0.6666666666666666,
              "#ed7953"
             ],
             [
              0.7777777777777778,
              "#fb9f3a"
             ],
             [
              0.8888888888888888,
              "#fdca26"
             ],
             [
              1,
              "#f0f921"
             ]
            ],
            "type": "heatmap"
           }
          ],
          "heatmapgl": [
           {
            "colorbar": {
             "outlinewidth": 0,
             "ticks": ""
            },
            "colorscale": [
             [
              0,
              "#0d0887"
             ],
             [
              0.1111111111111111,
              "#46039f"
             ],
             [
              0.2222222222222222,
              "#7201a8"
             ],
             [
              0.3333333333333333,
              "#9c179e"
             ],
             [
              0.4444444444444444,
              "#bd3786"
             ],
             [
              0.5555555555555556,
              "#d8576b"
             ],
             [
              0.6666666666666666,
              "#ed7953"
             ],
             [
              0.7777777777777778,
              "#fb9f3a"
             ],
             [
              0.8888888888888888,
              "#fdca26"
             ],
             [
              1,
              "#f0f921"
             ]
            ],
            "type": "heatmapgl"
           }
          ],
          "histogram": [
           {
            "marker": {
             "pattern": {
              "fillmode": "overlay",
              "size": 10,
              "solidity": 0.2
             }
            },
            "type": "histogram"
           }
          ],
          "histogram2d": [
           {
            "colorbar": {
             "outlinewidth": 0,
             "ticks": ""
            },
            "colorscale": [
             [
              0,
              "#0d0887"
             ],
             [
              0.1111111111111111,
              "#46039f"
             ],
             [
              0.2222222222222222,
              "#7201a8"
             ],
             [
              0.3333333333333333,
              "#9c179e"
             ],
             [
              0.4444444444444444,
              "#bd3786"
             ],
             [
              0.5555555555555556,
              "#d8576b"
             ],
             [
              0.6666666666666666,
              "#ed7953"
             ],
             [
              0.7777777777777778,
              "#fb9f3a"
             ],
             [
              0.8888888888888888,
              "#fdca26"
             ],
             [
              1,
              "#f0f921"
             ]
            ],
            "type": "histogram2d"
           }
          ],
          "histogram2dcontour": [
           {
            "colorbar": {
             "outlinewidth": 0,
             "ticks": ""
            },
            "colorscale": [
             [
              0,
              "#0d0887"
             ],
             [
              0.1111111111111111,
              "#46039f"
             ],
             [
              0.2222222222222222,
              "#7201a8"
             ],
             [
              0.3333333333333333,
              "#9c179e"
             ],
             [
              0.4444444444444444,
              "#bd3786"
             ],
             [
              0.5555555555555556,
              "#d8576b"
             ],
             [
              0.6666666666666666,
              "#ed7953"
             ],
             [
              0.7777777777777778,
              "#fb9f3a"
             ],
             [
              0.8888888888888888,
              "#fdca26"
             ],
             [
              1,
              "#f0f921"
             ]
            ],
            "type": "histogram2dcontour"
           }
          ],
          "mesh3d": [
           {
            "colorbar": {
             "outlinewidth": 0,
             "ticks": ""
            },
            "type": "mesh3d"
           }
          ],
          "parcoords": [
           {
            "line": {
             "colorbar": {
              "outlinewidth": 0,
              "ticks": ""
             }
            },
            "type": "parcoords"
           }
          ],
          "pie": [
           {
            "automargin": true,
            "type": "pie"
           }
          ],
          "scatter": [
           {
            "fillpattern": {
             "fillmode": "overlay",
             "size": 10,
             "solidity": 0.2
            },
            "type": "scatter"
           }
          ],
          "scatter3d": [
           {
            "line": {
             "colorbar": {
              "outlinewidth": 0,
              "ticks": ""
             }
            },
            "marker": {
             "colorbar": {
              "outlinewidth": 0,
              "ticks": ""
             }
            },
            "type": "scatter3d"
           }
          ],
          "scattercarpet": [
           {
            "marker": {
             "colorbar": {
              "outlinewidth": 0,
              "ticks": ""
             }
            },
            "type": "scattercarpet"
           }
          ],
          "scattergeo": [
           {
            "marker": {
             "colorbar": {
              "outlinewidth": 0,
              "ticks": ""
             }
            },
            "type": "scattergeo"
           }
          ],
          "scattergl": [
           {
            "marker": {
             "colorbar": {
              "outlinewidth": 0,
              "ticks": ""
             }
            },
            "type": "scattergl"
           }
          ],
          "scattermapbox": [
           {
            "marker": {
             "colorbar": {
              "outlinewidth": 0,
              "ticks": ""
             }
            },
            "type": "scattermapbox"
           }
          ],
          "scatterpolar": [
           {
            "marker": {
             "colorbar": {
              "outlinewidth": 0,
              "ticks": ""
             }
            },
            "type": "scatterpolar"
           }
          ],
          "scatterpolargl": [
           {
            "marker": {
             "colorbar": {
              "outlinewidth": 0,
              "ticks": ""
             }
            },
            "type": "scatterpolargl"
           }
          ],
          "scatterternary": [
           {
            "marker": {
             "colorbar": {
              "outlinewidth": 0,
              "ticks": ""
             }
            },
            "type": "scatterternary"
           }
          ],
          "surface": [
           {
            "colorbar": {
             "outlinewidth": 0,
             "ticks": ""
            },
            "colorscale": [
             [
              0,
              "#0d0887"
             ],
             [
              0.1111111111111111,
              "#46039f"
             ],
             [
              0.2222222222222222,
              "#7201a8"
             ],
             [
              0.3333333333333333,
              "#9c179e"
             ],
             [
              0.4444444444444444,
              "#bd3786"
             ],
             [
              0.5555555555555556,
              "#d8576b"
             ],
             [
              0.6666666666666666,
              "#ed7953"
             ],
             [
              0.7777777777777778,
              "#fb9f3a"
             ],
             [
              0.8888888888888888,
              "#fdca26"
             ],
             [
              1,
              "#f0f921"
             ]
            ],
            "type": "surface"
           }
          ],
          "table": [
           {
            "cells": {
             "fill": {
              "color": "#EBF0F8"
             },
             "line": {
              "color": "white"
             }
            },
            "header": {
             "fill": {
              "color": "#C8D4E3"
             },
             "line": {
              "color": "white"
             }
            },
            "type": "table"
           }
          ]
         },
         "layout": {
          "annotationdefaults": {
           "arrowcolor": "#2a3f5f",
           "arrowhead": 0,
           "arrowwidth": 1
          },
          "autotypenumbers": "strict",
          "coloraxis": {
           "colorbar": {
            "outlinewidth": 0,
            "ticks": ""
           }
          },
          "colorscale": {
           "diverging": [
            [
             0,
             "#8e0152"
            ],
            [
             0.1,
             "#c51b7d"
            ],
            [
             0.2,
             "#de77ae"
            ],
            [
             0.3,
             "#f1b6da"
            ],
            [
             0.4,
             "#fde0ef"
            ],
            [
             0.5,
             "#f7f7f7"
            ],
            [
             0.6,
             "#e6f5d0"
            ],
            [
             0.7,
             "#b8e186"
            ],
            [
             0.8,
             "#7fbc41"
            ],
            [
             0.9,
             "#4d9221"
            ],
            [
             1,
             "#276419"
            ]
           ],
           "sequential": [
            [
             0,
             "#0d0887"
            ],
            [
             0.1111111111111111,
             "#46039f"
            ],
            [
             0.2222222222222222,
             "#7201a8"
            ],
            [
             0.3333333333333333,
             "#9c179e"
            ],
            [
             0.4444444444444444,
             "#bd3786"
            ],
            [
             0.5555555555555556,
             "#d8576b"
            ],
            [
             0.6666666666666666,
             "#ed7953"
            ],
            [
             0.7777777777777778,
             "#fb9f3a"
            ],
            [
             0.8888888888888888,
             "#fdca26"
            ],
            [
             1,
             "#f0f921"
            ]
           ],
           "sequentialminus": [
            [
             0,
             "#0d0887"
            ],
            [
             0.1111111111111111,
             "#46039f"
            ],
            [
             0.2222222222222222,
             "#7201a8"
            ],
            [
             0.3333333333333333,
             "#9c179e"
            ],
            [
             0.4444444444444444,
             "#bd3786"
            ],
            [
             0.5555555555555556,
             "#d8576b"
            ],
            [
             0.6666666666666666,
             "#ed7953"
            ],
            [
             0.7777777777777778,
             "#fb9f3a"
            ],
            [
             0.8888888888888888,
             "#fdca26"
            ],
            [
             1,
             "#f0f921"
            ]
           ]
          },
          "colorway": [
           "#636efa",
           "#EF553B",
           "#00cc96",
           "#ab63fa",
           "#FFA15A",
           "#19d3f3",
           "#FF6692",
           "#B6E880",
           "#FF97FF",
           "#FECB52"
          ],
          "font": {
           "color": "#2a3f5f"
          },
          "geo": {
           "bgcolor": "white",
           "lakecolor": "white",
           "landcolor": "#E5ECF6",
           "showlakes": true,
           "showland": true,
           "subunitcolor": "white"
          },
          "hoverlabel": {
           "align": "left"
          },
          "hovermode": "closest",
          "mapbox": {
           "style": "light"
          },
          "paper_bgcolor": "white",
          "plot_bgcolor": "#E5ECF6",
          "polar": {
           "angularaxis": {
            "gridcolor": "white",
            "linecolor": "white",
            "ticks": ""
           },
           "bgcolor": "#E5ECF6",
           "radialaxis": {
            "gridcolor": "white",
            "linecolor": "white",
            "ticks": ""
           }
          },
          "scene": {
           "xaxis": {
            "backgroundcolor": "#E5ECF6",
            "gridcolor": "white",
            "gridwidth": 2,
            "linecolor": "white",
            "showbackground": true,
            "ticks": "",
            "zerolinecolor": "white"
           },
           "yaxis": {
            "backgroundcolor": "#E5ECF6",
            "gridcolor": "white",
            "gridwidth": 2,
            "linecolor": "white",
            "showbackground": true,
            "ticks": "",
            "zerolinecolor": "white"
           },
           "zaxis": {
            "backgroundcolor": "#E5ECF6",
            "gridcolor": "white",
            "gridwidth": 2,
            "linecolor": "white",
            "showbackground": true,
            "ticks": "",
            "zerolinecolor": "white"
           }
          },
          "shapedefaults": {
           "line": {
            "color": "#2a3f5f"
           }
          },
          "ternary": {
           "aaxis": {
            "gridcolor": "white",
            "linecolor": "white",
            "ticks": ""
           },
           "baxis": {
            "gridcolor": "white",
            "linecolor": "white",
            "ticks": ""
           },
           "bgcolor": "#E5ECF6",
           "caxis": {
            "gridcolor": "white",
            "linecolor": "white",
            "ticks": ""
           }
          },
          "title": {
           "x": 0.05
          },
          "xaxis": {
           "automargin": true,
           "gridcolor": "white",
           "linecolor": "white",
           "ticks": "",
           "title": {
            "standoff": 15
           },
           "zerolinecolor": "white",
           "zerolinewidth": 2
          },
          "yaxis": {
           "automargin": true,
           "gridcolor": "white",
           "linecolor": "white",
           "ticks": "",
           "title": {
            "standoff": 15
           },
           "zerolinecolor": "white",
           "zerolinewidth": 2
          }
         }
        },
        "title": {
         "text": "Tech and Vocational Education Costs per Student Comparison",
         "x": 0.5,
         "xanchor": "center",
         "y": 0.98,
         "yanchor": "top"
        },
        "width": 1050,
        "xaxis": {
         "anchor": "y",
         "domain": [
          0,
          0.45
         ]
        },
        "xaxis2": {
         "anchor": "y2",
         "domain": [
          0.55,
          1
         ]
        },
        "yaxis": {
         "anchor": "x",
         "domain": [
          0,
          1
         ]
        },
        "yaxis2": {
         "anchor": "x2",
         "domain": [
          0,
          1
         ]
        }
       }
      }
     },
     "metadata": {},
     "output_type": "display_data"
    }
   ],
   "source": [
    "tech_vocational_cost_per_student_line_charts_combined = create_combined_figure(\n",
    "    tech_voc_cost_per_student_line_chart,\n",
    "    tech_voc_cost_per_student_line_chart1,\n",
    "    'Tech and Vocational Education Costs per Student Comparison',\n",
    "    ('Tech & Vocational Cost per Student Over Time', 'Tech & Vocational Cost per Student by Title Over Time')\n",
    ")\n",
    "\n",
    "tech_vocational_cost_per_student_line_charts_combined.show()"
   ]
  },
  {
   "cell_type": "markdown",
   "metadata": {},
   "source": [
    "### Notes:\n",
    "The cost per student in tech and vocational education expenditures reveals significant growth trends, especially between 2014 and 2016, as observed in the line charts. This period marked a substantial 114.38% increase in costs per student, totaling an increase of $6305.10.\n",
    "\n",
    "**Teacher Salaries - Vocational Education**\n",
    "- `teacher_salaries_vocational_education` demonstrates an overall upward trend.\n",
    "- The average annual growth rate from 2013 to 2019 was 3.27%.\n",
    "- A significant rise of 7.35% was recorded in 2020, indicating an exceptional growth year.\n",
    "\n",
    "**Tech-Related Equipment**\n",
    "- The tech_related_equipment category experienced its highest growth between 2015 and 2016, at 68.56%.\n",
    "- From 2016 to 2020, the average annual growth rate was 21.36%, showing sustained growth over the period.\n",
    "\n",
    "**Tech-Related Supplies & Services**\n",
    "- The tech_related_supplies_services category witnessed its most substantial increase between 2015 and 2016, at 146.71%.\n",
    "- Although the growth rate decreased after 2016, it still maintained a high average annual growth rate of 42.20% until 2020."
   ]
  },
  {
   "cell_type": "code",
   "execution_count": 97,
   "metadata": {},
   "outputs": [
    {
     "data": {
      "text/html": [
       "<div>\n",
       "<style scoped>\n",
       "    .dataframe tbody tr th:only-of-type {\n",
       "        vertical-align: middle;\n",
       "    }\n",
       "\n",
       "    .dataframe tbody tr th {\n",
       "        vertical-align: top;\n",
       "    }\n",
       "\n",
       "    .dataframe thead th {\n",
       "        text-align: right;\n",
       "    }\n",
       "</style>\n",
       "<table border=\"1\" class=\"dataframe\">\n",
       "  <thead>\n",
       "    <tr style=\"text-align: right;\">\n",
       "      <th></th>\n",
       "      <th>year</th>\n",
       "      <th>expenditure_title</th>\n",
       "      <th>tech_vocational_cost_per_student</th>\n",
       "      <th>growth_rate</th>\n",
       "    </tr>\n",
       "  </thead>\n",
       "  <tbody>\n",
       "    <tr>\n",
       "      <th>20</th>\n",
       "      <td>2020</td>\n",
       "      <td>cares_act_expenditure_tech_related_equipment</td>\n",
       "      <td>69.398844</td>\n",
       "      <td>NaN</td>\n",
       "    </tr>\n",
       "    <tr>\n",
       "      <th>21</th>\n",
       "      <td>2020</td>\n",
       "      <td>cares_act_expenditure_tech_related_supplies_se...</td>\n",
       "      <td>175.002068</td>\n",
       "      <td>NaN</td>\n",
       "    </tr>\n",
       "    <tr>\n",
       "      <th>0</th>\n",
       "      <td>2010</td>\n",
       "      <td>teacher_salaries_vocational_education</td>\n",
       "      <td>4967.648605</td>\n",
       "      <td>NaN</td>\n",
       "    </tr>\n",
       "    <tr>\n",
       "      <th>1</th>\n",
       "      <td>2011</td>\n",
       "      <td>teacher_salaries_vocational_education</td>\n",
       "      <td>5143.232523</td>\n",
       "      <td>3.534548</td>\n",
       "    </tr>\n",
       "    <tr>\n",
       "      <th>2</th>\n",
       "      <td>2012</td>\n",
       "      <td>teacher_salaries_vocational_education</td>\n",
       "      <td>5135.916404</td>\n",
       "      <td>-0.142247</td>\n",
       "    </tr>\n",
       "    <tr>\n",
       "      <th>3</th>\n",
       "      <td>2013</td>\n",
       "      <td>teacher_salaries_vocational_education</td>\n",
       "      <td>5184.779075</td>\n",
       "      <td>0.951391</td>\n",
       "    </tr>\n",
       "    <tr>\n",
       "      <th>4</th>\n",
       "      <td>2014</td>\n",
       "      <td>teacher_salaries_vocational_education</td>\n",
       "      <td>5512.360265</td>\n",
       "      <td>6.318132</td>\n",
       "    </tr>\n",
       "    <tr>\n",
       "      <th>5</th>\n",
       "      <td>2015</td>\n",
       "      <td>teacher_salaries_vocational_education</td>\n",
       "      <td>5671.666525</td>\n",
       "      <td>2.889983</td>\n",
       "    </tr>\n",
       "    <tr>\n",
       "      <th>8</th>\n",
       "      <td>2016</td>\n",
       "      <td>teacher_salaries_vocational_education</td>\n",
       "      <td>5994.016030</td>\n",
       "      <td>5.683506</td>\n",
       "    </tr>\n",
       "    <tr>\n",
       "      <th>11</th>\n",
       "      <td>2017</td>\n",
       "      <td>teacher_salaries_vocational_education</td>\n",
       "      <td>6153.137942</td>\n",
       "      <td>2.654679</td>\n",
       "    </tr>\n",
       "    <tr>\n",
       "      <th>14</th>\n",
       "      <td>2018</td>\n",
       "      <td>teacher_salaries_vocational_education</td>\n",
       "      <td>6291.656338</td>\n",
       "      <td>2.251183</td>\n",
       "    </tr>\n",
       "    <tr>\n",
       "      <th>17</th>\n",
       "      <td>2019</td>\n",
       "      <td>teacher_salaries_vocational_education</td>\n",
       "      <td>6424.557717</td>\n",
       "      <td>2.112343</td>\n",
       "    </tr>\n",
       "    <tr>\n",
       "      <th>22</th>\n",
       "      <td>2020</td>\n",
       "      <td>teacher_salaries_vocational_education</td>\n",
       "      <td>6897.011402</td>\n",
       "      <td>7.353871</td>\n",
       "    </tr>\n",
       "    <tr>\n",
       "      <th>6</th>\n",
       "      <td>2015</td>\n",
       "      <td>tech_related_equipment</td>\n",
       "      <td>897.281044</td>\n",
       "      <td>NaN</td>\n",
       "    </tr>\n",
       "    <tr>\n",
       "      <th>9</th>\n",
       "      <td>2016</td>\n",
       "      <td>tech_related_equipment</td>\n",
       "      <td>1512.447673</td>\n",
       "      <td>68.558969</td>\n",
       "    </tr>\n",
       "    <tr>\n",
       "      <th>12</th>\n",
       "      <td>2017</td>\n",
       "      <td>tech_related_equipment</td>\n",
       "      <td>1914.581199</td>\n",
       "      <td>26.588260</td>\n",
       "    </tr>\n",
       "    <tr>\n",
       "      <th>15</th>\n",
       "      <td>2018</td>\n",
       "      <td>tech_related_equipment</td>\n",
       "      <td>1963.900568</td>\n",
       "      <td>2.575987</td>\n",
       "    </tr>\n",
       "    <tr>\n",
       "      <th>18</th>\n",
       "      <td>2019</td>\n",
       "      <td>tech_related_equipment</td>\n",
       "      <td>2032.137020</td>\n",
       "      <td>3.474537</td>\n",
       "    </tr>\n",
       "    <tr>\n",
       "      <th>23</th>\n",
       "      <td>2020</td>\n",
       "      <td>tech_related_equipment</td>\n",
       "      <td>2145.514269</td>\n",
       "      <td>5.579213</td>\n",
       "    </tr>\n",
       "    <tr>\n",
       "      <th>7</th>\n",
       "      <td>2015</td>\n",
       "      <td>tech_related_supplies_services</td>\n",
       "      <td>1747.381690</td>\n",
       "      <td>NaN</td>\n",
       "    </tr>\n",
       "    <tr>\n",
       "      <th>10</th>\n",
       "      <td>2016</td>\n",
       "      <td>tech_related_supplies_services</td>\n",
       "      <td>4310.993204</td>\n",
       "      <td>146.711593</td>\n",
       "    </tr>\n",
       "    <tr>\n",
       "      <th>13</th>\n",
       "      <td>2017</td>\n",
       "      <td>tech_related_supplies_services</td>\n",
       "      <td>4303.619382</td>\n",
       "      <td>-0.171047</td>\n",
       "    </tr>\n",
       "    <tr>\n",
       "      <th>16</th>\n",
       "      <td>2018</td>\n",
       "      <td>tech_related_supplies_services</td>\n",
       "      <td>5125.729212</td>\n",
       "      <td>19.102754</td>\n",
       "    </tr>\n",
       "    <tr>\n",
       "      <th>19</th>\n",
       "      <td>2019</td>\n",
       "      <td>tech_related_supplies_services</td>\n",
       "      <td>5991.924173</td>\n",
       "      <td>16.898961</td>\n",
       "    </tr>\n",
       "    <tr>\n",
       "      <th>24</th>\n",
       "      <td>2020</td>\n",
       "      <td>tech_related_supplies_services</td>\n",
       "      <td>7698.036380</td>\n",
       "      <td>28.473528</td>\n",
       "    </tr>\n",
       "  </tbody>\n",
       "</table>\n",
       "</div>"
      ],
      "text/plain": [
       "    year                                  expenditure_title  \\\n",
       "20  2020       cares_act_expenditure_tech_related_equipment   \n",
       "21  2020  cares_act_expenditure_tech_related_supplies_se...   \n",
       "0   2010              teacher_salaries_vocational_education   \n",
       "1   2011              teacher_salaries_vocational_education   \n",
       "2   2012              teacher_salaries_vocational_education   \n",
       "3   2013              teacher_salaries_vocational_education   \n",
       "4   2014              teacher_salaries_vocational_education   \n",
       "5   2015              teacher_salaries_vocational_education   \n",
       "8   2016              teacher_salaries_vocational_education   \n",
       "11  2017              teacher_salaries_vocational_education   \n",
       "14  2018              teacher_salaries_vocational_education   \n",
       "17  2019              teacher_salaries_vocational_education   \n",
       "22  2020              teacher_salaries_vocational_education   \n",
       "6   2015                             tech_related_equipment   \n",
       "9   2016                             tech_related_equipment   \n",
       "12  2017                             tech_related_equipment   \n",
       "15  2018                             tech_related_equipment   \n",
       "18  2019                             tech_related_equipment   \n",
       "23  2020                             tech_related_equipment   \n",
       "7   2015                     tech_related_supplies_services   \n",
       "10  2016                     tech_related_supplies_services   \n",
       "13  2017                     tech_related_supplies_services   \n",
       "16  2018                     tech_related_supplies_services   \n",
       "19  2019                     tech_related_supplies_services   \n",
       "24  2020                     tech_related_supplies_services   \n",
       "\n",
       "    tech_vocational_cost_per_student  growth_rate  \n",
       "20                         69.398844          NaN  \n",
       "21                        175.002068          NaN  \n",
       "0                        4967.648605          NaN  \n",
       "1                        5143.232523     3.534548  \n",
       "2                        5135.916404    -0.142247  \n",
       "3                        5184.779075     0.951391  \n",
       "4                        5512.360265     6.318132  \n",
       "5                        5671.666525     2.889983  \n",
       "8                        5994.016030     5.683506  \n",
       "11                       6153.137942     2.654679  \n",
       "14                       6291.656338     2.251183  \n",
       "17                       6424.557717     2.112343  \n",
       "22                       6897.011402     7.353871  \n",
       "6                         897.281044          NaN  \n",
       "9                        1512.447673    68.558969  \n",
       "12                       1914.581199    26.588260  \n",
       "15                       1963.900568     2.575987  \n",
       "18                       2032.137020     3.474537  \n",
       "23                       2145.514269     5.579213  \n",
       "7                        1747.381690          NaN  \n",
       "10                       4310.993204   146.711593  \n",
       "13                       4303.619382    -0.171047  \n",
       "16                       5125.729212    19.102754  \n",
       "19                       5991.924173    16.898961  \n",
       "24                       7698.036380    28.473528  "
      ]
     },
     "execution_count": 97,
     "metadata": {},
     "output_type": "execute_result"
    }
   ],
   "source": [
    "grouped.head(25)"
   ]
  },
  {
   "cell_type": "code",
   "execution_count": 98,
   "metadata": {},
   "outputs": [],
   "source": [
    "# Create Region Mapping\n",
    "region_mapping = {\n",
    "    'Alabama': 'South',\n",
    "    'Alaska': 'West',\n",
    "    'Arizona': 'West',\n",
    "    'Arkansas': 'South',\n",
    "    'California': 'West',\n",
    "    'Colorado': 'West',\n",
    "    'Connecticut': 'Northeast',\n",
    "    'Delaware': 'South',\n",
    "    'Florida': 'Southeast',\n",
    "    'Georgia': 'Southeast',\n",
    "    'Hawaii': 'West',\n",
    "    'Idaho': 'West',\n",
    "    'Illinois': 'Midwest',\n",
    "    'Indiana': 'Midwest',\n",
    "    'Iowa': 'Midwest',\n",
    "    'Kansas': 'Midwest',\n",
    "    'Kentucky': 'South',\n",
    "    'Louisiana': 'South',\n",
    "    'Maine': 'Northeast',\n",
    "    'Maryland': 'South',\n",
    "    'Massachusetts': 'Northeast',\n",
    "    'Michigan': 'Midwest',\n",
    "    'Minnesota': 'Midwest',\n",
    "    'Mississippi': 'South',\n",
    "    'Missouri': 'Midwest',\n",
    "    'Montana': 'West',\n",
    "    'Nebraska': 'Midwest',\n",
    "    'Nevada': 'West',\n",
    "    'New Hampshire': 'Northeast',\n",
    "    'New Jersey': 'Northeast',\n",
    "    'New Mexico': 'West',\n",
    "    'New York': 'Northeast',\n",
    "    'North Carolina': 'Southeast',\n",
    "    'North Dakota': 'Midwest',\n",
    "    'Ohio': 'Midwest',\n",
    "    'Oklahoma': 'South',\n",
    "    'Oregon': 'Pacific Northwest',\n",
    "    'Pennsylvania': 'Northeast',\n",
    "    'Rhode Island': 'Northeast',\n",
    "    'South Carolina': 'Southeast',\n",
    "    'South Dakota': 'Midwest',\n",
    "    'Tennessee': 'South',\n",
    "    'Texas': 'South',\n",
    "    'Utah': 'West',\n",
    "    'Vermont': 'Northeast',\n",
    "    'Virginia': 'South',\n",
    "    'Washington': 'Pacific Northwest',\n",
    "    'West Virginia': 'South',\n",
    "    'Wisconsin': 'Midwest',\n",
    "    'Wyoming': 'West'\n",
    "}"
   ]
  },
  {
   "cell_type": "code",
   "execution_count": 99,
   "metadata": {},
   "outputs": [
    {
     "data": {
      "text/html": [
       "<div>\n",
       "<style scoped>\n",
       "    .dataframe tbody tr th:only-of-type {\n",
       "        vertical-align: middle;\n",
       "    }\n",
       "\n",
       "    .dataframe tbody tr th {\n",
       "        vertical-align: top;\n",
       "    }\n",
       "\n",
       "    .dataframe thead th {\n",
       "        text-align: right;\n",
       "    }\n",
       "</style>\n",
       "<table border=\"1\" class=\"dataframe\">\n",
       "  <thead>\n",
       "    <tr style=\"text-align: right;\">\n",
       "      <th></th>\n",
       "      <th>state</th>\n",
       "      <th>year</th>\n",
       "      <th>student_count</th>\n",
       "      <th>expenditure_title</th>\n",
       "      <th>amount</th>\n",
       "      <th>amount_z_score_avg</th>\n",
       "      <th>tech_vocational_cost_per_student</th>\n",
       "      <th>region</th>\n",
       "    </tr>\n",
       "  </thead>\n",
       "  <tbody>\n",
       "    <tr>\n",
       "      <th>0</th>\n",
       "      <td>Alabama</td>\n",
       "      <td>2010</td>\n",
       "      <td>748889</td>\n",
       "      <td>teacher_salaries_vocational_education</td>\n",
       "      <td>110309000.0</td>\n",
       "      <td>-1.678030e-19</td>\n",
       "      <td>147.296862</td>\n",
       "      <td>South</td>\n",
       "    </tr>\n",
       "    <tr>\n",
       "      <th>1</th>\n",
       "      <td>Alabama</td>\n",
       "      <td>2011</td>\n",
       "      <td>738322</td>\n",
       "      <td>teacher_salaries_vocational_education</td>\n",
       "      <td>107614000.0</td>\n",
       "      <td>-6.141667e-19</td>\n",
       "      <td>145.754833</td>\n",
       "      <td>South</td>\n",
       "    </tr>\n",
       "    <tr>\n",
       "      <th>2</th>\n",
       "      <td>Alabama</td>\n",
       "      <td>2012</td>\n",
       "      <td>744621</td>\n",
       "      <td>teacher_salaries_vocational_education</td>\n",
       "      <td>105162000.0</td>\n",
       "      <td>-2.256061e-19</td>\n",
       "      <td>141.228894</td>\n",
       "      <td>South</td>\n",
       "    </tr>\n",
       "    <tr>\n",
       "      <th>3</th>\n",
       "      <td>Alabama</td>\n",
       "      <td>2013</td>\n",
       "      <td>744548</td>\n",
       "      <td>teacher_salaries_vocational_education</td>\n",
       "      <td>108247000.0</td>\n",
       "      <td>1.713433e-19</td>\n",
       "      <td>145.386194</td>\n",
       "      <td>South</td>\n",
       "    </tr>\n",
       "    <tr>\n",
       "      <th>4</th>\n",
       "      <td>Alabama</td>\n",
       "      <td>2014</td>\n",
       "      <td>740081</td>\n",
       "      <td>teacher_salaries_vocational_education</td>\n",
       "      <td>110787000.0</td>\n",
       "      <td>6.566667e-19</td>\n",
       "      <td>149.695777</td>\n",
       "      <td>South</td>\n",
       "    </tr>\n",
       "  </tbody>\n",
       "</table>\n",
       "</div>"
      ],
      "text/plain": [
       "     state  year  student_count                      expenditure_title  \\\n",
       "0  Alabama  2010         748889  teacher_salaries_vocational_education   \n",
       "1  Alabama  2011         738322  teacher_salaries_vocational_education   \n",
       "2  Alabama  2012         744621  teacher_salaries_vocational_education   \n",
       "3  Alabama  2013         744548  teacher_salaries_vocational_education   \n",
       "4  Alabama  2014         740081  teacher_salaries_vocational_education   \n",
       "\n",
       "        amount  amount_z_score_avg  tech_vocational_cost_per_student region  \n",
       "0  110309000.0       -1.678030e-19                        147.296862  South  \n",
       "1  107614000.0       -6.141667e-19                        145.754833  South  \n",
       "2  105162000.0       -2.256061e-19                        141.228894  South  \n",
       "3  108247000.0        1.713433e-19                        145.386194  South  \n",
       "4  110787000.0        6.566667e-19                        149.695777  South  "
      ]
     },
     "execution_count": 99,
     "metadata": {},
     "output_type": "execute_result"
    }
   ],
   "source": [
    "# Insert Region column\n",
    "merged['region'] = merged['state'].map(region_mapping)\n",
    "merged.head()"
   ]
  },
  {
   "cell_type": "code",
   "execution_count": 100,
   "metadata": {},
   "outputs": [
    {
     "data": {
      "text/html": [
       "<div>\n",
       "<style scoped>\n",
       "    .dataframe tbody tr th:only-of-type {\n",
       "        vertical-align: middle;\n",
       "    }\n",
       "\n",
       "    .dataframe tbody tr th {\n",
       "        vertical-align: top;\n",
       "    }\n",
       "\n",
       "    .dataframe thead th {\n",
       "        text-align: right;\n",
       "    }\n",
       "</style>\n",
       "<table border=\"1\" class=\"dataframe\">\n",
       "  <thead>\n",
       "    <tr style=\"text-align: right;\">\n",
       "      <th></th>\n",
       "      <th>region</th>\n",
       "      <th>year</th>\n",
       "      <th>amount</th>\n",
       "      <th>student_count</th>\n",
       "    </tr>\n",
       "  </thead>\n",
       "  <tbody>\n",
       "    <tr>\n",
       "      <th>0</th>\n",
       "      <td>Midwest</td>\n",
       "      <td>2010</td>\n",
       "      <td>894448000.0</td>\n",
       "      <td>6028314</td>\n",
       "    </tr>\n",
       "    <tr>\n",
       "      <th>1</th>\n",
       "      <td>Midwest</td>\n",
       "      <td>2011</td>\n",
       "      <td>954296000.0</td>\n",
       "      <td>6868314</td>\n",
       "    </tr>\n",
       "    <tr>\n",
       "      <th>2</th>\n",
       "      <td>Midwest</td>\n",
       "      <td>2012</td>\n",
       "      <td>918036000.0</td>\n",
       "      <td>6816199</td>\n",
       "    </tr>\n",
       "    <tr>\n",
       "      <th>3</th>\n",
       "      <td>Midwest</td>\n",
       "      <td>2013</td>\n",
       "      <td>906328000.0</td>\n",
       "      <td>6778441</td>\n",
       "    </tr>\n",
       "    <tr>\n",
       "      <th>4</th>\n",
       "      <td>Midwest</td>\n",
       "      <td>2014</td>\n",
       "      <td>891829000.0</td>\n",
       "      <td>6764464</td>\n",
       "    </tr>\n",
       "  </tbody>\n",
       "</table>\n",
       "</div>"
      ],
      "text/plain": [
       "    region  year       amount  student_count\n",
       "0  Midwest  2010  894448000.0        6028314\n",
       "1  Midwest  2011  954296000.0        6868314\n",
       "2  Midwest  2012  918036000.0        6816199\n",
       "3  Midwest  2013  906328000.0        6778441\n",
       "4  Midwest  2014  891829000.0        6764464"
      ]
     },
     "execution_count": 100,
     "metadata": {},
     "output_type": "execute_result"
    }
   ],
   "source": [
    "regional_aggregations = merged.pivot_table(values= ['student_count', 'amount'], index= ['region', 'year'], aggfunc= 'sum')\n",
    "regional_aggregations.reset_index(inplace=True)\n",
    "regional_aggregations.head()"
   ]
  },
  {
   "cell_type": "code",
   "execution_count": 101,
   "metadata": {},
   "outputs": [
    {
     "data": {
      "application/vnd.plotly.v1+json": {
       "config": {
        "plotlyServerURL": "https://plot.ly"
       },
       "data": [
        {
         "hovertemplate": "region=Midwest<br>year=%{x}<br>amount=%{y}<extra></extra>",
         "legendgroup": "Midwest",
         "line": {
          "color": "#636efa",
          "dash": "solid"
         },
         "marker": {
          "symbol": "circle"
         },
         "mode": "lines",
         "name": "Midwest",
         "orientation": "v",
         "showlegend": true,
         "type": "scatter",
         "x": [
          2010,
          2011,
          2012,
          2013,
          2014,
          2015,
          2016,
          2017,
          2018,
          2019,
          2020
         ],
         "xaxis": "x",
         "y": [
          894448000,
          954296000,
          918036000,
          906328000,
          891829000,
          1027139000,
          1932437000,
          2128065000,
          2526890000,
          2892404000,
          2827678000
         ],
         "yaxis": "y"
        },
        {
         "hovertemplate": "region=Northeast<br>year=%{x}<br>amount=%{y}<extra></extra>",
         "legendgroup": "Northeast",
         "line": {
          "color": "#EF553B",
          "dash": "solid"
         },
         "marker": {
          "symbol": "circle"
         },
         "mode": "lines",
         "name": "Northeast",
         "orientation": "v",
         "showlegend": true,
         "type": "scatter",
         "x": [
          2010,
          2011,
          2012,
          2013,
          2014,
          2015,
          2016,
          2017,
          2018,
          2019,
          2020
         ],
         "xaxis": "x",
         "y": [
          1132680000,
          1180558000,
          1163786000,
          1155817000,
          1386978000,
          1392935000,
          1765236000,
          2011349000,
          2123806000,
          2260390000,
          2555005000
         ],
         "yaxis": "y"
        },
        {
         "hovertemplate": "region=Pacific Northwest<br>year=%{x}<br>amount=%{y}<extra></extra>",
         "legendgroup": "Pacific Northwest",
         "line": {
          "color": "#00cc96",
          "dash": "solid"
         },
         "marker": {
          "symbol": "circle"
         },
         "mode": "lines",
         "name": "Pacific Northwest",
         "orientation": "v",
         "showlegend": true,
         "type": "scatter",
         "x": [
          2010,
          2011,
          2012,
          2013,
          2014,
          2015,
          2016,
          2017,
          2018,
          2019,
          2020
         ],
         "xaxis": "x",
         "y": [
          204713000,
          211374000,
          207527000,
          215010000,
          220446000,
          227891000,
          255510000,
          273364000,
          337370000,
          336206000,
          533705000
         ],
         "yaxis": "y"
        },
        {
         "hovertemplate": "region=South<br>year=%{x}<br>amount=%{y}<extra></extra>",
         "legendgroup": "South",
         "line": {
          "color": "#ab63fa",
          "dash": "solid"
         },
         "marker": {
          "symbol": "circle"
         },
         "mode": "lines",
         "name": "South",
         "orientation": "v",
         "showlegend": true,
         "type": "scatter",
         "x": [
          2010,
          2011,
          2012,
          2013,
          2014,
          2015,
          2016,
          2017,
          2018,
          2019,
          2020
         ],
         "xaxis": "x",
         "y": [
          922538000,
          944927000,
          1566778000,
          1580751000,
          1615076000,
          2160955000,
          3165489000,
          3246752000,
          3359662000,
          3680463000,
          4101060000
         ],
         "yaxis": "y"
        },
        {
         "hovertemplate": "region=Southeast<br>year=%{x}<br>amount=%{y}<extra></extra>",
         "legendgroup": "Southeast",
         "line": {
          "color": "#FFA15A",
          "dash": "solid"
         },
         "marker": {
          "symbol": "circle"
         },
         "mode": "lines",
         "name": "Southeast",
         "orientation": "v",
         "showlegend": true,
         "type": "scatter",
         "x": [
          2010,
          2011,
          2012,
          2013,
          2014,
          2015,
          2016,
          2017,
          2018,
          2019,
          2020
         ],
         "xaxis": "x",
         "y": [
          754042000,
          729944000,
          717086000,
          704022000,
          716380000,
          1072571000,
          1476417000,
          1558469000,
          2292665000,
          2412538000,
          2674502000
         ],
         "yaxis": "y"
        },
        {
         "hovertemplate": "region=West<br>year=%{x}<br>amount=%{y}<extra></extra>",
         "legendgroup": "West",
         "line": {
          "color": "#19d3f3",
          "dash": "solid"
         },
         "marker": {
          "symbol": "circle"
         },
         "mode": "lines",
         "name": "West",
         "orientation": "v",
         "showlegend": true,
         "type": "scatter",
         "x": [
          2010,
          2011,
          2012,
          2013,
          2014,
          2015,
          2016,
          2017,
          2018,
          2019,
          2020
         ],
         "xaxis": "x",
         "y": [
          357673000,
          337779000,
          326109000,
          396191000,
          432107000,
          755449000,
          1002452000,
          1279205000,
          1350540000,
          1375377000,
          1588483000
         ],
         "yaxis": "y"
        }
       ],
       "layout": {
        "legend": {
         "title": {
          "text": "region"
         },
         "tracegroupgap": 0
        },
        "template": {
         "data": {
          "bar": [
           {
            "error_x": {
             "color": "#2a3f5f"
            },
            "error_y": {
             "color": "#2a3f5f"
            },
            "marker": {
             "line": {
              "color": "#E5ECF6",
              "width": 0.5
             },
             "pattern": {
              "fillmode": "overlay",
              "size": 10,
              "solidity": 0.2
             }
            },
            "type": "bar"
           }
          ],
          "barpolar": [
           {
            "marker": {
             "line": {
              "color": "#E5ECF6",
              "width": 0.5
             },
             "pattern": {
              "fillmode": "overlay",
              "size": 10,
              "solidity": 0.2
             }
            },
            "type": "barpolar"
           }
          ],
          "carpet": [
           {
            "aaxis": {
             "endlinecolor": "#2a3f5f",
             "gridcolor": "white",
             "linecolor": "white",
             "minorgridcolor": "white",
             "startlinecolor": "#2a3f5f"
            },
            "baxis": {
             "endlinecolor": "#2a3f5f",
             "gridcolor": "white",
             "linecolor": "white",
             "minorgridcolor": "white",
             "startlinecolor": "#2a3f5f"
            },
            "type": "carpet"
           }
          ],
          "choropleth": [
           {
            "colorbar": {
             "outlinewidth": 0,
             "ticks": ""
            },
            "type": "choropleth"
           }
          ],
          "contour": [
           {
            "colorbar": {
             "outlinewidth": 0,
             "ticks": ""
            },
            "colorscale": [
             [
              0,
              "#0d0887"
             ],
             [
              0.1111111111111111,
              "#46039f"
             ],
             [
              0.2222222222222222,
              "#7201a8"
             ],
             [
              0.3333333333333333,
              "#9c179e"
             ],
             [
              0.4444444444444444,
              "#bd3786"
             ],
             [
              0.5555555555555556,
              "#d8576b"
             ],
             [
              0.6666666666666666,
              "#ed7953"
             ],
             [
              0.7777777777777778,
              "#fb9f3a"
             ],
             [
              0.8888888888888888,
              "#fdca26"
             ],
             [
              1,
              "#f0f921"
             ]
            ],
            "type": "contour"
           }
          ],
          "contourcarpet": [
           {
            "colorbar": {
             "outlinewidth": 0,
             "ticks": ""
            },
            "type": "contourcarpet"
           }
          ],
          "heatmap": [
           {
            "colorbar": {
             "outlinewidth": 0,
             "ticks": ""
            },
            "colorscale": [
             [
              0,
              "#0d0887"
             ],
             [
              0.1111111111111111,
              "#46039f"
             ],
             [
              0.2222222222222222,
              "#7201a8"
             ],
             [
              0.3333333333333333,
              "#9c179e"
             ],
             [
              0.4444444444444444,
              "#bd3786"
             ],
             [
              0.5555555555555556,
              "#d8576b"
             ],
             [
              0.6666666666666666,
              "#ed7953"
             ],
             [
              0.7777777777777778,
              "#fb9f3a"
             ],
             [
              0.8888888888888888,
              "#fdca26"
             ],
             [
              1,
              "#f0f921"
             ]
            ],
            "type": "heatmap"
           }
          ],
          "heatmapgl": [
           {
            "colorbar": {
             "outlinewidth": 0,
             "ticks": ""
            },
            "colorscale": [
             [
              0,
              "#0d0887"
             ],
             [
              0.1111111111111111,
              "#46039f"
             ],
             [
              0.2222222222222222,
              "#7201a8"
             ],
             [
              0.3333333333333333,
              "#9c179e"
             ],
             [
              0.4444444444444444,
              "#bd3786"
             ],
             [
              0.5555555555555556,
              "#d8576b"
             ],
             [
              0.6666666666666666,
              "#ed7953"
             ],
             [
              0.7777777777777778,
              "#fb9f3a"
             ],
             [
              0.8888888888888888,
              "#fdca26"
             ],
             [
              1,
              "#f0f921"
             ]
            ],
            "type": "heatmapgl"
           }
          ],
          "histogram": [
           {
            "marker": {
             "pattern": {
              "fillmode": "overlay",
              "size": 10,
              "solidity": 0.2
             }
            },
            "type": "histogram"
           }
          ],
          "histogram2d": [
           {
            "colorbar": {
             "outlinewidth": 0,
             "ticks": ""
            },
            "colorscale": [
             [
              0,
              "#0d0887"
             ],
             [
              0.1111111111111111,
              "#46039f"
             ],
             [
              0.2222222222222222,
              "#7201a8"
             ],
             [
              0.3333333333333333,
              "#9c179e"
             ],
             [
              0.4444444444444444,
              "#bd3786"
             ],
             [
              0.5555555555555556,
              "#d8576b"
             ],
             [
              0.6666666666666666,
              "#ed7953"
             ],
             [
              0.7777777777777778,
              "#fb9f3a"
             ],
             [
              0.8888888888888888,
              "#fdca26"
             ],
             [
              1,
              "#f0f921"
             ]
            ],
            "type": "histogram2d"
           }
          ],
          "histogram2dcontour": [
           {
            "colorbar": {
             "outlinewidth": 0,
             "ticks": ""
            },
            "colorscale": [
             [
              0,
              "#0d0887"
             ],
             [
              0.1111111111111111,
              "#46039f"
             ],
             [
              0.2222222222222222,
              "#7201a8"
             ],
             [
              0.3333333333333333,
              "#9c179e"
             ],
             [
              0.4444444444444444,
              "#bd3786"
             ],
             [
              0.5555555555555556,
              "#d8576b"
             ],
             [
              0.6666666666666666,
              "#ed7953"
             ],
             [
              0.7777777777777778,
              "#fb9f3a"
             ],
             [
              0.8888888888888888,
              "#fdca26"
             ],
             [
              1,
              "#f0f921"
             ]
            ],
            "type": "histogram2dcontour"
           }
          ],
          "mesh3d": [
           {
            "colorbar": {
             "outlinewidth": 0,
             "ticks": ""
            },
            "type": "mesh3d"
           }
          ],
          "parcoords": [
           {
            "line": {
             "colorbar": {
              "outlinewidth": 0,
              "ticks": ""
             }
            },
            "type": "parcoords"
           }
          ],
          "pie": [
           {
            "automargin": true,
            "type": "pie"
           }
          ],
          "scatter": [
           {
            "fillpattern": {
             "fillmode": "overlay",
             "size": 10,
             "solidity": 0.2
            },
            "type": "scatter"
           }
          ],
          "scatter3d": [
           {
            "line": {
             "colorbar": {
              "outlinewidth": 0,
              "ticks": ""
             }
            },
            "marker": {
             "colorbar": {
              "outlinewidth": 0,
              "ticks": ""
             }
            },
            "type": "scatter3d"
           }
          ],
          "scattercarpet": [
           {
            "marker": {
             "colorbar": {
              "outlinewidth": 0,
              "ticks": ""
             }
            },
            "type": "scattercarpet"
           }
          ],
          "scattergeo": [
           {
            "marker": {
             "colorbar": {
              "outlinewidth": 0,
              "ticks": ""
             }
            },
            "type": "scattergeo"
           }
          ],
          "scattergl": [
           {
            "marker": {
             "colorbar": {
              "outlinewidth": 0,
              "ticks": ""
             }
            },
            "type": "scattergl"
           }
          ],
          "scattermapbox": [
           {
            "marker": {
             "colorbar": {
              "outlinewidth": 0,
              "ticks": ""
             }
            },
            "type": "scattermapbox"
           }
          ],
          "scatterpolar": [
           {
            "marker": {
             "colorbar": {
              "outlinewidth": 0,
              "ticks": ""
             }
            },
            "type": "scatterpolar"
           }
          ],
          "scatterpolargl": [
           {
            "marker": {
             "colorbar": {
              "outlinewidth": 0,
              "ticks": ""
             }
            },
            "type": "scatterpolargl"
           }
          ],
          "scatterternary": [
           {
            "marker": {
             "colorbar": {
              "outlinewidth": 0,
              "ticks": ""
             }
            },
            "type": "scatterternary"
           }
          ],
          "surface": [
           {
            "colorbar": {
             "outlinewidth": 0,
             "ticks": ""
            },
            "colorscale": [
             [
              0,
              "#0d0887"
             ],
             [
              0.1111111111111111,
              "#46039f"
             ],
             [
              0.2222222222222222,
              "#7201a8"
             ],
             [
              0.3333333333333333,
              "#9c179e"
             ],
             [
              0.4444444444444444,
              "#bd3786"
             ],
             [
              0.5555555555555556,
              "#d8576b"
             ],
             [
              0.6666666666666666,
              "#ed7953"
             ],
             [
              0.7777777777777778,
              "#fb9f3a"
             ],
             [
              0.8888888888888888,
              "#fdca26"
             ],
             [
              1,
              "#f0f921"
             ]
            ],
            "type": "surface"
           }
          ],
          "table": [
           {
            "cells": {
             "fill": {
              "color": "#EBF0F8"
             },
             "line": {
              "color": "white"
             }
            },
            "header": {
             "fill": {
              "color": "#C8D4E3"
             },
             "line": {
              "color": "white"
             }
            },
            "type": "table"
           }
          ]
         },
         "layout": {
          "annotationdefaults": {
           "arrowcolor": "#2a3f5f",
           "arrowhead": 0,
           "arrowwidth": 1
          },
          "autotypenumbers": "strict",
          "coloraxis": {
           "colorbar": {
            "outlinewidth": 0,
            "ticks": ""
           }
          },
          "colorscale": {
           "diverging": [
            [
             0,
             "#8e0152"
            ],
            [
             0.1,
             "#c51b7d"
            ],
            [
             0.2,
             "#de77ae"
            ],
            [
             0.3,
             "#f1b6da"
            ],
            [
             0.4,
             "#fde0ef"
            ],
            [
             0.5,
             "#f7f7f7"
            ],
            [
             0.6,
             "#e6f5d0"
            ],
            [
             0.7,
             "#b8e186"
            ],
            [
             0.8,
             "#7fbc41"
            ],
            [
             0.9,
             "#4d9221"
            ],
            [
             1,
             "#276419"
            ]
           ],
           "sequential": [
            [
             0,
             "#0d0887"
            ],
            [
             0.1111111111111111,
             "#46039f"
            ],
            [
             0.2222222222222222,
             "#7201a8"
            ],
            [
             0.3333333333333333,
             "#9c179e"
            ],
            [
             0.4444444444444444,
             "#bd3786"
            ],
            [
             0.5555555555555556,
             "#d8576b"
            ],
            [
             0.6666666666666666,
             "#ed7953"
            ],
            [
             0.7777777777777778,
             "#fb9f3a"
            ],
            [
             0.8888888888888888,
             "#fdca26"
            ],
            [
             1,
             "#f0f921"
            ]
           ],
           "sequentialminus": [
            [
             0,
             "#0d0887"
            ],
            [
             0.1111111111111111,
             "#46039f"
            ],
            [
             0.2222222222222222,
             "#7201a8"
            ],
            [
             0.3333333333333333,
             "#9c179e"
            ],
            [
             0.4444444444444444,
             "#bd3786"
            ],
            [
             0.5555555555555556,
             "#d8576b"
            ],
            [
             0.6666666666666666,
             "#ed7953"
            ],
            [
             0.7777777777777778,
             "#fb9f3a"
            ],
            [
             0.8888888888888888,
             "#fdca26"
            ],
            [
             1,
             "#f0f921"
            ]
           ]
          },
          "colorway": [
           "#636efa",
           "#EF553B",
           "#00cc96",
           "#ab63fa",
           "#FFA15A",
           "#19d3f3",
           "#FF6692",
           "#B6E880",
           "#FF97FF",
           "#FECB52"
          ],
          "font": {
           "color": "#2a3f5f"
          },
          "geo": {
           "bgcolor": "white",
           "lakecolor": "white",
           "landcolor": "#E5ECF6",
           "showlakes": true,
           "showland": true,
           "subunitcolor": "white"
          },
          "hoverlabel": {
           "align": "left"
          },
          "hovermode": "closest",
          "mapbox": {
           "style": "light"
          },
          "paper_bgcolor": "white",
          "plot_bgcolor": "#E5ECF6",
          "polar": {
           "angularaxis": {
            "gridcolor": "white",
            "linecolor": "white",
            "ticks": ""
           },
           "bgcolor": "#E5ECF6",
           "radialaxis": {
            "gridcolor": "white",
            "linecolor": "white",
            "ticks": ""
           }
          },
          "scene": {
           "xaxis": {
            "backgroundcolor": "#E5ECF6",
            "gridcolor": "white",
            "gridwidth": 2,
            "linecolor": "white",
            "showbackground": true,
            "ticks": "",
            "zerolinecolor": "white"
           },
           "yaxis": {
            "backgroundcolor": "#E5ECF6",
            "gridcolor": "white",
            "gridwidth": 2,
            "linecolor": "white",
            "showbackground": true,
            "ticks": "",
            "zerolinecolor": "white"
           },
           "zaxis": {
            "backgroundcolor": "#E5ECF6",
            "gridcolor": "white",
            "gridwidth": 2,
            "linecolor": "white",
            "showbackground": true,
            "ticks": "",
            "zerolinecolor": "white"
           }
          },
          "shapedefaults": {
           "line": {
            "color": "#2a3f5f"
           }
          },
          "ternary": {
           "aaxis": {
            "gridcolor": "white",
            "linecolor": "white",
            "ticks": ""
           },
           "baxis": {
            "gridcolor": "white",
            "linecolor": "white",
            "ticks": ""
           },
           "bgcolor": "#E5ECF6",
           "caxis": {
            "gridcolor": "white",
            "linecolor": "white",
            "ticks": ""
           }
          },
          "title": {
           "x": 0.05
          },
          "xaxis": {
           "automargin": true,
           "gridcolor": "white",
           "linecolor": "white",
           "ticks": "",
           "title": {
            "standoff": 15
           },
           "zerolinecolor": "white",
           "zerolinewidth": 2
          },
          "yaxis": {
           "automargin": true,
           "gridcolor": "white",
           "linecolor": "white",
           "ticks": "",
           "title": {
            "standoff": 15
           },
           "zerolinecolor": "white",
           "zerolinewidth": 2
          }
         }
        },
        "title": {
         "text": "Tech and Vocational Cost by Region Over Time"
        },
        "xaxis": {
         "anchor": "y",
         "domain": [
          0,
          1
         ],
         "title": {
          "text": "year"
         }
        },
        "yaxis": {
         "anchor": "x",
         "domain": [
          0,
          1
         ],
         "title": {
          "text": "amount"
         }
        }
       }
      }
     },
     "metadata": {},
     "output_type": "display_data"
    }
   ],
   "source": [
    "tech_voc_cost_by_region_line_chart = px.line(\n",
    "    regional_aggregations,\n",
    "    x='year',\n",
    "    y='amount',\n",
    "    color='region',\n",
    "    title='Tech and Vocational Cost by Region Over Time'\n",
    ")\n",
    "\n",
    "tech_voc_cost_by_region_line_chart.show()\n"
   ]
  },
  {
   "cell_type": "code",
   "execution_count": 102,
   "metadata": {},
   "outputs": [
    {
     "data": {
      "text/html": [
       "<div>\n",
       "<style scoped>\n",
       "    .dataframe tbody tr th:only-of-type {\n",
       "        vertical-align: middle;\n",
       "    }\n",
       "\n",
       "    .dataframe tbody tr th {\n",
       "        vertical-align: top;\n",
       "    }\n",
       "\n",
       "    .dataframe thead th {\n",
       "        text-align: right;\n",
       "    }\n",
       "</style>\n",
       "<table border=\"1\" class=\"dataframe\">\n",
       "  <thead>\n",
       "    <tr style=\"text-align: right;\">\n",
       "      <th></th>\n",
       "      <th>region</th>\n",
       "      <th>year</th>\n",
       "      <th>amount</th>\n",
       "      <th>student_count</th>\n",
       "      <th>per_student_costs</th>\n",
       "    </tr>\n",
       "  </thead>\n",
       "  <tbody>\n",
       "    <tr>\n",
       "      <th>0</th>\n",
       "      <td>Midwest</td>\n",
       "      <td>2010</td>\n",
       "      <td>894448000.0</td>\n",
       "      <td>6028314</td>\n",
       "      <td>148.374487</td>\n",
       "    </tr>\n",
       "    <tr>\n",
       "      <th>1</th>\n",
       "      <td>Midwest</td>\n",
       "      <td>2011</td>\n",
       "      <td>954296000.0</td>\n",
       "      <td>6868314</td>\n",
       "      <td>138.941813</td>\n",
       "    </tr>\n",
       "    <tr>\n",
       "      <th>2</th>\n",
       "      <td>Midwest</td>\n",
       "      <td>2012</td>\n",
       "      <td>918036000.0</td>\n",
       "      <td>6816199</td>\n",
       "      <td>134.684448</td>\n",
       "    </tr>\n",
       "    <tr>\n",
       "      <th>3</th>\n",
       "      <td>Midwest</td>\n",
       "      <td>2013</td>\n",
       "      <td>906328000.0</td>\n",
       "      <td>6778441</td>\n",
       "      <td>133.707441</td>\n",
       "    </tr>\n",
       "    <tr>\n",
       "      <th>4</th>\n",
       "      <td>Midwest</td>\n",
       "      <td>2014</td>\n",
       "      <td>891829000.0</td>\n",
       "      <td>6764464</td>\n",
       "      <td>131.840305</td>\n",
       "    </tr>\n",
       "  </tbody>\n",
       "</table>\n",
       "</div>"
      ],
      "text/plain": [
       "    region  year       amount  student_count  per_student_costs\n",
       "0  Midwest  2010  894448000.0        6028314         148.374487\n",
       "1  Midwest  2011  954296000.0        6868314         138.941813\n",
       "2  Midwest  2012  918036000.0        6816199         134.684448\n",
       "3  Midwest  2013  906328000.0        6778441         133.707441\n",
       "4  Midwest  2014  891829000.0        6764464         131.840305"
      ]
     },
     "execution_count": 102,
     "metadata": {},
     "output_type": "execute_result"
    }
   ],
   "source": [
    "regional_aggregations['per_student_costs'] = regional_aggregations['amount'] / regional_aggregations['student_count']\n",
    "regional_aggregations.head()"
   ]
  },
  {
   "cell_type": "code",
   "execution_count": 103,
   "metadata": {},
   "outputs": [
    {
     "data": {
      "application/vnd.plotly.v1+json": {
       "config": {
        "plotlyServerURL": "https://plot.ly"
       },
       "data": [
        {
         "hovertemplate": "region=Midwest<br>year=%{x}<br>per_student_costs=%{y}<extra></extra>",
         "legendgroup": "Midwest",
         "line": {
          "color": "#636efa",
          "dash": "solid"
         },
         "marker": {
          "symbol": "circle"
         },
         "mode": "lines",
         "name": "Midwest",
         "orientation": "v",
         "showlegend": true,
         "type": "scatter",
         "x": [
          2010,
          2011,
          2012,
          2013,
          2014,
          2015,
          2016,
          2017,
          2018,
          2019,
          2020
         ],
         "xaxis": "x",
         "y": [
          148.37448746034133,
          138.9418130854239,
          134.68444803328072,
          133.70744098827444,
          131.84030545509592,
          123.15552497800407,
          142.7450114255133,
          138.98293461862497,
          136.87599946308904,
          151.478177567749,
          102.38211437131002
         ],
         "yaxis": "y"
        },
        {
         "hovertemplate": "region=Northeast<br>year=%{x}<br>per_student_costs=%{y}<extra></extra>",
         "legendgroup": "Northeast",
         "line": {
          "color": "#EF553B",
          "dash": "solid"
         },
         "marker": {
          "symbol": "circle"
         },
         "mode": "lines",
         "name": "Northeast",
         "orientation": "v",
         "showlegend": true,
         "type": "scatter",
         "x": [
          2010,
          2011,
          2012,
          2013,
          2014,
          2015,
          2016,
          2017,
          2018,
          2019,
          2020
         ],
         "xaxis": "x",
         "y": [
          168.2878169176889,
          171.52372417608728,
          172.66903274653149,
          172.4120082198058,
          183.12570835256602,
          177.94166434701495,
          181.49474095475063,
          175.42411079507497,
          171.42041241836407,
          183.47300579366225,
          143.25500411738184
         ],
         "yaxis": "y"
        },
        {
         "hovertemplate": "region=Pacific Northwest<br>year=%{x}<br>per_student_costs=%{y}<extra></extra>",
         "legendgroup": "Pacific Northwest",
         "line": {
          "color": "#00cc96",
          "dash": "solid"
         },
         "marker": {
          "symbol": "circle"
         },
         "mode": "lines",
         "name": "Pacific Northwest",
         "orientation": "v",
         "showlegend": true,
         "type": "scatter",
         "x": [
          2010,
          2011,
          2012,
          2013,
          2014,
          2015,
          2016,
          2017,
          2018,
          2019,
          2020
         ],
         "xaxis": "x",
         "y": [
          128.35177815800876,
          131.89359856733702,
          128.7878082670395,
          133.1323025863617,
          135.71528392989836,
          138.82849465346027,
          114.45155215762968,
          121.38715746573824,
          118.7314663549014,
          147.54322101027122,
          77.99843595382922
         ],
         "yaxis": "y"
        },
        {
         "hovertemplate": "region=South<br>year=%{x}<br>per_student_costs=%{y}<extra></extra>",
         "legendgroup": "South",
         "line": {
          "color": "#ab63fa",
          "dash": "solid"
         },
         "marker": {
          "symbol": "circle"
         },
         "mode": "lines",
         "name": "South",
         "orientation": "v",
         "showlegend": true,
         "type": "scatter",
         "x": [
          2010,
          2011,
          2012,
          2013,
          2014,
          2015,
          2016,
          2017,
          2018,
          2019,
          2020
         ],
         "xaxis": "x",
         "y": [
          141.4275081652817,
          131.38873184366398,
          129.72572410789542,
          130.0191514408161,
          132.30402640778786,
          116.75342853501328,
          140.24423715132593,
          144.50025706721203,
          149.65314839094654,
          159.1133022176264,
          136.08328825771707
         ],
         "yaxis": "y"
        },
        {
         "hovertemplate": "region=Southeast<br>year=%{x}<br>per_student_costs=%{y}<extra></extra>",
         "legendgroup": "Southeast",
         "line": {
          "color": "#FFA15A",
          "dash": "solid"
         },
         "marker": {
          "symbol": "circle"
         },
         "mode": "lines",
         "name": "Southeast",
         "orientation": "v",
         "showlegend": true,
         "type": "scatter",
         "x": [
          2010,
          2011,
          2012,
          2013,
          2014,
          2015,
          2016,
          2017,
          2018,
          2019,
          2020
         ],
         "xaxis": "x",
         "y": [
          116.94141716418281,
          112.90707282508053,
          110.22543393561669,
          107.43554335888255,
          108.9057072805285,
          103.81912952575463,
          106.75128293116964,
          112.37801587024029,
          117.60738795169401,
          123.6600776660193,
          117.64917030453583
         ],
         "yaxis": "y"
        },
        {
         "hovertemplate": "region=West<br>year=%{x}<br>per_student_costs=%{y}<extra></extra>",
         "legendgroup": "West",
         "line": {
          "color": "#19d3f3",
          "dash": "solid"
         },
         "marker": {
          "symbol": "circle"
         },
         "mode": "lines",
         "name": "West",
         "orientation": "v",
         "showlegend": true,
         "type": "scatter",
         "x": [
          2010,
          2011,
          2012,
          2013,
          2014,
          2015,
          2016,
          2017,
          2018,
          2019,
          2020
         ],
         "xaxis": "x",
         "y": [
          36.45946842424696,
          34.38281403879148,
          33.14205781803226,
          40.18073424911384,
          43.61424516481194,
          55.47824224838423,
          69.40511876355629,
          75.62683952463586,
          80.01478793006305,
          87.20577228932866,
          80.98016772683764
         ],
         "yaxis": "y"
        }
       ],
       "layout": {
        "legend": {
         "title": {
          "text": "region"
         },
         "tracegroupgap": 0
        },
        "template": {
         "data": {
          "bar": [
           {
            "error_x": {
             "color": "#2a3f5f"
            },
            "error_y": {
             "color": "#2a3f5f"
            },
            "marker": {
             "line": {
              "color": "#E5ECF6",
              "width": 0.5
             },
             "pattern": {
              "fillmode": "overlay",
              "size": 10,
              "solidity": 0.2
             }
            },
            "type": "bar"
           }
          ],
          "barpolar": [
           {
            "marker": {
             "line": {
              "color": "#E5ECF6",
              "width": 0.5
             },
             "pattern": {
              "fillmode": "overlay",
              "size": 10,
              "solidity": 0.2
             }
            },
            "type": "barpolar"
           }
          ],
          "carpet": [
           {
            "aaxis": {
             "endlinecolor": "#2a3f5f",
             "gridcolor": "white",
             "linecolor": "white",
             "minorgridcolor": "white",
             "startlinecolor": "#2a3f5f"
            },
            "baxis": {
             "endlinecolor": "#2a3f5f",
             "gridcolor": "white",
             "linecolor": "white",
             "minorgridcolor": "white",
             "startlinecolor": "#2a3f5f"
            },
            "type": "carpet"
           }
          ],
          "choropleth": [
           {
            "colorbar": {
             "outlinewidth": 0,
             "ticks": ""
            },
            "type": "choropleth"
           }
          ],
          "contour": [
           {
            "colorbar": {
             "outlinewidth": 0,
             "ticks": ""
            },
            "colorscale": [
             [
              0,
              "#0d0887"
             ],
             [
              0.1111111111111111,
              "#46039f"
             ],
             [
              0.2222222222222222,
              "#7201a8"
             ],
             [
              0.3333333333333333,
              "#9c179e"
             ],
             [
              0.4444444444444444,
              "#bd3786"
             ],
             [
              0.5555555555555556,
              "#d8576b"
             ],
             [
              0.6666666666666666,
              "#ed7953"
             ],
             [
              0.7777777777777778,
              "#fb9f3a"
             ],
             [
              0.8888888888888888,
              "#fdca26"
             ],
             [
              1,
              "#f0f921"
             ]
            ],
            "type": "contour"
           }
          ],
          "contourcarpet": [
           {
            "colorbar": {
             "outlinewidth": 0,
             "ticks": ""
            },
            "type": "contourcarpet"
           }
          ],
          "heatmap": [
           {
            "colorbar": {
             "outlinewidth": 0,
             "ticks": ""
            },
            "colorscale": [
             [
              0,
              "#0d0887"
             ],
             [
              0.1111111111111111,
              "#46039f"
             ],
             [
              0.2222222222222222,
              "#7201a8"
             ],
             [
              0.3333333333333333,
              "#9c179e"
             ],
             [
              0.4444444444444444,
              "#bd3786"
             ],
             [
              0.5555555555555556,
              "#d8576b"
             ],
             [
              0.6666666666666666,
              "#ed7953"
             ],
             [
              0.7777777777777778,
              "#fb9f3a"
             ],
             [
              0.8888888888888888,
              "#fdca26"
             ],
             [
              1,
              "#f0f921"
             ]
            ],
            "type": "heatmap"
           }
          ],
          "heatmapgl": [
           {
            "colorbar": {
             "outlinewidth": 0,
             "ticks": ""
            },
            "colorscale": [
             [
              0,
              "#0d0887"
             ],
             [
              0.1111111111111111,
              "#46039f"
             ],
             [
              0.2222222222222222,
              "#7201a8"
             ],
             [
              0.3333333333333333,
              "#9c179e"
             ],
             [
              0.4444444444444444,
              "#bd3786"
             ],
             [
              0.5555555555555556,
              "#d8576b"
             ],
             [
              0.6666666666666666,
              "#ed7953"
             ],
             [
              0.7777777777777778,
              "#fb9f3a"
             ],
             [
              0.8888888888888888,
              "#fdca26"
             ],
             [
              1,
              "#f0f921"
             ]
            ],
            "type": "heatmapgl"
           }
          ],
          "histogram": [
           {
            "marker": {
             "pattern": {
              "fillmode": "overlay",
              "size": 10,
              "solidity": 0.2
             }
            },
            "type": "histogram"
           }
          ],
          "histogram2d": [
           {
            "colorbar": {
             "outlinewidth": 0,
             "ticks": ""
            },
            "colorscale": [
             [
              0,
              "#0d0887"
             ],
             [
              0.1111111111111111,
              "#46039f"
             ],
             [
              0.2222222222222222,
              "#7201a8"
             ],
             [
              0.3333333333333333,
              "#9c179e"
             ],
             [
              0.4444444444444444,
              "#bd3786"
             ],
             [
              0.5555555555555556,
              "#d8576b"
             ],
             [
              0.6666666666666666,
              "#ed7953"
             ],
             [
              0.7777777777777778,
              "#fb9f3a"
             ],
             [
              0.8888888888888888,
              "#fdca26"
             ],
             [
              1,
              "#f0f921"
             ]
            ],
            "type": "histogram2d"
           }
          ],
          "histogram2dcontour": [
           {
            "colorbar": {
             "outlinewidth": 0,
             "ticks": ""
            },
            "colorscale": [
             [
              0,
              "#0d0887"
             ],
             [
              0.1111111111111111,
              "#46039f"
             ],
             [
              0.2222222222222222,
              "#7201a8"
             ],
             [
              0.3333333333333333,
              "#9c179e"
             ],
             [
              0.4444444444444444,
              "#bd3786"
             ],
             [
              0.5555555555555556,
              "#d8576b"
             ],
             [
              0.6666666666666666,
              "#ed7953"
             ],
             [
              0.7777777777777778,
              "#fb9f3a"
             ],
             [
              0.8888888888888888,
              "#fdca26"
             ],
             [
              1,
              "#f0f921"
             ]
            ],
            "type": "histogram2dcontour"
           }
          ],
          "mesh3d": [
           {
            "colorbar": {
             "outlinewidth": 0,
             "ticks": ""
            },
            "type": "mesh3d"
           }
          ],
          "parcoords": [
           {
            "line": {
             "colorbar": {
              "outlinewidth": 0,
              "ticks": ""
             }
            },
            "type": "parcoords"
           }
          ],
          "pie": [
           {
            "automargin": true,
            "type": "pie"
           }
          ],
          "scatter": [
           {
            "fillpattern": {
             "fillmode": "overlay",
             "size": 10,
             "solidity": 0.2
            },
            "type": "scatter"
           }
          ],
          "scatter3d": [
           {
            "line": {
             "colorbar": {
              "outlinewidth": 0,
              "ticks": ""
             }
            },
            "marker": {
             "colorbar": {
              "outlinewidth": 0,
              "ticks": ""
             }
            },
            "type": "scatter3d"
           }
          ],
          "scattercarpet": [
           {
            "marker": {
             "colorbar": {
              "outlinewidth": 0,
              "ticks": ""
             }
            },
            "type": "scattercarpet"
           }
          ],
          "scattergeo": [
           {
            "marker": {
             "colorbar": {
              "outlinewidth": 0,
              "ticks": ""
             }
            },
            "type": "scattergeo"
           }
          ],
          "scattergl": [
           {
            "marker": {
             "colorbar": {
              "outlinewidth": 0,
              "ticks": ""
             }
            },
            "type": "scattergl"
           }
          ],
          "scattermapbox": [
           {
            "marker": {
             "colorbar": {
              "outlinewidth": 0,
              "ticks": ""
             }
            },
            "type": "scattermapbox"
           }
          ],
          "scatterpolar": [
           {
            "marker": {
             "colorbar": {
              "outlinewidth": 0,
              "ticks": ""
             }
            },
            "type": "scatterpolar"
           }
          ],
          "scatterpolargl": [
           {
            "marker": {
             "colorbar": {
              "outlinewidth": 0,
              "ticks": ""
             }
            },
            "type": "scatterpolargl"
           }
          ],
          "scatterternary": [
           {
            "marker": {
             "colorbar": {
              "outlinewidth": 0,
              "ticks": ""
             }
            },
            "type": "scatterternary"
           }
          ],
          "surface": [
           {
            "colorbar": {
             "outlinewidth": 0,
             "ticks": ""
            },
            "colorscale": [
             [
              0,
              "#0d0887"
             ],
             [
              0.1111111111111111,
              "#46039f"
             ],
             [
              0.2222222222222222,
              "#7201a8"
             ],
             [
              0.3333333333333333,
              "#9c179e"
             ],
             [
              0.4444444444444444,
              "#bd3786"
             ],
             [
              0.5555555555555556,
              "#d8576b"
             ],
             [
              0.6666666666666666,
              "#ed7953"
             ],
             [
              0.7777777777777778,
              "#fb9f3a"
             ],
             [
              0.8888888888888888,
              "#fdca26"
             ],
             [
              1,
              "#f0f921"
             ]
            ],
            "type": "surface"
           }
          ],
          "table": [
           {
            "cells": {
             "fill": {
              "color": "#EBF0F8"
             },
             "line": {
              "color": "white"
             }
            },
            "header": {
             "fill": {
              "color": "#C8D4E3"
             },
             "line": {
              "color": "white"
             }
            },
            "type": "table"
           }
          ]
         },
         "layout": {
          "annotationdefaults": {
           "arrowcolor": "#2a3f5f",
           "arrowhead": 0,
           "arrowwidth": 1
          },
          "autotypenumbers": "strict",
          "coloraxis": {
           "colorbar": {
            "outlinewidth": 0,
            "ticks": ""
           }
          },
          "colorscale": {
           "diverging": [
            [
             0,
             "#8e0152"
            ],
            [
             0.1,
             "#c51b7d"
            ],
            [
             0.2,
             "#de77ae"
            ],
            [
             0.3,
             "#f1b6da"
            ],
            [
             0.4,
             "#fde0ef"
            ],
            [
             0.5,
             "#f7f7f7"
            ],
            [
             0.6,
             "#e6f5d0"
            ],
            [
             0.7,
             "#b8e186"
            ],
            [
             0.8,
             "#7fbc41"
            ],
            [
             0.9,
             "#4d9221"
            ],
            [
             1,
             "#276419"
            ]
           ],
           "sequential": [
            [
             0,
             "#0d0887"
            ],
            [
             0.1111111111111111,
             "#46039f"
            ],
            [
             0.2222222222222222,
             "#7201a8"
            ],
            [
             0.3333333333333333,
             "#9c179e"
            ],
            [
             0.4444444444444444,
             "#bd3786"
            ],
            [
             0.5555555555555556,
             "#d8576b"
            ],
            [
             0.6666666666666666,
             "#ed7953"
            ],
            [
             0.7777777777777778,
             "#fb9f3a"
            ],
            [
             0.8888888888888888,
             "#fdca26"
            ],
            [
             1,
             "#f0f921"
            ]
           ],
           "sequentialminus": [
            [
             0,
             "#0d0887"
            ],
            [
             0.1111111111111111,
             "#46039f"
            ],
            [
             0.2222222222222222,
             "#7201a8"
            ],
            [
             0.3333333333333333,
             "#9c179e"
            ],
            [
             0.4444444444444444,
             "#bd3786"
            ],
            [
             0.5555555555555556,
             "#d8576b"
            ],
            [
             0.6666666666666666,
             "#ed7953"
            ],
            [
             0.7777777777777778,
             "#fb9f3a"
            ],
            [
             0.8888888888888888,
             "#fdca26"
            ],
            [
             1,
             "#f0f921"
            ]
           ]
          },
          "colorway": [
           "#636efa",
           "#EF553B",
           "#00cc96",
           "#ab63fa",
           "#FFA15A",
           "#19d3f3",
           "#FF6692",
           "#B6E880",
           "#FF97FF",
           "#FECB52"
          ],
          "font": {
           "color": "#2a3f5f"
          },
          "geo": {
           "bgcolor": "white",
           "lakecolor": "white",
           "landcolor": "#E5ECF6",
           "showlakes": true,
           "showland": true,
           "subunitcolor": "white"
          },
          "hoverlabel": {
           "align": "left"
          },
          "hovermode": "closest",
          "mapbox": {
           "style": "light"
          },
          "paper_bgcolor": "white",
          "plot_bgcolor": "#E5ECF6",
          "polar": {
           "angularaxis": {
            "gridcolor": "white",
            "linecolor": "white",
            "ticks": ""
           },
           "bgcolor": "#E5ECF6",
           "radialaxis": {
            "gridcolor": "white",
            "linecolor": "white",
            "ticks": ""
           }
          },
          "scene": {
           "xaxis": {
            "backgroundcolor": "#E5ECF6",
            "gridcolor": "white",
            "gridwidth": 2,
            "linecolor": "white",
            "showbackground": true,
            "ticks": "",
            "zerolinecolor": "white"
           },
           "yaxis": {
            "backgroundcolor": "#E5ECF6",
            "gridcolor": "white",
            "gridwidth": 2,
            "linecolor": "white",
            "showbackground": true,
            "ticks": "",
            "zerolinecolor": "white"
           },
           "zaxis": {
            "backgroundcolor": "#E5ECF6",
            "gridcolor": "white",
            "gridwidth": 2,
            "linecolor": "white",
            "showbackground": true,
            "ticks": "",
            "zerolinecolor": "white"
           }
          },
          "shapedefaults": {
           "line": {
            "color": "#2a3f5f"
           }
          },
          "ternary": {
           "aaxis": {
            "gridcolor": "white",
            "linecolor": "white",
            "ticks": ""
           },
           "baxis": {
            "gridcolor": "white",
            "linecolor": "white",
            "ticks": ""
           },
           "bgcolor": "#E5ECF6",
           "caxis": {
            "gridcolor": "white",
            "linecolor": "white",
            "ticks": ""
           }
          },
          "title": {
           "x": 0.05
          },
          "xaxis": {
           "automargin": true,
           "gridcolor": "white",
           "linecolor": "white",
           "ticks": "",
           "title": {
            "standoff": 15
           },
           "zerolinecolor": "white",
           "zerolinewidth": 2
          },
          "yaxis": {
           "automargin": true,
           "gridcolor": "white",
           "linecolor": "white",
           "ticks": "",
           "title": {
            "standoff": 15
           },
           "zerolinecolor": "white",
           "zerolinewidth": 2
          }
         }
        },
        "title": {
         "text": "Tech and Vocational Per Student Cost by Region Over Time"
        },
        "xaxis": {
         "anchor": "y",
         "domain": [
          0,
          1
         ],
         "title": {
          "text": "year"
         }
        },
        "yaxis": {
         "anchor": "x",
         "domain": [
          0,
          1
         ],
         "title": {
          "text": "per_student_costs"
         }
        }
       }
      }
     },
     "metadata": {},
     "output_type": "display_data"
    }
   ],
   "source": [
    "tech_voc_cost_by_region_line_chart1 = px.line(\n",
    "    regional_aggregations,\n",
    "    x='year',\n",
    "    y='per_student_costs',\n",
    "    color='region',\n",
    "    title='Tech and Vocational Per Student Cost by Region Over Time'\n",
    ")\n",
    "\n",
    "tech_voc_cost_by_region_line_chart1.show()"
   ]
  },
  {
   "cell_type": "code",
   "execution_count": 104,
   "metadata": {},
   "outputs": [
    {
     "data": {
      "application/vnd.plotly.v1+json": {
       "config": {
        "plotlyServerURL": "https://plot.ly"
       },
       "data": [
        {
         "hovertemplate": "region=Midwest<br>year=%{x}<br>student_count=%{y}<extra></extra>",
         "legendgroup": "Midwest",
         "line": {
          "color": "#636efa",
          "dash": "solid"
         },
         "marker": {
          "symbol": "circle"
         },
         "mode": "lines",
         "name": "Midwest",
         "orientation": "v",
         "showlegend": true,
         "type": "scatter",
         "x": [
          2010,
          2011,
          2012,
          2013,
          2014,
          2015,
          2016,
          2017,
          2018,
          2019,
          2020
         ],
         "xaxis": "x",
         "y": [
          6028314,
          6868314,
          6816199,
          6778441,
          6764464,
          8340178,
          13537685,
          15311700,
          18461162,
          19094526,
          27618867
         ],
         "yaxis": "y"
        },
        {
         "hovertemplate": "region=Northeast<br>year=%{x}<br>student_count=%{y}<extra></extra>",
         "legendgroup": "Northeast",
         "line": {
          "color": "#EF553B",
          "dash": "solid"
         },
         "marker": {
          "symbol": "circle"
         },
         "mode": "lines",
         "name": "Northeast",
         "orientation": "v",
         "showlegend": true,
         "type": "scatter",
         "x": [
          2010,
          2011,
          2012,
          2013,
          2014,
          2015,
          2016,
          2017,
          2018,
          2019,
          2020
         ],
         "xaxis": "x",
         "y": [
          6730612,
          6882768,
          6739981,
          6703808,
          7573912,
          7828043,
          9726100,
          11465636,
          12389458,
          12320014,
          17835363
         ],
         "yaxis": "y"
        },
        {
         "hovertemplate": "region=Pacific Northwest<br>year=%{x}<br>student_count=%{y}<extra></extra>",
         "legendgroup": "Pacific Northwest",
         "line": {
          "color": "#00cc96",
          "dash": "solid"
         },
         "marker": {
          "symbol": "circle"
         },
         "mode": "lines",
         "name": "Pacific Northwest",
         "orientation": "v",
         "showlegend": true,
         "type": "scatter",
         "x": [
          2010,
          2011,
          2012,
          2013,
          2014,
          2015,
          2016,
          2017,
          2018,
          2019,
          2020
         ],
         "xaxis": "x",
         "y": [
          1594937,
          1602610,
          1611387,
          1615010,
          1624327,
          1641529,
          2232473,
          2252001,
          2841454,
          2278695,
          6842509
         ],
         "yaxis": "y"
        },
        {
         "hovertemplate": "region=South<br>year=%{x}<br>student_count=%{y}<extra></extra>",
         "legendgroup": "South",
         "line": {
          "color": "#ab63fa",
          "dash": "solid"
         },
         "marker": {
          "symbol": "circle"
         },
         "mode": "lines",
         "name": "South",
         "orientation": "v",
         "showlegend": true,
         "type": "scatter",
         "x": [
          2010,
          2011,
          2012,
          2013,
          2014,
          2015,
          2016,
          2017,
          2018,
          2019,
          2020
         ],
         "xaxis": "x",
         "y": [
          6523045,
          7191842,
          12077620,
          12157832,
          12207308,
          18508707,
          22571259,
          22468832,
          22449658,
          23131083,
          30136397
         ],
         "yaxis": "y"
        },
        {
         "hovertemplate": "region=Southeast<br>year=%{x}<br>student_count=%{y}<extra></extra>",
         "legendgroup": "Southeast",
         "line": {
          "color": "#FFA15A",
          "dash": "solid"
         },
         "marker": {
          "symbol": "circle"
         },
         "mode": "lines",
         "name": "Southeast",
         "orientation": "v",
         "showlegend": true,
         "type": "scatter",
         "x": [
          2010,
          2011,
          2012,
          2013,
          2014,
          2015,
          2016,
          2017,
          2018,
          2019,
          2020
         ],
         "xaxis": "x",
         "y": [
          6448032,
          6464998,
          6505631,
          6552971,
          6577984,
          10331150,
          13830438,
          13868095,
          19494226,
          19509433,
          22732859
         ],
         "yaxis": "y"
        },
        {
         "hovertemplate": "region=West<br>year=%{x}<br>student_count=%{y}<extra></extra>",
         "legendgroup": "West",
         "line": {
          "color": "#19d3f3",
          "dash": "solid"
         },
         "marker": {
          "symbol": "circle"
         },
         "mode": "lines",
         "name": "West",
         "orientation": "v",
         "showlegend": true,
         "type": "scatter",
         "x": [
          2010,
          2011,
          2012,
          2013,
          2014,
          2015,
          2016,
          2017,
          2018,
          2019,
          2020
         ],
         "xaxis": "x",
         "y": [
          9810154,
          9824065,
          9839733,
          9860223,
          9907474,
          13617032,
          14443488,
          16914696,
          16878630,
          15771628,
          19615704
         ],
         "yaxis": "y"
        }
       ],
       "layout": {
        "legend": {
         "title": {
          "text": "region"
         },
         "tracegroupgap": 0
        },
        "template": {
         "data": {
          "bar": [
           {
            "error_x": {
             "color": "#2a3f5f"
            },
            "error_y": {
             "color": "#2a3f5f"
            },
            "marker": {
             "line": {
              "color": "#E5ECF6",
              "width": 0.5
             },
             "pattern": {
              "fillmode": "overlay",
              "size": 10,
              "solidity": 0.2
             }
            },
            "type": "bar"
           }
          ],
          "barpolar": [
           {
            "marker": {
             "line": {
              "color": "#E5ECF6",
              "width": 0.5
             },
             "pattern": {
              "fillmode": "overlay",
              "size": 10,
              "solidity": 0.2
             }
            },
            "type": "barpolar"
           }
          ],
          "carpet": [
           {
            "aaxis": {
             "endlinecolor": "#2a3f5f",
             "gridcolor": "white",
             "linecolor": "white",
             "minorgridcolor": "white",
             "startlinecolor": "#2a3f5f"
            },
            "baxis": {
             "endlinecolor": "#2a3f5f",
             "gridcolor": "white",
             "linecolor": "white",
             "minorgridcolor": "white",
             "startlinecolor": "#2a3f5f"
            },
            "type": "carpet"
           }
          ],
          "choropleth": [
           {
            "colorbar": {
             "outlinewidth": 0,
             "ticks": ""
            },
            "type": "choropleth"
           }
          ],
          "contour": [
           {
            "colorbar": {
             "outlinewidth": 0,
             "ticks": ""
            },
            "colorscale": [
             [
              0,
              "#0d0887"
             ],
             [
              0.1111111111111111,
              "#46039f"
             ],
             [
              0.2222222222222222,
              "#7201a8"
             ],
             [
              0.3333333333333333,
              "#9c179e"
             ],
             [
              0.4444444444444444,
              "#bd3786"
             ],
             [
              0.5555555555555556,
              "#d8576b"
             ],
             [
              0.6666666666666666,
              "#ed7953"
             ],
             [
              0.7777777777777778,
              "#fb9f3a"
             ],
             [
              0.8888888888888888,
              "#fdca26"
             ],
             [
              1,
              "#f0f921"
             ]
            ],
            "type": "contour"
           }
          ],
          "contourcarpet": [
           {
            "colorbar": {
             "outlinewidth": 0,
             "ticks": ""
            },
            "type": "contourcarpet"
           }
          ],
          "heatmap": [
           {
            "colorbar": {
             "outlinewidth": 0,
             "ticks": ""
            },
            "colorscale": [
             [
              0,
              "#0d0887"
             ],
             [
              0.1111111111111111,
              "#46039f"
             ],
             [
              0.2222222222222222,
              "#7201a8"
             ],
             [
              0.3333333333333333,
              "#9c179e"
             ],
             [
              0.4444444444444444,
              "#bd3786"
             ],
             [
              0.5555555555555556,
              "#d8576b"
             ],
             [
              0.6666666666666666,
              "#ed7953"
             ],
             [
              0.7777777777777778,
              "#fb9f3a"
             ],
             [
              0.8888888888888888,
              "#fdca26"
             ],
             [
              1,
              "#f0f921"
             ]
            ],
            "type": "heatmap"
           }
          ],
          "heatmapgl": [
           {
            "colorbar": {
             "outlinewidth": 0,
             "ticks": ""
            },
            "colorscale": [
             [
              0,
              "#0d0887"
             ],
             [
              0.1111111111111111,
              "#46039f"
             ],
             [
              0.2222222222222222,
              "#7201a8"
             ],
             [
              0.3333333333333333,
              "#9c179e"
             ],
             [
              0.4444444444444444,
              "#bd3786"
             ],
             [
              0.5555555555555556,
              "#d8576b"
             ],
             [
              0.6666666666666666,
              "#ed7953"
             ],
             [
              0.7777777777777778,
              "#fb9f3a"
             ],
             [
              0.8888888888888888,
              "#fdca26"
             ],
             [
              1,
              "#f0f921"
             ]
            ],
            "type": "heatmapgl"
           }
          ],
          "histogram": [
           {
            "marker": {
             "pattern": {
              "fillmode": "overlay",
              "size": 10,
              "solidity": 0.2
             }
            },
            "type": "histogram"
           }
          ],
          "histogram2d": [
           {
            "colorbar": {
             "outlinewidth": 0,
             "ticks": ""
            },
            "colorscale": [
             [
              0,
              "#0d0887"
             ],
             [
              0.1111111111111111,
              "#46039f"
             ],
             [
              0.2222222222222222,
              "#7201a8"
             ],
             [
              0.3333333333333333,
              "#9c179e"
             ],
             [
              0.4444444444444444,
              "#bd3786"
             ],
             [
              0.5555555555555556,
              "#d8576b"
             ],
             [
              0.6666666666666666,
              "#ed7953"
             ],
             [
              0.7777777777777778,
              "#fb9f3a"
             ],
             [
              0.8888888888888888,
              "#fdca26"
             ],
             [
              1,
              "#f0f921"
             ]
            ],
            "type": "histogram2d"
           }
          ],
          "histogram2dcontour": [
           {
            "colorbar": {
             "outlinewidth": 0,
             "ticks": ""
            },
            "colorscale": [
             [
              0,
              "#0d0887"
             ],
             [
              0.1111111111111111,
              "#46039f"
             ],
             [
              0.2222222222222222,
              "#7201a8"
             ],
             [
              0.3333333333333333,
              "#9c179e"
             ],
             [
              0.4444444444444444,
              "#bd3786"
             ],
             [
              0.5555555555555556,
              "#d8576b"
             ],
             [
              0.6666666666666666,
              "#ed7953"
             ],
             [
              0.7777777777777778,
              "#fb9f3a"
             ],
             [
              0.8888888888888888,
              "#fdca26"
             ],
             [
              1,
              "#f0f921"
             ]
            ],
            "type": "histogram2dcontour"
           }
          ],
          "mesh3d": [
           {
            "colorbar": {
             "outlinewidth": 0,
             "ticks": ""
            },
            "type": "mesh3d"
           }
          ],
          "parcoords": [
           {
            "line": {
             "colorbar": {
              "outlinewidth": 0,
              "ticks": ""
             }
            },
            "type": "parcoords"
           }
          ],
          "pie": [
           {
            "automargin": true,
            "type": "pie"
           }
          ],
          "scatter": [
           {
            "fillpattern": {
             "fillmode": "overlay",
             "size": 10,
             "solidity": 0.2
            },
            "type": "scatter"
           }
          ],
          "scatter3d": [
           {
            "line": {
             "colorbar": {
              "outlinewidth": 0,
              "ticks": ""
             }
            },
            "marker": {
             "colorbar": {
              "outlinewidth": 0,
              "ticks": ""
             }
            },
            "type": "scatter3d"
           }
          ],
          "scattercarpet": [
           {
            "marker": {
             "colorbar": {
              "outlinewidth": 0,
              "ticks": ""
             }
            },
            "type": "scattercarpet"
           }
          ],
          "scattergeo": [
           {
            "marker": {
             "colorbar": {
              "outlinewidth": 0,
              "ticks": ""
             }
            },
            "type": "scattergeo"
           }
          ],
          "scattergl": [
           {
            "marker": {
             "colorbar": {
              "outlinewidth": 0,
              "ticks": ""
             }
            },
            "type": "scattergl"
           }
          ],
          "scattermapbox": [
           {
            "marker": {
             "colorbar": {
              "outlinewidth": 0,
              "ticks": ""
             }
            },
            "type": "scattermapbox"
           }
          ],
          "scatterpolar": [
           {
            "marker": {
             "colorbar": {
              "outlinewidth": 0,
              "ticks": ""
             }
            },
            "type": "scatterpolar"
           }
          ],
          "scatterpolargl": [
           {
            "marker": {
             "colorbar": {
              "outlinewidth": 0,
              "ticks": ""
             }
            },
            "type": "scatterpolargl"
           }
          ],
          "scatterternary": [
           {
            "marker": {
             "colorbar": {
              "outlinewidth": 0,
              "ticks": ""
             }
            },
            "type": "scatterternary"
           }
          ],
          "surface": [
           {
            "colorbar": {
             "outlinewidth": 0,
             "ticks": ""
            },
            "colorscale": [
             [
              0,
              "#0d0887"
             ],
             [
              0.1111111111111111,
              "#46039f"
             ],
             [
              0.2222222222222222,
              "#7201a8"
             ],
             [
              0.3333333333333333,
              "#9c179e"
             ],
             [
              0.4444444444444444,
              "#bd3786"
             ],
             [
              0.5555555555555556,
              "#d8576b"
             ],
             [
              0.6666666666666666,
              "#ed7953"
             ],
             [
              0.7777777777777778,
              "#fb9f3a"
             ],
             [
              0.8888888888888888,
              "#fdca26"
             ],
             [
              1,
              "#f0f921"
             ]
            ],
            "type": "surface"
           }
          ],
          "table": [
           {
            "cells": {
             "fill": {
              "color": "#EBF0F8"
             },
             "line": {
              "color": "white"
             }
            },
            "header": {
             "fill": {
              "color": "#C8D4E3"
             },
             "line": {
              "color": "white"
             }
            },
            "type": "table"
           }
          ]
         },
         "layout": {
          "annotationdefaults": {
           "arrowcolor": "#2a3f5f",
           "arrowhead": 0,
           "arrowwidth": 1
          },
          "autotypenumbers": "strict",
          "coloraxis": {
           "colorbar": {
            "outlinewidth": 0,
            "ticks": ""
           }
          },
          "colorscale": {
           "diverging": [
            [
             0,
             "#8e0152"
            ],
            [
             0.1,
             "#c51b7d"
            ],
            [
             0.2,
             "#de77ae"
            ],
            [
             0.3,
             "#f1b6da"
            ],
            [
             0.4,
             "#fde0ef"
            ],
            [
             0.5,
             "#f7f7f7"
            ],
            [
             0.6,
             "#e6f5d0"
            ],
            [
             0.7,
             "#b8e186"
            ],
            [
             0.8,
             "#7fbc41"
            ],
            [
             0.9,
             "#4d9221"
            ],
            [
             1,
             "#276419"
            ]
           ],
           "sequential": [
            [
             0,
             "#0d0887"
            ],
            [
             0.1111111111111111,
             "#46039f"
            ],
            [
             0.2222222222222222,
             "#7201a8"
            ],
            [
             0.3333333333333333,
             "#9c179e"
            ],
            [
             0.4444444444444444,
             "#bd3786"
            ],
            [
             0.5555555555555556,
             "#d8576b"
            ],
            [
             0.6666666666666666,
             "#ed7953"
            ],
            [
             0.7777777777777778,
             "#fb9f3a"
            ],
            [
             0.8888888888888888,
             "#fdca26"
            ],
            [
             1,
             "#f0f921"
            ]
           ],
           "sequentialminus": [
            [
             0,
             "#0d0887"
            ],
            [
             0.1111111111111111,
             "#46039f"
            ],
            [
             0.2222222222222222,
             "#7201a8"
            ],
            [
             0.3333333333333333,
             "#9c179e"
            ],
            [
             0.4444444444444444,
             "#bd3786"
            ],
            [
             0.5555555555555556,
             "#d8576b"
            ],
            [
             0.6666666666666666,
             "#ed7953"
            ],
            [
             0.7777777777777778,
             "#fb9f3a"
            ],
            [
             0.8888888888888888,
             "#fdca26"
            ],
            [
             1,
             "#f0f921"
            ]
           ]
          },
          "colorway": [
           "#636efa",
           "#EF553B",
           "#00cc96",
           "#ab63fa",
           "#FFA15A",
           "#19d3f3",
           "#FF6692",
           "#B6E880",
           "#FF97FF",
           "#FECB52"
          ],
          "font": {
           "color": "#2a3f5f"
          },
          "geo": {
           "bgcolor": "white",
           "lakecolor": "white",
           "landcolor": "#E5ECF6",
           "showlakes": true,
           "showland": true,
           "subunitcolor": "white"
          },
          "hoverlabel": {
           "align": "left"
          },
          "hovermode": "closest",
          "mapbox": {
           "style": "light"
          },
          "paper_bgcolor": "white",
          "plot_bgcolor": "#E5ECF6",
          "polar": {
           "angularaxis": {
            "gridcolor": "white",
            "linecolor": "white",
            "ticks": ""
           },
           "bgcolor": "#E5ECF6",
           "radialaxis": {
            "gridcolor": "white",
            "linecolor": "white",
            "ticks": ""
           }
          },
          "scene": {
           "xaxis": {
            "backgroundcolor": "#E5ECF6",
            "gridcolor": "white",
            "gridwidth": 2,
            "linecolor": "white",
            "showbackground": true,
            "ticks": "",
            "zerolinecolor": "white"
           },
           "yaxis": {
            "backgroundcolor": "#E5ECF6",
            "gridcolor": "white",
            "gridwidth": 2,
            "linecolor": "white",
            "showbackground": true,
            "ticks": "",
            "zerolinecolor": "white"
           },
           "zaxis": {
            "backgroundcolor": "#E5ECF6",
            "gridcolor": "white",
            "gridwidth": 2,
            "linecolor": "white",
            "showbackground": true,
            "ticks": "",
            "zerolinecolor": "white"
           }
          },
          "shapedefaults": {
           "line": {
            "color": "#2a3f5f"
           }
          },
          "ternary": {
           "aaxis": {
            "gridcolor": "white",
            "linecolor": "white",
            "ticks": ""
           },
           "baxis": {
            "gridcolor": "white",
            "linecolor": "white",
            "ticks": ""
           },
           "bgcolor": "#E5ECF6",
           "caxis": {
            "gridcolor": "white",
            "linecolor": "white",
            "ticks": ""
           }
          },
          "title": {
           "x": 0.05
          },
          "xaxis": {
           "automargin": true,
           "gridcolor": "white",
           "linecolor": "white",
           "ticks": "",
           "title": {
            "standoff": 15
           },
           "zerolinecolor": "white",
           "zerolinewidth": 2
          },
          "yaxis": {
           "automargin": true,
           "gridcolor": "white",
           "linecolor": "white",
           "ticks": "",
           "title": {
            "standoff": 15
           },
           "zerolinecolor": "white",
           "zerolinewidth": 2
          }
         }
        },
        "title": {
         "text": "Student Population by Region Over Time"
        },
        "xaxis": {
         "anchor": "y",
         "domain": [
          0,
          1
         ],
         "title": {
          "text": "year"
         }
        },
        "yaxis": {
         "anchor": "x",
         "domain": [
          0,
          1
         ],
         "title": {
          "text": "student_count"
         }
        }
       }
      }
     },
     "metadata": {},
     "output_type": "display_data"
    }
   ],
   "source": [
    "tech_voc_cost_by_region_line_chart2 = px.line(\n",
    "    regional_aggregations,\n",
    "    x='year',\n",
    "    y='student_count',\n",
    "    color='region',\n",
    "    title='Student Population by Region Over Time',\n",
    ")\n",
    "\n",
    "tech_voc_cost_by_region_line_chart2.show()"
   ]
  },
  {
   "cell_type": "markdown",
   "metadata": {},
   "source": [
    "What occured between 2019 and 2020 to cause a spike in student population in the Pacific Northwest? They had a mostly consistent student population from 2010 to 2015. 2015 to 2018 saw a slight uptick in population growth. Between 2018 and 2019, the population fell, but then saw a sharp spike in 2019 to 2020. \n",
    "\n",
    "The west had a steady student population from 2010 to 2014, but then saw a sudden spike in 2015. The population continued to rise at an elevated rate until 2017, but then started seeing a decrease in 2018. This decrease in population occured until 2019, after which point, there was a sudden spike. Despite most of the US population being in the Eastern US, the West was in first place between 2010 and 2012. In 2012, the South took first place and maintained first through 2020. The Northeast took second place in 2018, then took third place after the Midwest surpassed it in 2020. "
   ]
  },
  {
   "cell_type": "code",
   "execution_count": 105,
   "metadata": {},
   "outputs": [
    {
     "data": {
      "text/html": [
       "<div>\n",
       "<style scoped>\n",
       "    .dataframe tbody tr th:only-of-type {\n",
       "        vertical-align: middle;\n",
       "    }\n",
       "\n",
       "    .dataframe tbody tr th {\n",
       "        vertical-align: top;\n",
       "    }\n",
       "\n",
       "    .dataframe thead th {\n",
       "        text-align: right;\n",
       "    }\n",
       "</style>\n",
       "<table border=\"1\" class=\"dataframe\">\n",
       "  <thead>\n",
       "    <tr style=\"text-align: right;\">\n",
       "      <th></th>\n",
       "      <th>region</th>\n",
       "      <th>year</th>\n",
       "      <th>expenditure_title</th>\n",
       "      <th>amount</th>\n",
       "      <th>student_count</th>\n",
       "    </tr>\n",
       "  </thead>\n",
       "  <tbody>\n",
       "    <tr>\n",
       "      <th>0</th>\n",
       "      <td>Midwest</td>\n",
       "      <td>2010</td>\n",
       "      <td>teacher_salaries_vocational_education</td>\n",
       "      <td>894448000.0</td>\n",
       "      <td>6028314</td>\n",
       "    </tr>\n",
       "    <tr>\n",
       "      <th>1</th>\n",
       "      <td>Midwest</td>\n",
       "      <td>2011</td>\n",
       "      <td>teacher_salaries_vocational_education</td>\n",
       "      <td>954296000.0</td>\n",
       "      <td>6868314</td>\n",
       "    </tr>\n",
       "    <tr>\n",
       "      <th>2</th>\n",
       "      <td>Midwest</td>\n",
       "      <td>2012</td>\n",
       "      <td>teacher_salaries_vocational_education</td>\n",
       "      <td>918036000.0</td>\n",
       "      <td>6816199</td>\n",
       "    </tr>\n",
       "    <tr>\n",
       "      <th>3</th>\n",
       "      <td>Midwest</td>\n",
       "      <td>2013</td>\n",
       "      <td>teacher_salaries_vocational_education</td>\n",
       "      <td>906328000.0</td>\n",
       "      <td>6778441</td>\n",
       "    </tr>\n",
       "    <tr>\n",
       "      <th>4</th>\n",
       "      <td>Midwest</td>\n",
       "      <td>2014</td>\n",
       "      <td>teacher_salaries_vocational_education</td>\n",
       "      <td>891829000.0</td>\n",
       "      <td>6764464</td>\n",
       "    </tr>\n",
       "  </tbody>\n",
       "</table>\n",
       "</div>"
      ],
      "text/plain": [
       "    region  year                      expenditure_title       amount  \\\n",
       "0  Midwest  2010  teacher_salaries_vocational_education  894448000.0   \n",
       "1  Midwest  2011  teacher_salaries_vocational_education  954296000.0   \n",
       "2  Midwest  2012  teacher_salaries_vocational_education  918036000.0   \n",
       "3  Midwest  2013  teacher_salaries_vocational_education  906328000.0   \n",
       "4  Midwest  2014  teacher_salaries_vocational_education  891829000.0   \n",
       "\n",
       "   student_count  \n",
       "0        6028314  \n",
       "1        6868314  \n",
       "2        6816199  \n",
       "3        6778441  \n",
       "4        6764464  "
      ]
     },
     "execution_count": 105,
     "metadata": {},
     "output_type": "execute_result"
    }
   ],
   "source": [
    "regional_aggregations_w_exp_title = merged.pivot_table(values= ['student_count', 'amount'], index= ['region', 'year', 'expenditure_title'], aggfunc= 'sum')\n",
    "regional_aggregations_w_exp_title.reset_index(inplace=True)\n",
    "regional_aggregations_w_exp_title.head()"
   ]
  },
  {
   "cell_type": "code",
   "execution_count": 106,
   "metadata": {},
   "outputs": [
    {
     "data": {
      "application/vnd.plotly.v1+json": {
       "config": {
        "plotlyServerURL": "https://plot.ly"
       },
       "data": [
        {
         "hovertemplate": "expenditure_title=teacher_salaries_vocational_education<br>region=Midwest<br>year=%{x}<br>amount=%{y}<extra></extra>",
         "legendgroup": "teacher_salaries_vocational_education",
         "line": {
          "color": "#636efa",
          "dash": "solid"
         },
         "marker": {
          "symbol": "circle"
         },
         "mode": "lines",
         "name": "teacher_salaries_vocational_education",
         "orientation": "v",
         "showlegend": true,
         "type": "scatter",
         "x": [
          2010,
          2011,
          2012,
          2013,
          2014,
          2015,
          2016,
          2017,
          2018,
          2019,
          2020
         ],
         "xaxis": "x5",
         "y": [
          894448000,
          954296000,
          918036000,
          906328000,
          891829000,
          905353000,
          911484000,
          942326000,
          1053667000,
          1106858000,
          1139464000
         ],
         "yaxis": "y5"
        },
        {
         "hovertemplate": "expenditure_title=teacher_salaries_vocational_education<br>region=Northeast<br>year=%{x}<br>amount=%{y}<extra></extra>",
         "legendgroup": "teacher_salaries_vocational_education",
         "line": {
          "color": "#636efa",
          "dash": "solid"
         },
         "marker": {
          "symbol": "circle"
         },
         "mode": "lines",
         "name": "teacher_salaries_vocational_education",
         "orientation": "v",
         "showlegend": false,
         "type": "scatter",
         "x": [
          2010,
          2011,
          2012,
          2013,
          2014,
          2015,
          2016,
          2017,
          2018,
          2019,
          2020
         ],
         "xaxis": "x6",
         "y": [
          1132680000,
          1180558000,
          1163786000,
          1155817000,
          1386978000,
          1350863000,
          1493350000,
          1525749000,
          1513888000,
          1612998000,
          1698503000
         ],
         "yaxis": "y6"
        },
        {
         "hovertemplate": "expenditure_title=teacher_salaries_vocational_education<br>region=Pacific Northwest<br>year=%{x}<br>amount=%{y}<extra></extra>",
         "legendgroup": "teacher_salaries_vocational_education",
         "line": {
          "color": "#636efa",
          "dash": "solid"
         },
         "marker": {
          "symbol": "circle"
         },
         "mode": "lines",
         "name": "teacher_salaries_vocational_education",
         "orientation": "v",
         "showlegend": false,
         "type": "scatter",
         "x": [
          2010,
          2011,
          2012,
          2013,
          2014,
          2015,
          2016,
          2017,
          2018,
          2019,
          2020
         ],
         "xaxis": "x3",
         "y": [
          204713000,
          211374000,
          207527000,
          215010000,
          220446000,
          227891000,
          242647000,
          260030000,
          277272000,
          325021000,
          341594000
         ],
         "yaxis": "y3"
        },
        {
         "hovertemplate": "expenditure_title=teacher_salaries_vocational_education<br>region=South<br>year=%{x}<br>amount=%{y}<extra></extra>",
         "legendgroup": "teacher_salaries_vocational_education",
         "line": {
          "color": "#636efa",
          "dash": "solid"
         },
         "marker": {
          "symbol": "circle"
         },
         "mode": "lines",
         "name": "teacher_salaries_vocational_education",
         "orientation": "v",
         "showlegend": false,
         "type": "scatter",
         "x": [
          2010,
          2011,
          2012,
          2013,
          2014,
          2015,
          2016,
          2017,
          2018,
          2019,
          2020
         ],
         "xaxis": "x4",
         "y": [
          922538000,
          944927000,
          1566778000,
          1580751000,
          1615076000,
          1665871000,
          1715500000,
          1750896000,
          1815234000,
          1874380000,
          2000388000
         ],
         "yaxis": "y4"
        },
        {
         "hovertemplate": "expenditure_title=teacher_salaries_vocational_education<br>region=Southeast<br>year=%{x}<br>amount=%{y}<extra></extra>",
         "legendgroup": "teacher_salaries_vocational_education",
         "line": {
          "color": "#636efa",
          "dash": "solid"
         },
         "marker": {
          "symbol": "circle"
         },
         "mode": "lines",
         "name": "teacher_salaries_vocational_education",
         "orientation": "v",
         "showlegend": false,
         "type": "scatter",
         "x": [
          2010,
          2011,
          2012,
          2013,
          2014,
          2015,
          2016,
          2017,
          2018,
          2019,
          2020
         ],
         "xaxis": "x",
         "y": [
          754042000,
          729944000,
          717086000,
          704022000,
          716380000,
          749210000,
          757427000,
          793767000,
          811435000,
          837520000,
          867754000
         ],
         "yaxis": "y"
        },
        {
         "hovertemplate": "expenditure_title=teacher_salaries_vocational_education<br>region=West<br>year=%{x}<br>amount=%{y}<extra></extra>",
         "legendgroup": "teacher_salaries_vocational_education",
         "line": {
          "color": "#636efa",
          "dash": "solid"
         },
         "marker": {
          "symbol": "circle"
         },
         "mode": "lines",
         "name": "teacher_salaries_vocational_education",
         "orientation": "v",
         "showlegend": false,
         "type": "scatter",
         "x": [
          2010,
          2011,
          2012,
          2013,
          2014,
          2015,
          2016,
          2017,
          2018,
          2019,
          2020
         ],
         "xaxis": "x2",
         "y": [
          357673000,
          337779000,
          326109000,
          396191000,
          432107000,
          452882000,
          561740000,
          664307000,
          664343000,
          659381000,
          731898000
         ],
         "yaxis": "y2"
        },
        {
         "hovertemplate": "expenditure_title=tech_related_equipment<br>region=Midwest<br>year=%{x}<br>amount=%{y}<extra></extra>",
         "legendgroup": "tech_related_equipment",
         "line": {
          "color": "#EF553B",
          "dash": "solid"
         },
         "marker": {
          "symbol": "circle"
         },
         "mode": "lines",
         "name": "tech_related_equipment",
         "orientation": "v",
         "showlegend": true,
         "type": "scatter",
         "x": [
          2015,
          2016,
          2017,
          2018,
          2019,
          2020
         ],
         "xaxis": "x5",
         "y": [
          67827000,
          358349000,
          356854000,
          425153000,
          505380000,
          317632000
         ],
         "yaxis": "y5"
        },
        {
         "hovertemplate": "expenditure_title=tech_related_equipment<br>region=Northeast<br>year=%{x}<br>amount=%{y}<extra></extra>",
         "legendgroup": "tech_related_equipment",
         "line": {
          "color": "#EF553B",
          "dash": "solid"
         },
         "marker": {
          "symbol": "circle"
         },
         "mode": "lines",
         "name": "tech_related_equipment",
         "orientation": "v",
         "showlegend": false,
         "type": "scatter",
         "x": [
          2015,
          2016,
          2017,
          2018,
          2019,
          2020
         ],
         "xaxis": "x6",
         "y": [
          27904000,
          34854000,
          165804000,
          201073000,
          199713000,
          229357000
         ],
         "yaxis": "y6"
        },
        {
         "hovertemplate": "expenditure_title=tech_related_equipment<br>region=Pacific Northwest<br>year=%{x}<br>amount=%{y}<extra></extra>",
         "legendgroup": "tech_related_equipment",
         "line": {
          "color": "#EF553B",
          "dash": "solid"
         },
         "marker": {
          "symbol": "circle"
         },
         "mode": "lines",
         "name": "tech_related_equipment",
         "orientation": "v",
         "showlegend": false,
         "type": "scatter",
         "x": [
          2016,
          2017,
          2018,
          2019,
          2020
         ],
         "xaxis": "x3",
         "y": [
          12863000,
          13334000,
          16357000,
          11185000,
          29582000
         ],
         "yaxis": "y3"
        },
        {
         "hovertemplate": "expenditure_title=tech_related_equipment<br>region=South<br>year=%{x}<br>amount=%{y}<extra></extra>",
         "legendgroup": "tech_related_equipment",
         "line": {
          "color": "#EF553B",
          "dash": "solid"
         },
         "marker": {
          "symbol": "circle"
         },
         "mode": "lines",
         "name": "tech_related_equipment",
         "orientation": "v",
         "showlegend": false,
         "type": "scatter",
         "x": [
          2015,
          2016,
          2017,
          2018,
          2019,
          2020
         ],
         "xaxis": "x4",
         "y": [
          152735000,
          258708000,
          258643000,
          274391000,
          275914000,
          292718000
         ],
         "yaxis": "y4"
        },
        {
         "hovertemplate": "expenditure_title=tech_related_equipment<br>region=Southeast<br>year=%{x}<br>amount=%{y}<extra></extra>",
         "legendgroup": "tech_related_equipment",
         "line": {
          "color": "#EF553B",
          "dash": "solid"
         },
         "marker": {
          "symbol": "circle"
         },
         "mode": "lines",
         "name": "tech_related_equipment",
         "orientation": "v",
         "showlegend": false,
         "type": "scatter",
         "x": [
          2015,
          2016,
          2017,
          2018,
          2019,
          2020
         ],
         "xaxis": "x",
         "y": [
          88999000,
          127537000,
          122231000,
          293420000,
          327883000,
          278531000
         ],
         "yaxis": "y"
        },
        {
         "hovertemplate": "expenditure_title=tech_related_equipment<br>region=West<br>year=%{x}<br>amount=%{y}<extra></extra>",
         "legendgroup": "tech_related_equipment",
         "line": {
          "color": "#EF553B",
          "dash": "solid"
         },
         "marker": {
          "symbol": "circle"
         },
         "mode": "lines",
         "name": "tech_related_equipment",
         "orientation": "v",
         "showlegend": false,
         "type": "scatter",
         "x": [
          2015,
          2016,
          2017,
          2018,
          2019,
          2020
         ],
         "xaxis": "x2",
         "y": [
          64338000,
          61382000,
          147384000,
          151455000,
          133154000,
          137639000
         ],
         "yaxis": "y2"
        },
        {
         "hovertemplate": "expenditure_title=tech_related_supplies_services<br>region=Midwest<br>year=%{x}<br>amount=%{y}<extra></extra>",
         "legendgroup": "tech_related_supplies_services",
         "line": {
          "color": "#00cc96",
          "dash": "solid"
         },
         "marker": {
          "symbol": "circle"
         },
         "mode": "lines",
         "name": "tech_related_supplies_services",
         "orientation": "v",
         "showlegend": true,
         "type": "scatter",
         "x": [
          2015,
          2016,
          2017,
          2018,
          2019,
          2020
         ],
         "xaxis": "x5",
         "y": [
          53959000,
          662604000,
          828885000,
          1048070000,
          1280166000,
          1350443000
         ],
         "yaxis": "y5"
        },
        {
         "hovertemplate": "expenditure_title=tech_related_supplies_services<br>region=Northeast<br>year=%{x}<br>amount=%{y}<extra></extra>",
         "legendgroup": "tech_related_supplies_services",
         "line": {
          "color": "#00cc96",
          "dash": "solid"
         },
         "marker": {
          "symbol": "circle"
         },
         "mode": "lines",
         "name": "tech_related_supplies_services",
         "orientation": "v",
         "showlegend": false,
         "type": "scatter",
         "x": [
          2015,
          2016,
          2017,
          2018,
          2019,
          2020
         ],
         "xaxis": "x6",
         "y": [
          14168000,
          237032000,
          319796000,
          408845000,
          447679000,
          606597000
         ],
         "yaxis": "y6"
        },
        {
         "hovertemplate": "expenditure_title=tech_related_supplies_services<br>region=Pacific Northwest<br>year=%{x}<br>amount=%{y}<extra></extra>",
         "legendgroup": "tech_related_supplies_services",
         "line": {
          "color": "#00cc96",
          "dash": "solid"
         },
         "marker": {
          "symbol": "circle"
         },
         "mode": "lines",
         "name": "tech_related_supplies_services",
         "orientation": "v",
         "showlegend": false,
         "type": "scatter",
         "x": [
          2018,
          2020
         ],
         "xaxis": "x3",
         "y": [
          43741000,
          157116000
         ],
         "yaxis": "y3"
        },
        {
         "hovertemplate": "expenditure_title=tech_related_supplies_services<br>region=South<br>year=%{x}<br>amount=%{y}<extra></extra>",
         "legendgroup": "tech_related_supplies_services",
         "line": {
          "color": "#00cc96",
          "dash": "solid"
         },
         "marker": {
          "symbol": "circle"
         },
         "mode": "lines",
         "name": "tech_related_supplies_services",
         "orientation": "v",
         "showlegend": false,
         "type": "scatter",
         "x": [
          2015,
          2016,
          2017,
          2018,
          2019,
          2020
         ],
         "xaxis": "x4",
         "y": [
          342349000,
          1191281000,
          1237213000,
          1270037000,
          1530169000,
          1721118000
         ],
         "yaxis": "y4"
        },
        {
         "hovertemplate": "expenditure_title=tech_related_supplies_services<br>region=Southeast<br>year=%{x}<br>amount=%{y}<extra></extra>",
         "legendgroup": "tech_related_supplies_services",
         "line": {
          "color": "#00cc96",
          "dash": "solid"
         },
         "marker": {
          "symbol": "circle"
         },
         "mode": "lines",
         "name": "tech_related_supplies_services",
         "orientation": "v",
         "showlegend": false,
         "type": "scatter",
         "x": [
          2015,
          2016,
          2017,
          2018,
          2019,
          2020
         ],
         "xaxis": "x",
         "y": [
          234362000,
          591453000,
          642471000,
          1187810000,
          1247135000,
          1521250000
         ],
         "yaxis": "y"
        },
        {
         "hovertemplate": "expenditure_title=tech_related_supplies_services<br>region=West<br>year=%{x}<br>amount=%{y}<extra></extra>",
         "legendgroup": "tech_related_supplies_services",
         "line": {
          "color": "#00cc96",
          "dash": "solid"
         },
         "marker": {
          "symbol": "circle"
         },
         "mode": "lines",
         "name": "tech_related_supplies_services",
         "orientation": "v",
         "showlegend": false,
         "type": "scatter",
         "x": [
          2015,
          2016,
          2017,
          2018,
          2019,
          2020
         ],
         "xaxis": "x2",
         "y": [
          238229000,
          379330000,
          467514000,
          534742000,
          582842000,
          704238000
         ],
         "yaxis": "y2"
        },
        {
         "hovertemplate": "expenditure_title=cares_act_expenditure_tech_related_equipment<br>region=Midwest<br>year=%{x}<br>amount=%{y}<extra></extra>",
         "legendgroup": "cares_act_expenditure_tech_related_equipment",
         "line": {
          "color": "#ab63fa",
          "dash": "solid"
         },
         "marker": {
          "symbol": "circle"
         },
         "mode": "lines",
         "name": "cares_act_expenditure_tech_related_equipment",
         "orientation": "v",
         "showlegend": true,
         "type": "scatter",
         "x": [
          2020
         ],
         "xaxis": "x5",
         "y": [
          8464000
         ],
         "yaxis": "y5"
        },
        {
         "hovertemplate": "expenditure_title=cares_act_expenditure_tech_related_equipment<br>region=Northeast<br>year=%{x}<br>amount=%{y}<extra></extra>",
         "legendgroup": "cares_act_expenditure_tech_related_equipment",
         "line": {
          "color": "#ab63fa",
          "dash": "solid"
         },
         "marker": {
          "symbol": "circle"
         },
         "mode": "lines",
         "name": "cares_act_expenditure_tech_related_equipment",
         "orientation": "v",
         "showlegend": false,
         "type": "scatter",
         "x": [
          2020
         ],
         "xaxis": "x6",
         "y": [
          5341000
         ],
         "yaxis": "y6"
        },
        {
         "hovertemplate": "expenditure_title=cares_act_expenditure_tech_related_equipment<br>region=Pacific Northwest<br>year=%{x}<br>amount=%{y}<extra></extra>",
         "legendgroup": "cares_act_expenditure_tech_related_equipment",
         "line": {
          "color": "#ab63fa",
          "dash": "solid"
         },
         "marker": {
          "symbol": "circle"
         },
         "mode": "lines",
         "name": "cares_act_expenditure_tech_related_equipment",
         "orientation": "v",
         "showlegend": false,
         "type": "scatter",
         "x": [
          2020
         ],
         "xaxis": "x3",
         "y": [
          1070000
         ],
         "yaxis": "y3"
        },
        {
         "hovertemplate": "expenditure_title=cares_act_expenditure_tech_related_equipment<br>region=South<br>year=%{x}<br>amount=%{y}<extra></extra>",
         "legendgroup": "cares_act_expenditure_tech_related_equipment",
         "line": {
          "color": "#ab63fa",
          "dash": "solid"
         },
         "marker": {
          "symbol": "circle"
         },
         "mode": "lines",
         "name": "cares_act_expenditure_tech_related_equipment",
         "orientation": "v",
         "showlegend": false,
         "type": "scatter",
         "x": [
          2020
         ],
         "xaxis": "x4",
         "y": [
          5506000
         ],
         "yaxis": "y4"
        },
        {
         "hovertemplate": "expenditure_title=cares_act_expenditure_tech_related_equipment<br>region=West<br>year=%{x}<br>amount=%{y}<extra></extra>",
         "legendgroup": "cares_act_expenditure_tech_related_equipment",
         "line": {
          "color": "#ab63fa",
          "dash": "solid"
         },
         "marker": {
          "symbol": "circle"
         },
         "mode": "lines",
         "name": "cares_act_expenditure_tech_related_equipment",
         "orientation": "v",
         "showlegend": false,
         "type": "scatter",
         "x": [
          2020
         ],
         "xaxis": "x2",
         "y": [
          3953000
         ],
         "yaxis": "y2"
        },
        {
         "hovertemplate": "expenditure_title=cares_act_expenditure_tech_related_supplies_services<br>region=Midwest<br>year=%{x}<br>amount=%{y}<extra></extra>",
         "legendgroup": "cares_act_expenditure_tech_related_supplies_services",
         "line": {
          "color": "#FFA15A",
          "dash": "solid"
         },
         "marker": {
          "symbol": "circle"
         },
         "mode": "lines",
         "name": "cares_act_expenditure_tech_related_supplies_services",
         "orientation": "v",
         "showlegend": true,
         "type": "scatter",
         "x": [
          2020
         ],
         "xaxis": "x5",
         "y": [
          11675000
         ],
         "yaxis": "y5"
        },
        {
         "hovertemplate": "expenditure_title=cares_act_expenditure_tech_related_supplies_services<br>region=Northeast<br>year=%{x}<br>amount=%{y}<extra></extra>",
         "legendgroup": "cares_act_expenditure_tech_related_supplies_services",
         "line": {
          "color": "#FFA15A",
          "dash": "solid"
         },
         "marker": {
          "symbol": "circle"
         },
         "mode": "lines",
         "name": "cares_act_expenditure_tech_related_supplies_services",
         "orientation": "v",
         "showlegend": false,
         "type": "scatter",
         "x": [
          2020
         ],
         "xaxis": "x6",
         "y": [
          15207000
         ],
         "yaxis": "y6"
        },
        {
         "hovertemplate": "expenditure_title=cares_act_expenditure_tech_related_supplies_services<br>region=Pacific Northwest<br>year=%{x}<br>amount=%{y}<extra></extra>",
         "legendgroup": "cares_act_expenditure_tech_related_supplies_services",
         "line": {
          "color": "#FFA15A",
          "dash": "solid"
         },
         "marker": {
          "symbol": "circle"
         },
         "mode": "lines",
         "name": "cares_act_expenditure_tech_related_supplies_services",
         "orientation": "v",
         "showlegend": false,
         "type": "scatter",
         "x": [
          2020
         ],
         "xaxis": "x3",
         "y": [
          4343000
         ],
         "yaxis": "y3"
        },
        {
         "hovertemplate": "expenditure_title=cares_act_expenditure_tech_related_supplies_services<br>region=South<br>year=%{x}<br>amount=%{y}<extra></extra>",
         "legendgroup": "cares_act_expenditure_tech_related_supplies_services",
         "line": {
          "color": "#FFA15A",
          "dash": "solid"
         },
         "marker": {
          "symbol": "circle"
         },
         "mode": "lines",
         "name": "cares_act_expenditure_tech_related_supplies_services",
         "orientation": "v",
         "showlegend": false,
         "type": "scatter",
         "x": [
          2020
         ],
         "xaxis": "x4",
         "y": [
          81330000
         ],
         "yaxis": "y4"
        },
        {
         "hovertemplate": "expenditure_title=cares_act_expenditure_tech_related_supplies_services<br>region=Southeast<br>year=%{x}<br>amount=%{y}<extra></extra>",
         "legendgroup": "cares_act_expenditure_tech_related_supplies_services",
         "line": {
          "color": "#FFA15A",
          "dash": "solid"
         },
         "marker": {
          "symbol": "circle"
         },
         "mode": "lines",
         "name": "cares_act_expenditure_tech_related_supplies_services",
         "orientation": "v",
         "showlegend": false,
         "type": "scatter",
         "x": [
          2020
         ],
         "xaxis": "x",
         "y": [
          6967000
         ],
         "yaxis": "y"
        },
        {
         "hovertemplate": "expenditure_title=cares_act_expenditure_tech_related_supplies_services<br>region=West<br>year=%{x}<br>amount=%{y}<extra></extra>",
         "legendgroup": "cares_act_expenditure_tech_related_supplies_services",
         "line": {
          "color": "#FFA15A",
          "dash": "solid"
         },
         "marker": {
          "symbol": "circle"
         },
         "mode": "lines",
         "name": "cares_act_expenditure_tech_related_supplies_services",
         "orientation": "v",
         "showlegend": false,
         "type": "scatter",
         "x": [
          2020
         ],
         "xaxis": "x2",
         "y": [
          10755000
         ],
         "yaxis": "y2"
        }
       ],
       "layout": {
        "annotations": [
         {
          "font": {
           "size": 10
          },
          "showarrow": false,
          "text": "region=Southeast",
          "x": 0.245,
          "xanchor": "center",
          "xref": "paper",
          "y": 0.2866666666666666,
          "yanchor": "bottom",
          "yref": "paper"
         },
         {
          "font": {
           "size": 10
          },
          "showarrow": false,
          "text": "region=West",
          "x": 0.755,
          "xanchor": "center",
          "xref": "paper",
          "y": 0.2866666666666666,
          "yanchor": "bottom",
          "yref": "paper"
         },
         {
          "font": {
           "size": 10
          },
          "showarrow": false,
          "text": "region=Pacific Northwest",
          "x": 0.245,
          "xanchor": "center",
          "xref": "paper",
          "y": 0.6433333333333333,
          "yanchor": "bottom",
          "yref": "paper"
         },
         {
          "font": {
           "size": 10
          },
          "showarrow": false,
          "text": "region=South",
          "x": 0.755,
          "xanchor": "center",
          "xref": "paper",
          "y": 0.6433333333333333,
          "yanchor": "bottom",
          "yref": "paper"
         },
         {
          "font": {
           "size": 10
          },
          "showarrow": false,
          "text": "region=Midwest",
          "x": 0.245,
          "xanchor": "center",
          "xref": "paper",
          "y": 0.9999999999999999,
          "yanchor": "bottom",
          "yref": "paper"
         },
         {
          "font": {
           "size": 10
          },
          "showarrow": false,
          "text": "region=Northeast",
          "x": 0.755,
          "xanchor": "center",
          "xref": "paper",
          "y": 0.9999999999999999,
          "yanchor": "bottom",
          "yref": "paper"
         }
        ],
        "height": 800,
        "hoverlabel": {
         "bgcolor": "white",
         "font": {
          "family": "Calibri",
          "size": 16
         }
        },
        "legend": {
         "orientation": "h",
         "title": {
          "text": "expenditure_title"
         },
         "tracegroupgap": 0,
         "x": 0.5,
         "xanchor": "center",
         "y": -0.5,
         "yanchor": "bottom"
        },
        "margin": {
         "b": 200,
         "l": 40,
         "r": 40,
         "t": 80
        },
        "template": {
         "data": {
          "bar": [
           {
            "error_x": {
             "color": "#2a3f5f"
            },
            "error_y": {
             "color": "#2a3f5f"
            },
            "marker": {
             "line": {
              "color": "#E5ECF6",
              "width": 0.5
             },
             "pattern": {
              "fillmode": "overlay",
              "size": 10,
              "solidity": 0.2
             }
            },
            "type": "bar"
           }
          ],
          "barpolar": [
           {
            "marker": {
             "line": {
              "color": "#E5ECF6",
              "width": 0.5
             },
             "pattern": {
              "fillmode": "overlay",
              "size": 10,
              "solidity": 0.2
             }
            },
            "type": "barpolar"
           }
          ],
          "carpet": [
           {
            "aaxis": {
             "endlinecolor": "#2a3f5f",
             "gridcolor": "white",
             "linecolor": "white",
             "minorgridcolor": "white",
             "startlinecolor": "#2a3f5f"
            },
            "baxis": {
             "endlinecolor": "#2a3f5f",
             "gridcolor": "white",
             "linecolor": "white",
             "minorgridcolor": "white",
             "startlinecolor": "#2a3f5f"
            },
            "type": "carpet"
           }
          ],
          "choropleth": [
           {
            "colorbar": {
             "outlinewidth": 0,
             "ticks": ""
            },
            "type": "choropleth"
           }
          ],
          "contour": [
           {
            "colorbar": {
             "outlinewidth": 0,
             "ticks": ""
            },
            "colorscale": [
             [
              0,
              "#0d0887"
             ],
             [
              0.1111111111111111,
              "#46039f"
             ],
             [
              0.2222222222222222,
              "#7201a8"
             ],
             [
              0.3333333333333333,
              "#9c179e"
             ],
             [
              0.4444444444444444,
              "#bd3786"
             ],
             [
              0.5555555555555556,
              "#d8576b"
             ],
             [
              0.6666666666666666,
              "#ed7953"
             ],
             [
              0.7777777777777778,
              "#fb9f3a"
             ],
             [
              0.8888888888888888,
              "#fdca26"
             ],
             [
              1,
              "#f0f921"
             ]
            ],
            "type": "contour"
           }
          ],
          "contourcarpet": [
           {
            "colorbar": {
             "outlinewidth": 0,
             "ticks": ""
            },
            "type": "contourcarpet"
           }
          ],
          "heatmap": [
           {
            "colorbar": {
             "outlinewidth": 0,
             "ticks": ""
            },
            "colorscale": [
             [
              0,
              "#0d0887"
             ],
             [
              0.1111111111111111,
              "#46039f"
             ],
             [
              0.2222222222222222,
              "#7201a8"
             ],
             [
              0.3333333333333333,
              "#9c179e"
             ],
             [
              0.4444444444444444,
              "#bd3786"
             ],
             [
              0.5555555555555556,
              "#d8576b"
             ],
             [
              0.6666666666666666,
              "#ed7953"
             ],
             [
              0.7777777777777778,
              "#fb9f3a"
             ],
             [
              0.8888888888888888,
              "#fdca26"
             ],
             [
              1,
              "#f0f921"
             ]
            ],
            "type": "heatmap"
           }
          ],
          "heatmapgl": [
           {
            "colorbar": {
             "outlinewidth": 0,
             "ticks": ""
            },
            "colorscale": [
             [
              0,
              "#0d0887"
             ],
             [
              0.1111111111111111,
              "#46039f"
             ],
             [
              0.2222222222222222,
              "#7201a8"
             ],
             [
              0.3333333333333333,
              "#9c179e"
             ],
             [
              0.4444444444444444,
              "#bd3786"
             ],
             [
              0.5555555555555556,
              "#d8576b"
             ],
             [
              0.6666666666666666,
              "#ed7953"
             ],
             [
              0.7777777777777778,
              "#fb9f3a"
             ],
             [
              0.8888888888888888,
              "#fdca26"
             ],
             [
              1,
              "#f0f921"
             ]
            ],
            "type": "heatmapgl"
           }
          ],
          "histogram": [
           {
            "marker": {
             "pattern": {
              "fillmode": "overlay",
              "size": 10,
              "solidity": 0.2
             }
            },
            "type": "histogram"
           }
          ],
          "histogram2d": [
           {
            "colorbar": {
             "outlinewidth": 0,
             "ticks": ""
            },
            "colorscale": [
             [
              0,
              "#0d0887"
             ],
             [
              0.1111111111111111,
              "#46039f"
             ],
             [
              0.2222222222222222,
              "#7201a8"
             ],
             [
              0.3333333333333333,
              "#9c179e"
             ],
             [
              0.4444444444444444,
              "#bd3786"
             ],
             [
              0.5555555555555556,
              "#d8576b"
             ],
             [
              0.6666666666666666,
              "#ed7953"
             ],
             [
              0.7777777777777778,
              "#fb9f3a"
             ],
             [
              0.8888888888888888,
              "#fdca26"
             ],
             [
              1,
              "#f0f921"
             ]
            ],
            "type": "histogram2d"
           }
          ],
          "histogram2dcontour": [
           {
            "colorbar": {
             "outlinewidth": 0,
             "ticks": ""
            },
            "colorscale": [
             [
              0,
              "#0d0887"
             ],
             [
              0.1111111111111111,
              "#46039f"
             ],
             [
              0.2222222222222222,
              "#7201a8"
             ],
             [
              0.3333333333333333,
              "#9c179e"
             ],
             [
              0.4444444444444444,
              "#bd3786"
             ],
             [
              0.5555555555555556,
              "#d8576b"
             ],
             [
              0.6666666666666666,
              "#ed7953"
             ],
             [
              0.7777777777777778,
              "#fb9f3a"
             ],
             [
              0.8888888888888888,
              "#fdca26"
             ],
             [
              1,
              "#f0f921"
             ]
            ],
            "type": "histogram2dcontour"
           }
          ],
          "mesh3d": [
           {
            "colorbar": {
             "outlinewidth": 0,
             "ticks": ""
            },
            "type": "mesh3d"
           }
          ],
          "parcoords": [
           {
            "line": {
             "colorbar": {
              "outlinewidth": 0,
              "ticks": ""
             }
            },
            "type": "parcoords"
           }
          ],
          "pie": [
           {
            "automargin": true,
            "type": "pie"
           }
          ],
          "scatter": [
           {
            "fillpattern": {
             "fillmode": "overlay",
             "size": 10,
             "solidity": 0.2
            },
            "type": "scatter"
           }
          ],
          "scatter3d": [
           {
            "line": {
             "colorbar": {
              "outlinewidth": 0,
              "ticks": ""
             }
            },
            "marker": {
             "colorbar": {
              "outlinewidth": 0,
              "ticks": ""
             }
            },
            "type": "scatter3d"
           }
          ],
          "scattercarpet": [
           {
            "marker": {
             "colorbar": {
              "outlinewidth": 0,
              "ticks": ""
             }
            },
            "type": "scattercarpet"
           }
          ],
          "scattergeo": [
           {
            "marker": {
             "colorbar": {
              "outlinewidth": 0,
              "ticks": ""
             }
            },
            "type": "scattergeo"
           }
          ],
          "scattergl": [
           {
            "marker": {
             "colorbar": {
              "outlinewidth": 0,
              "ticks": ""
             }
            },
            "type": "scattergl"
           }
          ],
          "scattermapbox": [
           {
            "marker": {
             "colorbar": {
              "outlinewidth": 0,
              "ticks": ""
             }
            },
            "type": "scattermapbox"
           }
          ],
          "scatterpolar": [
           {
            "marker": {
             "colorbar": {
              "outlinewidth": 0,
              "ticks": ""
             }
            },
            "type": "scatterpolar"
           }
          ],
          "scatterpolargl": [
           {
            "marker": {
             "colorbar": {
              "outlinewidth": 0,
              "ticks": ""
             }
            },
            "type": "scatterpolargl"
           }
          ],
          "scatterternary": [
           {
            "marker": {
             "colorbar": {
              "outlinewidth": 0,
              "ticks": ""
             }
            },
            "type": "scatterternary"
           }
          ],
          "surface": [
           {
            "colorbar": {
             "outlinewidth": 0,
             "ticks": ""
            },
            "colorscale": [
             [
              0,
              "#0d0887"
             ],
             [
              0.1111111111111111,
              "#46039f"
             ],
             [
              0.2222222222222222,
              "#7201a8"
             ],
             [
              0.3333333333333333,
              "#9c179e"
             ],
             [
              0.4444444444444444,
              "#bd3786"
             ],
             [
              0.5555555555555556,
              "#d8576b"
             ],
             [
              0.6666666666666666,
              "#ed7953"
             ],
             [
              0.7777777777777778,
              "#fb9f3a"
             ],
             [
              0.8888888888888888,
              "#fdca26"
             ],
             [
              1,
              "#f0f921"
             ]
            ],
            "type": "surface"
           }
          ],
          "table": [
           {
            "cells": {
             "fill": {
              "color": "#EBF0F8"
             },
             "line": {
              "color": "white"
             }
            },
            "header": {
             "fill": {
              "color": "#C8D4E3"
             },
             "line": {
              "color": "white"
             }
            },
            "type": "table"
           }
          ]
         },
         "layout": {
          "annotationdefaults": {
           "arrowcolor": "#2a3f5f",
           "arrowhead": 0,
           "arrowwidth": 1
          },
          "autotypenumbers": "strict",
          "coloraxis": {
           "colorbar": {
            "outlinewidth": 0,
            "ticks": ""
           }
          },
          "colorscale": {
           "diverging": [
            [
             0,
             "#8e0152"
            ],
            [
             0.1,
             "#c51b7d"
            ],
            [
             0.2,
             "#de77ae"
            ],
            [
             0.3,
             "#f1b6da"
            ],
            [
             0.4,
             "#fde0ef"
            ],
            [
             0.5,
             "#f7f7f7"
            ],
            [
             0.6,
             "#e6f5d0"
            ],
            [
             0.7,
             "#b8e186"
            ],
            [
             0.8,
             "#7fbc41"
            ],
            [
             0.9,
             "#4d9221"
            ],
            [
             1,
             "#276419"
            ]
           ],
           "sequential": [
            [
             0,
             "#0d0887"
            ],
            [
             0.1111111111111111,
             "#46039f"
            ],
            [
             0.2222222222222222,
             "#7201a8"
            ],
            [
             0.3333333333333333,
             "#9c179e"
            ],
            [
             0.4444444444444444,
             "#bd3786"
            ],
            [
             0.5555555555555556,
             "#d8576b"
            ],
            [
             0.6666666666666666,
             "#ed7953"
            ],
            [
             0.7777777777777778,
             "#fb9f3a"
            ],
            [
             0.8888888888888888,
             "#fdca26"
            ],
            [
             1,
             "#f0f921"
            ]
           ],
           "sequentialminus": [
            [
             0,
             "#0d0887"
            ],
            [
             0.1111111111111111,
             "#46039f"
            ],
            [
             0.2222222222222222,
             "#7201a8"
            ],
            [
             0.3333333333333333,
             "#9c179e"
            ],
            [
             0.4444444444444444,
             "#bd3786"
            ],
            [
             0.5555555555555556,
             "#d8576b"
            ],
            [
             0.6666666666666666,
             "#ed7953"
            ],
            [
             0.7777777777777778,
             "#fb9f3a"
            ],
            [
             0.8888888888888888,
             "#fdca26"
            ],
            [
             1,
             "#f0f921"
            ]
           ]
          },
          "colorway": [
           "#636efa",
           "#EF553B",
           "#00cc96",
           "#ab63fa",
           "#FFA15A",
           "#19d3f3",
           "#FF6692",
           "#B6E880",
           "#FF97FF",
           "#FECB52"
          ],
          "font": {
           "color": "#2a3f5f"
          },
          "geo": {
           "bgcolor": "white",
           "lakecolor": "white",
           "landcolor": "#E5ECF6",
           "showlakes": true,
           "showland": true,
           "subunitcolor": "white"
          },
          "hoverlabel": {
           "align": "left"
          },
          "hovermode": "closest",
          "mapbox": {
           "style": "light"
          },
          "paper_bgcolor": "white",
          "plot_bgcolor": "#E5ECF6",
          "polar": {
           "angularaxis": {
            "gridcolor": "white",
            "linecolor": "white",
            "ticks": ""
           },
           "bgcolor": "#E5ECF6",
           "radialaxis": {
            "gridcolor": "white",
            "linecolor": "white",
            "ticks": ""
           }
          },
          "scene": {
           "xaxis": {
            "backgroundcolor": "#E5ECF6",
            "gridcolor": "white",
            "gridwidth": 2,
            "linecolor": "white",
            "showbackground": true,
            "ticks": "",
            "zerolinecolor": "white"
           },
           "yaxis": {
            "backgroundcolor": "#E5ECF6",
            "gridcolor": "white",
            "gridwidth": 2,
            "linecolor": "white",
            "showbackground": true,
            "ticks": "",
            "zerolinecolor": "white"
           },
           "zaxis": {
            "backgroundcolor": "#E5ECF6",
            "gridcolor": "white",
            "gridwidth": 2,
            "linecolor": "white",
            "showbackground": true,
            "ticks": "",
            "zerolinecolor": "white"
           }
          },
          "shapedefaults": {
           "line": {
            "color": "#2a3f5f"
           }
          },
          "ternary": {
           "aaxis": {
            "gridcolor": "white",
            "linecolor": "white",
            "ticks": ""
           },
           "baxis": {
            "gridcolor": "white",
            "linecolor": "white",
            "ticks": ""
           },
           "bgcolor": "#E5ECF6",
           "caxis": {
            "gridcolor": "white",
            "linecolor": "white",
            "ticks": ""
           }
          },
          "title": {
           "x": 0.05
          },
          "xaxis": {
           "automargin": true,
           "gridcolor": "white",
           "linecolor": "white",
           "ticks": "",
           "title": {
            "standoff": 15
           },
           "zerolinecolor": "white",
           "zerolinewidth": 2
          },
          "yaxis": {
           "automargin": true,
           "gridcolor": "white",
           "linecolor": "white",
           "ticks": "",
           "title": {
            "standoff": 15
           },
           "zerolinecolor": "white",
           "zerolinewidth": 2
          }
         }
        },
        "title": {
         "text": "Expenditures by Region and Expenditure Title Over Time",
         "x": 0.5,
         "xanchor": "center",
         "y": 0.98,
         "yanchor": "top"
        },
        "width": 1050,
        "xaxis": {
         "anchor": "y",
         "domain": [
          0,
          0.49
         ],
         "tickangle": 45,
         "tickfont": {
          "size": 10
         },
         "title": {
          "text": "year"
         }
        },
        "xaxis2": {
         "anchor": "y2",
         "domain": [
          0.51,
          1
         ],
         "matches": "x",
         "tickangle": 45,
         "tickfont": {
          "size": 10
         },
         "title": {
          "text": "year"
         }
        },
        "xaxis3": {
         "anchor": "y3",
         "domain": [
          0,
          0.49
         ],
         "matches": "x",
         "showticklabels": false,
         "tickangle": 45,
         "tickfont": {
          "size": 10
         }
        },
        "xaxis4": {
         "anchor": "y4",
         "domain": [
          0.51,
          1
         ],
         "matches": "x",
         "showticklabels": false,
         "tickangle": 45,
         "tickfont": {
          "size": 10
         }
        },
        "xaxis5": {
         "anchor": "y5",
         "domain": [
          0,
          0.49
         ],
         "matches": "x",
         "showticklabels": false,
         "tickangle": 45,
         "tickfont": {
          "size": 10
         }
        },
        "xaxis6": {
         "anchor": "y6",
         "domain": [
          0.51,
          1
         ],
         "matches": "x",
         "showticklabels": false,
         "tickangle": 45,
         "tickfont": {
          "size": 10
         }
        },
        "yaxis": {
         "anchor": "x",
         "domain": [
          0,
          0.2866666666666666
         ],
         "title": {
          "text": "amount"
         }
        },
        "yaxis2": {
         "anchor": "x2",
         "domain": [
          0,
          0.2866666666666666
         ],
         "matches": "y",
         "showticklabels": false
        },
        "yaxis3": {
         "anchor": "x3",
         "domain": [
          0.35666666666666663,
          0.6433333333333333
         ],
         "matches": "y",
         "title": {
          "text": "amount"
         }
        },
        "yaxis4": {
         "anchor": "x4",
         "domain": [
          0.35666666666666663,
          0.6433333333333333
         ],
         "matches": "y",
         "showticklabels": false
        },
        "yaxis5": {
         "anchor": "x5",
         "domain": [
          0.7133333333333333,
          0.9999999999999999
         ],
         "matches": "y",
         "title": {
          "text": "amount"
         }
        },
        "yaxis6": {
         "anchor": "x6",
         "domain": [
          0.7133333333333333,
          0.9999999999999999
         ],
         "matches": "y",
         "showticklabels": false
        }
       }
      }
     },
     "metadata": {},
     "output_type": "display_data"
    }
   ],
   "source": [
    "regional_expenditures_line_grid = make_line_plot_grid(regional_aggregations_w_exp_title,\n",
    "                                                      'year',\n",
    "                                                      'amount',\n",
    "                                                      'expenditure_title',\n",
    "                                                      'region',\n",
    "                                                      2,\n",
    "                                                      'Expenditures by Region and Expenditure Title Over Time')\n",
    "\n",
    "regional_expenditures_line_grid.show()"
   ]
  },
  {
   "cell_type": "code",
   "execution_count": 107,
   "metadata": {},
   "outputs": [
    {
     "data": {
      "text/html": [
       "<div>\n",
       "<style scoped>\n",
       "    .dataframe tbody tr th:only-of-type {\n",
       "        vertical-align: middle;\n",
       "    }\n",
       "\n",
       "    .dataframe tbody tr th {\n",
       "        vertical-align: top;\n",
       "    }\n",
       "\n",
       "    .dataframe thead th {\n",
       "        text-align: right;\n",
       "    }\n",
       "</style>\n",
       "<table border=\"1\" class=\"dataframe\">\n",
       "  <thead>\n",
       "    <tr style=\"text-align: right;\">\n",
       "      <th></th>\n",
       "      <th>region</th>\n",
       "      <th>year</th>\n",
       "      <th>expenditure_title</th>\n",
       "      <th>amount</th>\n",
       "      <th>student_count</th>\n",
       "      <th>cost_per_student</th>\n",
       "    </tr>\n",
       "  </thead>\n",
       "  <tbody>\n",
       "    <tr>\n",
       "      <th>0</th>\n",
       "      <td>Midwest</td>\n",
       "      <td>2010</td>\n",
       "      <td>teacher_salaries_vocational_education</td>\n",
       "      <td>894448000.0</td>\n",
       "      <td>6028314</td>\n",
       "      <td>148.374487</td>\n",
       "    </tr>\n",
       "    <tr>\n",
       "      <th>1</th>\n",
       "      <td>Midwest</td>\n",
       "      <td>2011</td>\n",
       "      <td>teacher_salaries_vocational_education</td>\n",
       "      <td>954296000.0</td>\n",
       "      <td>6868314</td>\n",
       "      <td>138.941813</td>\n",
       "    </tr>\n",
       "    <tr>\n",
       "      <th>2</th>\n",
       "      <td>Midwest</td>\n",
       "      <td>2012</td>\n",
       "      <td>teacher_salaries_vocational_education</td>\n",
       "      <td>918036000.0</td>\n",
       "      <td>6816199</td>\n",
       "      <td>134.684448</td>\n",
       "    </tr>\n",
       "    <tr>\n",
       "      <th>3</th>\n",
       "      <td>Midwest</td>\n",
       "      <td>2013</td>\n",
       "      <td>teacher_salaries_vocational_education</td>\n",
       "      <td>906328000.0</td>\n",
       "      <td>6778441</td>\n",
       "      <td>133.707441</td>\n",
       "    </tr>\n",
       "    <tr>\n",
       "      <th>4</th>\n",
       "      <td>Midwest</td>\n",
       "      <td>2014</td>\n",
       "      <td>teacher_salaries_vocational_education</td>\n",
       "      <td>891829000.0</td>\n",
       "      <td>6764464</td>\n",
       "      <td>131.840305</td>\n",
       "    </tr>\n",
       "  </tbody>\n",
       "</table>\n",
       "</div>"
      ],
      "text/plain": [
       "    region  year                      expenditure_title       amount  \\\n",
       "0  Midwest  2010  teacher_salaries_vocational_education  894448000.0   \n",
       "1  Midwest  2011  teacher_salaries_vocational_education  954296000.0   \n",
       "2  Midwest  2012  teacher_salaries_vocational_education  918036000.0   \n",
       "3  Midwest  2013  teacher_salaries_vocational_education  906328000.0   \n",
       "4  Midwest  2014  teacher_salaries_vocational_education  891829000.0   \n",
       "\n",
       "   student_count  cost_per_student  \n",
       "0        6028314        148.374487  \n",
       "1        6868314        138.941813  \n",
       "2        6816199        134.684448  \n",
       "3        6778441        133.707441  \n",
       "4        6764464        131.840305  "
      ]
     },
     "execution_count": 107,
     "metadata": {},
     "output_type": "execute_result"
    }
   ],
   "source": [
    "regional_aggregations_w_exp_title['cost_per_student'] = regional_aggregations_w_exp_title['amount'] / regional_aggregations_w_exp_title['student_count']\n",
    "regional_aggregations_w_exp_title.head()"
   ]
  },
  {
   "cell_type": "code",
   "execution_count": 108,
   "metadata": {},
   "outputs": [
    {
     "data": {
      "application/vnd.plotly.v1+json": {
       "config": {
        "plotlyServerURL": "https://plot.ly"
       },
       "data": [
        {
         "hovertemplate": "expenditure_title=teacher_salaries_vocational_education<br>region=Midwest<br>year=%{x}<br>cost_per_student=%{y}<extra></extra>",
         "legendgroup": "teacher_salaries_vocational_education",
         "line": {
          "color": "#636efa",
          "dash": "solid"
         },
         "marker": {
          "symbol": "circle"
         },
         "mode": "lines",
         "name": "teacher_salaries_vocational_education",
         "orientation": "v",
         "showlegend": true,
         "type": "scatter",
         "x": [
          2010,
          2011,
          2012,
          2013,
          2014,
          2015,
          2016,
          2017,
          2018,
          2019,
          2020
         ],
         "xaxis": "x5",
         "y": [
          148.37448746034133,
          138.9418130854239,
          134.68444803328072,
          133.70744098827444,
          131.84030545509592,
          128.16645913211485,
          129.15241513588023,
          133.62436919069796,
          130.71014164823245,
          137.5573027008063,
          141.8915065381737
         ],
         "yaxis": "y5"
        },
        {
         "hovertemplate": "expenditure_title=teacher_salaries_vocational_education<br>region=Northeast<br>year=%{x}<br>cost_per_student=%{y}<extra></extra>",
         "legendgroup": "teacher_salaries_vocational_education",
         "line": {
          "color": "#636efa",
          "dash": "solid"
         },
         "marker": {
          "symbol": "circle"
         },
         "mode": "lines",
         "name": "teacher_salaries_vocational_education",
         "orientation": "v",
         "showlegend": false,
         "type": "scatter",
         "x": [
          2010,
          2011,
          2012,
          2013,
          2014,
          2015,
          2016,
          2017,
          2018,
          2019,
          2020
         ],
         "xaxis": "x6",
         "y": [
          168.2878169176889,
          171.52372417608728,
          172.66903274653149,
          172.4120082198058,
          183.12570835256602,
          178.71170323175542,
          198.37392758059792,
          202.82434834950124,
          202.58834455413216,
          217.43041948351518,
          229.70936846061454
         ],
         "yaxis": "y6"
        },
        {
         "hovertemplate": "expenditure_title=teacher_salaries_vocational_education<br>region=Pacific Northwest<br>year=%{x}<br>cost_per_student=%{y}<extra></extra>",
         "legendgroup": "teacher_salaries_vocational_education",
         "line": {
          "color": "#636efa",
          "dash": "solid"
         },
         "marker": {
          "symbol": "circle"
         },
         "mode": "lines",
         "name": "teacher_salaries_vocational_education",
         "orientation": "v",
         "showlegend": false,
         "type": "scatter",
         "x": [
          2010,
          2011,
          2012,
          2013,
          2014,
          2015,
          2016,
          2017,
          2018,
          2019,
          2020
         ],
         "xaxis": "x3",
         "y": [
          128.35177815800876,
          131.89359856733702,
          128.7878082670395,
          133.1323025863617,
          135.71528392989836,
          138.82849465346027,
          146.3295346886396,
          155.23307945703345,
          164.6250231555148,
          191.29414783669125,
          198.96821287176869
         ],
         "yaxis": "y3"
        },
        {
         "hovertemplate": "expenditure_title=teacher_salaries_vocational_education<br>region=South<br>year=%{x}<br>cost_per_student=%{y}<extra></extra>",
         "legendgroup": "teacher_salaries_vocational_education",
         "line": {
          "color": "#636efa",
          "dash": "solid"
         },
         "marker": {
          "symbol": "circle"
         },
         "mode": "lines",
         "name": "teacher_salaries_vocational_education",
         "orientation": "v",
         "showlegend": false,
         "type": "scatter",
         "x": [
          2010,
          2011,
          2012,
          2013,
          2014,
          2015,
          2016,
          2017,
          2018,
          2019,
          2020
         ],
         "xaxis": "x4",
         "y": [
          141.4275081652817,
          131.38873184366398,
          129.72572410789542,
          130.0191514408161,
          132.30402640778786,
          135.6486203931167,
          139.0974066178419,
          141.5369154404525,
          146.65322316773754,
          151.6254978500482,
          160.8294876411638
         ],
         "yaxis": "y4"
        },
        {
         "hovertemplate": "expenditure_title=teacher_salaries_vocational_education<br>region=Southeast<br>year=%{x}<br>cost_per_student=%{y}<extra></extra>",
         "legendgroup": "teacher_salaries_vocational_education",
         "line": {
          "color": "#636efa",
          "dash": "solid"
         },
         "marker": {
          "symbol": "circle"
         },
         "mode": "lines",
         "name": "teacher_salaries_vocational_education",
         "orientation": "v",
         "showlegend": false,
         "type": "scatter",
         "x": [
          2010,
          2011,
          2012,
          2013,
          2014,
          2015,
          2016,
          2017,
          2018,
          2019,
          2020
         ],
         "xaxis": "x",
         "y": [
          116.94141716418281,
          112.90707282508053,
          110.22543393561669,
          107.43554335888255,
          108.9057072805285,
          112.4317513712754,
          112.89365302134023,
          117.77044076433197,
          120.24668920935507,
          124.01581915415976,
          128.1729016778424
         ],
         "yaxis": "y"
        },
        {
         "hovertemplate": "expenditure_title=teacher_salaries_vocational_education<br>region=West<br>year=%{x}<br>cost_per_student=%{y}<extra></extra>",
         "legendgroup": "teacher_salaries_vocational_education",
         "line": {
          "color": "#636efa",
          "dash": "solid"
         },
         "marker": {
          "symbol": "circle"
         },
         "mode": "lines",
         "name": "teacher_salaries_vocational_education",
         "orientation": "v",
         "showlegend": false,
         "type": "scatter",
         "x": [
          2010,
          2011,
          2012,
          2013,
          2014,
          2015,
          2016,
          2017,
          2018,
          2019,
          2020
         ],
         "xaxis": "x2",
         "y": [
          36.45946842424696,
          34.38281403879148,
          33.14205781803226,
          40.18073424911384,
          43.61424516481194,
          45.71530898882075,
          55.917016575223585,
          65.9938995774766,
          66.10583333532344,
          71.42221166973349,
          76.9534468751127
         ],
         "yaxis": "y2"
        },
        {
         "hovertemplate": "expenditure_title=tech_related_equipment<br>region=Midwest<br>year=%{x}<br>cost_per_student=%{y}<extra></extra>",
         "legendgroup": "tech_related_equipment",
         "line": {
          "color": "#EF553B",
          "dash": "solid"
         },
         "marker": {
          "symbol": "circle"
         },
         "mode": "lines",
         "name": "tech_related_equipment",
         "orientation": "v",
         "showlegend": true,
         "type": "scatter",
         "x": [
          2015,
          2016,
          2017,
          2018,
          2019,
          2020
         ],
         "xaxis": "x5",
         "y": [
          106.28742280383673,
          110.59717393880736,
          86.40900919748638,
          85.86123879636378,
          95.80178595699516,
          60.25223338559346
         ],
         "yaxis": "y5"
        },
        {
         "hovertemplate": "expenditure_title=tech_related_equipment<br>region=Northeast<br>year=%{x}<br>cost_per_student=%{y}<extra></extra>",
         "legendgroup": "tech_related_equipment",
         "line": {
          "color": "#EF553B",
          "dash": "solid"
         },
         "marker": {
          "symbol": "circle"
         },
         "mode": "lines",
         "name": "tech_related_equipment",
         "orientation": "v",
         "showlegend": false,
         "type": "scatter",
         "x": [
          2015,
          2016,
          2017,
          2018,
          2019,
          2020
         ],
         "xaxis": "x6",
         "y": [
          207.35060264241235,
          111.43331233874397,
          84.09782908061176,
          81.79138646677221,
          81.48959983743944,
          93.76355462383096
         ],
         "yaxis": "y6"
        },
        {
         "hovertemplate": "expenditure_title=tech_related_equipment<br>region=Pacific Northwest<br>year=%{x}<br>cost_per_student=%{y}<extra></extra>",
         "legendgroup": "tech_related_equipment",
         "line": {
          "color": "#EF553B",
          "dash": "solid"
         },
         "marker": {
          "symbol": "circle"
         },
         "mode": "lines",
         "name": "tech_related_equipment",
         "orientation": "v",
         "showlegend": false,
         "type": "scatter",
         "x": [
          2016,
          2017,
          2018,
          2019,
          2020
         ],
         "xaxis": "x3",
         "y": [
          22.399651719634306,
          23.112910746446133,
          28.270206275546798,
          19.296759490089386,
          17.230623702912407
         ],
         "yaxis": "y3"
        },
        {
         "hovertemplate": "expenditure_title=tech_related_equipment<br>region=South<br>year=%{x}<br>cost_per_student=%{y}<extra></extra>",
         "legendgroup": "tech_related_equipment",
         "line": {
          "color": "#EF553B",
          "dash": "solid"
         },
         "marker": {
          "symbol": "circle"
         },
         "mode": "lines",
         "name": "tech_related_equipment",
         "orientation": "v",
         "showlegend": false,
         "type": "scatter",
         "x": [
          2015,
          2016,
          2017,
          2018,
          2019,
          2020
         ],
         "xaxis": "x4",
         "y": [
          49.04843121128928,
          51.14347703606324,
          51.22538233410271,
          54.48629100605167,
          55.01741764256644,
          52.051386692059495
         ],
         "yaxis": "y4"
        },
        {
         "hovertemplate": "expenditure_title=tech_related_equipment<br>region=Southeast<br>year=%{x}<br>cost_per_student=%{y}<extra></extra>",
         "legendgroup": "tech_related_equipment",
         "line": {
          "color": "#EF553B",
          "dash": "solid"
         },
         "marker": {
          "symbol": "circle"
         },
         "mode": "lines",
         "name": "tech_related_equipment",
         "orientation": "v",
         "showlegend": false,
         "type": "scatter",
         "x": [
          2015,
          2016,
          2017,
          2018,
          2019,
          2020
         ],
         "xaxis": "x",
         "y": [
          40.409420131926886,
          32.433387797140334,
          31.038804918021963,
          43.481959180721766,
          48.551292902525745,
          41.14083769966041
         ],
         "yaxis": "y"
        },
        {
         "hovertemplate": "expenditure_title=tech_related_equipment<br>region=West<br>year=%{x}<br>cost_per_student=%{y}<extra></extra>",
         "legendgroup": "tech_related_equipment",
         "line": {
          "color": "#EF553B",
          "dash": "solid"
         },
         "marker": {
          "symbol": "circle"
         },
         "mode": "lines",
         "name": "tech_related_equipment",
         "orientation": "v",
         "showlegend": false,
         "type": "scatter",
         "x": [
          2015,
          2016,
          2017,
          2018,
          2019,
          2020
         ],
         "xaxis": "x2",
         "y": [
          32.5097345275836,
          35.344653849032916,
          45.14762025687925,
          46.52387937058909,
          40.72316541763617,
          41.91758827760828
         ],
         "yaxis": "y2"
        },
        {
         "hovertemplate": "expenditure_title=tech_related_supplies_services<br>region=Midwest<br>year=%{x}<br>cost_per_student=%{y}<extra></extra>",
         "legendgroup": "tech_related_supplies_services",
         "line": {
          "color": "#00cc96",
          "dash": "solid"
         },
         "marker": {
          "symbol": "circle"
         },
         "mode": "lines",
         "name": "tech_related_supplies_services",
         "orientation": "v",
         "showlegend": true,
         "type": "scatter",
         "x": [
          2015,
          2016,
          2017,
          2018,
          2019,
          2020
         ],
         "xaxis": "x5",
         "y": [
          84.55575282811014,
          204.49932842159322,
          200.70710035100768,
          192.36158920439019,
          221.76070410980165,
          234.08777318615486
         ],
         "yaxis": "y5"
        },
        {
         "hovertemplate": "expenditure_title=tech_related_supplies_services<br>region=Northeast<br>year=%{x}<br>cost_per_student=%{y}<extra></extra>",
         "legendgroup": "tech_related_supplies_services",
         "line": {
          "color": "#00cc96",
          "dash": "solid"
         },
         "marker": {
          "symbol": "circle"
         },
         "mode": "lines",
         "name": "tech_related_supplies_services",
         "orientation": "v",
         "showlegend": false,
         "type": "scatter",
         "x": [
          2015,
          2016,
          2017,
          2018,
          2019,
          2020
         ],
         "xaxis": "x6",
         "y": [
          105.28036619257806,
          125.72200835275486,
          162.20446641011867,
          166.30775588968925,
          182.66804146763133,
          181.39721401687666
         ],
         "yaxis": "y6"
        },
        {
         "hovertemplate": "expenditure_title=tech_related_supplies_services<br>region=Pacific Northwest<br>year=%{x}<br>cost_per_student=%{y}<extra></extra>",
         "legendgroup": "tech_related_supplies_services",
         "line": {
          "color": "#00cc96",
          "dash": "solid"
         },
         "marker": {
          "symbol": "circle"
         },
         "mode": "lines",
         "name": "tech_related_supplies_services",
         "orientation": "v",
         "showlegend": false,
         "type": "scatter",
         "x": [
          2018,
          2020
         ],
         "xaxis": "x3",
         "y": [
          75.59864845012487,
          138.27164839806915
         ],
         "yaxis": "y3"
        },
        {
         "hovertemplate": "expenditure_title=tech_related_supplies_services<br>region=South<br>year=%{x}<br>cost_per_student=%{y}<extra></extra>",
         "legendgroup": "tech_related_supplies_services",
         "line": {
          "color": "#00cc96",
          "dash": "solid"
         },
         "marker": {
          "symbol": "circle"
         },
         "mode": "lines",
         "name": "tech_related_supplies_services",
         "orientation": "v",
         "showlegend": false,
         "type": "scatter",
         "x": [
          2015,
          2016,
          2017,
          2018,
          2019,
          2020
         ],
         "xaxis": "x4",
         "y": [
          109.93997038500457,
          229.99034693128945,
          245.0354695612184,
          252.1934231459955,
          265.9245121953763,
          270.33350521868107
         ],
         "yaxis": "y4"
        },
        {
         "hovertemplate": "expenditure_title=tech_related_supplies_services<br>region=Southeast<br>year=%{x}<br>cost_per_student=%{y}<extra></extra>",
         "legendgroup": "tech_related_supplies_services",
         "line": {
          "color": "#00cc96",
          "dash": "solid"
         },
         "marker": {
          "symbol": "circle"
         },
         "mode": "lines",
         "name": "tech_related_supplies_services",
         "orientation": "v",
         "showlegend": false,
         "type": "scatter",
         "x": [
          2015,
          2016,
          2017,
          2018,
          2019,
          2020
         ],
         "xaxis": "x",
         "y": [
          159.97067638841773,
          185.46922110848226,
          201.39285510532773,
          198.03256189424104,
          207.75995211543207,
          252.88706848988062
         ],
         "yaxis": "y"
        },
        {
         "hovertemplate": "expenditure_title=tech_related_supplies_services<br>region=West<br>year=%{x}<br>cost_per_student=%{y}<extra></extra>",
         "legendgroup": "tech_related_supplies_services",
         "line": {
          "color": "#00cc96",
          "dash": "solid"
         },
         "marker": {
          "symbol": "circle"
         },
         "mode": "lines",
         "name": "tech_related_supplies_services",
         "orientation": "v",
         "showlegend": false,
         "type": "scatter",
         "x": [
          2015,
          2016,
          2017,
          2018,
          2019,
          2020
         ],
         "xaxis": "x2",
         "y": [
          137.59152881273312,
          142.55917259833288,
          130.44413572815085,
          149.64025636368876,
          178.25353484195665,
          214.4737940078488
         ],
         "yaxis": "y2"
        },
        {
         "hovertemplate": "expenditure_title=cares_act_expenditure_tech_related_equipment<br>region=Midwest<br>year=%{x}<br>cost_per_student=%{y}<extra></extra>",
         "legendgroup": "cares_act_expenditure_tech_related_equipment",
         "line": {
          "color": "#ab63fa",
          "dash": "solid"
         },
         "marker": {
          "symbol": "circle"
         },
         "mode": "lines",
         "name": "cares_act_expenditure_tech_related_equipment",
         "orientation": "v",
         "showlegend": true,
         "type": "scatter",
         "x": [
          2020
         ],
         "xaxis": "x5",
         "y": [
          1.9804222717015814
         ],
         "yaxis": "y5"
        },
        {
         "hovertemplate": "expenditure_title=cares_act_expenditure_tech_related_equipment<br>region=Northeast<br>year=%{x}<br>cost_per_student=%{y}<extra></extra>",
         "legendgroup": "cares_act_expenditure_tech_related_equipment",
         "line": {
          "color": "#ab63fa",
          "dash": "solid"
         },
         "marker": {
          "symbol": "circle"
         },
         "mode": "lines",
         "name": "cares_act_expenditure_tech_related_equipment",
         "orientation": "v",
         "showlegend": false,
         "type": "scatter",
         "x": [
          2020
         ],
         "xaxis": "x6",
         "y": [
          2.84612589031358
         ],
         "yaxis": "y6"
        },
        {
         "hovertemplate": "expenditure_title=cares_act_expenditure_tech_related_equipment<br>region=Pacific Northwest<br>year=%{x}<br>cost_per_student=%{y}<extra></extra>",
         "legendgroup": "cares_act_expenditure_tech_related_equipment",
         "line": {
          "color": "#ab63fa",
          "dash": "solid"
         },
         "marker": {
          "symbol": "circle"
         },
         "mode": "lines",
         "name": "cares_act_expenditure_tech_related_equipment",
         "orientation": "v",
         "showlegend": false,
         "type": "scatter",
         "x": [
          2020
         ],
         "xaxis": "x3",
         "y": [
          0.9416651632292955
         ],
         "yaxis": "y3"
        },
        {
         "hovertemplate": "expenditure_title=cares_act_expenditure_tech_related_equipment<br>region=South<br>year=%{x}<br>cost_per_student=%{y}<extra></extra>",
         "legendgroup": "cares_act_expenditure_tech_related_equipment",
         "line": {
          "color": "#ab63fa",
          "dash": "solid"
         },
         "marker": {
          "symbol": "circle"
         },
         "mode": "lines",
         "name": "cares_act_expenditure_tech_related_equipment",
         "orientation": "v",
         "showlegend": false,
         "type": "scatter",
         "x": [
          2020
         ],
         "xaxis": "x4",
         "y": [
          2.405360467686651
         ],
         "yaxis": "y4"
        },
        {
         "hovertemplate": "expenditure_title=cares_act_expenditure_tech_related_equipment<br>region=West<br>year=%{x}<br>cost_per_student=%{y}<extra></extra>",
         "legendgroup": "cares_act_expenditure_tech_related_equipment",
         "line": {
          "color": "#ab63fa",
          "dash": "solid"
         },
         "marker": {
          "symbol": "circle"
         },
         "mode": "lines",
         "name": "cares_act_expenditure_tech_related_equipment",
         "orientation": "v",
         "showlegend": false,
         "type": "scatter",
         "x": [
          2020
         ],
         "xaxis": "x2",
         "y": [
          2.6387337815998886
         ],
         "yaxis": "y2"
        },
        {
         "hovertemplate": "expenditure_title=cares_act_expenditure_tech_related_supplies_services<br>region=Midwest<br>year=%{x}<br>cost_per_student=%{y}<extra></extra>",
         "legendgroup": "cares_act_expenditure_tech_related_supplies_services",
         "line": {
          "color": "#FFA15A",
          "dash": "solid"
         },
         "marker": {
          "symbol": "circle"
         },
         "mode": "lines",
         "name": "cares_act_expenditure_tech_related_supplies_services",
         "orientation": "v",
         "showlegend": true,
         "type": "scatter",
         "x": [
          2020
         ],
         "xaxis": "x5",
         "y": [
          2.731737951573247
         ],
         "yaxis": "y5"
        },
        {
         "hovertemplate": "expenditure_title=cares_act_expenditure_tech_related_supplies_services<br>region=Northeast<br>year=%{x}<br>cost_per_student=%{y}<extra></extra>",
         "legendgroup": "cares_act_expenditure_tech_related_supplies_services",
         "line": {
          "color": "#FFA15A",
          "dash": "solid"
         },
         "marker": {
          "symbol": "circle"
         },
         "mode": "lines",
         "name": "cares_act_expenditure_tech_related_supplies_services",
         "orientation": "v",
         "showlegend": false,
         "type": "scatter",
         "x": [
          2020
         ],
         "xaxis": "x6",
         "y": [
          5.481005344764139
         ],
         "yaxis": "y6"
        },
        {
         "hovertemplate": "expenditure_title=cares_act_expenditure_tech_related_supplies_services<br>region=Pacific Northwest<br>year=%{x}<br>cost_per_student=%{y}<extra></extra>",
         "legendgroup": "cares_act_expenditure_tech_related_supplies_services",
         "line": {
          "color": "#FFA15A",
          "dash": "solid"
         },
         "marker": {
          "symbol": "circle"
         },
         "mode": "lines",
         "name": "cares_act_expenditure_tech_related_supplies_services",
         "orientation": "v",
         "showlegend": false,
         "type": "scatter",
         "x": [
          2020
         ],
         "xaxis": "x3",
         "y": [
          3.8221044896306826
         ],
         "yaxis": "y3"
        },
        {
         "hovertemplate": "expenditure_title=cares_act_expenditure_tech_related_supplies_services<br>region=South<br>year=%{x}<br>cost_per_student=%{y}<extra></extra>",
         "legendgroup": "cares_act_expenditure_tech_related_supplies_services",
         "line": {
          "color": "#FFA15A",
          "dash": "solid"
         },
         "marker": {
          "symbol": "circle"
         },
         "mode": "lines",
         "name": "cares_act_expenditure_tech_related_supplies_services",
         "orientation": "v",
         "showlegend": false,
         "type": "scatter",
         "x": [
          2020
         ],
         "xaxis": "x4",
         "y": [
          23.786836254262063
         ],
         "yaxis": "y4"
        },
        {
         "hovertemplate": "expenditure_title=cares_act_expenditure_tech_related_supplies_services<br>region=Southeast<br>year=%{x}<br>cost_per_student=%{y}<extra></extra>",
         "legendgroup": "cares_act_expenditure_tech_related_supplies_services",
         "line": {
          "color": "#FFA15A",
          "dash": "solid"
         },
         "marker": {
          "symbol": "circle"
         },
         "mode": "lines",
         "name": "cares_act_expenditure_tech_related_supplies_services",
         "orientation": "v",
         "showlegend": false,
         "type": "scatter",
         "x": [
          2020
         ],
         "xaxis": "x",
         "y": [
          2.192975553374576
         ],
         "yaxis": "y"
        },
        {
         "hovertemplate": "expenditure_title=cares_act_expenditure_tech_related_supplies_services<br>region=West<br>year=%{x}<br>cost_per_student=%{y}<extra></extra>",
         "legendgroup": "cares_act_expenditure_tech_related_supplies_services",
         "line": {
          "color": "#FFA15A",
          "dash": "solid"
         },
         "marker": {
          "symbol": "circle"
         },
         "mode": "lines",
         "name": "cares_act_expenditure_tech_related_supplies_services",
         "orientation": "v",
         "showlegend": false,
         "type": "scatter",
         "x": [
          2020
         ],
         "xaxis": "x2",
         "y": [
          5.27310827547051
         ],
         "yaxis": "y2"
        }
       ],
       "layout": {
        "annotations": [
         {
          "font": {
           "size": 10
          },
          "showarrow": false,
          "text": "region=Southeast",
          "x": 0.245,
          "xanchor": "center",
          "xref": "paper",
          "y": 0.2866666666666666,
          "yanchor": "bottom",
          "yref": "paper"
         },
         {
          "font": {
           "size": 10
          },
          "showarrow": false,
          "text": "region=West",
          "x": 0.755,
          "xanchor": "center",
          "xref": "paper",
          "y": 0.2866666666666666,
          "yanchor": "bottom",
          "yref": "paper"
         },
         {
          "font": {
           "size": 10
          },
          "showarrow": false,
          "text": "region=Pacific Northwest",
          "x": 0.245,
          "xanchor": "center",
          "xref": "paper",
          "y": 0.6433333333333333,
          "yanchor": "bottom",
          "yref": "paper"
         },
         {
          "font": {
           "size": 10
          },
          "showarrow": false,
          "text": "region=South",
          "x": 0.755,
          "xanchor": "center",
          "xref": "paper",
          "y": 0.6433333333333333,
          "yanchor": "bottom",
          "yref": "paper"
         },
         {
          "font": {
           "size": 10
          },
          "showarrow": false,
          "text": "region=Midwest",
          "x": 0.245,
          "xanchor": "center",
          "xref": "paper",
          "y": 0.9999999999999999,
          "yanchor": "bottom",
          "yref": "paper"
         },
         {
          "font": {
           "size": 10
          },
          "showarrow": false,
          "text": "region=Northeast",
          "x": 0.755,
          "xanchor": "center",
          "xref": "paper",
          "y": 0.9999999999999999,
          "yanchor": "bottom",
          "yref": "paper"
         }
        ],
        "height": 800,
        "hoverlabel": {
         "bgcolor": "white",
         "font": {
          "family": "Calibri",
          "size": 16
         }
        },
        "legend": {
         "orientation": "h",
         "title": {
          "text": "expenditure_title"
         },
         "tracegroupgap": 0,
         "x": 0.5,
         "xanchor": "center",
         "y": -0.5,
         "yanchor": "bottom"
        },
        "margin": {
         "b": 200,
         "l": 40,
         "r": 40,
         "t": 80
        },
        "template": {
         "data": {
          "bar": [
           {
            "error_x": {
             "color": "#2a3f5f"
            },
            "error_y": {
             "color": "#2a3f5f"
            },
            "marker": {
             "line": {
              "color": "#E5ECF6",
              "width": 0.5
             },
             "pattern": {
              "fillmode": "overlay",
              "size": 10,
              "solidity": 0.2
             }
            },
            "type": "bar"
           }
          ],
          "barpolar": [
           {
            "marker": {
             "line": {
              "color": "#E5ECF6",
              "width": 0.5
             },
             "pattern": {
              "fillmode": "overlay",
              "size": 10,
              "solidity": 0.2
             }
            },
            "type": "barpolar"
           }
          ],
          "carpet": [
           {
            "aaxis": {
             "endlinecolor": "#2a3f5f",
             "gridcolor": "white",
             "linecolor": "white",
             "minorgridcolor": "white",
             "startlinecolor": "#2a3f5f"
            },
            "baxis": {
             "endlinecolor": "#2a3f5f",
             "gridcolor": "white",
             "linecolor": "white",
             "minorgridcolor": "white",
             "startlinecolor": "#2a3f5f"
            },
            "type": "carpet"
           }
          ],
          "choropleth": [
           {
            "colorbar": {
             "outlinewidth": 0,
             "ticks": ""
            },
            "type": "choropleth"
           }
          ],
          "contour": [
           {
            "colorbar": {
             "outlinewidth": 0,
             "ticks": ""
            },
            "colorscale": [
             [
              0,
              "#0d0887"
             ],
             [
              0.1111111111111111,
              "#46039f"
             ],
             [
              0.2222222222222222,
              "#7201a8"
             ],
             [
              0.3333333333333333,
              "#9c179e"
             ],
             [
              0.4444444444444444,
              "#bd3786"
             ],
             [
              0.5555555555555556,
              "#d8576b"
             ],
             [
              0.6666666666666666,
              "#ed7953"
             ],
             [
              0.7777777777777778,
              "#fb9f3a"
             ],
             [
              0.8888888888888888,
              "#fdca26"
             ],
             [
              1,
              "#f0f921"
             ]
            ],
            "type": "contour"
           }
          ],
          "contourcarpet": [
           {
            "colorbar": {
             "outlinewidth": 0,
             "ticks": ""
            },
            "type": "contourcarpet"
           }
          ],
          "heatmap": [
           {
            "colorbar": {
             "outlinewidth": 0,
             "ticks": ""
            },
            "colorscale": [
             [
              0,
              "#0d0887"
             ],
             [
              0.1111111111111111,
              "#46039f"
             ],
             [
              0.2222222222222222,
              "#7201a8"
             ],
             [
              0.3333333333333333,
              "#9c179e"
             ],
             [
              0.4444444444444444,
              "#bd3786"
             ],
             [
              0.5555555555555556,
              "#d8576b"
             ],
             [
              0.6666666666666666,
              "#ed7953"
             ],
             [
              0.7777777777777778,
              "#fb9f3a"
             ],
             [
              0.8888888888888888,
              "#fdca26"
             ],
             [
              1,
              "#f0f921"
             ]
            ],
            "type": "heatmap"
           }
          ],
          "heatmapgl": [
           {
            "colorbar": {
             "outlinewidth": 0,
             "ticks": ""
            },
            "colorscale": [
             [
              0,
              "#0d0887"
             ],
             [
              0.1111111111111111,
              "#46039f"
             ],
             [
              0.2222222222222222,
              "#7201a8"
             ],
             [
              0.3333333333333333,
              "#9c179e"
             ],
             [
              0.4444444444444444,
              "#bd3786"
             ],
             [
              0.5555555555555556,
              "#d8576b"
             ],
             [
              0.6666666666666666,
              "#ed7953"
             ],
             [
              0.7777777777777778,
              "#fb9f3a"
             ],
             [
              0.8888888888888888,
              "#fdca26"
             ],
             [
              1,
              "#f0f921"
             ]
            ],
            "type": "heatmapgl"
           }
          ],
          "histogram": [
           {
            "marker": {
             "pattern": {
              "fillmode": "overlay",
              "size": 10,
              "solidity": 0.2
             }
            },
            "type": "histogram"
           }
          ],
          "histogram2d": [
           {
            "colorbar": {
             "outlinewidth": 0,
             "ticks": ""
            },
            "colorscale": [
             [
              0,
              "#0d0887"
             ],
             [
              0.1111111111111111,
              "#46039f"
             ],
             [
              0.2222222222222222,
              "#7201a8"
             ],
             [
              0.3333333333333333,
              "#9c179e"
             ],
             [
              0.4444444444444444,
              "#bd3786"
             ],
             [
              0.5555555555555556,
              "#d8576b"
             ],
             [
              0.6666666666666666,
              "#ed7953"
             ],
             [
              0.7777777777777778,
              "#fb9f3a"
             ],
             [
              0.8888888888888888,
              "#fdca26"
             ],
             [
              1,
              "#f0f921"
             ]
            ],
            "type": "histogram2d"
           }
          ],
          "histogram2dcontour": [
           {
            "colorbar": {
             "outlinewidth": 0,
             "ticks": ""
            },
            "colorscale": [
             [
              0,
              "#0d0887"
             ],
             [
              0.1111111111111111,
              "#46039f"
             ],
             [
              0.2222222222222222,
              "#7201a8"
             ],
             [
              0.3333333333333333,
              "#9c179e"
             ],
             [
              0.4444444444444444,
              "#bd3786"
             ],
             [
              0.5555555555555556,
              "#d8576b"
             ],
             [
              0.6666666666666666,
              "#ed7953"
             ],
             [
              0.7777777777777778,
              "#fb9f3a"
             ],
             [
              0.8888888888888888,
              "#fdca26"
             ],
             [
              1,
              "#f0f921"
             ]
            ],
            "type": "histogram2dcontour"
           }
          ],
          "mesh3d": [
           {
            "colorbar": {
             "outlinewidth": 0,
             "ticks": ""
            },
            "type": "mesh3d"
           }
          ],
          "parcoords": [
           {
            "line": {
             "colorbar": {
              "outlinewidth": 0,
              "ticks": ""
             }
            },
            "type": "parcoords"
           }
          ],
          "pie": [
           {
            "automargin": true,
            "type": "pie"
           }
          ],
          "scatter": [
           {
            "fillpattern": {
             "fillmode": "overlay",
             "size": 10,
             "solidity": 0.2
            },
            "type": "scatter"
           }
          ],
          "scatter3d": [
           {
            "line": {
             "colorbar": {
              "outlinewidth": 0,
              "ticks": ""
             }
            },
            "marker": {
             "colorbar": {
              "outlinewidth": 0,
              "ticks": ""
             }
            },
            "type": "scatter3d"
           }
          ],
          "scattercarpet": [
           {
            "marker": {
             "colorbar": {
              "outlinewidth": 0,
              "ticks": ""
             }
            },
            "type": "scattercarpet"
           }
          ],
          "scattergeo": [
           {
            "marker": {
             "colorbar": {
              "outlinewidth": 0,
              "ticks": ""
             }
            },
            "type": "scattergeo"
           }
          ],
          "scattergl": [
           {
            "marker": {
             "colorbar": {
              "outlinewidth": 0,
              "ticks": ""
             }
            },
            "type": "scattergl"
           }
          ],
          "scattermapbox": [
           {
            "marker": {
             "colorbar": {
              "outlinewidth": 0,
              "ticks": ""
             }
            },
            "type": "scattermapbox"
           }
          ],
          "scatterpolar": [
           {
            "marker": {
             "colorbar": {
              "outlinewidth": 0,
              "ticks": ""
             }
            },
            "type": "scatterpolar"
           }
          ],
          "scatterpolargl": [
           {
            "marker": {
             "colorbar": {
              "outlinewidth": 0,
              "ticks": ""
             }
            },
            "type": "scatterpolargl"
           }
          ],
          "scatterternary": [
           {
            "marker": {
             "colorbar": {
              "outlinewidth": 0,
              "ticks": ""
             }
            },
            "type": "scatterternary"
           }
          ],
          "surface": [
           {
            "colorbar": {
             "outlinewidth": 0,
             "ticks": ""
            },
            "colorscale": [
             [
              0,
              "#0d0887"
             ],
             [
              0.1111111111111111,
              "#46039f"
             ],
             [
              0.2222222222222222,
              "#7201a8"
             ],
             [
              0.3333333333333333,
              "#9c179e"
             ],
             [
              0.4444444444444444,
              "#bd3786"
             ],
             [
              0.5555555555555556,
              "#d8576b"
             ],
             [
              0.6666666666666666,
              "#ed7953"
             ],
             [
              0.7777777777777778,
              "#fb9f3a"
             ],
             [
              0.8888888888888888,
              "#fdca26"
             ],
             [
              1,
              "#f0f921"
             ]
            ],
            "type": "surface"
           }
          ],
          "table": [
           {
            "cells": {
             "fill": {
              "color": "#EBF0F8"
             },
             "line": {
              "color": "white"
             }
            },
            "header": {
             "fill": {
              "color": "#C8D4E3"
             },
             "line": {
              "color": "white"
             }
            },
            "type": "table"
           }
          ]
         },
         "layout": {
          "annotationdefaults": {
           "arrowcolor": "#2a3f5f",
           "arrowhead": 0,
           "arrowwidth": 1
          },
          "autotypenumbers": "strict",
          "coloraxis": {
           "colorbar": {
            "outlinewidth": 0,
            "ticks": ""
           }
          },
          "colorscale": {
           "diverging": [
            [
             0,
             "#8e0152"
            ],
            [
             0.1,
             "#c51b7d"
            ],
            [
             0.2,
             "#de77ae"
            ],
            [
             0.3,
             "#f1b6da"
            ],
            [
             0.4,
             "#fde0ef"
            ],
            [
             0.5,
             "#f7f7f7"
            ],
            [
             0.6,
             "#e6f5d0"
            ],
            [
             0.7,
             "#b8e186"
            ],
            [
             0.8,
             "#7fbc41"
            ],
            [
             0.9,
             "#4d9221"
            ],
            [
             1,
             "#276419"
            ]
           ],
           "sequential": [
            [
             0,
             "#0d0887"
            ],
            [
             0.1111111111111111,
             "#46039f"
            ],
            [
             0.2222222222222222,
             "#7201a8"
            ],
            [
             0.3333333333333333,
             "#9c179e"
            ],
            [
             0.4444444444444444,
             "#bd3786"
            ],
            [
             0.5555555555555556,
             "#d8576b"
            ],
            [
             0.6666666666666666,
             "#ed7953"
            ],
            [
             0.7777777777777778,
             "#fb9f3a"
            ],
            [
             0.8888888888888888,
             "#fdca26"
            ],
            [
             1,
             "#f0f921"
            ]
           ],
           "sequentialminus": [
            [
             0,
             "#0d0887"
            ],
            [
             0.1111111111111111,
             "#46039f"
            ],
            [
             0.2222222222222222,
             "#7201a8"
            ],
            [
             0.3333333333333333,
             "#9c179e"
            ],
            [
             0.4444444444444444,
             "#bd3786"
            ],
            [
             0.5555555555555556,
             "#d8576b"
            ],
            [
             0.6666666666666666,
             "#ed7953"
            ],
            [
             0.7777777777777778,
             "#fb9f3a"
            ],
            [
             0.8888888888888888,
             "#fdca26"
            ],
            [
             1,
             "#f0f921"
            ]
           ]
          },
          "colorway": [
           "#636efa",
           "#EF553B",
           "#00cc96",
           "#ab63fa",
           "#FFA15A",
           "#19d3f3",
           "#FF6692",
           "#B6E880",
           "#FF97FF",
           "#FECB52"
          ],
          "font": {
           "color": "#2a3f5f"
          },
          "geo": {
           "bgcolor": "white",
           "lakecolor": "white",
           "landcolor": "#E5ECF6",
           "showlakes": true,
           "showland": true,
           "subunitcolor": "white"
          },
          "hoverlabel": {
           "align": "left"
          },
          "hovermode": "closest",
          "mapbox": {
           "style": "light"
          },
          "paper_bgcolor": "white",
          "plot_bgcolor": "#E5ECF6",
          "polar": {
           "angularaxis": {
            "gridcolor": "white",
            "linecolor": "white",
            "ticks": ""
           },
           "bgcolor": "#E5ECF6",
           "radialaxis": {
            "gridcolor": "white",
            "linecolor": "white",
            "ticks": ""
           }
          },
          "scene": {
           "xaxis": {
            "backgroundcolor": "#E5ECF6",
            "gridcolor": "white",
            "gridwidth": 2,
            "linecolor": "white",
            "showbackground": true,
            "ticks": "",
            "zerolinecolor": "white"
           },
           "yaxis": {
            "backgroundcolor": "#E5ECF6",
            "gridcolor": "white",
            "gridwidth": 2,
            "linecolor": "white",
            "showbackground": true,
            "ticks": "",
            "zerolinecolor": "white"
           },
           "zaxis": {
            "backgroundcolor": "#E5ECF6",
            "gridcolor": "white",
            "gridwidth": 2,
            "linecolor": "white",
            "showbackground": true,
            "ticks": "",
            "zerolinecolor": "white"
           }
          },
          "shapedefaults": {
           "line": {
            "color": "#2a3f5f"
           }
          },
          "ternary": {
           "aaxis": {
            "gridcolor": "white",
            "linecolor": "white",
            "ticks": ""
           },
           "baxis": {
            "gridcolor": "white",
            "linecolor": "white",
            "ticks": ""
           },
           "bgcolor": "#E5ECF6",
           "caxis": {
            "gridcolor": "white",
            "linecolor": "white",
            "ticks": ""
           }
          },
          "title": {
           "x": 0.05
          },
          "xaxis": {
           "automargin": true,
           "gridcolor": "white",
           "linecolor": "white",
           "ticks": "",
           "title": {
            "standoff": 15
           },
           "zerolinecolor": "white",
           "zerolinewidth": 2
          },
          "yaxis": {
           "automargin": true,
           "gridcolor": "white",
           "linecolor": "white",
           "ticks": "",
           "title": {
            "standoff": 15
           },
           "zerolinecolor": "white",
           "zerolinewidth": 2
          }
         }
        },
        "title": {
         "text": "Cost per Student by Region and Expenditure Title Over Time",
         "x": 0.5,
         "xanchor": "center",
         "y": 0.98,
         "yanchor": "top"
        },
        "width": 1050,
        "xaxis": {
         "anchor": "y",
         "domain": [
          0,
          0.49
         ],
         "tickangle": 45,
         "tickfont": {
          "size": 10
         },
         "title": {
          "text": "year"
         }
        },
        "xaxis2": {
         "anchor": "y2",
         "domain": [
          0.51,
          1
         ],
         "matches": "x",
         "tickangle": 45,
         "tickfont": {
          "size": 10
         },
         "title": {
          "text": "year"
         }
        },
        "xaxis3": {
         "anchor": "y3",
         "domain": [
          0,
          0.49
         ],
         "matches": "x",
         "showticklabels": false,
         "tickangle": 45,
         "tickfont": {
          "size": 10
         }
        },
        "xaxis4": {
         "anchor": "y4",
         "domain": [
          0.51,
          1
         ],
         "matches": "x",
         "showticklabels": false,
         "tickangle": 45,
         "tickfont": {
          "size": 10
         }
        },
        "xaxis5": {
         "anchor": "y5",
         "domain": [
          0,
          0.49
         ],
         "matches": "x",
         "showticklabels": false,
         "tickangle": 45,
         "tickfont": {
          "size": 10
         }
        },
        "xaxis6": {
         "anchor": "y6",
         "domain": [
          0.51,
          1
         ],
         "matches": "x",
         "showticklabels": false,
         "tickangle": 45,
         "tickfont": {
          "size": 10
         }
        },
        "yaxis": {
         "anchor": "x",
         "domain": [
          0,
          0.2866666666666666
         ],
         "title": {
          "text": "cost_per_student"
         }
        },
        "yaxis2": {
         "anchor": "x2",
         "domain": [
          0,
          0.2866666666666666
         ],
         "matches": "y",
         "showticklabels": false
        },
        "yaxis3": {
         "anchor": "x3",
         "domain": [
          0.35666666666666663,
          0.6433333333333333
         ],
         "matches": "y",
         "title": {
          "text": "cost_per_student"
         }
        },
        "yaxis4": {
         "anchor": "x4",
         "domain": [
          0.35666666666666663,
          0.6433333333333333
         ],
         "matches": "y",
         "showticklabels": false
        },
        "yaxis5": {
         "anchor": "x5",
         "domain": [
          0.7133333333333333,
          0.9999999999999999
         ],
         "matches": "y",
         "title": {
          "text": "cost_per_student"
         }
        },
        "yaxis6": {
         "anchor": "x6",
         "domain": [
          0.7133333333333333,
          0.9999999999999999
         ],
         "matches": "y",
         "showticklabels": false
        }
       }
      }
     },
     "metadata": {},
     "output_type": "display_data"
    }
   ],
   "source": [
    "regional_cost_per_student_line_grid = make_line_plot_grid(\n",
    "    regional_aggregations_w_exp_title,\n",
    "    x='year',\n",
    "    y='cost_per_student',\n",
    "    color='expenditure_title',\n",
    "    facet_col='region',\n",
    "    facet_col_wrap=2,\n",
    "    title='Cost per Student by Region and Expenditure Title Over Time'\n",
    ")\n",
    "regional_cost_per_student_line_grid.show()"
   ]
  },
  {
   "cell_type": "code",
   "execution_count": 109,
   "metadata": {},
   "outputs": [],
   "source": [
    "group_names = ['Low', 'Medium', 'High']\n",
    "regional_aggregations_w_exp_title['student_count binned'] = regional_aggregations_w_exp_title.groupby('year')['student_count'] \\\n",
    "                                                         .transform(lambda x: pd.qcut(x, q=[0, .25, .75, 1.], labels=group_names))\n",
    "regional_aggregations_w_exp_title.sort_values(['year', 'student_count'], inplace=True)"
   ]
  },
  {
   "cell_type": "code",
   "execution_count": 110,
   "metadata": {},
   "outputs": [
    {
     "data": {
      "application/vnd.plotly.v1+json": {
       "config": {
        "plotlyServerURL": "https://plot.ly"
       },
       "data": [
        {
         "alignmentgroup": "True",
         "bingroup": "x",
         "histfunc": "avg",
         "hovertemplate": "region=Pacific Northwest<br>student_count binned=%{x}<br>avg of student_count=%{y}<extra></extra>",
         "legendgroup": "",
         "marker": {
          "color": "#636efa",
          "pattern": {
           "shape": ""
          }
         },
         "name": "",
         "offsetgroup": "",
         "orientation": "v",
         "showlegend": false,
         "type": "histogram",
         "x": [
          "Low",
          "Low",
          "Low",
          "Low",
          "Low",
          "Medium",
          "Low",
          "Low",
          "Low",
          "Low",
          "Low",
          "Low",
          "Low",
          "Low",
          "Low",
          "Low",
          "Low",
          "Low",
          "Low",
          "Low"
         ],
         "xaxis": "x5",
         "y": [
          1594937,
          1602610,
          1611387,
          1615010,
          1624327,
          1641529,
          574250,
          1658223,
          576907,
          1675094,
          578595,
          578595,
          1684264,
          579631,
          1699064,
          1136285,
          1136285,
          1136285,
          1716827,
          1716827
         ],
         "yaxis": "y5"
        },
        {
         "alignmentgroup": "True",
         "bingroup": "x",
         "histfunc": "avg",
         "hovertemplate": "region=Midwest<br>student_count binned=%{x}<br>avg of student_count=%{y}<extra></extra>",
         "legendgroup": "",
         "marker": {
          "color": "#636efa",
          "pattern": {
           "shape": ""
          }
         },
         "name": "",
         "offsetgroup": "",
         "orientation": "v",
         "showlegend": false,
         "type": "histogram",
         "x": [
          "Low",
          "Medium",
          "Medium",
          "Medium",
          "Medium",
          "Low",
          "Low",
          "High",
          "Medium",
          "Medium",
          "High",
          "Medium",
          "Medium",
          "High",
          "Medium",
          "Medium",
          "High",
          "Medium",
          "Medium",
          "High",
          "Medium",
          "Medium",
          "Medium",
          "Medium",
          "High"
         ],
         "xaxis": "x6",
         "y": [
          6028314,
          6868314,
          6816199,
          6778441,
          6764464,
          638147,
          638147,
          7063884,
          3240128,
          3240128,
          7057429,
          4129824,
          4129824,
          7052052,
          4951629,
          5448437,
          8061096,
          5275267,
          5772736,
          8046523,
          4273836,
          4273836,
          5271705,
          5768960,
          8030530
         ],
         "yaxis": "y6"
        },
        {
         "alignmentgroup": "True",
         "bingroup": "x",
         "histfunc": "avg",
         "hovertemplate": "region=Southeast<br>student_count binned=%{x}<br>avg of student_count=%{y}<extra></extra>",
         "legendgroup": "",
         "marker": {
          "color": "#636efa",
          "pattern": {
           "shape": ""
          }
         },
         "name": "",
         "offsetgroup": "",
         "orientation": "v",
         "showlegend": false,
         "type": "histogram",
         "x": [
          "Medium",
          "Low",
          "Low",
          "Low",
          "Low",
          "Medium",
          "Medium",
          "Medium",
          "Medium",
          "Medium",
          "Medium",
          "Low",
          "Medium",
          "Medium",
          "Medium",
          "Medium",
          "Medium",
          "Medium",
          "Medium",
          "Medium",
          "Medium",
          "Medium",
          "High",
          "High"
         ],
         "xaxis": "x3",
         "y": [
          6448032,
          6464998,
          6505631,
          6552971,
          6577984,
          1465031,
          2202432,
          6663687,
          3188955,
          3932275,
          6709208,
          3190138,
          3938006,
          6739951,
          5998054,
          6748086,
          6748086,
          6002769,
          6753332,
          6753332,
          3176962,
          6015531,
          6770183,
          6770183
         ],
         "yaxis": "y3"
        },
        {
         "alignmentgroup": "True",
         "bingroup": "x",
         "histfunc": "avg",
         "hovertemplate": "region=South<br>student_count binned=%{x}<br>avg of student_count=%{y}<extra></extra>",
         "legendgroup": "",
         "marker": {
          "color": "#636efa",
          "pattern": {
           "shape": ""
          }
         },
         "name": "",
         "offsetgroup": "",
         "orientation": "v",
         "showlegend": false,
         "type": "histogram",
         "x": [
          "Medium",
          "High",
          "High",
          "High",
          "High",
          "Medium",
          "Medium",
          "High",
          "Medium",
          "Medium",
          "High",
          "Medium",
          "Medium",
          "High",
          "Medium",
          "Medium",
          "High",
          "Medium",
          "Medium",
          "High",
          "Medium",
          "Medium",
          "Medium",
          "High",
          "High"
         ],
         "xaxis": "x4",
         "y": [
          6523045,
          7191842,
          12077620,
          12157832,
          12207308,
          3113963,
          3113963,
          12280781,
          5058475,
          5179700,
          12333084,
          5049118,
          5049118,
          12370596,
          5035964,
          5035964,
          12377730,
          5015030,
          5754148,
          12361905,
          2289054,
          3419118,
          5623635,
          6366647,
          12437943
         ],
         "yaxis": "y4"
        },
        {
         "alignmentgroup": "True",
         "bingroup": "x",
         "histfunc": "avg",
         "hovertemplate": "region=Northeast<br>student_count binned=%{x}<br>avg of student_count=%{y}<extra></extra>",
         "legendgroup": "",
         "marker": {
          "color": "#636efa",
          "pattern": {
           "shape": ""
          }
         },
         "name": "",
         "offsetgroup": "",
         "orientation": "v",
         "showlegend": false,
         "type": "histogram",
         "x": [
          "High",
          "Medium",
          "Medium",
          "Medium",
          "Medium",
          "Low",
          "Low",
          "High",
          "Low",
          "Low",
          "High",
          "Low",
          "Low",
          "High",
          "Low",
          "Low",
          "High",
          "Low",
          "Low",
          "High",
          "Low",
          "Medium",
          "Medium",
          "Medium",
          "High"
         ],
         "xaxis": "x",
         "y": [
          6730612,
          6882768,
          6739981,
          6703808,
          7573912,
          134574,
          134574,
          7558895,
          312779,
          1885366,
          7527955,
          1971561,
          1971561,
          7522514,
          2458364,
          2458364,
          7472730,
          2450779,
          2450779,
          7418456,
          1876586,
          2446121,
          2774491,
          3344026,
          7394139
         ],
         "yaxis": "y"
        },
        {
         "alignmentgroup": "True",
         "bingroup": "x",
         "histfunc": "avg",
         "hovertemplate": "region=West<br>student_count binned=%{x}<br>avg of student_count=%{y}<extra></extra>",
         "legendgroup": "",
         "marker": {
          "color": "#636efa",
          "pattern": {
           "shape": ""
          }
         },
         "name": "",
         "offsetgroup": "",
         "orientation": "v",
         "showlegend": false,
         "type": "histogram",
         "x": [
          "High",
          "High",
          "High",
          "High",
          "High",
          "Medium",
          "Medium",
          "High",
          "Low",
          "Medium",
          "High",
          "Medium",
          "Medium",
          "High",
          "Medium",
          "Medium",
          "High",
          "Low",
          "Low",
          "High",
          "Low",
          "Low",
          "Medium",
          "Medium",
          "High"
         ],
         "xaxis": "x2",
         "y": [
          9810154,
          9824065,
          9839733,
          9860223,
          9907474,
          1731422,
          1979038,
          9906572,
          1736670,
          2660860,
          10045958,
          3264491,
          3584017,
          10066188,
          3255425,
          3573517,
          10049688,
          3269736,
          3269736,
          9232156,
          1498067,
          2039594,
          3283562,
          3283562,
          9510919
         ],
         "yaxis": "y2"
        }
       ],
       "layout": {
        "annotations": [
         {
          "font": {},
          "showarrow": false,
          "text": "region=Northeast",
          "x": 0.245,
          "xanchor": "center",
          "xref": "paper",
          "y": 0.2866666666666666,
          "yanchor": "bottom",
          "yref": "paper"
         },
         {
          "font": {},
          "showarrow": false,
          "text": "region=West",
          "x": 0.755,
          "xanchor": "center",
          "xref": "paper",
          "y": 0.2866666666666666,
          "yanchor": "bottom",
          "yref": "paper"
         },
         {
          "font": {},
          "showarrow": false,
          "text": "region=Southeast",
          "x": 0.245,
          "xanchor": "center",
          "xref": "paper",
          "y": 0.6433333333333333,
          "yanchor": "bottom",
          "yref": "paper"
         },
         {
          "font": {},
          "showarrow": false,
          "text": "region=South",
          "x": 0.755,
          "xanchor": "center",
          "xref": "paper",
          "y": 0.6433333333333333,
          "yanchor": "bottom",
          "yref": "paper"
         },
         {
          "font": {},
          "showarrow": false,
          "text": "region=Pacific Northwest",
          "x": 0.245,
          "xanchor": "center",
          "xref": "paper",
          "y": 0.9999999999999999,
          "yanchor": "bottom",
          "yref": "paper"
         },
         {
          "font": {},
          "showarrow": false,
          "text": "region=Midwest",
          "x": 0.755,
          "xanchor": "center",
          "xref": "paper",
          "y": 0.9999999999999999,
          "yanchor": "bottom",
          "yref": "paper"
         }
        ],
        "barmode": "relative",
        "legend": {
         "tracegroupgap": 0
        },
        "template": {
         "data": {
          "bar": [
           {
            "error_x": {
             "color": "#2a3f5f"
            },
            "error_y": {
             "color": "#2a3f5f"
            },
            "marker": {
             "line": {
              "color": "#E5ECF6",
              "width": 0.5
             },
             "pattern": {
              "fillmode": "overlay",
              "size": 10,
              "solidity": 0.2
             }
            },
            "type": "bar"
           }
          ],
          "barpolar": [
           {
            "marker": {
             "line": {
              "color": "#E5ECF6",
              "width": 0.5
             },
             "pattern": {
              "fillmode": "overlay",
              "size": 10,
              "solidity": 0.2
             }
            },
            "type": "barpolar"
           }
          ],
          "carpet": [
           {
            "aaxis": {
             "endlinecolor": "#2a3f5f",
             "gridcolor": "white",
             "linecolor": "white",
             "minorgridcolor": "white",
             "startlinecolor": "#2a3f5f"
            },
            "baxis": {
             "endlinecolor": "#2a3f5f",
             "gridcolor": "white",
             "linecolor": "white",
             "minorgridcolor": "white",
             "startlinecolor": "#2a3f5f"
            },
            "type": "carpet"
           }
          ],
          "choropleth": [
           {
            "colorbar": {
             "outlinewidth": 0,
             "ticks": ""
            },
            "type": "choropleth"
           }
          ],
          "contour": [
           {
            "colorbar": {
             "outlinewidth": 0,
             "ticks": ""
            },
            "colorscale": [
             [
              0,
              "#0d0887"
             ],
             [
              0.1111111111111111,
              "#46039f"
             ],
             [
              0.2222222222222222,
              "#7201a8"
             ],
             [
              0.3333333333333333,
              "#9c179e"
             ],
             [
              0.4444444444444444,
              "#bd3786"
             ],
             [
              0.5555555555555556,
              "#d8576b"
             ],
             [
              0.6666666666666666,
              "#ed7953"
             ],
             [
              0.7777777777777778,
              "#fb9f3a"
             ],
             [
              0.8888888888888888,
              "#fdca26"
             ],
             [
              1,
              "#f0f921"
             ]
            ],
            "type": "contour"
           }
          ],
          "contourcarpet": [
           {
            "colorbar": {
             "outlinewidth": 0,
             "ticks": ""
            },
            "type": "contourcarpet"
           }
          ],
          "heatmap": [
           {
            "colorbar": {
             "outlinewidth": 0,
             "ticks": ""
            },
            "colorscale": [
             [
              0,
              "#0d0887"
             ],
             [
              0.1111111111111111,
              "#46039f"
             ],
             [
              0.2222222222222222,
              "#7201a8"
             ],
             [
              0.3333333333333333,
              "#9c179e"
             ],
             [
              0.4444444444444444,
              "#bd3786"
             ],
             [
              0.5555555555555556,
              "#d8576b"
             ],
             [
              0.6666666666666666,
              "#ed7953"
             ],
             [
              0.7777777777777778,
              "#fb9f3a"
             ],
             [
              0.8888888888888888,
              "#fdca26"
             ],
             [
              1,
              "#f0f921"
             ]
            ],
            "type": "heatmap"
           }
          ],
          "heatmapgl": [
           {
            "colorbar": {
             "outlinewidth": 0,
             "ticks": ""
            },
            "colorscale": [
             [
              0,
              "#0d0887"
             ],
             [
              0.1111111111111111,
              "#46039f"
             ],
             [
              0.2222222222222222,
              "#7201a8"
             ],
             [
              0.3333333333333333,
              "#9c179e"
             ],
             [
              0.4444444444444444,
              "#bd3786"
             ],
             [
              0.5555555555555556,
              "#d8576b"
             ],
             [
              0.6666666666666666,
              "#ed7953"
             ],
             [
              0.7777777777777778,
              "#fb9f3a"
             ],
             [
              0.8888888888888888,
              "#fdca26"
             ],
             [
              1,
              "#f0f921"
             ]
            ],
            "type": "heatmapgl"
           }
          ],
          "histogram": [
           {
            "marker": {
             "pattern": {
              "fillmode": "overlay",
              "size": 10,
              "solidity": 0.2
             }
            },
            "type": "histogram"
           }
          ],
          "histogram2d": [
           {
            "colorbar": {
             "outlinewidth": 0,
             "ticks": ""
            },
            "colorscale": [
             [
              0,
              "#0d0887"
             ],
             [
              0.1111111111111111,
              "#46039f"
             ],
             [
              0.2222222222222222,
              "#7201a8"
             ],
             [
              0.3333333333333333,
              "#9c179e"
             ],
             [
              0.4444444444444444,
              "#bd3786"
             ],
             [
              0.5555555555555556,
              "#d8576b"
             ],
             [
              0.6666666666666666,
              "#ed7953"
             ],
             [
              0.7777777777777778,
              "#fb9f3a"
             ],
             [
              0.8888888888888888,
              "#fdca26"
             ],
             [
              1,
              "#f0f921"
             ]
            ],
            "type": "histogram2d"
           }
          ],
          "histogram2dcontour": [
           {
            "colorbar": {
             "outlinewidth": 0,
             "ticks": ""
            },
            "colorscale": [
             [
              0,
              "#0d0887"
             ],
             [
              0.1111111111111111,
              "#46039f"
             ],
             [
              0.2222222222222222,
              "#7201a8"
             ],
             [
              0.3333333333333333,
              "#9c179e"
             ],
             [
              0.4444444444444444,
              "#bd3786"
             ],
             [
              0.5555555555555556,
              "#d8576b"
             ],
             [
              0.6666666666666666,
              "#ed7953"
             ],
             [
              0.7777777777777778,
              "#fb9f3a"
             ],
             [
              0.8888888888888888,
              "#fdca26"
             ],
             [
              1,
              "#f0f921"
             ]
            ],
            "type": "histogram2dcontour"
           }
          ],
          "mesh3d": [
           {
            "colorbar": {
             "outlinewidth": 0,
             "ticks": ""
            },
            "type": "mesh3d"
           }
          ],
          "parcoords": [
           {
            "line": {
             "colorbar": {
              "outlinewidth": 0,
              "ticks": ""
             }
            },
            "type": "parcoords"
           }
          ],
          "pie": [
           {
            "automargin": true,
            "type": "pie"
           }
          ],
          "scatter": [
           {
            "fillpattern": {
             "fillmode": "overlay",
             "size": 10,
             "solidity": 0.2
            },
            "type": "scatter"
           }
          ],
          "scatter3d": [
           {
            "line": {
             "colorbar": {
              "outlinewidth": 0,
              "ticks": ""
             }
            },
            "marker": {
             "colorbar": {
              "outlinewidth": 0,
              "ticks": ""
             }
            },
            "type": "scatter3d"
           }
          ],
          "scattercarpet": [
           {
            "marker": {
             "colorbar": {
              "outlinewidth": 0,
              "ticks": ""
             }
            },
            "type": "scattercarpet"
           }
          ],
          "scattergeo": [
           {
            "marker": {
             "colorbar": {
              "outlinewidth": 0,
              "ticks": ""
             }
            },
            "type": "scattergeo"
           }
          ],
          "scattergl": [
           {
            "marker": {
             "colorbar": {
              "outlinewidth": 0,
              "ticks": ""
             }
            },
            "type": "scattergl"
           }
          ],
          "scattermapbox": [
           {
            "marker": {
             "colorbar": {
              "outlinewidth": 0,
              "ticks": ""
             }
            },
            "type": "scattermapbox"
           }
          ],
          "scatterpolar": [
           {
            "marker": {
             "colorbar": {
              "outlinewidth": 0,
              "ticks": ""
             }
            },
            "type": "scatterpolar"
           }
          ],
          "scatterpolargl": [
           {
            "marker": {
             "colorbar": {
              "outlinewidth": 0,
              "ticks": ""
             }
            },
            "type": "scatterpolargl"
           }
          ],
          "scatterternary": [
           {
            "marker": {
             "colorbar": {
              "outlinewidth": 0,
              "ticks": ""
             }
            },
            "type": "scatterternary"
           }
          ],
          "surface": [
           {
            "colorbar": {
             "outlinewidth": 0,
             "ticks": ""
            },
            "colorscale": [
             [
              0,
              "#0d0887"
             ],
             [
              0.1111111111111111,
              "#46039f"
             ],
             [
              0.2222222222222222,
              "#7201a8"
             ],
             [
              0.3333333333333333,
              "#9c179e"
             ],
             [
              0.4444444444444444,
              "#bd3786"
             ],
             [
              0.5555555555555556,
              "#d8576b"
             ],
             [
              0.6666666666666666,
              "#ed7953"
             ],
             [
              0.7777777777777778,
              "#fb9f3a"
             ],
             [
              0.8888888888888888,
              "#fdca26"
             ],
             [
              1,
              "#f0f921"
             ]
            ],
            "type": "surface"
           }
          ],
          "table": [
           {
            "cells": {
             "fill": {
              "color": "#EBF0F8"
             },
             "line": {
              "color": "white"
             }
            },
            "header": {
             "fill": {
              "color": "#C8D4E3"
             },
             "line": {
              "color": "white"
             }
            },
            "type": "table"
           }
          ]
         },
         "layout": {
          "annotationdefaults": {
           "arrowcolor": "#2a3f5f",
           "arrowhead": 0,
           "arrowwidth": 1
          },
          "autotypenumbers": "strict",
          "coloraxis": {
           "colorbar": {
            "outlinewidth": 0,
            "ticks": ""
           }
          },
          "colorscale": {
           "diverging": [
            [
             0,
             "#8e0152"
            ],
            [
             0.1,
             "#c51b7d"
            ],
            [
             0.2,
             "#de77ae"
            ],
            [
             0.3,
             "#f1b6da"
            ],
            [
             0.4,
             "#fde0ef"
            ],
            [
             0.5,
             "#f7f7f7"
            ],
            [
             0.6,
             "#e6f5d0"
            ],
            [
             0.7,
             "#b8e186"
            ],
            [
             0.8,
             "#7fbc41"
            ],
            [
             0.9,
             "#4d9221"
            ],
            [
             1,
             "#276419"
            ]
           ],
           "sequential": [
            [
             0,
             "#0d0887"
            ],
            [
             0.1111111111111111,
             "#46039f"
            ],
            [
             0.2222222222222222,
             "#7201a8"
            ],
            [
             0.3333333333333333,
             "#9c179e"
            ],
            [
             0.4444444444444444,
             "#bd3786"
            ],
            [
             0.5555555555555556,
             "#d8576b"
            ],
            [
             0.6666666666666666,
             "#ed7953"
            ],
            [
             0.7777777777777778,
             "#fb9f3a"
            ],
            [
             0.8888888888888888,
             "#fdca26"
            ],
            [
             1,
             "#f0f921"
            ]
           ],
           "sequentialminus": [
            [
             0,
             "#0d0887"
            ],
            [
             0.1111111111111111,
             "#46039f"
            ],
            [
             0.2222222222222222,
             "#7201a8"
            ],
            [
             0.3333333333333333,
             "#9c179e"
            ],
            [
             0.4444444444444444,
             "#bd3786"
            ],
            [
             0.5555555555555556,
             "#d8576b"
            ],
            [
             0.6666666666666666,
             "#ed7953"
            ],
            [
             0.7777777777777778,
             "#fb9f3a"
            ],
            [
             0.8888888888888888,
             "#fdca26"
            ],
            [
             1,
             "#f0f921"
            ]
           ]
          },
          "colorway": [
           "#636efa",
           "#EF553B",
           "#00cc96",
           "#ab63fa",
           "#FFA15A",
           "#19d3f3",
           "#FF6692",
           "#B6E880",
           "#FF97FF",
           "#FECB52"
          ],
          "font": {
           "color": "#2a3f5f"
          },
          "geo": {
           "bgcolor": "white",
           "lakecolor": "white",
           "landcolor": "#E5ECF6",
           "showlakes": true,
           "showland": true,
           "subunitcolor": "white"
          },
          "hoverlabel": {
           "align": "left"
          },
          "hovermode": "closest",
          "mapbox": {
           "style": "light"
          },
          "paper_bgcolor": "white",
          "plot_bgcolor": "#E5ECF6",
          "polar": {
           "angularaxis": {
            "gridcolor": "white",
            "linecolor": "white",
            "ticks": ""
           },
           "bgcolor": "#E5ECF6",
           "radialaxis": {
            "gridcolor": "white",
            "linecolor": "white",
            "ticks": ""
           }
          },
          "scene": {
           "xaxis": {
            "backgroundcolor": "#E5ECF6",
            "gridcolor": "white",
            "gridwidth": 2,
            "linecolor": "white",
            "showbackground": true,
            "ticks": "",
            "zerolinecolor": "white"
           },
           "yaxis": {
            "backgroundcolor": "#E5ECF6",
            "gridcolor": "white",
            "gridwidth": 2,
            "linecolor": "white",
            "showbackground": true,
            "ticks": "",
            "zerolinecolor": "white"
           },
           "zaxis": {
            "backgroundcolor": "#E5ECF6",
            "gridcolor": "white",
            "gridwidth": 2,
            "linecolor": "white",
            "showbackground": true,
            "ticks": "",
            "zerolinecolor": "white"
           }
          },
          "shapedefaults": {
           "line": {
            "color": "#2a3f5f"
           }
          },
          "ternary": {
           "aaxis": {
            "gridcolor": "white",
            "linecolor": "white",
            "ticks": ""
           },
           "baxis": {
            "gridcolor": "white",
            "linecolor": "white",
            "ticks": ""
           },
           "bgcolor": "#E5ECF6",
           "caxis": {
            "gridcolor": "white",
            "linecolor": "white",
            "ticks": ""
           }
          },
          "title": {
           "x": 0.05
          },
          "xaxis": {
           "automargin": true,
           "gridcolor": "white",
           "linecolor": "white",
           "ticks": "",
           "title": {
            "standoff": 15
           },
           "zerolinecolor": "white",
           "zerolinewidth": 2
          },
          "yaxis": {
           "automargin": true,
           "gridcolor": "white",
           "linecolor": "white",
           "ticks": "",
           "title": {
            "standoff": 15
           },
           "zerolinecolor": "white",
           "zerolinewidth": 2
          }
         }
        },
        "title": {
         "text": "Average Student Count Bin Distribution"
        },
        "xaxis": {
         "anchor": "y",
         "domain": [
          0,
          0.49
         ],
         "title": {
          "text": ""
         }
        },
        "xaxis2": {
         "anchor": "y2",
         "domain": [
          0.51,
          1
         ],
         "matches": "x",
         "title": {
          "text": ""
         }
        },
        "xaxis3": {
         "anchor": "y3",
         "domain": [
          0,
          0.49
         ],
         "matches": "x",
         "showticklabels": false,
         "title": {
          "text": ""
         }
        },
        "xaxis4": {
         "anchor": "y4",
         "domain": [
          0.51,
          1
         ],
         "matches": "x",
         "showticklabels": false,
         "title": {
          "text": ""
         }
        },
        "xaxis5": {
         "anchor": "y5",
         "domain": [
          0,
          0.49
         ],
         "matches": "x",
         "showticklabels": false,
         "title": {
          "text": ""
         }
        },
        "xaxis6": {
         "anchor": "y6",
         "domain": [
          0.51,
          1
         ],
         "matches": "x",
         "showticklabels": false,
         "title": {
          "text": ""
         }
        },
        "yaxis": {
         "anchor": "x",
         "domain": [
          0,
          0.2866666666666666
         ],
         "title": {
          "text": ""
         }
        },
        "yaxis2": {
         "anchor": "x2",
         "domain": [
          0,
          0.2866666666666666
         ],
         "matches": "y",
         "showticklabels": false,
         "title": {
          "text": ""
         }
        },
        "yaxis3": {
         "anchor": "x3",
         "domain": [
          0.35666666666666663,
          0.6433333333333333
         ],
         "matches": "y",
         "title": {
          "text": ""
         }
        },
        "yaxis4": {
         "anchor": "x4",
         "domain": [
          0.35666666666666663,
          0.6433333333333333
         ],
         "matches": "y",
         "showticklabels": false,
         "title": {
          "text": ""
         }
        },
        "yaxis5": {
         "anchor": "x5",
         "domain": [
          0.7133333333333333,
          0.9999999999999999
         ],
         "matches": "y",
         "title": {
          "text": ""
         }
        },
        "yaxis6": {
         "anchor": "x6",
         "domain": [
          0.7133333333333333,
          0.9999999999999999
         ],
         "matches": "y",
         "showticklabels": false,
         "title": {
          "text": ""
         }
        }
       }
      }
     },
     "metadata": {},
     "output_type": "display_data"
    }
   ],
   "source": [
    "hist = px.histogram(regional_aggregations_w_exp_title, \n",
    "                    x='student_count binned', \n",
    "                    y= 'student_count',\n",
    "                    histfunc='avg',  \n",
    "                    facet_col='region',\n",
    "                    facet_col_wrap=2,\n",
    "                    title= 'Average Student Count Bin Distribution')\n",
    "\n",
    "for axis in hist.layout:\n",
    "    if axis.startswith('yaxis') or axis.startswith('xaxis'):\n",
    "        hist.layout[axis].title.text = ''\n",
    "\n",
    "\n",
    "hist.show()"
   ]
  },
  {
   "cell_type": "code",
   "execution_count": 111,
   "metadata": {},
   "outputs": [
    {
     "data": {
      "application/vnd.plotly.v1+json": {
       "config": {
        "plotlyServerURL": "https://plot.ly"
       },
       "data": [
        {
         "alignmentgroup": "True",
         "hovertemplate": "expenditure_title=teacher_salaries_vocational_education<br>region=Pacific Northwest<br>year=%{x}<br>cost_per_student=%{y}<extra></extra>",
         "legendgroup": "teacher_salaries_vocational_education",
         "marker": {
          "color": "#636efa",
          "pattern": {
           "shape": ""
          }
         },
         "name": "teacher_salaries_vocational_education",
         "offsetgroup": "teacher_salaries_vocational_education",
         "orientation": "v",
         "showlegend": true,
         "textposition": "auto",
         "type": "bar",
         "x": [
          2010,
          2011,
          2012,
          2013,
          2014,
          2015,
          2016,
          2017,
          2018,
          2019,
          2020
         ],
         "xaxis": "x5",
         "y": [
          128.35177815800876,
          131.89359856733702,
          128.7878082670395,
          133.1323025863617,
          135.71528392989836,
          138.82849465346027,
          146.3295346886396,
          155.23307945703345,
          164.6250231555148,
          191.29414783669125,
          198.96821287176869
         ],
         "yaxis": "y5"
        },
        {
         "alignmentgroup": "True",
         "hovertemplate": "expenditure_title=teacher_salaries_vocational_education<br>region=Midwest<br>year=%{x}<br>cost_per_student=%{y}<extra></extra>",
         "legendgroup": "teacher_salaries_vocational_education",
         "marker": {
          "color": "#636efa",
          "pattern": {
           "shape": ""
          }
         },
         "name": "teacher_salaries_vocational_education",
         "offsetgroup": "teacher_salaries_vocational_education",
         "orientation": "v",
         "showlegend": false,
         "textposition": "auto",
         "type": "bar",
         "x": [
          2010,
          2011,
          2012,
          2013,
          2014,
          2015,
          2016,
          2017,
          2018,
          2019,
          2020
         ],
         "xaxis": "x6",
         "y": [
          148.37448746034133,
          138.9418130854239,
          134.68444803328072,
          133.70744098827444,
          131.84030545509592,
          128.16645913211485,
          129.15241513588023,
          133.62436919069796,
          130.71014164823245,
          137.5573027008063,
          141.8915065381737
         ],
         "yaxis": "y6"
        },
        {
         "alignmentgroup": "True",
         "hovertemplate": "expenditure_title=teacher_salaries_vocational_education<br>region=Southeast<br>year=%{x}<br>cost_per_student=%{y}<extra></extra>",
         "legendgroup": "teacher_salaries_vocational_education",
         "marker": {
          "color": "#636efa",
          "pattern": {
           "shape": ""
          }
         },
         "name": "teacher_salaries_vocational_education",
         "offsetgroup": "teacher_salaries_vocational_education",
         "orientation": "v",
         "showlegend": false,
         "textposition": "auto",
         "type": "bar",
         "x": [
          2010,
          2011,
          2012,
          2013,
          2014,
          2015,
          2016,
          2017,
          2018,
          2019,
          2020
         ],
         "xaxis": "x3",
         "y": [
          116.94141716418281,
          112.90707282508053,
          110.22543393561669,
          107.43554335888255,
          108.9057072805285,
          112.4317513712754,
          112.89365302134023,
          117.77044076433197,
          120.24668920935507,
          124.01581915415976,
          128.1729016778424
         ],
         "yaxis": "y3"
        },
        {
         "alignmentgroup": "True",
         "hovertemplate": "expenditure_title=teacher_salaries_vocational_education<br>region=South<br>year=%{x}<br>cost_per_student=%{y}<extra></extra>",
         "legendgroup": "teacher_salaries_vocational_education",
         "marker": {
          "color": "#636efa",
          "pattern": {
           "shape": ""
          }
         },
         "name": "teacher_salaries_vocational_education",
         "offsetgroup": "teacher_salaries_vocational_education",
         "orientation": "v",
         "showlegend": false,
         "textposition": "auto",
         "type": "bar",
         "x": [
          2010,
          2011,
          2012,
          2013,
          2014,
          2015,
          2016,
          2017,
          2018,
          2019,
          2020
         ],
         "xaxis": "x4",
         "y": [
          141.4275081652817,
          131.38873184366398,
          129.72572410789542,
          130.0191514408161,
          132.30402640778786,
          135.6486203931167,
          139.0974066178419,
          141.5369154404525,
          146.65322316773754,
          151.6254978500482,
          160.8294876411638
         ],
         "yaxis": "y4"
        },
        {
         "alignmentgroup": "True",
         "hovertemplate": "expenditure_title=teacher_salaries_vocational_education<br>region=Northeast<br>year=%{x}<br>cost_per_student=%{y}<extra></extra>",
         "legendgroup": "teacher_salaries_vocational_education",
         "marker": {
          "color": "#636efa",
          "pattern": {
           "shape": ""
          }
         },
         "name": "teacher_salaries_vocational_education",
         "offsetgroup": "teacher_salaries_vocational_education",
         "orientation": "v",
         "showlegend": false,
         "textposition": "auto",
         "type": "bar",
         "x": [
          2010,
          2011,
          2012,
          2013,
          2014,
          2015,
          2016,
          2017,
          2018,
          2019,
          2020
         ],
         "xaxis": "x",
         "y": [
          168.2878169176889,
          171.52372417608728,
          172.66903274653149,
          172.4120082198058,
          183.12570835256602,
          178.71170323175542,
          198.37392758059792,
          202.82434834950124,
          202.58834455413216,
          217.43041948351518,
          229.70936846061454
         ],
         "yaxis": "y"
        },
        {
         "alignmentgroup": "True",
         "hovertemplate": "expenditure_title=teacher_salaries_vocational_education<br>region=West<br>year=%{x}<br>cost_per_student=%{y}<extra></extra>",
         "legendgroup": "teacher_salaries_vocational_education",
         "marker": {
          "color": "#636efa",
          "pattern": {
           "shape": ""
          }
         },
         "name": "teacher_salaries_vocational_education",
         "offsetgroup": "teacher_salaries_vocational_education",
         "orientation": "v",
         "showlegend": false,
         "textposition": "auto",
         "type": "bar",
         "x": [
          2010,
          2011,
          2012,
          2013,
          2014,
          2015,
          2016,
          2017,
          2018,
          2019,
          2020
         ],
         "xaxis": "x2",
         "y": [
          36.45946842424696,
          34.38281403879148,
          33.14205781803226,
          40.18073424911384,
          43.61424516481194,
          45.71530898882075,
          55.917016575223585,
          65.9938995774766,
          66.10583333532344,
          71.42221166973349,
          76.9534468751127
         ],
         "yaxis": "y2"
        },
        {
         "alignmentgroup": "True",
         "hovertemplate": "expenditure_title=tech_related_equipment<br>region=Pacific Northwest<br>year=%{x}<br>cost_per_student=%{y}<extra></extra>",
         "legendgroup": "tech_related_equipment",
         "marker": {
          "color": "#EF553B",
          "pattern": {
           "shape": ""
          }
         },
         "name": "tech_related_equipment",
         "offsetgroup": "tech_related_equipment",
         "orientation": "v",
         "showlegend": true,
         "textposition": "auto",
         "type": "bar",
         "x": [
          2016,
          2017,
          2018,
          2019,
          2020
         ],
         "xaxis": "x5",
         "y": [
          22.399651719634306,
          23.112910746446133,
          28.270206275546798,
          19.296759490089386,
          17.230623702912407
         ],
         "yaxis": "y5"
        },
        {
         "alignmentgroup": "True",
         "hovertemplate": "expenditure_title=tech_related_equipment<br>region=Midwest<br>year=%{x}<br>cost_per_student=%{y}<extra></extra>",
         "legendgroup": "tech_related_equipment",
         "marker": {
          "color": "#EF553B",
          "pattern": {
           "shape": ""
          }
         },
         "name": "tech_related_equipment",
         "offsetgroup": "tech_related_equipment",
         "orientation": "v",
         "showlegend": false,
         "textposition": "auto",
         "type": "bar",
         "x": [
          2015,
          2016,
          2017,
          2018,
          2019,
          2020
         ],
         "xaxis": "x6",
         "y": [
          106.28742280383673,
          110.59717393880736,
          86.40900919748638,
          85.86123879636378,
          95.80178595699516,
          60.25223338559346
         ],
         "yaxis": "y6"
        },
        {
         "alignmentgroup": "True",
         "hovertemplate": "expenditure_title=tech_related_equipment<br>region=Southeast<br>year=%{x}<br>cost_per_student=%{y}<extra></extra>",
         "legendgroup": "tech_related_equipment",
         "marker": {
          "color": "#EF553B",
          "pattern": {
           "shape": ""
          }
         },
         "name": "tech_related_equipment",
         "offsetgroup": "tech_related_equipment",
         "orientation": "v",
         "showlegend": false,
         "textposition": "auto",
         "type": "bar",
         "x": [
          2015,
          2016,
          2017,
          2018,
          2019,
          2020
         ],
         "xaxis": "x3",
         "y": [
          40.409420131926886,
          32.433387797140334,
          31.038804918021963,
          43.481959180721766,
          48.551292902525745,
          41.14083769966041
         ],
         "yaxis": "y3"
        },
        {
         "alignmentgroup": "True",
         "hovertemplate": "expenditure_title=tech_related_equipment<br>region=South<br>year=%{x}<br>cost_per_student=%{y}<extra></extra>",
         "legendgroup": "tech_related_equipment",
         "marker": {
          "color": "#EF553B",
          "pattern": {
           "shape": ""
          }
         },
         "name": "tech_related_equipment",
         "offsetgroup": "tech_related_equipment",
         "orientation": "v",
         "showlegend": false,
         "textposition": "auto",
         "type": "bar",
         "x": [
          2015,
          2016,
          2017,
          2018,
          2019,
          2020
         ],
         "xaxis": "x4",
         "y": [
          49.04843121128928,
          51.14347703606324,
          51.22538233410271,
          54.48629100605167,
          55.01741764256644,
          52.051386692059495
         ],
         "yaxis": "y4"
        },
        {
         "alignmentgroup": "True",
         "hovertemplate": "expenditure_title=tech_related_equipment<br>region=Northeast<br>year=%{x}<br>cost_per_student=%{y}<extra></extra>",
         "legendgroup": "tech_related_equipment",
         "marker": {
          "color": "#EF553B",
          "pattern": {
           "shape": ""
          }
         },
         "name": "tech_related_equipment",
         "offsetgroup": "tech_related_equipment",
         "orientation": "v",
         "showlegend": false,
         "textposition": "auto",
         "type": "bar",
         "x": [
          2015,
          2016,
          2017,
          2018,
          2019,
          2020
         ],
         "xaxis": "x",
         "y": [
          207.35060264241235,
          111.43331233874397,
          84.09782908061176,
          81.79138646677221,
          81.48959983743944,
          93.76355462383096
         ],
         "yaxis": "y"
        },
        {
         "alignmentgroup": "True",
         "hovertemplate": "expenditure_title=tech_related_equipment<br>region=West<br>year=%{x}<br>cost_per_student=%{y}<extra></extra>",
         "legendgroup": "tech_related_equipment",
         "marker": {
          "color": "#EF553B",
          "pattern": {
           "shape": ""
          }
         },
         "name": "tech_related_equipment",
         "offsetgroup": "tech_related_equipment",
         "orientation": "v",
         "showlegend": false,
         "textposition": "auto",
         "type": "bar",
         "x": [
          2015,
          2016,
          2017,
          2018,
          2019,
          2020
         ],
         "xaxis": "x2",
         "y": [
          32.5097345275836,
          35.344653849032916,
          45.14762025687925,
          46.52387937058909,
          40.72316541763617,
          41.91758827760828
         ],
         "yaxis": "y2"
        },
        {
         "alignmentgroup": "True",
         "hovertemplate": "expenditure_title=tech_related_supplies_services<br>region=Pacific Northwest<br>year=%{x}<br>cost_per_student=%{y}<extra></extra>",
         "legendgroup": "tech_related_supplies_services",
         "marker": {
          "color": "#00cc96",
          "pattern": {
           "shape": ""
          }
         },
         "name": "tech_related_supplies_services",
         "offsetgroup": "tech_related_supplies_services",
         "orientation": "v",
         "showlegend": true,
         "textposition": "auto",
         "type": "bar",
         "x": [
          2018,
          2020
         ],
         "xaxis": "x5",
         "y": [
          75.59864845012487,
          138.27164839806915
         ],
         "yaxis": "y5"
        },
        {
         "alignmentgroup": "True",
         "hovertemplate": "expenditure_title=tech_related_supplies_services<br>region=Midwest<br>year=%{x}<br>cost_per_student=%{y}<extra></extra>",
         "legendgroup": "tech_related_supplies_services",
         "marker": {
          "color": "#00cc96",
          "pattern": {
           "shape": ""
          }
         },
         "name": "tech_related_supplies_services",
         "offsetgroup": "tech_related_supplies_services",
         "orientation": "v",
         "showlegend": false,
         "textposition": "auto",
         "type": "bar",
         "x": [
          2015,
          2016,
          2017,
          2018,
          2019,
          2020
         ],
         "xaxis": "x6",
         "y": [
          84.55575282811014,
          204.49932842159322,
          200.70710035100768,
          192.36158920439019,
          221.76070410980165,
          234.08777318615486
         ],
         "yaxis": "y6"
        },
        {
         "alignmentgroup": "True",
         "hovertemplate": "expenditure_title=tech_related_supplies_services<br>region=Southeast<br>year=%{x}<br>cost_per_student=%{y}<extra></extra>",
         "legendgroup": "tech_related_supplies_services",
         "marker": {
          "color": "#00cc96",
          "pattern": {
           "shape": ""
          }
         },
         "name": "tech_related_supplies_services",
         "offsetgroup": "tech_related_supplies_services",
         "orientation": "v",
         "showlegend": false,
         "textposition": "auto",
         "type": "bar",
         "x": [
          2015,
          2016,
          2017,
          2018,
          2019,
          2020
         ],
         "xaxis": "x3",
         "y": [
          159.97067638841773,
          185.46922110848226,
          201.39285510532773,
          198.03256189424104,
          207.75995211543207,
          252.88706848988062
         ],
         "yaxis": "y3"
        },
        {
         "alignmentgroup": "True",
         "hovertemplate": "expenditure_title=tech_related_supplies_services<br>region=South<br>year=%{x}<br>cost_per_student=%{y}<extra></extra>",
         "legendgroup": "tech_related_supplies_services",
         "marker": {
          "color": "#00cc96",
          "pattern": {
           "shape": ""
          }
         },
         "name": "tech_related_supplies_services",
         "offsetgroup": "tech_related_supplies_services",
         "orientation": "v",
         "showlegend": false,
         "textposition": "auto",
         "type": "bar",
         "x": [
          2015,
          2016,
          2017,
          2018,
          2019,
          2020
         ],
         "xaxis": "x4",
         "y": [
          109.93997038500457,
          229.99034693128945,
          245.0354695612184,
          252.1934231459955,
          265.9245121953763,
          270.33350521868107
         ],
         "yaxis": "y4"
        },
        {
         "alignmentgroup": "True",
         "hovertemplate": "expenditure_title=tech_related_supplies_services<br>region=Northeast<br>year=%{x}<br>cost_per_student=%{y}<extra></extra>",
         "legendgroup": "tech_related_supplies_services",
         "marker": {
          "color": "#00cc96",
          "pattern": {
           "shape": ""
          }
         },
         "name": "tech_related_supplies_services",
         "offsetgroup": "tech_related_supplies_services",
         "orientation": "v",
         "showlegend": false,
         "textposition": "auto",
         "type": "bar",
         "x": [
          2015,
          2016,
          2017,
          2018,
          2019,
          2020
         ],
         "xaxis": "x",
         "y": [
          105.28036619257806,
          125.72200835275486,
          162.20446641011867,
          166.30775588968925,
          182.66804146763133,
          181.39721401687666
         ],
         "yaxis": "y"
        },
        {
         "alignmentgroup": "True",
         "hovertemplate": "expenditure_title=tech_related_supplies_services<br>region=West<br>year=%{x}<br>cost_per_student=%{y}<extra></extra>",
         "legendgroup": "tech_related_supplies_services",
         "marker": {
          "color": "#00cc96",
          "pattern": {
           "shape": ""
          }
         },
         "name": "tech_related_supplies_services",
         "offsetgroup": "tech_related_supplies_services",
         "orientation": "v",
         "showlegend": false,
         "textposition": "auto",
         "type": "bar",
         "x": [
          2015,
          2016,
          2017,
          2018,
          2019,
          2020
         ],
         "xaxis": "x2",
         "y": [
          137.59152881273312,
          142.55917259833288,
          130.44413572815085,
          149.64025636368876,
          178.25353484195665,
          214.4737940078488
         ],
         "yaxis": "y2"
        },
        {
         "alignmentgroup": "True",
         "hovertemplate": "expenditure_title=cares_act_expenditure_tech_related_equipment<br>region=Pacific Northwest<br>year=%{x}<br>cost_per_student=%{y}<extra></extra>",
         "legendgroup": "cares_act_expenditure_tech_related_equipment",
         "marker": {
          "color": "#ab63fa",
          "pattern": {
           "shape": ""
          }
         },
         "name": "cares_act_expenditure_tech_related_equipment",
         "offsetgroup": "cares_act_expenditure_tech_related_equipment",
         "orientation": "v",
         "showlegend": true,
         "textposition": "auto",
         "type": "bar",
         "x": [
          2020
         ],
         "xaxis": "x5",
         "y": [
          0.9416651632292955
         ],
         "yaxis": "y5"
        },
        {
         "alignmentgroup": "True",
         "hovertemplate": "expenditure_title=cares_act_expenditure_tech_related_equipment<br>region=Midwest<br>year=%{x}<br>cost_per_student=%{y}<extra></extra>",
         "legendgroup": "cares_act_expenditure_tech_related_equipment",
         "marker": {
          "color": "#ab63fa",
          "pattern": {
           "shape": ""
          }
         },
         "name": "cares_act_expenditure_tech_related_equipment",
         "offsetgroup": "cares_act_expenditure_tech_related_equipment",
         "orientation": "v",
         "showlegend": false,
         "textposition": "auto",
         "type": "bar",
         "x": [
          2020
         ],
         "xaxis": "x6",
         "y": [
          1.9804222717015814
         ],
         "yaxis": "y6"
        },
        {
         "alignmentgroup": "True",
         "hovertemplate": "expenditure_title=cares_act_expenditure_tech_related_equipment<br>region=South<br>year=%{x}<br>cost_per_student=%{y}<extra></extra>",
         "legendgroup": "cares_act_expenditure_tech_related_equipment",
         "marker": {
          "color": "#ab63fa",
          "pattern": {
           "shape": ""
          }
         },
         "name": "cares_act_expenditure_tech_related_equipment",
         "offsetgroup": "cares_act_expenditure_tech_related_equipment",
         "orientation": "v",
         "showlegend": false,
         "textposition": "auto",
         "type": "bar",
         "x": [
          2020
         ],
         "xaxis": "x4",
         "y": [
          2.405360467686651
         ],
         "yaxis": "y4"
        },
        {
         "alignmentgroup": "True",
         "hovertemplate": "expenditure_title=cares_act_expenditure_tech_related_equipment<br>region=Northeast<br>year=%{x}<br>cost_per_student=%{y}<extra></extra>",
         "legendgroup": "cares_act_expenditure_tech_related_equipment",
         "marker": {
          "color": "#ab63fa",
          "pattern": {
           "shape": ""
          }
         },
         "name": "cares_act_expenditure_tech_related_equipment",
         "offsetgroup": "cares_act_expenditure_tech_related_equipment",
         "orientation": "v",
         "showlegend": false,
         "textposition": "auto",
         "type": "bar",
         "x": [
          2020
         ],
         "xaxis": "x",
         "y": [
          2.84612589031358
         ],
         "yaxis": "y"
        },
        {
         "alignmentgroup": "True",
         "hovertemplate": "expenditure_title=cares_act_expenditure_tech_related_equipment<br>region=West<br>year=%{x}<br>cost_per_student=%{y}<extra></extra>",
         "legendgroup": "cares_act_expenditure_tech_related_equipment",
         "marker": {
          "color": "#ab63fa",
          "pattern": {
           "shape": ""
          }
         },
         "name": "cares_act_expenditure_tech_related_equipment",
         "offsetgroup": "cares_act_expenditure_tech_related_equipment",
         "orientation": "v",
         "showlegend": false,
         "textposition": "auto",
         "type": "bar",
         "x": [
          2020
         ],
         "xaxis": "x2",
         "y": [
          2.6387337815998886
         ],
         "yaxis": "y2"
        },
        {
         "alignmentgroup": "True",
         "hovertemplate": "expenditure_title=cares_act_expenditure_tech_related_supplies_services<br>region=Pacific Northwest<br>year=%{x}<br>cost_per_student=%{y}<extra></extra>",
         "legendgroup": "cares_act_expenditure_tech_related_supplies_services",
         "marker": {
          "color": "#FFA15A",
          "pattern": {
           "shape": ""
          }
         },
         "name": "cares_act_expenditure_tech_related_supplies_services",
         "offsetgroup": "cares_act_expenditure_tech_related_supplies_services",
         "orientation": "v",
         "showlegend": true,
         "textposition": "auto",
         "type": "bar",
         "x": [
          2020
         ],
         "xaxis": "x5",
         "y": [
          3.8221044896306826
         ],
         "yaxis": "y5"
        },
        {
         "alignmentgroup": "True",
         "hovertemplate": "expenditure_title=cares_act_expenditure_tech_related_supplies_services<br>region=Midwest<br>year=%{x}<br>cost_per_student=%{y}<extra></extra>",
         "legendgroup": "cares_act_expenditure_tech_related_supplies_services",
         "marker": {
          "color": "#FFA15A",
          "pattern": {
           "shape": ""
          }
         },
         "name": "cares_act_expenditure_tech_related_supplies_services",
         "offsetgroup": "cares_act_expenditure_tech_related_supplies_services",
         "orientation": "v",
         "showlegend": false,
         "textposition": "auto",
         "type": "bar",
         "x": [
          2020
         ],
         "xaxis": "x6",
         "y": [
          2.731737951573247
         ],
         "yaxis": "y6"
        },
        {
         "alignmentgroup": "True",
         "hovertemplate": "expenditure_title=cares_act_expenditure_tech_related_supplies_services<br>region=Southeast<br>year=%{x}<br>cost_per_student=%{y}<extra></extra>",
         "legendgroup": "cares_act_expenditure_tech_related_supplies_services",
         "marker": {
          "color": "#FFA15A",
          "pattern": {
           "shape": ""
          }
         },
         "name": "cares_act_expenditure_tech_related_supplies_services",
         "offsetgroup": "cares_act_expenditure_tech_related_supplies_services",
         "orientation": "v",
         "showlegend": false,
         "textposition": "auto",
         "type": "bar",
         "x": [
          2020
         ],
         "xaxis": "x3",
         "y": [
          2.192975553374576
         ],
         "yaxis": "y3"
        },
        {
         "alignmentgroup": "True",
         "hovertemplate": "expenditure_title=cares_act_expenditure_tech_related_supplies_services<br>region=South<br>year=%{x}<br>cost_per_student=%{y}<extra></extra>",
         "legendgroup": "cares_act_expenditure_tech_related_supplies_services",
         "marker": {
          "color": "#FFA15A",
          "pattern": {
           "shape": ""
          }
         },
         "name": "cares_act_expenditure_tech_related_supplies_services",
         "offsetgroup": "cares_act_expenditure_tech_related_supplies_services",
         "orientation": "v",
         "showlegend": false,
         "textposition": "auto",
         "type": "bar",
         "x": [
          2020
         ],
         "xaxis": "x4",
         "y": [
          23.786836254262063
         ],
         "yaxis": "y4"
        },
        {
         "alignmentgroup": "True",
         "hovertemplate": "expenditure_title=cares_act_expenditure_tech_related_supplies_services<br>region=Northeast<br>year=%{x}<br>cost_per_student=%{y}<extra></extra>",
         "legendgroup": "cares_act_expenditure_tech_related_supplies_services",
         "marker": {
          "color": "#FFA15A",
          "pattern": {
           "shape": ""
          }
         },
         "name": "cares_act_expenditure_tech_related_supplies_services",
         "offsetgroup": "cares_act_expenditure_tech_related_supplies_services",
         "orientation": "v",
         "showlegend": false,
         "textposition": "auto",
         "type": "bar",
         "x": [
          2020
         ],
         "xaxis": "x",
         "y": [
          5.481005344764139
         ],
         "yaxis": "y"
        },
        {
         "alignmentgroup": "True",
         "hovertemplate": "expenditure_title=cares_act_expenditure_tech_related_supplies_services<br>region=West<br>year=%{x}<br>cost_per_student=%{y}<extra></extra>",
         "legendgroup": "cares_act_expenditure_tech_related_supplies_services",
         "marker": {
          "color": "#FFA15A",
          "pattern": {
           "shape": ""
          }
         },
         "name": "cares_act_expenditure_tech_related_supplies_services",
         "offsetgroup": "cares_act_expenditure_tech_related_supplies_services",
         "orientation": "v",
         "showlegend": false,
         "textposition": "auto",
         "type": "bar",
         "x": [
          2020
         ],
         "xaxis": "x2",
         "y": [
          5.27310827547051
         ],
         "yaxis": "y2"
        }
       ],
       "layout": {
        "annotations": [
         {
          "font": {
           "size": 10
          },
          "showarrow": false,
          "text": "region=Northeast",
          "x": 0.245,
          "xanchor": "center",
          "xref": "paper",
          "y": 0.2866666666666666,
          "yanchor": "bottom",
          "yref": "paper"
         },
         {
          "font": {
           "size": 10
          },
          "showarrow": false,
          "text": "region=West",
          "x": 0.755,
          "xanchor": "center",
          "xref": "paper",
          "y": 0.2866666666666666,
          "yanchor": "bottom",
          "yref": "paper"
         },
         {
          "font": {
           "size": 10
          },
          "showarrow": false,
          "text": "region=Southeast",
          "x": 0.245,
          "xanchor": "center",
          "xref": "paper",
          "y": 0.6433333333333333,
          "yanchor": "bottom",
          "yref": "paper"
         },
         {
          "font": {
           "size": 10
          },
          "showarrow": false,
          "text": "region=South",
          "x": 0.755,
          "xanchor": "center",
          "xref": "paper",
          "y": 0.6433333333333333,
          "yanchor": "bottom",
          "yref": "paper"
         },
         {
          "font": {
           "size": 10
          },
          "showarrow": false,
          "text": "region=Pacific Northwest",
          "x": 0.245,
          "xanchor": "center",
          "xref": "paper",
          "y": 0.9999999999999999,
          "yanchor": "bottom",
          "yref": "paper"
         },
         {
          "font": {
           "size": 10
          },
          "showarrow": false,
          "text": "region=Midwest",
          "x": 0.755,
          "xanchor": "center",
          "xref": "paper",
          "y": 0.9999999999999999,
          "yanchor": "bottom",
          "yref": "paper"
         }
        ],
        "barmode": "relative",
        "height": 800,
        "hoverlabel": {
         "bgcolor": "white",
         "font": {
          "family": "Calibri",
          "size": 16
         }
        },
        "legend": {
         "orientation": "h",
         "title": {
          "text": "expenditure_title"
         },
         "tracegroupgap": 0,
         "x": 0.5,
         "xanchor": "center",
         "y": -0.5,
         "yanchor": "bottom"
        },
        "margin": {
         "b": 200,
         "l": 40,
         "r": 40,
         "t": 80
        },
        "template": {
         "data": {
          "bar": [
           {
            "error_x": {
             "color": "#2a3f5f"
            },
            "error_y": {
             "color": "#2a3f5f"
            },
            "marker": {
             "line": {
              "color": "#E5ECF6",
              "width": 0.5
             },
             "pattern": {
              "fillmode": "overlay",
              "size": 10,
              "solidity": 0.2
             }
            },
            "type": "bar"
           }
          ],
          "barpolar": [
           {
            "marker": {
             "line": {
              "color": "#E5ECF6",
              "width": 0.5
             },
             "pattern": {
              "fillmode": "overlay",
              "size": 10,
              "solidity": 0.2
             }
            },
            "type": "barpolar"
           }
          ],
          "carpet": [
           {
            "aaxis": {
             "endlinecolor": "#2a3f5f",
             "gridcolor": "white",
             "linecolor": "white",
             "minorgridcolor": "white",
             "startlinecolor": "#2a3f5f"
            },
            "baxis": {
             "endlinecolor": "#2a3f5f",
             "gridcolor": "white",
             "linecolor": "white",
             "minorgridcolor": "white",
             "startlinecolor": "#2a3f5f"
            },
            "type": "carpet"
           }
          ],
          "choropleth": [
           {
            "colorbar": {
             "outlinewidth": 0,
             "ticks": ""
            },
            "type": "choropleth"
           }
          ],
          "contour": [
           {
            "colorbar": {
             "outlinewidth": 0,
             "ticks": ""
            },
            "colorscale": [
             [
              0,
              "#0d0887"
             ],
             [
              0.1111111111111111,
              "#46039f"
             ],
             [
              0.2222222222222222,
              "#7201a8"
             ],
             [
              0.3333333333333333,
              "#9c179e"
             ],
             [
              0.4444444444444444,
              "#bd3786"
             ],
             [
              0.5555555555555556,
              "#d8576b"
             ],
             [
              0.6666666666666666,
              "#ed7953"
             ],
             [
              0.7777777777777778,
              "#fb9f3a"
             ],
             [
              0.8888888888888888,
              "#fdca26"
             ],
             [
              1,
              "#f0f921"
             ]
            ],
            "type": "contour"
           }
          ],
          "contourcarpet": [
           {
            "colorbar": {
             "outlinewidth": 0,
             "ticks": ""
            },
            "type": "contourcarpet"
           }
          ],
          "heatmap": [
           {
            "colorbar": {
             "outlinewidth": 0,
             "ticks": ""
            },
            "colorscale": [
             [
              0,
              "#0d0887"
             ],
             [
              0.1111111111111111,
              "#46039f"
             ],
             [
              0.2222222222222222,
              "#7201a8"
             ],
             [
              0.3333333333333333,
              "#9c179e"
             ],
             [
              0.4444444444444444,
              "#bd3786"
             ],
             [
              0.5555555555555556,
              "#d8576b"
             ],
             [
              0.6666666666666666,
              "#ed7953"
             ],
             [
              0.7777777777777778,
              "#fb9f3a"
             ],
             [
              0.8888888888888888,
              "#fdca26"
             ],
             [
              1,
              "#f0f921"
             ]
            ],
            "type": "heatmap"
           }
          ],
          "heatmapgl": [
           {
            "colorbar": {
             "outlinewidth": 0,
             "ticks": ""
            },
            "colorscale": [
             [
              0,
              "#0d0887"
             ],
             [
              0.1111111111111111,
              "#46039f"
             ],
             [
              0.2222222222222222,
              "#7201a8"
             ],
             [
              0.3333333333333333,
              "#9c179e"
             ],
             [
              0.4444444444444444,
              "#bd3786"
             ],
             [
              0.5555555555555556,
              "#d8576b"
             ],
             [
              0.6666666666666666,
              "#ed7953"
             ],
             [
              0.7777777777777778,
              "#fb9f3a"
             ],
             [
              0.8888888888888888,
              "#fdca26"
             ],
             [
              1,
              "#f0f921"
             ]
            ],
            "type": "heatmapgl"
           }
          ],
          "histogram": [
           {
            "marker": {
             "pattern": {
              "fillmode": "overlay",
              "size": 10,
              "solidity": 0.2
             }
            },
            "type": "histogram"
           }
          ],
          "histogram2d": [
           {
            "colorbar": {
             "outlinewidth": 0,
             "ticks": ""
            },
            "colorscale": [
             [
              0,
              "#0d0887"
             ],
             [
              0.1111111111111111,
              "#46039f"
             ],
             [
              0.2222222222222222,
              "#7201a8"
             ],
             [
              0.3333333333333333,
              "#9c179e"
             ],
             [
              0.4444444444444444,
              "#bd3786"
             ],
             [
              0.5555555555555556,
              "#d8576b"
             ],
             [
              0.6666666666666666,
              "#ed7953"
             ],
             [
              0.7777777777777778,
              "#fb9f3a"
             ],
             [
              0.8888888888888888,
              "#fdca26"
             ],
             [
              1,
              "#f0f921"
             ]
            ],
            "type": "histogram2d"
           }
          ],
          "histogram2dcontour": [
           {
            "colorbar": {
             "outlinewidth": 0,
             "ticks": ""
            },
            "colorscale": [
             [
              0,
              "#0d0887"
             ],
             [
              0.1111111111111111,
              "#46039f"
             ],
             [
              0.2222222222222222,
              "#7201a8"
             ],
             [
              0.3333333333333333,
              "#9c179e"
             ],
             [
              0.4444444444444444,
              "#bd3786"
             ],
             [
              0.5555555555555556,
              "#d8576b"
             ],
             [
              0.6666666666666666,
              "#ed7953"
             ],
             [
              0.7777777777777778,
              "#fb9f3a"
             ],
             [
              0.8888888888888888,
              "#fdca26"
             ],
             [
              1,
              "#f0f921"
             ]
            ],
            "type": "histogram2dcontour"
           }
          ],
          "mesh3d": [
           {
            "colorbar": {
             "outlinewidth": 0,
             "ticks": ""
            },
            "type": "mesh3d"
           }
          ],
          "parcoords": [
           {
            "line": {
             "colorbar": {
              "outlinewidth": 0,
              "ticks": ""
             }
            },
            "type": "parcoords"
           }
          ],
          "pie": [
           {
            "automargin": true,
            "type": "pie"
           }
          ],
          "scatter": [
           {
            "fillpattern": {
             "fillmode": "overlay",
             "size": 10,
             "solidity": 0.2
            },
            "type": "scatter"
           }
          ],
          "scatter3d": [
           {
            "line": {
             "colorbar": {
              "outlinewidth": 0,
              "ticks": ""
             }
            },
            "marker": {
             "colorbar": {
              "outlinewidth": 0,
              "ticks": ""
             }
            },
            "type": "scatter3d"
           }
          ],
          "scattercarpet": [
           {
            "marker": {
             "colorbar": {
              "outlinewidth": 0,
              "ticks": ""
             }
            },
            "type": "scattercarpet"
           }
          ],
          "scattergeo": [
           {
            "marker": {
             "colorbar": {
              "outlinewidth": 0,
              "ticks": ""
             }
            },
            "type": "scattergeo"
           }
          ],
          "scattergl": [
           {
            "marker": {
             "colorbar": {
              "outlinewidth": 0,
              "ticks": ""
             }
            },
            "type": "scattergl"
           }
          ],
          "scattermapbox": [
           {
            "marker": {
             "colorbar": {
              "outlinewidth": 0,
              "ticks": ""
             }
            },
            "type": "scattermapbox"
           }
          ],
          "scatterpolar": [
           {
            "marker": {
             "colorbar": {
              "outlinewidth": 0,
              "ticks": ""
             }
            },
            "type": "scatterpolar"
           }
          ],
          "scatterpolargl": [
           {
            "marker": {
             "colorbar": {
              "outlinewidth": 0,
              "ticks": ""
             }
            },
            "type": "scatterpolargl"
           }
          ],
          "scatterternary": [
           {
            "marker": {
             "colorbar": {
              "outlinewidth": 0,
              "ticks": ""
             }
            },
            "type": "scatterternary"
           }
          ],
          "surface": [
           {
            "colorbar": {
             "outlinewidth": 0,
             "ticks": ""
            },
            "colorscale": [
             [
              0,
              "#0d0887"
             ],
             [
              0.1111111111111111,
              "#46039f"
             ],
             [
              0.2222222222222222,
              "#7201a8"
             ],
             [
              0.3333333333333333,
              "#9c179e"
             ],
             [
              0.4444444444444444,
              "#bd3786"
             ],
             [
              0.5555555555555556,
              "#d8576b"
             ],
             [
              0.6666666666666666,
              "#ed7953"
             ],
             [
              0.7777777777777778,
              "#fb9f3a"
             ],
             [
              0.8888888888888888,
              "#fdca26"
             ],
             [
              1,
              "#f0f921"
             ]
            ],
            "type": "surface"
           }
          ],
          "table": [
           {
            "cells": {
             "fill": {
              "color": "#EBF0F8"
             },
             "line": {
              "color": "white"
             }
            },
            "header": {
             "fill": {
              "color": "#C8D4E3"
             },
             "line": {
              "color": "white"
             }
            },
            "type": "table"
           }
          ]
         },
         "layout": {
          "annotationdefaults": {
           "arrowcolor": "#2a3f5f",
           "arrowhead": 0,
           "arrowwidth": 1
          },
          "autotypenumbers": "strict",
          "coloraxis": {
           "colorbar": {
            "outlinewidth": 0,
            "ticks": ""
           }
          },
          "colorscale": {
           "diverging": [
            [
             0,
             "#8e0152"
            ],
            [
             0.1,
             "#c51b7d"
            ],
            [
             0.2,
             "#de77ae"
            ],
            [
             0.3,
             "#f1b6da"
            ],
            [
             0.4,
             "#fde0ef"
            ],
            [
             0.5,
             "#f7f7f7"
            ],
            [
             0.6,
             "#e6f5d0"
            ],
            [
             0.7,
             "#b8e186"
            ],
            [
             0.8,
             "#7fbc41"
            ],
            [
             0.9,
             "#4d9221"
            ],
            [
             1,
             "#276419"
            ]
           ],
           "sequential": [
            [
             0,
             "#0d0887"
            ],
            [
             0.1111111111111111,
             "#46039f"
            ],
            [
             0.2222222222222222,
             "#7201a8"
            ],
            [
             0.3333333333333333,
             "#9c179e"
            ],
            [
             0.4444444444444444,
             "#bd3786"
            ],
            [
             0.5555555555555556,
             "#d8576b"
            ],
            [
             0.6666666666666666,
             "#ed7953"
            ],
            [
             0.7777777777777778,
             "#fb9f3a"
            ],
            [
             0.8888888888888888,
             "#fdca26"
            ],
            [
             1,
             "#f0f921"
            ]
           ],
           "sequentialminus": [
            [
             0,
             "#0d0887"
            ],
            [
             0.1111111111111111,
             "#46039f"
            ],
            [
             0.2222222222222222,
             "#7201a8"
            ],
            [
             0.3333333333333333,
             "#9c179e"
            ],
            [
             0.4444444444444444,
             "#bd3786"
            ],
            [
             0.5555555555555556,
             "#d8576b"
            ],
            [
             0.6666666666666666,
             "#ed7953"
            ],
            [
             0.7777777777777778,
             "#fb9f3a"
            ],
            [
             0.8888888888888888,
             "#fdca26"
            ],
            [
             1,
             "#f0f921"
            ]
           ]
          },
          "colorway": [
           "#636efa",
           "#EF553B",
           "#00cc96",
           "#ab63fa",
           "#FFA15A",
           "#19d3f3",
           "#FF6692",
           "#B6E880",
           "#FF97FF",
           "#FECB52"
          ],
          "font": {
           "color": "#2a3f5f"
          },
          "geo": {
           "bgcolor": "white",
           "lakecolor": "white",
           "landcolor": "#E5ECF6",
           "showlakes": true,
           "showland": true,
           "subunitcolor": "white"
          },
          "hoverlabel": {
           "align": "left"
          },
          "hovermode": "closest",
          "mapbox": {
           "style": "light"
          },
          "paper_bgcolor": "white",
          "plot_bgcolor": "#E5ECF6",
          "polar": {
           "angularaxis": {
            "gridcolor": "white",
            "linecolor": "white",
            "ticks": ""
           },
           "bgcolor": "#E5ECF6",
           "radialaxis": {
            "gridcolor": "white",
            "linecolor": "white",
            "ticks": ""
           }
          },
          "scene": {
           "xaxis": {
            "backgroundcolor": "#E5ECF6",
            "gridcolor": "white",
            "gridwidth": 2,
            "linecolor": "white",
            "showbackground": true,
            "ticks": "",
            "zerolinecolor": "white"
           },
           "yaxis": {
            "backgroundcolor": "#E5ECF6",
            "gridcolor": "white",
            "gridwidth": 2,
            "linecolor": "white",
            "showbackground": true,
            "ticks": "",
            "zerolinecolor": "white"
           },
           "zaxis": {
            "backgroundcolor": "#E5ECF6",
            "gridcolor": "white",
            "gridwidth": 2,
            "linecolor": "white",
            "showbackground": true,
            "ticks": "",
            "zerolinecolor": "white"
           }
          },
          "shapedefaults": {
           "line": {
            "color": "#2a3f5f"
           }
          },
          "ternary": {
           "aaxis": {
            "gridcolor": "white",
            "linecolor": "white",
            "ticks": ""
           },
           "baxis": {
            "gridcolor": "white",
            "linecolor": "white",
            "ticks": ""
           },
           "bgcolor": "#E5ECF6",
           "caxis": {
            "gridcolor": "white",
            "linecolor": "white",
            "ticks": ""
           }
          },
          "title": {
           "x": 0.05
          },
          "xaxis": {
           "automargin": true,
           "gridcolor": "white",
           "linecolor": "white",
           "ticks": "",
           "title": {
            "standoff": 15
           },
           "zerolinecolor": "white",
           "zerolinewidth": 2
          },
          "yaxis": {
           "automargin": true,
           "gridcolor": "white",
           "linecolor": "white",
           "ticks": "",
           "title": {
            "standoff": 15
           },
           "zerolinecolor": "white",
           "zerolinewidth": 2
          }
         }
        },
        "title": {
         "text": "Cost per Student by Region & Expenditure Title",
         "x": 0.5,
         "xanchor": "center",
         "y": 0.98,
         "yanchor": "top"
        },
        "width": 1050,
        "xaxis": {
         "anchor": "y",
         "domain": [
          0,
          0.49
         ],
         "title": {
          "text": "year"
         }
        },
        "xaxis2": {
         "anchor": "y2",
         "domain": [
          0.51,
          1
         ],
         "matches": "x",
         "title": {
          "text": "year"
         }
        },
        "xaxis3": {
         "anchor": "y3",
         "domain": [
          0,
          0.49
         ],
         "matches": "x",
         "showticklabels": false
        },
        "xaxis4": {
         "anchor": "y4",
         "domain": [
          0.51,
          1
         ],
         "matches": "x",
         "showticklabels": false
        },
        "xaxis5": {
         "anchor": "y5",
         "domain": [
          0,
          0.49
         ],
         "matches": "x",
         "showticklabels": false
        },
        "xaxis6": {
         "anchor": "y6",
         "domain": [
          0.51,
          1
         ],
         "matches": "x",
         "showticklabels": false
        },
        "yaxis": {
         "anchor": "x",
         "domain": [
          0,
          0.2866666666666666
         ],
         "title": {
          "text": "Cost per Student"
         }
        },
        "yaxis2": {
         "anchor": "x2",
         "domain": [
          0,
          0.2866666666666666
         ],
         "matches": "y",
         "showticklabels": false,
         "title": {
          "text": "Cost per Student"
         }
        },
        "yaxis3": {
         "anchor": "x3",
         "domain": [
          0.35666666666666663,
          0.6433333333333333
         ],
         "matches": "y",
         "title": {
          "text": "Cost per Student"
         }
        },
        "yaxis4": {
         "anchor": "x4",
         "domain": [
          0.35666666666666663,
          0.6433333333333333
         ],
         "matches": "y",
         "showticklabels": false,
         "title": {
          "text": "Cost per Student"
         }
        },
        "yaxis5": {
         "anchor": "x5",
         "domain": [
          0.7133333333333333,
          0.9999999999999999
         ],
         "matches": "y",
         "title": {
          "text": "Cost per Student"
         }
        },
        "yaxis6": {
         "anchor": "x6",
         "domain": [
          0.7133333333333333,
          0.9999999999999999
         ],
         "matches": "y",
         "showticklabels": false,
         "title": {
          "text": "Cost per Student"
         }
        }
       }
      }
     },
     "metadata": {},
     "output_type": "display_data"
    }
   ],
   "source": [
    "regional_cost_per_student_bar_grid = make_bar_chart_grid(\n",
    "                                    regional_aggregations_w_exp_title,\n",
    "                                    x= 'year',\n",
    "                                    y= 'cost_per_student',\n",
    "                                    color= 'expenditure_title',\n",
    "                                    facet_col= 'region',\n",
    "                                    facet_col_wrap= 2,\n",
    "                                    title= 'Cost per Student by Region & Expenditure Title'\n",
    "                                    )\n",
    "\n",
    "regional_cost_per_student_bar_grid.update_yaxes(title_text='Cost per Student')\n",
    "\n",
    "regional_cost_per_student_bar_grid.show()"
   ]
  },
  {
   "cell_type": "code",
   "execution_count": 112,
   "metadata": {},
   "outputs": [
    {
     "data": {
      "application/vnd.plotly.v1+json": {
       "config": {
        "plotlyServerURL": "https://plot.ly"
       },
       "data": [
        {
         "hovertemplate": "region=Midwest<br>year=2010<br>student_count=%{x}<br>per_student_costs=%{marker.size}<extra></extra>",
         "legendgroup": "Midwest",
         "marker": {
          "color": "#636efa",
          "size": [
           148.37448746034133
          ],
          "sizemode": "area",
          "sizeref": 0.0733892023174649,
          "symbol": "circle"
         },
         "mode": "markers",
         "name": "Midwest",
         "orientation": "v",
         "showlegend": true,
         "type": "scatter",
         "x": [
          6028314
         ],
         "xaxis": "x",
         "y": [
          148.37448746034133
         ],
         "yaxis": "y"
        },
        {
         "hovertemplate": "region=Northeast<br>year=2010<br>student_count=%{x}<br>per_student_costs=%{marker.size}<extra></extra>",
         "legendgroup": "Northeast",
         "marker": {
          "color": "#EF553B",
          "size": [
           168.2878169176889
          ],
          "sizemode": "area",
          "sizeref": 0.0733892023174649,
          "symbol": "circle"
         },
         "mode": "markers",
         "name": "Northeast",
         "orientation": "v",
         "showlegend": true,
         "type": "scatter",
         "x": [
          6730612
         ],
         "xaxis": "x",
         "y": [
          168.2878169176889
         ],
         "yaxis": "y"
        },
        {
         "hovertemplate": "region=Pacific Northwest<br>year=2010<br>student_count=%{x}<br>per_student_costs=%{marker.size}<extra></extra>",
         "legendgroup": "Pacific Northwest",
         "marker": {
          "color": "#00cc96",
          "size": [
           128.35177815800876
          ],
          "sizemode": "area",
          "sizeref": 0.0733892023174649,
          "symbol": "circle"
         },
         "mode": "markers",
         "name": "Pacific Northwest",
         "orientation": "v",
         "showlegend": true,
         "type": "scatter",
         "x": [
          1594937
         ],
         "xaxis": "x",
         "y": [
          128.35177815800876
         ],
         "yaxis": "y"
        },
        {
         "hovertemplate": "region=South<br>year=2010<br>student_count=%{x}<br>per_student_costs=%{marker.size}<extra></extra>",
         "legendgroup": "South",
         "marker": {
          "color": "#ab63fa",
          "size": [
           141.4275081652817
          ],
          "sizemode": "area",
          "sizeref": 0.0733892023174649,
          "symbol": "circle"
         },
         "mode": "markers",
         "name": "South",
         "orientation": "v",
         "showlegend": true,
         "type": "scatter",
         "x": [
          6523045
         ],
         "xaxis": "x",
         "y": [
          141.4275081652817
         ],
         "yaxis": "y"
        },
        {
         "hovertemplate": "region=Southeast<br>year=2010<br>student_count=%{x}<br>per_student_costs=%{marker.size}<extra></extra>",
         "legendgroup": "Southeast",
         "marker": {
          "color": "#FFA15A",
          "size": [
           116.94141716418281
          ],
          "sizemode": "area",
          "sizeref": 0.0733892023174649,
          "symbol": "circle"
         },
         "mode": "markers",
         "name": "Southeast",
         "orientation": "v",
         "showlegend": true,
         "type": "scatter",
         "x": [
          6448032
         ],
         "xaxis": "x",
         "y": [
          116.94141716418281
         ],
         "yaxis": "y"
        },
        {
         "hovertemplate": "region=West<br>year=2010<br>student_count=%{x}<br>per_student_costs=%{marker.size}<extra></extra>",
         "legendgroup": "West",
         "marker": {
          "color": "#19d3f3",
          "size": [
           36.45946842424696
          ],
          "sizemode": "area",
          "sizeref": 0.0733892023174649,
          "symbol": "circle"
         },
         "mode": "markers",
         "name": "West",
         "orientation": "v",
         "showlegend": true,
         "type": "scatter",
         "x": [
          9810154
         ],
         "xaxis": "x",
         "y": [
          36.45946842424696
         ],
         "yaxis": "y"
        }
       ],
       "frames": [
        {
         "data": [
          {
           "hovertemplate": "region=Midwest<br>year=2010<br>student_count=%{x}<br>per_student_costs=%{marker.size}<extra></extra>",
           "legendgroup": "Midwest",
           "marker": {
            "color": "#636efa",
            "size": [
             148.37448746034133
            ],
            "sizemode": "area",
            "sizeref": 0.0733892023174649,
            "symbol": "circle"
           },
           "mode": "markers",
           "name": "Midwest",
           "orientation": "v",
           "showlegend": true,
           "type": "scatter",
           "x": [
            6028314
           ],
           "xaxis": "x",
           "y": [
            148.37448746034133
           ],
           "yaxis": "y"
          },
          {
           "hovertemplate": "region=Northeast<br>year=2010<br>student_count=%{x}<br>per_student_costs=%{marker.size}<extra></extra>",
           "legendgroup": "Northeast",
           "marker": {
            "color": "#EF553B",
            "size": [
             168.2878169176889
            ],
            "sizemode": "area",
            "sizeref": 0.0733892023174649,
            "symbol": "circle"
           },
           "mode": "markers",
           "name": "Northeast",
           "orientation": "v",
           "showlegend": true,
           "type": "scatter",
           "x": [
            6730612
           ],
           "xaxis": "x",
           "y": [
            168.2878169176889
           ],
           "yaxis": "y"
          },
          {
           "hovertemplate": "region=Pacific Northwest<br>year=2010<br>student_count=%{x}<br>per_student_costs=%{marker.size}<extra></extra>",
           "legendgroup": "Pacific Northwest",
           "marker": {
            "color": "#00cc96",
            "size": [
             128.35177815800876
            ],
            "sizemode": "area",
            "sizeref": 0.0733892023174649,
            "symbol": "circle"
           },
           "mode": "markers",
           "name": "Pacific Northwest",
           "orientation": "v",
           "showlegend": true,
           "type": "scatter",
           "x": [
            1594937
           ],
           "xaxis": "x",
           "y": [
            128.35177815800876
           ],
           "yaxis": "y"
          },
          {
           "hovertemplate": "region=South<br>year=2010<br>student_count=%{x}<br>per_student_costs=%{marker.size}<extra></extra>",
           "legendgroup": "South",
           "marker": {
            "color": "#ab63fa",
            "size": [
             141.4275081652817
            ],
            "sizemode": "area",
            "sizeref": 0.0733892023174649,
            "symbol": "circle"
           },
           "mode": "markers",
           "name": "South",
           "orientation": "v",
           "showlegend": true,
           "type": "scatter",
           "x": [
            6523045
           ],
           "xaxis": "x",
           "y": [
            141.4275081652817
           ],
           "yaxis": "y"
          },
          {
           "hovertemplate": "region=Southeast<br>year=2010<br>student_count=%{x}<br>per_student_costs=%{marker.size}<extra></extra>",
           "legendgroup": "Southeast",
           "marker": {
            "color": "#FFA15A",
            "size": [
             116.94141716418281
            ],
            "sizemode": "area",
            "sizeref": 0.0733892023174649,
            "symbol": "circle"
           },
           "mode": "markers",
           "name": "Southeast",
           "orientation": "v",
           "showlegend": true,
           "type": "scatter",
           "x": [
            6448032
           ],
           "xaxis": "x",
           "y": [
            116.94141716418281
           ],
           "yaxis": "y"
          },
          {
           "hovertemplate": "region=West<br>year=2010<br>student_count=%{x}<br>per_student_costs=%{marker.size}<extra></extra>",
           "legendgroup": "West",
           "marker": {
            "color": "#19d3f3",
            "size": [
             36.45946842424696
            ],
            "sizemode": "area",
            "sizeref": 0.0733892023174649,
            "symbol": "circle"
           },
           "mode": "markers",
           "name": "West",
           "orientation": "v",
           "showlegend": true,
           "type": "scatter",
           "x": [
            9810154
           ],
           "xaxis": "x",
           "y": [
            36.45946842424696
           ],
           "yaxis": "y"
          }
         ],
         "name": "2010"
        },
        {
         "data": [
          {
           "hovertemplate": "region=Midwest<br>year=2011<br>student_count=%{x}<br>per_student_costs=%{marker.size}<extra></extra>",
           "legendgroup": "Midwest",
           "marker": {
            "color": "#636efa",
            "size": [
             138.9418130854239
            ],
            "sizemode": "area",
            "sizeref": 0.0733892023174649,
            "symbol": "circle"
           },
           "mode": "markers",
           "name": "Midwest",
           "orientation": "v",
           "showlegend": true,
           "type": "scatter",
           "x": [
            6868314
           ],
           "xaxis": "x",
           "y": [
            138.9418130854239
           ],
           "yaxis": "y"
          },
          {
           "hovertemplate": "region=Northeast<br>year=2011<br>student_count=%{x}<br>per_student_costs=%{marker.size}<extra></extra>",
           "legendgroup": "Northeast",
           "marker": {
            "color": "#EF553B",
            "size": [
             171.52372417608728
            ],
            "sizemode": "area",
            "sizeref": 0.0733892023174649,
            "symbol": "circle"
           },
           "mode": "markers",
           "name": "Northeast",
           "orientation": "v",
           "showlegend": true,
           "type": "scatter",
           "x": [
            6882768
           ],
           "xaxis": "x",
           "y": [
            171.52372417608728
           ],
           "yaxis": "y"
          },
          {
           "hovertemplate": "region=Pacific Northwest<br>year=2011<br>student_count=%{x}<br>per_student_costs=%{marker.size}<extra></extra>",
           "legendgroup": "Pacific Northwest",
           "marker": {
            "color": "#00cc96",
            "size": [
             131.89359856733702
            ],
            "sizemode": "area",
            "sizeref": 0.0733892023174649,
            "symbol": "circle"
           },
           "mode": "markers",
           "name": "Pacific Northwest",
           "orientation": "v",
           "showlegend": true,
           "type": "scatter",
           "x": [
            1602610
           ],
           "xaxis": "x",
           "y": [
            131.89359856733702
           ],
           "yaxis": "y"
          },
          {
           "hovertemplate": "region=South<br>year=2011<br>student_count=%{x}<br>per_student_costs=%{marker.size}<extra></extra>",
           "legendgroup": "South",
           "marker": {
            "color": "#ab63fa",
            "size": [
             131.38873184366398
            ],
            "sizemode": "area",
            "sizeref": 0.0733892023174649,
            "symbol": "circle"
           },
           "mode": "markers",
           "name": "South",
           "orientation": "v",
           "showlegend": true,
           "type": "scatter",
           "x": [
            7191842
           ],
           "xaxis": "x",
           "y": [
            131.38873184366398
           ],
           "yaxis": "y"
          },
          {
           "hovertemplate": "region=Southeast<br>year=2011<br>student_count=%{x}<br>per_student_costs=%{marker.size}<extra></extra>",
           "legendgroup": "Southeast",
           "marker": {
            "color": "#FFA15A",
            "size": [
             112.90707282508053
            ],
            "sizemode": "area",
            "sizeref": 0.0733892023174649,
            "symbol": "circle"
           },
           "mode": "markers",
           "name": "Southeast",
           "orientation": "v",
           "showlegend": true,
           "type": "scatter",
           "x": [
            6464998
           ],
           "xaxis": "x",
           "y": [
            112.90707282508053
           ],
           "yaxis": "y"
          },
          {
           "hovertemplate": "region=West<br>year=2011<br>student_count=%{x}<br>per_student_costs=%{marker.size}<extra></extra>",
           "legendgroup": "West",
           "marker": {
            "color": "#19d3f3",
            "size": [
             34.38281403879148
            ],
            "sizemode": "area",
            "sizeref": 0.0733892023174649,
            "symbol": "circle"
           },
           "mode": "markers",
           "name": "West",
           "orientation": "v",
           "showlegend": true,
           "type": "scatter",
           "x": [
            9824065
           ],
           "xaxis": "x",
           "y": [
            34.38281403879148
           ],
           "yaxis": "y"
          }
         ],
         "name": "2011"
        },
        {
         "data": [
          {
           "hovertemplate": "region=Midwest<br>year=2012<br>student_count=%{x}<br>per_student_costs=%{marker.size}<extra></extra>",
           "legendgroup": "Midwest",
           "marker": {
            "color": "#636efa",
            "size": [
             134.68444803328072
            ],
            "sizemode": "area",
            "sizeref": 0.0733892023174649,
            "symbol": "circle"
           },
           "mode": "markers",
           "name": "Midwest",
           "orientation": "v",
           "showlegend": true,
           "type": "scatter",
           "x": [
            6816199
           ],
           "xaxis": "x",
           "y": [
            134.68444803328072
           ],
           "yaxis": "y"
          },
          {
           "hovertemplate": "region=Northeast<br>year=2012<br>student_count=%{x}<br>per_student_costs=%{marker.size}<extra></extra>",
           "legendgroup": "Northeast",
           "marker": {
            "color": "#EF553B",
            "size": [
             172.66903274653149
            ],
            "sizemode": "area",
            "sizeref": 0.0733892023174649,
            "symbol": "circle"
           },
           "mode": "markers",
           "name": "Northeast",
           "orientation": "v",
           "showlegend": true,
           "type": "scatter",
           "x": [
            6739981
           ],
           "xaxis": "x",
           "y": [
            172.66903274653149
           ],
           "yaxis": "y"
          },
          {
           "hovertemplate": "region=Pacific Northwest<br>year=2012<br>student_count=%{x}<br>per_student_costs=%{marker.size}<extra></extra>",
           "legendgroup": "Pacific Northwest",
           "marker": {
            "color": "#00cc96",
            "size": [
             128.7878082670395
            ],
            "sizemode": "area",
            "sizeref": 0.0733892023174649,
            "symbol": "circle"
           },
           "mode": "markers",
           "name": "Pacific Northwest",
           "orientation": "v",
           "showlegend": true,
           "type": "scatter",
           "x": [
            1611387
           ],
           "xaxis": "x",
           "y": [
            128.7878082670395
           ],
           "yaxis": "y"
          },
          {
           "hovertemplate": "region=South<br>year=2012<br>student_count=%{x}<br>per_student_costs=%{marker.size}<extra></extra>",
           "legendgroup": "South",
           "marker": {
            "color": "#ab63fa",
            "size": [
             129.72572410789542
            ],
            "sizemode": "area",
            "sizeref": 0.0733892023174649,
            "symbol": "circle"
           },
           "mode": "markers",
           "name": "South",
           "orientation": "v",
           "showlegend": true,
           "type": "scatter",
           "x": [
            12077620
           ],
           "xaxis": "x",
           "y": [
            129.72572410789542
           ],
           "yaxis": "y"
          },
          {
           "hovertemplate": "region=Southeast<br>year=2012<br>student_count=%{x}<br>per_student_costs=%{marker.size}<extra></extra>",
           "legendgroup": "Southeast",
           "marker": {
            "color": "#FFA15A",
            "size": [
             110.22543393561669
            ],
            "sizemode": "area",
            "sizeref": 0.0733892023174649,
            "symbol": "circle"
           },
           "mode": "markers",
           "name": "Southeast",
           "orientation": "v",
           "showlegend": true,
           "type": "scatter",
           "x": [
            6505631
           ],
           "xaxis": "x",
           "y": [
            110.22543393561669
           ],
           "yaxis": "y"
          },
          {
           "hovertemplate": "region=West<br>year=2012<br>student_count=%{x}<br>per_student_costs=%{marker.size}<extra></extra>",
           "legendgroup": "West",
           "marker": {
            "color": "#19d3f3",
            "size": [
             33.14205781803226
            ],
            "sizemode": "area",
            "sizeref": 0.0733892023174649,
            "symbol": "circle"
           },
           "mode": "markers",
           "name": "West",
           "orientation": "v",
           "showlegend": true,
           "type": "scatter",
           "x": [
            9839733
           ],
           "xaxis": "x",
           "y": [
            33.14205781803226
           ],
           "yaxis": "y"
          }
         ],
         "name": "2012"
        },
        {
         "data": [
          {
           "hovertemplate": "region=Midwest<br>year=2013<br>student_count=%{x}<br>per_student_costs=%{marker.size}<extra></extra>",
           "legendgroup": "Midwest",
           "marker": {
            "color": "#636efa",
            "size": [
             133.70744098827444
            ],
            "sizemode": "area",
            "sizeref": 0.0733892023174649,
            "symbol": "circle"
           },
           "mode": "markers",
           "name": "Midwest",
           "orientation": "v",
           "showlegend": true,
           "type": "scatter",
           "x": [
            6778441
           ],
           "xaxis": "x",
           "y": [
            133.70744098827444
           ],
           "yaxis": "y"
          },
          {
           "hovertemplate": "region=Northeast<br>year=2013<br>student_count=%{x}<br>per_student_costs=%{marker.size}<extra></extra>",
           "legendgroup": "Northeast",
           "marker": {
            "color": "#EF553B",
            "size": [
             172.4120082198058
            ],
            "sizemode": "area",
            "sizeref": 0.0733892023174649,
            "symbol": "circle"
           },
           "mode": "markers",
           "name": "Northeast",
           "orientation": "v",
           "showlegend": true,
           "type": "scatter",
           "x": [
            6703808
           ],
           "xaxis": "x",
           "y": [
            172.4120082198058
           ],
           "yaxis": "y"
          },
          {
           "hovertemplate": "region=Pacific Northwest<br>year=2013<br>student_count=%{x}<br>per_student_costs=%{marker.size}<extra></extra>",
           "legendgroup": "Pacific Northwest",
           "marker": {
            "color": "#00cc96",
            "size": [
             133.1323025863617
            ],
            "sizemode": "area",
            "sizeref": 0.0733892023174649,
            "symbol": "circle"
           },
           "mode": "markers",
           "name": "Pacific Northwest",
           "orientation": "v",
           "showlegend": true,
           "type": "scatter",
           "x": [
            1615010
           ],
           "xaxis": "x",
           "y": [
            133.1323025863617
           ],
           "yaxis": "y"
          },
          {
           "hovertemplate": "region=South<br>year=2013<br>student_count=%{x}<br>per_student_costs=%{marker.size}<extra></extra>",
           "legendgroup": "South",
           "marker": {
            "color": "#ab63fa",
            "size": [
             130.0191514408161
            ],
            "sizemode": "area",
            "sizeref": 0.0733892023174649,
            "symbol": "circle"
           },
           "mode": "markers",
           "name": "South",
           "orientation": "v",
           "showlegend": true,
           "type": "scatter",
           "x": [
            12157832
           ],
           "xaxis": "x",
           "y": [
            130.0191514408161
           ],
           "yaxis": "y"
          },
          {
           "hovertemplate": "region=Southeast<br>year=2013<br>student_count=%{x}<br>per_student_costs=%{marker.size}<extra></extra>",
           "legendgroup": "Southeast",
           "marker": {
            "color": "#FFA15A",
            "size": [
             107.43554335888255
            ],
            "sizemode": "area",
            "sizeref": 0.0733892023174649,
            "symbol": "circle"
           },
           "mode": "markers",
           "name": "Southeast",
           "orientation": "v",
           "showlegend": true,
           "type": "scatter",
           "x": [
            6552971
           ],
           "xaxis": "x",
           "y": [
            107.43554335888255
           ],
           "yaxis": "y"
          },
          {
           "hovertemplate": "region=West<br>year=2013<br>student_count=%{x}<br>per_student_costs=%{marker.size}<extra></extra>",
           "legendgroup": "West",
           "marker": {
            "color": "#19d3f3",
            "size": [
             40.18073424911384
            ],
            "sizemode": "area",
            "sizeref": 0.0733892023174649,
            "symbol": "circle"
           },
           "mode": "markers",
           "name": "West",
           "orientation": "v",
           "showlegend": true,
           "type": "scatter",
           "x": [
            9860223
           ],
           "xaxis": "x",
           "y": [
            40.18073424911384
           ],
           "yaxis": "y"
          }
         ],
         "name": "2013"
        },
        {
         "data": [
          {
           "hovertemplate": "region=Midwest<br>year=2014<br>student_count=%{x}<br>per_student_costs=%{marker.size}<extra></extra>",
           "legendgroup": "Midwest",
           "marker": {
            "color": "#636efa",
            "size": [
             131.84030545509592
            ],
            "sizemode": "area",
            "sizeref": 0.0733892023174649,
            "symbol": "circle"
           },
           "mode": "markers",
           "name": "Midwest",
           "orientation": "v",
           "showlegend": true,
           "type": "scatter",
           "x": [
            6764464
           ],
           "xaxis": "x",
           "y": [
            131.84030545509592
           ],
           "yaxis": "y"
          },
          {
           "hovertemplate": "region=Northeast<br>year=2014<br>student_count=%{x}<br>per_student_costs=%{marker.size}<extra></extra>",
           "legendgroup": "Northeast",
           "marker": {
            "color": "#EF553B",
            "size": [
             183.12570835256602
            ],
            "sizemode": "area",
            "sizeref": 0.0733892023174649,
            "symbol": "circle"
           },
           "mode": "markers",
           "name": "Northeast",
           "orientation": "v",
           "showlegend": true,
           "type": "scatter",
           "x": [
            7573912
           ],
           "xaxis": "x",
           "y": [
            183.12570835256602
           ],
           "yaxis": "y"
          },
          {
           "hovertemplate": "region=Pacific Northwest<br>year=2014<br>student_count=%{x}<br>per_student_costs=%{marker.size}<extra></extra>",
           "legendgroup": "Pacific Northwest",
           "marker": {
            "color": "#00cc96",
            "size": [
             135.71528392989836
            ],
            "sizemode": "area",
            "sizeref": 0.0733892023174649,
            "symbol": "circle"
           },
           "mode": "markers",
           "name": "Pacific Northwest",
           "orientation": "v",
           "showlegend": true,
           "type": "scatter",
           "x": [
            1624327
           ],
           "xaxis": "x",
           "y": [
            135.71528392989836
           ],
           "yaxis": "y"
          },
          {
           "hovertemplate": "region=South<br>year=2014<br>student_count=%{x}<br>per_student_costs=%{marker.size}<extra></extra>",
           "legendgroup": "South",
           "marker": {
            "color": "#ab63fa",
            "size": [
             132.30402640778786
            ],
            "sizemode": "area",
            "sizeref": 0.0733892023174649,
            "symbol": "circle"
           },
           "mode": "markers",
           "name": "South",
           "orientation": "v",
           "showlegend": true,
           "type": "scatter",
           "x": [
            12207308
           ],
           "xaxis": "x",
           "y": [
            132.30402640778786
           ],
           "yaxis": "y"
          },
          {
           "hovertemplate": "region=Southeast<br>year=2014<br>student_count=%{x}<br>per_student_costs=%{marker.size}<extra></extra>",
           "legendgroup": "Southeast",
           "marker": {
            "color": "#FFA15A",
            "size": [
             108.9057072805285
            ],
            "sizemode": "area",
            "sizeref": 0.0733892023174649,
            "symbol": "circle"
           },
           "mode": "markers",
           "name": "Southeast",
           "orientation": "v",
           "showlegend": true,
           "type": "scatter",
           "x": [
            6577984
           ],
           "xaxis": "x",
           "y": [
            108.9057072805285
           ],
           "yaxis": "y"
          },
          {
           "hovertemplate": "region=West<br>year=2014<br>student_count=%{x}<br>per_student_costs=%{marker.size}<extra></extra>",
           "legendgroup": "West",
           "marker": {
            "color": "#19d3f3",
            "size": [
             43.61424516481194
            ],
            "sizemode": "area",
            "sizeref": 0.0733892023174649,
            "symbol": "circle"
           },
           "mode": "markers",
           "name": "West",
           "orientation": "v",
           "showlegend": true,
           "type": "scatter",
           "x": [
            9907474
           ],
           "xaxis": "x",
           "y": [
            43.61424516481194
           ],
           "yaxis": "y"
          }
         ],
         "name": "2014"
        },
        {
         "data": [
          {
           "hovertemplate": "region=Midwest<br>year=2015<br>student_count=%{x}<br>per_student_costs=%{marker.size}<extra></extra>",
           "legendgroup": "Midwest",
           "marker": {
            "color": "#636efa",
            "size": [
             123.15552497800407
            ],
            "sizemode": "area",
            "sizeref": 0.0733892023174649,
            "symbol": "circle"
           },
           "mode": "markers",
           "name": "Midwest",
           "orientation": "v",
           "showlegend": true,
           "type": "scatter",
           "x": [
            8340178
           ],
           "xaxis": "x",
           "y": [
            123.15552497800407
           ],
           "yaxis": "y"
          },
          {
           "hovertemplate": "region=Northeast<br>year=2015<br>student_count=%{x}<br>per_student_costs=%{marker.size}<extra></extra>",
           "legendgroup": "Northeast",
           "marker": {
            "color": "#EF553B",
            "size": [
             177.94166434701495
            ],
            "sizemode": "area",
            "sizeref": 0.0733892023174649,
            "symbol": "circle"
           },
           "mode": "markers",
           "name": "Northeast",
           "orientation": "v",
           "showlegend": true,
           "type": "scatter",
           "x": [
            7828043
           ],
           "xaxis": "x",
           "y": [
            177.94166434701495
           ],
           "yaxis": "y"
          },
          {
           "hovertemplate": "region=Pacific Northwest<br>year=2015<br>student_count=%{x}<br>per_student_costs=%{marker.size}<extra></extra>",
           "legendgroup": "Pacific Northwest",
           "marker": {
            "color": "#00cc96",
            "size": [
             138.82849465346027
            ],
            "sizemode": "area",
            "sizeref": 0.0733892023174649,
            "symbol": "circle"
           },
           "mode": "markers",
           "name": "Pacific Northwest",
           "orientation": "v",
           "showlegend": true,
           "type": "scatter",
           "x": [
            1641529
           ],
           "xaxis": "x",
           "y": [
            138.82849465346027
           ],
           "yaxis": "y"
          },
          {
           "hovertemplate": "region=South<br>year=2015<br>student_count=%{x}<br>per_student_costs=%{marker.size}<extra></extra>",
           "legendgroup": "South",
           "marker": {
            "color": "#ab63fa",
            "size": [
             116.75342853501328
            ],
            "sizemode": "area",
            "sizeref": 0.0733892023174649,
            "symbol": "circle"
           },
           "mode": "markers",
           "name": "South",
           "orientation": "v",
           "showlegend": true,
           "type": "scatter",
           "x": [
            18508707
           ],
           "xaxis": "x",
           "y": [
            116.75342853501328
           ],
           "yaxis": "y"
          },
          {
           "hovertemplate": "region=Southeast<br>year=2015<br>student_count=%{x}<br>per_student_costs=%{marker.size}<extra></extra>",
           "legendgroup": "Southeast",
           "marker": {
            "color": "#FFA15A",
            "size": [
             103.81912952575463
            ],
            "sizemode": "area",
            "sizeref": 0.0733892023174649,
            "symbol": "circle"
           },
           "mode": "markers",
           "name": "Southeast",
           "orientation": "v",
           "showlegend": true,
           "type": "scatter",
           "x": [
            10331150
           ],
           "xaxis": "x",
           "y": [
            103.81912952575463
           ],
           "yaxis": "y"
          },
          {
           "hovertemplate": "region=West<br>year=2015<br>student_count=%{x}<br>per_student_costs=%{marker.size}<extra></extra>",
           "legendgroup": "West",
           "marker": {
            "color": "#19d3f3",
            "size": [
             55.47824224838423
            ],
            "sizemode": "area",
            "sizeref": 0.0733892023174649,
            "symbol": "circle"
           },
           "mode": "markers",
           "name": "West",
           "orientation": "v",
           "showlegend": true,
           "type": "scatter",
           "x": [
            13617032
           ],
           "xaxis": "x",
           "y": [
            55.47824224838423
           ],
           "yaxis": "y"
          }
         ],
         "name": "2015"
        },
        {
         "data": [
          {
           "hovertemplate": "region=Midwest<br>year=2016<br>student_count=%{x}<br>per_student_costs=%{marker.size}<extra></extra>",
           "legendgroup": "Midwest",
           "marker": {
            "color": "#636efa",
            "size": [
             142.7450114255133
            ],
            "sizemode": "area",
            "sizeref": 0.0733892023174649,
            "symbol": "circle"
           },
           "mode": "markers",
           "name": "Midwest",
           "orientation": "v",
           "showlegend": true,
           "type": "scatter",
           "x": [
            13537685
           ],
           "xaxis": "x",
           "y": [
            142.7450114255133
           ],
           "yaxis": "y"
          },
          {
           "hovertemplate": "region=Northeast<br>year=2016<br>student_count=%{x}<br>per_student_costs=%{marker.size}<extra></extra>",
           "legendgroup": "Northeast",
           "marker": {
            "color": "#EF553B",
            "size": [
             181.49474095475063
            ],
            "sizemode": "area",
            "sizeref": 0.0733892023174649,
            "symbol": "circle"
           },
           "mode": "markers",
           "name": "Northeast",
           "orientation": "v",
           "showlegend": true,
           "type": "scatter",
           "x": [
            9726100
           ],
           "xaxis": "x",
           "y": [
            181.49474095475063
           ],
           "yaxis": "y"
          },
          {
           "hovertemplate": "region=Pacific Northwest<br>year=2016<br>student_count=%{x}<br>per_student_costs=%{marker.size}<extra></extra>",
           "legendgroup": "Pacific Northwest",
           "marker": {
            "color": "#00cc96",
            "size": [
             114.45155215762968
            ],
            "sizemode": "area",
            "sizeref": 0.0733892023174649,
            "symbol": "circle"
           },
           "mode": "markers",
           "name": "Pacific Northwest",
           "orientation": "v",
           "showlegend": true,
           "type": "scatter",
           "x": [
            2232473
           ],
           "xaxis": "x",
           "y": [
            114.45155215762968
           ],
           "yaxis": "y"
          },
          {
           "hovertemplate": "region=South<br>year=2016<br>student_count=%{x}<br>per_student_costs=%{marker.size}<extra></extra>",
           "legendgroup": "South",
           "marker": {
            "color": "#ab63fa",
            "size": [
             140.24423715132593
            ],
            "sizemode": "area",
            "sizeref": 0.0733892023174649,
            "symbol": "circle"
           },
           "mode": "markers",
           "name": "South",
           "orientation": "v",
           "showlegend": true,
           "type": "scatter",
           "x": [
            22571259
           ],
           "xaxis": "x",
           "y": [
            140.24423715132593
           ],
           "yaxis": "y"
          },
          {
           "hovertemplate": "region=Southeast<br>year=2016<br>student_count=%{x}<br>per_student_costs=%{marker.size}<extra></extra>",
           "legendgroup": "Southeast",
           "marker": {
            "color": "#FFA15A",
            "size": [
             106.75128293116964
            ],
            "sizemode": "area",
            "sizeref": 0.0733892023174649,
            "symbol": "circle"
           },
           "mode": "markers",
           "name": "Southeast",
           "orientation": "v",
           "showlegend": true,
           "type": "scatter",
           "x": [
            13830438
           ],
           "xaxis": "x",
           "y": [
            106.75128293116964
           ],
           "yaxis": "y"
          },
          {
           "hovertemplate": "region=West<br>year=2016<br>student_count=%{x}<br>per_student_costs=%{marker.size}<extra></extra>",
           "legendgroup": "West",
           "marker": {
            "color": "#19d3f3",
            "size": [
             69.40511876355629
            ],
            "sizemode": "area",
            "sizeref": 0.0733892023174649,
            "symbol": "circle"
           },
           "mode": "markers",
           "name": "West",
           "orientation": "v",
           "showlegend": true,
           "type": "scatter",
           "x": [
            14443488
           ],
           "xaxis": "x",
           "y": [
            69.40511876355629
           ],
           "yaxis": "y"
          }
         ],
         "name": "2016"
        },
        {
         "data": [
          {
           "hovertemplate": "region=Midwest<br>year=2017<br>student_count=%{x}<br>per_student_costs=%{marker.size}<extra></extra>",
           "legendgroup": "Midwest",
           "marker": {
            "color": "#636efa",
            "size": [
             138.98293461862497
            ],
            "sizemode": "area",
            "sizeref": 0.0733892023174649,
            "symbol": "circle"
           },
           "mode": "markers",
           "name": "Midwest",
           "orientation": "v",
           "showlegend": true,
           "type": "scatter",
           "x": [
            15311700
           ],
           "xaxis": "x",
           "y": [
            138.98293461862497
           ],
           "yaxis": "y"
          },
          {
           "hovertemplate": "region=Northeast<br>year=2017<br>student_count=%{x}<br>per_student_costs=%{marker.size}<extra></extra>",
           "legendgroup": "Northeast",
           "marker": {
            "color": "#EF553B",
            "size": [
             175.42411079507497
            ],
            "sizemode": "area",
            "sizeref": 0.0733892023174649,
            "symbol": "circle"
           },
           "mode": "markers",
           "name": "Northeast",
           "orientation": "v",
           "showlegend": true,
           "type": "scatter",
           "x": [
            11465636
           ],
           "xaxis": "x",
           "y": [
            175.42411079507497
           ],
           "yaxis": "y"
          },
          {
           "hovertemplate": "region=Pacific Northwest<br>year=2017<br>student_count=%{x}<br>per_student_costs=%{marker.size}<extra></extra>",
           "legendgroup": "Pacific Northwest",
           "marker": {
            "color": "#00cc96",
            "size": [
             121.38715746573824
            ],
            "sizemode": "area",
            "sizeref": 0.0733892023174649,
            "symbol": "circle"
           },
           "mode": "markers",
           "name": "Pacific Northwest",
           "orientation": "v",
           "showlegend": true,
           "type": "scatter",
           "x": [
            2252001
           ],
           "xaxis": "x",
           "y": [
            121.38715746573824
           ],
           "yaxis": "y"
          },
          {
           "hovertemplate": "region=South<br>year=2017<br>student_count=%{x}<br>per_student_costs=%{marker.size}<extra></extra>",
           "legendgroup": "South",
           "marker": {
            "color": "#ab63fa",
            "size": [
             144.50025706721203
            ],
            "sizemode": "area",
            "sizeref": 0.0733892023174649,
            "symbol": "circle"
           },
           "mode": "markers",
           "name": "South",
           "orientation": "v",
           "showlegend": true,
           "type": "scatter",
           "x": [
            22468832
           ],
           "xaxis": "x",
           "y": [
            144.50025706721203
           ],
           "yaxis": "y"
          },
          {
           "hovertemplate": "region=Southeast<br>year=2017<br>student_count=%{x}<br>per_student_costs=%{marker.size}<extra></extra>",
           "legendgroup": "Southeast",
           "marker": {
            "color": "#FFA15A",
            "size": [
             112.37801587024029
            ],
            "sizemode": "area",
            "sizeref": 0.0733892023174649,
            "symbol": "circle"
           },
           "mode": "markers",
           "name": "Southeast",
           "orientation": "v",
           "showlegend": true,
           "type": "scatter",
           "x": [
            13868095
           ],
           "xaxis": "x",
           "y": [
            112.37801587024029
           ],
           "yaxis": "y"
          },
          {
           "hovertemplate": "region=West<br>year=2017<br>student_count=%{x}<br>per_student_costs=%{marker.size}<extra></extra>",
           "legendgroup": "West",
           "marker": {
            "color": "#19d3f3",
            "size": [
             75.62683952463586
            ],
            "sizemode": "area",
            "sizeref": 0.0733892023174649,
            "symbol": "circle"
           },
           "mode": "markers",
           "name": "West",
           "orientation": "v",
           "showlegend": true,
           "type": "scatter",
           "x": [
            16914696
           ],
           "xaxis": "x",
           "y": [
            75.62683952463586
           ],
           "yaxis": "y"
          }
         ],
         "name": "2017"
        },
        {
         "data": [
          {
           "hovertemplate": "region=Midwest<br>year=2018<br>student_count=%{x}<br>per_student_costs=%{marker.size}<extra></extra>",
           "legendgroup": "Midwest",
           "marker": {
            "color": "#636efa",
            "size": [
             136.87599946308904
            ],
            "sizemode": "area",
            "sizeref": 0.0733892023174649,
            "symbol": "circle"
           },
           "mode": "markers",
           "name": "Midwest",
           "orientation": "v",
           "showlegend": true,
           "type": "scatter",
           "x": [
            18461162
           ],
           "xaxis": "x",
           "y": [
            136.87599946308904
           ],
           "yaxis": "y"
          },
          {
           "hovertemplate": "region=Northeast<br>year=2018<br>student_count=%{x}<br>per_student_costs=%{marker.size}<extra></extra>",
           "legendgroup": "Northeast",
           "marker": {
            "color": "#EF553B",
            "size": [
             171.42041241836407
            ],
            "sizemode": "area",
            "sizeref": 0.0733892023174649,
            "symbol": "circle"
           },
           "mode": "markers",
           "name": "Northeast",
           "orientation": "v",
           "showlegend": true,
           "type": "scatter",
           "x": [
            12389458
           ],
           "xaxis": "x",
           "y": [
            171.42041241836407
           ],
           "yaxis": "y"
          },
          {
           "hovertemplate": "region=Pacific Northwest<br>year=2018<br>student_count=%{x}<br>per_student_costs=%{marker.size}<extra></extra>",
           "legendgroup": "Pacific Northwest",
           "marker": {
            "color": "#00cc96",
            "size": [
             118.7314663549014
            ],
            "sizemode": "area",
            "sizeref": 0.0733892023174649,
            "symbol": "circle"
           },
           "mode": "markers",
           "name": "Pacific Northwest",
           "orientation": "v",
           "showlegend": true,
           "type": "scatter",
           "x": [
            2841454
           ],
           "xaxis": "x",
           "y": [
            118.7314663549014
           ],
           "yaxis": "y"
          },
          {
           "hovertemplate": "region=South<br>year=2018<br>student_count=%{x}<br>per_student_costs=%{marker.size}<extra></extra>",
           "legendgroup": "South",
           "marker": {
            "color": "#ab63fa",
            "size": [
             149.65314839094654
            ],
            "sizemode": "area",
            "sizeref": 0.0733892023174649,
            "symbol": "circle"
           },
           "mode": "markers",
           "name": "South",
           "orientation": "v",
           "showlegend": true,
           "type": "scatter",
           "x": [
            22449658
           ],
           "xaxis": "x",
           "y": [
            149.65314839094654
           ],
           "yaxis": "y"
          },
          {
           "hovertemplate": "region=Southeast<br>year=2018<br>student_count=%{x}<br>per_student_costs=%{marker.size}<extra></extra>",
           "legendgroup": "Southeast",
           "marker": {
            "color": "#FFA15A",
            "size": [
             117.60738795169401
            ],
            "sizemode": "area",
            "sizeref": 0.0733892023174649,
            "symbol": "circle"
           },
           "mode": "markers",
           "name": "Southeast",
           "orientation": "v",
           "showlegend": true,
           "type": "scatter",
           "x": [
            19494226
           ],
           "xaxis": "x",
           "y": [
            117.60738795169401
           ],
           "yaxis": "y"
          },
          {
           "hovertemplate": "region=West<br>year=2018<br>student_count=%{x}<br>per_student_costs=%{marker.size}<extra></extra>",
           "legendgroup": "West",
           "marker": {
            "color": "#19d3f3",
            "size": [
             80.01478793006305
            ],
            "sizemode": "area",
            "sizeref": 0.0733892023174649,
            "symbol": "circle"
           },
           "mode": "markers",
           "name": "West",
           "orientation": "v",
           "showlegend": true,
           "type": "scatter",
           "x": [
            16878630
           ],
           "xaxis": "x",
           "y": [
            80.01478793006305
           ],
           "yaxis": "y"
          }
         ],
         "name": "2018"
        },
        {
         "data": [
          {
           "hovertemplate": "region=Midwest<br>year=2019<br>student_count=%{x}<br>per_student_costs=%{marker.size}<extra></extra>",
           "legendgroup": "Midwest",
           "marker": {
            "color": "#636efa",
            "size": [
             151.478177567749
            ],
            "sizemode": "area",
            "sizeref": 0.0733892023174649,
            "symbol": "circle"
           },
           "mode": "markers",
           "name": "Midwest",
           "orientation": "v",
           "showlegend": true,
           "type": "scatter",
           "x": [
            19094526
           ],
           "xaxis": "x",
           "y": [
            151.478177567749
           ],
           "yaxis": "y"
          },
          {
           "hovertemplate": "region=Northeast<br>year=2019<br>student_count=%{x}<br>per_student_costs=%{marker.size}<extra></extra>",
           "legendgroup": "Northeast",
           "marker": {
            "color": "#EF553B",
            "size": [
             183.47300579366225
            ],
            "sizemode": "area",
            "sizeref": 0.0733892023174649,
            "symbol": "circle"
           },
           "mode": "markers",
           "name": "Northeast",
           "orientation": "v",
           "showlegend": true,
           "type": "scatter",
           "x": [
            12320014
           ],
           "xaxis": "x",
           "y": [
            183.47300579366225
           ],
           "yaxis": "y"
          },
          {
           "hovertemplate": "region=Pacific Northwest<br>year=2019<br>student_count=%{x}<br>per_student_costs=%{marker.size}<extra></extra>",
           "legendgroup": "Pacific Northwest",
           "marker": {
            "color": "#00cc96",
            "size": [
             147.54322101027122
            ],
            "sizemode": "area",
            "sizeref": 0.0733892023174649,
            "symbol": "circle"
           },
           "mode": "markers",
           "name": "Pacific Northwest",
           "orientation": "v",
           "showlegend": true,
           "type": "scatter",
           "x": [
            2278695
           ],
           "xaxis": "x",
           "y": [
            147.54322101027122
           ],
           "yaxis": "y"
          },
          {
           "hovertemplate": "region=South<br>year=2019<br>student_count=%{x}<br>per_student_costs=%{marker.size}<extra></extra>",
           "legendgroup": "South",
           "marker": {
            "color": "#ab63fa",
            "size": [
             159.1133022176264
            ],
            "sizemode": "area",
            "sizeref": 0.0733892023174649,
            "symbol": "circle"
           },
           "mode": "markers",
           "name": "South",
           "orientation": "v",
           "showlegend": true,
           "type": "scatter",
           "x": [
            23131083
           ],
           "xaxis": "x",
           "y": [
            159.1133022176264
           ],
           "yaxis": "y"
          },
          {
           "hovertemplate": "region=Southeast<br>year=2019<br>student_count=%{x}<br>per_student_costs=%{marker.size}<extra></extra>",
           "legendgroup": "Southeast",
           "marker": {
            "color": "#FFA15A",
            "size": [
             123.6600776660193
            ],
            "sizemode": "area",
            "sizeref": 0.0733892023174649,
            "symbol": "circle"
           },
           "mode": "markers",
           "name": "Southeast",
           "orientation": "v",
           "showlegend": true,
           "type": "scatter",
           "x": [
            19509433
           ],
           "xaxis": "x",
           "y": [
            123.6600776660193
           ],
           "yaxis": "y"
          },
          {
           "hovertemplate": "region=West<br>year=2019<br>student_count=%{x}<br>per_student_costs=%{marker.size}<extra></extra>",
           "legendgroup": "West",
           "marker": {
            "color": "#19d3f3",
            "size": [
             87.20577228932866
            ],
            "sizemode": "area",
            "sizeref": 0.0733892023174649,
            "symbol": "circle"
           },
           "mode": "markers",
           "name": "West",
           "orientation": "v",
           "showlegend": true,
           "type": "scatter",
           "x": [
            15771628
           ],
           "xaxis": "x",
           "y": [
            87.20577228932866
           ],
           "yaxis": "y"
          }
         ],
         "name": "2019"
        },
        {
         "data": [
          {
           "hovertemplate": "region=Midwest<br>year=2020<br>student_count=%{x}<br>per_student_costs=%{marker.size}<extra></extra>",
           "legendgroup": "Midwest",
           "marker": {
            "color": "#636efa",
            "size": [
             102.38211437131002
            ],
            "sizemode": "area",
            "sizeref": 0.0733892023174649,
            "symbol": "circle"
           },
           "mode": "markers",
           "name": "Midwest",
           "orientation": "v",
           "showlegend": true,
           "type": "scatter",
           "x": [
            27618867
           ],
           "xaxis": "x",
           "y": [
            102.38211437131002
           ],
           "yaxis": "y"
          },
          {
           "hovertemplate": "region=Northeast<br>year=2020<br>student_count=%{x}<br>per_student_costs=%{marker.size}<extra></extra>",
           "legendgroup": "Northeast",
           "marker": {
            "color": "#EF553B",
            "size": [
             143.25500411738184
            ],
            "sizemode": "area",
            "sizeref": 0.0733892023174649,
            "symbol": "circle"
           },
           "mode": "markers",
           "name": "Northeast",
           "orientation": "v",
           "showlegend": true,
           "type": "scatter",
           "x": [
            17835363
           ],
           "xaxis": "x",
           "y": [
            143.25500411738184
           ],
           "yaxis": "y"
          },
          {
           "hovertemplate": "region=Pacific Northwest<br>year=2020<br>student_count=%{x}<br>per_student_costs=%{marker.size}<extra></extra>",
           "legendgroup": "Pacific Northwest",
           "marker": {
            "color": "#00cc96",
            "size": [
             77.99843595382922
            ],
            "sizemode": "area",
            "sizeref": 0.0733892023174649,
            "symbol": "circle"
           },
           "mode": "markers",
           "name": "Pacific Northwest",
           "orientation": "v",
           "showlegend": true,
           "type": "scatter",
           "x": [
            6842509
           ],
           "xaxis": "x",
           "y": [
            77.99843595382922
           ],
           "yaxis": "y"
          },
          {
           "hovertemplate": "region=South<br>year=2020<br>student_count=%{x}<br>per_student_costs=%{marker.size}<extra></extra>",
           "legendgroup": "South",
           "marker": {
            "color": "#ab63fa",
            "size": [
             136.08328825771707
            ],
            "sizemode": "area",
            "sizeref": 0.0733892023174649,
            "symbol": "circle"
           },
           "mode": "markers",
           "name": "South",
           "orientation": "v",
           "showlegend": true,
           "type": "scatter",
           "x": [
            30136397
           ],
           "xaxis": "x",
           "y": [
            136.08328825771707
           ],
           "yaxis": "y"
          },
          {
           "hovertemplate": "region=Southeast<br>year=2020<br>student_count=%{x}<br>per_student_costs=%{marker.size}<extra></extra>",
           "legendgroup": "Southeast",
           "marker": {
            "color": "#FFA15A",
            "size": [
             117.64917030453583
            ],
            "sizemode": "area",
            "sizeref": 0.0733892023174649,
            "symbol": "circle"
           },
           "mode": "markers",
           "name": "Southeast",
           "orientation": "v",
           "showlegend": true,
           "type": "scatter",
           "x": [
            22732859
           ],
           "xaxis": "x",
           "y": [
            117.64917030453583
           ],
           "yaxis": "y"
          },
          {
           "hovertemplate": "region=West<br>year=2020<br>student_count=%{x}<br>per_student_costs=%{marker.size}<extra></extra>",
           "legendgroup": "West",
           "marker": {
            "color": "#19d3f3",
            "size": [
             80.98016772683764
            ],
            "sizemode": "area",
            "sizeref": 0.0733892023174649,
            "symbol": "circle"
           },
           "mode": "markers",
           "name": "West",
           "orientation": "v",
           "showlegend": true,
           "type": "scatter",
           "x": [
            19615704
           ],
           "xaxis": "x",
           "y": [
            80.98016772683764
           ],
           "yaxis": "y"
          }
         ],
         "name": "2020"
        }
       ],
       "layout": {
        "hoverlabel": {
         "bgcolor": "white",
         "font": {
          "family": "Calibri",
          "size": 16
         }
        },
        "legend": {
         "itemsizing": "constant",
         "title": {
          "text": "region"
         },
         "tracegroupgap": 0
        },
        "margin": {
         "b": 0,
         "l": 0,
         "r": 0,
         "t": 50
        },
        "sliders": [
         {
          "active": 0,
          "currentvalue": {
           "prefix": "year="
          },
          "len": 0.9,
          "pad": {
           "b": 10,
           "t": 60
          },
          "steps": [
           {
            "args": [
             [
              "2010"
             ],
             {
              "frame": {
               "duration": 0,
               "redraw": false
              },
              "fromcurrent": true,
              "mode": "immediate",
              "transition": {
               "duration": 0,
               "easing": "linear"
              }
             }
            ],
            "label": "2010",
            "method": "animate"
           },
           {
            "args": [
             [
              "2011"
             ],
             {
              "frame": {
               "duration": 0,
               "redraw": false
              },
              "fromcurrent": true,
              "mode": "immediate",
              "transition": {
               "duration": 0,
               "easing": "linear"
              }
             }
            ],
            "label": "2011",
            "method": "animate"
           },
           {
            "args": [
             [
              "2012"
             ],
             {
              "frame": {
               "duration": 0,
               "redraw": false
              },
              "fromcurrent": true,
              "mode": "immediate",
              "transition": {
               "duration": 0,
               "easing": "linear"
              }
             }
            ],
            "label": "2012",
            "method": "animate"
           },
           {
            "args": [
             [
              "2013"
             ],
             {
              "frame": {
               "duration": 0,
               "redraw": false
              },
              "fromcurrent": true,
              "mode": "immediate",
              "transition": {
               "duration": 0,
               "easing": "linear"
              }
             }
            ],
            "label": "2013",
            "method": "animate"
           },
           {
            "args": [
             [
              "2014"
             ],
             {
              "frame": {
               "duration": 0,
               "redraw": false
              },
              "fromcurrent": true,
              "mode": "immediate",
              "transition": {
               "duration": 0,
               "easing": "linear"
              }
             }
            ],
            "label": "2014",
            "method": "animate"
           },
           {
            "args": [
             [
              "2015"
             ],
             {
              "frame": {
               "duration": 0,
               "redraw": false
              },
              "fromcurrent": true,
              "mode": "immediate",
              "transition": {
               "duration": 0,
               "easing": "linear"
              }
             }
            ],
            "label": "2015",
            "method": "animate"
           },
           {
            "args": [
             [
              "2016"
             ],
             {
              "frame": {
               "duration": 0,
               "redraw": false
              },
              "fromcurrent": true,
              "mode": "immediate",
              "transition": {
               "duration": 0,
               "easing": "linear"
              }
             }
            ],
            "label": "2016",
            "method": "animate"
           },
           {
            "args": [
             [
              "2017"
             ],
             {
              "frame": {
               "duration": 0,
               "redraw": false
              },
              "fromcurrent": true,
              "mode": "immediate",
              "transition": {
               "duration": 0,
               "easing": "linear"
              }
             }
            ],
            "label": "2017",
            "method": "animate"
           },
           {
            "args": [
             [
              "2018"
             ],
             {
              "frame": {
               "duration": 0,
               "redraw": false
              },
              "fromcurrent": true,
              "mode": "immediate",
              "transition": {
               "duration": 0,
               "easing": "linear"
              }
             }
            ],
            "label": "2018",
            "method": "animate"
           },
           {
            "args": [
             [
              "2019"
             ],
             {
              "frame": {
               "duration": 0,
               "redraw": false
              },
              "fromcurrent": true,
              "mode": "immediate",
              "transition": {
               "duration": 0,
               "easing": "linear"
              }
             }
            ],
            "label": "2019",
            "method": "animate"
           },
           {
            "args": [
             [
              "2020"
             ],
             {
              "frame": {
               "duration": 0,
               "redraw": false
              },
              "fromcurrent": true,
              "mode": "immediate",
              "transition": {
               "duration": 0,
               "easing": "linear"
              }
             }
            ],
            "label": "2020",
            "method": "animate"
           }
          ],
          "x": 0.1,
          "xanchor": "left",
          "y": 0,
          "yanchor": "top"
         }
        ],
        "template": {
         "data": {
          "bar": [
           {
            "error_x": {
             "color": "#2a3f5f"
            },
            "error_y": {
             "color": "#2a3f5f"
            },
            "marker": {
             "line": {
              "color": "#E5ECF6",
              "width": 0.5
             },
             "pattern": {
              "fillmode": "overlay",
              "size": 10,
              "solidity": 0.2
             }
            },
            "type": "bar"
           }
          ],
          "barpolar": [
           {
            "marker": {
             "line": {
              "color": "#E5ECF6",
              "width": 0.5
             },
             "pattern": {
              "fillmode": "overlay",
              "size": 10,
              "solidity": 0.2
             }
            },
            "type": "barpolar"
           }
          ],
          "carpet": [
           {
            "aaxis": {
             "endlinecolor": "#2a3f5f",
             "gridcolor": "white",
             "linecolor": "white",
             "minorgridcolor": "white",
             "startlinecolor": "#2a3f5f"
            },
            "baxis": {
             "endlinecolor": "#2a3f5f",
             "gridcolor": "white",
             "linecolor": "white",
             "minorgridcolor": "white",
             "startlinecolor": "#2a3f5f"
            },
            "type": "carpet"
           }
          ],
          "choropleth": [
           {
            "colorbar": {
             "outlinewidth": 0,
             "ticks": ""
            },
            "type": "choropleth"
           }
          ],
          "contour": [
           {
            "colorbar": {
             "outlinewidth": 0,
             "ticks": ""
            },
            "colorscale": [
             [
              0,
              "#0d0887"
             ],
             [
              0.1111111111111111,
              "#46039f"
             ],
             [
              0.2222222222222222,
              "#7201a8"
             ],
             [
              0.3333333333333333,
              "#9c179e"
             ],
             [
              0.4444444444444444,
              "#bd3786"
             ],
             [
              0.5555555555555556,
              "#d8576b"
             ],
             [
              0.6666666666666666,
              "#ed7953"
             ],
             [
              0.7777777777777778,
              "#fb9f3a"
             ],
             [
              0.8888888888888888,
              "#fdca26"
             ],
             [
              1,
              "#f0f921"
             ]
            ],
            "type": "contour"
           }
          ],
          "contourcarpet": [
           {
            "colorbar": {
             "outlinewidth": 0,
             "ticks": ""
            },
            "type": "contourcarpet"
           }
          ],
          "heatmap": [
           {
            "colorbar": {
             "outlinewidth": 0,
             "ticks": ""
            },
            "colorscale": [
             [
              0,
              "#0d0887"
             ],
             [
              0.1111111111111111,
              "#46039f"
             ],
             [
              0.2222222222222222,
              "#7201a8"
             ],
             [
              0.3333333333333333,
              "#9c179e"
             ],
             [
              0.4444444444444444,
              "#bd3786"
             ],
             [
              0.5555555555555556,
              "#d8576b"
             ],
             [
              0.6666666666666666,
              "#ed7953"
             ],
             [
              0.7777777777777778,
              "#fb9f3a"
             ],
             [
              0.8888888888888888,
              "#fdca26"
             ],
             [
              1,
              "#f0f921"
             ]
            ],
            "type": "heatmap"
           }
          ],
          "heatmapgl": [
           {
            "colorbar": {
             "outlinewidth": 0,
             "ticks": ""
            },
            "colorscale": [
             [
              0,
              "#0d0887"
             ],
             [
              0.1111111111111111,
              "#46039f"
             ],
             [
              0.2222222222222222,
              "#7201a8"
             ],
             [
              0.3333333333333333,
              "#9c179e"
             ],
             [
              0.4444444444444444,
              "#bd3786"
             ],
             [
              0.5555555555555556,
              "#d8576b"
             ],
             [
              0.6666666666666666,
              "#ed7953"
             ],
             [
              0.7777777777777778,
              "#fb9f3a"
             ],
             [
              0.8888888888888888,
              "#fdca26"
             ],
             [
              1,
              "#f0f921"
             ]
            ],
            "type": "heatmapgl"
           }
          ],
          "histogram": [
           {
            "marker": {
             "pattern": {
              "fillmode": "overlay",
              "size": 10,
              "solidity": 0.2
             }
            },
            "type": "histogram"
           }
          ],
          "histogram2d": [
           {
            "colorbar": {
             "outlinewidth": 0,
             "ticks": ""
            },
            "colorscale": [
             [
              0,
              "#0d0887"
             ],
             [
              0.1111111111111111,
              "#46039f"
             ],
             [
              0.2222222222222222,
              "#7201a8"
             ],
             [
              0.3333333333333333,
              "#9c179e"
             ],
             [
              0.4444444444444444,
              "#bd3786"
             ],
             [
              0.5555555555555556,
              "#d8576b"
             ],
             [
              0.6666666666666666,
              "#ed7953"
             ],
             [
              0.7777777777777778,
              "#fb9f3a"
             ],
             [
              0.8888888888888888,
              "#fdca26"
             ],
             [
              1,
              "#f0f921"
             ]
            ],
            "type": "histogram2d"
           }
          ],
          "histogram2dcontour": [
           {
            "colorbar": {
             "outlinewidth": 0,
             "ticks": ""
            },
            "colorscale": [
             [
              0,
              "#0d0887"
             ],
             [
              0.1111111111111111,
              "#46039f"
             ],
             [
              0.2222222222222222,
              "#7201a8"
             ],
             [
              0.3333333333333333,
              "#9c179e"
             ],
             [
              0.4444444444444444,
              "#bd3786"
             ],
             [
              0.5555555555555556,
              "#d8576b"
             ],
             [
              0.6666666666666666,
              "#ed7953"
             ],
             [
              0.7777777777777778,
              "#fb9f3a"
             ],
             [
              0.8888888888888888,
              "#fdca26"
             ],
             [
              1,
              "#f0f921"
             ]
            ],
            "type": "histogram2dcontour"
           }
          ],
          "mesh3d": [
           {
            "colorbar": {
             "outlinewidth": 0,
             "ticks": ""
            },
            "type": "mesh3d"
           }
          ],
          "parcoords": [
           {
            "line": {
             "colorbar": {
              "outlinewidth": 0,
              "ticks": ""
             }
            },
            "type": "parcoords"
           }
          ],
          "pie": [
           {
            "automargin": true,
            "type": "pie"
           }
          ],
          "scatter": [
           {
            "fillpattern": {
             "fillmode": "overlay",
             "size": 10,
             "solidity": 0.2
            },
            "type": "scatter"
           }
          ],
          "scatter3d": [
           {
            "line": {
             "colorbar": {
              "outlinewidth": 0,
              "ticks": ""
             }
            },
            "marker": {
             "colorbar": {
              "outlinewidth": 0,
              "ticks": ""
             }
            },
            "type": "scatter3d"
           }
          ],
          "scattercarpet": [
           {
            "marker": {
             "colorbar": {
              "outlinewidth": 0,
              "ticks": ""
             }
            },
            "type": "scattercarpet"
           }
          ],
          "scattergeo": [
           {
            "marker": {
             "colorbar": {
              "outlinewidth": 0,
              "ticks": ""
             }
            },
            "type": "scattergeo"
           }
          ],
          "scattergl": [
           {
            "marker": {
             "colorbar": {
              "outlinewidth": 0,
              "ticks": ""
             }
            },
            "type": "scattergl"
           }
          ],
          "scattermapbox": [
           {
            "marker": {
             "colorbar": {
              "outlinewidth": 0,
              "ticks": ""
             }
            },
            "type": "scattermapbox"
           }
          ],
          "scatterpolar": [
           {
            "marker": {
             "colorbar": {
              "outlinewidth": 0,
              "ticks": ""
             }
            },
            "type": "scatterpolar"
           }
          ],
          "scatterpolargl": [
           {
            "marker": {
             "colorbar": {
              "outlinewidth": 0,
              "ticks": ""
             }
            },
            "type": "scatterpolargl"
           }
          ],
          "scatterternary": [
           {
            "marker": {
             "colorbar": {
              "outlinewidth": 0,
              "ticks": ""
             }
            },
            "type": "scatterternary"
           }
          ],
          "surface": [
           {
            "colorbar": {
             "outlinewidth": 0,
             "ticks": ""
            },
            "colorscale": [
             [
              0,
              "#0d0887"
             ],
             [
              0.1111111111111111,
              "#46039f"
             ],
             [
              0.2222222222222222,
              "#7201a8"
             ],
             [
              0.3333333333333333,
              "#9c179e"
             ],
             [
              0.4444444444444444,
              "#bd3786"
             ],
             [
              0.5555555555555556,
              "#d8576b"
             ],
             [
              0.6666666666666666,
              "#ed7953"
             ],
             [
              0.7777777777777778,
              "#fb9f3a"
             ],
             [
              0.8888888888888888,
              "#fdca26"
             ],
             [
              1,
              "#f0f921"
             ]
            ],
            "type": "surface"
           }
          ],
          "table": [
           {
            "cells": {
             "fill": {
              "color": "#EBF0F8"
             },
             "line": {
              "color": "white"
             }
            },
            "header": {
             "fill": {
              "color": "#C8D4E3"
             },
             "line": {
              "color": "white"
             }
            },
            "type": "table"
           }
          ]
         },
         "layout": {
          "annotationdefaults": {
           "arrowcolor": "#2a3f5f",
           "arrowhead": 0,
           "arrowwidth": 1
          },
          "autotypenumbers": "strict",
          "coloraxis": {
           "colorbar": {
            "outlinewidth": 0,
            "ticks": ""
           }
          },
          "colorscale": {
           "diverging": [
            [
             0,
             "#8e0152"
            ],
            [
             0.1,
             "#c51b7d"
            ],
            [
             0.2,
             "#de77ae"
            ],
            [
             0.3,
             "#f1b6da"
            ],
            [
             0.4,
             "#fde0ef"
            ],
            [
             0.5,
             "#f7f7f7"
            ],
            [
             0.6,
             "#e6f5d0"
            ],
            [
             0.7,
             "#b8e186"
            ],
            [
             0.8,
             "#7fbc41"
            ],
            [
             0.9,
             "#4d9221"
            ],
            [
             1,
             "#276419"
            ]
           ],
           "sequential": [
            [
             0,
             "#0d0887"
            ],
            [
             0.1111111111111111,
             "#46039f"
            ],
            [
             0.2222222222222222,
             "#7201a8"
            ],
            [
             0.3333333333333333,
             "#9c179e"
            ],
            [
             0.4444444444444444,
             "#bd3786"
            ],
            [
             0.5555555555555556,
             "#d8576b"
            ],
            [
             0.6666666666666666,
             "#ed7953"
            ],
            [
             0.7777777777777778,
             "#fb9f3a"
            ],
            [
             0.8888888888888888,
             "#fdca26"
            ],
            [
             1,
             "#f0f921"
            ]
           ],
           "sequentialminus": [
            [
             0,
             "#0d0887"
            ],
            [
             0.1111111111111111,
             "#46039f"
            ],
            [
             0.2222222222222222,
             "#7201a8"
            ],
            [
             0.3333333333333333,
             "#9c179e"
            ],
            [
             0.4444444444444444,
             "#bd3786"
            ],
            [
             0.5555555555555556,
             "#d8576b"
            ],
            [
             0.6666666666666666,
             "#ed7953"
            ],
            [
             0.7777777777777778,
             "#fb9f3a"
            ],
            [
             0.8888888888888888,
             "#fdca26"
            ],
            [
             1,
             "#f0f921"
            ]
           ]
          },
          "colorway": [
           "#636efa",
           "#EF553B",
           "#00cc96",
           "#ab63fa",
           "#FFA15A",
           "#19d3f3",
           "#FF6692",
           "#B6E880",
           "#FF97FF",
           "#FECB52"
          ],
          "font": {
           "color": "#2a3f5f"
          },
          "geo": {
           "bgcolor": "white",
           "lakecolor": "white",
           "landcolor": "#E5ECF6",
           "showlakes": true,
           "showland": true,
           "subunitcolor": "white"
          },
          "hoverlabel": {
           "align": "left"
          },
          "hovermode": "closest",
          "mapbox": {
           "style": "light"
          },
          "paper_bgcolor": "white",
          "plot_bgcolor": "#E5ECF6",
          "polar": {
           "angularaxis": {
            "gridcolor": "white",
            "linecolor": "white",
            "ticks": ""
           },
           "bgcolor": "#E5ECF6",
           "radialaxis": {
            "gridcolor": "white",
            "linecolor": "white",
            "ticks": ""
           }
          },
          "scene": {
           "xaxis": {
            "backgroundcolor": "#E5ECF6",
            "gridcolor": "white",
            "gridwidth": 2,
            "linecolor": "white",
            "showbackground": true,
            "ticks": "",
            "zerolinecolor": "white"
           },
           "yaxis": {
            "backgroundcolor": "#E5ECF6",
            "gridcolor": "white",
            "gridwidth": 2,
            "linecolor": "white",
            "showbackground": true,
            "ticks": "",
            "zerolinecolor": "white"
           },
           "zaxis": {
            "backgroundcolor": "#E5ECF6",
            "gridcolor": "white",
            "gridwidth": 2,
            "linecolor": "white",
            "showbackground": true,
            "ticks": "",
            "zerolinecolor": "white"
           }
          },
          "shapedefaults": {
           "line": {
            "color": "#2a3f5f"
           }
          },
          "ternary": {
           "aaxis": {
            "gridcolor": "white",
            "linecolor": "white",
            "ticks": ""
           },
           "baxis": {
            "gridcolor": "white",
            "linecolor": "white",
            "ticks": ""
           },
           "bgcolor": "#E5ECF6",
           "caxis": {
            "gridcolor": "white",
            "linecolor": "white",
            "ticks": ""
           }
          },
          "title": {
           "x": 0.05
          },
          "xaxis": {
           "automargin": true,
           "gridcolor": "white",
           "linecolor": "white",
           "ticks": "",
           "title": {
            "standoff": 15
           },
           "zerolinecolor": "white",
           "zerolinewidth": 2
          },
          "yaxis": {
           "automargin": true,
           "gridcolor": "white",
           "linecolor": "white",
           "ticks": "",
           "title": {
            "standoff": 15
           },
           "zerolinecolor": "white",
           "zerolinewidth": 2
          }
         }
        },
        "title": {
         "text": "Cost per Student vs Student Count"
        },
        "updatemenus": [
         {
          "buttons": [
           {
            "args": [
             null,
             {
              "frame": {
               "duration": 1000,
               "redraw": false
              },
              "fromcurrent": true,
              "repeat": true,
              "transition": {
               "duration": 600,
               "easing": "quadratic-in-out"
              }
             }
            ],
            "label": "Play",
            "method": "animate"
           },
           {
            "args": [
             [
              null
             ],
             {
              "frame": {
               "duration": 0,
               "redraw": false
              },
              "mode": "immediate",
              "transition": {
               "duration": 0
              }
             }
            ],
            "label": "Pause",
            "method": "animate"
           }
          ],
          "direction": "left",
          "pad": {
           "r": 10,
           "t": 87
          },
          "showactive": false,
          "type": "buttons",
          "x": 0.1,
          "xanchor": "right",
          "y": 0,
          "yanchor": "top"
         }
        ],
        "xaxis": {
         "anchor": "y",
         "domain": [
          0,
          1
         ],
         "range": [
          1094937,
          30636397
         ],
         "title": {
          "text": "Student Count"
         }
        },
        "yaxis": {
         "anchor": "x",
         "domain": [
          0,
          1
         ],
         "range": [
          -16.857942181967744,
          233.47300579366225
         ],
         "title": {
          "text": "Cost per Student"
         }
        }
       }
      }
     },
     "metadata": {},
     "output_type": "display_data"
    }
   ],
   "source": [
    "fig = px.scatter(\n",
    "    regional_aggregations, \n",
    "    x=\"student_count\", \n",
    "    y=\"per_student_costs\",\n",
    "    size=\"per_student_costs\", \n",
    "    color=\"region\",\n",
    "    title=\"Cost per Student vs Student Count\",\n",
    "    log_x=False, \n",
    "    size_max=50,\n",
    "    animation_frame=\"year\",  # This will create the slider based on the 'year' column\n",
    "    range_y=[regional_aggregations['per_student_costs'].min() - 50, \n",
    "             regional_aggregations['per_student_costs'].max() + 50],  # Expand the y-axis range by 50 units on both ends\n",
    "    range_x=[regional_aggregations['student_count'].min() - 500000, \n",
    "             regional_aggregations['student_count'].max() + 500000]  # Expand the x-axis range by 50 units on both ends\n",
    ")\n",
    "\n",
    "# Update layout to ensure slider doesn't overlap with other elements and to set animation options\n",
    "fig.update_layout(\n",
    "    margin=dict(l=0, r=0, t=50, b=0),  # Adjust the bottom margin to create space for the slider\n",
    "    xaxis_title=\"Student Count\",\n",
    "    yaxis_title=\"Cost per Student\",\n",
    "    updatemenus=[{\n",
    "        'buttons': [\n",
    "            {\n",
    "                'args': [None, {\n",
    "                    'frame': {'duration': 1000, 'redraw': False}, \n",
    "                    'fromcurrent': True, \n",
    "                    'transition': {'duration': 600, 'easing': 'quadratic-in-out'}\n",
    "                }],\n",
    "                'label': 'Play',\n",
    "                'method': 'animate'\n",
    "            },\n",
    "            {\n",
    "                'args': [[None], {\n",
    "                    'frame': {'duration': 0, 'redraw': False},\n",
    "                    'mode': 'immediate', \n",
    "                    'transition': {'duration': 0}\n",
    "                }],\n",
    "                'label': 'Pause',\n",
    "                'method': 'animate'\n",
    "            }\n",
    "        ],\n",
    "        'direction': 'left',\n",
    "        'pad': {'r': 10, 't': 87},\n",
    "        'showactive': False,\n",
    "        'type': 'buttons',\n",
    "        'x': 0.1,\n",
    "        'xanchor': 'right',\n",
    "        'y': 0,\n",
    "        'yanchor': 'top'\n",
    "    }],\n",
    "    hoverlabel=dict(\n",
    "        bgcolor=\"white\",\n",
    "        font_size=16,\n",
    "        font_family=\"Calibri\"\n",
    "        )\n",
    ")\n",
    "\n",
    "fig.layout.updatemenus[0].buttons[0].args[1]['repeat'] = True\n",
    "\n",
    "fig.show()"
   ]
  },
  {
   "cell_type": "code",
   "execution_count": null,
   "metadata": {},
   "outputs": [],
   "source": []
  }
 ],
 "metadata": {
  "kernelspec": {
   "display_name": "venv",
   "language": "python",
   "name": "python3"
  },
  "language_info": {
   "codemirror_mode": {
    "name": "ipython",
    "version": 3
   },
   "file_extension": ".py",
   "mimetype": "text/x-python",
   "name": "python",
   "nbconvert_exporter": "python",
   "pygments_lexer": "ipython3",
   "version": "3.9.6"
  }
 },
 "nbformat": 4,
 "nbformat_minor": 2
}
