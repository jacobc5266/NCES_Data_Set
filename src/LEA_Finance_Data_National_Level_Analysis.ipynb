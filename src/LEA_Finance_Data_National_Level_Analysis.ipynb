{
 "cells": [
  {
   "cell_type": "markdown",
   "metadata": {},
   "source": [
    "# LEA School District Finance Survey – National Level Analysis"
   ]
  },
  {
   "cell_type": "markdown",
   "metadata": {},
   "source": [
    "#### Note: This project is still in progress"
   ]
  },
  {
   "cell_type": "markdown",
   "metadata": {},
   "source": [
    "Quickly navigate to the Visualizations & Summaries section by clicking [here](#visualizations_summaries) to bypass the detailed data manipulation code and directly access the consolidated analysis and visual representations."
   ]
  },
  {
   "cell_type": "code",
   "execution_count": 1,
   "metadata": {},
   "outputs": [],
   "source": [
    "import pandas as pd\n",
    "import os\n",
    "import plotly.express as px\n",
    "import plotly.graph_objects as go\n",
    "from utilities import Utilities"
   ]
  },
  {
   "cell_type": "code",
   "execution_count": 2,
   "metadata": {},
   "outputs": [],
   "source": [
    "# Create Instance of Utilities (A class with various data operations that will be used throughout the project)\n",
    "utils = Utilities()\n",
    "\n",
    "# Establish Database Connection\n",
    "# The upcoming data retrieval method will switch to CSV format if the database connection fails\n",
    "conn = utils.create_database_conn()"
   ]
  },
  {
   "cell_type": "markdown",
   "metadata": {},
   "source": [
    "#### Note on Database Connectivity and Data Analysis\n",
    "\n",
    "This notebook facilitates a fixed analysis of static data covering the years 2010 to 2020, designed to ensure consistency and replicability of results across different environments. The choice between data extraction methods is streamlined for efficiency and convenience:\n",
    "\n",
    "- **Direct Database Connection**: The notebook attempts to connect to the database at the outset using provided credentials. A successful connection is preferred, especially for conducting the analysis, as it allows direct access to the database. This enables flexibility in querying additional data or making structural adjustments without immediate concern for updating CSV files. The data in the database is static, mirroring the fixed analysis period, and matches exactly the data exported into the CSV files.\n",
    "\n",
    "- **CSV File Access as Fallback**: In cases where the database connection cannot be established (due to incorrect credentials, network access issues, or database unavailability), the notebook automatically switches to using pre-exported CSV files (`student_counts_by_state.csv` and `tech_vocational_expenditures_2010_to_2020.csv`). These files are generated using the same queries as those within the notebook, ensuring that the data and subsequent analysis results will match those obtained directly from the database. This method guarantees that the analysis can be consistently replicated, regardless of the environment setup.\n",
    "\n",
    "The transition between the database and CSV files is handled automatically, eliminating the need for manual configuration. This approach ensures that, whether accessing the database directly or using CSV files, the analysis remains consistent and true to the static dataset from 2010 to 2020."
   ]
  },
  {
   "cell_type": "markdown",
   "metadata": {},
   "source": [
    "## Expenditure Analysis"
   ]
  },
  {
   "cell_type": "code",
   "execution_count": 3,
   "metadata": {},
   "outputs": [],
   "source": [
    "# Query expenditure data\n",
    "query = \"\"\"\n",
    "SELECT \n",
    "    state,\n",
    "    region,\n",
    "    expenditure_title, \n",
    "    year, \n",
    "    SUM(amount) AS amount, \n",
    "    AVG(amount_z_score) AS amount_z_score_avg \n",
    "FROM expenses.expenditure_zscores_by_state_year\n",
    "WHERE expenditure_title ILIKE '%tech%' \n",
    "OR expenditure_title ILIKE '%vocation%'\n",
    "GROUP BY state, region, year, expenditure_title\n",
    "ORDER BY state, year, expenditure_title;\n",
    "\"\"\""
   ]
  },
  {
   "cell_type": "code",
   "execution_count": 4,
   "metadata": {},
   "outputs": [
    {
     "data": {
      "text/html": [
       "<div>\n",
       "<style scoped>\n",
       "    .dataframe tbody tr th:only-of-type {\n",
       "        vertical-align: middle;\n",
       "    }\n",
       "\n",
       "    .dataframe tbody tr th {\n",
       "        vertical-align: top;\n",
       "    }\n",
       "\n",
       "    .dataframe thead th {\n",
       "        text-align: right;\n",
       "    }\n",
       "</style>\n",
       "<table border=\"1\" class=\"dataframe\">\n",
       "  <thead>\n",
       "    <tr style=\"text-align: right;\">\n",
       "      <th></th>\n",
       "      <th>state</th>\n",
       "      <th>region</th>\n",
       "      <th>expenditure_title</th>\n",
       "      <th>year</th>\n",
       "      <th>amount</th>\n",
       "      <th>amount_z_score_avg</th>\n",
       "    </tr>\n",
       "  </thead>\n",
       "  <tbody>\n",
       "    <tr>\n",
       "      <th>0</th>\n",
       "      <td>Alabama</td>\n",
       "      <td>South</td>\n",
       "      <td>teacher_salaries_vocational_education</td>\n",
       "      <td>2010.0</td>\n",
       "      <td>110309000.0</td>\n",
       "      <td>-1.67803030303030303E-19</td>\n",
       "    </tr>\n",
       "    <tr>\n",
       "      <th>1</th>\n",
       "      <td>Alabama</td>\n",
       "      <td>South</td>\n",
       "      <td>teacher_salaries_vocational_education</td>\n",
       "      <td>2011.0</td>\n",
       "      <td>107614000.0</td>\n",
       "      <td>-6.14166666666666667E-19</td>\n",
       "    </tr>\n",
       "    <tr>\n",
       "      <th>2</th>\n",
       "      <td>Alabama</td>\n",
       "      <td>South</td>\n",
       "      <td>teacher_salaries_vocational_education</td>\n",
       "      <td>2012.0</td>\n",
       "      <td>105162000.0</td>\n",
       "      <td>-2.25606060606060606E-19</td>\n",
       "    </tr>\n",
       "    <tr>\n",
       "      <th>3</th>\n",
       "      <td>Alabama</td>\n",
       "      <td>South</td>\n",
       "      <td>teacher_salaries_vocational_education</td>\n",
       "      <td>2013.0</td>\n",
       "      <td>108247000.0</td>\n",
       "      <td>1.71343283582089552E-19</td>\n",
       "    </tr>\n",
       "    <tr>\n",
       "      <th>4</th>\n",
       "      <td>Alabama</td>\n",
       "      <td>South</td>\n",
       "      <td>teacher_salaries_vocational_education</td>\n",
       "      <td>2014.0</td>\n",
       "      <td>110787000.0</td>\n",
       "      <td>6.56666666666666667E-19</td>\n",
       "    </tr>\n",
       "  </tbody>\n",
       "</table>\n",
       "</div>"
      ],
      "text/plain": [
       "     state region                      expenditure_title    year       amount  \\\n",
       "0  Alabama  South  teacher_salaries_vocational_education  2010.0  110309000.0   \n",
       "1  Alabama  South  teacher_salaries_vocational_education  2011.0  107614000.0   \n",
       "2  Alabama  South  teacher_salaries_vocational_education  2012.0  105162000.0   \n",
       "3  Alabama  South  teacher_salaries_vocational_education  2013.0  108247000.0   \n",
       "4  Alabama  South  teacher_salaries_vocational_education  2014.0  110787000.0   \n",
       "\n",
       "         amount_z_score_avg  \n",
       "0  -1.67803030303030303E-19  \n",
       "1  -6.14166666666666667E-19  \n",
       "2  -2.25606060606060606E-19  \n",
       "3   1.71343283582089552E-19  \n",
       "4   6.56666666666666667E-19  "
      ]
     },
     "execution_count": 4,
     "metadata": {},
     "output_type": "execute_result"
    }
   ],
   "source": [
    "if conn:\n",
    "    tech_vocational_expenditures = utils.execute_sql(query, conn)\n",
    "else:\n",
    "        try:\n",
    "            tech_vocational_expenditures = pd.read_csv(os.path.join('..','tech_vocational_expenditures_2010_to_2020.csv'), \n",
    "                                                       dtype={'amount_z_score_avg': 'str'})\n",
    "        except FileNotFoundError:\n",
    "            print(\"CSV file 'tech_vocational_expenditures_2010_to_2020.csv' not found. Please ensure the file is in the correct directory.\")\n",
    "            raise \n",
    "        except Exception as e:\n",
    "            print(f\"An error occurred while loading the CSV file: {e}\")\n",
    "            raise \n",
    "tech_vocational_expenditures.head()"
   ]
  },
  {
   "cell_type": "code",
   "execution_count": 5,
   "metadata": {},
   "outputs": [
    {
     "data": {
      "text/plain": [
       "state                  object\n",
       "region                 object\n",
       "expenditure_title      object\n",
       "year                  float64\n",
       "amount                 object\n",
       "amount_z_score_avg     object\n",
       "dtype: object"
      ]
     },
     "execution_count": 5,
     "metadata": {},
     "output_type": "execute_result"
    }
   ],
   "source": [
    "tech_vocational_expenditures.dtypes"
   ]
  },
  {
   "cell_type": "code",
   "execution_count": 6,
   "metadata": {},
   "outputs": [
    {
     "data": {
      "text/plain": [
       "state                  object\n",
       "region                 object\n",
       "expenditure_title      object\n",
       "year                    int64\n",
       "amount                float64\n",
       "amount_z_score_avg    float64\n",
       "dtype: object"
      ]
     },
     "execution_count": 6,
     "metadata": {},
     "output_type": "execute_result"
    }
   ],
   "source": [
    "tech_vocational_expenditures = tech_vocational_expenditures.astype({'year' : int,\n",
    "                                                                    'amount' : 'float64',\n",
    "                                                                    'amount_z_score_avg' : 'float64'\n",
    "                                                                    })\n",
    "\n",
    "tech_vocational_expenditures.dtypes"
   ]
  },
  {
   "cell_type": "code",
   "execution_count": 7,
   "metadata": {},
   "outputs": [
    {
     "data": {
      "text/html": [
       "<div>\n",
       "<style scoped>\n",
       "    .dataframe tbody tr th:only-of-type {\n",
       "        vertical-align: middle;\n",
       "    }\n",
       "\n",
       "    .dataframe tbody tr th {\n",
       "        vertical-align: top;\n",
       "    }\n",
       "\n",
       "    .dataframe thead th {\n",
       "        text-align: right;\n",
       "    }\n",
       "</style>\n",
       "<table border=\"1\" class=\"dataframe\">\n",
       "  <thead>\n",
       "    <tr style=\"text-align: right;\">\n",
       "      <th></th>\n",
       "      <th>state</th>\n",
       "      <th>region</th>\n",
       "      <th>expenditure_title</th>\n",
       "      <th>year</th>\n",
       "      <th>amount</th>\n",
       "      <th>amount_z_score_avg</th>\n",
       "    </tr>\n",
       "  </thead>\n",
       "  <tbody>\n",
       "    <tr>\n",
       "      <th>0</th>\n",
       "      <td>Alabama</td>\n",
       "      <td>South</td>\n",
       "      <td>teacher_salaries_vocational_education</td>\n",
       "      <td>2010</td>\n",
       "      <td>110309000.0</td>\n",
       "      <td>-1.678030e-19</td>\n",
       "    </tr>\n",
       "    <tr>\n",
       "      <th>1</th>\n",
       "      <td>Alabama</td>\n",
       "      <td>South</td>\n",
       "      <td>teacher_salaries_vocational_education</td>\n",
       "      <td>2011</td>\n",
       "      <td>107614000.0</td>\n",
       "      <td>-6.141667e-19</td>\n",
       "    </tr>\n",
       "    <tr>\n",
       "      <th>2</th>\n",
       "      <td>Alabama</td>\n",
       "      <td>South</td>\n",
       "      <td>teacher_salaries_vocational_education</td>\n",
       "      <td>2012</td>\n",
       "      <td>105162000.0</td>\n",
       "      <td>-2.256061e-19</td>\n",
       "    </tr>\n",
       "    <tr>\n",
       "      <th>3</th>\n",
       "      <td>Alabama</td>\n",
       "      <td>South</td>\n",
       "      <td>teacher_salaries_vocational_education</td>\n",
       "      <td>2013</td>\n",
       "      <td>108247000.0</td>\n",
       "      <td>1.713433e-19</td>\n",
       "    </tr>\n",
       "    <tr>\n",
       "      <th>4</th>\n",
       "      <td>Alabama</td>\n",
       "      <td>South</td>\n",
       "      <td>teacher_salaries_vocational_education</td>\n",
       "      <td>2014</td>\n",
       "      <td>110787000.0</td>\n",
       "      <td>6.566667e-19</td>\n",
       "    </tr>\n",
       "  </tbody>\n",
       "</table>\n",
       "</div>"
      ],
      "text/plain": [
       "     state region                      expenditure_title  year       amount  \\\n",
       "0  Alabama  South  teacher_salaries_vocational_education  2010  110309000.0   \n",
       "1  Alabama  South  teacher_salaries_vocational_education  2011  107614000.0   \n",
       "2  Alabama  South  teacher_salaries_vocational_education  2012  105162000.0   \n",
       "3  Alabama  South  teacher_salaries_vocational_education  2013  108247000.0   \n",
       "4  Alabama  South  teacher_salaries_vocational_education  2014  110787000.0   \n",
       "\n",
       "   amount_z_score_avg  \n",
       "0       -1.678030e-19  \n",
       "1       -6.141667e-19  \n",
       "2       -2.256061e-19  \n",
       "3        1.713433e-19  \n",
       "4        6.566667e-19  "
      ]
     },
     "execution_count": 7,
     "metadata": {},
     "output_type": "execute_result"
    }
   ],
   "source": [
    "tech_vocational_expenditures.head()"
   ]
  },
  {
   "cell_type": "code",
   "execution_count": 8,
   "metadata": {},
   "outputs": [],
   "source": [
    "query = \"\"\"\n",
    "SELECT \n",
    "\te.state,\n",
    "    e.region, \n",
    "\tDATE_PART('year', stats.year) AS year, \n",
    "\tSUM(stats.fall_membership) AS student_count\n",
    "FROM entity.annual_stats AS stats\n",
    "INNER JOIN entity.entity as e\n",
    "\tON stats.census_id = e.census_id\n",
    "GROUP BY e.state, e.region, stats.year\n",
    "ORDER BY e.state, stats.year;\n",
    "\"\"\""
   ]
  },
  {
   "cell_type": "code",
   "execution_count": 9,
   "metadata": {},
   "outputs": [
    {
     "data": {
      "text/html": [
       "<div>\n",
       "<style scoped>\n",
       "    .dataframe tbody tr th:only-of-type {\n",
       "        vertical-align: middle;\n",
       "    }\n",
       "\n",
       "    .dataframe tbody tr th {\n",
       "        vertical-align: top;\n",
       "    }\n",
       "\n",
       "    .dataframe thead th {\n",
       "        text-align: right;\n",
       "    }\n",
       "</style>\n",
       "<table border=\"1\" class=\"dataframe\">\n",
       "  <thead>\n",
       "    <tr style=\"text-align: right;\">\n",
       "      <th></th>\n",
       "      <th>state</th>\n",
       "      <th>region</th>\n",
       "      <th>year</th>\n",
       "      <th>student_count</th>\n",
       "    </tr>\n",
       "  </thead>\n",
       "  <tbody>\n",
       "    <tr>\n",
       "      <th>0</th>\n",
       "      <td>Alabama</td>\n",
       "      <td>South</td>\n",
       "      <td>2010.0</td>\n",
       "      <td>748889.0</td>\n",
       "    </tr>\n",
       "    <tr>\n",
       "      <th>1</th>\n",
       "      <td>Alabama</td>\n",
       "      <td>South</td>\n",
       "      <td>2011.0</td>\n",
       "      <td>738322.0</td>\n",
       "    </tr>\n",
       "    <tr>\n",
       "      <th>2</th>\n",
       "      <td>Alabama</td>\n",
       "      <td>South</td>\n",
       "      <td>2012.0</td>\n",
       "      <td>744621.0</td>\n",
       "    </tr>\n",
       "    <tr>\n",
       "      <th>3</th>\n",
       "      <td>Alabama</td>\n",
       "      <td>South</td>\n",
       "      <td>2013.0</td>\n",
       "      <td>744548.0</td>\n",
       "    </tr>\n",
       "    <tr>\n",
       "      <th>4</th>\n",
       "      <td>Alabama</td>\n",
       "      <td>South</td>\n",
       "      <td>2014.0</td>\n",
       "      <td>740081.0</td>\n",
       "    </tr>\n",
       "  </tbody>\n",
       "</table>\n",
       "</div>"
      ],
      "text/plain": [
       "     state region    year student_count\n",
       "0  Alabama  South  2010.0      748889.0\n",
       "1  Alabama  South  2011.0      738322.0\n",
       "2  Alabama  South  2012.0      744621.0\n",
       "3  Alabama  South  2013.0      744548.0\n",
       "4  Alabama  South  2014.0      740081.0"
      ]
     },
     "execution_count": 9,
     "metadata": {},
     "output_type": "execute_result"
    }
   ],
   "source": [
    "if conn:\n",
    "    student_counts_by_state_year = utils.execute_sql(query, conn)\n",
    "else:\n",
    "    try:\n",
    "        student_counts_by_state_year = pd.read_csv(os.path.join('..','student_counts_by_state.csv'))\n",
    "    except FileNotFoundError:\n",
    "        print(\"CSV file 'student_counts_by_state.csv' not found. Please ensure the file is in the correct directory.\")\n",
    "        raise  # Reraise the exception to stop the notebook\n",
    "    except Exception as e:\n",
    "        print(f\"An error occurred while loading the CSV file: {e}\")\n",
    "        raise  # Reraise the exception to stop the notebook\n",
    "\n",
    "# Display the head of the DataFrame\n",
    "student_counts_by_state_year.head()\n"
   ]
  },
  {
   "cell_type": "code",
   "execution_count": 10,
   "metadata": {},
   "outputs": [
    {
     "data": {
      "text/plain": [
       "state            object\n",
       "region           object\n",
       "year              int64\n",
       "student_count     int64\n",
       "dtype: object"
      ]
     },
     "execution_count": 10,
     "metadata": {},
     "output_type": "execute_result"
    }
   ],
   "source": [
    "student_counts_by_state_year = student_counts_by_state_year.astype({'year' : int,\n",
    "                                                                    'student_count' : int\n",
    "                                                                    })\n",
    "student_counts_by_state_year.dtypes"
   ]
  },
  {
   "cell_type": "code",
   "execution_count": 11,
   "metadata": {},
   "outputs": [
    {
     "data": {
      "text/html": [
       "<div>\n",
       "<style scoped>\n",
       "    .dataframe tbody tr th:only-of-type {\n",
       "        vertical-align: middle;\n",
       "    }\n",
       "\n",
       "    .dataframe tbody tr th {\n",
       "        vertical-align: top;\n",
       "    }\n",
       "\n",
       "    .dataframe thead th {\n",
       "        text-align: right;\n",
       "    }\n",
       "</style>\n",
       "<table border=\"1\" class=\"dataframe\">\n",
       "  <thead>\n",
       "    <tr style=\"text-align: right;\">\n",
       "      <th></th>\n",
       "      <th>state</th>\n",
       "      <th>region_x</th>\n",
       "      <th>year</th>\n",
       "      <th>student_count</th>\n",
       "      <th>region_y</th>\n",
       "      <th>expenditure_title</th>\n",
       "      <th>amount</th>\n",
       "      <th>amount_z_score_avg</th>\n",
       "    </tr>\n",
       "  </thead>\n",
       "  <tbody>\n",
       "    <tr>\n",
       "      <th>0</th>\n",
       "      <td>Alabama</td>\n",
       "      <td>South</td>\n",
       "      <td>2010</td>\n",
       "      <td>748889</td>\n",
       "      <td>South</td>\n",
       "      <td>teacher_salaries_vocational_education</td>\n",
       "      <td>110309000.0</td>\n",
       "      <td>-1.678030e-19</td>\n",
       "    </tr>\n",
       "    <tr>\n",
       "      <th>1</th>\n",
       "      <td>Alabama</td>\n",
       "      <td>South</td>\n",
       "      <td>2011</td>\n",
       "      <td>738322</td>\n",
       "      <td>South</td>\n",
       "      <td>teacher_salaries_vocational_education</td>\n",
       "      <td>107614000.0</td>\n",
       "      <td>-6.141667e-19</td>\n",
       "    </tr>\n",
       "    <tr>\n",
       "      <th>2</th>\n",
       "      <td>Alabama</td>\n",
       "      <td>South</td>\n",
       "      <td>2012</td>\n",
       "      <td>744621</td>\n",
       "      <td>South</td>\n",
       "      <td>teacher_salaries_vocational_education</td>\n",
       "      <td>105162000.0</td>\n",
       "      <td>-2.256061e-19</td>\n",
       "    </tr>\n",
       "    <tr>\n",
       "      <th>3</th>\n",
       "      <td>Alabama</td>\n",
       "      <td>South</td>\n",
       "      <td>2013</td>\n",
       "      <td>744548</td>\n",
       "      <td>South</td>\n",
       "      <td>teacher_salaries_vocational_education</td>\n",
       "      <td>108247000.0</td>\n",
       "      <td>1.713433e-19</td>\n",
       "    </tr>\n",
       "    <tr>\n",
       "      <th>4</th>\n",
       "      <td>Alabama</td>\n",
       "      <td>South</td>\n",
       "      <td>2014</td>\n",
       "      <td>740081</td>\n",
       "      <td>South</td>\n",
       "      <td>teacher_salaries_vocational_education</td>\n",
       "      <td>110787000.0</td>\n",
       "      <td>6.566667e-19</td>\n",
       "    </tr>\n",
       "  </tbody>\n",
       "</table>\n",
       "</div>"
      ],
      "text/plain": [
       "     state region_x  year  student_count region_y  \\\n",
       "0  Alabama    South  2010         748889    South   \n",
       "1  Alabama    South  2011         738322    South   \n",
       "2  Alabama    South  2012         744621    South   \n",
       "3  Alabama    South  2013         744548    South   \n",
       "4  Alabama    South  2014         740081    South   \n",
       "\n",
       "                       expenditure_title       amount  amount_z_score_avg  \n",
       "0  teacher_salaries_vocational_education  110309000.0       -1.678030e-19  \n",
       "1  teacher_salaries_vocational_education  107614000.0       -6.141667e-19  \n",
       "2  teacher_salaries_vocational_education  105162000.0       -2.256061e-19  \n",
       "3  teacher_salaries_vocational_education  108247000.0        1.713433e-19  \n",
       "4  teacher_salaries_vocational_education  110787000.0        6.566667e-19  "
      ]
     },
     "execution_count": 11,
     "metadata": {},
     "output_type": "execute_result"
    }
   ],
   "source": [
    "statewise_data_w_student_counts = pd.merge(student_counts_by_state_year, tech_vocational_expenditures, how= 'inner', on= ['state', 'year'], validate=\"many_to_many\")\n",
    "statewise_data_w_student_counts.head()"
   ]
  },
  {
   "cell_type": "code",
   "execution_count": 12,
   "metadata": {},
   "outputs": [
    {
     "data": {
      "text/html": [
       "<div>\n",
       "<style scoped>\n",
       "    .dataframe tbody tr th:only-of-type {\n",
       "        vertical-align: middle;\n",
       "    }\n",
       "\n",
       "    .dataframe tbody tr th {\n",
       "        vertical-align: top;\n",
       "    }\n",
       "\n",
       "    .dataframe thead th {\n",
       "        text-align: right;\n",
       "    }\n",
       "</style>\n",
       "<table border=\"1\" class=\"dataframe\">\n",
       "  <thead>\n",
       "    <tr style=\"text-align: right;\">\n",
       "      <th></th>\n",
       "      <th>state</th>\n",
       "      <th>region_x</th>\n",
       "      <th>year</th>\n",
       "      <th>student_count</th>\n",
       "      <th>region_y</th>\n",
       "      <th>expenditure_title</th>\n",
       "      <th>amount</th>\n",
       "      <th>amount_z_score_avg</th>\n",
       "      <th>cost_per_student</th>\n",
       "    </tr>\n",
       "  </thead>\n",
       "  <tbody>\n",
       "    <tr>\n",
       "      <th>0</th>\n",
       "      <td>Alabama</td>\n",
       "      <td>South</td>\n",
       "      <td>2010</td>\n",
       "      <td>748889</td>\n",
       "      <td>South</td>\n",
       "      <td>teacher_salaries_vocational_education</td>\n",
       "      <td>110309000.0</td>\n",
       "      <td>-1.678030e-19</td>\n",
       "      <td>147.296862</td>\n",
       "    </tr>\n",
       "    <tr>\n",
       "      <th>1</th>\n",
       "      <td>Alabama</td>\n",
       "      <td>South</td>\n",
       "      <td>2011</td>\n",
       "      <td>738322</td>\n",
       "      <td>South</td>\n",
       "      <td>teacher_salaries_vocational_education</td>\n",
       "      <td>107614000.0</td>\n",
       "      <td>-6.141667e-19</td>\n",
       "      <td>145.754833</td>\n",
       "    </tr>\n",
       "    <tr>\n",
       "      <th>2</th>\n",
       "      <td>Alabama</td>\n",
       "      <td>South</td>\n",
       "      <td>2012</td>\n",
       "      <td>744621</td>\n",
       "      <td>South</td>\n",
       "      <td>teacher_salaries_vocational_education</td>\n",
       "      <td>105162000.0</td>\n",
       "      <td>-2.256061e-19</td>\n",
       "      <td>141.228894</td>\n",
       "    </tr>\n",
       "    <tr>\n",
       "      <th>3</th>\n",
       "      <td>Alabama</td>\n",
       "      <td>South</td>\n",
       "      <td>2013</td>\n",
       "      <td>744548</td>\n",
       "      <td>South</td>\n",
       "      <td>teacher_salaries_vocational_education</td>\n",
       "      <td>108247000.0</td>\n",
       "      <td>1.713433e-19</td>\n",
       "      <td>145.386194</td>\n",
       "    </tr>\n",
       "    <tr>\n",
       "      <th>4</th>\n",
       "      <td>Alabama</td>\n",
       "      <td>South</td>\n",
       "      <td>2014</td>\n",
       "      <td>740081</td>\n",
       "      <td>South</td>\n",
       "      <td>teacher_salaries_vocational_education</td>\n",
       "      <td>110787000.0</td>\n",
       "      <td>6.566667e-19</td>\n",
       "      <td>149.695777</td>\n",
       "    </tr>\n",
       "  </tbody>\n",
       "</table>\n",
       "</div>"
      ],
      "text/plain": [
       "     state region_x  year  student_count region_y  \\\n",
       "0  Alabama    South  2010         748889    South   \n",
       "1  Alabama    South  2011         738322    South   \n",
       "2  Alabama    South  2012         744621    South   \n",
       "3  Alabama    South  2013         744548    South   \n",
       "4  Alabama    South  2014         740081    South   \n",
       "\n",
       "                       expenditure_title       amount  amount_z_score_avg  \\\n",
       "0  teacher_salaries_vocational_education  110309000.0       -1.678030e-19   \n",
       "1  teacher_salaries_vocational_education  107614000.0       -6.141667e-19   \n",
       "2  teacher_salaries_vocational_education  105162000.0       -2.256061e-19   \n",
       "3  teacher_salaries_vocational_education  108247000.0        1.713433e-19   \n",
       "4  teacher_salaries_vocational_education  110787000.0        6.566667e-19   \n",
       "\n",
       "   cost_per_student  \n",
       "0        147.296862  \n",
       "1        145.754833  \n",
       "2        141.228894  \n",
       "3        145.386194  \n",
       "4        149.695777  "
      ]
     },
     "execution_count": 12,
     "metadata": {},
     "output_type": "execute_result"
    }
   ],
   "source": [
    "statewise_data_w_student_counts['cost_per_student'] = statewise_data_w_student_counts['amount'] / statewise_data_w_student_counts['student_count']\n",
    "statewise_data_w_student_counts.head()"
   ]
  },
  {
   "cell_type": "markdown",
   "metadata": {},
   "source": [
    "### Understanding \"Cost Per Student\" Calculation\n",
    "\n",
    "**Methodology:**\n",
    "\n",
    "For the purpose of this analysis, the \"cost per student\" metric is calculated as the total expenditure amount divided by the number of students for the given year. The formula used is as follows:\n",
    "\n",
    "```python\n",
    "statewise_data_w_student_counts['cost_per_student'] = statewise_data_w_student_counts['amount'] / statewise_data_w_student_counts['student_count']\n",
    "```\n",
    "\n",
    "This calculation aims to provide an approximate value indicating the expenditure per student based on the available data of total expenditure and student counts.\n",
    "\n",
    "**Limitations:**\n",
    "\n",
    "It's essential to acknowledge the limitations of this calculation. The derived \"cost per student\" metric does not account for the nuanced breakdown of expenses directly associated with each student. The analysis lacks the granularity to determine what percentage of funds is genuinely allocated towards the student's educational expenses versus other operational or administrative costs. As a result, the calculated \"cost per student\" serves as an overall indicator and may not accurately represent the true cost of education per student."
   ]
  },
  {
   "cell_type": "code",
   "execution_count": 13,
   "metadata": {},
   "outputs": [
    {
     "data": {
      "text/html": [
       "<div>\n",
       "<style scoped>\n",
       "    .dataframe tbody tr th:only-of-type {\n",
       "        vertical-align: middle;\n",
       "    }\n",
       "\n",
       "    .dataframe tbody tr th {\n",
       "        vertical-align: top;\n",
       "    }\n",
       "\n",
       "    .dataframe thead th {\n",
       "        text-align: right;\n",
       "    }\n",
       "</style>\n",
       "<table border=\"1\" class=\"dataframe\">\n",
       "  <thead>\n",
       "    <tr style=\"text-align: right;\">\n",
       "      <th></th>\n",
       "      <th>year</th>\n",
       "      <th>amount</th>\n",
       "    </tr>\n",
       "  </thead>\n",
       "  <tbody>\n",
       "    <tr>\n",
       "      <th>0</th>\n",
       "      <td>2010</td>\n",
       "      <td>4.269554e+09</td>\n",
       "    </tr>\n",
       "    <tr>\n",
       "      <th>1</th>\n",
       "      <td>2011</td>\n",
       "      <td>4.359258e+09</td>\n",
       "    </tr>\n",
       "    <tr>\n",
       "      <th>2</th>\n",
       "      <td>2012</td>\n",
       "      <td>4.899872e+09</td>\n",
       "    </tr>\n",
       "    <tr>\n",
       "      <th>3</th>\n",
       "      <td>2013</td>\n",
       "      <td>4.958659e+09</td>\n",
       "    </tr>\n",
       "    <tr>\n",
       "      <th>4</th>\n",
       "      <td>2014</td>\n",
       "      <td>5.264175e+09</td>\n",
       "    </tr>\n",
       "  </tbody>\n",
       "</table>\n",
       "</div>"
      ],
      "text/plain": [
       "   year        amount\n",
       "0  2010  4.269554e+09\n",
       "1  2011  4.359258e+09\n",
       "2  2012  4.899872e+09\n",
       "3  2013  4.958659e+09\n",
       "4  2014  5.264175e+09"
      ]
     },
     "execution_count": 13,
     "metadata": {},
     "output_type": "execute_result"
    }
   ],
   "source": [
    "total_expenditures_yearly = statewise_data_w_student_counts.groupby('year')['amount'].sum().reset_index()\n",
    "total_expenditures_yearly.head()"
   ]
  },
  {
   "cell_type": "code",
   "execution_count": 14,
   "metadata": {},
   "outputs": [
    {
     "data": {
      "text/html": [
       "<div>\n",
       "<style scoped>\n",
       "    .dataframe tbody tr th:only-of-type {\n",
       "        vertical-align: middle;\n",
       "    }\n",
       "\n",
       "    .dataframe tbody tr th {\n",
       "        vertical-align: top;\n",
       "    }\n",
       "\n",
       "    .dataframe thead th {\n",
       "        text-align: right;\n",
       "    }\n",
       "</style>\n",
       "<table border=\"1\" class=\"dataframe\">\n",
       "  <thead>\n",
       "    <tr style=\"text-align: right;\">\n",
       "      <th></th>\n",
       "      <th>year</th>\n",
       "      <th>expenditure_title</th>\n",
       "      <th>amount</th>\n",
       "    </tr>\n",
       "  </thead>\n",
       "  <tbody>\n",
       "    <tr>\n",
       "      <th>0</th>\n",
       "      <td>2010</td>\n",
       "      <td>teacher_salaries_vocational_education</td>\n",
       "      <td>4.269554e+09</td>\n",
       "    </tr>\n",
       "    <tr>\n",
       "      <th>1</th>\n",
       "      <td>2011</td>\n",
       "      <td>teacher_salaries_vocational_education</td>\n",
       "      <td>4.359258e+09</td>\n",
       "    </tr>\n",
       "    <tr>\n",
       "      <th>2</th>\n",
       "      <td>2012</td>\n",
       "      <td>teacher_salaries_vocational_education</td>\n",
       "      <td>4.899872e+09</td>\n",
       "    </tr>\n",
       "    <tr>\n",
       "      <th>3</th>\n",
       "      <td>2013</td>\n",
       "      <td>teacher_salaries_vocational_education</td>\n",
       "      <td>4.958659e+09</td>\n",
       "    </tr>\n",
       "    <tr>\n",
       "      <th>4</th>\n",
       "      <td>2014</td>\n",
       "      <td>teacher_salaries_vocational_education</td>\n",
       "      <td>5.264175e+09</td>\n",
       "    </tr>\n",
       "  </tbody>\n",
       "</table>\n",
       "</div>"
      ],
      "text/plain": [
       "   year                      expenditure_title        amount\n",
       "0  2010  teacher_salaries_vocational_education  4.269554e+09\n",
       "1  2011  teacher_salaries_vocational_education  4.359258e+09\n",
       "2  2012  teacher_salaries_vocational_education  4.899872e+09\n",
       "3  2013  teacher_salaries_vocational_education  4.958659e+09\n",
       "4  2014  teacher_salaries_vocational_education  5.264175e+09"
      ]
     },
     "execution_count": 14,
     "metadata": {},
     "output_type": "execute_result"
    }
   ],
   "source": [
    "yearly_expense_totals_by_title = statewise_data_w_student_counts.groupby(['year', 'expenditure_title'])['amount'].sum().reset_index()\n",
    "yearly_expense_totals_by_title.head()"
   ]
  },
  {
   "cell_type": "code",
   "execution_count": 15,
   "metadata": {},
   "outputs": [],
   "source": [
    "tech_voc_expenditures_line_chart1 = px.line(statewise_data_w_student_counts.groupby('year')['amount'].sum().reset_index(),\n",
    "                                           x= 'year',\n",
    "                                           y= 'amount',\n",
    "                                           title= 'Tech and Vocational Education Expenditures Over Time')"
   ]
  },
  {
   "cell_type": "code",
   "execution_count": 16,
   "metadata": {},
   "outputs": [
    {
     "name": "stdout",
     "output_type": "stream",
     "text": [
      "2014 Amount: 5264175000.0\n",
      "2016 Amount: 9614528000.0\n",
      "Total amount difference between 2014 and 2016: 4350353000.0\n",
      "Percentage difference between 2014 and 2016: 82.64%\n"
     ]
    }
   ],
   "source": [
    "TOTAL_2014 = utils.get_year_total(total_expenditures_yearly, 2014, 'amount')\n",
    "TOTAL_2016 = utils.get_year_total(total_expenditures_yearly, 2016, 'amount')\n",
    "\n",
    "TOTAL_DIFFERENCE_2014_TO_2016 = utils.calculate_total_difference(TOTAL_2014, TOTAL_2016)\n",
    "PERCENT_DIFFERENCE_2014_TO_2016 = utils.calculate_percentage_difference(TOTAL_2014, TOTAL_2016)\n",
    "\n",
    "# Print out the results\n",
    "print(f'2014 Amount: {TOTAL_2014}')\n",
    "print(f'2016 Amount: {TOTAL_2016}')\n",
    "print(f\"Total amount difference between 2014 and 2016: {TOTAL_DIFFERENCE_2014_TO_2016}\")\n",
    "print(f\"Percentage difference between 2014 and 2016: {PERCENT_DIFFERENCE_2014_TO_2016:.2f}%\")"
   ]
  },
  {
   "cell_type": "code",
   "execution_count": 17,
   "metadata": {},
   "outputs": [],
   "source": [
    "tech_voc_expenditures_line_chart2 = px.line(yearly_expense_totals_by_title,\n",
    "                                           x= 'year',\n",
    "                                           y= 'amount', \n",
    "                                           color='expenditure_title', \n",
    "                                           title= 'Expenditures by Title Over Time')"
   ]
  },
  {
   "cell_type": "code",
   "execution_count": 18,
   "metadata": {},
   "outputs": [
    {
     "name": "stdout",
     "output_type": "stream",
     "text": [
      "Tech Related Supplies & Services Total: 3948099000.0\n"
     ]
    }
   ],
   "source": [
    "TECH_RELATED_SUPPLIES_SERVICES_2014_TO_2016_TOTAL = yearly_expense_totals_by_title[\n",
    "    (yearly_expense_totals_by_title['expenditure_title'] == 'tech_related_supplies_services') & \n",
    "    (yearly_expense_totals_by_title['year'].isin([2014, 2015, 2016]))\n",
    "]['amount'].sum()\n",
    "\n",
    "print(f'Tech Related Supplies & Services Total: {TECH_RELATED_SUPPLIES_SERVICES_2014_TO_2016_TOTAL}')"
   ]
  },
  {
   "cell_type": "code",
   "execution_count": 19,
   "metadata": {},
   "outputs": [
    {
     "name": "stdout",
     "output_type": "stream",
     "text": [
      "Tech Related Equipment Total: 1263890000.0\n"
     ]
    }
   ],
   "source": [
    "TECH_RELATED_EQUIPMENT_2014_TO_2016_TOTAL = yearly_expense_totals_by_title[\n",
    "    (yearly_expense_totals_by_title['expenditure_title'] == 'tech_related_equipment') & \n",
    "    (yearly_expense_totals_by_title['year'].isin([2014, 2015, 2016]))\n",
    "]['amount'].sum()\n",
    "\n",
    "print(f'Tech Related Equipment Total: {TECH_RELATED_EQUIPMENT_2014_TO_2016_TOTAL}')"
   ]
  },
  {
   "cell_type": "code",
   "execution_count": 20,
   "metadata": {},
   "outputs": [
    {
     "name": "stdout",
     "output_type": "stream",
     "text": [
      "Teacher Salaries Vocational Education: 16308173000.0\n"
     ]
    }
   ],
   "source": [
    "TEACHER_SALARIES_VOCATIONAL_ED_2014_TO_2016_TOTAL = yearly_expense_totals_by_title[\n",
    "    (yearly_expense_totals_by_title['expenditure_title'] == 'teacher_salaries_vocational_education') & \n",
    "    (yearly_expense_totals_by_title['year'].isin([2014, 2015, 2016]))\n",
    "]['amount'].sum()\n",
    "\n",
    "print(f'Teacher Salaries Vocational Education: {TEACHER_SALARIES_VOCATIONAL_ED_2014_TO_2016_TOTAL}')"
   ]
  },
  {
   "cell_type": "code",
   "execution_count": 21,
   "metadata": {},
   "outputs": [
    {
     "name": "stdout",
     "output_type": "stream",
     "text": [
      "2014 to 2016 Grand Total: $21520162000.0\n"
     ]
    }
   ],
   "source": [
    "GRAND_TOTAL_2014_TO_2016 = TECH_RELATED_SUPPLIES_SERVICES_2014_TO_2016_TOTAL + TECH_RELATED_EQUIPMENT_2014_TO_2016_TOTAL + TEACHER_SALARIES_VOCATIONAL_ED_2014_TO_2016_TOTAL\n",
    "\n",
    "print(f'2014 to 2016 Grand Total: ${GRAND_TOTAL_2014_TO_2016}')"
   ]
  },
  {
   "cell_type": "code",
   "execution_count": 22,
   "metadata": {},
   "outputs": [
    {
     "name": "stdout",
     "output_type": "stream",
     "text": [
      "Difference between 2014 and 2016: $4350353000.0\n",
      "Percent difference between 2014 and 2016: 82.64%\n",
      "Teacher Salaries Vocational Education % of Total Revenue between 2014 and 2016: 75.78%\n",
      "Tech Related Supplies & Services % of Total Revenue between 2014 and 2016: 18.35%\n",
      "Tech Related Equipment % of Total Revenue between 2014 and 2016: 5.87%\n"
     ]
    }
   ],
   "source": [
    "PERCENT_DIFFERENCE_BETWEEN_2014_2016 = TOTAL_DIFFERENCE_2014_TO_2016 / TOTAL_2014 * 100\n",
    "\n",
    "TECHER_SALARIES_VOCATIONAL_ED_2014_TO_2016_PERCENT = TEACHER_SALARIES_VOCATIONAL_ED_2014_TO_2016_TOTAL / GRAND_TOTAL_2014_TO_2016 * 100\n",
    "\n",
    "TECH_RELATED_SUPPLIES_SERVICES_2014_TO_2016_PERCENT = TECH_RELATED_SUPPLIES_SERVICES_2014_TO_2016_TOTAL / GRAND_TOTAL_2014_TO_2016 * 100\n",
    "\n",
    "TECH_RELATED_EQUIPMENT_2014_TO_2016_PERCENT = TECH_RELATED_EQUIPMENT_2014_TO_2016_TOTAL / GRAND_TOTAL_2014_TO_2016 * 100\n",
    "\n",
    "print(f'Difference between 2014 and 2016: ${TOTAL_DIFFERENCE_2014_TO_2016}')\n",
    "print(f'Percent difference between 2014 and 2016: {PERCENT_DIFFERENCE_BETWEEN_2014_2016:.2f}%')\n",
    "print(f'Teacher Salaries Vocational Education % of Total Revenue between 2014 and 2016: {TECHER_SALARIES_VOCATIONAL_ED_2014_TO_2016_PERCENT:.2f}%')\n",
    "print(f'Tech Related Supplies & Services % of Total Revenue between 2014 and 2016: {TECH_RELATED_SUPPLIES_SERVICES_2014_TO_2016_PERCENT:.2f}%')\n",
    "print(f'Tech Related Equipment % of Total Revenue between 2014 and 2016: {TECH_RELATED_EQUIPMENT_2014_TO_2016_PERCENT:.2f}%')"
   ]
  },
  {
   "cell_type": "code",
   "execution_count": 23,
   "metadata": {},
   "outputs": [],
   "source": [
    "TOTAL_2015 = utils.get_year_total(total_expenditures_yearly, 2015, 'amount')"
   ]
  },
  {
   "cell_type": "code",
   "execution_count": 24,
   "metadata": {},
   "outputs": [
    {
     "data": {
      "application/vnd.plotly.v1+json": {
       "config": {
        "plotlyServerURL": "https://plot.ly"
       },
       "data": [
        {
         "hovertemplate": "year=%{x}<br>amount=%{y}<extra></extra>",
         "legendgroup": "",
         "line": {
          "color": "#636efa",
          "dash": "solid"
         },
         "marker": {
          "symbol": "circle"
         },
         "mode": "lines",
         "name": "",
         "orientation": "v",
         "showlegend": false,
         "type": "scatter",
         "x": [
          2010,
          2011,
          2012,
          2013,
          2014,
          2015,
          2016,
          2017,
          2018,
          2019,
          2020
         ],
         "xaxis": "x",
         "y": [
          4269554000,
          4359258000,
          4899872000,
          4958659000,
          5264175000,
          6641459000,
          9614528000,
          10518264000,
          12008610000,
          12979716000,
          14318810000
         ],
         "yaxis": "y"
        },
        {
         "hovertemplate": "expenditure_title=teacher_salaries_vocational_education<br>year=%{x}<br>amount=%{y}<extra></extra>",
         "legendgroup": "teacher_salaries_vocational_education",
         "line": {
          "color": "#636efa",
          "dash": "solid"
         },
         "marker": {
          "symbol": "circle"
         },
         "mode": "lines",
         "name": "teacher_salaries_vocational_education",
         "orientation": "v",
         "showlegend": true,
         "type": "scatter",
         "x": [
          2010,
          2011,
          2012,
          2013,
          2014,
          2015,
          2016,
          2017,
          2018,
          2019,
          2020
         ],
         "xaxis": "x2",
         "y": [
          4269554000,
          4359258000,
          4899872000,
          4958659000,
          5264175000,
          5356589000,
          5687409000,
          5942136000,
          6142907000,
          6423723000,
          6788819000
         ],
         "yaxis": "y2"
        },
        {
         "hovertemplate": "expenditure_title=tech_related_equipment<br>year=%{x}<br>amount=%{y}<extra></extra>",
         "legendgroup": "tech_related_equipment",
         "line": {
          "color": "#EF553B",
          "dash": "solid"
         },
         "marker": {
          "symbol": "circle"
         },
         "mode": "lines",
         "name": "tech_related_equipment",
         "orientation": "v",
         "showlegend": true,
         "type": "scatter",
         "x": [
          2015,
          2016,
          2017,
          2018,
          2019,
          2020
         ],
         "xaxis": "x2",
         "y": [
          401803000,
          862087000,
          1076475000,
          1369400000,
          1461407000,
          1300494000
         ],
         "yaxis": "y2"
        },
        {
         "hovertemplate": "expenditure_title=tech_related_supplies_services<br>year=%{x}<br>amount=%{y}<extra></extra>",
         "legendgroup": "tech_related_supplies_services",
         "line": {
          "color": "#00cc96",
          "dash": "solid"
         },
         "marker": {
          "symbol": "circle"
         },
         "mode": "lines",
         "name": "tech_related_supplies_services",
         "orientation": "v",
         "showlegend": true,
         "type": "scatter",
         "x": [
          2015,
          2016,
          2017,
          2018,
          2019,
          2020
         ],
         "xaxis": "x2",
         "y": [
          883067000,
          3065032000,
          3499653000,
          4496303000,
          5094586000,
          6073647000
         ],
         "yaxis": "y2"
        },
        {
         "hovertemplate": "expenditure_title=cares_act_expenditure_tech_related_equipment<br>year=%{x}<br>amount=%{y}<extra></extra>",
         "legendgroup": "cares_act_expenditure_tech_related_equipment",
         "line": {
          "color": "#ab63fa",
          "dash": "solid"
         },
         "marker": {
          "symbol": "circle"
         },
         "mode": "lines",
         "name": "cares_act_expenditure_tech_related_equipment",
         "orientation": "v",
         "showlegend": true,
         "type": "scatter",
         "x": [
          2020
         ],
         "xaxis": "x2",
         "y": [
          25573000
         ],
         "yaxis": "y2"
        },
        {
         "hovertemplate": "expenditure_title=cares_act_expenditure_tech_related_supplies_services<br>year=%{x}<br>amount=%{y}<extra></extra>",
         "legendgroup": "cares_act_expenditure_tech_related_supplies_services",
         "line": {
          "color": "#FFA15A",
          "dash": "solid"
         },
         "marker": {
          "symbol": "circle"
         },
         "mode": "lines",
         "name": "cares_act_expenditure_tech_related_supplies_services",
         "orientation": "v",
         "showlegend": true,
         "type": "scatter",
         "x": [
          2020
         ],
         "xaxis": "x2",
         "y": [
          130277000
         ],
         "yaxis": "y2"
        }
       ],
       "layout": {
        "annotations": [
         {
          "arrowhead": 5,
          "ax": 60,
          "ay": 50,
          "font": {
           "size": 16
          },
          "showarrow": true,
          "text": "NCLB End, ESSA Start",
          "x": 2015,
          "xanchor": "center",
          "xref": "x",
          "y": 6541459000,
          "yanchor": "bottom",
          "yref": "y"
         },
         {
          "arrowhead": 5,
          "ax": 60,
          "ay": 50,
          "font": {
           "size": 16
          },
          "showarrow": true,
          "text": "NCLB End, ESSA Start",
          "x": 2015,
          "xanchor": "center",
          "xref": "x",
          "y": 6541459000,
          "yanchor": "bottom",
          "yref": "y"
         }
        ],
        "height": 600,
        "hoverlabel": {
         "bgcolor": "white",
         "font": {
          "family": "Calibri",
          "size": 16
         }
        },
        "legend": {
         "orientation": "h",
         "x": 0.5,
         "xanchor": "center",
         "y": -0.3,
         "yanchor": "bottom"
        },
        "margin": {
         "b": 200,
         "l": 40,
         "r": 40,
         "t": 80
        },
        "template": {
         "data": {
          "bar": [
           {
            "error_x": {
             "color": "#2a3f5f"
            },
            "error_y": {
             "color": "#2a3f5f"
            },
            "marker": {
             "line": {
              "color": "#E5ECF6",
              "width": 0.5
             },
             "pattern": {
              "fillmode": "overlay",
              "size": 10,
              "solidity": 0.2
             }
            },
            "type": "bar"
           }
          ],
          "barpolar": [
           {
            "marker": {
             "line": {
              "color": "#E5ECF6",
              "width": 0.5
             },
             "pattern": {
              "fillmode": "overlay",
              "size": 10,
              "solidity": 0.2
             }
            },
            "type": "barpolar"
           }
          ],
          "carpet": [
           {
            "aaxis": {
             "endlinecolor": "#2a3f5f",
             "gridcolor": "white",
             "linecolor": "white",
             "minorgridcolor": "white",
             "startlinecolor": "#2a3f5f"
            },
            "baxis": {
             "endlinecolor": "#2a3f5f",
             "gridcolor": "white",
             "linecolor": "white",
             "minorgridcolor": "white",
             "startlinecolor": "#2a3f5f"
            },
            "type": "carpet"
           }
          ],
          "choropleth": [
           {
            "colorbar": {
             "outlinewidth": 0,
             "ticks": ""
            },
            "type": "choropleth"
           }
          ],
          "contour": [
           {
            "colorbar": {
             "outlinewidth": 0,
             "ticks": ""
            },
            "colorscale": [
             [
              0,
              "#0d0887"
             ],
             [
              0.1111111111111111,
              "#46039f"
             ],
             [
              0.2222222222222222,
              "#7201a8"
             ],
             [
              0.3333333333333333,
              "#9c179e"
             ],
             [
              0.4444444444444444,
              "#bd3786"
             ],
             [
              0.5555555555555556,
              "#d8576b"
             ],
             [
              0.6666666666666666,
              "#ed7953"
             ],
             [
              0.7777777777777778,
              "#fb9f3a"
             ],
             [
              0.8888888888888888,
              "#fdca26"
             ],
             [
              1,
              "#f0f921"
             ]
            ],
            "type": "contour"
           }
          ],
          "contourcarpet": [
           {
            "colorbar": {
             "outlinewidth": 0,
             "ticks": ""
            },
            "type": "contourcarpet"
           }
          ],
          "heatmap": [
           {
            "colorbar": {
             "outlinewidth": 0,
             "ticks": ""
            },
            "colorscale": [
             [
              0,
              "#0d0887"
             ],
             [
              0.1111111111111111,
              "#46039f"
             ],
             [
              0.2222222222222222,
              "#7201a8"
             ],
             [
              0.3333333333333333,
              "#9c179e"
             ],
             [
              0.4444444444444444,
              "#bd3786"
             ],
             [
              0.5555555555555556,
              "#d8576b"
             ],
             [
              0.6666666666666666,
              "#ed7953"
             ],
             [
              0.7777777777777778,
              "#fb9f3a"
             ],
             [
              0.8888888888888888,
              "#fdca26"
             ],
             [
              1,
              "#f0f921"
             ]
            ],
            "type": "heatmap"
           }
          ],
          "heatmapgl": [
           {
            "colorbar": {
             "outlinewidth": 0,
             "ticks": ""
            },
            "colorscale": [
             [
              0,
              "#0d0887"
             ],
             [
              0.1111111111111111,
              "#46039f"
             ],
             [
              0.2222222222222222,
              "#7201a8"
             ],
             [
              0.3333333333333333,
              "#9c179e"
             ],
             [
              0.4444444444444444,
              "#bd3786"
             ],
             [
              0.5555555555555556,
              "#d8576b"
             ],
             [
              0.6666666666666666,
              "#ed7953"
             ],
             [
              0.7777777777777778,
              "#fb9f3a"
             ],
             [
              0.8888888888888888,
              "#fdca26"
             ],
             [
              1,
              "#f0f921"
             ]
            ],
            "type": "heatmapgl"
           }
          ],
          "histogram": [
           {
            "marker": {
             "pattern": {
              "fillmode": "overlay",
              "size": 10,
              "solidity": 0.2
             }
            },
            "type": "histogram"
           }
          ],
          "histogram2d": [
           {
            "colorbar": {
             "outlinewidth": 0,
             "ticks": ""
            },
            "colorscale": [
             [
              0,
              "#0d0887"
             ],
             [
              0.1111111111111111,
              "#46039f"
             ],
             [
              0.2222222222222222,
              "#7201a8"
             ],
             [
              0.3333333333333333,
              "#9c179e"
             ],
             [
              0.4444444444444444,
              "#bd3786"
             ],
             [
              0.5555555555555556,
              "#d8576b"
             ],
             [
              0.6666666666666666,
              "#ed7953"
             ],
             [
              0.7777777777777778,
              "#fb9f3a"
             ],
             [
              0.8888888888888888,
              "#fdca26"
             ],
             [
              1,
              "#f0f921"
             ]
            ],
            "type": "histogram2d"
           }
          ],
          "histogram2dcontour": [
           {
            "colorbar": {
             "outlinewidth": 0,
             "ticks": ""
            },
            "colorscale": [
             [
              0,
              "#0d0887"
             ],
             [
              0.1111111111111111,
              "#46039f"
             ],
             [
              0.2222222222222222,
              "#7201a8"
             ],
             [
              0.3333333333333333,
              "#9c179e"
             ],
             [
              0.4444444444444444,
              "#bd3786"
             ],
             [
              0.5555555555555556,
              "#d8576b"
             ],
             [
              0.6666666666666666,
              "#ed7953"
             ],
             [
              0.7777777777777778,
              "#fb9f3a"
             ],
             [
              0.8888888888888888,
              "#fdca26"
             ],
             [
              1,
              "#f0f921"
             ]
            ],
            "type": "histogram2dcontour"
           }
          ],
          "mesh3d": [
           {
            "colorbar": {
             "outlinewidth": 0,
             "ticks": ""
            },
            "type": "mesh3d"
           }
          ],
          "parcoords": [
           {
            "line": {
             "colorbar": {
              "outlinewidth": 0,
              "ticks": ""
             }
            },
            "type": "parcoords"
           }
          ],
          "pie": [
           {
            "automargin": true,
            "type": "pie"
           }
          ],
          "scatter": [
           {
            "fillpattern": {
             "fillmode": "overlay",
             "size": 10,
             "solidity": 0.2
            },
            "type": "scatter"
           }
          ],
          "scatter3d": [
           {
            "line": {
             "colorbar": {
              "outlinewidth": 0,
              "ticks": ""
             }
            },
            "marker": {
             "colorbar": {
              "outlinewidth": 0,
              "ticks": ""
             }
            },
            "type": "scatter3d"
           }
          ],
          "scattercarpet": [
           {
            "marker": {
             "colorbar": {
              "outlinewidth": 0,
              "ticks": ""
             }
            },
            "type": "scattercarpet"
           }
          ],
          "scattergeo": [
           {
            "marker": {
             "colorbar": {
              "outlinewidth": 0,
              "ticks": ""
             }
            },
            "type": "scattergeo"
           }
          ],
          "scattergl": [
           {
            "marker": {
             "colorbar": {
              "outlinewidth": 0,
              "ticks": ""
             }
            },
            "type": "scattergl"
           }
          ],
          "scattermapbox": [
           {
            "marker": {
             "colorbar": {
              "outlinewidth": 0,
              "ticks": ""
             }
            },
            "type": "scattermapbox"
           }
          ],
          "scatterpolar": [
           {
            "marker": {
             "colorbar": {
              "outlinewidth": 0,
              "ticks": ""
             }
            },
            "type": "scatterpolar"
           }
          ],
          "scatterpolargl": [
           {
            "marker": {
             "colorbar": {
              "outlinewidth": 0,
              "ticks": ""
             }
            },
            "type": "scatterpolargl"
           }
          ],
          "scatterternary": [
           {
            "marker": {
             "colorbar": {
              "outlinewidth": 0,
              "ticks": ""
             }
            },
            "type": "scatterternary"
           }
          ],
          "surface": [
           {
            "colorbar": {
             "outlinewidth": 0,
             "ticks": ""
            },
            "colorscale": [
             [
              0,
              "#0d0887"
             ],
             [
              0.1111111111111111,
              "#46039f"
             ],
             [
              0.2222222222222222,
              "#7201a8"
             ],
             [
              0.3333333333333333,
              "#9c179e"
             ],
             [
              0.4444444444444444,
              "#bd3786"
             ],
             [
              0.5555555555555556,
              "#d8576b"
             ],
             [
              0.6666666666666666,
              "#ed7953"
             ],
             [
              0.7777777777777778,
              "#fb9f3a"
             ],
             [
              0.8888888888888888,
              "#fdca26"
             ],
             [
              1,
              "#f0f921"
             ]
            ],
            "type": "surface"
           }
          ],
          "table": [
           {
            "cells": {
             "fill": {
              "color": "#EBF0F8"
             },
             "line": {
              "color": "white"
             }
            },
            "header": {
             "fill": {
              "color": "#C8D4E3"
             },
             "line": {
              "color": "white"
             }
            },
            "type": "table"
           }
          ]
         },
         "layout": {
          "annotationdefaults": {
           "arrowcolor": "#2a3f5f",
           "arrowhead": 0,
           "arrowwidth": 1
          },
          "autotypenumbers": "strict",
          "coloraxis": {
           "colorbar": {
            "outlinewidth": 0,
            "ticks": ""
           }
          },
          "colorscale": {
           "diverging": [
            [
             0,
             "#8e0152"
            ],
            [
             0.1,
             "#c51b7d"
            ],
            [
             0.2,
             "#de77ae"
            ],
            [
             0.3,
             "#f1b6da"
            ],
            [
             0.4,
             "#fde0ef"
            ],
            [
             0.5,
             "#f7f7f7"
            ],
            [
             0.6,
             "#e6f5d0"
            ],
            [
             0.7,
             "#b8e186"
            ],
            [
             0.8,
             "#7fbc41"
            ],
            [
             0.9,
             "#4d9221"
            ],
            [
             1,
             "#276419"
            ]
           ],
           "sequential": [
            [
             0,
             "#0d0887"
            ],
            [
             0.1111111111111111,
             "#46039f"
            ],
            [
             0.2222222222222222,
             "#7201a8"
            ],
            [
             0.3333333333333333,
             "#9c179e"
            ],
            [
             0.4444444444444444,
             "#bd3786"
            ],
            [
             0.5555555555555556,
             "#d8576b"
            ],
            [
             0.6666666666666666,
             "#ed7953"
            ],
            [
             0.7777777777777778,
             "#fb9f3a"
            ],
            [
             0.8888888888888888,
             "#fdca26"
            ],
            [
             1,
             "#f0f921"
            ]
           ],
           "sequentialminus": [
            [
             0,
             "#0d0887"
            ],
            [
             0.1111111111111111,
             "#46039f"
            ],
            [
             0.2222222222222222,
             "#7201a8"
            ],
            [
             0.3333333333333333,
             "#9c179e"
            ],
            [
             0.4444444444444444,
             "#bd3786"
            ],
            [
             0.5555555555555556,
             "#d8576b"
            ],
            [
             0.6666666666666666,
             "#ed7953"
            ],
            [
             0.7777777777777778,
             "#fb9f3a"
            ],
            [
             0.8888888888888888,
             "#fdca26"
            ],
            [
             1,
             "#f0f921"
            ]
           ]
          },
          "colorway": [
           "#636efa",
           "#EF553B",
           "#00cc96",
           "#ab63fa",
           "#FFA15A",
           "#19d3f3",
           "#FF6692",
           "#B6E880",
           "#FF97FF",
           "#FECB52"
          ],
          "font": {
           "color": "#2a3f5f"
          },
          "geo": {
           "bgcolor": "white",
           "lakecolor": "white",
           "landcolor": "#E5ECF6",
           "showlakes": true,
           "showland": true,
           "subunitcolor": "white"
          },
          "hoverlabel": {
           "align": "left"
          },
          "hovermode": "closest",
          "mapbox": {
           "style": "light"
          },
          "paper_bgcolor": "white",
          "plot_bgcolor": "#E5ECF6",
          "polar": {
           "angularaxis": {
            "gridcolor": "white",
            "linecolor": "white",
            "ticks": ""
           },
           "bgcolor": "#E5ECF6",
           "radialaxis": {
            "gridcolor": "white",
            "linecolor": "white",
            "ticks": ""
           }
          },
          "scene": {
           "xaxis": {
            "backgroundcolor": "#E5ECF6",
            "gridcolor": "white",
            "gridwidth": 2,
            "linecolor": "white",
            "showbackground": true,
            "ticks": "",
            "zerolinecolor": "white"
           },
           "yaxis": {
            "backgroundcolor": "#E5ECF6",
            "gridcolor": "white",
            "gridwidth": 2,
            "linecolor": "white",
            "showbackground": true,
            "ticks": "",
            "zerolinecolor": "white"
           },
           "zaxis": {
            "backgroundcolor": "#E5ECF6",
            "gridcolor": "white",
            "gridwidth": 2,
            "linecolor": "white",
            "showbackground": true,
            "ticks": "",
            "zerolinecolor": "white"
           }
          },
          "shapedefaults": {
           "line": {
            "color": "#2a3f5f"
           }
          },
          "ternary": {
           "aaxis": {
            "gridcolor": "white",
            "linecolor": "white",
            "ticks": ""
           },
           "baxis": {
            "gridcolor": "white",
            "linecolor": "white",
            "ticks": ""
           },
           "bgcolor": "#E5ECF6",
           "caxis": {
            "gridcolor": "white",
            "linecolor": "white",
            "ticks": ""
           }
          },
          "title": {
           "x": 0.05
          },
          "xaxis": {
           "automargin": true,
           "gridcolor": "white",
           "linecolor": "white",
           "ticks": "",
           "title": {
            "standoff": 15
           },
           "zerolinecolor": "white",
           "zerolinewidth": 2
          },
          "yaxis": {
           "automargin": true,
           "gridcolor": "white",
           "linecolor": "white",
           "ticks": "",
           "title": {
            "standoff": 15
           },
           "zerolinecolor": "white",
           "zerolinewidth": 2
          }
         }
        },
        "title": {
         "text": "Tech and Vocational Education Expenditures Comparison",
         "x": 0.5,
         "xanchor": "center",
         "y": 0.98,
         "yanchor": "top"
        },
        "width": 1050,
        "xaxis": {
         "anchor": "y",
         "domain": [
          0,
          0.45
         ]
        },
        "xaxis2": {
         "anchor": "y2",
         "domain": [
          0.55,
          1
         ]
        },
        "yaxis": {
         "anchor": "x",
         "domain": [
          0,
          1
         ]
        },
        "yaxis2": {
         "anchor": "x2",
         "domain": [
          0,
          1
         ]
        }
       }
      }
     },
     "metadata": {},
     "output_type": "display_data"
    }
   ],
   "source": [
    "tech_vocational_line_charts_combined = utils.create_combined_figure(tech_voc_expenditures_line_chart1, \n",
    "                                            tech_voc_expenditures_line_chart2, \n",
    "                                            'Tech and Vocational Education Expenditures Comparison',\n",
    "                                            ('Total Expenditures Over Time', 'Expenditures by Title Over Time')\n",
    "                                            )\n",
    "\n",
    "tech_vocational_line_charts_combined.update_layout(\n",
    "    annotations=[\n",
    "        dict(\n",
    "            x=2015,\n",
    "            y=TOTAL_2015 - 100000000,\n",
    "            xref=\"x\",\n",
    "            yref=\"y\",\n",
    "            text=\"NCLB End, ESSA Start\",\n",
    "            showarrow=True,\n",
    "            arrowhead=5,\n",
    "            ax=60,\n",
    "            ay=50\n",
    "        )\n",
    "    ]\n",
    ")\n",
    "\n",
    "tech_vocational_line_charts_combined.show()"
   ]
  },
  {
   "cell_type": "markdown",
   "metadata": {},
   "source": [
    "### Notes:\n",
    "\n",
    "Original Analysis:  \n",
    "\n",
    "**Total Expenditures Over Time:**  \n",
    "- There is a steady positive growth in Tech and Vocational expenditures from 2010 to 2014.\n",
    "- In 2014, there is a sharp increase in expenditures ending in 2016.\n",
    "- In 2016, expenditures appear to steady.\n",
    "- Positive growth is visible throughout. \n",
    "\n",
    "**Expenditures by Title Over Time:**  \n",
    "- After breaking the data out by Expenditure Title, we see that in 2015, two additional expenditure categories were added:\n",
    "    - Tech Related Supplies & Services\n",
    "    - Tech Related Equipment\n",
    "- There is fairly consistent positive growth in Tech Related Equipment between 2015 and 2019.\n",
    "- After 2019, there is a slight decline in this expenditure category. \n",
    "    - It should be noted that COVID-19 started spreading in late 2019, which lead to worldwide pandemic in 2020. \n",
    "- Tech Related Supplies & Services appears to have the largest impact to the growth exhibited between 2015 and 2020.\n",
    "- Teacher Salaries Vocational Education remains constant.  \n",
    "\n",
    "### Additional Analysis:  \n",
    "- Difference between 2014 & 2016: $ 4,350,353,000  \n",
    "- Percent difference between 2014 & 2016: 82.64%  \n",
    "\n",
    "- Teacher Salaries Vocational Education % of Total Tech and Vocational Expenditures from 2014 to 2016: 75.78%  \n",
    "    - Total: $16,308,173,000  \n",
    "\n",
    "- Tech Related Supplies & Services percent of Total Tech and Vocational Expenditures from 2014 to 2016: 18.35%  \n",
    "    - Total: $3,948,099,000  \n",
    "    \n",
    "- Tech Related Equipment percent of Total Tech and Vocational Expenditures from 2014 to 2016: 5.87%  \n",
    "    - Total: $1,263,890,000\n",
    "\n",
    "#### Summary:  \n",
    "Between 2014 and 2016, there was an 82.64% increase in tech and vocational education related expenditures. Upon further investigation, this increase was driven by the addition of two expenditure categories, `Tech Related Supplies Services` and `Tech Related Equipment`. The main driving factor in the expenditure spike was due to `Tech Related Supplies Services`, which accounted for 18.35% of the total expenditures between 2014 and 2016. Although we see consistent growth in `Teacher Salaries Vocational Edication`, this still accounted for 75.78% of expenditures between 2014 and 2016. After 2016, the sharp spike in expenditures slows, but still maintains a positive trend. `Tech Related Supplies Services` continues to have a greater influence to the overall trend despite the spike in expenditures slowing after 2016.\n",
    "\n",
    "#### Noteworthy Event in 2015:\n",
    "\n",
    "The **Every Student Succeeds Act (ESSA)**, enacted in 2015, marked the transition from the **No Child Left Behind Act (NCLB)** and likely impacted educational spending trends. Both **NCLB** and **ESSA** were centered on standards-based education reform, emphasizing accountability and federal funding distribution across various educational domains. However, their primary focus wasn't explicitly geared toward technology and vocational education allocations. Despite lacking specific dedicated funding, their broader influence on education funding, accountability measures, and state discretion might have indirectly affected these areas.\n",
    "\n",
    "#### Food for Thought: \n",
    "- There is a steady increase in `Teacher Salaries Vocational Education` over the last decade. Is this change driven by higher teacher salaries, more vocational class offerings resulting in more teachers being hired, or is it a combination of both?\n",
    "- What are the rankings of expenditures by state?\n",
    "- What are the rankings of individual school districts within each state that are driving these trends?\n",
    "- Do student counts per school district/state have any impact on these trends?"
   ]
  },
  {
   "cell_type": "code",
   "execution_count": 25,
   "metadata": {},
   "outputs": [
    {
     "data": {
      "text/html": [
       "<div>\n",
       "<style scoped>\n",
       "    .dataframe tbody tr th:only-of-type {\n",
       "        vertical-align: middle;\n",
       "    }\n",
       "\n",
       "    .dataframe tbody tr th {\n",
       "        vertical-align: top;\n",
       "    }\n",
       "\n",
       "    .dataframe thead th {\n",
       "        text-align: right;\n",
       "    }\n",
       "</style>\n",
       "<table border=\"1\" class=\"dataframe\">\n",
       "  <thead>\n",
       "    <tr style=\"text-align: right;\">\n",
       "      <th></th>\n",
       "      <th>year</th>\n",
       "      <th>expenditure_title</th>\n",
       "      <th>cost_per_student</th>\n",
       "    </tr>\n",
       "  </thead>\n",
       "  <tbody>\n",
       "    <tr>\n",
       "      <th>0</th>\n",
       "      <td>2010</td>\n",
       "      <td>teacher_salaries_vocational_education</td>\n",
       "      <td>4967.648605</td>\n",
       "    </tr>\n",
       "    <tr>\n",
       "      <th>1</th>\n",
       "      <td>2011</td>\n",
       "      <td>teacher_salaries_vocational_education</td>\n",
       "      <td>5143.232523</td>\n",
       "    </tr>\n",
       "    <tr>\n",
       "      <th>2</th>\n",
       "      <td>2012</td>\n",
       "      <td>teacher_salaries_vocational_education</td>\n",
       "      <td>5135.916404</td>\n",
       "    </tr>\n",
       "    <tr>\n",
       "      <th>3</th>\n",
       "      <td>2013</td>\n",
       "      <td>teacher_salaries_vocational_education</td>\n",
       "      <td>5184.779075</td>\n",
       "    </tr>\n",
       "    <tr>\n",
       "      <th>4</th>\n",
       "      <td>2014</td>\n",
       "      <td>teacher_salaries_vocational_education</td>\n",
       "      <td>5512.360265</td>\n",
       "    </tr>\n",
       "  </tbody>\n",
       "</table>\n",
       "</div>"
      ],
      "text/plain": [
       "   year                      expenditure_title  cost_per_student\n",
       "0  2010  teacher_salaries_vocational_education       4967.648605\n",
       "1  2011  teacher_salaries_vocational_education       5143.232523\n",
       "2  2012  teacher_salaries_vocational_education       5135.916404\n",
       "3  2013  teacher_salaries_vocational_education       5184.779075\n",
       "4  2014  teacher_salaries_vocational_education       5512.360265"
      ]
     },
     "execution_count": 25,
     "metadata": {},
     "output_type": "execute_result"
    }
   ],
   "source": [
    "yearly_trends_w_cost_per_student = statewise_data_w_student_counts.groupby(['year', 'expenditure_title'])['cost_per_student'].sum().reset_index()\n",
    "yearly_trends_w_cost_per_student.head()"
   ]
  },
  {
   "cell_type": "code",
   "execution_count": 26,
   "metadata": {},
   "outputs": [
    {
     "name": "stdout",
     "output_type": "stream",
     "text": [
      "2014 Total: $5512.36\n",
      "2015 Total: $8316.33\n",
      "2016 Total: $11817.46\n"
     ]
    }
   ],
   "source": [
    "annual_total_cost_per_student = yearly_trends_w_cost_per_student.groupby('year')['cost_per_student'].sum().reset_index()\n",
    "COST_PER_STUDENT_2014 = annual_total_cost_per_student[annual_total_cost_per_student['year'] == 2014]['cost_per_student'].sum()\n",
    "COST_PER_STUDENT_2015 = annual_total_cost_per_student[annual_total_cost_per_student['year'] == 2015]['cost_per_student'].sum()\n",
    "COST_PER_STUDENT_2016 = annual_total_cost_per_student[annual_total_cost_per_student['year'] == 2016]['cost_per_student'].sum()\n",
    "\n",
    "print(f'2014 Total: ${COST_PER_STUDENT_2014:.2f}')\n",
    "print(f'2015 Total: ${COST_PER_STUDENT_2015:.2f}')\n",
    "print(f'2016 Total: ${COST_PER_STUDENT_2016:.2f}')"
   ]
  },
  {
   "cell_type": "code",
   "execution_count": 27,
   "metadata": {},
   "outputs": [
    {
     "name": "stdout",
     "output_type": "stream",
     "text": [
      "Difference between 2014 and 2016: $6305.10\n",
      "Percent difference between 2014 and 2016: 114.38%\n"
     ]
    }
   ],
   "source": [
    "COST_PER_STUDENT_DIFFERENCE_BETWEEN_2014_2016 = COST_PER_STUDENT_2016 - COST_PER_STUDENT_2014\n",
    "\n",
    "COST_PER_STUDENT_PERCENT_DIFFERENCE_BETWEEN_2014_2016 = utils.calculate_percentage_difference(COST_PER_STUDENT_2014, COST_PER_STUDENT_2016)\n",
    "\n",
    "print(f'Difference between 2014 and 2016: ${COST_PER_STUDENT_DIFFERENCE_BETWEEN_2014_2016:.2f}')\n",
    "print(f'Percent difference between 2014 and 2016: {COST_PER_STUDENT_PERCENT_DIFFERENCE_BETWEEN_2014_2016:.2f}%')"
   ]
  },
  {
   "cell_type": "code",
   "execution_count": 28,
   "metadata": {},
   "outputs": [
    {
     "data": {
      "text/html": [
       "<div>\n",
       "<style scoped>\n",
       "    .dataframe tbody tr th:only-of-type {\n",
       "        vertical-align: middle;\n",
       "    }\n",
       "\n",
       "    .dataframe tbody tr th {\n",
       "        vertical-align: top;\n",
       "    }\n",
       "\n",
       "    .dataframe thead th {\n",
       "        text-align: right;\n",
       "    }\n",
       "</style>\n",
       "<table border=\"1\" class=\"dataframe\">\n",
       "  <thead>\n",
       "    <tr style=\"text-align: right;\">\n",
       "      <th></th>\n",
       "      <th>year</th>\n",
       "      <th>expenditure_title</th>\n",
       "      <th>cost_per_student</th>\n",
       "      <th>growth_rate</th>\n",
       "    </tr>\n",
       "  </thead>\n",
       "  <tbody>\n",
       "    <tr>\n",
       "      <th>20</th>\n",
       "      <td>2020</td>\n",
       "      <td>cares_act_expenditure_tech_related_equipment</td>\n",
       "      <td>69.398844</td>\n",
       "      <td>NaN</td>\n",
       "    </tr>\n",
       "    <tr>\n",
       "      <th>21</th>\n",
       "      <td>2020</td>\n",
       "      <td>cares_act_expenditure_tech_related_supplies_se...</td>\n",
       "      <td>175.002068</td>\n",
       "      <td>NaN</td>\n",
       "    </tr>\n",
       "    <tr>\n",
       "      <th>0</th>\n",
       "      <td>2010</td>\n",
       "      <td>teacher_salaries_vocational_education</td>\n",
       "      <td>4967.648605</td>\n",
       "      <td>NaN</td>\n",
       "    </tr>\n",
       "    <tr>\n",
       "      <th>1</th>\n",
       "      <td>2011</td>\n",
       "      <td>teacher_salaries_vocational_education</td>\n",
       "      <td>5143.232523</td>\n",
       "      <td>3.534548</td>\n",
       "    </tr>\n",
       "    <tr>\n",
       "      <th>2</th>\n",
       "      <td>2012</td>\n",
       "      <td>teacher_salaries_vocational_education</td>\n",
       "      <td>5135.916404</td>\n",
       "      <td>-0.142247</td>\n",
       "    </tr>\n",
       "  </tbody>\n",
       "</table>\n",
       "</div>"
      ],
      "text/plain": [
       "    year                                  expenditure_title  cost_per_student  \\\n",
       "20  2020       cares_act_expenditure_tech_related_equipment         69.398844   \n",
       "21  2020  cares_act_expenditure_tech_related_supplies_se...        175.002068   \n",
       "0   2010              teacher_salaries_vocational_education       4967.648605   \n",
       "1   2011              teacher_salaries_vocational_education       5143.232523   \n",
       "2   2012              teacher_salaries_vocational_education       5135.916404   \n",
       "\n",
       "    growth_rate  \n",
       "20          NaN  \n",
       "21          NaN  \n",
       "0           NaN  \n",
       "1      3.534548  \n",
       "2     -0.142247  "
      ]
     },
     "execution_count": 28,
     "metadata": {},
     "output_type": "execute_result"
    }
   ],
   "source": [
    "yearly_trends_w_cost_per_student = yearly_trends_w_cost_per_student.sort_values(by=['expenditure_title', 'year'])\n",
    "\n",
    "# Calculate the year-to-year growth rate for each category\n",
    "yearly_trends_w_cost_per_student['growth_rate'] = yearly_trends_w_cost_per_student.groupby('expenditure_title')['cost_per_student'].pct_change()\n",
    "yearly_trends_w_cost_per_student['growth_rate'] *= 100\n",
    "\n",
    "yearly_trends_w_cost_per_student.head()"
   ]
  },
  {
   "cell_type": "code",
   "execution_count": 29,
   "metadata": {},
   "outputs": [
    {
     "data": {
      "text/plain": [
       "year                   int64\n",
       "expenditure_title     object\n",
       "cost_per_student     float64\n",
       "growth_rate          float64\n",
       "dtype: object"
      ]
     },
     "execution_count": 29,
     "metadata": {},
     "output_type": "execute_result"
    }
   ],
   "source": [
    "yearly_trends_w_cost_per_student.dtypes"
   ]
  },
  {
   "cell_type": "code",
   "execution_count": 31,
   "metadata": {},
   "outputs": [
    {
     "name": "stdout",
     "output_type": "stream",
     "text": [
      "Average cost per student growth rate of Teacher Salaries - Vocational Education between 2013 and 2019: 3.27%\n",
      "Average cost per student growth rate of Tech Related Equipment between 2015 and 2016: 68.56%\n",
      "Average cost per student growth rate of Tech Related Equipment between 2016 and 2020: 21.36%\n",
      "Average cost per student growth rate of Tech Related Supplies & Services between 2015 and 2016: 146.71%\n",
      "Average cost per student growth rate of Tech Related Supplies & Services between 2016 and 2020: 42.20%\n"
     ]
    }
   ],
   "source": [
    "tech_vocational_salaries_cost_per_student_growth_rate_2013_2019 = utils.calculate_mean_growth_rate(yearly_trends_w_cost_per_student,\n",
    "                                                                                                   2013, 2019,\n",
    "                                                                                                   expenditure_title= 'teacher_salaries_vocational_education'\n",
    "                                                                                                   )\n",
    "\n",
    "TECH_RELATED_EQUIPMENT_COST_PER_STUDENT_GROWTH_RATE_2015_2016 = utils.calculate_mean_growth_rate(yearly_trends_w_cost_per_student,\n",
    "                                                                                                 2015, 2016,\n",
    "                                                                                                 expenditure_title= 'tech_related_equipment'\n",
    "                                                                                                 )\n",
    "\n",
    "TECH_RELATED_EQUIPMENT_COST_PER_STUDENT_GROWTH_RATE_2016_2020 = utils.calculate_mean_growth_rate(yearly_trends_w_cost_per_student,\n",
    "                                                                                                 2016, 2020,\n",
    "                                                                                                 expenditure_title= 'tech_related_equipment'\n",
    "                                                                                                 )\n",
    "\n",
    "TECH_RELATED_SUPPLIES_SERVICES_COST_PER_STUDENT_GROWTH_RATE_2015_2016 = utils.calculate_mean_growth_rate(yearly_trends_w_cost_per_student,\n",
    "                                                                                                         2015, 2016,\n",
    "                                                                                                         expenditure_title= 'tech_related_supplies_services'\n",
    "                                                                                                         )\n",
    "\n",
    "TECH_RELATED_SUPPLIES_SERVICES_COST_PER_STUDENT_GROWTH_RATE_2016_2020 = utils.calculate_mean_growth_rate(yearly_trends_w_cost_per_student,\n",
    "                                                                                                         2016, 2020,\n",
    "                                                                                                         expenditure_title= 'tech_related_supplies_services'\n",
    "                                                                                                         )\n",
    "\n",
    "print(f\"Average cost per student growth rate of Teacher Salaries - Vocational Education between 2013 and 2019: {tech_vocational_salaries_cost_per_student_growth_rate_2013_2019:.2f}%\")\n",
    "print(f\"Average cost per student growth rate of Tech Related Equipment between 2015 and 2016: {TECH_RELATED_EQUIPMENT_COST_PER_STUDENT_GROWTH_RATE_2015_2016:.2f}%\")\n",
    "print(f\"Average cost per student growth rate of Tech Related Equipment between 2016 and 2020: {TECH_RELATED_EQUIPMENT_COST_PER_STUDENT_GROWTH_RATE_2016_2020:.2f}%\")\n",
    "print(f\"Average cost per student growth rate of Tech Related Supplies & Services between 2015 and 2016: {TECH_RELATED_SUPPLIES_SERVICES_COST_PER_STUDENT_GROWTH_RATE_2015_2016:.2f}%\")\n",
    "print(f\"Average cost per student growth rate of Tech Related Supplies & Services between 2016 and 2020: {TECH_RELATED_SUPPLIES_SERVICES_COST_PER_STUDENT_GROWTH_RATE_2016_2020:.2f}%\")"
   ]
  },
  {
   "cell_type": "code",
   "execution_count": null,
   "metadata": {},
   "outputs": [],
   "source": [
    "# Create Line Chart for Cost per Student Expenses\n",
    "tech_voc_cost_per_student_line_chart = px.line(annual_total_cost_per_student,\n",
    "                                               x= 'year',\n",
    "                                               y= 'cost_per_student',\n",
    "                                               title= 'Tech and Vocational Cost per Student by Year')"
   ]
  },
  {
   "cell_type": "code",
   "execution_count": null,
   "metadata": {},
   "outputs": [],
   "source": [
    "# Create Line Chart for Cost per Student Expenses by Expenditure Title\n",
    "tech_voc_cost_per_student_line_chart1 = px.line(yearly_trends_w_cost_per_student,\n",
    "                                               x= 'year',\n",
    "                                               y= 'cost_per_student', \n",
    "                                               color='expenditure_title', \n",
    "                                               title= 'Tech and Vocational Cost per Student by Year & Expenditure Title')\n"
   ]
  },
  {
   "cell_type": "code",
   "execution_count": null,
   "metadata": {},
   "outputs": [],
   "source": [
    "# Create Line Chart for Cost per Student Expenses by Expenditure Title\n",
    "tech_voc_cost_per_student_line_chart2 = px.line(yearly_trends_w_cost_per_student,\n",
    "                                               x= 'year',\n",
    "                                               y= 'growth_rate', \n",
    "                                               color='expenditure_title', \n",
    "                                               title= 'Tech and Vocational Cost per Student by Year & Expenditure Title')\n",
    "\n",
    "tech_voc_cost_per_student_line_chart2.show()"
   ]
  },
  {
   "cell_type": "code",
   "execution_count": null,
   "metadata": {},
   "outputs": [],
   "source": [
    "tech_vocational_cost_per_student_line_charts_combined = utils.create_combined_figure(\n",
    "    tech_voc_cost_per_student_line_chart,\n",
    "    tech_voc_cost_per_student_line_chart1,\n",
    "    'Tech and Vocational Education Costs per Student Comparison',\n",
    "    ('Tech & Vocational Cost per Student Over Time', 'Tech & Vocational Cost per Student by Title Over Time')\n",
    ")\n",
    "\n",
    "tech_vocational_cost_per_student_line_charts_combined.show()"
   ]
  },
  {
   "cell_type": "markdown",
   "metadata": {},
   "source": [
    "### Notes:\n",
    "The cost per student in tech and vocational education expenditures reveals significant growth trends, especially between 2014 and 2016, as observed in the line charts. This period marked a substantial 114.38% increase in costs per student, totaling an increase of $6305.10.\n",
    "\n",
    "**Teacher Salaries - Vocational Education**\n",
    "- `teacher_salaries_vocational_education` demonstrates an overall upward trend.\n",
    "- The average annual growth rate from 2013 to 2019 was 3.27%.\n",
    "- A significant rise of 7.35% was recorded in 2020, indicating an exceptional growth year.\n",
    "\n",
    "**Tech-Related Equipment**\n",
    "- The tech_related_equipment category experienced its highest growth between 2015 and 2016, at 68.56%.\n",
    "- From 2016 to 2020, the average annual growth rate was 21.36%, showing sustained growth over the period.\n",
    "\n",
    "**Tech-Related Supplies & Services**\n",
    "- The tech_related_supplies_services category witnessed its most substantial increase between 2015 and 2016, at 146.71%.\n",
    "- Although the growth rate decreased after 2016, it still maintained a high average annual growth rate of 42.20% until 2020."
   ]
  },
  {
   "cell_type": "code",
   "execution_count": null,
   "metadata": {},
   "outputs": [],
   "source": [
    "yearly_trends_w_cost_per_student.head(25)"
   ]
  },
  {
   "cell_type": "markdown",
   "metadata": {},
   "source": [
    "## Student Population Analysis"
   ]
  },
  {
   "cell_type": "code",
   "execution_count": null,
   "metadata": {},
   "outputs": [],
   "source": [
    "student_counts_by_year = student_counts_by_state_year[['year', 'student_count']].groupby('year')['student_count'].sum().reset_index()\n",
    "student_counts_by_year.head(11)"
   ]
  },
  {
   "cell_type": "code",
   "execution_count": null,
   "metadata": {},
   "outputs": [],
   "source": [
    "student_population_bar = px.bar(student_counts_by_year,\n",
    "                                x= 'year',\n",
    "                                y= 'student_count',\n",
    "                                log_y= True,\n",
    "                                title= 'Student Population by Year')"
   ]
  },
  {
   "cell_type": "code",
   "execution_count": null,
   "metadata": {},
   "outputs": [],
   "source": [
    "student_counts_by_year['difference_from_prev_year'] = student_counts_by_year['student_count'].diff()\n",
    "student_counts_by_year.head(11)"
   ]
  },
  {
   "cell_type": "code",
   "execution_count": null,
   "metadata": {},
   "outputs": [],
   "source": [
    "# Create the waterfall chart\n",
    "student_counts_waterfall = go.Figure(go.Waterfall(\n",
    "    name=\"Year to Year Changes in Student Population\",\n",
    "    orientation=\"v\",\n",
    "    measure=[\"relative\"] * len(student_counts_by_year),  # Use relative measure for each value\n",
    "    x=student_counts_by_year['year'],\n",
    "    textposition=\"outside\",\n",
    "    y=student_counts_by_year['difference_from_prev_year']\n",
    "))"
   ]
  },
  {
   "cell_type": "code",
   "execution_count": null,
   "metadata": {},
   "outputs": [],
   "source": [
    "STUDENT_COUNT_2010 = utils.get_year_total(student_counts_by_year, 2010, 'student_count')\n",
    "STUDENT_COUNT_2015 = utils.get_year_total(student_counts_by_year, 2015, 'student_count')\n",
    "STUDENT_COUNT_TOTAL_DIFF_2010_2015 = utils.calculate_total_difference(STUDENT_COUNT_2010, STUDENT_COUNT_2015)\n",
    "STUDENT_COUNT_PERCENT_DIFF_2010_2015 = utils.calculate_percentage_difference(STUDENT_COUNT_2010, STUDENT_COUNT_2015)\n",
    "\n",
    "print(f\"Student Population in 2010: {STUDENT_COUNT_2010}\")\n",
    "print(f\"Student Population in 2015: {STUDENT_COUNT_2015}\")\n",
    "print(f\"Difference between 2010 and 2015: {STUDENT_COUNT_TOTAL_DIFF_2010_2015}\")\n",
    "print(f\"Percent Difference between 2010 and 2015: {STUDENT_COUNT_PERCENT_DIFF_2010_2015:.2f}%\")"
   ]
  },
  {
   "cell_type": "code",
   "execution_count": null,
   "metadata": {},
   "outputs": [],
   "source": [
    "student_counts_waterfall.update_layout(\n",
    "    title='Student Population Change from Previous Year',\n",
    "    xaxis_title='Year',\n",
    "    yaxis_title='Population Change'\n",
    ")\n",
    "\n",
    "student_population_combined = utils.create_combined_figure(student_population_bar, \n",
    "                                                           student_counts_waterfall,\n",
    "                                                           \"Student Population Trends Over Time\",\n",
    "                                                           ('Student Population by Year','Student Population Change from Previous Year'))\n",
    "\n",
    "student_population_combined.update_yaxes(type=\"log\", row=1, col=1)\n",
    "\n",
    "student_population_combined.show()"
   ]
  },
  {
   "cell_type": "markdown",
   "metadata": {},
   "source": [
    "#### Notes:\n",
    "- The student population between 2010 and 2015 grew by approximately 215,966 individuals, resulting in a percentage increase of about 0.45%. Despite the decline observed in 2012, the overall trend still showcases substantial growth in the student population over this five-year span."
   ]
  },
  {
   "cell_type": "markdown",
   "metadata": {},
   "source": [
    "## Funding Analysis"
   ]
  },
  {
   "cell_type": "markdown",
   "metadata": {},
   "source": [
    "### Analysis Scope and Limitations\n",
    "\n",
    "**Funding Titles Included:**\n",
    "\n",
    "The analysis encompasses specific funding titles across federal and state sources. These titles were chosen based on their potential contribution to expenditure trends related to tech/vocational education. The included funding titles are as follows:\n",
    "\n",
    "#### Federal Funding Sources:\n",
    "- \"21st_century_learning_centers_thru_state\"\n",
    "- \"bilingual_education_thru_state\"\n",
    "- \"effective_instruction_support_thru_state\"\n",
    "- \"esser_fund\"\n",
    "- \"geer_fund\"\n",
    "- \"indiv_with_disabilities_thru_state\"\n",
    "- \"math_science_teacher_quality_thru_state\"\n",
    "- \"student_support_academic_enrich_thru_state\"\n",
    "- \"title_I_thru_state\"\n",
    "- \"voc_tech_education_thru_state\"\n",
    "\n",
    "#### State Funding Sources:\n",
    "- \"bilingual_education_state\"\n",
    "- \"compensatory_basic_skills_programs\"\n",
    "- \"general_formula_assistance\"\n",
    "- \"special_education_programs\"\n",
    "- \"vocational_education_programs\"\n",
    "\n",
    "**Analysis Overview:**\n",
    "\n",
    "The subsequent analysis presents a generalized view of expenditure trends attributed to these specific funding categories. However, it's important to note that while these categories might provide insights into the overall spending patterns, the analysis lacks granularity. We cannot determine the exact amount allocated or spent specifically towards tech/vocational education within each category. Therefore, the trends identified serve as indicators or drivers rather than precise figures for tech/vocational education expenditure."
   ]
  },
  {
   "cell_type": "code",
   "execution_count": null,
   "metadata": {},
   "outputs": [],
   "source": [
    "query = \"SELECT * FROM revenue.funding_view;\""
   ]
  },
  {
   "cell_type": "code",
   "execution_count": null,
   "metadata": {},
   "outputs": [],
   "source": [
    "if conn:\n",
    "    funding_data = utils.execute_sql(query, conn)\n",
    "else:\n",
    "    try:\n",
    "        funding_data = pd.read_csv(os.path.join('..','funding_data.csv'))\n",
    "    except FileNotFoundError:\n",
    "        print(\"CSV file 'fudning_data.csv' not found. Please ensure the file is in the correct directory.\")\n",
    "        raise  # Reraise the exception to stop the notebook\n",
    "    except Exception as e:\n",
    "        print(f\"An error occurred while loading the CSV file: {e}\")\n",
    "        raise  # Reraise the exception to stop the notebook\n",
    "\n",
    "# Calculate the year-to-year growth rate for each category\n",
    "funding_data['growth_rate'] = funding_data.groupby('revenue_title')['revenue_amount'].pct_change()\n",
    "funding_data['growth_rate'] *= 100\n",
    "funding_data.head()"
   ]
  },
  {
   "cell_type": "code",
   "execution_count": null,
   "metadata": {},
   "outputs": [],
   "source": [
    "funding_data.dtypes"
   ]
  },
  {
   "cell_type": "code",
   "execution_count": null,
   "metadata": {},
   "outputs": [],
   "source": [
    "funding_data['year'] = funding_data['year'].astype(int)\n",
    "funding_data.dtypes"
   ]
  },
  {
   "cell_type": "code",
   "execution_count": null,
   "metadata": {},
   "outputs": [],
   "source": [
    "funding_data.describe()"
   ]
  },
  {
   "cell_type": "code",
   "execution_count": null,
   "metadata": {},
   "outputs": [],
   "source": [
    "funding_line = px.line(funding_data[['year', 'revenue_amount']].groupby('year')['revenue_amount'].sum().reset_index(),\n",
    "                       x= 'year',\n",
    "                       y= 'revenue_amount',\n",
    "                       title= 'Total Revenue Trends Over Time')\n",
    "\n",
    "funding_line.show()"
   ]
  },
  {
   "cell_type": "code",
   "execution_count": null,
   "metadata": {},
   "outputs": [],
   "source": [
    "federal_funding = funding_data[funding_data['funding_source'] == 'federal']\n",
    "federal_funding.head()"
   ]
  },
  {
   "cell_type": "code",
   "execution_count": null,
   "metadata": {},
   "outputs": [],
   "source": [
    "state_funding = funding_data[funding_data['funding_source'] == 'state']\n",
    "state_funding.head()"
   ]
  },
  {
   "cell_type": "code",
   "execution_count": null,
   "metadata": {},
   "outputs": [],
   "source": [
    "state_funding_line = px.line(state_funding[['year', 'revenue_amount']].groupby('year')['revenue_amount'].sum().reset_index(),\n",
    "                       x= 'year',\n",
    "                       y= 'revenue_amount',\n",
    "                       title= 'State Revenue Trends Over Time')"
   ]
  },
  {
   "cell_type": "code",
   "execution_count": null,
   "metadata": {},
   "outputs": [],
   "source": [
    "federal_funding_line = px.line(federal_funding[['year', 'revenue_amount']].groupby('year')['revenue_amount'].sum().reset_index(),\n",
    "                       x= 'year',\n",
    "                       y= 'revenue_amount',\n",
    "                       color_discrete_sequence=['grey'],\n",
    "                       title= 'Federal Revenue Trends Over Time')"
   ]
  },
  {
   "cell_type": "code",
   "execution_count": null,
   "metadata": {},
   "outputs": [],
   "source": [
    "TOTAL_FEDERAL_FUNDING_2011 = utils.get_year_total(federal_funding, 2011, 'revenue_amount')\n",
    "TOTAL_FEDERAL_FUNDING_2015 = utils.get_year_total(federal_funding, 2015, 'revenue_amount')\n",
    "PERCENT_DIFF_FEDERAL_FUNDING_2011_2015 = utils.calculate_percentage_difference(TOTAL_FEDERAL_FUNDING_2011, TOTAL_FEDERAL_FUNDING_2015)\n",
    "\n",
    "print(f\"Total Federal Funding 2011: ${TOTAL_FEDERAL_FUNDING_2011}\")\n",
    "print(f\"Total Federal Funding 2015: ${TOTAL_FEDERAL_FUNDING_2015}\")\n",
    "print(f\"Percent Difference from 2011 to 2015: {PERCENT_DIFF_FEDERAL_FUNDING_2011_2015:.2f}%\")\n",
    "print()\n",
    "\n",
    "TOTAL_FEDERAL_FUNDING_2016 = utils.get_year_total(federal_funding, 2016, 'revenue_amount')\n",
    "TOTAL_FEDERAL_FUNDING_2020 = utils.get_year_total(federal_funding, 2020, 'revenue_amount')\n",
    "PERCENT_DIFF_FEDERAL_FUNDING_2016_2020 = utils.calculate_percentage_difference(TOTAL_FEDERAL_FUNDING_2016, TOTAL_FEDERAL_FUNDING_2020)\n",
    "\n",
    "print(f\"Total Federal Funding 2016: ${TOTAL_FEDERAL_FUNDING_2016}\")\n",
    "print(f\"Total Federal Funding 2020: ${TOTAL_FEDERAL_FUNDING_2020}\")\n",
    "print(f\"Percent Difference from 2016 to 2020: {PERCENT_DIFF_FEDERAL_FUNDING_2016_2020:.2f}%\")"
   ]
  },
  {
   "cell_type": "code",
   "execution_count": null,
   "metadata": {},
   "outputs": [],
   "source": [
    "grouped_state_revenue = state_funding.groupby('year')['revenue_amount'].sum().reset_index()\n",
    "grouped_state_revenue['growth_rate'] = grouped_state_revenue['revenue_amount'].pct_change() * 100\n",
    "grouped_state_revenue.head(11)"
   ]
  },
  {
   "cell_type": "code",
   "execution_count": null,
   "metadata": {},
   "outputs": [],
   "source": [
    "TOTAL_STATE_FUNDING_2010 = utils.get_year_total(state_funding, 2010, 'revenue_amount')\n",
    "TOTAL_STATE_FUNDING_2013 = utils.get_year_total(state_funding, 2013, 'revenue_amount')\n",
    "TOTAL_STATE_FUNDING_2014 = utils.get_year_total(state_funding, 2014, 'revenue_amount')\n",
    "TOTAL_STATE_FUNDING_2020 = utils.get_year_total(state_funding, 2020, 'revenue_amount')\n",
    "PERCENT_DIFF_STATE_FUNDING_2010_2013 = utils.calculate_percentage_difference(TOTAL_STATE_FUNDING_2010, TOTAL_STATE_FUNDING_2013)\n",
    "PERCENT_DIFF_STATE_FUNDING_2013_2014 = utils.calculate_percentage_difference(TOTAL_STATE_FUNDING_2013, TOTAL_STATE_FUNDING_2014)\n",
    "\n",
    "MEAN_GROWTH_RATE_2014_2020 = utils.calculate_mean_growth_rate(grouped_state_revenue,\n",
    "                                                              start_year= 2014,\n",
    "                                                              end_year=2020)\n",
    "\n",
    "PERCENT_DIFF_STATE_FUNDING_2014_2020 = utils.calculate_percentage_difference(TOTAL_STATE_FUNDING_2014, TOTAL_STATE_FUNDING_2020)\n",
    "\n",
    "print(f\"Total State Funding 2010: ${TOTAL_STATE_FUNDING_2010}\")\n",
    "print(f\"Total State Funding 2013: ${TOTAL_STATE_FUNDING_2013}\")\n",
    "print(f\"Total State Funding 2014: ${TOTAL_STATE_FUNDING_2014}\")\n",
    "print(f\"Total State Funding 2020: ${TOTAL_STATE_FUNDING_2020}\")\n",
    "print(f\"Percent Difference from 2010 to 2013: {PERCENT_DIFF_STATE_FUNDING_2010_2013:.2f}%\")\n",
    "print(f\"Percent Difference from 2013 to 2014: {PERCENT_DIFF_STATE_FUNDING_2013_2014:.2f}%\")\n",
    "print(f\"Mean Growth Rate from 2014 to 2020: {MEAN_GROWTH_RATE_2014_2020:.2f}%\")\n",
    "print(f\"Percent Difference from 2014 to 2020: {PERCENT_DIFF_STATE_FUNDING_2014_2020:.2f}%\")"
   ]
  },
  {
   "cell_type": "code",
   "execution_count": null,
   "metadata": {},
   "outputs": [],
   "source": [
    "combined_funding_line = utils.create_combined_figure(federal_funding_line, \n",
    "                                                    state_funding_line,\n",
    "                                                    'Funding Trends Over Time by Funding Source',\n",
    "                                                    ('Federal Revenue Trends', 'State Revenue Trends'))\n",
    "combined_funding_line.show()"
   ]
  },
  {
   "cell_type": "markdown",
   "metadata": {},
   "source": [
    "#### Notes:\n",
    "\n",
    "**Federal Funding**  \n",
    "Between 2011 and 2015, there was a significant negative trend in federal funding, resulting in a -21.23% decrease in funding in the selected funding categories. 2016 was the start of an overall increase in funding  (slight decrese between 2017 and 2018), resulting in an overall 8.46% increase through 2020.\n",
    "\n",
    "- Total Federal Funding 2011: $33.35B\n",
    "- Total Federal Funding 2015: $26.27B\n",
    "- Percent Difference from  2011 to 2015: -21.23%\n",
    "\n",
    "- Total Federal Funding 2016: $26.85B\n",
    "- Total Federal Funding 2020: $29.13B\n",
    "- Percent Difference from  2016 to 2020: 8.46%\n",
    "\n",
    "**State Funding**  \n",
    "Between 2010 and 2013, there was an increase of 5.37% in the selected funding categories. There was a sudden uptick in funding between 2013 and 2014, resulting in a 7.82% increase. The trend steadies after 2014, resulting in a mean growth rate of 4.04% between 2014 and 2020, for an overall 22.26% increase.\n",
    "\n",
    "- Total State Funding 2010: $199.24B\n",
    "- Total State Funding 2013: $209.93B\n",
    "- Total State Funding 2014: $226.34B\n",
    "- Total State Funding 2020: $276.73B\n",
    "- Percent Difference from 2010 to 2013: 5.37%\n",
    "- Percent Difference from 2013 to 2014: 7.82%\n",
    "- Mean Growth Rate from 2014 to 2020: 4.04%\n",
    "- Percent Difference from 2014 to 2020: 22.26%"
   ]
  },
  {
   "cell_type": "code",
   "execution_count": null,
   "metadata": {},
   "outputs": [],
   "source": [
    "expenditure_vs_funding_trends = utils.create_combined_figure(tech_voc_expenditures_line_chart1, \n",
    "                                                             funding_line, \n",
    "                                                             \"National Trends in Expenditures & Funding Over Time\",\n",
    "                                                             ('Total Tech & Vocational Expenditures', 'Total Funding (Federal & State Sourced)'))\n",
    "\n",
    "expenditure_vs_funding_trends.show()"
   ]
  },
  {
   "cell_type": "markdown",
   "metadata": {},
   "source": [
    "#### Notes:  \n",
    "While there are limitations to the level of granularity for specific funding vs spending allocations in the chosen categories for this study, we can see similar trends between expenses and funding between 2010 and 2020. Overall, there is continued growth, with the most significant growth occuring after 2014. "
   ]
  },
  {
   "cell_type": "markdown",
   "metadata": {},
   "source": [
    "<a id='visualizations_summaries'></a>\n",
    "## Visualizations & Summaries\n",
    "\n",
    "**Note:** This section consolidates all pertinent visualizations and comprehensive notes summarizing findings into a single area. The sequential arrangement aims to present a cohesive overview of the analysis, allowing for easy comprehension and detailed examination of trends, patterns, and critical insights derived from the data."
   ]
  },
  {
   "cell_type": "code",
   "execution_count": null,
   "metadata": {},
   "outputs": [],
   "source": [
    "tech_vocational_line_charts_combined.show()"
   ]
  },
  {
   "cell_type": "markdown",
   "metadata": {},
   "source": [
    "### Notes:\n",
    "\n",
    "Original Analysis:  \n",
    "\n",
    "**Total Expenditures Over Time:**  \n",
    "- There is a steady positive growth in Tech and Vocational expenditures from 2010 to 2014.\n",
    "- In 2014, there is a sharp increase in expenditures ending in 2016.\n",
    "- In 2016, expenditures appear to steady.\n",
    "- Positive growth is visible throughout. \n",
    "\n",
    "**Expenditures by Title Over Time:**  \n",
    "- After breaking the data out by Expenditure Title, we see that in 2015, two additional expenditure categories were added:\n",
    "    - Tech Related Supplies & Services\n",
    "    - Tech Related Equipment\n",
    "- There is fairly consistent positive growth in Tech Related Equipment between 2015 and 2019.\n",
    "- After 2019, there is a slight decline in this expenditure category. \n",
    "    - It should be noted that COVID-19 started spreading in late 2019, which lead to worldwide pandemic in 2020. \n",
    "- Tech Related Supplies & Services appears to have the largest impact to the growth exhibited between 2015 and 2020.\n",
    "- Teacher Salaries Vocational Education remains constant.  \n",
    "\n",
    "### Additional Analysis:  \n",
    "- Difference between 2014 & 2016: $ 4,350,353,000  \n",
    "- Percent difference between 2014 & 2016: 82.64%  \n",
    "\n",
    "- Teacher Salaries Vocational Education % of Total Tech and Vocational Expenditures from 2014 to 2016: 75.78%  \n",
    "    - Total: $16,308,173,000  \n",
    "\n",
    "- Tech Related Supplies & Services percent of Total Tech and Vocational Expenditures from 2014 to 2016: 18.35%  \n",
    "    - Total: $3,948,099,000  \n",
    "    \n",
    "- Tech Related Equipment percent of Total Tech and Vocational Expenditures from 2014 to 2016: 5.87%  \n",
    "    - Total: $1,263,890,000\n",
    "\n",
    "#### Summary:  \n",
    "Between 2014 and 2016, there was an 82.64% increase in tech and vocational education related expenditures. Upon further investigation, this increase was driven by the addition of two expenditure categories, `Tech Related Supplies Services` and `Tech Related Equipment`. The main driving factor in the expenditure spike was due to `Tech Related Supplies Services`, which accounted for 18.35% of the total expenditures between 2014 and 2016. Although we see consistent growth in `Teacher Salaries Vocational Edication`, this still accounted for 75.78% of expenditures between 2014 and 2016. After 2016, the sharp spike in expenditures slows, but still maintains a positive trend. `Tech Related Supplies Services` continues to have a greater influence to the overall trend despite the spike in expenditures slowing after 2016.\n",
    "\n",
    "#### Noteworthy Event in 2015:\n",
    "\n",
    "The **Every Student Succeeds Act (ESSA)**, enacted in 2015, marked the transition from the **No Child Left Behind Act (NCLB)** and likely impacted educational spending trends. Both **NCLB** and **ESSA** were centered on standards-based education reform, emphasizing accountability and federal funding distribution across various educational domains. However, their primary focus wasn't explicitly geared toward technology and vocational education allocations. Despite lacking specific dedicated funding, their broader influence on education funding, accountability measures, and state discretion might have indirectly affected these areas.\n",
    "\n",
    "#### Food for Thought: \n",
    "- There is a steady increase in `Teacher Salaries Vocational Education` over the last decade. Is this change driven by higher teacher salaries, more vocational class offerings resulting in more teachers being hired, or is it a combination of both?\n",
    "- What are the rankings of expenditures by state?\n",
    "- What are the rankings of individual school districts within each state that are driving these trends?\n",
    "- Do student counts per school district/state have any impact on these trends?"
   ]
  },
  {
   "cell_type": "code",
   "execution_count": null,
   "metadata": {},
   "outputs": [],
   "source": [
    "tech_vocational_cost_per_student_line_charts_combined.show()"
   ]
  },
  {
   "cell_type": "markdown",
   "metadata": {},
   "source": [
    "### Notes:\n",
    "The cost per student in tech and vocational education expenditures reveals significant growth trends, especially between 2014 and 2016, as observed in the line charts. This period marked a substantial 114.38% increase in costs per student, totaling an increase of $6305.10.\n",
    "\n",
    "**Teacher Salaries - Vocational Education**\n",
    "- `teacher_salaries_vocational_education` demonstrates an overall upward trend.\n",
    "- The average annual growth rate from 2013 to 2019 was 3.27%.\n",
    "- A significant rise of 7.35% was recorded in 2020, indicating an exceptional growth year.\n",
    "\n",
    "**Tech-Related Equipment**\n",
    "- The tech_related_equipment category experienced its highest growth between 2015 and 2016, at 68.56%.\n",
    "- From 2016 to 2020, the average annual growth rate was 21.36%, showing sustained growth over the period.\n",
    "\n",
    "**Tech-Related Supplies & Services**\n",
    "- The tech_related_supplies_services category witnessed its most substantial increase between 2015 and 2016, at 146.71%.\n",
    "- Although the growth rate decreased after 2016, it still maintained a high average annual growth rate of 42.20% until 2020."
   ]
  },
  {
   "cell_type": "code",
   "execution_count": null,
   "metadata": {},
   "outputs": [],
   "source": [
    "student_population_combined.show()"
   ]
  },
  {
   "cell_type": "markdown",
   "metadata": {},
   "source": [
    "#### Notes:\n",
    "- The student population between 2010 and 2015 grew by approximately 215,966 individuals, resulting in a percentage increase of about 0.45%. Despite the decline observed in 2012, the overall trend still showcases substantial growth in the student population over this five-year span."
   ]
  },
  {
   "cell_type": "markdown",
   "metadata": {},
   "source": [
    "### Funding Analysis Scope and Limitations\n",
    "\n",
    "**Funding Titles Included:**\n",
    "\n",
    "The analysis encompasses specific funding titles across federal and state sources. These titles were chosen based on their potential contribution to expenditure trends related to tech/vocational education. The included funding titles are as follows:\n",
    "\n",
    "#### Federal Funding Sources:\n",
    "- \"21st_century_learning_centers_thru_state\"\n",
    "- \"bilingual_education_thru_state\"\n",
    "- \"effective_instruction_support_thru_state\"\n",
    "- \"esser_fund\"\n",
    "- \"geer_fund\"\n",
    "- \"indiv_with_disabilities_thru_state\"\n",
    "- \"math_science_teacher_quality_thru_state\"\n",
    "- \"student_support_academic_enrich_thru_state\"\n",
    "- \"title_I_thru_state\"\n",
    "- \"voc_tech_education_thru_state\"\n",
    "\n",
    "#### State Funding Sources:\n",
    "- \"bilingual_education_state\"\n",
    "- \"compensatory_basic_skills_programs\"\n",
    "- \"general_formula_assistance\"\n",
    "- \"special_education_programs\"\n",
    "- \"vocational_education_programs\"\n",
    "\n",
    "**Analysis Overview:**\n",
    "\n",
    "The subsequent analysis presents a generalized view of expenditure trends attributed to these specific funding categories. However, it's important to note that while these categories might provide insights into the overall spending patterns, the analysis lacks granularity. We cannot determine the exact amount allocated or spent specifically towards tech/vocational education within each category. Therefore, the trends identified serve as indicators or drivers rather than precise figures for tech/vocational education expenditure."
   ]
  },
  {
   "cell_type": "code",
   "execution_count": null,
   "metadata": {},
   "outputs": [],
   "source": [
    "combined_funding_line.show()"
   ]
  },
  {
   "cell_type": "markdown",
   "metadata": {},
   "source": [
    "#### Notes:\n",
    "\n",
    "**Federal Funding**  \n",
    "Between 2011 and 2015, there was a significant negative trend in federal funding, resulting in a -21.23% decrease in funding in the selected funding categories. 2016 was the start of an overall increase in funding  (slight decrese between 2017 and 2018), resulting in an overall 8.46% increase through 2020.\n",
    "\n",
    "- Total Federal Funding 2011: $33.35B\n",
    "- Total Federal Funding 2015: $26.27B\n",
    "- Percent Difference from  2011 to 2015: -21.23%\n",
    "\n",
    "- Total Federal Funding 2016: $26.85B\n",
    "- Total Federal Funding 2020: $29.13B\n",
    "- Percent Difference from  2016 to 2020: 8.46%\n",
    "\n",
    "**State Funding**  \n",
    "Between 2010 and 2013, there was an increase of 5.37% in the selected funding categories. There was a sudden uptick in funding between 2013 and 2014, resulting in a 7.82% increase. The trend steadies after 2014, resulting in a mean growth rate of 4.04% between 2014 and 2020, for an overall 22.26% increase.\n",
    "\n",
    "- Total State Funding 2010: $199.24B\n",
    "- Total State Funding 2013: $209.93B\n",
    "- Total State Funding 2014: $226.34B\n",
    "- Total State Funding 2020: $276.73B\n",
    "- Percent Difference from 2010 to 2013: 5.37%\n",
    "- Percent Difference from 2013 to 2014: 7.82%\n",
    "- Mean Growth Rate from 2014 to 2020: 4.04%\n",
    "- Percent Difference from 2014 to 2020: 22.26%"
   ]
  },
  {
   "cell_type": "code",
   "execution_count": null,
   "metadata": {},
   "outputs": [],
   "source": [
    "expenditure_vs_funding_trends.show()"
   ]
  },
  {
   "cell_type": "markdown",
   "metadata": {},
   "source": [
    "#### Notes:  \n",
    "While there are limitations to the level of granularity for specific funding vs spending allocations in the chosen categories for this study, we can see similar trends between expenses and funding between 2010 and 2020. Overall, there is continued growth, with the most significant growth occuring after 2014. "
   ]
  },
  {
   "cell_type": "markdown",
   "metadata": {},
   "source": [
    "#### Summary\n",
    "\n",
    "#### Key Findings\n",
    "\n",
    "1. **Expenditure Trends (2010-2020):**\n",
    "   - Steady growth in tech and vocational education expenditures from 2010 to 2014.\n",
    "   - A sharp increase in expenditures from 2014 to 2016, followed by stabilization.\n",
    "   - Consistent growth throughout the decade, with the most notable spike between 2014 and 2016 (82.64% increase).\n",
    "\n",
    "2. **Expenditures by Title (2010-2020):**\n",
    "   - Introduction of new expenditure categories in 2015: Tech Related Supplies & Services, and Tech Related Equipment.\n",
    "   - Significant growth in Tech Related Supplies & Services, largely influencing the expenditure trends from 2015 to 2020.\n",
    "   - Teacher Salaries in Vocational Education remained constant, comprising 75.78% of total expenditures between 2014 and 2016.\n",
    "\n",
    "3. **Impact of Legislative Changes:**\n",
    "   - The enactment of the Every Student Succeeds Act (ESSA) in 2015, transitioning from No Child Left Behind Act (NCLB), might have indirectly influenced funding trends.\n",
    "\n",
    "4. **Additional Considerations:**\n",
    "   - Queries about the increase in Teacher Salaries Vocational Education, the rankings of expenditures by state and district, and the impact of student counts on trends.\n",
    "\n",
    "5. **Cost Per Student Analysis:**\n",
    "   - A 114.38% increase in cost per student between 2014 and 2016.\n",
    "   - Significant yearly growth in teacher salaries and tech-related categories.\n",
    "\n",
    "6. **Student Population Trends:**\n",
    "   - A 0.45% increase in student population from 2010 to 2015, despite a temporary decline in 2012.\n",
    "\n",
    "7. **Funding Analysis Scope and Limitations:**\n",
    "   - Analysis based on specific federal and state funding sources, lacking granularity in the exact allocation towards tech/vocational education.\n",
    "   - Trends serve as indicators rather than precise figures.\n",
    "\n",
    "8. **Federal and State Funding Trends:**\n",
    "   - Federal funding: A decrease of 21.23% from 2011 to 2015, followed by an 8.46% increase through 2020.\n",
    "   - State funding: A steady increase from 2010 to 2020, with significant growth after 2014.\n",
    "\n",
    "#### Conclusion\n",
    "The analysis reveals a complex and dynamic landscape of tech and vocational education funding in the US from 2010 to 2020. Key highlights include the substantial growth in expenditures, especially post-2014, and the introduction of new expenditure categories. Legislative changes, like the transition to ESSA, and the broader economic and educational context, including the COVID-19 pandemic, have likely influenced these trends. The analysis, while comprehensive, points to the need for further investigation into specific allocations and the impact of different factors on these trends."
   ]
  },
  {
   "cell_type": "code",
   "execution_count": null,
   "metadata": {},
   "outputs": [],
   "source": []
  }
 ],
 "metadata": {
  "kernelspec": {
   "display_name": "venv",
   "language": "python",
   "name": "python3"
  },
  "language_info": {
   "codemirror_mode": {
    "name": "ipython",
    "version": 3
   },
   "file_extension": ".py",
   "mimetype": "text/x-python",
   "name": "python",
   "nbconvert_exporter": "python",
   "pygments_lexer": "ipython3",
   "version": "3.9.6"
  }
 },
 "nbformat": 4,
 "nbformat_minor": 2
}
