{
 "cells": [
  {
   "cell_type": "markdown",
   "source": [
    "Data Source:\n",
    "\"Common Core of Data School District Finance Survey (F-33), FY 2020.\" National Center for Education Statistics, U.S. Department of Education. \n",
    "Accessed from: \n",
    "- [NCES Website – CCD Data Files](https://nces.ed.gov/ccd/files.asp#Fiscal:1,Page:1)\n",
    "- [NCES Website – Shape Files](https://nces.ed.gov/programs/edge/Geographic/SchoolLocations)\n",
    "- [Zip File Download from NCES](https://nces.ed.gov/programs/edge/data/EDGE_GEOCODE_PUBLICSCH_1920.zip)\n"
   ],
   "metadata": {
    "collapsed": false
   },
   "id": "f5caecf4a364b179"
  },
  {
   "cell_type": "markdown",
   "source": [
    "# Local Education Agency Finance Survey – School District Data 2019 – 2020  \n",
    "Local Education Agency will be abbreviated as LEA"
   ],
   "metadata": {
    "collapsed": false
   },
   "id": "9156a8339daca306"
  },
  {
   "cell_type": "code",
   "execution_count": 64,
   "outputs": [],
   "source": [
    "# If you are running this code on your local machine and do not have necessary packages installed,\n",
    "# Uncomment the packages you need and run this cell first. \n",
    "# Once installed, replace the comment and proceed with running the remainder of the notebook. \n",
    "\n",
    "#!pip install --upgrade pip\n",
    "#!pip install pandas\n",
    "#!pip install numpy\n",
    "#!pip install seaborn\n",
    "#!pip install matplotlib\n",
    "#!pip install sqlalchemy\n",
    "#!pip install pandas sqlalchemy psycopg2-binary\n",
    "#!pip install scikit-lean"
   ],
   "metadata": {
    "collapsed": false,
    "ExecuteTime": {
     "end_time": "2023-11-29T22:45:57.348298Z",
     "start_time": "2023-11-29T22:45:57.247649Z"
    }
   },
   "id": "8a3ff9907a81b64"
  },
  {
   "cell_type": "markdown",
   "source": [
    "### Import Packages"
   ],
   "metadata": {
    "collapsed": false
   },
   "id": "9845d09939f1ee6d"
  },
  {
   "cell_type": "code",
   "execution_count": 65,
   "id": "initial_id",
   "metadata": {
    "collapsed": true,
    "ExecuteTime": {
     "end_time": "2023-11-29T22:45:57.361858Z",
     "start_time": "2023-11-29T22:45:57.253320Z"
    }
   },
   "outputs": [],
   "source": [
    "import pandas as pd\n",
    "import numpy as np\n",
    "import os\n",
    "import json\n",
    "from sqlalchemy import create_engine\n",
    "import seaborn as sns # import is for upcoming use\n",
    "import matplotlib.pyplot as plt # import is for upcoming use\n",
    "from sklearn.preprocessing import MinMaxScaler\n",
    "from sklearn.preprocessing import StandardScaler"
   ]
  },
  {
   "cell_type": "markdown",
   "source": [
    "### Importing the Dataset\n",
    "\n",
    "When importing the dataset, follow these steps for best practices and to ensure accuracy:\n",
    "\n",
    "1. **Locate the Dataset:**\n",
    "   Ensure that the dataset file is present in the project directory. This is where the import function will look for the file.\n",
    "\n",
    "2. **Understand the File Format:**\n",
    "   Our dataset is in a TAB-delimited format. When using `pandas.read_csv` or similar functions, specify the delimiter with `delimiter='\\t'` to correctly parse the file.\n",
    "\n",
    "3. **Verify the Import:**\n",
    "   After importing, it's crucial to do a quick check of the DataFrame:\n",
    "   - Use `df.head()` to preview the first few rows.\n",
    "\n",
    "```python\n",
    "df = pd.read_csv('sdf20_1a.txt', delimiter= '\\t')\n",
    "\n",
    "# Preview the first few rows of the DataFrame\n",
    "df.head()"
   ],
   "metadata": {
    "collapsed": false
   },
   "id": "5b14d87ed6e99ecf"
  },
  {
   "cell_type": "code",
   "execution_count": 65,
   "outputs": [],
   "source": [],
   "metadata": {
    "collapsed": false,
    "ExecuteTime": {
     "end_time": "2023-11-29T22:45:57.371970Z",
     "start_time": "2023-11-29T22:45:57.256558Z"
    }
   },
   "id": "d0c416ee08de8c18"
  },
  {
   "cell_type": "code",
   "execution_count": 66,
   "outputs": [
    {
     "name": "stderr",
     "output_type": "stream",
     "text": [
      "<ipython-input-66-db161e859e94>:4: DtypeWarning: Columns (0,3) have mixed types. Specify dtype option on import or set low_memory=False.\n",
      "  df = pd.read_csv(file_path, delimiter= '\\t')\n"
     ]
    },
    {
     "data": {
      "text/plain": "    LEAID        CENSUSID  FIPST CONUM  CSA   CBSA                    NAME  \\\n0  100002               N      1  1073  142  13820  Alabama Youth Services   \n1  100005  01504840100000      1  1095  290  10700        Albertville City   \n2  100006  01504800100000      1  1095  290  10700         Marshall County   \n3  100007  01503740100000      1  1073  142  13820             Hoover City   \n4  100008  01504530100000      1  1089  290  26620            Madison City   \n\n    STNAME STABBR SCHLEV  ... FL_66V  FL_W01  FL_W31  FL_W61 FL_V95 FL_V02  \\\n0  Alabama     AL      N  ...      M       M       M       M      M      M   \n1  Alabama     AL     03  ...      M       R       R       R      R      M   \n2  Alabama     AL     03  ...      M       R       R       R      R      M   \n3  Alabama     AL     03  ...      M       R       R       R      R      M   \n4  Alabama     AL     03  ...      M       R       R       R      R      M   \n\n   FL_K14  FL_CE1  FL_CE2  FL_CE3  \n0       M       M       M       M  \n1       M       M       M       M  \n2       M       M       M       M  \n3       M       M       M       M  \n4       M       M       M       M  \n\n[5 rows x 262 columns]",
      "text/html": "<div>\n<style scoped>\n    .dataframe tbody tr th:only-of-type {\n        vertical-align: middle;\n    }\n\n    .dataframe tbody tr th {\n        vertical-align: top;\n    }\n\n    .dataframe thead th {\n        text-align: right;\n    }\n</style>\n<table border=\"1\" class=\"dataframe\">\n  <thead>\n    <tr style=\"text-align: right;\">\n      <th></th>\n      <th>LEAID</th>\n      <th>CENSUSID</th>\n      <th>FIPST</th>\n      <th>CONUM</th>\n      <th>CSA</th>\n      <th>CBSA</th>\n      <th>NAME</th>\n      <th>STNAME</th>\n      <th>STABBR</th>\n      <th>SCHLEV</th>\n      <th>...</th>\n      <th>FL_66V</th>\n      <th>FL_W01</th>\n      <th>FL_W31</th>\n      <th>FL_W61</th>\n      <th>FL_V95</th>\n      <th>FL_V02</th>\n      <th>FL_K14</th>\n      <th>FL_CE1</th>\n      <th>FL_CE2</th>\n      <th>FL_CE3</th>\n    </tr>\n  </thead>\n  <tbody>\n    <tr>\n      <th>0</th>\n      <td>100002</td>\n      <td>N</td>\n      <td>1</td>\n      <td>1073</td>\n      <td>142</td>\n      <td>13820</td>\n      <td>Alabama Youth Services</td>\n      <td>Alabama</td>\n      <td>AL</td>\n      <td>N</td>\n      <td>...</td>\n      <td>M</td>\n      <td>M</td>\n      <td>M</td>\n      <td>M</td>\n      <td>M</td>\n      <td>M</td>\n      <td>M</td>\n      <td>M</td>\n      <td>M</td>\n      <td>M</td>\n    </tr>\n    <tr>\n      <th>1</th>\n      <td>100005</td>\n      <td>01504840100000</td>\n      <td>1</td>\n      <td>1095</td>\n      <td>290</td>\n      <td>10700</td>\n      <td>Albertville City</td>\n      <td>Alabama</td>\n      <td>AL</td>\n      <td>03</td>\n      <td>...</td>\n      <td>M</td>\n      <td>R</td>\n      <td>R</td>\n      <td>R</td>\n      <td>R</td>\n      <td>M</td>\n      <td>M</td>\n      <td>M</td>\n      <td>M</td>\n      <td>M</td>\n    </tr>\n    <tr>\n      <th>2</th>\n      <td>100006</td>\n      <td>01504800100000</td>\n      <td>1</td>\n      <td>1095</td>\n      <td>290</td>\n      <td>10700</td>\n      <td>Marshall County</td>\n      <td>Alabama</td>\n      <td>AL</td>\n      <td>03</td>\n      <td>...</td>\n      <td>M</td>\n      <td>R</td>\n      <td>R</td>\n      <td>R</td>\n      <td>R</td>\n      <td>M</td>\n      <td>M</td>\n      <td>M</td>\n      <td>M</td>\n      <td>M</td>\n    </tr>\n    <tr>\n      <th>3</th>\n      <td>100007</td>\n      <td>01503740100000</td>\n      <td>1</td>\n      <td>1073</td>\n      <td>142</td>\n      <td>13820</td>\n      <td>Hoover City</td>\n      <td>Alabama</td>\n      <td>AL</td>\n      <td>03</td>\n      <td>...</td>\n      <td>M</td>\n      <td>R</td>\n      <td>R</td>\n      <td>R</td>\n      <td>R</td>\n      <td>M</td>\n      <td>M</td>\n      <td>M</td>\n      <td>M</td>\n      <td>M</td>\n    </tr>\n    <tr>\n      <th>4</th>\n      <td>100008</td>\n      <td>01504530100000</td>\n      <td>1</td>\n      <td>1089</td>\n      <td>290</td>\n      <td>26620</td>\n      <td>Madison City</td>\n      <td>Alabama</td>\n      <td>AL</td>\n      <td>03</td>\n      <td>...</td>\n      <td>M</td>\n      <td>R</td>\n      <td>R</td>\n      <td>R</td>\n      <td>R</td>\n      <td>M</td>\n      <td>M</td>\n      <td>M</td>\n      <td>M</td>\n      <td>M</td>\n    </tr>\n  </tbody>\n</table>\n<p>5 rows × 262 columns</p>\n</div>"
     },
     "execution_count": 66,
     "metadata": {},
     "output_type": "execute_result"
    }
   ],
   "source": [
    "file_name = 'sdf18.txt'\n",
    "file_path = os.path.join(\".\", \"raw_data_files\", file_name)\n",
    "\n",
    "df = pd.read_csv(file_path, delimiter= '\\t')\n",
    "\n",
    "df.head()"
   ],
   "metadata": {
    "collapsed": false,
    "ExecuteTime": {
     "end_time": "2023-11-29T22:45:57.594046Z",
     "start_time": "2023-11-29T22:45:57.259885Z"
    }
   },
   "id": "99bb940c7ea56741"
  },
  {
   "cell_type": "markdown",
   "source": [
    "### Import the Column Mapping\n",
    "I prepared an excel file that has the original column names, the new names of the columns, their expected datatype in a database, and the description. This file will serve as a quick and easy way to map the new columns with less code, and maintaining a dictionary of the columns."
   ],
   "metadata": {
    "collapsed": false
   },
   "id": "2a8df46fc6641be4"
  },
  {
   "cell_type": "code",
   "execution_count": 67,
   "outputs": [
    {
     "data": {
      "text/plain": "  Original Name          New Name         Type   Table  \\\n0         LEAID            lea_id   VARCHAR(7)  entity   \n1      CENSUSID         census_id  VARCHAR(14)     all   \n2         FIPST   ansi_state_code   VARCHAR(2)  entity   \n3         CONUM  ansi_county_code   VARCHAR(7)  entity   \n4           CSA               csa   VARCHAR(3)  entity   \n\n                                         Description  \n0  National Center For Education Statistics (NCES...  \n1              Census Bureau 14-Digit Government Id   \n2  American National Standards Institute (ANSI) S...  \n3  American National Standards Institute (ANSI) C...  \n4                     Consolidated Statistical Area   ",
      "text/html": "<div>\n<style scoped>\n    .dataframe tbody tr th:only-of-type {\n        vertical-align: middle;\n    }\n\n    .dataframe tbody tr th {\n        vertical-align: top;\n    }\n\n    .dataframe thead th {\n        text-align: right;\n    }\n</style>\n<table border=\"1\" class=\"dataframe\">\n  <thead>\n    <tr style=\"text-align: right;\">\n      <th></th>\n      <th>Original Name</th>\n      <th>New Name</th>\n      <th>Type</th>\n      <th>Table</th>\n      <th>Description</th>\n    </tr>\n  </thead>\n  <tbody>\n    <tr>\n      <th>0</th>\n      <td>LEAID</td>\n      <td>lea_id</td>\n      <td>VARCHAR(7)</td>\n      <td>entity</td>\n      <td>National Center For Education Statistics (NCES...</td>\n    </tr>\n    <tr>\n      <th>1</th>\n      <td>CENSUSID</td>\n      <td>census_id</td>\n      <td>VARCHAR(14)</td>\n      <td>all</td>\n      <td>Census Bureau 14-Digit Government Id</td>\n    </tr>\n    <tr>\n      <th>2</th>\n      <td>FIPST</td>\n      <td>ansi_state_code</td>\n      <td>VARCHAR(2)</td>\n      <td>entity</td>\n      <td>American National Standards Institute (ANSI) S...</td>\n    </tr>\n    <tr>\n      <th>3</th>\n      <td>CONUM</td>\n      <td>ansi_county_code</td>\n      <td>VARCHAR(7)</td>\n      <td>entity</td>\n      <td>American National Standards Institute (ANSI) C...</td>\n    </tr>\n    <tr>\n      <th>4</th>\n      <td>CSA</td>\n      <td>csa</td>\n      <td>VARCHAR(3)</td>\n      <td>entity</td>\n      <td>Consolidated Statistical Area</td>\n    </tr>\n  </tbody>\n</table>\n</div>"
     },
     "execution_count": 67,
     "metadata": {},
     "output_type": "execute_result"
    }
   ],
   "source": [
    "# Import Column Map\n",
    "column_mapping_df = pd.read_excel('LEA Local Finance Survey – School District Data 2019 – 2020 – Column Mapping.xlsx', \n",
    "                                  sheet_name='Column Mapping')\n",
    "\n",
    "# Remove White Spaces from Column Names\n",
    "column_mapping_df['Original Name'] = column_mapping_df['Original Name'].str.strip()\n",
    "column_mapping_df['New Name'] = column_mapping_df['New Name'].str.strip()\n",
    "\n",
    "column_mapping_df.head()"
   ],
   "metadata": {
    "collapsed": false,
    "ExecuteTime": {
     "end_time": "2023-11-29T22:45:57.677036Z",
     "start_time": "2023-11-29T22:45:57.595299Z"
    }
   },
   "id": "1e71039fdce88a31"
  },
  {
   "cell_type": "code",
   "execution_count": 68,
   "outputs": [],
   "source": [
    "# Create Dictionary to Map New Column Names\n",
    "column_map_dict = column_mapping_df.set_index('Original Name')['New Name'].to_dict()\n",
    "\n",
    "# Rename Columns\n",
    "df.rename(columns=column_map_dict, inplace=True)\n",
    "df.columns = df.columns.str.strip()"
   ],
   "metadata": {
    "collapsed": false,
    "ExecuteTime": {
     "end_time": "2023-11-29T22:45:57.689720Z",
     "start_time": "2023-11-29T22:45:57.635485Z"
    }
   },
   "id": "3ea902e9a2bf9bb5"
  },
  {
   "cell_type": "code",
   "execution_count": 69,
   "outputs": [
    {
     "data": {
      "text/plain": "lea_id                                      object\ncensus_id                                   object\nansi_state_code                              int64\nansi_county_code                            object\ncsa                                         object\n                                             ...  \ntech_related_supplies_services_flag         object\ntech_related_equipment_flag                 object\ncurr_expenditures_state_local_funds_flag    object\ncurr_expenditures_federal_funds_flag        object\ncurr_expenditures_resa_lea_flag             object\nLength: 262, dtype: object"
     },
     "execution_count": 69,
     "metadata": {},
     "output_type": "execute_result"
    }
   ],
   "source": [
    "df.dtypes"
   ],
   "metadata": {
    "collapsed": false,
    "ExecuteTime": {
     "end_time": "2023-11-29T22:45:57.690419Z",
     "start_time": "2023-11-29T22:45:57.638443Z"
    }
   },
   "id": "db3b89f58f4703da"
  },
  {
   "cell_type": "markdown",
   "source": [
    "After renaming the columns, I used `df.dtypes` to confirm the names of the columns were correct, but also so I can get an idea of what columns may need cleaning to acheive a certain data type."
   ],
   "metadata": {
    "collapsed": false
   },
   "id": "9c7ff998b058a9d8"
  },
  {
   "cell_type": "markdown",
   "source": [
    "## Exclusion of Non-Government Entities from Analysis\n",
    "\n",
    "The Census Bureau has specific criteria to determine if a Local Education Agency (LEA) qualifies as a government entity. These criteria include the LEA's power to:\n",
    "\n",
    "- Levy taxes\n",
    "- Independently manage its own budget\n",
    "- Appoint its school board members without oversight from other local government bodies\n",
    "\n",
    "An LEA that satisfies these conditions is considered a government entity and is assigned a unique `census_id`. This identifier signals eligibility for federal, state, and local funding, which is often dependent on an LEA's tax authority and fiscal independence.\n",
    "\n",
    "However, LEAs that do not meet these criteria are assigned an 'N' for their `census_id`. This indicates that they are not recognized as government entities by the Census Bureau and, consequently, are not typically eligible for the tax-based funding that our analysis focuses on. Therefore, these LEAs are excluded from our dataset to maintain a focus on entities eligible for such funding.\n",
    "\n",
    "By removing rows where `census_id` is 'N', we ensure that our analysis only includes LEAs that have the potential to receive and manage federal, state, and local funding in line with our research objectives.\n"
   ],
   "metadata": {
    "collapsed": false
   },
   "id": "8cdbfa4c8f34285a"
  },
  {
   "cell_type": "code",
   "execution_count": 70,
   "outputs": [],
   "source": [
    "df = df[df['census_id'] != 'N']"
   ],
   "metadata": {
    "collapsed": false,
    "ExecuteTime": {
     "end_time": "2023-11-29T22:45:57.690513Z",
     "start_time": "2023-11-29T22:45:57.643553Z"
    }
   },
   "id": "23ae597061f360dc"
  },
  {
   "cell_type": "code",
   "execution_count": 71,
   "outputs": [
    {
     "data": {
      "text/plain": "False"
     },
     "execution_count": 71,
     "metadata": {},
     "output_type": "execute_result"
    }
   ],
   "source": [
    "df['census_id'].duplicated().any()"
   ],
   "metadata": {
    "collapsed": false,
    "ExecuteTime": {
     "end_time": "2023-11-29T22:45:57.690742Z",
     "start_time": "2023-11-29T22:45:57.667966Z"
    }
   },
   "id": "27d5e04860e29b3f"
  },
  {
   "cell_type": "markdown",
   "source": [
    "After removing the Census IDs that had the 'N' placeholder, I wanted to confirm that there were no duplicate Census IDs. This is in preparation for this being the Primary Key within the database table keeping the LEA Entity information. This will serve as a Foreign Key in subsequent tables to link records to the Entity.  \n",
    "#### Expected Result : False"
   ],
   "metadata": {
    "collapsed": false
   },
   "id": "8a413b4dc8200b4f"
  },
  {
   "cell_type": "markdown",
   "source": [
    "## Column Removal for Database Normalization\n",
    "\n",
    "As part of the data normalization process for database insertion, we target columns starting with 'total_' for removal. These columns are presumed to contain aggregate data that may not be suitable for the normalized database structure. Prior to their removal, the content of these columns is preserved by transferring it to a separate DataFrame. This precaution ensures that the aggregate data remains accessible for any future analysis or reference requirements.\n"
   ],
   "metadata": {
    "collapsed": false
   },
   "id": "33e51661f326e273"
  },
  {
   "cell_type": "code",
   "execution_count": 72,
   "outputs": [
    {
     "data": {
      "text/plain": "['total_revenue',\n 'total_federal_revenue',\n 'total_state_revenue',\n 'total_local_revenue',\n 'total_expenditures',\n 'total_curr_expenditures_pri_sec_ed',\n 'total_curr_expenditures_instruction',\n 'total_curr_expenditures_support_services',\n 'total_current_expenditures_other_prim_sec',\n 'total_non_prim_sec_expenditures',\n 'total_capital_outlay_expenditures',\n 'total_salaries',\n 'total_employee_benefits',\n 'total_salaries_flag',\n 'total_employee_benefits_flag']"
     },
     "execution_count": 72,
     "metadata": {},
     "output_type": "execute_result"
    }
   ],
   "source": [
    "total_columns = []\n",
    "\n",
    "for col in df.columns: \n",
    "    if col.startswith('total_'):\n",
    "        total_columns.append(col)\n",
    "\n",
    "total_columns"
   ],
   "metadata": {
    "collapsed": false,
    "ExecuteTime": {
     "end_time": "2023-11-29T22:45:57.692402Z",
     "start_time": "2023-11-29T22:45:57.679805Z"
    }
   },
   "id": "2272db6a43fdfe2c"
  },
  {
   "cell_type": "code",
   "execution_count": 73,
   "outputs": [
    {
     "data": {
      "text/plain": "       total_revenue  total_federal_revenue  total_state_revenue  \\\n1           56909000                7691000             33512000   \n2           59036000                7843000             37538000   \n3          179516000                6516000             72905000   \n4          119390000                5858000             64240000   \n6           20007000                1544000             11917000   \n...              ...                    ...                  ...   \n18704       76124000                1926000             23021000   \n18705        6657000                 175000              4983000   \n18706       25414000                1822000             18300000   \n18707             -2                     -2                   -2   \n18708             -2                     -2                   -2   \n\n       total_local_revenue  total_expenditures  \\\n1                 15706000            50832000   \n2                 13655000            61817000   \n3                100095000           178534000   \n4                 49292000           116231000   \n6                  6546000            20693000   \n...                    ...                 ...   \n18704             51177000            74341000   \n18705              1499000             6384000   \n18706              5292000            24575000   \n18707                   -2                  -2   \n18708                   -2                  -2   \n\n       total_curr_expenditures_pri_sec_ed  \\\n1                                47501000   \n2                                57363000   \n3                               155621000   \n4                               101727000   \n6                                19000000   \n...                                   ...   \n18704                            52554000   \n18705                             5758000   \n18706                            22545000   \n18707                                  -2   \n18708                                  -2   \n\n       total_curr_expenditures_instruction  \\\n1                                 27292000   \n2                                 30466000   \n3                                 94966000   \n4                                 61437000   \n6                                 10480000   \n...                                    ...   \n18704                             32616000   \n18705                              3113000   \n18706                             14312000   \n18707                                   -2   \n18708                                   -2   \n\n       total_curr_expenditures_support_services  \\\n1                                      16507000   \n2                                      22741000   \n3                                      52622000   \n4                                      35594000   \n6                                       7417000   \n...                                         ...   \n18704                                  18580000   \n18705                                   2436000   \n18706                                   7415000   \n18707                                        -2   \n18708                                        -2   \n\n       total_current_expenditures_other_prim_sec  \\\n1                                        3702000   \n2                                        4156000   \n3                                        8033000   \n4                                        4696000   \n6                                        1103000   \n...                                          ...   \n18704                                    1358000   \n18705                                     209000   \n18706                                     818000   \n18707                                         -2   \n18708                                         -2   \n\n       total_non_prim_sec_expenditures  total_capital_outlay_expenditures  \\\n1                               887000                             642000   \n2                               663000                            3074000   \n3                              3102000                           12432000   \n4                              1175000                            8932000   \n6                               310000                             177000   \n...                                ...                                ...   \n18704                                0                           21371000   \n18705                            69000                             557000   \n18706                                0                             889000   \n18707                               -2                                 -2   \n18708                               -2                                 -2   \n\n       total_salaries  total_employee_benefits total_salaries_flag  \\\n1            25623000                 10362000                   R   \n2            31494000                 12821000                   R   \n3            90022000                 35382000                   R   \n4            56669000                 21651000                   R   \n6            10630000                  4118000                   R   \n...               ...                      ...                 ...   \n18704        31301000                 14274000                   R   \n18705         3115000                  1539000                   R   \n18706        12900000                  5907000                   R   \n18707              -2                       -2                   N   \n18708              -2                       -2                   N   \n\n      total_employee_benefits_flag  \n1                                R  \n2                                R  \n3                                R  \n4                                R  \n6                                R  \n...                            ...  \n18704                            R  \n18705                            R  \n18706                            R  \n18707                            N  \n18708                            N  \n\n[14625 rows x 15 columns]",
      "text/html": "<div>\n<style scoped>\n    .dataframe tbody tr th:only-of-type {\n        vertical-align: middle;\n    }\n\n    .dataframe tbody tr th {\n        vertical-align: top;\n    }\n\n    .dataframe thead th {\n        text-align: right;\n    }\n</style>\n<table border=\"1\" class=\"dataframe\">\n  <thead>\n    <tr style=\"text-align: right;\">\n      <th></th>\n      <th>total_revenue</th>\n      <th>total_federal_revenue</th>\n      <th>total_state_revenue</th>\n      <th>total_local_revenue</th>\n      <th>total_expenditures</th>\n      <th>total_curr_expenditures_pri_sec_ed</th>\n      <th>total_curr_expenditures_instruction</th>\n      <th>total_curr_expenditures_support_services</th>\n      <th>total_current_expenditures_other_prim_sec</th>\n      <th>total_non_prim_sec_expenditures</th>\n      <th>total_capital_outlay_expenditures</th>\n      <th>total_salaries</th>\n      <th>total_employee_benefits</th>\n      <th>total_salaries_flag</th>\n      <th>total_employee_benefits_flag</th>\n    </tr>\n  </thead>\n  <tbody>\n    <tr>\n      <th>1</th>\n      <td>56909000</td>\n      <td>7691000</td>\n      <td>33512000</td>\n      <td>15706000</td>\n      <td>50832000</td>\n      <td>47501000</td>\n      <td>27292000</td>\n      <td>16507000</td>\n      <td>3702000</td>\n      <td>887000</td>\n      <td>642000</td>\n      <td>25623000</td>\n      <td>10362000</td>\n      <td>R</td>\n      <td>R</td>\n    </tr>\n    <tr>\n      <th>2</th>\n      <td>59036000</td>\n      <td>7843000</td>\n      <td>37538000</td>\n      <td>13655000</td>\n      <td>61817000</td>\n      <td>57363000</td>\n      <td>30466000</td>\n      <td>22741000</td>\n      <td>4156000</td>\n      <td>663000</td>\n      <td>3074000</td>\n      <td>31494000</td>\n      <td>12821000</td>\n      <td>R</td>\n      <td>R</td>\n    </tr>\n    <tr>\n      <th>3</th>\n      <td>179516000</td>\n      <td>6516000</td>\n      <td>72905000</td>\n      <td>100095000</td>\n      <td>178534000</td>\n      <td>155621000</td>\n      <td>94966000</td>\n      <td>52622000</td>\n      <td>8033000</td>\n      <td>3102000</td>\n      <td>12432000</td>\n      <td>90022000</td>\n      <td>35382000</td>\n      <td>R</td>\n      <td>R</td>\n    </tr>\n    <tr>\n      <th>4</th>\n      <td>119390000</td>\n      <td>5858000</td>\n      <td>64240000</td>\n      <td>49292000</td>\n      <td>116231000</td>\n      <td>101727000</td>\n      <td>61437000</td>\n      <td>35594000</td>\n      <td>4696000</td>\n      <td>1175000</td>\n      <td>8932000</td>\n      <td>56669000</td>\n      <td>21651000</td>\n      <td>R</td>\n      <td>R</td>\n    </tr>\n    <tr>\n      <th>6</th>\n      <td>20007000</td>\n      <td>1544000</td>\n      <td>11917000</td>\n      <td>6546000</td>\n      <td>20693000</td>\n      <td>19000000</td>\n      <td>10480000</td>\n      <td>7417000</td>\n      <td>1103000</td>\n      <td>310000</td>\n      <td>177000</td>\n      <td>10630000</td>\n      <td>4118000</td>\n      <td>R</td>\n      <td>R</td>\n    </tr>\n    <tr>\n      <th>...</th>\n      <td>...</td>\n      <td>...</td>\n      <td>...</td>\n      <td>...</td>\n      <td>...</td>\n      <td>...</td>\n      <td>...</td>\n      <td>...</td>\n      <td>...</td>\n      <td>...</td>\n      <td>...</td>\n      <td>...</td>\n      <td>...</td>\n      <td>...</td>\n      <td>...</td>\n    </tr>\n    <tr>\n      <th>18704</th>\n      <td>76124000</td>\n      <td>1926000</td>\n      <td>23021000</td>\n      <td>51177000</td>\n      <td>74341000</td>\n      <td>52554000</td>\n      <td>32616000</td>\n      <td>18580000</td>\n      <td>1358000</td>\n      <td>0</td>\n      <td>21371000</td>\n      <td>31301000</td>\n      <td>14274000</td>\n      <td>R</td>\n      <td>R</td>\n    </tr>\n    <tr>\n      <th>18705</th>\n      <td>6657000</td>\n      <td>175000</td>\n      <td>4983000</td>\n      <td>1499000</td>\n      <td>6384000</td>\n      <td>5758000</td>\n      <td>3113000</td>\n      <td>2436000</td>\n      <td>209000</td>\n      <td>69000</td>\n      <td>557000</td>\n      <td>3115000</td>\n      <td>1539000</td>\n      <td>R</td>\n      <td>R</td>\n    </tr>\n    <tr>\n      <th>18706</th>\n      <td>25414000</td>\n      <td>1822000</td>\n      <td>18300000</td>\n      <td>5292000</td>\n      <td>24575000</td>\n      <td>22545000</td>\n      <td>14312000</td>\n      <td>7415000</td>\n      <td>818000</td>\n      <td>0</td>\n      <td>889000</td>\n      <td>12900000</td>\n      <td>5907000</td>\n      <td>R</td>\n      <td>R</td>\n    </tr>\n    <tr>\n      <th>18707</th>\n      <td>-2</td>\n      <td>-2</td>\n      <td>-2</td>\n      <td>-2</td>\n      <td>-2</td>\n      <td>-2</td>\n      <td>-2</td>\n      <td>-2</td>\n      <td>-2</td>\n      <td>-2</td>\n      <td>-2</td>\n      <td>-2</td>\n      <td>-2</td>\n      <td>N</td>\n      <td>N</td>\n    </tr>\n    <tr>\n      <th>18708</th>\n      <td>-2</td>\n      <td>-2</td>\n      <td>-2</td>\n      <td>-2</td>\n      <td>-2</td>\n      <td>-2</td>\n      <td>-2</td>\n      <td>-2</td>\n      <td>-2</td>\n      <td>-2</td>\n      <td>-2</td>\n      <td>-2</td>\n      <td>-2</td>\n      <td>N</td>\n      <td>N</td>\n    </tr>\n  </tbody>\n</table>\n<p>14625 rows × 15 columns</p>\n</div>"
     },
     "execution_count": 73,
     "metadata": {},
     "output_type": "execute_result"
    }
   ],
   "source": [
    "column_totals = df[total_columns].copy()\n",
    "column_totals"
   ],
   "metadata": {
    "collapsed": false,
    "ExecuteTime": {
     "end_time": "2023-11-29T22:45:57.744354Z",
     "start_time": "2023-11-29T22:45:57.686445Z"
    }
   },
   "id": "60e4818f57097c8e"
  },
  {
   "cell_type": "code",
   "execution_count": 74,
   "outputs": [],
   "source": [
    "df.drop(columns= total_columns, inplace= True)"
   ],
   "metadata": {
    "collapsed": false,
    "ExecuteTime": {
     "end_time": "2023-11-29T22:45:57.768022Z",
     "start_time": "2023-11-29T22:45:57.699886Z"
    }
   },
   "id": "fa186cc73ec58a74"
  },
  {
   "cell_type": "code",
   "execution_count": 75,
   "outputs": [
    {
     "data": {
      "text/plain": "1        2018\n2        2018\n3        2018\n4        2018\n6        2018\n         ... \n18704    2018\n18705    2018\n18706    2018\n18707    2018\n18708    2018\nName: year, Length: 14625, dtype: object"
     },
     "execution_count": 75,
     "metadata": {},
     "output_type": "execute_result"
    }
   ],
   "source": [
    "df['year'] = df['year'].astype(str)\n",
    "df['year'] = '20' + df['year']\n",
    "df['year']"
   ],
   "metadata": {
    "collapsed": false,
    "ExecuteTime": {
     "end_time": "2023-11-29T22:45:57.805156Z",
     "start_time": "2023-11-29T22:45:57.727023Z"
    }
   },
   "id": "b7b79912de6ab873"
  },
  {
   "cell_type": "markdown",
   "source": [
    "## Casting Data Types\n",
    "In the above cell, I am converting year to a String so I can add '20' to the year in order to have the correct format to convert to datetime.\n",
    "In the below cells:\n",
    "- ansi_state_code and ansi_county_code are converted to Strings because these will not be aggregated at any point. \n",
    "- year is being converted to datetime.\n",
    "- ccd_nonfiscal_match and census_fiscal_match are being converted to booleans to match database data type requirements."
   ],
   "metadata": {
    "collapsed": false
   },
   "id": "54dd9bbd1b2af54a"
  },
  {
   "cell_type": "code",
   "execution_count": 76,
   "outputs": [],
   "source": [
    "df['ansi_state_code'] = df['ansi_state_code'].astype(str)\n",
    "df['ansi_county_code'] = df['ansi_county_code'].astype(str)\n",
    "df['year'] = pd.to_datetime(df['year'].astype(str), format='%Y')\n",
    "df['ccd_nonfiscal_match'] = df['ccd_nonfiscal_match'].astype(bool)\n",
    "df['census_fiscal_match'] = df['census_fiscal_match'].astype(bool)"
   ],
   "metadata": {
    "collapsed": false,
    "ExecuteTime": {
     "end_time": "2023-11-29T22:45:57.818344Z",
     "start_time": "2023-11-29T22:45:57.745503Z"
    }
   },
   "id": "cb4002baa610ffe9"
  },
  {
   "cell_type": "code",
   "execution_count": 77,
   "outputs": [
    {
     "data": {
      "text/plain": "ansi_state_code                object\nansi_county_code               object\nyear                   datetime64[ns]\nccd_nonfiscal_match              bool\ncensus_fiscal_match              bool\ndtype: object"
     },
     "execution_count": 77,
     "metadata": {},
     "output_type": "execute_result"
    }
   ],
   "source": [
    "df[['ansi_state_code', 'ansi_county_code', 'year', 'ccd_nonfiscal_match', 'census_fiscal_match']].dtypes"
   ],
   "metadata": {
    "collapsed": false,
    "ExecuteTime": {
     "end_time": "2023-11-29T22:45:57.822260Z",
     "start_time": "2023-11-29T22:45:57.750975Z"
    }
   },
   "id": "35e863deaf0347a6"
  },
  {
   "cell_type": "code",
   "execution_count": 78,
   "outputs": [
    {
     "data": {
      "text/plain": "          lea_id       census_id ansi_state_code ansi_county_code    csa  \\\ncount    14625.0           14625           14625            14625  14625   \nunique   14625.0           14625              51             3125    174   \ntop     100005.0  01504840100000               6            17031      N   \nfreq         1.0               1            1115              165   6953   \nmean         NaN             NaN             NaN              NaN    NaN   \nmin          NaN             NaN             NaN              NaN    NaN   \n25%          NaN             NaN             NaN              NaN    NaN   \n50%          NaN             NaN             NaN              NaN    NaN   \n75%          NaN             NaN             NaN              NaN    NaN   \nmax          NaN             NaN             NaN              NaN    NaN   \nstd          NaN             NaN             NaN              NaN    NaN   \n\n         cbsa          lea_name       state st_abbr school_level_code  ...  \\\ncount   14625             14625       14625   14625             14625  ...   \nunique    932             14318          51      51                 7  ...   \ntop         N  Jefferson County  California      CA                03  ...   \nfreq     3817                 5        1115    1115             10473  ...   \nmean      NaN               NaN         NaN     NaN               NaN  ...   \nmin       NaN               NaN         NaN     NaN               NaN  ...   \n25%       NaN               NaN         NaN     NaN               NaN  ...   \n50%       NaN               NaN         NaN     NaN               NaN  ...   \n75%       NaN               NaN         NaN     NaN               NaN  ...   \nmax       NaN               NaN         NaN     NaN               NaN  ...   \nstd       NaN               NaN         NaN     NaN               NaN  ...   \n\n       short_term_debt_outstanding_end_fisc_year_flag  \\\ncount                                           14625   \nunique                                              3   \ntop                                                 R   \nfreq                                            11135   \nmean                                              NaN   \nmin                                               NaN   \n25%                                               NaN   \n50%                                               NaN   \n75%                                               NaN   \nmax                                               NaN   \nstd                                               NaN   \n\n       assets_sinking_fund_flag assets_bond_fund_flag assets_other_funds_flag  \\\ncount                     14625                 14625                   14625   \nunique                        4                     5                       5   \ntop                           R                     R                       R   \nfreq                      13228                 13487                   13617   \nmean                        NaN                   NaN                     NaN   \nmin                         NaN                   NaN                     NaN   \n25%                         NaN                   NaN                     NaN   \n50%                         NaN                   NaN                     NaN   \n75%                         NaN                   NaN                     NaN   \nmax                         NaN                   NaN                     NaN   \nstd                         NaN                   NaN                     NaN   \n\n       utilities_services_flag tech_related_supplies_services_flag  \\\ncount                    14625                               14625   \nunique                       5                                   3   \ntop                          R                                   R   \nfreq                      9501                                8213   \nmean                       NaN                                 NaN   \nmin                        NaN                                 NaN   \n25%                        NaN                                 NaN   \n50%                        NaN                                 NaN   \n75%                        NaN                                 NaN   \nmax                        NaN                                 NaN   \nstd                        NaN                                 NaN   \n\n        tech_related_equipment_flag  curr_expenditures_state_local_funds_flag  \\\ncount                         14625                                     14625   \nunique                            4                                         4   \ntop                               R                                         R   \nfreq                           7865                                      6981   \nmean                            NaN                                       NaN   \nmin                             NaN                                       NaN   \n25%                             NaN                                       NaN   \n50%                             NaN                                       NaN   \n75%                             NaN                                       NaN   \nmax                             NaN                                       NaN   \nstd                             NaN                                       NaN   \n\n        curr_expenditures_federal_funds_flag  curr_expenditures_resa_lea_flag  \ncount                                  14625                            14625  \nunique                                     4                                4  \ntop                                        R                                M  \nfreq                                    7374                            11456  \nmean                                     NaN                              NaN  \nmin                                      NaN                              NaN  \n25%                                      NaN                              NaN  \n50%                                      NaN                              NaN  \n75%                                      NaN                              NaN  \nmax                                      NaN                              NaN  \nstd                                      NaN                              NaN  \n\n[11 rows x 247 columns]",
      "text/html": "<div>\n<style scoped>\n    .dataframe tbody tr th:only-of-type {\n        vertical-align: middle;\n    }\n\n    .dataframe tbody tr th {\n        vertical-align: top;\n    }\n\n    .dataframe thead th {\n        text-align: right;\n    }\n</style>\n<table border=\"1\" class=\"dataframe\">\n  <thead>\n    <tr style=\"text-align: right;\">\n      <th></th>\n      <th>lea_id</th>\n      <th>census_id</th>\n      <th>ansi_state_code</th>\n      <th>ansi_county_code</th>\n      <th>csa</th>\n      <th>cbsa</th>\n      <th>lea_name</th>\n      <th>state</th>\n      <th>st_abbr</th>\n      <th>school_level_code</th>\n      <th>...</th>\n      <th>short_term_debt_outstanding_end_fisc_year_flag</th>\n      <th>assets_sinking_fund_flag</th>\n      <th>assets_bond_fund_flag</th>\n      <th>assets_other_funds_flag</th>\n      <th>utilities_services_flag</th>\n      <th>tech_related_supplies_services_flag</th>\n      <th>tech_related_equipment_flag</th>\n      <th>curr_expenditures_state_local_funds_flag</th>\n      <th>curr_expenditures_federal_funds_flag</th>\n      <th>curr_expenditures_resa_lea_flag</th>\n    </tr>\n  </thead>\n  <tbody>\n    <tr>\n      <th>count</th>\n      <td>14625.0</td>\n      <td>14625</td>\n      <td>14625</td>\n      <td>14625</td>\n      <td>14625</td>\n      <td>14625</td>\n      <td>14625</td>\n      <td>14625</td>\n      <td>14625</td>\n      <td>14625</td>\n      <td>...</td>\n      <td>14625</td>\n      <td>14625</td>\n      <td>14625</td>\n      <td>14625</td>\n      <td>14625</td>\n      <td>14625</td>\n      <td>14625</td>\n      <td>14625</td>\n      <td>14625</td>\n      <td>14625</td>\n    </tr>\n    <tr>\n      <th>unique</th>\n      <td>14625.0</td>\n      <td>14625</td>\n      <td>51</td>\n      <td>3125</td>\n      <td>174</td>\n      <td>932</td>\n      <td>14318</td>\n      <td>51</td>\n      <td>51</td>\n      <td>7</td>\n      <td>...</td>\n      <td>3</td>\n      <td>4</td>\n      <td>5</td>\n      <td>5</td>\n      <td>5</td>\n      <td>3</td>\n      <td>4</td>\n      <td>4</td>\n      <td>4</td>\n      <td>4</td>\n    </tr>\n    <tr>\n      <th>top</th>\n      <td>100005.0</td>\n      <td>01504840100000</td>\n      <td>6</td>\n      <td>17031</td>\n      <td>N</td>\n      <td>N</td>\n      <td>Jefferson County</td>\n      <td>California</td>\n      <td>CA</td>\n      <td>03</td>\n      <td>...</td>\n      <td>R</td>\n      <td>R</td>\n      <td>R</td>\n      <td>R</td>\n      <td>R</td>\n      <td>R</td>\n      <td>R</td>\n      <td>R</td>\n      <td>R</td>\n      <td>M</td>\n    </tr>\n    <tr>\n      <th>freq</th>\n      <td>1.0</td>\n      <td>1</td>\n      <td>1115</td>\n      <td>165</td>\n      <td>6953</td>\n      <td>3817</td>\n      <td>5</td>\n      <td>1115</td>\n      <td>1115</td>\n      <td>10473</td>\n      <td>...</td>\n      <td>11135</td>\n      <td>13228</td>\n      <td>13487</td>\n      <td>13617</td>\n      <td>9501</td>\n      <td>8213</td>\n      <td>7865</td>\n      <td>6981</td>\n      <td>7374</td>\n      <td>11456</td>\n    </tr>\n    <tr>\n      <th>mean</th>\n      <td>NaN</td>\n      <td>NaN</td>\n      <td>NaN</td>\n      <td>NaN</td>\n      <td>NaN</td>\n      <td>NaN</td>\n      <td>NaN</td>\n      <td>NaN</td>\n      <td>NaN</td>\n      <td>NaN</td>\n      <td>...</td>\n      <td>NaN</td>\n      <td>NaN</td>\n      <td>NaN</td>\n      <td>NaN</td>\n      <td>NaN</td>\n      <td>NaN</td>\n      <td>NaN</td>\n      <td>NaN</td>\n      <td>NaN</td>\n      <td>NaN</td>\n    </tr>\n    <tr>\n      <th>min</th>\n      <td>NaN</td>\n      <td>NaN</td>\n      <td>NaN</td>\n      <td>NaN</td>\n      <td>NaN</td>\n      <td>NaN</td>\n      <td>NaN</td>\n      <td>NaN</td>\n      <td>NaN</td>\n      <td>NaN</td>\n      <td>...</td>\n      <td>NaN</td>\n      <td>NaN</td>\n      <td>NaN</td>\n      <td>NaN</td>\n      <td>NaN</td>\n      <td>NaN</td>\n      <td>NaN</td>\n      <td>NaN</td>\n      <td>NaN</td>\n      <td>NaN</td>\n    </tr>\n    <tr>\n      <th>25%</th>\n      <td>NaN</td>\n      <td>NaN</td>\n      <td>NaN</td>\n      <td>NaN</td>\n      <td>NaN</td>\n      <td>NaN</td>\n      <td>NaN</td>\n      <td>NaN</td>\n      <td>NaN</td>\n      <td>NaN</td>\n      <td>...</td>\n      <td>NaN</td>\n      <td>NaN</td>\n      <td>NaN</td>\n      <td>NaN</td>\n      <td>NaN</td>\n      <td>NaN</td>\n      <td>NaN</td>\n      <td>NaN</td>\n      <td>NaN</td>\n      <td>NaN</td>\n    </tr>\n    <tr>\n      <th>50%</th>\n      <td>NaN</td>\n      <td>NaN</td>\n      <td>NaN</td>\n      <td>NaN</td>\n      <td>NaN</td>\n      <td>NaN</td>\n      <td>NaN</td>\n      <td>NaN</td>\n      <td>NaN</td>\n      <td>NaN</td>\n      <td>...</td>\n      <td>NaN</td>\n      <td>NaN</td>\n      <td>NaN</td>\n      <td>NaN</td>\n      <td>NaN</td>\n      <td>NaN</td>\n      <td>NaN</td>\n      <td>NaN</td>\n      <td>NaN</td>\n      <td>NaN</td>\n    </tr>\n    <tr>\n      <th>75%</th>\n      <td>NaN</td>\n      <td>NaN</td>\n      <td>NaN</td>\n      <td>NaN</td>\n      <td>NaN</td>\n      <td>NaN</td>\n      <td>NaN</td>\n      <td>NaN</td>\n      <td>NaN</td>\n      <td>NaN</td>\n      <td>...</td>\n      <td>NaN</td>\n      <td>NaN</td>\n      <td>NaN</td>\n      <td>NaN</td>\n      <td>NaN</td>\n      <td>NaN</td>\n      <td>NaN</td>\n      <td>NaN</td>\n      <td>NaN</td>\n      <td>NaN</td>\n    </tr>\n    <tr>\n      <th>max</th>\n      <td>NaN</td>\n      <td>NaN</td>\n      <td>NaN</td>\n      <td>NaN</td>\n      <td>NaN</td>\n      <td>NaN</td>\n      <td>NaN</td>\n      <td>NaN</td>\n      <td>NaN</td>\n      <td>NaN</td>\n      <td>...</td>\n      <td>NaN</td>\n      <td>NaN</td>\n      <td>NaN</td>\n      <td>NaN</td>\n      <td>NaN</td>\n      <td>NaN</td>\n      <td>NaN</td>\n      <td>NaN</td>\n      <td>NaN</td>\n      <td>NaN</td>\n    </tr>\n    <tr>\n      <th>std</th>\n      <td>NaN</td>\n      <td>NaN</td>\n      <td>NaN</td>\n      <td>NaN</td>\n      <td>NaN</td>\n      <td>NaN</td>\n      <td>NaN</td>\n      <td>NaN</td>\n      <td>NaN</td>\n      <td>NaN</td>\n      <td>...</td>\n      <td>NaN</td>\n      <td>NaN</td>\n      <td>NaN</td>\n      <td>NaN</td>\n      <td>NaN</td>\n      <td>NaN</td>\n      <td>NaN</td>\n      <td>NaN</td>\n      <td>NaN</td>\n      <td>NaN</td>\n    </tr>\n  </tbody>\n</table>\n<p>11 rows × 247 columns</p>\n</div>"
     },
     "execution_count": 78,
     "metadata": {},
     "output_type": "execute_result"
    }
   ],
   "source": [
    "df.describe(include='all')"
   ],
   "metadata": {
    "collapsed": false,
    "ExecuteTime": {
     "end_time": "2023-11-29T22:45:58.129851Z",
     "start_time": "2023-11-29T22:45:57.759584Z"
    }
   },
   "id": "72afb2581161dfce"
  },
  {
   "cell_type": "markdown",
   "source": [
    "## Data Cleaning Notes\n",
    "\n",
    "**Handling Special Placeholders in Financial Data:**\n",
    "\n",
    "The dataset uses special placeholder values to indicate non-standard entries for financial data: \n",
    "- “-1” indicates missing data, which may arise in situations where zero values are ambiguous.\n",
    "- “-2” and “-3” could similarly indicate other forms of non-standard or suppressed data, such as revised figures or privacy-related omissions.\n",
    "\n",
    "To facilitate accurate analysis, we replace these placeholder values in the money-related fields to avoid distortions in statistical calculations. However, each financial field is paired with a corresponding \"flag\" column. These flag columns provide references to documentation that explain the classification of each value in more depth, including the placeholders.\n",
    "\n",
    "The purpose of this cleaning step is not to discard the nuances and details encoded by these placeholders but to create a dataset that can be analyzed quantitatively without misinterpretation caused by non-numeric values. The flag columns remain intact for any case-by-case examination where the context behind the numeric values is necessary, ensuring transparency and traceability in our dataset.\n",
    "\n",
    "This approach ensures that while the dataset is primed for quantitative analysis, the integrity and comprehensiveness of the data are maintained for more qualitative assessments.\n"
   ],
   "metadata": {
    "collapsed": false
   },
   "id": "ab17c910ebc7f1c0"
  },
  {
   "cell_type": "code",
   "execution_count": 79,
   "outputs": [],
   "source": [
    "df.replace(-3, np.nan, inplace=True)\n",
    "df.replace(-2, np.nan, inplace=True)\n",
    "df.replace(-1, np.nan, inplace=True)"
   ],
   "metadata": {
    "collapsed": false,
    "ExecuteTime": {
     "end_time": "2023-11-29T22:45:58.414841Z",
     "start_time": "2023-11-29T22:45:58.129580Z"
    }
   },
   "id": "f15f5d4799e9d619"
  },
  {
   "cell_type": "code",
   "execution_count": 80,
   "outputs": [
    {
     "data": {
      "text/plain": "                      year  fall_membership  fall_membership_school_univ  \\\ncount                14625     13404.000000                 13754.000000   \nmean   2018-01-01 00:00:00      3622.945166                  3520.507198   \nmin    2018-01-01 00:00:00         0.000000                    -9.000000   \n25%    2018-01-01 00:00:00       402.000000                   367.000000   \n50%    2018-01-01 00:00:00      1107.000000                  1053.500000   \n75%    2018-01-01 00:00:00      2964.000000                  2870.000000   \nmax    2018-01-01 00:00:00    976771.000000                962949.000000   \nstd                    NaN     14781.233586                 14517.280160   \n\n       title_I_thru_state  indiv_with_disabilities_thru_state           C16  \\\ncount        1.427200e+04                        1.427200e+04  1.427200e+04   \nmean         9.656714e+05                        7.809238e+05  8.757560e+04   \nmin          0.000000e+00                        0.000000e+00  0.000000e+00   \n25%          5.800000e+04                        0.000000e+00  0.000000e+00   \n50%          1.890000e+05                        1.380000e+05  8.000000e+03   \n75%          5.672500e+05                        5.670000e+05  5.500000e+04   \nmax          5.881240e+08                        1.420570e+08  3.151900e+07   \nstd          7.282620e+06                        3.116454e+06  5.026265e+05   \n\n                C17  voc_tech_education_thru_state  \\\ncount  1.427200e+04                   1.427200e+04   \nmean   5.664588e+03                   3.772085e+04   \nmin    0.000000e+00                   0.000000e+00   \n25%    0.000000e+00                   0.000000e+00   \n50%    0.000000e+00                   0.000000e+00   \n75%    0.000000e+00                   1.300000e+04   \nmax    4.726000e+06                   1.000600e+07   \nstd    6.879561e+04                   1.915870e+05   \n\n       bilingual_education_thru_state  other_thru_state  ...  \\\ncount                    1.427200e+04      1.427200e+04  ...   \nmean                     2.307371e+04      4.363446e+05  ...   \nmin                      0.000000e+00      0.000000e+00  ...   \n25%                      0.000000e+00      9.000000e+03  ...   \n50%                      0.000000e+00      5.000000e+04  ...   \n75%                      0.000000e+00      2.180000e+05  ...   \nmax                      1.418600e+07      1.588090e+08  ...   \nstd                      1.985518e+05      2.561761e+06  ...   \n\n       assets_sinking_fund  assets_bond_fund  assets_other_funds  \\\ncount         1.427200e+04      1.427200e+04        1.427200e+04   \nmean          1.684007e+06      5.207361e+06        1.148048e+07   \nmin           0.000000e+00      0.000000e+00        0.000000e+00   \n25%           0.000000e+00      0.000000e+00        1.137000e+06   \n50%           6.000000e+03      0.000000e+00        3.424500e+06   \n75%           6.730000e+05      9.200000e+05        9.233250e+06   \nmax           8.852660e+08      1.591297e+09        3.464358e+09   \nstd           1.185297e+07      2.959688e+07        4.346642e+07   \n\n       utilities_services  tech_related_supplies_services  \\\ncount        1.427200e+04                    1.427200e+04   \nmean         6.013274e+05                    3.150437e+05   \nmin          0.000000e+00                    0.000000e+00   \n25%          0.000000e+00                    0.000000e+00   \n50%          1.100000e+05                    0.000000e+00   \n75%          4.410000e+05                    1.200000e+05   \nmax          8.521400e+07                    1.564930e+08   \nstd          2.374472e+06                    2.257338e+06   \n\n       tech_related_equipment  curr_expenditures_state_local_funds  \\\ncount            1.427200e+04                         7.985000e+03   \nmean             9.595011e+04                         3.452151e+07   \nmin              0.000000e+00                         0.000000e+00   \n25%              0.000000e+00                         4.036000e+06   \n50%              0.000000e+00                         1.026600e+07   \n75%              3.000000e+03                         2.691800e+07   \nmax              2.450700e+07                         2.928478e+09   \nstd              6.698228e+05                         1.133112e+08   \n\n       curr_expenditures_federal_funds  curr_expenditures_resa_lea   weight  \ncount                     7.985000e+03                1.427200e+04  14625.0  \nmean                      3.232660e+06                1.088165e+05      1.0  \nmin                       0.000000e+00                0.000000e+00      1.0  \n25%                       2.740000e+05                0.000000e+00      1.0  \n50%                       7.230000e+05                0.000000e+00      1.0  \n75%                       2.080000e+06                0.000000e+00      1.0  \nmax                       4.574960e+08                4.446180e+08      1.0  \nstd                       1.357562e+07                3.778499e+06      0.0  \n\n[8 rows x 117 columns]",
      "text/html": "<div>\n<style scoped>\n    .dataframe tbody tr th:only-of-type {\n        vertical-align: middle;\n    }\n\n    .dataframe tbody tr th {\n        vertical-align: top;\n    }\n\n    .dataframe thead th {\n        text-align: right;\n    }\n</style>\n<table border=\"1\" class=\"dataframe\">\n  <thead>\n    <tr style=\"text-align: right;\">\n      <th></th>\n      <th>year</th>\n      <th>fall_membership</th>\n      <th>fall_membership_school_univ</th>\n      <th>title_I_thru_state</th>\n      <th>indiv_with_disabilities_thru_state</th>\n      <th>C16</th>\n      <th>C17</th>\n      <th>voc_tech_education_thru_state</th>\n      <th>bilingual_education_thru_state</th>\n      <th>other_thru_state</th>\n      <th>...</th>\n      <th>assets_sinking_fund</th>\n      <th>assets_bond_fund</th>\n      <th>assets_other_funds</th>\n      <th>utilities_services</th>\n      <th>tech_related_supplies_services</th>\n      <th>tech_related_equipment</th>\n      <th>curr_expenditures_state_local_funds</th>\n      <th>curr_expenditures_federal_funds</th>\n      <th>curr_expenditures_resa_lea</th>\n      <th>weight</th>\n    </tr>\n  </thead>\n  <tbody>\n    <tr>\n      <th>count</th>\n      <td>14625</td>\n      <td>13404.000000</td>\n      <td>13754.000000</td>\n      <td>1.427200e+04</td>\n      <td>1.427200e+04</td>\n      <td>1.427200e+04</td>\n      <td>1.427200e+04</td>\n      <td>1.427200e+04</td>\n      <td>1.427200e+04</td>\n      <td>1.427200e+04</td>\n      <td>...</td>\n      <td>1.427200e+04</td>\n      <td>1.427200e+04</td>\n      <td>1.427200e+04</td>\n      <td>1.427200e+04</td>\n      <td>1.427200e+04</td>\n      <td>1.427200e+04</td>\n      <td>7.985000e+03</td>\n      <td>7.985000e+03</td>\n      <td>1.427200e+04</td>\n      <td>14625.0</td>\n    </tr>\n    <tr>\n      <th>mean</th>\n      <td>2018-01-01 00:00:00</td>\n      <td>3622.945166</td>\n      <td>3520.507198</td>\n      <td>9.656714e+05</td>\n      <td>7.809238e+05</td>\n      <td>8.757560e+04</td>\n      <td>5.664588e+03</td>\n      <td>3.772085e+04</td>\n      <td>2.307371e+04</td>\n      <td>4.363446e+05</td>\n      <td>...</td>\n      <td>1.684007e+06</td>\n      <td>5.207361e+06</td>\n      <td>1.148048e+07</td>\n      <td>6.013274e+05</td>\n      <td>3.150437e+05</td>\n      <td>9.595011e+04</td>\n      <td>3.452151e+07</td>\n      <td>3.232660e+06</td>\n      <td>1.088165e+05</td>\n      <td>1.0</td>\n    </tr>\n    <tr>\n      <th>min</th>\n      <td>2018-01-01 00:00:00</td>\n      <td>0.000000</td>\n      <td>-9.000000</td>\n      <td>0.000000e+00</td>\n      <td>0.000000e+00</td>\n      <td>0.000000e+00</td>\n      <td>0.000000e+00</td>\n      <td>0.000000e+00</td>\n      <td>0.000000e+00</td>\n      <td>0.000000e+00</td>\n      <td>...</td>\n      <td>0.000000e+00</td>\n      <td>0.000000e+00</td>\n      <td>0.000000e+00</td>\n      <td>0.000000e+00</td>\n      <td>0.000000e+00</td>\n      <td>0.000000e+00</td>\n      <td>0.000000e+00</td>\n      <td>0.000000e+00</td>\n      <td>0.000000e+00</td>\n      <td>1.0</td>\n    </tr>\n    <tr>\n      <th>25%</th>\n      <td>2018-01-01 00:00:00</td>\n      <td>402.000000</td>\n      <td>367.000000</td>\n      <td>5.800000e+04</td>\n      <td>0.000000e+00</td>\n      <td>0.000000e+00</td>\n      <td>0.000000e+00</td>\n      <td>0.000000e+00</td>\n      <td>0.000000e+00</td>\n      <td>9.000000e+03</td>\n      <td>...</td>\n      <td>0.000000e+00</td>\n      <td>0.000000e+00</td>\n      <td>1.137000e+06</td>\n      <td>0.000000e+00</td>\n      <td>0.000000e+00</td>\n      <td>0.000000e+00</td>\n      <td>4.036000e+06</td>\n      <td>2.740000e+05</td>\n      <td>0.000000e+00</td>\n      <td>1.0</td>\n    </tr>\n    <tr>\n      <th>50%</th>\n      <td>2018-01-01 00:00:00</td>\n      <td>1107.000000</td>\n      <td>1053.500000</td>\n      <td>1.890000e+05</td>\n      <td>1.380000e+05</td>\n      <td>8.000000e+03</td>\n      <td>0.000000e+00</td>\n      <td>0.000000e+00</td>\n      <td>0.000000e+00</td>\n      <td>5.000000e+04</td>\n      <td>...</td>\n      <td>6.000000e+03</td>\n      <td>0.000000e+00</td>\n      <td>3.424500e+06</td>\n      <td>1.100000e+05</td>\n      <td>0.000000e+00</td>\n      <td>0.000000e+00</td>\n      <td>1.026600e+07</td>\n      <td>7.230000e+05</td>\n      <td>0.000000e+00</td>\n      <td>1.0</td>\n    </tr>\n    <tr>\n      <th>75%</th>\n      <td>2018-01-01 00:00:00</td>\n      <td>2964.000000</td>\n      <td>2870.000000</td>\n      <td>5.672500e+05</td>\n      <td>5.670000e+05</td>\n      <td>5.500000e+04</td>\n      <td>0.000000e+00</td>\n      <td>1.300000e+04</td>\n      <td>0.000000e+00</td>\n      <td>2.180000e+05</td>\n      <td>...</td>\n      <td>6.730000e+05</td>\n      <td>9.200000e+05</td>\n      <td>9.233250e+06</td>\n      <td>4.410000e+05</td>\n      <td>1.200000e+05</td>\n      <td>3.000000e+03</td>\n      <td>2.691800e+07</td>\n      <td>2.080000e+06</td>\n      <td>0.000000e+00</td>\n      <td>1.0</td>\n    </tr>\n    <tr>\n      <th>max</th>\n      <td>2018-01-01 00:00:00</td>\n      <td>976771.000000</td>\n      <td>962949.000000</td>\n      <td>5.881240e+08</td>\n      <td>1.420570e+08</td>\n      <td>3.151900e+07</td>\n      <td>4.726000e+06</td>\n      <td>1.000600e+07</td>\n      <td>1.418600e+07</td>\n      <td>1.588090e+08</td>\n      <td>...</td>\n      <td>8.852660e+08</td>\n      <td>1.591297e+09</td>\n      <td>3.464358e+09</td>\n      <td>8.521400e+07</td>\n      <td>1.564930e+08</td>\n      <td>2.450700e+07</td>\n      <td>2.928478e+09</td>\n      <td>4.574960e+08</td>\n      <td>4.446180e+08</td>\n      <td>1.0</td>\n    </tr>\n    <tr>\n      <th>std</th>\n      <td>NaN</td>\n      <td>14781.233586</td>\n      <td>14517.280160</td>\n      <td>7.282620e+06</td>\n      <td>3.116454e+06</td>\n      <td>5.026265e+05</td>\n      <td>6.879561e+04</td>\n      <td>1.915870e+05</td>\n      <td>1.985518e+05</td>\n      <td>2.561761e+06</td>\n      <td>...</td>\n      <td>1.185297e+07</td>\n      <td>2.959688e+07</td>\n      <td>4.346642e+07</td>\n      <td>2.374472e+06</td>\n      <td>2.257338e+06</td>\n      <td>6.698228e+05</td>\n      <td>1.133112e+08</td>\n      <td>1.357562e+07</td>\n      <td>3.778499e+06</td>\n      <td>0.0</td>\n    </tr>\n  </tbody>\n</table>\n<p>8 rows × 117 columns</p>\n</div>"
     },
     "execution_count": 80,
     "metadata": {},
     "output_type": "execute_result"
    }
   ],
   "source": [
    "df.describe()"
   ],
   "metadata": {
    "collapsed": false,
    "ExecuteTime": {
     "end_time": "2023-11-29T22:45:58.560138Z",
     "start_time": "2023-11-29T22:45:58.415593Z"
    }
   },
   "id": "964bddf2d03df7b4"
  },
  {
   "cell_type": "markdown",
   "source": [],
   "metadata": {
    "collapsed": false
   },
   "id": "c61eff259d6b094e"
  },
  {
   "cell_type": "markdown",
   "source": [
    "### Entity Schema Tables  \n",
    "\n",
    "#### Create entity DataFrame"
   ],
   "metadata": {
    "collapsed": false
   },
   "id": "a0eafd316ad2fdff"
  },
  {
   "cell_type": "code",
   "execution_count": 81,
   "outputs": [
    {
     "data": {
      "text/plain": "        lea_id       census_id ansi_state_code ansi_county_code  csa   cbsa  \\\n1       100005  01504840100000               1             1095  290  10700   \n2       100006  01504800100000               1             1095  290  10700   \n3       100007  01503740100000               1             1073  142  13820   \n4       100008  01504530100000               1             1089  290  26620   \n6       100011  01503710100000               1             1073  142  13820   \n...        ...             ...             ...              ...  ...    ...   \n18704  5605830  51502000200000              56            56039    N  27220   \n18705  5606090  51502300200000              56            56045    N      N   \n18706  5606240  51502200400000              56            56043    N      N   \n18707  5680180  51500340100000              56            56005    N  23940   \n18708  5680250  51502040100000              56            56039    N  27220   \n\n                                 lea_name    state st_abbr  \n1                        Albertville City  Alabama      AL  \n2                         Marshall County  Alabama      AL  \n3                             Hoover City  Alabama      AL  \n4                            Madison City  Alabama      AL  \n6                              Leeds City  Alabama      AL  \n...                                   ...      ...     ...  \n18704     Teton County School District #1  Wyoming      WY  \n18705    Weston County School District #7  Wyoming      WY  \n18706  Washakie County School District #1  Wyoming      WY  \n18707             Northeast Wyoming BOCES  Wyoming      WY  \n18708                      Region V BOCES  Wyoming      WY  \n\n[14625 rows x 9 columns]",
      "text/html": "<div>\n<style scoped>\n    .dataframe tbody tr th:only-of-type {\n        vertical-align: middle;\n    }\n\n    .dataframe tbody tr th {\n        vertical-align: top;\n    }\n\n    .dataframe thead th {\n        text-align: right;\n    }\n</style>\n<table border=\"1\" class=\"dataframe\">\n  <thead>\n    <tr style=\"text-align: right;\">\n      <th></th>\n      <th>lea_id</th>\n      <th>census_id</th>\n      <th>ansi_state_code</th>\n      <th>ansi_county_code</th>\n      <th>csa</th>\n      <th>cbsa</th>\n      <th>lea_name</th>\n      <th>state</th>\n      <th>st_abbr</th>\n    </tr>\n  </thead>\n  <tbody>\n    <tr>\n      <th>1</th>\n      <td>100005</td>\n      <td>01504840100000</td>\n      <td>1</td>\n      <td>1095</td>\n      <td>290</td>\n      <td>10700</td>\n      <td>Albertville City</td>\n      <td>Alabama</td>\n      <td>AL</td>\n    </tr>\n    <tr>\n      <th>2</th>\n      <td>100006</td>\n      <td>01504800100000</td>\n      <td>1</td>\n      <td>1095</td>\n      <td>290</td>\n      <td>10700</td>\n      <td>Marshall County</td>\n      <td>Alabama</td>\n      <td>AL</td>\n    </tr>\n    <tr>\n      <th>3</th>\n      <td>100007</td>\n      <td>01503740100000</td>\n      <td>1</td>\n      <td>1073</td>\n      <td>142</td>\n      <td>13820</td>\n      <td>Hoover City</td>\n      <td>Alabama</td>\n      <td>AL</td>\n    </tr>\n    <tr>\n      <th>4</th>\n      <td>100008</td>\n      <td>01504530100000</td>\n      <td>1</td>\n      <td>1089</td>\n      <td>290</td>\n      <td>26620</td>\n      <td>Madison City</td>\n      <td>Alabama</td>\n      <td>AL</td>\n    </tr>\n    <tr>\n      <th>6</th>\n      <td>100011</td>\n      <td>01503710100000</td>\n      <td>1</td>\n      <td>1073</td>\n      <td>142</td>\n      <td>13820</td>\n      <td>Leeds City</td>\n      <td>Alabama</td>\n      <td>AL</td>\n    </tr>\n    <tr>\n      <th>...</th>\n      <td>...</td>\n      <td>...</td>\n      <td>...</td>\n      <td>...</td>\n      <td>...</td>\n      <td>...</td>\n      <td>...</td>\n      <td>...</td>\n      <td>...</td>\n    </tr>\n    <tr>\n      <th>18704</th>\n      <td>5605830</td>\n      <td>51502000200000</td>\n      <td>56</td>\n      <td>56039</td>\n      <td>N</td>\n      <td>27220</td>\n      <td>Teton County School District #1</td>\n      <td>Wyoming</td>\n      <td>WY</td>\n    </tr>\n    <tr>\n      <th>18705</th>\n      <td>5606090</td>\n      <td>51502300200000</td>\n      <td>56</td>\n      <td>56045</td>\n      <td>N</td>\n      <td>N</td>\n      <td>Weston County School District #7</td>\n      <td>Wyoming</td>\n      <td>WY</td>\n    </tr>\n    <tr>\n      <th>18706</th>\n      <td>5606240</td>\n      <td>51502200400000</td>\n      <td>56</td>\n      <td>56043</td>\n      <td>N</td>\n      <td>N</td>\n      <td>Washakie County School District #1</td>\n      <td>Wyoming</td>\n      <td>WY</td>\n    </tr>\n    <tr>\n      <th>18707</th>\n      <td>5680180</td>\n      <td>51500340100000</td>\n      <td>56</td>\n      <td>56005</td>\n      <td>N</td>\n      <td>23940</td>\n      <td>Northeast Wyoming BOCES</td>\n      <td>Wyoming</td>\n      <td>WY</td>\n    </tr>\n    <tr>\n      <th>18708</th>\n      <td>5680250</td>\n      <td>51502040100000</td>\n      <td>56</td>\n      <td>56039</td>\n      <td>N</td>\n      <td>27220</td>\n      <td>Region V BOCES</td>\n      <td>Wyoming</td>\n      <td>WY</td>\n    </tr>\n  </tbody>\n</table>\n<p>14625 rows × 9 columns</p>\n</div>"
     },
     "execution_count": 81,
     "metadata": {},
     "output_type": "execute_result"
    }
   ],
   "source": [
    "# Initialize an empty list for storing column names\n",
    "entity_columns = []\n",
    "\n",
    "# Iterate over each row in the mapping DataFrame\n",
    "for index, row in column_mapping_df.iterrows():\n",
    "    # Check if the table is 'entity' or 'all', and the column name is not 'year'\n",
    "    if row['Table'] in ['entity', 'all'] and row['New Name'] != 'year':\n",
    "        if row['New Name'] not in total_columns:\n",
    "            # Add the new column name to the list\n",
    "            entity_columns.append(row['New Name'])\n",
    "\n",
    "# Create a new DataFrame with only the selected columns\n",
    "entity = df[entity_columns].copy()\n",
    "entity\n"
   ],
   "metadata": {
    "collapsed": false,
    "ExecuteTime": {
     "end_time": "2023-11-29T22:45:58.583118Z",
     "start_time": "2023-11-29T22:45:58.570027Z"
    }
   },
   "id": "4a112cdace494d30"
  },
  {
   "cell_type": "markdown",
   "source": [
    "#### Create annual_stats DataFrame"
   ],
   "metadata": {
    "collapsed": false
   },
   "id": "79df842ce02b3546"
  },
  {
   "cell_type": "code",
   "execution_count": 82,
   "outputs": [
    {
     "data": {
      "text/plain": "            census_id school_level_code agency_charter_code  \\\n1      01504840100000                03                   3   \n2      01504800100000                03                   3   \n3      01503740100000                03                   3   \n4      01504530100000                03                   3   \n6      01503710100000                03                   3   \n...               ...               ...                 ...   \n18704  51502000200000                03                   3   \n18705  51502300200000                03                   3   \n18706  51502200400000                03                   3   \n18707  51500340100000                07                   3   \n18708  51502040100000                07                   3   \n\n       ccd_nonfiscal_match  census_fiscal_match low_grade_offered  \\\n1                     True                 True                PK   \n2                     True                 True                PK   \n3                     True                 True                PK   \n4                     True                 True                PK   \n6                     True                 True                PK   \n...                    ...                  ...               ...   \n18704                 True                 True                KG   \n18705                 True                 True                KG   \n18706                 True                 True                KG   \n18707                 True                 True                01   \n18708                 True                 True                01   \n\n      high_grade_offered  fall_membership  fall_membership_school_univ  \\\n1                     12           5562.0                       5562.0   \n2                     12           5662.0                       5662.0   \n3                     12          14027.0                      14027.0   \n4                     12          10767.0                      10767.0   \n6                     12           1974.0                       1974.0   \n...                  ...              ...                          ...   \n18704                 12           2862.0                       2862.0   \n18705                 12            254.0                        254.0   \n18706                 12           1274.0                       1274.0   \n18707                 12              NaN                         28.0   \n18708                 12              NaN                         44.0   \n\n      fall_membership_flag fall_membership_school_univ_flag       year  \n1                        R                                R 2018-01-01  \n2                        R                                R 2018-01-01  \n3                        R                                R 2018-01-01  \n4                        R                                R 2018-01-01  \n6                        R                                R 2018-01-01  \n...                    ...                              ...        ...  \n18704                    R                                R 2018-01-01  \n18705                    R                                R 2018-01-01  \n18706                    R                                R 2018-01-01  \n18707                    A                                R 2018-01-01  \n18708                    A                                R 2018-01-01  \n\n[14625 rows x 12 columns]",
      "text/html": "<div>\n<style scoped>\n    .dataframe tbody tr th:only-of-type {\n        vertical-align: middle;\n    }\n\n    .dataframe tbody tr th {\n        vertical-align: top;\n    }\n\n    .dataframe thead th {\n        text-align: right;\n    }\n</style>\n<table border=\"1\" class=\"dataframe\">\n  <thead>\n    <tr style=\"text-align: right;\">\n      <th></th>\n      <th>census_id</th>\n      <th>school_level_code</th>\n      <th>agency_charter_code</th>\n      <th>ccd_nonfiscal_match</th>\n      <th>census_fiscal_match</th>\n      <th>low_grade_offered</th>\n      <th>high_grade_offered</th>\n      <th>fall_membership</th>\n      <th>fall_membership_school_univ</th>\n      <th>fall_membership_flag</th>\n      <th>fall_membership_school_univ_flag</th>\n      <th>year</th>\n    </tr>\n  </thead>\n  <tbody>\n    <tr>\n      <th>1</th>\n      <td>01504840100000</td>\n      <td>03</td>\n      <td>3</td>\n      <td>True</td>\n      <td>True</td>\n      <td>PK</td>\n      <td>12</td>\n      <td>5562.0</td>\n      <td>5562.0</td>\n      <td>R</td>\n      <td>R</td>\n      <td>2018-01-01</td>\n    </tr>\n    <tr>\n      <th>2</th>\n      <td>01504800100000</td>\n      <td>03</td>\n      <td>3</td>\n      <td>True</td>\n      <td>True</td>\n      <td>PK</td>\n      <td>12</td>\n      <td>5662.0</td>\n      <td>5662.0</td>\n      <td>R</td>\n      <td>R</td>\n      <td>2018-01-01</td>\n    </tr>\n    <tr>\n      <th>3</th>\n      <td>01503740100000</td>\n      <td>03</td>\n      <td>3</td>\n      <td>True</td>\n      <td>True</td>\n      <td>PK</td>\n      <td>12</td>\n      <td>14027.0</td>\n      <td>14027.0</td>\n      <td>R</td>\n      <td>R</td>\n      <td>2018-01-01</td>\n    </tr>\n    <tr>\n      <th>4</th>\n      <td>01504530100000</td>\n      <td>03</td>\n      <td>3</td>\n      <td>True</td>\n      <td>True</td>\n      <td>PK</td>\n      <td>12</td>\n      <td>10767.0</td>\n      <td>10767.0</td>\n      <td>R</td>\n      <td>R</td>\n      <td>2018-01-01</td>\n    </tr>\n    <tr>\n      <th>6</th>\n      <td>01503710100000</td>\n      <td>03</td>\n      <td>3</td>\n      <td>True</td>\n      <td>True</td>\n      <td>PK</td>\n      <td>12</td>\n      <td>1974.0</td>\n      <td>1974.0</td>\n      <td>R</td>\n      <td>R</td>\n      <td>2018-01-01</td>\n    </tr>\n    <tr>\n      <th>...</th>\n      <td>...</td>\n      <td>...</td>\n      <td>...</td>\n      <td>...</td>\n      <td>...</td>\n      <td>...</td>\n      <td>...</td>\n      <td>...</td>\n      <td>...</td>\n      <td>...</td>\n      <td>...</td>\n      <td>...</td>\n    </tr>\n    <tr>\n      <th>18704</th>\n      <td>51502000200000</td>\n      <td>03</td>\n      <td>3</td>\n      <td>True</td>\n      <td>True</td>\n      <td>KG</td>\n      <td>12</td>\n      <td>2862.0</td>\n      <td>2862.0</td>\n      <td>R</td>\n      <td>R</td>\n      <td>2018-01-01</td>\n    </tr>\n    <tr>\n      <th>18705</th>\n      <td>51502300200000</td>\n      <td>03</td>\n      <td>3</td>\n      <td>True</td>\n      <td>True</td>\n      <td>KG</td>\n      <td>12</td>\n      <td>254.0</td>\n      <td>254.0</td>\n      <td>R</td>\n      <td>R</td>\n      <td>2018-01-01</td>\n    </tr>\n    <tr>\n      <th>18706</th>\n      <td>51502200400000</td>\n      <td>03</td>\n      <td>3</td>\n      <td>True</td>\n      <td>True</td>\n      <td>KG</td>\n      <td>12</td>\n      <td>1274.0</td>\n      <td>1274.0</td>\n      <td>R</td>\n      <td>R</td>\n      <td>2018-01-01</td>\n    </tr>\n    <tr>\n      <th>18707</th>\n      <td>51500340100000</td>\n      <td>07</td>\n      <td>3</td>\n      <td>True</td>\n      <td>True</td>\n      <td>01</td>\n      <td>12</td>\n      <td>NaN</td>\n      <td>28.0</td>\n      <td>A</td>\n      <td>R</td>\n      <td>2018-01-01</td>\n    </tr>\n    <tr>\n      <th>18708</th>\n      <td>51502040100000</td>\n      <td>07</td>\n      <td>3</td>\n      <td>True</td>\n      <td>True</td>\n      <td>01</td>\n      <td>12</td>\n      <td>NaN</td>\n      <td>44.0</td>\n      <td>A</td>\n      <td>R</td>\n      <td>2018-01-01</td>\n    </tr>\n  </tbody>\n</table>\n<p>14625 rows × 12 columns</p>\n</div>"
     },
     "execution_count": 82,
     "metadata": {},
     "output_type": "execute_result"
    }
   ],
   "source": [
    "# Initialize an empty list for storing column names\n",
    "annual_stats_columns = []\n",
    "\n",
    "# Iterate over each row in the mapping DataFrame\n",
    "for index, row in column_mapping_df.iterrows():\n",
    "    # Check if the table is 'annual_stats' or 'all'\n",
    "    if row['Table'] in ['annual_stats', 'all']:\n",
    "        if row['New Name'] not in total_columns:\n",
    "            # Add the new column name to the list\n",
    "            annual_stats_columns.append(row['New Name'])\n",
    "\n",
    "# Create a new DataFrame with only the selected columns\n",
    "annual_stats = df[annual_stats_columns].copy()\n",
    "\n",
    "# If 'year' is not the last column, move it to the end\n",
    "if 'year' in annual_stats.columns and annual_stats.columns[-1] != 'year':\n",
    "    # Get a list of all columns except 'year'\n",
    "    cols = [col for col in annual_stats.columns if col != 'year']\n",
    "    # Add 'year' at the end of the list\n",
    "    cols.append('year')\n",
    "    # Reorder the DataFrame\n",
    "    annual_stats = annual_stats[cols]\n",
    "\n",
    "annual_stats"
   ],
   "metadata": {
    "collapsed": false,
    "ExecuteTime": {
     "end_time": "2023-11-29T22:45:58.672556Z",
     "start_time": "2023-11-29T22:45:58.591719Z"
    }
   },
   "id": "2e788ca7aaafa6f3"
  },
  {
   "cell_type": "markdown",
   "source": [
    "### Expenses & Revenue Schema Tables"
   ],
   "metadata": {
    "collapsed": false
   },
   "id": "ab6e463dbff78c4f"
  },
  {
   "cell_type": "markdown",
   "source": [
    "#### `melt_df()`\n",
    "The purpose of this fuction is to convert the data from a wide format to a long format, which is optimal for data normalization in relational databases, and for data visualizations."
   ],
   "metadata": {
    "collapsed": false
   },
   "id": "135a0e193a370655"
  },
  {
   "cell_type": "code",
   "execution_count": 83,
   "outputs": [],
   "source": [
    "def melt_df(df: pd.DataFrame, schema: str, table: str, column_mapping_df: pd.DataFrame, total_columns: list) -> pd.DataFrame:\n",
    "    # Initialize an empty list for storing column names\n",
    "    columns_to_use = []\n",
    "    new_columns = []\n",
    "    \n",
    "    # Iterate over each row in the mapping DataFrame\n",
    "    for _, row in column_mapping_df.iterrows():\n",
    "        # Check if the table is the specified one or 'all'\n",
    "        if row['Table'] in [table, 'all']:\n",
    "            if row['New Name'] not in total_columns:\n",
    "                # Add the new column name to the list\n",
    "                columns_to_use.append(row['New Name'])\n",
    "    \n",
    "    # Create a new DataFrame with only the selected columns\n",
    "    new_df = df[columns_to_use].copy()\n",
    "    \n",
    "    # Select id_vars for the melt function\n",
    "    id_vars = ['census_id', 'year'] + [col for col in new_df.columns if col.endswith('_flag')]\n",
    "    \n",
    "    # Melt the DataFrame\n",
    "    if schema == 'expenses':\n",
    "        new_df = pd.melt(new_df, id_vars=id_vars, var_name='expenditure_title', value_name='amount')\n",
    "        # The new columns will be 'expenditure_title' and 'amount'\n",
    "        new_columns = ['expenditure_title', 'amount']\n",
    "    elif schema == 'revenue':\n",
    "        new_df = pd.melt(new_df, id_vars=id_vars, var_name='revenue_title', value_name='revenue')\n",
    "        # The new columns will be 'revenue_title' and 'revenue'\n",
    "        new_columns = ['revenue_title', 'revenue']\n",
    "    \n",
    "    # Ensure the new columns are at indexes 2 and 3\n",
    "    # Get the list of id_vars that don't include the new columns\n",
    "    remaining_columns = [col for col in id_vars if col not in new_columns]\n",
    "\n",
    "    # Reorder columns such that new columns are at index 2 and 3\n",
    "    ordered_columns = remaining_columns[:2] + new_columns + remaining_columns[2:]\n",
    "    \n",
    "    # Reassign the DataFrame with the ordered columns\n",
    "    new_df = new_df[ordered_columns]\n",
    "    \n",
    "    return new_df\n"
   ],
   "metadata": {
    "collapsed": false,
    "ExecuteTime": {
     "end_time": "2023-11-29T22:45:58.681364Z",
     "start_time": "2023-11-29T22:45:58.609901Z"
    }
   },
   "id": "8888b5eda9262cf8"
  },
  {
   "cell_type": "markdown",
   "source": [
    "#### Create expenditures DF"
   ],
   "metadata": {
    "collapsed": false
   },
   "id": "af82ed7ead081652"
  },
  {
   "cell_type": "code",
   "execution_count": 84,
   "outputs": [
    {
     "ename": "KeyError",
     "evalue": "\"['special_education_expenditure_curr', 'special_education_expenditure_instructional', 'special_education_expenditure_pupil_support', 'special_education_expenditure_instructional_staff_support', 'special_education_expenditure_student_transportation_support', 'cares_act_expenditure_curr', 'cares_act_expenditure_instructional', 'cares_act_expenditure_support_services', 'cares_act_expenditure_capital_outlay', 'cares_act_expenditure_tech_related_supplies_services', 'cares_act_expenditure_tech_related_equipment', 'special_education_expenditure_curr_flag', 'special_education_expenditure_instructional_flag', 'special_education_expenditure_pupil_support_flag', 'special_education_expenditure_instructional_staff_support_flag', 'special_education_expenditure_student_transportation_support_flag', 'cares_act_expenditure_curr_flag', 'cares_act_expenditure_instructional_flag', 'cares_act_expenditure_support_services_flag', 'cares_act_expenditure_capital_outlay_flag', 'cares_act_expenditure_tech_related_supplies_services_flag', 'cares_act_expenditure_tech_related_equipment_flag'] not in index\"",
     "output_type": "error",
     "traceback": [
      "\u001B[0;31m---------------------------------------------------------------------------\u001B[0m",
      "\u001B[0;31mKeyError\u001B[0m                                  Traceback (most recent call last)",
      "\u001B[0;32m<ipython-input-84-bbef484b020b>\u001B[0m in \u001B[0;36m<module>\u001B[0;34m\u001B[0m\n\u001B[0;32m----> 1\u001B[0;31m \u001B[0mexpenditures\u001B[0m \u001B[0;34m=\u001B[0m \u001B[0mmelt_df\u001B[0m\u001B[0;34m(\u001B[0m\u001B[0mdf\u001B[0m\u001B[0;34m,\u001B[0m\u001B[0;34m'expenses'\u001B[0m\u001B[0;34m,\u001B[0m \u001B[0;34m'expenditures'\u001B[0m\u001B[0;34m,\u001B[0m \u001B[0mcolumn_mapping_df\u001B[0m\u001B[0;34m,\u001B[0m \u001B[0mtotal_columns\u001B[0m\u001B[0;34m)\u001B[0m\u001B[0;34m\u001B[0m\u001B[0;34m\u001B[0m\u001B[0m\n\u001B[0m\u001B[1;32m      2\u001B[0m \u001B[0mexpenditures\u001B[0m\u001B[0;34m.\u001B[0m\u001B[0mhead\u001B[0m\u001B[0;34m(\u001B[0m\u001B[0;34m)\u001B[0m\u001B[0;34m\u001B[0m\u001B[0;34m\u001B[0m\u001B[0m\n",
      "\u001B[0;32m<ipython-input-83-b33f7180e0c2>\u001B[0m in \u001B[0;36mmelt_df\u001B[0;34m(df, schema, table, column_mapping_df, total_columns)\u001B[0m\n\u001B[1;32m     13\u001B[0m \u001B[0;34m\u001B[0m\u001B[0m\n\u001B[1;32m     14\u001B[0m     \u001B[0;31m# Create a new DataFrame with only the selected columns\u001B[0m\u001B[0;34m\u001B[0m\u001B[0;34m\u001B[0m\u001B[0;34m\u001B[0m\u001B[0m\n\u001B[0;32m---> 15\u001B[0;31m     \u001B[0mnew_df\u001B[0m \u001B[0;34m=\u001B[0m \u001B[0mdf\u001B[0m\u001B[0;34m[\u001B[0m\u001B[0mcolumns_to_use\u001B[0m\u001B[0;34m]\u001B[0m\u001B[0;34m.\u001B[0m\u001B[0mcopy\u001B[0m\u001B[0;34m(\u001B[0m\u001B[0;34m)\u001B[0m\u001B[0;34m\u001B[0m\u001B[0;34m\u001B[0m\u001B[0m\n\u001B[0m\u001B[1;32m     16\u001B[0m \u001B[0;34m\u001B[0m\u001B[0m\n\u001B[1;32m     17\u001B[0m     \u001B[0;31m# Select id_vars for the melt function\u001B[0m\u001B[0;34m\u001B[0m\u001B[0;34m\u001B[0m\u001B[0;34m\u001B[0m\u001B[0m\n",
      "\u001B[0;32m~/opt/anaconda3/lib/python3.8/site-packages/pandas/core/frame.py\u001B[0m in \u001B[0;36m__getitem__\u001B[0;34m(self, key)\u001B[0m\n\u001B[1;32m   3765\u001B[0m             \u001B[0;32mif\u001B[0m \u001B[0mis_iterator\u001B[0m\u001B[0;34m(\u001B[0m\u001B[0mkey\u001B[0m\u001B[0;34m)\u001B[0m\u001B[0;34m:\u001B[0m\u001B[0;34m\u001B[0m\u001B[0;34m\u001B[0m\u001B[0m\n\u001B[1;32m   3766\u001B[0m                 \u001B[0mkey\u001B[0m \u001B[0;34m=\u001B[0m \u001B[0mlist\u001B[0m\u001B[0;34m(\u001B[0m\u001B[0mkey\u001B[0m\u001B[0;34m)\u001B[0m\u001B[0;34m\u001B[0m\u001B[0;34m\u001B[0m\u001B[0m\n\u001B[0;32m-> 3767\u001B[0;31m             \u001B[0mindexer\u001B[0m \u001B[0;34m=\u001B[0m \u001B[0mself\u001B[0m\u001B[0;34m.\u001B[0m\u001B[0mcolumns\u001B[0m\u001B[0;34m.\u001B[0m\u001B[0m_get_indexer_strict\u001B[0m\u001B[0;34m(\u001B[0m\u001B[0mkey\u001B[0m\u001B[0;34m,\u001B[0m \u001B[0;34m\"columns\"\u001B[0m\u001B[0;34m)\u001B[0m\u001B[0;34m[\u001B[0m\u001B[0;36m1\u001B[0m\u001B[0;34m]\u001B[0m\u001B[0;34m\u001B[0m\u001B[0;34m\u001B[0m\u001B[0m\n\u001B[0m\u001B[1;32m   3768\u001B[0m \u001B[0;34m\u001B[0m\u001B[0m\n\u001B[1;32m   3769\u001B[0m         \u001B[0;31m# take() does not accept boolean indexers\u001B[0m\u001B[0;34m\u001B[0m\u001B[0;34m\u001B[0m\u001B[0;34m\u001B[0m\u001B[0m\n",
      "\u001B[0;32m~/opt/anaconda3/lib/python3.8/site-packages/pandas/core/indexes/base.py\u001B[0m in \u001B[0;36m_get_indexer_strict\u001B[0;34m(self, key, axis_name)\u001B[0m\n\u001B[1;32m   5875\u001B[0m             \u001B[0mkeyarr\u001B[0m\u001B[0;34m,\u001B[0m \u001B[0mindexer\u001B[0m\u001B[0;34m,\u001B[0m \u001B[0mnew_indexer\u001B[0m \u001B[0;34m=\u001B[0m \u001B[0mself\u001B[0m\u001B[0;34m.\u001B[0m\u001B[0m_reindex_non_unique\u001B[0m\u001B[0;34m(\u001B[0m\u001B[0mkeyarr\u001B[0m\u001B[0;34m)\u001B[0m\u001B[0;34m\u001B[0m\u001B[0;34m\u001B[0m\u001B[0m\n\u001B[1;32m   5876\u001B[0m \u001B[0;34m\u001B[0m\u001B[0m\n\u001B[0;32m-> 5877\u001B[0;31m         \u001B[0mself\u001B[0m\u001B[0;34m.\u001B[0m\u001B[0m_raise_if_missing\u001B[0m\u001B[0;34m(\u001B[0m\u001B[0mkeyarr\u001B[0m\u001B[0;34m,\u001B[0m \u001B[0mindexer\u001B[0m\u001B[0;34m,\u001B[0m \u001B[0maxis_name\u001B[0m\u001B[0;34m)\u001B[0m\u001B[0;34m\u001B[0m\u001B[0;34m\u001B[0m\u001B[0m\n\u001B[0m\u001B[1;32m   5878\u001B[0m \u001B[0;34m\u001B[0m\u001B[0m\n\u001B[1;32m   5879\u001B[0m         \u001B[0mkeyarr\u001B[0m \u001B[0;34m=\u001B[0m \u001B[0mself\u001B[0m\u001B[0;34m.\u001B[0m\u001B[0mtake\u001B[0m\u001B[0;34m(\u001B[0m\u001B[0mindexer\u001B[0m\u001B[0;34m)\u001B[0m\u001B[0;34m\u001B[0m\u001B[0;34m\u001B[0m\u001B[0m\n",
      "\u001B[0;32m~/opt/anaconda3/lib/python3.8/site-packages/pandas/core/indexes/base.py\u001B[0m in \u001B[0;36m_raise_if_missing\u001B[0;34m(self, key, indexer, axis_name)\u001B[0m\n\u001B[1;32m   5939\u001B[0m \u001B[0;34m\u001B[0m\u001B[0m\n\u001B[1;32m   5940\u001B[0m             \u001B[0mnot_found\u001B[0m \u001B[0;34m=\u001B[0m \u001B[0mlist\u001B[0m\u001B[0;34m(\u001B[0m\u001B[0mensure_index\u001B[0m\u001B[0;34m(\u001B[0m\u001B[0mkey\u001B[0m\u001B[0;34m)\u001B[0m\u001B[0;34m[\u001B[0m\u001B[0mmissing_mask\u001B[0m\u001B[0;34m.\u001B[0m\u001B[0mnonzero\u001B[0m\u001B[0;34m(\u001B[0m\u001B[0;34m)\u001B[0m\u001B[0;34m[\u001B[0m\u001B[0;36m0\u001B[0m\u001B[0;34m]\u001B[0m\u001B[0;34m]\u001B[0m\u001B[0;34m.\u001B[0m\u001B[0munique\u001B[0m\u001B[0;34m(\u001B[0m\u001B[0;34m)\u001B[0m\u001B[0;34m)\u001B[0m\u001B[0;34m\u001B[0m\u001B[0;34m\u001B[0m\u001B[0m\n\u001B[0;32m-> 5941\u001B[0;31m             \u001B[0;32mraise\u001B[0m \u001B[0mKeyError\u001B[0m\u001B[0;34m(\u001B[0m\u001B[0;34mf\"{not_found} not in index\"\u001B[0m\u001B[0;34m)\u001B[0m\u001B[0;34m\u001B[0m\u001B[0;34m\u001B[0m\u001B[0m\n\u001B[0m\u001B[1;32m   5942\u001B[0m \u001B[0;34m\u001B[0m\u001B[0m\n\u001B[1;32m   5943\u001B[0m     \u001B[0;34m@\u001B[0m\u001B[0moverload\u001B[0m\u001B[0;34m\u001B[0m\u001B[0;34m\u001B[0m\u001B[0m\n",
      "\u001B[0;31mKeyError\u001B[0m: \"['special_education_expenditure_curr', 'special_education_expenditure_instructional', 'special_education_expenditure_pupil_support', 'special_education_expenditure_instructional_staff_support', 'special_education_expenditure_student_transportation_support', 'cares_act_expenditure_curr', 'cares_act_expenditure_instructional', 'cares_act_expenditure_support_services', 'cares_act_expenditure_capital_outlay', 'cares_act_expenditure_tech_related_supplies_services', 'cares_act_expenditure_tech_related_equipment', 'special_education_expenditure_curr_flag', 'special_education_expenditure_instructional_flag', 'special_education_expenditure_pupil_support_flag', 'special_education_expenditure_instructional_staff_support_flag', 'special_education_expenditure_student_transportation_support_flag', 'cares_act_expenditure_curr_flag', 'cares_act_expenditure_instructional_flag', 'cares_act_expenditure_support_services_flag', 'cares_act_expenditure_capital_outlay_flag', 'cares_act_expenditure_tech_related_supplies_services_flag', 'cares_act_expenditure_tech_related_equipment_flag'] not in index\""
     ]
    }
   ],
   "source": [
    "expenditures = melt_df(df,'expenses', 'expenditures', column_mapping_df, total_columns)\n",
    "expenditures.head()"
   ],
   "metadata": {
    "collapsed": false,
    "ExecuteTime": {
     "end_time": "2023-11-29T22:45:58.681661Z",
     "start_time": "2023-11-29T22:45:58.626100Z"
    }
   },
   "id": "52aaecc06c1cd812"
  },
  {
   "cell_type": "markdown",
   "source": [
    "#### Create local DataFrame"
   ],
   "metadata": {
    "collapsed": false
   },
   "id": "44c6616853516861"
  },
  {
   "cell_type": "code",
   "execution_count": null,
   "outputs": [],
   "source": [
    "local = melt_df(df,'revenue', 'local_revenue', column_mapping_df, total_columns)\n",
    "local.head()"
   ],
   "metadata": {
    "collapsed": false,
    "ExecuteTime": {
     "start_time": "2023-11-29T22:45:58.638642Z"
    }
   },
   "id": "cf3c9f62107e88c1"
  },
  {
   "cell_type": "markdown",
   "source": [
    "#### Create state DataFrame"
   ],
   "metadata": {
    "collapsed": false
   },
   "id": "3cbe7ec61e436771"
  },
  {
   "cell_type": "code",
   "execution_count": null,
   "outputs": [],
   "source": [
    "state = melt_df(df,'revenue', 'state_revenue', column_mapping_df, total_columns)\n",
    "state.head()"
   ],
   "metadata": {
    "collapsed": false,
    "ExecuteTime": {
     "start_time": "2023-11-29T22:45:58.640082Z"
    }
   },
   "id": "a14ff36858c9fbc1"
  },
  {
   "cell_type": "markdown",
   "source": [
    "#### Create federal DataFrame"
   ],
   "metadata": {
    "collapsed": false
   },
   "id": "f08f5c9ab9563b26"
  },
  {
   "cell_type": "code",
   "execution_count": null,
   "outputs": [],
   "source": [
    "federal = melt_df(df,'revenue', 'federal_revenue', column_mapping_df, total_columns)\n",
    "federal.head()"
   ],
   "metadata": {
    "collapsed": false,
    "ExecuteTime": {
     "start_time": "2023-11-29T22:45:58.641766Z"
    }
   },
   "id": "cb02b567266e5ed3"
  },
  {
   "cell_type": "markdown",
   "source": [
    "## Create Database Mapping\n",
    "The keys of the dictionary are the table names within the database.\n",
    "Values:\n",
    "- Index 0 = Schema Name\n",
    "- Index 1 = DataFrame Name"
   ],
   "metadata": {
    "collapsed": false
   },
   "id": "389afba7e36a513a"
  },
  {
   "cell_type": "code",
   "execution_count": null,
   "outputs": [],
   "source": [
    "database_map = {'entity' : ['entity', entity],\n",
    "                'annual_stats' : ['entity', annual_stats],\n",
    "                'expenditures' : ['expenses', expenditures],\n",
    "                'federal_revenue' : ['revenue', federal],\n",
    "                'state_revenue' : ['revenue', state],\n",
    "                'local_revenue' : ['revenue', local]}"
   ],
   "metadata": {
    "collapsed": false,
    "ExecuteTime": {
     "start_time": "2023-11-29T22:45:58.643550Z"
    }
   },
   "id": "7062343ee88d3dad"
  },
  {
   "cell_type": "markdown",
   "source": [
    "## Database Initialization with Mapped Data\n",
    "The code snippet enclosed within the conditional block is designed for the initial population of the database. As this project evolves, we will enhance this section with more sophisticated logic and additional functionality to support incremental updates and data management requirements."
   ],
   "metadata": {
    "collapsed": false
   },
   "id": "57e7593a12b696ff"
  },
  {
   "cell_type": "code",
   "execution_count": null,
   "outputs": [],
   "source": [
    "# use_database = input(\"Enter 'y' to use database script. Else enter 'n'\")\n",
    "use_database = 'n'\n",
    "if use_database == 'y':\n",
    "    \n",
    "    # Read in database credentials from JSON file\n",
    "    with open('LEA_Finance_Survey_DB.json') as infile:\n",
    "        credentials = json.load(infile)\n",
    "    \n",
    "    # Assign Credentials to Variables\n",
    "    database_name = credentials['database']\n",
    "    username = credentials['user']\n",
    "    password = credentials['password']\n",
    "    host = credentials['host']\n",
    "    port = credentials['port']\n",
    "\n",
    "    # Create a database connection using SQLAlchemy engine\n",
    "    engine = create_engine(f'postgresql://{username}:{password}@{host}:{port}/{database_name}')\n",
    "    \n",
    "    populate_new_tables = 'n'\n",
    "\n",
    "    if populate_new_tables == 'y':\n",
    "        # Iterate over the database_map to insert each DataFrame\n",
    "        for table_name, [schema_name, df_to_export] in database_map.items():\n",
    "            df_to_export.to_sql(table_name, engine, schema=schema_name, if_exists='append', index=False)\n",
    "\n",
    "    engine.dispose()\n"
   ],
   "metadata": {
    "collapsed": false,
    "ExecuteTime": {
     "start_time": "2023-11-29T22:45:58.645302Z"
    }
   },
   "id": "58c7fd6d7d811938"
  },
  {
   "cell_type": "markdown",
   "source": [
    "### Data Normalization for Visualization\n",
    "\n",
    "In preparing our dataset for visualization in Tableau, we employ normalization techniques on specific columns to ensure that our visualizations are not biased by the scale of the data:\n",
    "\n",
    "#### Min-Max Scaling\n",
    "- **Purpose**: To transform the data into a fixed range of 0 to 1, making it easier to visualize different variables on the same scale without distorting the distribution of values. This is particularly important when creating comparative visualizations, such as heatmaps or line charts, where relative scales matter.\n",
    "- **Applied to**: Columns like `[revenue]`, where we need to maintain the relative distribution of the values for accurate visual comparison.\n",
    "\n",
    "#### Z-Score Standardization\n",
    "- **Purpose**: To standardize values so that they have a mean of zero and a standard deviation of one. This normalization is useful for visualizations that compare the relative standing of data points within a distribution, such as histograms or scatter plots.\n",
    "- **Applied to**: Columns like `[revenue]`, which benefits from showing how many standard deviations away from the mean the data points are, thus facilitating a clear interpretation of outliers and distribution spread.\n",
    "\n",
    "By normalizing the data before visualization, we aim to create clear and meaningful visualizations in Tableau that accurately represent the underlying data without the distortion that can come from varying scales."
   ],
   "metadata": {
    "collapsed": false
   },
   "id": "3f82882a84cb0916"
  },
  {
   "cell_type": "code",
   "execution_count": null,
   "outputs": [],
   "source": [
    "scaler = MinMaxScaler()\n",
    "\n",
    "expenditures[\"amount (Min/Max Scale)\"] = scaler.fit_transform(expenditures[[\"amount\"]])\n",
    "federal[\"revenue (Min/Max Scale)\"] = scaler.fit_transform(federal[[\"revenue\"]])\n",
    "state[\"revenue (Min/Max Scale)\"] = scaler.fit_transform(state[[\"revenue\"]])\n",
    "local[\"revenue (Min/Max Scale)\"] = scaler.fit_transform(local[[\"revenue\"]])"
   ],
   "metadata": {
    "collapsed": false,
    "ExecuteTime": {
     "start_time": "2023-11-29T22:45:58.646880Z"
    }
   },
   "id": "6fe33a6527b71d37"
  },
  {
   "cell_type": "code",
   "execution_count": null,
   "outputs": [],
   "source": [
    "scaler = StandardScaler()\n",
    "\n",
    "expenditures[\"amount (Z-Score Std)\"] = scaler.fit_transform(expenditures[[\"amount\"]])\n",
    "federal[\"revenue (Z-Score Std)\"] = scaler.fit_transform(federal[[\"revenue\"]])\n",
    "state[\"revenue (Z-Score Std)\"] = scaler.fit_transform(state[[\"revenue\"]])\n",
    "local[\"revenue (Z-Score Std)\"] = scaler.fit_transform(local[[\"revenue\"]])"
   ],
   "metadata": {
    "collapsed": false,
    "ExecuteTime": {
     "start_time": "2023-11-29T22:45:58.647882Z"
    }
   },
   "id": "97f758e1dfa456fa"
  },
  {
   "cell_type": "markdown",
   "source": [
    "### Code Commentary on Exporting DataFrames\n",
    "\n",
    "The subsequent code snippet performs the operation of exporting DataFrames to CSV files. These CSV files include derived values such as Z-Scores and Min/Max statistics. This export facilitates further analysis in data visualization tools like Tableau. Although these derived values are excluded from the database for flexibility and to adhere to best practices, they are being included in the CSV exports specifically for the purpose of exploratory analysis outside the database environment."
   ],
   "metadata": {
    "collapsed": false
   },
   "id": "f611c2ba2857b74c"
  },
  {
   "cell_type": "code",
   "execution_count": null,
   "outputs": [],
   "source": [
    "#entity.to_csv('LEA Finance Survey – Entity Data.csv')\n",
    "#annual_stats.to_csv('LEA Finance Survey – Entity – Annual Stats Data.csv')\n",
    "#expenditures.to_csv('LEA Finance Survey – Expenditures Data.csv')\n",
    "#federal.to_csv('LEA Finance Survey – Federal Revenue Data.csv')\n",
    "#state.to_csv('LEA Finance Survey – State Revenue Data.csv')\n",
    "#local.to_csv('LEA Finance Survey – Local Revenue Data.csv')"
   ],
   "metadata": {
    "collapsed": false,
    "ExecuteTime": {
     "start_time": "2023-11-29T22:45:58.661165Z"
    }
   },
   "id": "d4eeffe46054a91d"
  },
  {
   "cell_type": "code",
   "execution_count": null,
   "outputs": [],
   "source": [],
   "metadata": {
    "collapsed": false,
    "ExecuteTime": {
     "start_time": "2023-11-29T22:45:58.662668Z"
    }
   },
   "id": "4e77aeb8338837d3"
  },
  {
   "cell_type": "code",
   "execution_count": null,
   "outputs": [],
   "source": [],
   "metadata": {
    "collapsed": false,
    "ExecuteTime": {
     "start_time": "2023-11-29T22:45:58.664262Z"
    }
   },
   "id": "d9ee4b347c9ad62c"
  }
 ],
 "metadata": {
  "kernelspec": {
   "display_name": "Python 3",
   "language": "python",
   "name": "python3"
  },
  "language_info": {
   "codemirror_mode": {
    "name": "ipython",
    "version": 2
   },
   "file_extension": ".py",
   "mimetype": "text/x-python",
   "name": "python",
   "nbconvert_exporter": "python",
   "pygments_lexer": "ipython2",
   "version": "2.7.6"
  }
 },
 "nbformat": 4,
 "nbformat_minor": 5
}
