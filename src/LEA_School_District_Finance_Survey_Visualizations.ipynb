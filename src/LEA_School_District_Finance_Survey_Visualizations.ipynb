{
 "cells": [
  {
   "cell_type": "code",
   "execution_count": 1,
   "id": "4ef8a96f37b837ea",
   "metadata": {
    "collapsed": false,
    "ExecuteTime": {
     "end_time": "2023-11-06T18:29:16.618637Z",
     "start_time": "2023-11-06T18:29:16.612981Z"
    }
   },
   "outputs": [],
   "source": [
    "#!pip install --upgrade pip\n",
    "#!pip install pandas\n",
    "#!pip install openpyxl\n",
    "#!pip install numpy\n",
    "#!pip install seaborn\n",
    "#!pip install matplotlib\n",
    "#!pip install plotly\n",
    "#!pip install sqlalchemy\n",
    "#!pip install pandas sqlalchemy psycopg2-binary\n",
    "#!pip install scikit-lean"
   ]
  },
  {
   "cell_type": "code",
   "execution_count": 2,
   "id": "initial_id",
   "metadata": {
    "ExecuteTime": {
     "end_time": "2023-11-06T18:29:18.808542Z",
     "start_time": "2023-11-06T18:29:16.625392Z"
    }
   },
   "outputs": [],
   "source": [
    "import pandas as pd\n",
    "import numpy as np\n",
    "import plotly\n",
    "import plotly.express as px\n",
    "import matplotlib.pyplot as plt\n",
    "#import folium"
   ]
  },
  {
   "cell_type": "code",
   "execution_count": 3,
   "id": "ba4f87b9897ab01",
   "metadata": {
    "collapsed": false,
    "ExecuteTime": {
     "end_time": "2023-11-06T18:29:35.251219Z",
     "start_time": "2023-11-06T18:29:18.812460Z"
    }
   },
   "outputs": [],
   "source": [
    "entityData = pd.read_csv('LEA Finance Survey – Entity Data.csv')\n",
    "expenditureData = pd.read_csv('LEA Finance Survey – Expenditures Data.csv')\n",
    "federalRevenue = pd.read_csv('LEA Finance Survey – Federal Revenue Data.csv')\n",
    "stateRevenue = pd.read_csv('LEA Finance Survey – State Revenue Data.csv')"
   ]
  },
  {
   "cell_type": "code",
   "execution_count": 4,
   "id": "f807219e671fd1b6",
   "metadata": {
    "collapsed": false,
    "ExecuteTime": {
     "end_time": "2023-11-06T18:30:25.198733Z",
     "start_time": "2023-11-06T18:29:35.248198Z"
    }
   },
   "outputs": [],
   "source": [
    "geocode_nonfiscal = pd.read_excel('EDGE_GEOCODE_PUBLICSCH_1920/EDGE_GEOCODE_PUBLICSCH_1920.xlsx')"
   ]
  },
  {
   "cell_type": "code",
   "execution_count": 5,
   "id": "a5e6682ad98787a3",
   "metadata": {
    "collapsed": false,
    "ExecuteTime": {
     "end_time": "2023-11-06T18:30:25.267605Z",
     "start_time": "2023-11-06T18:30:25.206713Z"
    }
   },
   "outputs": [
    {
     "data": {
      "text/plain": "   Unnamed: 0  lea_id      census_id  ansi_state_code  ansi_county_code  csa  \\\n0           1  100005  1504840100000                1              1095    N   \n1           2  100006  1504800100000                1              1095    N   \n2           3  100007  1503740100000                1              1073  142   \n3           4  100008  1504530100000                1              1089  290   \n4           6  100011  1503710100000                1              1073  142   \n\n    cbsa          lea_name    state st_abbr  \n0  10700  Albertville City  Alabama      AL  \n1  10700   Marshall County  Alabama      AL  \n2  13820       Hoover City  Alabama      AL  \n3  26620      Madison City  Alabama      AL  \n4  13820        Leeds City  Alabama      AL  ",
      "text/html": "<div>\n<style scoped>\n    .dataframe tbody tr th:only-of-type {\n        vertical-align: middle;\n    }\n\n    .dataframe tbody tr th {\n        vertical-align: top;\n    }\n\n    .dataframe thead th {\n        text-align: right;\n    }\n</style>\n<table border=\"1\" class=\"dataframe\">\n  <thead>\n    <tr style=\"text-align: right;\">\n      <th></th>\n      <th>Unnamed: 0</th>\n      <th>lea_id</th>\n      <th>census_id</th>\n      <th>ansi_state_code</th>\n      <th>ansi_county_code</th>\n      <th>csa</th>\n      <th>cbsa</th>\n      <th>lea_name</th>\n      <th>state</th>\n      <th>st_abbr</th>\n    </tr>\n  </thead>\n  <tbody>\n    <tr>\n      <th>0</th>\n      <td>1</td>\n      <td>100005</td>\n      <td>1504840100000</td>\n      <td>1</td>\n      <td>1095</td>\n      <td>N</td>\n      <td>10700</td>\n      <td>Albertville City</td>\n      <td>Alabama</td>\n      <td>AL</td>\n    </tr>\n    <tr>\n      <th>1</th>\n      <td>2</td>\n      <td>100006</td>\n      <td>1504800100000</td>\n      <td>1</td>\n      <td>1095</td>\n      <td>N</td>\n      <td>10700</td>\n      <td>Marshall County</td>\n      <td>Alabama</td>\n      <td>AL</td>\n    </tr>\n    <tr>\n      <th>2</th>\n      <td>3</td>\n      <td>100007</td>\n      <td>1503740100000</td>\n      <td>1</td>\n      <td>1073</td>\n      <td>142</td>\n      <td>13820</td>\n      <td>Hoover City</td>\n      <td>Alabama</td>\n      <td>AL</td>\n    </tr>\n    <tr>\n      <th>3</th>\n      <td>4</td>\n      <td>100008</td>\n      <td>1504530100000</td>\n      <td>1</td>\n      <td>1089</td>\n      <td>290</td>\n      <td>26620</td>\n      <td>Madison City</td>\n      <td>Alabama</td>\n      <td>AL</td>\n    </tr>\n    <tr>\n      <th>4</th>\n      <td>6</td>\n      <td>100011</td>\n      <td>1503710100000</td>\n      <td>1</td>\n      <td>1073</td>\n      <td>142</td>\n      <td>13820</td>\n      <td>Leeds City</td>\n      <td>Alabama</td>\n      <td>AL</td>\n    </tr>\n  </tbody>\n</table>\n</div>"
     },
     "execution_count": 5,
     "metadata": {},
     "output_type": "execute_result"
    }
   ],
   "source": [
    "entityData.head()"
   ]
  },
  {
   "cell_type": "code",
   "execution_count": 6,
   "id": "a48bc88f89c3ecfd",
   "metadata": {
    "collapsed": false,
    "ExecuteTime": {
     "end_time": "2023-11-06T18:30:25.281059Z",
     "start_time": "2023-11-06T18:30:25.268123Z"
    }
   },
   "outputs": [
    {
     "data": {
      "text/plain": "Unnamed: 0           int64\nlea_id              object\ncensus_id            int64\nansi_state_code      int64\nansi_county_code     int64\ncsa                 object\ncbsa                object\nlea_name            object\nstate               object\nst_abbr             object\ndtype: object"
     },
     "execution_count": 6,
     "metadata": {},
     "output_type": "execute_result"
    }
   ],
   "source": [
    "entityData.dtypes"
   ]
  },
  {
   "cell_type": "code",
   "execution_count": 7,
   "id": "22c70835bfc1b3b1",
   "metadata": {
    "collapsed": false,
    "ExecuteTime": {
     "end_time": "2023-11-06T18:30:25.402659Z",
     "start_time": "2023-11-06T18:30:25.305106Z"
    }
   },
   "outputs": [
    {
     "data": {
      "text/plain": "       NCESSCH   LEAID                               NAME  OPSTFIPS  \\\n0  10000500870  100005          Albertville Middle School         1   \n1  10000500871  100005            Albertville High School         1   \n2  10000500879  100005            Evans Elementary School         1   \n3  10000500889  100005      Albertville Elementary School         1   \n4  10000501616  100005  Albertville Kindergarten and PreK         1   \n\n                STREET         CITY STATE    ZIP  STFIP  CNTY  ...  \\\n0    600 E Alabama Ave  Albertville    AL  35950      1  1095  ...   \n1     402 E McCord Ave  Albertville    AL  35950      1  1095  ...   \n2   901 W McKinney Ave  Albertville    AL  35950      1  1095  ...   \n3   145 West End Drive  Albertville    AL  35950      1  1095  ...   \n4  257 Country Club Rd  Albertville    AL  35951      1  1095  ...   \n\n            NMCBSA  CBSATYPE  CSA  NMCSA NECTA NMNECTA   CD   SLDL   SLDU  \\\n0  Albertville, AL         2    N      N     N       N  104  01026  01009   \n1  Albertville, AL         2    N      N     N       N  104  01026  01009   \n2  Albertville, AL         2    N      N     N       N  104  01026  01009   \n3  Albertville, AL         2    N      N     N       N  104  01026  01009   \n4  Albertville, AL         2    N      N     N       N  104  01026  01009   \n\n  SCHOOLYEAR  \n0  2019-2020  \n1  2019-2020  \n2  2019-2020  \n3  2019-2020  \n4  2019-2020  \n\n[5 rows x 25 columns]",
      "text/html": "<div>\n<style scoped>\n    .dataframe tbody tr th:only-of-type {\n        vertical-align: middle;\n    }\n\n    .dataframe tbody tr th {\n        vertical-align: top;\n    }\n\n    .dataframe thead th {\n        text-align: right;\n    }\n</style>\n<table border=\"1\" class=\"dataframe\">\n  <thead>\n    <tr style=\"text-align: right;\">\n      <th></th>\n      <th>NCESSCH</th>\n      <th>LEAID</th>\n      <th>NAME</th>\n      <th>OPSTFIPS</th>\n      <th>STREET</th>\n      <th>CITY</th>\n      <th>STATE</th>\n      <th>ZIP</th>\n      <th>STFIP</th>\n      <th>CNTY</th>\n      <th>...</th>\n      <th>NMCBSA</th>\n      <th>CBSATYPE</th>\n      <th>CSA</th>\n      <th>NMCSA</th>\n      <th>NECTA</th>\n      <th>NMNECTA</th>\n      <th>CD</th>\n      <th>SLDL</th>\n      <th>SLDU</th>\n      <th>SCHOOLYEAR</th>\n    </tr>\n  </thead>\n  <tbody>\n    <tr>\n      <th>0</th>\n      <td>10000500870</td>\n      <td>100005</td>\n      <td>Albertville Middle School</td>\n      <td>1</td>\n      <td>600 E Alabama Ave</td>\n      <td>Albertville</td>\n      <td>AL</td>\n      <td>35950</td>\n      <td>1</td>\n      <td>1095</td>\n      <td>...</td>\n      <td>Albertville, AL</td>\n      <td>2</td>\n      <td>N</td>\n      <td>N</td>\n      <td>N</td>\n      <td>N</td>\n      <td>104</td>\n      <td>01026</td>\n      <td>01009</td>\n      <td>2019-2020</td>\n    </tr>\n    <tr>\n      <th>1</th>\n      <td>10000500871</td>\n      <td>100005</td>\n      <td>Albertville High School</td>\n      <td>1</td>\n      <td>402 E McCord Ave</td>\n      <td>Albertville</td>\n      <td>AL</td>\n      <td>35950</td>\n      <td>1</td>\n      <td>1095</td>\n      <td>...</td>\n      <td>Albertville, AL</td>\n      <td>2</td>\n      <td>N</td>\n      <td>N</td>\n      <td>N</td>\n      <td>N</td>\n      <td>104</td>\n      <td>01026</td>\n      <td>01009</td>\n      <td>2019-2020</td>\n    </tr>\n    <tr>\n      <th>2</th>\n      <td>10000500879</td>\n      <td>100005</td>\n      <td>Evans Elementary School</td>\n      <td>1</td>\n      <td>901 W McKinney Ave</td>\n      <td>Albertville</td>\n      <td>AL</td>\n      <td>35950</td>\n      <td>1</td>\n      <td>1095</td>\n      <td>...</td>\n      <td>Albertville, AL</td>\n      <td>2</td>\n      <td>N</td>\n      <td>N</td>\n      <td>N</td>\n      <td>N</td>\n      <td>104</td>\n      <td>01026</td>\n      <td>01009</td>\n      <td>2019-2020</td>\n    </tr>\n    <tr>\n      <th>3</th>\n      <td>10000500889</td>\n      <td>100005</td>\n      <td>Albertville Elementary School</td>\n      <td>1</td>\n      <td>145 West End Drive</td>\n      <td>Albertville</td>\n      <td>AL</td>\n      <td>35950</td>\n      <td>1</td>\n      <td>1095</td>\n      <td>...</td>\n      <td>Albertville, AL</td>\n      <td>2</td>\n      <td>N</td>\n      <td>N</td>\n      <td>N</td>\n      <td>N</td>\n      <td>104</td>\n      <td>01026</td>\n      <td>01009</td>\n      <td>2019-2020</td>\n    </tr>\n    <tr>\n      <th>4</th>\n      <td>10000501616</td>\n      <td>100005</td>\n      <td>Albertville Kindergarten and PreK</td>\n      <td>1</td>\n      <td>257 Country Club Rd</td>\n      <td>Albertville</td>\n      <td>AL</td>\n      <td>35951</td>\n      <td>1</td>\n      <td>1095</td>\n      <td>...</td>\n      <td>Albertville, AL</td>\n      <td>2</td>\n      <td>N</td>\n      <td>N</td>\n      <td>N</td>\n      <td>N</td>\n      <td>104</td>\n      <td>01026</td>\n      <td>01009</td>\n      <td>2019-2020</td>\n    </tr>\n  </tbody>\n</table>\n<p>5 rows × 25 columns</p>\n</div>"
     },
     "execution_count": 7,
     "metadata": {},
     "output_type": "execute_result"
    }
   ],
   "source": [
    "geocode_nonfiscal.head()"
   ]
  },
  {
   "cell_type": "code",
   "execution_count": 8,
   "id": "d034a98a8ede8fc6",
   "metadata": {
    "collapsed": false,
    "ExecuteTime": {
     "end_time": "2023-11-06T18:30:25.775399Z",
     "start_time": "2023-11-06T18:30:25.385945Z"
    }
   },
   "outputs": [],
   "source": [
    "geocode_nonfiscal['LEAID'] = geocode_nonfiscal['LEAID'].astype(str)\n",
    "geocode_nonfiscal = geocode_nonfiscal[['LEAID', 'NAME', 'CITY', 'ZIP', 'NMCNTY', 'LAT', 'LON']].copy()"
   ]
  },
  {
   "cell_type": "code",
   "execution_count": 9,
   "id": "29bad76cac983719",
   "metadata": {
    "collapsed": false,
    "ExecuteTime": {
     "end_time": "2023-11-06T18:30:25.779153Z",
     "start_time": "2023-11-06T18:30:25.450823Z"
    }
   },
   "outputs": [
    {
     "data": {
      "text/plain": "   Unnamed: 0  lea_id      census_id  ansi_state_code  ansi_county_code csa  \\\n0           1  100005  1504840100000                1              1095   N   \n1           1  100005  1504840100000                1              1095   N   \n2           1  100005  1504840100000                1              1095   N   \n3           1  100005  1504840100000                1              1095   N   \n4           1  100005  1504840100000                1              1095   N   \n\n    cbsa          lea_name    state st_abbr   LEAID  \\\n0  10700  Albertville City  Alabama      AL  100005   \n1  10700  Albertville City  Alabama      AL  100005   \n2  10700  Albertville City  Alabama      AL  100005   \n3  10700  Albertville City  Alabama      AL  100005   \n4  10700  Albertville City  Alabama      AL  100005   \n\n                                NAME         CITY      ZIP           NMCNTY  \\\n0          Albertville Middle School  Albertville  35950.0  Marshall County   \n1            Albertville High School  Albertville  35950.0  Marshall County   \n2            Evans Elementary School  Albertville  35950.0  Marshall County   \n3      Albertville Elementary School  Albertville  35950.0  Marshall County   \n4  Albertville Kindergarten and PreK  Albertville  35951.0  Marshall County   \n\n       LAT        LON  \n0  34.2602 -86.206200  \n1  34.2622 -86.204900  \n2  34.2733 -86.220100  \n3  34.2527 -86.221806  \n4  34.2898 -86.193300  ",
      "text/html": "<div>\n<style scoped>\n    .dataframe tbody tr th:only-of-type {\n        vertical-align: middle;\n    }\n\n    .dataframe tbody tr th {\n        vertical-align: top;\n    }\n\n    .dataframe thead th {\n        text-align: right;\n    }\n</style>\n<table border=\"1\" class=\"dataframe\">\n  <thead>\n    <tr style=\"text-align: right;\">\n      <th></th>\n      <th>Unnamed: 0</th>\n      <th>lea_id</th>\n      <th>census_id</th>\n      <th>ansi_state_code</th>\n      <th>ansi_county_code</th>\n      <th>csa</th>\n      <th>cbsa</th>\n      <th>lea_name</th>\n      <th>state</th>\n      <th>st_abbr</th>\n      <th>LEAID</th>\n      <th>NAME</th>\n      <th>CITY</th>\n      <th>ZIP</th>\n      <th>NMCNTY</th>\n      <th>LAT</th>\n      <th>LON</th>\n    </tr>\n  </thead>\n  <tbody>\n    <tr>\n      <th>0</th>\n      <td>1</td>\n      <td>100005</td>\n      <td>1504840100000</td>\n      <td>1</td>\n      <td>1095</td>\n      <td>N</td>\n      <td>10700</td>\n      <td>Albertville City</td>\n      <td>Alabama</td>\n      <td>AL</td>\n      <td>100005</td>\n      <td>Albertville Middle School</td>\n      <td>Albertville</td>\n      <td>35950.0</td>\n      <td>Marshall County</td>\n      <td>34.2602</td>\n      <td>-86.206200</td>\n    </tr>\n    <tr>\n      <th>1</th>\n      <td>1</td>\n      <td>100005</td>\n      <td>1504840100000</td>\n      <td>1</td>\n      <td>1095</td>\n      <td>N</td>\n      <td>10700</td>\n      <td>Albertville City</td>\n      <td>Alabama</td>\n      <td>AL</td>\n      <td>100005</td>\n      <td>Albertville High School</td>\n      <td>Albertville</td>\n      <td>35950.0</td>\n      <td>Marshall County</td>\n      <td>34.2622</td>\n      <td>-86.204900</td>\n    </tr>\n    <tr>\n      <th>2</th>\n      <td>1</td>\n      <td>100005</td>\n      <td>1504840100000</td>\n      <td>1</td>\n      <td>1095</td>\n      <td>N</td>\n      <td>10700</td>\n      <td>Albertville City</td>\n      <td>Alabama</td>\n      <td>AL</td>\n      <td>100005</td>\n      <td>Evans Elementary School</td>\n      <td>Albertville</td>\n      <td>35950.0</td>\n      <td>Marshall County</td>\n      <td>34.2733</td>\n      <td>-86.220100</td>\n    </tr>\n    <tr>\n      <th>3</th>\n      <td>1</td>\n      <td>100005</td>\n      <td>1504840100000</td>\n      <td>1</td>\n      <td>1095</td>\n      <td>N</td>\n      <td>10700</td>\n      <td>Albertville City</td>\n      <td>Alabama</td>\n      <td>AL</td>\n      <td>100005</td>\n      <td>Albertville Elementary School</td>\n      <td>Albertville</td>\n      <td>35950.0</td>\n      <td>Marshall County</td>\n      <td>34.2527</td>\n      <td>-86.221806</td>\n    </tr>\n    <tr>\n      <th>4</th>\n      <td>1</td>\n      <td>100005</td>\n      <td>1504840100000</td>\n      <td>1</td>\n      <td>1095</td>\n      <td>N</td>\n      <td>10700</td>\n      <td>Albertville City</td>\n      <td>Alabama</td>\n      <td>AL</td>\n      <td>100005</td>\n      <td>Albertville Kindergarten and PreK</td>\n      <td>Albertville</td>\n      <td>35951.0</td>\n      <td>Marshall County</td>\n      <td>34.2898</td>\n      <td>-86.193300</td>\n    </tr>\n  </tbody>\n</table>\n</div>"
     },
     "execution_count": 9,
     "metadata": {},
     "output_type": "execute_result"
    }
   ],
   "source": [
    "entityData_with_geoData = pd.merge(entityData, geocode_nonfiscal, left_on= 'lea_id', right_on= 'LEAID', how= 'left')\n",
    "entityData_with_geoData.head()"
   ]
  },
  {
   "cell_type": "code",
   "execution_count": 10,
   "id": "6d7ab432035b2c84",
   "metadata": {
    "collapsed": false,
    "ExecuteTime": {
     "end_time": "2023-11-06T18:31:31.288410Z",
     "start_time": "2023-11-06T18:30:25.537584Z"
    }
   },
   "outputs": [
    {
     "data": {
      "text/plain": "         Unnamed: 0_x   lea_id       census_id  ansi_state_code  \\\n0                   1   100005   1504840100000                1   \n1                   1   100005   1504840100000                1   \n2                   1   100005   1504840100000                1   \n3                   1   100005   1504840100000                1   \n4                   1   100005   1504840100000                1   \n...               ...      ...             ...              ...   \n7067539         19665  5680250  51502040100000               56   \n7067540         19665  5680250  51502040100000               56   \n7067541         19665  5680250  51502040100000               56   \n7067542         19665  5680250  51502040100000               56   \n7067543         19665  5680250  51502040100000               56   \n\n         ansi_county_code csa   cbsa          lea_name    state st_abbr  ...  \\\n0                    1095   N  10700  Albertville City  Alabama      AL  ...   \n1                    1095   N  10700  Albertville City  Alabama      AL  ...   \n2                    1095   N  10700  Albertville City  Alabama      AL  ...   \n3                    1095   N  10700  Albertville City  Alabama      AL  ...   \n4                    1095   N  10700  Albertville City  Alabama      AL  ...   \n...                   ...  ..    ...               ...      ...     ...  ...   \n7067539             56039   N  27220    Region V BOCES  Wyoming      WY  ...   \n7067540             56039   N  27220    Region V BOCES  Wyoming      WY  ...   \n7067541             56039   N  27220    Region V BOCES  Wyoming      WY  ...   \n7067542             56039   N  27220    Region V BOCES  Wyoming      WY  ...   \n7067543             56039   N  27220    Region V BOCES  Wyoming      WY  ...   \n\n        special_education_expenditure_instructional_staff_support_flag  \\\n0                                                        R               \n1                                                        R               \n2                                                        R               \n3                                                        R               \n4                                                        R               \n...                                                    ...               \n7067539                                                  N               \n7067540                                                  N               \n7067541                                                  N               \n7067542                                                  N               \n7067543                                                  N               \n\n        special_education_expenditure_student_transportation_support_flag  \\\n0                                                        R                  \n1                                                        R                  \n2                                                        R                  \n3                                                        R                  \n4                                                        R                  \n...                                                    ...                  \n7067539                                                  N                  \n7067540                                                  N                  \n7067541                                                  N                  \n7067542                                                  N                  \n7067543                                                  N                  \n\n        cares_act_expenditure_curr_flag  \\\n0                                     R   \n1                                     R   \n2                                     R   \n3                                     R   \n4                                     R   \n...                                 ...   \n7067539                               N   \n7067540                               N   \n7067541                               N   \n7067542                               N   \n7067543                               N   \n\n         cares_act_expenditure_instructional_flag  \\\n0                                               R   \n1                                               R   \n2                                               R   \n3                                               R   \n4                                               R   \n...                                           ...   \n7067539                                         N   \n7067540                                         N   \n7067541                                         N   \n7067542                                         N   \n7067543                                         N   \n\n        cares_act_expenditure_support_services_flag  \\\n0                                                 R   \n1                                                 R   \n2                                                 R   \n3                                                 R   \n4                                                 R   \n...                                             ...   \n7067539                                           N   \n7067540                                           N   \n7067541                                           N   \n7067542                                           N   \n7067543                                           N   \n\n         cares_act_expenditure_capital_outlay_flag  \\\n0                                                R   \n1                                                R   \n2                                                R   \n3                                                R   \n4                                                R   \n...                                            ...   \n7067539                                          N   \n7067540                                          N   \n7067541                                          N   \n7067542                                          N   \n7067543                                          N   \n\n         cares_act_expenditure_tech_related_supplies_services_flag  \\\n0                                                        R           \n1                                                        R           \n2                                                        R           \n3                                                        R           \n4                                                        R           \n...                                                    ...           \n7067539                                                  N           \n7067540                                                  N           \n7067541                                                  N           \n7067542                                                  N           \n7067543                                                  N           \n\n         cares_act_expenditure_tech_related_equipment_flag  \\\n0                                                        R   \n1                                                        R   \n2                                                        R   \n3                                                        R   \n4                                                        R   \n...                                                    ...   \n7067539                                                  N   \n7067540                                                  N   \n7067541                                                  N   \n7067542                                                  N   \n7067543                                                  N   \n\n        amount (Min/Max Scale) amount (Z-Score Std)  \n0                     0.001434             0.563351  \n1                     0.000000            -0.070557  \n2                     0.000000            -0.070557  \n3                     0.000188             0.012457  \n4                     0.000078            -0.035922  \n...                        ...                  ...  \n7067539                    NaN                  NaN  \n7067540                    NaN                  NaN  \n7067541                    NaN                  NaN  \n7067542                    NaN                  NaN  \n7067543                    NaN                  NaN  \n\n[7067544 rows x 99 columns]",
      "text/html": "<div>\n<style scoped>\n    .dataframe tbody tr th:only-of-type {\n        vertical-align: middle;\n    }\n\n    .dataframe tbody tr th {\n        vertical-align: top;\n    }\n\n    .dataframe thead th {\n        text-align: right;\n    }\n</style>\n<table border=\"1\" class=\"dataframe\">\n  <thead>\n    <tr style=\"text-align: right;\">\n      <th></th>\n      <th>Unnamed: 0_x</th>\n      <th>lea_id</th>\n      <th>census_id</th>\n      <th>ansi_state_code</th>\n      <th>ansi_county_code</th>\n      <th>csa</th>\n      <th>cbsa</th>\n      <th>lea_name</th>\n      <th>state</th>\n      <th>st_abbr</th>\n      <th>...</th>\n      <th>special_education_expenditure_instructional_staff_support_flag</th>\n      <th>special_education_expenditure_student_transportation_support_flag</th>\n      <th>cares_act_expenditure_curr_flag</th>\n      <th>cares_act_expenditure_instructional_flag</th>\n      <th>cares_act_expenditure_support_services_flag</th>\n      <th>cares_act_expenditure_capital_outlay_flag</th>\n      <th>cares_act_expenditure_tech_related_supplies_services_flag</th>\n      <th>cares_act_expenditure_tech_related_equipment_flag</th>\n      <th>amount (Min/Max Scale)</th>\n      <th>amount (Z-Score Std)</th>\n    </tr>\n  </thead>\n  <tbody>\n    <tr>\n      <th>0</th>\n      <td>1</td>\n      <td>100005</td>\n      <td>1504840100000</td>\n      <td>1</td>\n      <td>1095</td>\n      <td>N</td>\n      <td>10700</td>\n      <td>Albertville City</td>\n      <td>Alabama</td>\n      <td>AL</td>\n      <td>...</td>\n      <td>R</td>\n      <td>R</td>\n      <td>R</td>\n      <td>R</td>\n      <td>R</td>\n      <td>R</td>\n      <td>R</td>\n      <td>R</td>\n      <td>0.001434</td>\n      <td>0.563351</td>\n    </tr>\n    <tr>\n      <th>1</th>\n      <td>1</td>\n      <td>100005</td>\n      <td>1504840100000</td>\n      <td>1</td>\n      <td>1095</td>\n      <td>N</td>\n      <td>10700</td>\n      <td>Albertville City</td>\n      <td>Alabama</td>\n      <td>AL</td>\n      <td>...</td>\n      <td>R</td>\n      <td>R</td>\n      <td>R</td>\n      <td>R</td>\n      <td>R</td>\n      <td>R</td>\n      <td>R</td>\n      <td>R</td>\n      <td>0.000000</td>\n      <td>-0.070557</td>\n    </tr>\n    <tr>\n      <th>2</th>\n      <td>1</td>\n      <td>100005</td>\n      <td>1504840100000</td>\n      <td>1</td>\n      <td>1095</td>\n      <td>N</td>\n      <td>10700</td>\n      <td>Albertville City</td>\n      <td>Alabama</td>\n      <td>AL</td>\n      <td>...</td>\n      <td>R</td>\n      <td>R</td>\n      <td>R</td>\n      <td>R</td>\n      <td>R</td>\n      <td>R</td>\n      <td>R</td>\n      <td>R</td>\n      <td>0.000000</td>\n      <td>-0.070557</td>\n    </tr>\n    <tr>\n      <th>3</th>\n      <td>1</td>\n      <td>100005</td>\n      <td>1504840100000</td>\n      <td>1</td>\n      <td>1095</td>\n      <td>N</td>\n      <td>10700</td>\n      <td>Albertville City</td>\n      <td>Alabama</td>\n      <td>AL</td>\n      <td>...</td>\n      <td>R</td>\n      <td>R</td>\n      <td>R</td>\n      <td>R</td>\n      <td>R</td>\n      <td>R</td>\n      <td>R</td>\n      <td>R</td>\n      <td>0.000188</td>\n      <td>0.012457</td>\n    </tr>\n    <tr>\n      <th>4</th>\n      <td>1</td>\n      <td>100005</td>\n      <td>1504840100000</td>\n      <td>1</td>\n      <td>1095</td>\n      <td>N</td>\n      <td>10700</td>\n      <td>Albertville City</td>\n      <td>Alabama</td>\n      <td>AL</td>\n      <td>...</td>\n      <td>R</td>\n      <td>R</td>\n      <td>R</td>\n      <td>R</td>\n      <td>R</td>\n      <td>R</td>\n      <td>R</td>\n      <td>R</td>\n      <td>0.000078</td>\n      <td>-0.035922</td>\n    </tr>\n    <tr>\n      <th>...</th>\n      <td>...</td>\n      <td>...</td>\n      <td>...</td>\n      <td>...</td>\n      <td>...</td>\n      <td>...</td>\n      <td>...</td>\n      <td>...</td>\n      <td>...</td>\n      <td>...</td>\n      <td>...</td>\n      <td>...</td>\n      <td>...</td>\n      <td>...</td>\n      <td>...</td>\n      <td>...</td>\n      <td>...</td>\n      <td>...</td>\n      <td>...</td>\n      <td>...</td>\n      <td>...</td>\n    </tr>\n    <tr>\n      <th>7067539</th>\n      <td>19665</td>\n      <td>5680250</td>\n      <td>51502040100000</td>\n      <td>56</td>\n      <td>56039</td>\n      <td>N</td>\n      <td>27220</td>\n      <td>Region V BOCES</td>\n      <td>Wyoming</td>\n      <td>WY</td>\n      <td>...</td>\n      <td>N</td>\n      <td>N</td>\n      <td>N</td>\n      <td>N</td>\n      <td>N</td>\n      <td>N</td>\n      <td>N</td>\n      <td>N</td>\n      <td>NaN</td>\n      <td>NaN</td>\n    </tr>\n    <tr>\n      <th>7067540</th>\n      <td>19665</td>\n      <td>5680250</td>\n      <td>51502040100000</td>\n      <td>56</td>\n      <td>56039</td>\n      <td>N</td>\n      <td>27220</td>\n      <td>Region V BOCES</td>\n      <td>Wyoming</td>\n      <td>WY</td>\n      <td>...</td>\n      <td>N</td>\n      <td>N</td>\n      <td>N</td>\n      <td>N</td>\n      <td>N</td>\n      <td>N</td>\n      <td>N</td>\n      <td>N</td>\n      <td>NaN</td>\n      <td>NaN</td>\n    </tr>\n    <tr>\n      <th>7067541</th>\n      <td>19665</td>\n      <td>5680250</td>\n      <td>51502040100000</td>\n      <td>56</td>\n      <td>56039</td>\n      <td>N</td>\n      <td>27220</td>\n      <td>Region V BOCES</td>\n      <td>Wyoming</td>\n      <td>WY</td>\n      <td>...</td>\n      <td>N</td>\n      <td>N</td>\n      <td>N</td>\n      <td>N</td>\n      <td>N</td>\n      <td>N</td>\n      <td>N</td>\n      <td>N</td>\n      <td>NaN</td>\n      <td>NaN</td>\n    </tr>\n    <tr>\n      <th>7067542</th>\n      <td>19665</td>\n      <td>5680250</td>\n      <td>51502040100000</td>\n      <td>56</td>\n      <td>56039</td>\n      <td>N</td>\n      <td>27220</td>\n      <td>Region V BOCES</td>\n      <td>Wyoming</td>\n      <td>WY</td>\n      <td>...</td>\n      <td>N</td>\n      <td>N</td>\n      <td>N</td>\n      <td>N</td>\n      <td>N</td>\n      <td>N</td>\n      <td>N</td>\n      <td>N</td>\n      <td>NaN</td>\n      <td>NaN</td>\n    </tr>\n    <tr>\n      <th>7067543</th>\n      <td>19665</td>\n      <td>5680250</td>\n      <td>51502040100000</td>\n      <td>56</td>\n      <td>56039</td>\n      <td>N</td>\n      <td>27220</td>\n      <td>Region V BOCES</td>\n      <td>Wyoming</td>\n      <td>WY</td>\n      <td>...</td>\n      <td>N</td>\n      <td>N</td>\n      <td>N</td>\n      <td>N</td>\n      <td>N</td>\n      <td>N</td>\n      <td>N</td>\n      <td>N</td>\n      <td>NaN</td>\n      <td>NaN</td>\n    </tr>\n  </tbody>\n</table>\n<p>7067544 rows × 99 columns</p>\n</div>"
     },
     "execution_count": 10,
     "metadata": {},
     "output_type": "execute_result"
    }
   ],
   "source": [
    "expenditureData_with_geoData = pd.merge(entityData_with_geoData, expenditureData, on='census_id', how='left')\n",
    "expenditureData_with_geoData"
   ]
  },
  {
   "cell_type": "code",
   "execution_count": null,
   "id": "898856323d4505c1",
   "metadata": {
    "collapsed": false,
    "is_executing": true
   },
   "outputs": [],
   "source": [
    "expendituresMap = px.density_mapbox(expenditureData_with_geoData,\n",
    "                                    lat= 'LAT',\n",
    "                                    lon= 'LON',\n",
    "                                    z= 'amount (Z-Score Std)',\n",
    "                                    radius=10,\n",
    "                                    center= dict(lat=0, lon= 180),\n",
    "                                    zoom= 0,\n",
    "                                    mapbox_style='stamen-terrain')\n",
    "expendituresMap.show()"
   ]
  },
  {
   "cell_type": "code",
   "execution_count": 11,
   "id": "aa988c559356e226",
   "metadata": {
    "collapsed": false
   },
   "outputs": [],
   "source": []
  }
 ],
 "metadata": {
  "kernelspec": {
   "display_name": "Python 3 (ipykernel)",
   "language": "python",
   "name": "python3"
  },
  "language_info": {
   "codemirror_mode": {
    "name": "ipython",
    "version": 3
   },
   "file_extension": ".py",
   "mimetype": "text/x-python",
   "name": "python",
   "nbconvert_exporter": "python",
   "pygments_lexer": "ipython3",
   "version": "3.9.6"
  }
 },
 "nbformat": 4,
 "nbformat_minor": 5
}
