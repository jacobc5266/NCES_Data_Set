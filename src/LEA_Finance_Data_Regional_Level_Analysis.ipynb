{
 "cells": [
  {
   "cell_type": "markdown",
   "metadata": {},
   "source": [
    "# LEA School District Finance Survey – Regional Level Analysis"
   ]
  },
  {
   "cell_type": "markdown",
   "metadata": {},
   "source": [
    "#### Note: This project is still in progress"
   ]
  },
  {
   "cell_type": "code",
   "execution_count": 1,
   "metadata": {},
   "outputs": [],
   "source": [
    "import pandas as pd\n",
    "import os\n",
    "import plotly.express as px\n",
    "import plotly.graph_objects as go\n",
    "from utilities import Utilities"
   ]
  },
  {
   "cell_type": "code",
   "execution_count": 2,
   "metadata": {},
   "outputs": [],
   "source": [
    "# Create Instance of Utilities (A class with various data operations that will be used throughout the project)\n",
    "utils = Utilities()\n",
    "\n",
    "# Establish Database Connection\n",
    "# The upcoming data retrieval method will switch to CSV format if the database connection fails\n",
    "conn = utils.create_database_conn()"
   ]
  },
  {
   "cell_type": "markdown",
   "metadata": {},
   "source": [
    "#### Note on Database Connectivity and Data Analysis\n",
    "\n",
    "This notebook facilitates a fixed analysis of static data covering the years 2010 to 2020, designed to ensure consistency and replicability of results across different environments. The choice between data extraction methods is streamlined for efficiency and convenience:\n",
    "\n",
    "- **Direct Database Connection**: The notebook attempts to connect to the database at the outset using provided credentials. A successful connection is preferred, especially for conducting the analysis, as it allows direct access to the database. This enables flexibility in querying additional data or making structural adjustments without immediate concern for updating CSV files. The data in the database is static, mirroring the fixed analysis period, and matches exactly the data exported into the CSV files.\n",
    "\n",
    "- **CSV File Access as Fallback**: In cases where the database connection cannot be established (due to incorrect credentials, network access issues, or database unavailability), the notebook automatically switches to using pre-exported CSV files (`student_counts_by_state.csv` and `tech_vocational_expenditures_2010_to_2020.csv`). These files are generated using the same queries as those within the notebook, ensuring that the data and subsequent analysis results will match those obtained directly from the database. This method guarantees that the analysis can be consistently replicated, regardless of the environment setup.\n",
    "\n",
    "The transition between the database and CSV files is handled automatically, eliminating the need for manual configuration. This approach ensures that, whether accessing the database directly or using CSV files, the analysis remains consistent and true to the static dataset from 2010 to 2020."
   ]
  },
  {
   "cell_type": "markdown",
   "metadata": {},
   "source": [
    "## Expenditure Analysis"
   ]
  },
  {
   "cell_type": "code",
   "execution_count": 3,
   "metadata": {},
   "outputs": [],
   "source": [
    "# Query expenditure data\n",
    "query = \"\"\"\n",
    "SELECT \n",
    "    state,\n",
    "    region,\n",
    "    expenditure_title, \n",
    "    year, \n",
    "    SUM(amount) AS amount, \n",
    "    AVG(amount_z_score) AS amount_z_score_avg \n",
    "FROM expenses.expenditure_zscores_by_state_year\n",
    "WHERE expenditure_title ILIKE '%tech%' \n",
    "OR expenditure_title ILIKE '%vocation%'\n",
    "GROUP BY state, region, year, expenditure_title\n",
    "ORDER BY state, year, expenditure_title;\n",
    "\"\"\""
   ]
  },
  {
   "cell_type": "code",
   "execution_count": 4,
   "metadata": {},
   "outputs": [
    {
     "data": {
      "text/html": [
       "<div>\n",
       "<style scoped>\n",
       "    .dataframe tbody tr th:only-of-type {\n",
       "        vertical-align: middle;\n",
       "    }\n",
       "\n",
       "    .dataframe tbody tr th {\n",
       "        vertical-align: top;\n",
       "    }\n",
       "\n",
       "    .dataframe thead th {\n",
       "        text-align: right;\n",
       "    }\n",
       "</style>\n",
       "<table border=\"1\" class=\"dataframe\">\n",
       "  <thead>\n",
       "    <tr style=\"text-align: right;\">\n",
       "      <th></th>\n",
       "      <th>state</th>\n",
       "      <th>region</th>\n",
       "      <th>expenditure_title</th>\n",
       "      <th>year</th>\n",
       "      <th>amount</th>\n",
       "      <th>amount_z_score_avg</th>\n",
       "    </tr>\n",
       "  </thead>\n",
       "  <tbody>\n",
       "    <tr>\n",
       "      <th>0</th>\n",
       "      <td>Alabama</td>\n",
       "      <td>South</td>\n",
       "      <td>teacher_salaries_vocational_education</td>\n",
       "      <td>2010.0</td>\n",
       "      <td>110309000.0</td>\n",
       "      <td>-1.67803030303030303E-19</td>\n",
       "    </tr>\n",
       "    <tr>\n",
       "      <th>1</th>\n",
       "      <td>Alabama</td>\n",
       "      <td>South</td>\n",
       "      <td>teacher_salaries_vocational_education</td>\n",
       "      <td>2011.0</td>\n",
       "      <td>107614000.0</td>\n",
       "      <td>-6.14166666666666667E-19</td>\n",
       "    </tr>\n",
       "    <tr>\n",
       "      <th>2</th>\n",
       "      <td>Alabama</td>\n",
       "      <td>South</td>\n",
       "      <td>teacher_salaries_vocational_education</td>\n",
       "      <td>2012.0</td>\n",
       "      <td>105162000.0</td>\n",
       "      <td>-2.25606060606060606E-19</td>\n",
       "    </tr>\n",
       "    <tr>\n",
       "      <th>3</th>\n",
       "      <td>Alabama</td>\n",
       "      <td>South</td>\n",
       "      <td>teacher_salaries_vocational_education</td>\n",
       "      <td>2013.0</td>\n",
       "      <td>108247000.0</td>\n",
       "      <td>1.71343283582089552E-19</td>\n",
       "    </tr>\n",
       "    <tr>\n",
       "      <th>4</th>\n",
       "      <td>Alabama</td>\n",
       "      <td>South</td>\n",
       "      <td>teacher_salaries_vocational_education</td>\n",
       "      <td>2014.0</td>\n",
       "      <td>110787000.0</td>\n",
       "      <td>6.56666666666666667E-19</td>\n",
       "    </tr>\n",
       "  </tbody>\n",
       "</table>\n",
       "</div>"
      ],
      "text/plain": [
       "     state region                      expenditure_title    year       amount  \\\n",
       "0  Alabama  South  teacher_salaries_vocational_education  2010.0  110309000.0   \n",
       "1  Alabama  South  teacher_salaries_vocational_education  2011.0  107614000.0   \n",
       "2  Alabama  South  teacher_salaries_vocational_education  2012.0  105162000.0   \n",
       "3  Alabama  South  teacher_salaries_vocational_education  2013.0  108247000.0   \n",
       "4  Alabama  South  teacher_salaries_vocational_education  2014.0  110787000.0   \n",
       "\n",
       "         amount_z_score_avg  \n",
       "0  -1.67803030303030303E-19  \n",
       "1  -6.14166666666666667E-19  \n",
       "2  -2.25606060606060606E-19  \n",
       "3   1.71343283582089552E-19  \n",
       "4   6.56666666666666667E-19  "
      ]
     },
     "execution_count": 4,
     "metadata": {},
     "output_type": "execute_result"
    }
   ],
   "source": [
    "if conn:\n",
    "    tech_vocational_expenditures = utils.execute_sql(query, conn)\n",
    "else:\n",
    "        try:\n",
    "            tech_vocational_expenditures = pd.read_csv(os.path.join('..','tech_vocational_expenditures_2010_to_2020.csv'), \n",
    "                                                       dtype={'amount_z_score_avg': 'str'})\n",
    "        except FileNotFoundError:\n",
    "            print(\"CSV file 'tech_vocational_expenditures_2010_to_2020.csv' not found. Please ensure the file is in the correct directory.\")\n",
    "            raise \n",
    "        except Exception as e:\n",
    "            print(f\"An error occurred while loading the CSV file: {e}\")\n",
    "            raise \n",
    "tech_vocational_expenditures.head()"
   ]
  },
  {
   "cell_type": "code",
   "execution_count": 5,
   "metadata": {},
   "outputs": [
    {
     "data": {
      "text/plain": [
       "state                  object\n",
       "region                 object\n",
       "expenditure_title      object\n",
       "year                  float64\n",
       "amount                 object\n",
       "amount_z_score_avg     object\n",
       "dtype: object"
      ]
     },
     "execution_count": 5,
     "metadata": {},
     "output_type": "execute_result"
    }
   ],
   "source": [
    "tech_vocational_expenditures.dtypes"
   ]
  },
  {
   "cell_type": "code",
   "execution_count": 6,
   "metadata": {},
   "outputs": [
    {
     "data": {
      "text/plain": [
       "state                  object\n",
       "region                 object\n",
       "expenditure_title      object\n",
       "year                    int64\n",
       "amount                float64\n",
       "amount_z_score_avg    float64\n",
       "dtype: object"
      ]
     },
     "execution_count": 6,
     "metadata": {},
     "output_type": "execute_result"
    }
   ],
   "source": [
    "tech_vocational_expenditures = tech_vocational_expenditures.astype({'year' : int,\n",
    "                                                                    'amount' : 'float64',\n",
    "                                                                    'amount_z_score_avg' : 'float64'\n",
    "                                                                    })\n",
    "\n",
    "tech_vocational_expenditures.dtypes"
   ]
  },
  {
   "cell_type": "code",
   "execution_count": 7,
   "metadata": {},
   "outputs": [
    {
     "data": {
      "text/html": [
       "<div>\n",
       "<style scoped>\n",
       "    .dataframe tbody tr th:only-of-type {\n",
       "        vertical-align: middle;\n",
       "    }\n",
       "\n",
       "    .dataframe tbody tr th {\n",
       "        vertical-align: top;\n",
       "    }\n",
       "\n",
       "    .dataframe thead th {\n",
       "        text-align: right;\n",
       "    }\n",
       "</style>\n",
       "<table border=\"1\" class=\"dataframe\">\n",
       "  <thead>\n",
       "    <tr style=\"text-align: right;\">\n",
       "      <th></th>\n",
       "      <th>state</th>\n",
       "      <th>region</th>\n",
       "      <th>expenditure_title</th>\n",
       "      <th>year</th>\n",
       "      <th>amount</th>\n",
       "      <th>amount_z_score_avg</th>\n",
       "    </tr>\n",
       "  </thead>\n",
       "  <tbody>\n",
       "    <tr>\n",
       "      <th>0</th>\n",
       "      <td>Alabama</td>\n",
       "      <td>South</td>\n",
       "      <td>teacher_salaries_vocational_education</td>\n",
       "      <td>2010</td>\n",
       "      <td>110309000.0</td>\n",
       "      <td>-1.678030e-19</td>\n",
       "    </tr>\n",
       "    <tr>\n",
       "      <th>1</th>\n",
       "      <td>Alabama</td>\n",
       "      <td>South</td>\n",
       "      <td>teacher_salaries_vocational_education</td>\n",
       "      <td>2011</td>\n",
       "      <td>107614000.0</td>\n",
       "      <td>-6.141667e-19</td>\n",
       "    </tr>\n",
       "    <tr>\n",
       "      <th>2</th>\n",
       "      <td>Alabama</td>\n",
       "      <td>South</td>\n",
       "      <td>teacher_salaries_vocational_education</td>\n",
       "      <td>2012</td>\n",
       "      <td>105162000.0</td>\n",
       "      <td>-2.256061e-19</td>\n",
       "    </tr>\n",
       "    <tr>\n",
       "      <th>3</th>\n",
       "      <td>Alabama</td>\n",
       "      <td>South</td>\n",
       "      <td>teacher_salaries_vocational_education</td>\n",
       "      <td>2013</td>\n",
       "      <td>108247000.0</td>\n",
       "      <td>1.713433e-19</td>\n",
       "    </tr>\n",
       "    <tr>\n",
       "      <th>4</th>\n",
       "      <td>Alabama</td>\n",
       "      <td>South</td>\n",
       "      <td>teacher_salaries_vocational_education</td>\n",
       "      <td>2014</td>\n",
       "      <td>110787000.0</td>\n",
       "      <td>6.566667e-19</td>\n",
       "    </tr>\n",
       "  </tbody>\n",
       "</table>\n",
       "</div>"
      ],
      "text/plain": [
       "     state region                      expenditure_title  year       amount  \\\n",
       "0  Alabama  South  teacher_salaries_vocational_education  2010  110309000.0   \n",
       "1  Alabama  South  teacher_salaries_vocational_education  2011  107614000.0   \n",
       "2  Alabama  South  teacher_salaries_vocational_education  2012  105162000.0   \n",
       "3  Alabama  South  teacher_salaries_vocational_education  2013  108247000.0   \n",
       "4  Alabama  South  teacher_salaries_vocational_education  2014  110787000.0   \n",
       "\n",
       "   amount_z_score_avg  \n",
       "0       -1.678030e-19  \n",
       "1       -6.141667e-19  \n",
       "2       -2.256061e-19  \n",
       "3        1.713433e-19  \n",
       "4        6.566667e-19  "
      ]
     },
     "execution_count": 7,
     "metadata": {},
     "output_type": "execute_result"
    }
   ],
   "source": [
    "tech_vocational_expenditures.head()"
   ]
  },
  {
   "cell_type": "code",
   "execution_count": 8,
   "metadata": {},
   "outputs": [],
   "source": [
    "query = \"\"\"\n",
    "SELECT \n",
    "\te.state,\n",
    "    e.region, \n",
    "\tDATE_PART('year', stats.year) AS year, \n",
    "\tSUM(stats.fall_membership) AS student_count\n",
    "FROM entity.annual_stats AS stats\n",
    "INNER JOIN entity.entity as e\n",
    "\tON stats.census_id = e.census_id\n",
    "GROUP BY e.state, e.region, stats.year\n",
    "ORDER BY e.state, stats.year;\n",
    "\"\"\""
   ]
  },
  {
   "cell_type": "code",
   "execution_count": 9,
   "metadata": {},
   "outputs": [
    {
     "data": {
      "text/html": [
       "<div>\n",
       "<style scoped>\n",
       "    .dataframe tbody tr th:only-of-type {\n",
       "        vertical-align: middle;\n",
       "    }\n",
       "\n",
       "    .dataframe tbody tr th {\n",
       "        vertical-align: top;\n",
       "    }\n",
       "\n",
       "    .dataframe thead th {\n",
       "        text-align: right;\n",
       "    }\n",
       "</style>\n",
       "<table border=\"1\" class=\"dataframe\">\n",
       "  <thead>\n",
       "    <tr style=\"text-align: right;\">\n",
       "      <th></th>\n",
       "      <th>state</th>\n",
       "      <th>region</th>\n",
       "      <th>year</th>\n",
       "      <th>student_count</th>\n",
       "    </tr>\n",
       "  </thead>\n",
       "  <tbody>\n",
       "    <tr>\n",
       "      <th>0</th>\n",
       "      <td>Alabama</td>\n",
       "      <td>South</td>\n",
       "      <td>2010.0</td>\n",
       "      <td>748889.0</td>\n",
       "    </tr>\n",
       "    <tr>\n",
       "      <th>1</th>\n",
       "      <td>Alabama</td>\n",
       "      <td>South</td>\n",
       "      <td>2011.0</td>\n",
       "      <td>738322.0</td>\n",
       "    </tr>\n",
       "    <tr>\n",
       "      <th>2</th>\n",
       "      <td>Alabama</td>\n",
       "      <td>South</td>\n",
       "      <td>2012.0</td>\n",
       "      <td>744621.0</td>\n",
       "    </tr>\n",
       "    <tr>\n",
       "      <th>3</th>\n",
       "      <td>Alabama</td>\n",
       "      <td>South</td>\n",
       "      <td>2013.0</td>\n",
       "      <td>744548.0</td>\n",
       "    </tr>\n",
       "    <tr>\n",
       "      <th>4</th>\n",
       "      <td>Alabama</td>\n",
       "      <td>South</td>\n",
       "      <td>2014.0</td>\n",
       "      <td>740081.0</td>\n",
       "    </tr>\n",
       "  </tbody>\n",
       "</table>\n",
       "</div>"
      ],
      "text/plain": [
       "     state region    year student_count\n",
       "0  Alabama  South  2010.0      748889.0\n",
       "1  Alabama  South  2011.0      738322.0\n",
       "2  Alabama  South  2012.0      744621.0\n",
       "3  Alabama  South  2013.0      744548.0\n",
       "4  Alabama  South  2014.0      740081.0"
      ]
     },
     "execution_count": 9,
     "metadata": {},
     "output_type": "execute_result"
    }
   ],
   "source": [
    "if conn:\n",
    "    student_counts_by_state_year = utils.execute_sql(query, conn)\n",
    "else:\n",
    "    try:\n",
    "        student_counts_by_state_year = pd.read_csv(os.path.join('..','student_counts_by_state.csv'))\n",
    "    except FileNotFoundError:\n",
    "        print(\"CSV file 'student_counts_by_state.csv' not found. Please ensure the file is in the correct directory.\")\n",
    "        raise  # Reraise the exception to stop the notebook\n",
    "    except Exception as e:\n",
    "        print(f\"An error occurred while loading the CSV file: {e}\")\n",
    "        raise  # Reraise the exception to stop the notebook\n",
    "\n",
    "# Display the head of the DataFrame\n",
    "student_counts_by_state_year.head()"
   ]
  },
  {
   "cell_type": "code",
   "execution_count": 10,
   "metadata": {},
   "outputs": [
    {
     "data": {
      "text/plain": [
       "state            object\n",
       "region           object\n",
       "year              int64\n",
       "student_count     int64\n",
       "dtype: object"
      ]
     },
     "execution_count": 10,
     "metadata": {},
     "output_type": "execute_result"
    }
   ],
   "source": [
    "student_counts_by_state_year['year'] = student_counts_by_state_year['year'].astype(int)\n",
    "student_counts_by_state_year['student_count'] = student_counts_by_state_year['student_count'].astype(int)\n",
    "\n",
    "student_counts_by_state_year.dtypes"
   ]
  },
  {
   "cell_type": "code",
   "execution_count": 11,
   "metadata": {},
   "outputs": [
    {
     "data": {
      "text/html": [
       "<div>\n",
       "<style scoped>\n",
       "    .dataframe tbody tr th:only-of-type {\n",
       "        vertical-align: middle;\n",
       "    }\n",
       "\n",
       "    .dataframe tbody tr th {\n",
       "        vertical-align: top;\n",
       "    }\n",
       "\n",
       "    .dataframe thead th {\n",
       "        text-align: right;\n",
       "    }\n",
       "</style>\n",
       "<table border=\"1\" class=\"dataframe\">\n",
       "  <thead>\n",
       "    <tr style=\"text-align: right;\">\n",
       "      <th></th>\n",
       "      <th>region</th>\n",
       "      <th>year</th>\n",
       "      <th>expenditure_title</th>\n",
       "      <th>amount</th>\n",
       "    </tr>\n",
       "  </thead>\n",
       "  <tbody>\n",
       "    <tr>\n",
       "      <th>0</th>\n",
       "      <td>Midwest</td>\n",
       "      <td>2010</td>\n",
       "      <td>teacher_salaries_vocational_education</td>\n",
       "      <td>894448000.0</td>\n",
       "    </tr>\n",
       "    <tr>\n",
       "      <th>1</th>\n",
       "      <td>Midwest</td>\n",
       "      <td>2011</td>\n",
       "      <td>teacher_salaries_vocational_education</td>\n",
       "      <td>954296000.0</td>\n",
       "    </tr>\n",
       "    <tr>\n",
       "      <th>2</th>\n",
       "      <td>Midwest</td>\n",
       "      <td>2012</td>\n",
       "      <td>teacher_salaries_vocational_education</td>\n",
       "      <td>918036000.0</td>\n",
       "    </tr>\n",
       "    <tr>\n",
       "      <th>3</th>\n",
       "      <td>Midwest</td>\n",
       "      <td>2013</td>\n",
       "      <td>teacher_salaries_vocational_education</td>\n",
       "      <td>906328000.0</td>\n",
       "    </tr>\n",
       "    <tr>\n",
       "      <th>4</th>\n",
       "      <td>Midwest</td>\n",
       "      <td>2014</td>\n",
       "      <td>teacher_salaries_vocational_education</td>\n",
       "      <td>891829000.0</td>\n",
       "    </tr>\n",
       "  </tbody>\n",
       "</table>\n",
       "</div>"
      ],
      "text/plain": [
       "    region  year                      expenditure_title       amount\n",
       "0  Midwest  2010  teacher_salaries_vocational_education  894448000.0\n",
       "1  Midwest  2011  teacher_salaries_vocational_education  954296000.0\n",
       "2  Midwest  2012  teacher_salaries_vocational_education  918036000.0\n",
       "3  Midwest  2013  teacher_salaries_vocational_education  906328000.0\n",
       "4  Midwest  2014  teacher_salaries_vocational_education  891829000.0"
      ]
     },
     "execution_count": 11,
     "metadata": {},
     "output_type": "execute_result"
    }
   ],
   "source": [
    "regionwise_tech_vocational_expenditures = tech_vocational_expenditures.groupby(['region', 'year', 'expenditure_title'])['amount'].sum().reset_index()\n",
    "regionwise_tech_vocational_expenditures.head()"
   ]
  },
  {
   "cell_type": "code",
   "execution_count": 12,
   "metadata": {},
   "outputs": [
    {
     "data": {
      "text/html": [
       "<div>\n",
       "<style scoped>\n",
       "    .dataframe tbody tr th:only-of-type {\n",
       "        vertical-align: middle;\n",
       "    }\n",
       "\n",
       "    .dataframe tbody tr th {\n",
       "        vertical-align: top;\n",
       "    }\n",
       "\n",
       "    .dataframe thead th {\n",
       "        text-align: right;\n",
       "    }\n",
       "</style>\n",
       "<table border=\"1\" class=\"dataframe\">\n",
       "  <thead>\n",
       "    <tr style=\"text-align: right;\">\n",
       "      <th></th>\n",
       "      <th>region</th>\n",
       "      <th>year</th>\n",
       "      <th>student_count</th>\n",
       "    </tr>\n",
       "  </thead>\n",
       "  <tbody>\n",
       "    <tr>\n",
       "      <th>0</th>\n",
       "      <td>Midwest</td>\n",
       "      <td>2010</td>\n",
       "      <td>10348108</td>\n",
       "    </tr>\n",
       "    <tr>\n",
       "      <th>1</th>\n",
       "      <td>Midwest</td>\n",
       "      <td>2011</td>\n",
       "      <td>10276081</td>\n",
       "    </tr>\n",
       "    <tr>\n",
       "      <th>2</th>\n",
       "      <td>Midwest</td>\n",
       "      <td>2012</td>\n",
       "      <td>10203489</td>\n",
       "    </tr>\n",
       "    <tr>\n",
       "      <th>3</th>\n",
       "      <td>Midwest</td>\n",
       "      <td>2013</td>\n",
       "      <td>10133587</td>\n",
       "    </tr>\n",
       "    <tr>\n",
       "      <th>4</th>\n",
       "      <td>Midwest</td>\n",
       "      <td>2014</td>\n",
       "      <td>10141778</td>\n",
       "    </tr>\n",
       "  </tbody>\n",
       "</table>\n",
       "</div>"
      ],
      "text/plain": [
       "    region  year  student_count\n",
       "0  Midwest  2010       10348108\n",
       "1  Midwest  2011       10276081\n",
       "2  Midwest  2012       10203489\n",
       "3  Midwest  2013       10133587\n",
       "4  Midwest  2014       10141778"
      ]
     },
     "execution_count": 12,
     "metadata": {},
     "output_type": "execute_result"
    }
   ],
   "source": [
    "student_counts_by_region_year = student_counts_by_state_year.groupby(['region', 'year'])['student_count'].sum().reset_index()\n",
    "\n",
    "student_counts_by_region_year.head()"
   ]
  },
  {
   "cell_type": "code",
   "execution_count": 13,
   "metadata": {},
   "outputs": [
    {
     "data": {
      "text/html": [
       "<div>\n",
       "<style scoped>\n",
       "    .dataframe tbody tr th:only-of-type {\n",
       "        vertical-align: middle;\n",
       "    }\n",
       "\n",
       "    .dataframe tbody tr th {\n",
       "        vertical-align: top;\n",
       "    }\n",
       "\n",
       "    .dataframe thead th {\n",
       "        text-align: right;\n",
       "    }\n",
       "</style>\n",
       "<table border=\"1\" class=\"dataframe\">\n",
       "  <thead>\n",
       "    <tr style=\"text-align: right;\">\n",
       "      <th></th>\n",
       "      <th>region</th>\n",
       "      <th>year</th>\n",
       "      <th>expenditure_title</th>\n",
       "      <th>amount</th>\n",
       "      <th>student_count</th>\n",
       "    </tr>\n",
       "  </thead>\n",
       "  <tbody>\n",
       "    <tr>\n",
       "      <th>0</th>\n",
       "      <td>Midwest</td>\n",
       "      <td>2010</td>\n",
       "      <td>teacher_salaries_vocational_education</td>\n",
       "      <td>894448000.0</td>\n",
       "      <td>10348108</td>\n",
       "    </tr>\n",
       "    <tr>\n",
       "      <th>1</th>\n",
       "      <td>Midwest</td>\n",
       "      <td>2011</td>\n",
       "      <td>teacher_salaries_vocational_education</td>\n",
       "      <td>954296000.0</td>\n",
       "      <td>10276081</td>\n",
       "    </tr>\n",
       "    <tr>\n",
       "      <th>2</th>\n",
       "      <td>Midwest</td>\n",
       "      <td>2012</td>\n",
       "      <td>teacher_salaries_vocational_education</td>\n",
       "      <td>918036000.0</td>\n",
       "      <td>10203489</td>\n",
       "    </tr>\n",
       "    <tr>\n",
       "      <th>3</th>\n",
       "      <td>Midwest</td>\n",
       "      <td>2013</td>\n",
       "      <td>teacher_salaries_vocational_education</td>\n",
       "      <td>906328000.0</td>\n",
       "      <td>10133587</td>\n",
       "    </tr>\n",
       "    <tr>\n",
       "      <th>4</th>\n",
       "      <td>Midwest</td>\n",
       "      <td>2014</td>\n",
       "      <td>teacher_salaries_vocational_education</td>\n",
       "      <td>891829000.0</td>\n",
       "      <td>10141778</td>\n",
       "    </tr>\n",
       "  </tbody>\n",
       "</table>\n",
       "</div>"
      ],
      "text/plain": [
       "    region  year                      expenditure_title       amount  \\\n",
       "0  Midwest  2010  teacher_salaries_vocational_education  894448000.0   \n",
       "1  Midwest  2011  teacher_salaries_vocational_education  954296000.0   \n",
       "2  Midwest  2012  teacher_salaries_vocational_education  918036000.0   \n",
       "3  Midwest  2013  teacher_salaries_vocational_education  906328000.0   \n",
       "4  Midwest  2014  teacher_salaries_vocational_education  891829000.0   \n",
       "\n",
       "   student_count  \n",
       "0       10348108  \n",
       "1       10276081  \n",
       "2       10203489  \n",
       "3       10133587  \n",
       "4       10141778  "
      ]
     },
     "execution_count": 13,
     "metadata": {},
     "output_type": "execute_result"
    }
   ],
   "source": [
    "regionwise_tech_vocational_expenditures = regionwise_tech_vocational_expenditures.merge(student_counts_by_region_year, how='inner', on= ['region', 'year'], sort=True)\n",
    "regionwise_tech_vocational_expenditures.head()"
   ]
  },
  {
   "cell_type": "code",
   "execution_count": 14,
   "metadata": {},
   "outputs": [
    {
     "data": {
      "text/html": [
       "<div>\n",
       "<style scoped>\n",
       "    .dataframe tbody tr th:only-of-type {\n",
       "        vertical-align: middle;\n",
       "    }\n",
       "\n",
       "    .dataframe tbody tr th {\n",
       "        vertical-align: top;\n",
       "    }\n",
       "\n",
       "    .dataframe thead th {\n",
       "        text-align: right;\n",
       "    }\n",
       "</style>\n",
       "<table border=\"1\" class=\"dataframe\">\n",
       "  <thead>\n",
       "    <tr style=\"text-align: right;\">\n",
       "      <th></th>\n",
       "      <th>region</th>\n",
       "      <th>year</th>\n",
       "      <th>expenditure_title</th>\n",
       "      <th>amount</th>\n",
       "      <th>student_count</th>\n",
       "      <th>cost_per_student</th>\n",
       "    </tr>\n",
       "  </thead>\n",
       "  <tbody>\n",
       "    <tr>\n",
       "      <th>0</th>\n",
       "      <td>Midwest</td>\n",
       "      <td>2010</td>\n",
       "      <td>teacher_salaries_vocational_education</td>\n",
       "      <td>894448000.0</td>\n",
       "      <td>10348108</td>\n",
       "      <td>86.435897</td>\n",
       "    </tr>\n",
       "    <tr>\n",
       "      <th>1</th>\n",
       "      <td>Midwest</td>\n",
       "      <td>2011</td>\n",
       "      <td>teacher_salaries_vocational_education</td>\n",
       "      <td>954296000.0</td>\n",
       "      <td>10276081</td>\n",
       "      <td>92.865753</td>\n",
       "    </tr>\n",
       "    <tr>\n",
       "      <th>2</th>\n",
       "      <td>Midwest</td>\n",
       "      <td>2012</td>\n",
       "      <td>teacher_salaries_vocational_education</td>\n",
       "      <td>918036000.0</td>\n",
       "      <td>10203489</td>\n",
       "      <td>89.972753</td>\n",
       "    </tr>\n",
       "    <tr>\n",
       "      <th>3</th>\n",
       "      <td>Midwest</td>\n",
       "      <td>2013</td>\n",
       "      <td>teacher_salaries_vocational_education</td>\n",
       "      <td>906328000.0</td>\n",
       "      <td>10133587</td>\n",
       "      <td>89.438024</td>\n",
       "    </tr>\n",
       "    <tr>\n",
       "      <th>4</th>\n",
       "      <td>Midwest</td>\n",
       "      <td>2014</td>\n",
       "      <td>teacher_salaries_vocational_education</td>\n",
       "      <td>891829000.0</td>\n",
       "      <td>10141778</td>\n",
       "      <td>87.936159</td>\n",
       "    </tr>\n",
       "  </tbody>\n",
       "</table>\n",
       "</div>"
      ],
      "text/plain": [
       "    region  year                      expenditure_title       amount  \\\n",
       "0  Midwest  2010  teacher_salaries_vocational_education  894448000.0   \n",
       "1  Midwest  2011  teacher_salaries_vocational_education  954296000.0   \n",
       "2  Midwest  2012  teacher_salaries_vocational_education  918036000.0   \n",
       "3  Midwest  2013  teacher_salaries_vocational_education  906328000.0   \n",
       "4  Midwest  2014  teacher_salaries_vocational_education  891829000.0   \n",
       "\n",
       "   student_count  cost_per_student  \n",
       "0       10348108         86.435897  \n",
       "1       10276081         92.865753  \n",
       "2       10203489         89.972753  \n",
       "3       10133587         89.438024  \n",
       "4       10141778         87.936159  "
      ]
     },
     "execution_count": 14,
     "metadata": {},
     "output_type": "execute_result"
    }
   ],
   "source": [
    "regionwise_tech_vocational_expenditures['cost_per_student'] = regionwise_tech_vocational_expenditures['amount'] / regionwise_tech_vocational_expenditures['student_count']\n",
    "\n",
    "regionwise_tech_vocational_expenditures.head()"
   ]
  },
  {
   "cell_type": "markdown",
   "metadata": {},
   "source": [
    "### Understanding \"Cost Per Student\" Calculation\n",
    "\n",
    "**Methodology:**\n",
    "\n",
    "For the purpose of this analysis, the \"cost per student\" metric is calculated as the total expenditure amount divided by the number of students for the given year. The formula used is as follows:\n",
    "\n",
    "```python\n",
    "regionwise_data_w_student_counts['cost_per_student'] = regionwise_data_w_student_counts['amount'] / regionwise_data_w_student_counts['student_count']\n",
    "```\n",
    "\n",
    "This calculation aims to provide an approximate value indicating the expenditure per student based on the available data of total expenditure and student counts.\n",
    "\n",
    "**Limitations:**\n",
    "\n",
    "It's essential to acknowledge the limitations of this calculation. The derived \"cost per student\" metric does not account for the nuanced breakdown of expenses directly associated with each student. The analysis lacks the granularity to determine what percentage of funds is genuinely allocated towards the student's educational expenses versus other operational or administrative costs. As a result, the calculated \"cost per student\" serves as an overall indicator and may not accurately represent the true cost of education per student."
   ]
  },
  {
   "cell_type": "code",
   "execution_count": 15,
   "metadata": {},
   "outputs": [
    {
     "data": {
      "text/html": [
       "<div>\n",
       "<style scoped>\n",
       "    .dataframe tbody tr th:only-of-type {\n",
       "        vertical-align: middle;\n",
       "    }\n",
       "\n",
       "    .dataframe tbody tr th {\n",
       "        vertical-align: top;\n",
       "    }\n",
       "\n",
       "    .dataframe thead th {\n",
       "        text-align: right;\n",
       "    }\n",
       "</style>\n",
       "<table border=\"1\" class=\"dataframe\">\n",
       "  <thead>\n",
       "    <tr style=\"text-align: right;\">\n",
       "      <th></th>\n",
       "      <th>region</th>\n",
       "      <th>year</th>\n",
       "      <th>amount</th>\n",
       "    </tr>\n",
       "  </thead>\n",
       "  <tbody>\n",
       "    <tr>\n",
       "      <th>0</th>\n",
       "      <td>Midwest</td>\n",
       "      <td>2010</td>\n",
       "      <td>894448000.0</td>\n",
       "    </tr>\n",
       "    <tr>\n",
       "      <th>1</th>\n",
       "      <td>Midwest</td>\n",
       "      <td>2011</td>\n",
       "      <td>954296000.0</td>\n",
       "    </tr>\n",
       "    <tr>\n",
       "      <th>2</th>\n",
       "      <td>Midwest</td>\n",
       "      <td>2012</td>\n",
       "      <td>918036000.0</td>\n",
       "    </tr>\n",
       "    <tr>\n",
       "      <th>3</th>\n",
       "      <td>Midwest</td>\n",
       "      <td>2013</td>\n",
       "      <td>906328000.0</td>\n",
       "    </tr>\n",
       "    <tr>\n",
       "      <th>4</th>\n",
       "      <td>Midwest</td>\n",
       "      <td>2014</td>\n",
       "      <td>891829000.0</td>\n",
       "    </tr>\n",
       "  </tbody>\n",
       "</table>\n",
       "</div>"
      ],
      "text/plain": [
       "    region  year       amount\n",
       "0  Midwest  2010  894448000.0\n",
       "1  Midwest  2011  954296000.0\n",
       "2  Midwest  2012  918036000.0\n",
       "3  Midwest  2013  906328000.0\n",
       "4  Midwest  2014  891829000.0"
      ]
     },
     "execution_count": 15,
     "metadata": {},
     "output_type": "execute_result"
    }
   ],
   "source": [
    "regionwise_expenditure_totals = regionwise_tech_vocational_expenditures.groupby(['region', 'year'])['amount'].sum().reset_index()\n",
    "regionwise_expenditure_totals.sort_values(['region', 'year'], inplace= True)\n",
    "regionwise_expenditure_totals.head()"
   ]
  },
  {
   "cell_type": "code",
   "execution_count": 16,
   "metadata": {},
   "outputs": [
    {
     "data": {
      "text/html": [
       "<div>\n",
       "<style scoped>\n",
       "    .dataframe tbody tr th:only-of-type {\n",
       "        vertical-align: middle;\n",
       "    }\n",
       "\n",
       "    .dataframe tbody tr th {\n",
       "        vertical-align: top;\n",
       "    }\n",
       "\n",
       "    .dataframe thead th {\n",
       "        text-align: right;\n",
       "    }\n",
       "</style>\n",
       "<table border=\"1\" class=\"dataframe\">\n",
       "  <thead>\n",
       "    <tr style=\"text-align: right;\">\n",
       "      <th></th>\n",
       "      <th>region</th>\n",
       "      <th>year</th>\n",
       "      <th>amount</th>\n",
       "      <th>yearly_difference</th>\n",
       "      <th>growth_rate</th>\n",
       "    </tr>\n",
       "  </thead>\n",
       "  <tbody>\n",
       "    <tr>\n",
       "      <th>0</th>\n",
       "      <td>Midwest</td>\n",
       "      <td>2010</td>\n",
       "      <td>894448000.0</td>\n",
       "      <td>NaN</td>\n",
       "      <td>NaN</td>\n",
       "    </tr>\n",
       "    <tr>\n",
       "      <th>1</th>\n",
       "      <td>Midwest</td>\n",
       "      <td>2011</td>\n",
       "      <td>954296000.0</td>\n",
       "      <td>59848000.0</td>\n",
       "      <td>6.691054</td>\n",
       "    </tr>\n",
       "    <tr>\n",
       "      <th>2</th>\n",
       "      <td>Midwest</td>\n",
       "      <td>2012</td>\n",
       "      <td>918036000.0</td>\n",
       "      <td>-36260000.0</td>\n",
       "      <td>-3.799660</td>\n",
       "    </tr>\n",
       "    <tr>\n",
       "      <th>3</th>\n",
       "      <td>Midwest</td>\n",
       "      <td>2013</td>\n",
       "      <td>906328000.0</td>\n",
       "      <td>-11708000.0</td>\n",
       "      <td>-1.275331</td>\n",
       "    </tr>\n",
       "    <tr>\n",
       "      <th>4</th>\n",
       "      <td>Midwest</td>\n",
       "      <td>2014</td>\n",
       "      <td>891829000.0</td>\n",
       "      <td>-14499000.0</td>\n",
       "      <td>-1.599752</td>\n",
       "    </tr>\n",
       "  </tbody>\n",
       "</table>\n",
       "</div>"
      ],
      "text/plain": [
       "    region  year       amount  yearly_difference  growth_rate\n",
       "0  Midwest  2010  894448000.0                NaN          NaN\n",
       "1  Midwest  2011  954296000.0         59848000.0     6.691054\n",
       "2  Midwest  2012  918036000.0        -36260000.0    -3.799660\n",
       "3  Midwest  2013  906328000.0        -11708000.0    -1.275331\n",
       "4  Midwest  2014  891829000.0        -14499000.0    -1.599752"
      ]
     },
     "execution_count": 16,
     "metadata": {},
     "output_type": "execute_result"
    }
   ],
   "source": [
    "regionwise_expenditure_totals = regionwise_expenditure_totals.sort_values(by=['region', 'year'])\n",
    "\n",
    "# Calculate the year-to-year difference and growth rate\n",
    "regionwise_expenditure_totals['yearly_difference'] = regionwise_expenditure_totals.groupby('region')['amount'].diff()\n",
    "regionwise_expenditure_totals['growth_rate'] = regionwise_expenditure_totals.groupby('region')['amount'].pct_change() * 100\n",
    "\n",
    "regionwise_expenditure_totals.head()"
   ]
  },
  {
   "cell_type": "code",
   "execution_count": 17,
   "metadata": {},
   "outputs": [],
   "source": [
    "national_totals_line = px.line(regionwise_expenditure_totals.groupby('year')['amount'].sum().reset_index(),\n",
    "                                 x= 'year',\n",
    "                                 y= 'amount',\n",
    "                                 title= 'Tech and Vocational Education Expenditures Over Time')"
   ]
  },
  {
   "cell_type": "code",
   "execution_count": 18,
   "metadata": {},
   "outputs": [],
   "source": [
    "regionwise_totals_line = px.line(regionwise_expenditure_totals,\n",
    "                                 x= 'year',\n",
    "                                 y= 'amount',\n",
    "                                 color= 'region',\n",
    "                                 title= 'Tech and Vocational Education Expenditures by Region Over Time',\n",
    "                                 hover_data={'yearly_difference': ':.2f',\n",
    "                                             'growth_rate' : ':.2f'})"
   ]
  },
  {
   "cell_type": "markdown",
   "metadata": {},
   "source": [
    "#### Midwest Calculations"
   ]
  },
  {
   "cell_type": "code",
   "execution_count": 19,
   "metadata": {},
   "outputs": [
    {
     "name": "stdout",
     "output_type": "stream",
     "text": [
      "The Midwest had minimal growth between 2010 and 2015, resulting in a 14.83% increase and an average growth rate of 3.04%. This totaled in a $132691000.0 difference.\n",
      "2016 to 2019 saw a mean growth rate of 32.87%, resulting in a $959967000.0 increase.\n"
     ]
    }
   ],
   "source": [
    "MIDWEST_TOTAL_2010 = regionwise_expenditure_totals.loc[(regionwise_expenditure_totals['region'] == 'Midwest') & (regionwise_expenditure_totals['year'] == 2010), 'amount'].values[0]\n",
    "MIDWEST_TOTAL_2015 = regionwise_expenditure_totals.loc[(regionwise_expenditure_totals['region'] == 'Midwest') & (regionwise_expenditure_totals['year'] == 2015), 'amount'].values[0]\n",
    "MIDWEST_TOTAL_2016 = regionwise_expenditure_totals.loc[(regionwise_expenditure_totals['region'] == 'Midwest') & (regionwise_expenditure_totals['year'] == 2016), 'amount'].values[0]\n",
    "MIDWEST_TOTAL_2019 = regionwise_expenditure_totals.loc[(regionwise_expenditure_totals['region'] == 'Midwest') & (regionwise_expenditure_totals['year'] == 2019), 'amount'].values[0]\n",
    "\n",
    "MIDWEST_DIFF_2010_2015 = MIDWEST_TOTAL_2015 - MIDWEST_TOTAL_2010\n",
    "MIDWEST_DIFF_2016_2019 = MIDWEST_TOTAL_2019 - MIDWEST_TOTAL_2016\n",
    "\n",
    "MIDWEST_PERCENT_DIFF_2010_2015 = utils.calculate_percentage_difference(MIDWEST_TOTAL_2010, MIDWEST_TOTAL_2015)\n",
    "MIDWEST_MEAN_GROWTH_2010_2015 = utils.calculate_mean_growth_rate(regionwise_expenditure_totals, start_year=2010, end_year=2015, region= 'Midwest')\n",
    "MIDWEST_MEAN_GROWTH_2016_2019 = utils.calculate_mean_growth_rate(regionwise_expenditure_totals, start_year=2016, end_year=2019, region= 'Midwest')\n",
    "\n",
    "\n",
    "print(f'The Midwest had minimal growth between 2010 and 2015, resulting in a {MIDWEST_PERCENT_DIFF_2010_2015:.2f}% increase and an average growth rate of {MIDWEST_MEAN_GROWTH_2010_2015:.2f}%. This totaled in a ${MIDWEST_DIFF_2010_2015} difference.')\n",
    "print(f'2016 to 2019 saw a mean growth rate of {MIDWEST_MEAN_GROWTH_2016_2019:.2f}%, resulting in a ${MIDWEST_DIFF_2016_2019} increase.')"
   ]
  },
  {
   "cell_type": "markdown",
   "metadata": {},
   "source": [
    "#### Northeast Calculations"
   ]
  },
  {
   "cell_type": "code",
   "execution_count": 20,
   "metadata": {},
   "outputs": [
    {
     "name": "stdout",
     "output_type": "stream",
     "text": [
      "The Northeast had minimal growth between 2010 and 2013, resulting in a mean growth rate of 0.71% and a total difference of $23137000.0.\n",
      "They saw their first spike in expenditures in 2015. Between 2013 and 2015, their mean growth rate increased to 6.58%.\n",
      "After this initial spike, their growth maintained a fairly constant rate from 2015 to 2020, at a mean growth rate of 11.03% and a total difference of $1162070000.0.\n"
     ]
    }
   ],
   "source": [
    "NE_TOTAL_2010 = regionwise_expenditure_totals.loc[(regionwise_expenditure_totals['region'] == 'Northeast') & (regionwise_expenditure_totals['year'] == 2010), 'amount'].values[0]\n",
    "NE_TOTAL_2013 = regionwise_expenditure_totals.loc[(regionwise_expenditure_totals['region'] == 'Northeast') & (regionwise_expenditure_totals['year'] == 2013), 'amount'].values[0]\n",
    "NE_TOTAL_2015 = regionwise_expenditure_totals.loc[(regionwise_expenditure_totals['region'] == 'Northeast') & (regionwise_expenditure_totals['year'] == 2015), 'amount'].values[0]\n",
    "NE_TOTAL_2020 = regionwise_expenditure_totals.loc[(regionwise_expenditure_totals['region'] == 'Northeast') & (regionwise_expenditure_totals['year'] == 2020), 'amount'].values[0]\n",
    "\n",
    "NE_DIFF_2010_2013 = NE_TOTAL_2013 - NE_TOTAL_2010\n",
    "NE_DIFF_2013_2015 = NE_TOTAL_2015 - NE_TOTAL_2013\n",
    "NE_DIFF_2015_2020 = NE_TOTAL_2020 - NE_TOTAL_2015\n",
    "\n",
    "NE_MEAN_GROWTH_2010_2013 = utils.calculate_mean_growth_rate(regionwise_expenditure_totals, start_year=2010, end_year=2013, region= 'Northeast')\n",
    "NE_MEAN_GROWTH_2013_2015 = utils.calculate_mean_growth_rate(regionwise_expenditure_totals, start_year=2013, end_year=2015, region= 'Northeast')\n",
    "NE_MEAN_GROWTH_2015_2020 = utils.calculate_mean_growth_rate(regionwise_expenditure_totals, start_year=2015, end_year=2020, region= 'Northeast')\n",
    "\n",
    "print(f'The Northeast had minimal growth between 2010 and 2013, resulting in a mean growth rate of {NE_MEAN_GROWTH_2010_2013:.2f}% and a total difference of ${NE_DIFF_2010_2013}.')\n",
    "print(f'They saw their first spike in expenditures in 2015. Between 2013 and 2015, their mean growth rate increased to {NE_MEAN_GROWTH_2013_2015:.2f}%.')\n",
    "print(f'After this initial spike, their growth maintained a fairly constant rate from 2015 to 2020, at a mean growth rate of {NE_MEAN_GROWTH_2015_2020:.2f}% and a total difference of ${NE_DIFF_2015_2020}.')"
   ]
  },
  {
   "cell_type": "markdown",
   "metadata": {},
   "source": [
    "#### South Calculations"
   ]
  },
  {
   "cell_type": "code",
   "execution_count": 21,
   "metadata": {},
   "outputs": [
    {
     "name": "stdout",
     "output_type": "stream",
     "text": [
      "The South saw its greatest spike in spending betweeen 2014 and 2016, resulting in a 99.71% increase, with a total difference of $2326078000.0.\n",
      "2017 to 2020 saw a mean growth rate of 10.09%, resulting in a $1987658000.0 increase.\n"
     ]
    }
   ],
   "source": [
    "SOUTH_TOTAL_2014 = regionwise_expenditure_totals.loc[(regionwise_expenditure_totals['region'] == 'South') & (regionwise_expenditure_totals['year'] == 2014), 'amount'].values[0]\n",
    "SOUTH_TOTAL_2016 = regionwise_expenditure_totals.loc[(regionwise_expenditure_totals['region'] == 'South') & (regionwise_expenditure_totals['year'] == 2016), 'amount'].values[0]\n",
    "SOUTH_TOTAL_2017 = regionwise_expenditure_totals.loc[(regionwise_expenditure_totals['region'] == 'South') & (regionwise_expenditure_totals['year'] == 2017), 'amount'].values[0]\n",
    "SOUTH_TOTAL_2020 = regionwise_expenditure_totals.loc[(regionwise_expenditure_totals['region'] == 'South') & (regionwise_expenditure_totals['year'] == 2020), 'amount'].values[0]\n",
    "\n",
    "SOUTH_DIFF_2014_2016 = SOUTH_TOTAL_2016 - SOUTH_TOTAL_2014\n",
    "SOUTH_DIFF_2017_2020 = SOUTH_TOTAL_2020 - SOUTH_TOTAL_2017\n",
    "\n",
    "SOUTH_PERCENT_DIFF_2014_2016 = utils.calculate_percentage_difference(SOUTH_TOTAL_2014, SOUTH_TOTAL_2016)\n",
    "SOUTH_MEAN_GROWTH_2018_2020 = utils.calculate_mean_growth_rate(regionwise_expenditure_totals, start_year=2017, end_year=2020, region= 'South')\n",
    "\n",
    "print(f'The South saw its greatest spike in spending betweeen 2014 and 2016, resulting in a {SOUTH_PERCENT_DIFF_2014_2016:.2f}% increase, with a total difference of ${SOUTH_DIFF_2014_2016}.')\n",
    "print(f'2017 to 2020 saw a mean growth rate of {SOUTH_MEAN_GROWTH_2018_2020:.2f}%, resulting in a ${SOUTH_DIFF_2017_2020} increase.')"
   ]
  },
  {
   "cell_type": "markdown",
   "metadata": {},
   "source": [
    "#### West Calculations"
   ]
  },
  {
   "cell_type": "code",
   "execution_count": 22,
   "metadata": {},
   "outputs": [
    {
     "name": "stdout",
     "output_type": "stream",
     "text": [
      "Between 2010 and 2014, the West had minimal growth in expenditures. This resulted in a mean growth rate of 4.03% and a total difference of $90167000.0.\n",
      "Their first major spike in spending began in 2015 and continued to grow at an elevated rate, totaling in a 137.92% increase from 2014 to 2017 and a total difference of $900016000.0.\n",
      "Despite their spending growth slowing between 2018 and 2019, they still maintained a mean growth rate of 11.37% between 2018 and 2020, resulting in an overall 25.73% increase and a difference of $434278000.0.\n"
     ]
    }
   ],
   "source": [
    "WEST_TOTAL_2010 = regionwise_expenditure_totals.loc[(regionwise_expenditure_totals['region'] == 'West') & (regionwise_expenditure_totals['year'] == 2010), 'amount'].values[0]\n",
    "WEST_TOTAL_2014 = regionwise_expenditure_totals.loc[(regionwise_expenditure_totals['region'] == 'West') & (regionwise_expenditure_totals['year'] == 2014), 'amount'].values[0]\n",
    "WEST_TOTAL_2017 = regionwise_expenditure_totals.loc[(regionwise_expenditure_totals['region'] == 'West') & (regionwise_expenditure_totals['year'] == 2017), 'amount'].values[0]\n",
    "WEST_TOTAL_2018 = regionwise_expenditure_totals.loc[(regionwise_expenditure_totals['region'] == 'West') & (regionwise_expenditure_totals['year'] == 2018), 'amount'].values[0]\n",
    "WEST_TOTAL_2020 = regionwise_expenditure_totals.loc[(regionwise_expenditure_totals['region'] == 'West') & (regionwise_expenditure_totals['year'] == 2020), 'amount'].values[0]\n",
    "\n",
    "WEST_DIFF_2010_2014 = WEST_TOTAL_2014 - WEST_TOTAL_2010\n",
    "WEST_DIFF_2014_2017 = WEST_TOTAL_2017 - WEST_TOTAL_2014\n",
    "WEST_DIFF_2018_2020 = WEST_TOTAL_2020 - WEST_TOTAL_2018\n",
    "\n",
    "WEST_PERCENT_DIFF_2014_2017 = utils.calculate_percentage_difference(WEST_TOTAL_2014, WEST_TOTAL_2017)\n",
    "WEST_PERCENT_DIFF_2018_2020 = utils.calculate_percentage_difference(WEST_TOTAL_2018, WEST_TOTAL_2020)\n",
    "WEST_MEAN_GROWTH_2010_2014 = utils.calculate_mean_growth_rate(regionwise_expenditure_totals, start_year=2010, end_year=2014, region= 'West')\n",
    "WEST_MEAN_GROWTH_2018_2020 = utils.calculate_mean_growth_rate(regionwise_expenditure_totals, start_year=2018, end_year=2020, region= 'West')\n",
    "\n",
    "print(f'Between 2010 and 2014, the West had minimal growth in expenditures. This resulted in a mean growth rate of {WEST_MEAN_GROWTH_2010_2014:.2f}% and a total difference of ${WEST_DIFF_2010_2014}.')\n",
    "print(f'Their first major spike in spending began in 2015 and continued to grow at an elevated rate, totaling in a {WEST_PERCENT_DIFF_2014_2017:.2f}% increase from 2014 to 2017 and a total difference of ${WEST_DIFF_2014_2017}.')\n",
    "print(f'Despite their spending growth slowing between 2018 and 2019, they still maintained a mean growth rate of {WEST_MEAN_GROWTH_2018_2020:.2f}% between 2018 and 2020, resulting in an overall {WEST_PERCENT_DIFF_2018_2020:.2f}% increase and a difference of ${WEST_DIFF_2018_2020}.')"
   ]
  },
  {
   "cell_type": "markdown",
   "metadata": {},
   "source": [
    "### Expenditure Visualizations"
   ]
  },
  {
   "cell_type": "code",
   "execution_count": 23,
   "metadata": {},
   "outputs": [
    {
     "data": {
      "application/vnd.plotly.v1+json": {
       "config": {
        "plotlyServerURL": "https://plot.ly"
       },
       "data": [
        {
         "hovertemplate": "year=%{x}<br>amount=%{y}<extra></extra>",
         "legendgroup": "",
         "line": {
          "color": "#636efa",
          "dash": "solid"
         },
         "marker": {
          "symbol": "circle"
         },
         "mode": "lines",
         "name": "",
         "orientation": "v",
         "showlegend": false,
         "type": "scatter",
         "x": [
          2010,
          2011,
          2012,
          2013,
          2014,
          2015,
          2016,
          2017,
          2018,
          2019,
          2020
         ],
         "xaxis": "x",
         "y": [
          4269554000,
          4359258000,
          4899872000,
          4958659000,
          5264175000,
          6641459000,
          9614528000,
          10518264000,
          12008610000,
          12979716000,
          14318810000
         ],
         "yaxis": "y"
        },
        {
         "customdata": [
          [
           null,
           null
          ],
          [
           59848000,
           6.691054147362396
          ],
          [
           -36260000,
           -3.7996596443870656
          ],
          [
           -11708000,
           -1.2753312506263326
          ],
          [
           -14499000,
           -1.5997519661756
          ],
          [
           135310000,
           15.17219108147414
          ],
          [
           905298000,
           88.13782749949131
          ],
          [
           195628000,
           10.12338306501066
          ],
          [
           398825000,
           18.741203863603783
          ],
          [
           365514000,
           14.464974731784919
          ],
          [
           -64726000,
           -2.2377925075473537
          ]
         ],
         "hovertemplate": "region=Midwest<br>year=%{x}<br>amount=%{y}<br>yearly_difference=%{customdata[0]:.2f}<br>growth_rate=%{customdata[1]:.2f}<extra></extra>",
         "legendgroup": "Midwest",
         "line": {
          "color": "#636efa",
          "dash": "solid"
         },
         "marker": {
          "symbol": "circle"
         },
         "mode": "lines",
         "name": "Midwest",
         "orientation": "v",
         "showlegend": true,
         "type": "scatter",
         "x": [
          2010,
          2011,
          2012,
          2013,
          2014,
          2015,
          2016,
          2017,
          2018,
          2019,
          2020
         ],
         "xaxis": "x2",
         "y": [
          894448000,
          954296000,
          918036000,
          906328000,
          891829000,
          1027139000,
          1932437000,
          2128065000,
          2526890000,
          2892404000,
          2827678000
         ],
         "yaxis": "y2"
        },
        {
         "customdata": [
          [
           null,
           null
          ],
          [
           47878000,
           4.226966133418086
          ],
          [
           -16772000,
           -1.420684117171711
          ],
          [
           -7969000,
           -0.6847478832018972
          ],
          [
           231161000,
           19.999792354672064
          ],
          [
           5957000,
           0.4294949162856332
          ],
          [
           372301000,
           26.727808548137567
          ],
          [
           246113000,
           13.94221509191973
          ],
          [
           112457000,
           5.591123171562962
          ],
          [
           136584000,
           6.431095872221859
          ],
          [
           294615000,
           13.03381274912736
          ]
         ],
         "hovertemplate": "region=Northeast<br>year=%{x}<br>amount=%{y}<br>yearly_difference=%{customdata[0]:.2f}<br>growth_rate=%{customdata[1]:.2f}<extra></extra>",
         "legendgroup": "Northeast",
         "line": {
          "color": "#EF553B",
          "dash": "solid"
         },
         "marker": {
          "symbol": "circle"
         },
         "mode": "lines",
         "name": "Northeast",
         "orientation": "v",
         "showlegend": true,
         "type": "scatter",
         "x": [
          2010,
          2011,
          2012,
          2013,
          2014,
          2015,
          2016,
          2017,
          2018,
          2019,
          2020
         ],
         "xaxis": "x2",
         "y": [
          1132680000,
          1180558000,
          1163786000,
          1155817000,
          1386978000,
          1392935000,
          1765236000,
          2011349000,
          2123806000,
          2260390000,
          2555005000
         ],
         "yaxis": "y2"
        },
        {
         "customdata": [
          [
           null,
           null
          ],
          [
           -4789000,
           -0.2850527368395972
          ],
          [
           609163000,
           36.36249135204217
          ],
          [
           899000,
           0.03935363730040997
          ],
          [
           47502000,
           2.078577420248351
          ],
          [
           905230000,
           38.80419150254093
          ],
          [
           1420848000,
           43.87981019411404
          ],
          [
           167388000,
           3.592870666915937
          ],
          [
           843723000,
           17.481845752454106
          ],
          [
           445335000,
           7.854227263331737
          ],
          [
           698600000,
           11.423733009731762
          ]
         ],
         "hovertemplate": "region=South<br>year=%{x}<br>amount=%{y}<br>yearly_difference=%{customdata[0]:.2f}<br>growth_rate=%{customdata[1]:.2f}<extra></extra>",
         "legendgroup": "South",
         "line": {
          "color": "#00cc96",
          "dash": "solid"
         },
         "marker": {
          "symbol": "circle"
         },
         "mode": "lines",
         "name": "South",
         "orientation": "v",
         "showlegend": true,
         "type": "scatter",
         "x": [
          2010,
          2011,
          2012,
          2013,
          2014,
          2015,
          2016,
          2017,
          2018,
          2019,
          2020
         ],
         "xaxis": "x2",
         "y": [
          1680040000,
          1675251000,
          2284414000,
          2285313000,
          2332815000,
          3238045000,
          4658893000,
          4826281000,
          5670004000,
          6115339000,
          6813939000
         ],
         "yaxis": "y2"
        },
        {
         "customdata": [
          [
           null,
           null
          ],
          [
           -13233000,
           -2.3530102100692396
          ],
          [
           -15517000,
           -2.825624188523057
          ],
          [
           77565000,
           14.535188780367147
          ],
          [
           41352000,
           6.765695736754362
          ],
          [
           330787000,
           50.69120822369983
          ],
          [
           274622000,
           27.92747167815812
          ],
          [
           294607000,
           23.419387867042097
          ],
          [
           135341000,
           8.717229314767971
          ],
          [
           23673000,
           1.4025036879928399
          ],
          [
           410605000,
           23.98978022100009
          ]
         ],
         "hovertemplate": "region=West<br>year=%{x}<br>amount=%{y}<br>yearly_difference=%{customdata[0]:.2f}<br>growth_rate=%{customdata[1]:.2f}<extra></extra>",
         "legendgroup": "West",
         "line": {
          "color": "#ab63fa",
          "dash": "solid"
         },
         "marker": {
          "symbol": "circle"
         },
         "mode": "lines",
         "name": "West",
         "orientation": "v",
         "showlegend": true,
         "type": "scatter",
         "x": [
          2010,
          2011,
          2012,
          2013,
          2014,
          2015,
          2016,
          2017,
          2018,
          2019,
          2020
         ],
         "xaxis": "x2",
         "y": [
          562386000,
          549153000,
          533636000,
          611201000,
          652553000,
          983340000,
          1257962000,
          1552569000,
          1687910000,
          1711583000,
          2122188000
         ],
         "yaxis": "y2"
        }
       ],
       "layout": {
        "annotations": [
         {
          "font": {
           "size": 16
          },
          "showarrow": false,
          "text": "National",
          "x": 0.225,
          "xanchor": "center",
          "xref": "paper",
          "y": 1,
          "yanchor": "bottom",
          "yref": "paper"
         },
         {
          "font": {
           "size": 16
          },
          "showarrow": false,
          "text": "Regional",
          "x": 0.775,
          "xanchor": "center",
          "xref": "paper",
          "y": 1,
          "yanchor": "bottom",
          "yref": "paper"
         }
        ],
        "height": 600,
        "hoverlabel": {
         "bgcolor": "white",
         "font": {
          "family": "Calibri",
          "size": 16
         }
        },
        "legend": {
         "orientation": "h",
         "x": 0.5,
         "xanchor": "center",
         "y": -0.3,
         "yanchor": "bottom"
        },
        "margin": {
         "b": 200,
         "l": 40,
         "r": 40,
         "t": 80
        },
        "template": {
         "data": {
          "bar": [
           {
            "error_x": {
             "color": "#2a3f5f"
            },
            "error_y": {
             "color": "#2a3f5f"
            },
            "marker": {
             "line": {
              "color": "#E5ECF6",
              "width": 0.5
             },
             "pattern": {
              "fillmode": "overlay",
              "size": 10,
              "solidity": 0.2
             }
            },
            "type": "bar"
           }
          ],
          "barpolar": [
           {
            "marker": {
             "line": {
              "color": "#E5ECF6",
              "width": 0.5
             },
             "pattern": {
              "fillmode": "overlay",
              "size": 10,
              "solidity": 0.2
             }
            },
            "type": "barpolar"
           }
          ],
          "carpet": [
           {
            "aaxis": {
             "endlinecolor": "#2a3f5f",
             "gridcolor": "white",
             "linecolor": "white",
             "minorgridcolor": "white",
             "startlinecolor": "#2a3f5f"
            },
            "baxis": {
             "endlinecolor": "#2a3f5f",
             "gridcolor": "white",
             "linecolor": "white",
             "minorgridcolor": "white",
             "startlinecolor": "#2a3f5f"
            },
            "type": "carpet"
           }
          ],
          "choropleth": [
           {
            "colorbar": {
             "outlinewidth": 0,
             "ticks": ""
            },
            "type": "choropleth"
           }
          ],
          "contour": [
           {
            "colorbar": {
             "outlinewidth": 0,
             "ticks": ""
            },
            "colorscale": [
             [
              0,
              "#0d0887"
             ],
             [
              0.1111111111111111,
              "#46039f"
             ],
             [
              0.2222222222222222,
              "#7201a8"
             ],
             [
              0.3333333333333333,
              "#9c179e"
             ],
             [
              0.4444444444444444,
              "#bd3786"
             ],
             [
              0.5555555555555556,
              "#d8576b"
             ],
             [
              0.6666666666666666,
              "#ed7953"
             ],
             [
              0.7777777777777778,
              "#fb9f3a"
             ],
             [
              0.8888888888888888,
              "#fdca26"
             ],
             [
              1,
              "#f0f921"
             ]
            ],
            "type": "contour"
           }
          ],
          "contourcarpet": [
           {
            "colorbar": {
             "outlinewidth": 0,
             "ticks": ""
            },
            "type": "contourcarpet"
           }
          ],
          "heatmap": [
           {
            "colorbar": {
             "outlinewidth": 0,
             "ticks": ""
            },
            "colorscale": [
             [
              0,
              "#0d0887"
             ],
             [
              0.1111111111111111,
              "#46039f"
             ],
             [
              0.2222222222222222,
              "#7201a8"
             ],
             [
              0.3333333333333333,
              "#9c179e"
             ],
             [
              0.4444444444444444,
              "#bd3786"
             ],
             [
              0.5555555555555556,
              "#d8576b"
             ],
             [
              0.6666666666666666,
              "#ed7953"
             ],
             [
              0.7777777777777778,
              "#fb9f3a"
             ],
             [
              0.8888888888888888,
              "#fdca26"
             ],
             [
              1,
              "#f0f921"
             ]
            ],
            "type": "heatmap"
           }
          ],
          "heatmapgl": [
           {
            "colorbar": {
             "outlinewidth": 0,
             "ticks": ""
            },
            "colorscale": [
             [
              0,
              "#0d0887"
             ],
             [
              0.1111111111111111,
              "#46039f"
             ],
             [
              0.2222222222222222,
              "#7201a8"
             ],
             [
              0.3333333333333333,
              "#9c179e"
             ],
             [
              0.4444444444444444,
              "#bd3786"
             ],
             [
              0.5555555555555556,
              "#d8576b"
             ],
             [
              0.6666666666666666,
              "#ed7953"
             ],
             [
              0.7777777777777778,
              "#fb9f3a"
             ],
             [
              0.8888888888888888,
              "#fdca26"
             ],
             [
              1,
              "#f0f921"
             ]
            ],
            "type": "heatmapgl"
           }
          ],
          "histogram": [
           {
            "marker": {
             "pattern": {
              "fillmode": "overlay",
              "size": 10,
              "solidity": 0.2
             }
            },
            "type": "histogram"
           }
          ],
          "histogram2d": [
           {
            "colorbar": {
             "outlinewidth": 0,
             "ticks": ""
            },
            "colorscale": [
             [
              0,
              "#0d0887"
             ],
             [
              0.1111111111111111,
              "#46039f"
             ],
             [
              0.2222222222222222,
              "#7201a8"
             ],
             [
              0.3333333333333333,
              "#9c179e"
             ],
             [
              0.4444444444444444,
              "#bd3786"
             ],
             [
              0.5555555555555556,
              "#d8576b"
             ],
             [
              0.6666666666666666,
              "#ed7953"
             ],
             [
              0.7777777777777778,
              "#fb9f3a"
             ],
             [
              0.8888888888888888,
              "#fdca26"
             ],
             [
              1,
              "#f0f921"
             ]
            ],
            "type": "histogram2d"
           }
          ],
          "histogram2dcontour": [
           {
            "colorbar": {
             "outlinewidth": 0,
             "ticks": ""
            },
            "colorscale": [
             [
              0,
              "#0d0887"
             ],
             [
              0.1111111111111111,
              "#46039f"
             ],
             [
              0.2222222222222222,
              "#7201a8"
             ],
             [
              0.3333333333333333,
              "#9c179e"
             ],
             [
              0.4444444444444444,
              "#bd3786"
             ],
             [
              0.5555555555555556,
              "#d8576b"
             ],
             [
              0.6666666666666666,
              "#ed7953"
             ],
             [
              0.7777777777777778,
              "#fb9f3a"
             ],
             [
              0.8888888888888888,
              "#fdca26"
             ],
             [
              1,
              "#f0f921"
             ]
            ],
            "type": "histogram2dcontour"
           }
          ],
          "mesh3d": [
           {
            "colorbar": {
             "outlinewidth": 0,
             "ticks": ""
            },
            "type": "mesh3d"
           }
          ],
          "parcoords": [
           {
            "line": {
             "colorbar": {
              "outlinewidth": 0,
              "ticks": ""
             }
            },
            "type": "parcoords"
           }
          ],
          "pie": [
           {
            "automargin": true,
            "type": "pie"
           }
          ],
          "scatter": [
           {
            "fillpattern": {
             "fillmode": "overlay",
             "size": 10,
             "solidity": 0.2
            },
            "type": "scatter"
           }
          ],
          "scatter3d": [
           {
            "line": {
             "colorbar": {
              "outlinewidth": 0,
              "ticks": ""
             }
            },
            "marker": {
             "colorbar": {
              "outlinewidth": 0,
              "ticks": ""
             }
            },
            "type": "scatter3d"
           }
          ],
          "scattercarpet": [
           {
            "marker": {
             "colorbar": {
              "outlinewidth": 0,
              "ticks": ""
             }
            },
            "type": "scattercarpet"
           }
          ],
          "scattergeo": [
           {
            "marker": {
             "colorbar": {
              "outlinewidth": 0,
              "ticks": ""
             }
            },
            "type": "scattergeo"
           }
          ],
          "scattergl": [
           {
            "marker": {
             "colorbar": {
              "outlinewidth": 0,
              "ticks": ""
             }
            },
            "type": "scattergl"
           }
          ],
          "scattermapbox": [
           {
            "marker": {
             "colorbar": {
              "outlinewidth": 0,
              "ticks": ""
             }
            },
            "type": "scattermapbox"
           }
          ],
          "scatterpolar": [
           {
            "marker": {
             "colorbar": {
              "outlinewidth": 0,
              "ticks": ""
             }
            },
            "type": "scatterpolar"
           }
          ],
          "scatterpolargl": [
           {
            "marker": {
             "colorbar": {
              "outlinewidth": 0,
              "ticks": ""
             }
            },
            "type": "scatterpolargl"
           }
          ],
          "scatterternary": [
           {
            "marker": {
             "colorbar": {
              "outlinewidth": 0,
              "ticks": ""
             }
            },
            "type": "scatterternary"
           }
          ],
          "surface": [
           {
            "colorbar": {
             "outlinewidth": 0,
             "ticks": ""
            },
            "colorscale": [
             [
              0,
              "#0d0887"
             ],
             [
              0.1111111111111111,
              "#46039f"
             ],
             [
              0.2222222222222222,
              "#7201a8"
             ],
             [
              0.3333333333333333,
              "#9c179e"
             ],
             [
              0.4444444444444444,
              "#bd3786"
             ],
             [
              0.5555555555555556,
              "#d8576b"
             ],
             [
              0.6666666666666666,
              "#ed7953"
             ],
             [
              0.7777777777777778,
              "#fb9f3a"
             ],
             [
              0.8888888888888888,
              "#fdca26"
             ],
             [
              1,
              "#f0f921"
             ]
            ],
            "type": "surface"
           }
          ],
          "table": [
           {
            "cells": {
             "fill": {
              "color": "#EBF0F8"
             },
             "line": {
              "color": "white"
             }
            },
            "header": {
             "fill": {
              "color": "#C8D4E3"
             },
             "line": {
              "color": "white"
             }
            },
            "type": "table"
           }
          ]
         },
         "layout": {
          "annotationdefaults": {
           "arrowcolor": "#2a3f5f",
           "arrowhead": 0,
           "arrowwidth": 1
          },
          "autotypenumbers": "strict",
          "coloraxis": {
           "colorbar": {
            "outlinewidth": 0,
            "ticks": ""
           }
          },
          "colorscale": {
           "diverging": [
            [
             0,
             "#8e0152"
            ],
            [
             0.1,
             "#c51b7d"
            ],
            [
             0.2,
             "#de77ae"
            ],
            [
             0.3,
             "#f1b6da"
            ],
            [
             0.4,
             "#fde0ef"
            ],
            [
             0.5,
             "#f7f7f7"
            ],
            [
             0.6,
             "#e6f5d0"
            ],
            [
             0.7,
             "#b8e186"
            ],
            [
             0.8,
             "#7fbc41"
            ],
            [
             0.9,
             "#4d9221"
            ],
            [
             1,
             "#276419"
            ]
           ],
           "sequential": [
            [
             0,
             "#0d0887"
            ],
            [
             0.1111111111111111,
             "#46039f"
            ],
            [
             0.2222222222222222,
             "#7201a8"
            ],
            [
             0.3333333333333333,
             "#9c179e"
            ],
            [
             0.4444444444444444,
             "#bd3786"
            ],
            [
             0.5555555555555556,
             "#d8576b"
            ],
            [
             0.6666666666666666,
             "#ed7953"
            ],
            [
             0.7777777777777778,
             "#fb9f3a"
            ],
            [
             0.8888888888888888,
             "#fdca26"
            ],
            [
             1,
             "#f0f921"
            ]
           ],
           "sequentialminus": [
            [
             0,
             "#0d0887"
            ],
            [
             0.1111111111111111,
             "#46039f"
            ],
            [
             0.2222222222222222,
             "#7201a8"
            ],
            [
             0.3333333333333333,
             "#9c179e"
            ],
            [
             0.4444444444444444,
             "#bd3786"
            ],
            [
             0.5555555555555556,
             "#d8576b"
            ],
            [
             0.6666666666666666,
             "#ed7953"
            ],
            [
             0.7777777777777778,
             "#fb9f3a"
            ],
            [
             0.8888888888888888,
             "#fdca26"
            ],
            [
             1,
             "#f0f921"
            ]
           ]
          },
          "colorway": [
           "#636efa",
           "#EF553B",
           "#00cc96",
           "#ab63fa",
           "#FFA15A",
           "#19d3f3",
           "#FF6692",
           "#B6E880",
           "#FF97FF",
           "#FECB52"
          ],
          "font": {
           "color": "#2a3f5f"
          },
          "geo": {
           "bgcolor": "white",
           "lakecolor": "white",
           "landcolor": "#E5ECF6",
           "showlakes": true,
           "showland": true,
           "subunitcolor": "white"
          },
          "hoverlabel": {
           "align": "left"
          },
          "hovermode": "closest",
          "mapbox": {
           "style": "light"
          },
          "paper_bgcolor": "white",
          "plot_bgcolor": "#E5ECF6",
          "polar": {
           "angularaxis": {
            "gridcolor": "white",
            "linecolor": "white",
            "ticks": ""
           },
           "bgcolor": "#E5ECF6",
           "radialaxis": {
            "gridcolor": "white",
            "linecolor": "white",
            "ticks": ""
           }
          },
          "scene": {
           "xaxis": {
            "backgroundcolor": "#E5ECF6",
            "gridcolor": "white",
            "gridwidth": 2,
            "linecolor": "white",
            "showbackground": true,
            "ticks": "",
            "zerolinecolor": "white"
           },
           "yaxis": {
            "backgroundcolor": "#E5ECF6",
            "gridcolor": "white",
            "gridwidth": 2,
            "linecolor": "white",
            "showbackground": true,
            "ticks": "",
            "zerolinecolor": "white"
           },
           "zaxis": {
            "backgroundcolor": "#E5ECF6",
            "gridcolor": "white",
            "gridwidth": 2,
            "linecolor": "white",
            "showbackground": true,
            "ticks": "",
            "zerolinecolor": "white"
           }
          },
          "shapedefaults": {
           "line": {
            "color": "#2a3f5f"
           }
          },
          "ternary": {
           "aaxis": {
            "gridcolor": "white",
            "linecolor": "white",
            "ticks": ""
           },
           "baxis": {
            "gridcolor": "white",
            "linecolor": "white",
            "ticks": ""
           },
           "bgcolor": "#E5ECF6",
           "caxis": {
            "gridcolor": "white",
            "linecolor": "white",
            "ticks": ""
           }
          },
          "title": {
           "x": 0.05
          },
          "xaxis": {
           "automargin": true,
           "gridcolor": "white",
           "linecolor": "white",
           "ticks": "",
           "title": {
            "standoff": 15
           },
           "zerolinecolor": "white",
           "zerolinewidth": 2
          },
          "yaxis": {
           "automargin": true,
           "gridcolor": "white",
           "linecolor": "white",
           "ticks": "",
           "title": {
            "standoff": 15
           },
           "zerolinecolor": "white",
           "zerolinewidth": 2
          }
         }
        },
        "title": {
         "text": "National vs Regionwise Tech & Vocational Education Trends",
         "x": 0.5,
         "xanchor": "center",
         "y": 0.98,
         "yanchor": "top"
        },
        "width": 1050,
        "xaxis": {
         "anchor": "y",
         "domain": [
          0,
          0.45
         ]
        },
        "xaxis2": {
         "anchor": "y2",
         "domain": [
          0.55,
          1
         ]
        },
        "yaxis": {
         "anchor": "x",
         "domain": [
          0,
          1
         ]
        },
        "yaxis2": {
         "anchor": "x2",
         "domain": [
          0,
          1
         ]
        }
       }
      }
     },
     "metadata": {},
     "output_type": "display_data"
    }
   ],
   "source": [
    "tech_vocational_line_charts_combined = utils.create_combined_figure(national_totals_line,\n",
    "                                                                    regionwise_totals_line,\n",
    "                                                                    title= 'National vs Regionwise Tech & Vocational Education Trends',\n",
    "                                                                    subplot_titles=('National', 'Regional')\n",
    "                                                                    )\n",
    "\n",
    "tech_vocational_line_charts_combined.show()"
   ]
  },
  {
   "cell_type": "markdown",
   "metadata": {},
   "source": [
    "### Notes:\n",
    "\n",
    "**National Expenditures Over Time:**  \n",
    "- There is a steady positive growth in Tech and Vocational expenditures from 2010 to 2014.\n",
    "- In 2014, there is a sharp increase in expenditures ending in 2016.\n",
    "- In 2016, expenditures appear to steady.\n",
    "- Positive growth is visible throughout. \n",
    "- Difference between 2014 & 2016: $ 4,350,353,000  \n",
    "- Percent difference between 2014 & 2016: 82.64% \n",
    "\n",
    "**Regional Expenditures Over Time:**  \n",
    "\n",
    "**Midwest**  \n",
    "- The Midwest had minimal growth between 2010 and 2015, resulting in a 14.83% increase and an average growth rate of 3.04%. \n",
    "    - Total Difference: $132.69M  \n",
    "\n",
    "- 2016 saw a 88.14% increase from 2015.\n",
    "\n",
    "- 2016 to 2019 saw a mean growth rate of 32.87%, resulting in a $959.98M increase.  \n",
    "- 2020 saw a -2.24% decrease from 2019, likely due to impacts from the COVID-19 pandemic.\n",
    "\n",
    "**Northeast**  \n",
    "- The Northeast had minimal growth between 2010 and 2013, resulting in a mean growth rate of 0.71%.  \n",
    "    - Total difference: $23.14M  \n",
    "\n",
    "- They saw their first spike in expenditures in 2014, up 20% from 2013. \n",
    "- Between 2013 and 2015, their mean growth rate increased to 6.58%.\n",
    "- Despite their spending growth slowing after this initial spike, they maintained a fairly constant rate from 2015 to 2020, with a mean growth rate of 11.03%\n",
    "    - Total Difference: $1.16B\n",
    "\n",
    "**South**  \n",
    "- The South saw its greatest spike in spending betweeen 2014 and 2016, resulting in a 99.71% increase.  \n",
    "    - Total Difference: $2,33B  \n",
    "\n",
    "- Their growth rate in 2017 slowed to 3.59% from 2016. \n",
    "- Despite the decreased growth rate in 2017, they had another spike in 2018, resulting in a 17.48% increase.\n",
    "- 2017 to 2020 saw a mean growth rate of 10.09%, resulting in a $1.99B increase.\n",
    "- The South has the most impact to the national trend between 2010 and 2020, which can be seen in the side by side chart comparison above. \n",
    "\n",
    "**West**  \n",
    "- Between 2010 and 2014, the West had minimal growth in expenditures. This resulted in a mean growth rate of 4.03%. \n",
    "    - Total Difference: $90.17M  \n",
    "\n",
    "- Their first major spike in spending began in 2015 and continued at an elevated rate, totaling in a 137.92% increase from 2014 to 2017. \n",
    "    - Total Difference: $9M  \n",
    "\n",
    "- Despite their spending growth slowing between 2018 and 2019, they still maintained a mean growth rate of 11.37% between 2018 and 2020, resulting in an overall 25.73% increase.\n",
    "    - Total Difference: $434.28M\n",
    "\n",
    "#### Noteworthy Event in 2015:\n",
    "\n",
    "The **Every Student Succeeds Act (ESSA)**, enacted in 2015, marked the transition from the **No Child Left Behind Act (NCLB)** and likely impacted educational spending trends. Both **NCLB** and **ESSA** were centered on standards-based education reform, emphasizing accountability and federal funding distribution across various educational domains. However, their primary focus wasn't explicitly geared toward technology and vocational education allocations. Despite lacking specific dedicated funding, their broader influence on education funding, accountability measures, and state discretion might have indirectly affected these areas."
   ]
  },
  {
   "cell_type": "code",
   "execution_count": 24,
   "metadata": {},
   "outputs": [],
   "source": [
    "regionwise_tech_vocational_expenditures.sort_values(by=['region', 'expenditure_title', 'year'], inplace=True)\n",
    "\n",
    "# Calculate the year-to-year difference and growth rate by region and expenditure title\n",
    "regionwise_tech_vocational_expenditures['yearly_difference'] = regionwise_tech_vocational_expenditures.groupby(['region', 'expenditure_title'])['amount'].diff()\n",
    "regionwise_tech_vocational_expenditures['growth_rate'] = regionwise_tech_vocational_expenditures.groupby(['region', 'expenditure_title'])['amount'].pct_change() * 100"
   ]
  },
  {
   "cell_type": "code",
   "execution_count": 25,
   "metadata": {},
   "outputs": [
    {
     "name": "stdout",
     "output_type": "stream",
     "text": [
      "Teacher Salaries - Vocational Education Mean Growth Rate 2010 to 2020: 2.54%\n"
     ]
    }
   ],
   "source": [
    "MIDWEST_TEACHER_SALARIES_MEAN_GROWTH = utils.calculate_mean_growth_rate(regionwise_tech_vocational_expenditures,\n",
    "                                                                        2010, 2020,\n",
    "                                                                        expenditure_title= 'teacher_salaries_vocational_education',\n",
    "                                                                        region= 'Midwest')\n",
    "\n",
    "print(f'Teacher Salaries - Vocational Education Mean Growth Rate 2010 to 2020: {MIDWEST_TEACHER_SALARIES_MEAN_GROWTH:.2f}%')"
   ]
  },
  {
   "cell_type": "code",
   "execution_count": 28,
   "metadata": {},
   "outputs": [
    {
     "data": {
      "application/vnd.plotly.v1+json": {
       "config": {
        "plotlyServerURL": "https://plot.ly"
       },
       "data": [
        {
         "customdata": [
          [
           null,
           null
          ]
         ],
         "hovertemplate": "expenditure_title=cares_act_expenditure_tech_related_equipment<br>region=Midwest<br>year=%{x}<br>amount=%{y}<br>yearly_difference=%{customdata[0]}<br>growth_rate=%{customdata[1]}<extra></extra>",
         "legendgroup": "cares_act_expenditure_tech_related_equipment",
         "line": {
          "color": "#636efa",
          "dash": "solid"
         },
         "marker": {
          "symbol": "circle"
         },
         "mode": "lines",
         "name": "cares_act_expenditure_tech_related_equipment",
         "orientation": "v",
         "showlegend": true,
         "type": "scatter",
         "x": [
          2020
         ],
         "xaxis": "x3",
         "y": [
          8464000
         ],
         "yaxis": "y3"
        },
        {
         "customdata": [
          [
           null,
           null
          ]
         ],
         "hovertemplate": "expenditure_title=cares_act_expenditure_tech_related_equipment<br>region=Northeast<br>year=%{x}<br>amount=%{y}<br>yearly_difference=%{customdata[0]}<br>growth_rate=%{customdata[1]}<extra></extra>",
         "legendgroup": "cares_act_expenditure_tech_related_equipment",
         "line": {
          "color": "#636efa",
          "dash": "solid"
         },
         "marker": {
          "symbol": "circle"
         },
         "mode": "lines",
         "name": "cares_act_expenditure_tech_related_equipment",
         "orientation": "v",
         "showlegend": false,
         "type": "scatter",
         "x": [
          2020
         ],
         "xaxis": "x4",
         "y": [
          5341000
         ],
         "yaxis": "y4"
        },
        {
         "customdata": [
          [
           null,
           null
          ]
         ],
         "hovertemplate": "expenditure_title=cares_act_expenditure_tech_related_equipment<br>region=South<br>year=%{x}<br>amount=%{y}<br>yearly_difference=%{customdata[0]}<br>growth_rate=%{customdata[1]}<extra></extra>",
         "legendgroup": "cares_act_expenditure_tech_related_equipment",
         "line": {
          "color": "#636efa",
          "dash": "solid"
         },
         "marker": {
          "symbol": "circle"
         },
         "mode": "lines",
         "name": "cares_act_expenditure_tech_related_equipment",
         "orientation": "v",
         "showlegend": false,
         "type": "scatter",
         "x": [
          2020
         ],
         "xaxis": "x",
         "y": [
          6745000
         ],
         "yaxis": "y"
        },
        {
         "customdata": [
          [
           null,
           null
          ]
         ],
         "hovertemplate": "expenditure_title=cares_act_expenditure_tech_related_equipment<br>region=West<br>year=%{x}<br>amount=%{y}<br>yearly_difference=%{customdata[0]}<br>growth_rate=%{customdata[1]}<extra></extra>",
         "legendgroup": "cares_act_expenditure_tech_related_equipment",
         "line": {
          "color": "#636efa",
          "dash": "solid"
         },
         "marker": {
          "symbol": "circle"
         },
         "mode": "lines",
         "name": "cares_act_expenditure_tech_related_equipment",
         "orientation": "v",
         "showlegend": false,
         "type": "scatter",
         "x": [
          2020
         ],
         "xaxis": "x2",
         "y": [
          5023000
         ],
         "yaxis": "y2"
        },
        {
         "customdata": [
          [
           null,
           null
          ]
         ],
         "hovertemplate": "expenditure_title=cares_act_expenditure_tech_related_supplies_services<br>region=Midwest<br>year=%{x}<br>amount=%{y}<br>yearly_difference=%{customdata[0]}<br>growth_rate=%{customdata[1]}<extra></extra>",
         "legendgroup": "cares_act_expenditure_tech_related_supplies_services",
         "line": {
          "color": "#EF553B",
          "dash": "solid"
         },
         "marker": {
          "symbol": "circle"
         },
         "mode": "lines",
         "name": "cares_act_expenditure_tech_related_supplies_services",
         "orientation": "v",
         "showlegend": true,
         "type": "scatter",
         "x": [
          2020
         ],
         "xaxis": "x3",
         "y": [
          11675000
         ],
         "yaxis": "y3"
        },
        {
         "customdata": [
          [
           null,
           null
          ]
         ],
         "hovertemplate": "expenditure_title=cares_act_expenditure_tech_related_supplies_services<br>region=Northeast<br>year=%{x}<br>amount=%{y}<br>yearly_difference=%{customdata[0]}<br>growth_rate=%{customdata[1]}<extra></extra>",
         "legendgroup": "cares_act_expenditure_tech_related_supplies_services",
         "line": {
          "color": "#EF553B",
          "dash": "solid"
         },
         "marker": {
          "symbol": "circle"
         },
         "mode": "lines",
         "name": "cares_act_expenditure_tech_related_supplies_services",
         "orientation": "v",
         "showlegend": false,
         "type": "scatter",
         "x": [
          2020
         ],
         "xaxis": "x4",
         "y": [
          15207000
         ],
         "yaxis": "y4"
        },
        {
         "customdata": [
          [
           null,
           null
          ]
         ],
         "hovertemplate": "expenditure_title=cares_act_expenditure_tech_related_supplies_services<br>region=South<br>year=%{x}<br>amount=%{y}<br>yearly_difference=%{customdata[0]}<br>growth_rate=%{customdata[1]}<extra></extra>",
         "legendgroup": "cares_act_expenditure_tech_related_supplies_services",
         "line": {
          "color": "#EF553B",
          "dash": "solid"
         },
         "marker": {
          "symbol": "circle"
         },
         "mode": "lines",
         "name": "cares_act_expenditure_tech_related_supplies_services",
         "orientation": "v",
         "showlegend": false,
         "type": "scatter",
         "x": [
          2020
         ],
         "xaxis": "x",
         "y": [
          88297000
         ],
         "yaxis": "y"
        },
        {
         "customdata": [
          [
           null,
           null
          ]
         ],
         "hovertemplate": "expenditure_title=cares_act_expenditure_tech_related_supplies_services<br>region=West<br>year=%{x}<br>amount=%{y}<br>yearly_difference=%{customdata[0]}<br>growth_rate=%{customdata[1]}<extra></extra>",
         "legendgroup": "cares_act_expenditure_tech_related_supplies_services",
         "line": {
          "color": "#EF553B",
          "dash": "solid"
         },
         "marker": {
          "symbol": "circle"
         },
         "mode": "lines",
         "name": "cares_act_expenditure_tech_related_supplies_services",
         "orientation": "v",
         "showlegend": false,
         "type": "scatter",
         "x": [
          2020
         ],
         "xaxis": "x2",
         "y": [
          15098000
         ],
         "yaxis": "y2"
        },
        {
         "customdata": [
          [
           null,
           null
          ],
          [
           59848000,
           6.691054147362396
          ],
          [
           -36260000,
           -3.7996596443870656
          ],
          [
           -11708000,
           -1.2753312506263326
          ],
          [
           -14499000,
           -1.5997519661756
          ],
          [
           13524000,
           1.5164342043149537
          ],
          [
           6131000,
           0.6771944202979441
          ],
          [
           30842000,
           3.3837127146499446
          ],
          [
           111341000,
           11.815550032578969
          ],
          [
           53191000,
           5.048179358374139
          ],
          [
           32606000,
           2.9458159944636186
          ]
         ],
         "hovertemplate": "expenditure_title=teacher_salaries_vocational_education<br>region=Midwest<br>year=%{x}<br>amount=%{y}<br>yearly_difference=%{customdata[0]}<br>growth_rate=%{customdata[1]}<extra></extra>",
         "legendgroup": "teacher_salaries_vocational_education",
         "line": {
          "color": "#00cc96",
          "dash": "solid"
         },
         "marker": {
          "symbol": "circle"
         },
         "mode": "lines",
         "name": "teacher_salaries_vocational_education",
         "orientation": "v",
         "showlegend": true,
         "type": "scatter",
         "x": [
          2010,
          2011,
          2012,
          2013,
          2014,
          2015,
          2016,
          2017,
          2018,
          2019,
          2020
         ],
         "xaxis": "x3",
         "y": [
          894448000,
          954296000,
          918036000,
          906328000,
          891829000,
          905353000,
          911484000,
          942326000,
          1053667000,
          1106858000,
          1139464000
         ],
         "yaxis": "y3"
        },
        {
         "customdata": [
          [
           null,
           null
          ],
          [
           47878000,
           4.226966133418086
          ],
          [
           -16772000,
           -1.420684117171711
          ],
          [
           -7969000,
           -0.6847478832018972
          ],
          [
           231161000,
           19.999792354672064
          ],
          [
           -36115000,
           -2.603862498179499
          ],
          [
           142487000,
           10.547849781954199
          ],
          [
           32399000,
           2.169551679110726
          ],
          [
           -11861000,
           -0.7773886792650675
          ],
          [
           99110000,
           6.546719440275628
          ],
          [
           85505000,
           5.3009985133273485
          ]
         ],
         "hovertemplate": "expenditure_title=teacher_salaries_vocational_education<br>region=Northeast<br>year=%{x}<br>amount=%{y}<br>yearly_difference=%{customdata[0]}<br>growth_rate=%{customdata[1]}<extra></extra>",
         "legendgroup": "teacher_salaries_vocational_education",
         "line": {
          "color": "#00cc96",
          "dash": "solid"
         },
         "marker": {
          "symbol": "circle"
         },
         "mode": "lines",
         "name": "teacher_salaries_vocational_education",
         "orientation": "v",
         "showlegend": false,
         "type": "scatter",
         "x": [
          2010,
          2011,
          2012,
          2013,
          2014,
          2015,
          2016,
          2017,
          2018,
          2019,
          2020
         ],
         "xaxis": "x4",
         "y": [
          1132680000,
          1180558000,
          1163786000,
          1155817000,
          1386978000,
          1350863000,
          1493350000,
          1525749000,
          1513888000,
          1612998000,
          1698503000
         ],
         "yaxis": "y4"
        },
        {
         "customdata": [
          [
           null,
           null
          ],
          [
           -4789000,
           -0.2850527368395972
          ],
          [
           609163000,
           36.36249135204217
          ],
          [
           899000,
           0.03935363730040997
          ],
          [
           47502000,
           2.078577420248351
          ],
          [
           86785000,
           3.720183555061163
          ],
          [
           58588000,
           2.4213919656141503
          ],
          [
           71536000,
           2.8866252277873983
          ],
          [
           84013000,
           3.2949840845518885
          ],
          [
           85728000,
           3.2549947090389164
          ],
          [
           157895000,
           5.806105244965454
          ]
         ],
         "hovertemplate": "expenditure_title=teacher_salaries_vocational_education<br>region=South<br>year=%{x}<br>amount=%{y}<br>yearly_difference=%{customdata[0]}<br>growth_rate=%{customdata[1]}<extra></extra>",
         "legendgroup": "teacher_salaries_vocational_education",
         "line": {
          "color": "#00cc96",
          "dash": "solid"
         },
         "marker": {
          "symbol": "circle"
         },
         "mode": "lines",
         "name": "teacher_salaries_vocational_education",
         "orientation": "v",
         "showlegend": false,
         "type": "scatter",
         "x": [
          2010,
          2011,
          2012,
          2013,
          2014,
          2015,
          2016,
          2017,
          2018,
          2019,
          2020
         ],
         "xaxis": "x",
         "y": [
          1680040000,
          1675251000,
          2284414000,
          2285313000,
          2332815000,
          2419600000,
          2478188000,
          2549724000,
          2633737000,
          2719465000,
          2877360000
         ],
         "yaxis": "y"
        },
        {
         "customdata": [
          [
           null,
           null
          ],
          [
           -13233000,
           -2.3530102100692396
          ],
          [
           -15517000,
           -2.825624188523057
          ],
          [
           77565000,
           14.535188780367147
          ],
          [
           41352000,
           6.765695736754362
          ],
          [
           28220000,
           4.324552948189653
          ],
          [
           123614000,
           18.157888165364966
          ],
          [
           119950000,
           14.91197644914699
          ],
          [
           17278000,
           1.8692316763258443
          ],
          [
           42787000,
           4.544001529287445
          ],
          [
           89090000,
           9.050164465330223
          ]
         ],
         "hovertemplate": "expenditure_title=teacher_salaries_vocational_education<br>region=West<br>year=%{x}<br>amount=%{y}<br>yearly_difference=%{customdata[0]}<br>growth_rate=%{customdata[1]}<extra></extra>",
         "legendgroup": "teacher_salaries_vocational_education",
         "line": {
          "color": "#00cc96",
          "dash": "solid"
         },
         "marker": {
          "symbol": "circle"
         },
         "mode": "lines",
         "name": "teacher_salaries_vocational_education",
         "orientation": "v",
         "showlegend": false,
         "type": "scatter",
         "x": [
          2010,
          2011,
          2012,
          2013,
          2014,
          2015,
          2016,
          2017,
          2018,
          2019,
          2020
         ],
         "xaxis": "x2",
         "y": [
          562386000,
          549153000,
          533636000,
          611201000,
          652553000,
          680773000,
          804387000,
          924337000,
          941615000,
          984402000,
          1073492000
         ],
         "yaxis": "y2"
        },
        {
         "customdata": [
          [
           null,
           null
          ],
          [
           290522000,
           428.32795199551805
          ],
          [
           -1495000,
           -0.4171910623442465
          ],
          [
           68299000,
           19.13919978478593
          ],
          [
           80227000,
           18.87014792321824
          ],
          [
           -187748000,
           -37.14986742649096
          ]
         ],
         "hovertemplate": "expenditure_title=tech_related_equipment<br>region=Midwest<br>year=%{x}<br>amount=%{y}<br>yearly_difference=%{customdata[0]}<br>growth_rate=%{customdata[1]}<extra></extra>",
         "legendgroup": "tech_related_equipment",
         "line": {
          "color": "#ab63fa",
          "dash": "solid"
         },
         "marker": {
          "symbol": "circle"
         },
         "mode": "lines",
         "name": "tech_related_equipment",
         "orientation": "v",
         "showlegend": true,
         "type": "scatter",
         "x": [
          2015,
          2016,
          2017,
          2018,
          2019,
          2020
         ],
         "xaxis": "x3",
         "y": [
          67827000,
          358349000,
          356854000,
          425153000,
          505380000,
          317632000
         ],
         "yaxis": "y3"
        },
        {
         "customdata": [
          [
           null,
           null
          ],
          [
           6950000,
           24.906823394495415
          ],
          [
           130950000,
           375.71010500946807
          ],
          [
           35269000,
           21.27150129068056
          ],
          [
           -1360000,
           -0.6763712681463918
          ],
          [
           29644000,
           14.843300135694726
          ]
         ],
         "hovertemplate": "expenditure_title=tech_related_equipment<br>region=Northeast<br>year=%{x}<br>amount=%{y}<br>yearly_difference=%{customdata[0]}<br>growth_rate=%{customdata[1]}<extra></extra>",
         "legendgroup": "tech_related_equipment",
         "line": {
          "color": "#ab63fa",
          "dash": "solid"
         },
         "marker": {
          "symbol": "circle"
         },
         "mode": "lines",
         "name": "tech_related_equipment",
         "orientation": "v",
         "showlegend": false,
         "type": "scatter",
         "x": [
          2015,
          2016,
          2017,
          2018,
          2019,
          2020
         ],
         "xaxis": "x4",
         "y": [
          27904000,
          34854000,
          165804000,
          201073000,
          199713000,
          229357000
         ],
         "yaxis": "y4"
        },
        {
         "customdata": [
          [
           null,
           null
          ],
          [
           152905000,
           63.25341077382578
          ],
          [
           -1540000,
           -0.39023005835713276
          ],
          [
           182263000,
           46.365673787010394
          ],
          [
           36613000,
           6.3634720402112155
          ],
          [
           -25691000,
           -4.198047305854002
          ]
         ],
         "hovertemplate": "expenditure_title=tech_related_equipment<br>region=South<br>year=%{x}<br>amount=%{y}<br>yearly_difference=%{customdata[0]}<br>growth_rate=%{customdata[1]}<extra></extra>",
         "legendgroup": "tech_related_equipment",
         "line": {
          "color": "#ab63fa",
          "dash": "solid"
         },
         "marker": {
          "symbol": "circle"
         },
         "mode": "lines",
         "name": "tech_related_equipment",
         "orientation": "v",
         "showlegend": false,
         "type": "scatter",
         "x": [
          2015,
          2016,
          2017,
          2018,
          2019,
          2020
         ],
         "xaxis": "x",
         "y": [
          241734000,
          394639000,
          393099000,
          575362000,
          611975000,
          586284000
         ],
         "yaxis": "y"
        },
        {
         "customdata": [
          [
           null,
           null
          ],
          [
           9907000,
           15.398364885448723
          ],
          [
           86473000,
           116.46979594585494
          ],
          [
           7094000,
           4.41394243333042
          ],
          [
           -23473000,
           -13.987676685815076
          ],
          [
           22882000,
           15.852957274194779
          ]
         ],
         "hovertemplate": "expenditure_title=tech_related_equipment<br>region=West<br>year=%{x}<br>amount=%{y}<br>yearly_difference=%{customdata[0]}<br>growth_rate=%{customdata[1]}<extra></extra>",
         "legendgroup": "tech_related_equipment",
         "line": {
          "color": "#ab63fa",
          "dash": "solid"
         },
         "marker": {
          "symbol": "circle"
         },
         "mode": "lines",
         "name": "tech_related_equipment",
         "orientation": "v",
         "showlegend": false,
         "type": "scatter",
         "x": [
          2015,
          2016,
          2017,
          2018,
          2019,
          2020
         ],
         "xaxis": "x2",
         "y": [
          64338000,
          74245000,
          160718000,
          167812000,
          144339000,
          167221000
         ],
         "yaxis": "y2"
        },
        {
         "customdata": [
          [
           null,
           null
          ],
          [
           608645000,
           1127.9767971978724
          ],
          [
           166281000,
           25.095079413948596
          ],
          [
           219185000,
           26.443354626998918
          ],
          [
           232096000,
           22.14508572900664
          ],
          [
           70277000,
           5.489678682295884
          ]
         ],
         "hovertemplate": "expenditure_title=tech_related_supplies_services<br>region=Midwest<br>year=%{x}<br>amount=%{y}<br>yearly_difference=%{customdata[0]}<br>growth_rate=%{customdata[1]}<extra></extra>",
         "legendgroup": "tech_related_supplies_services",
         "line": {
          "color": "#FFA15A",
          "dash": "solid"
         },
         "marker": {
          "symbol": "circle"
         },
         "mode": "lines",
         "name": "tech_related_supplies_services",
         "orientation": "v",
         "showlegend": true,
         "type": "scatter",
         "x": [
          2015,
          2016,
          2017,
          2018,
          2019,
          2020
         ],
         "xaxis": "x3",
         "y": [
          53959000,
          662604000,
          828885000,
          1048070000,
          1280166000,
          1350443000
         ],
         "yaxis": "y3"
        },
        {
         "customdata": [
          [
           null,
           null
          ],
          [
           222864000,
           1573.0095990965556
          ],
          [
           82764000,
           34.916804482095245
          ],
          [
           89049000,
           27.845564047080007
          ],
          [
           38834000,
           9.498465188518868
          ],
          [
           158918000,
           35.49820295345549
          ]
         ],
         "hovertemplate": "expenditure_title=tech_related_supplies_services<br>region=Northeast<br>year=%{x}<br>amount=%{y}<br>yearly_difference=%{customdata[0]}<br>growth_rate=%{customdata[1]}<extra></extra>",
         "legendgroup": "tech_related_supplies_services",
         "line": {
          "color": "#FFA15A",
          "dash": "solid"
         },
         "marker": {
          "symbol": "circle"
         },
         "mode": "lines",
         "name": "tech_related_supplies_services",
         "orientation": "v",
         "showlegend": false,
         "type": "scatter",
         "x": [
          2015,
          2016,
          2017,
          2018,
          2019,
          2020
         ],
         "xaxis": "x4",
         "y": [
          14168000,
          237032000,
          319796000,
          408845000,
          447679000,
          606597000
         ],
         "yaxis": "y4"
        },
        {
         "customdata": [
          [
           null,
           null
          ],
          [
           1209355000,
           209.69861854551067
          ],
          [
           97392000,
           5.452878001148886
          ],
          [
           577447000,
           30.65887320025187
          ],
          [
           322994000,
           13.125008889006274
          ],
          [
           471354000,
           16.931433216506786
          ]
         ],
         "hovertemplate": "expenditure_title=tech_related_supplies_services<br>region=South<br>year=%{x}<br>amount=%{y}<br>yearly_difference=%{customdata[0]}<br>growth_rate=%{customdata[1]}<extra></extra>",
         "legendgroup": "tech_related_supplies_services",
         "line": {
          "color": "#FFA15A",
          "dash": "solid"
         },
         "marker": {
          "symbol": "circle"
         },
         "mode": "lines",
         "name": "tech_related_supplies_services",
         "orientation": "v",
         "showlegend": false,
         "type": "scatter",
         "x": [
          2015,
          2016,
          2017,
          2018,
          2019,
          2020
         ],
         "xaxis": "x",
         "y": [
          576711000,
          1786066000,
          1883458000,
          2460905000,
          2783899000,
          3255253000
         ],
         "yaxis": "y"
        },
        {
         "customdata": [
          [
           null,
           null
          ],
          [
           141101000,
           59.22914506630175
          ],
          [
           88184000,
           23.24730445785992
          ],
          [
           110969000,
           23.735973682071542
          ],
          [
           4359000,
           0.7535225754257358
          ],
          [
           278512000,
           47.78516304590266
          ]
         ],
         "hovertemplate": "expenditure_title=tech_related_supplies_services<br>region=West<br>year=%{x}<br>amount=%{y}<br>yearly_difference=%{customdata[0]}<br>growth_rate=%{customdata[1]}<extra></extra>",
         "legendgroup": "tech_related_supplies_services",
         "line": {
          "color": "#FFA15A",
          "dash": "solid"
         },
         "marker": {
          "symbol": "circle"
         },
         "mode": "lines",
         "name": "tech_related_supplies_services",
         "orientation": "v",
         "showlegend": false,
         "type": "scatter",
         "x": [
          2015,
          2016,
          2017,
          2018,
          2019,
          2020
         ],
         "xaxis": "x2",
         "y": [
          238229000,
          379330000,
          467514000,
          578483000,
          582842000,
          861354000
         ],
         "yaxis": "y2"
        }
       ],
       "layout": {
        "annotations": [
         {
          "font": {
           "size": 10
          },
          "showarrow": false,
          "text": "region=South",
          "x": 0.245,
          "xanchor": "center",
          "xref": "paper",
          "y": 0.46499999999999997,
          "yanchor": "bottom",
          "yref": "paper"
         },
         {
          "font": {
           "size": 10
          },
          "showarrow": false,
          "text": "region=West",
          "x": 0.755,
          "xanchor": "center",
          "xref": "paper",
          "y": 0.46499999999999997,
          "yanchor": "bottom",
          "yref": "paper"
         },
         {
          "font": {
           "size": 10
          },
          "showarrow": false,
          "text": "region=Midwest",
          "x": 0.245,
          "xanchor": "center",
          "xref": "paper",
          "y": 0.9999999999999999,
          "yanchor": "bottom",
          "yref": "paper"
         },
         {
          "font": {
           "size": 10
          },
          "showarrow": false,
          "text": "region=Northeast",
          "x": 0.755,
          "xanchor": "center",
          "xref": "paper",
          "y": 0.9999999999999999,
          "yanchor": "bottom",
          "yref": "paper"
         }
        ],
        "height": 800,
        "hoverlabel": {
         "bgcolor": "white",
         "font": {
          "family": "Calibri",
          "size": 16
         }
        },
        "legend": {
         "orientation": "h",
         "title": {
          "text": "expenditure_title"
         },
         "tracegroupgap": 0,
         "x": 0.5,
         "xanchor": "center",
         "y": -0.5,
         "yanchor": "bottom"
        },
        "margin": {
         "b": 200,
         "l": 40,
         "r": 40,
         "t": 80
        },
        "template": {
         "data": {
          "bar": [
           {
            "error_x": {
             "color": "#2a3f5f"
            },
            "error_y": {
             "color": "#2a3f5f"
            },
            "marker": {
             "line": {
              "color": "#E5ECF6",
              "width": 0.5
             },
             "pattern": {
              "fillmode": "overlay",
              "size": 10,
              "solidity": 0.2
             }
            },
            "type": "bar"
           }
          ],
          "barpolar": [
           {
            "marker": {
             "line": {
              "color": "#E5ECF6",
              "width": 0.5
             },
             "pattern": {
              "fillmode": "overlay",
              "size": 10,
              "solidity": 0.2
             }
            },
            "type": "barpolar"
           }
          ],
          "carpet": [
           {
            "aaxis": {
             "endlinecolor": "#2a3f5f",
             "gridcolor": "white",
             "linecolor": "white",
             "minorgridcolor": "white",
             "startlinecolor": "#2a3f5f"
            },
            "baxis": {
             "endlinecolor": "#2a3f5f",
             "gridcolor": "white",
             "linecolor": "white",
             "minorgridcolor": "white",
             "startlinecolor": "#2a3f5f"
            },
            "type": "carpet"
           }
          ],
          "choropleth": [
           {
            "colorbar": {
             "outlinewidth": 0,
             "ticks": ""
            },
            "type": "choropleth"
           }
          ],
          "contour": [
           {
            "colorbar": {
             "outlinewidth": 0,
             "ticks": ""
            },
            "colorscale": [
             [
              0,
              "#0d0887"
             ],
             [
              0.1111111111111111,
              "#46039f"
             ],
             [
              0.2222222222222222,
              "#7201a8"
             ],
             [
              0.3333333333333333,
              "#9c179e"
             ],
             [
              0.4444444444444444,
              "#bd3786"
             ],
             [
              0.5555555555555556,
              "#d8576b"
             ],
             [
              0.6666666666666666,
              "#ed7953"
             ],
             [
              0.7777777777777778,
              "#fb9f3a"
             ],
             [
              0.8888888888888888,
              "#fdca26"
             ],
             [
              1,
              "#f0f921"
             ]
            ],
            "type": "contour"
           }
          ],
          "contourcarpet": [
           {
            "colorbar": {
             "outlinewidth": 0,
             "ticks": ""
            },
            "type": "contourcarpet"
           }
          ],
          "heatmap": [
           {
            "colorbar": {
             "outlinewidth": 0,
             "ticks": ""
            },
            "colorscale": [
             [
              0,
              "#0d0887"
             ],
             [
              0.1111111111111111,
              "#46039f"
             ],
             [
              0.2222222222222222,
              "#7201a8"
             ],
             [
              0.3333333333333333,
              "#9c179e"
             ],
             [
              0.4444444444444444,
              "#bd3786"
             ],
             [
              0.5555555555555556,
              "#d8576b"
             ],
             [
              0.6666666666666666,
              "#ed7953"
             ],
             [
              0.7777777777777778,
              "#fb9f3a"
             ],
             [
              0.8888888888888888,
              "#fdca26"
             ],
             [
              1,
              "#f0f921"
             ]
            ],
            "type": "heatmap"
           }
          ],
          "heatmapgl": [
           {
            "colorbar": {
             "outlinewidth": 0,
             "ticks": ""
            },
            "colorscale": [
             [
              0,
              "#0d0887"
             ],
             [
              0.1111111111111111,
              "#46039f"
             ],
             [
              0.2222222222222222,
              "#7201a8"
             ],
             [
              0.3333333333333333,
              "#9c179e"
             ],
             [
              0.4444444444444444,
              "#bd3786"
             ],
             [
              0.5555555555555556,
              "#d8576b"
             ],
             [
              0.6666666666666666,
              "#ed7953"
             ],
             [
              0.7777777777777778,
              "#fb9f3a"
             ],
             [
              0.8888888888888888,
              "#fdca26"
             ],
             [
              1,
              "#f0f921"
             ]
            ],
            "type": "heatmapgl"
           }
          ],
          "histogram": [
           {
            "marker": {
             "pattern": {
              "fillmode": "overlay",
              "size": 10,
              "solidity": 0.2
             }
            },
            "type": "histogram"
           }
          ],
          "histogram2d": [
           {
            "colorbar": {
             "outlinewidth": 0,
             "ticks": ""
            },
            "colorscale": [
             [
              0,
              "#0d0887"
             ],
             [
              0.1111111111111111,
              "#46039f"
             ],
             [
              0.2222222222222222,
              "#7201a8"
             ],
             [
              0.3333333333333333,
              "#9c179e"
             ],
             [
              0.4444444444444444,
              "#bd3786"
             ],
             [
              0.5555555555555556,
              "#d8576b"
             ],
             [
              0.6666666666666666,
              "#ed7953"
             ],
             [
              0.7777777777777778,
              "#fb9f3a"
             ],
             [
              0.8888888888888888,
              "#fdca26"
             ],
             [
              1,
              "#f0f921"
             ]
            ],
            "type": "histogram2d"
           }
          ],
          "histogram2dcontour": [
           {
            "colorbar": {
             "outlinewidth": 0,
             "ticks": ""
            },
            "colorscale": [
             [
              0,
              "#0d0887"
             ],
             [
              0.1111111111111111,
              "#46039f"
             ],
             [
              0.2222222222222222,
              "#7201a8"
             ],
             [
              0.3333333333333333,
              "#9c179e"
             ],
             [
              0.4444444444444444,
              "#bd3786"
             ],
             [
              0.5555555555555556,
              "#d8576b"
             ],
             [
              0.6666666666666666,
              "#ed7953"
             ],
             [
              0.7777777777777778,
              "#fb9f3a"
             ],
             [
              0.8888888888888888,
              "#fdca26"
             ],
             [
              1,
              "#f0f921"
             ]
            ],
            "type": "histogram2dcontour"
           }
          ],
          "mesh3d": [
           {
            "colorbar": {
             "outlinewidth": 0,
             "ticks": ""
            },
            "type": "mesh3d"
           }
          ],
          "parcoords": [
           {
            "line": {
             "colorbar": {
              "outlinewidth": 0,
              "ticks": ""
             }
            },
            "type": "parcoords"
           }
          ],
          "pie": [
           {
            "automargin": true,
            "type": "pie"
           }
          ],
          "scatter": [
           {
            "fillpattern": {
             "fillmode": "overlay",
             "size": 10,
             "solidity": 0.2
            },
            "type": "scatter"
           }
          ],
          "scatter3d": [
           {
            "line": {
             "colorbar": {
              "outlinewidth": 0,
              "ticks": ""
             }
            },
            "marker": {
             "colorbar": {
              "outlinewidth": 0,
              "ticks": ""
             }
            },
            "type": "scatter3d"
           }
          ],
          "scattercarpet": [
           {
            "marker": {
             "colorbar": {
              "outlinewidth": 0,
              "ticks": ""
             }
            },
            "type": "scattercarpet"
           }
          ],
          "scattergeo": [
           {
            "marker": {
             "colorbar": {
              "outlinewidth": 0,
              "ticks": ""
             }
            },
            "type": "scattergeo"
           }
          ],
          "scattergl": [
           {
            "marker": {
             "colorbar": {
              "outlinewidth": 0,
              "ticks": ""
             }
            },
            "type": "scattergl"
           }
          ],
          "scattermapbox": [
           {
            "marker": {
             "colorbar": {
              "outlinewidth": 0,
              "ticks": ""
             }
            },
            "type": "scattermapbox"
           }
          ],
          "scatterpolar": [
           {
            "marker": {
             "colorbar": {
              "outlinewidth": 0,
              "ticks": ""
             }
            },
            "type": "scatterpolar"
           }
          ],
          "scatterpolargl": [
           {
            "marker": {
             "colorbar": {
              "outlinewidth": 0,
              "ticks": ""
             }
            },
            "type": "scatterpolargl"
           }
          ],
          "scatterternary": [
           {
            "marker": {
             "colorbar": {
              "outlinewidth": 0,
              "ticks": ""
             }
            },
            "type": "scatterternary"
           }
          ],
          "surface": [
           {
            "colorbar": {
             "outlinewidth": 0,
             "ticks": ""
            },
            "colorscale": [
             [
              0,
              "#0d0887"
             ],
             [
              0.1111111111111111,
              "#46039f"
             ],
             [
              0.2222222222222222,
              "#7201a8"
             ],
             [
              0.3333333333333333,
              "#9c179e"
             ],
             [
              0.4444444444444444,
              "#bd3786"
             ],
             [
              0.5555555555555556,
              "#d8576b"
             ],
             [
              0.6666666666666666,
              "#ed7953"
             ],
             [
              0.7777777777777778,
              "#fb9f3a"
             ],
             [
              0.8888888888888888,
              "#fdca26"
             ],
             [
              1,
              "#f0f921"
             ]
            ],
            "type": "surface"
           }
          ],
          "table": [
           {
            "cells": {
             "fill": {
              "color": "#EBF0F8"
             },
             "line": {
              "color": "white"
             }
            },
            "header": {
             "fill": {
              "color": "#C8D4E3"
             },
             "line": {
              "color": "white"
             }
            },
            "type": "table"
           }
          ]
         },
         "layout": {
          "annotationdefaults": {
           "arrowcolor": "#2a3f5f",
           "arrowhead": 0,
           "arrowwidth": 1
          },
          "autotypenumbers": "strict",
          "coloraxis": {
           "colorbar": {
            "outlinewidth": 0,
            "ticks": ""
           }
          },
          "colorscale": {
           "diverging": [
            [
             0,
             "#8e0152"
            ],
            [
             0.1,
             "#c51b7d"
            ],
            [
             0.2,
             "#de77ae"
            ],
            [
             0.3,
             "#f1b6da"
            ],
            [
             0.4,
             "#fde0ef"
            ],
            [
             0.5,
             "#f7f7f7"
            ],
            [
             0.6,
             "#e6f5d0"
            ],
            [
             0.7,
             "#b8e186"
            ],
            [
             0.8,
             "#7fbc41"
            ],
            [
             0.9,
             "#4d9221"
            ],
            [
             1,
             "#276419"
            ]
           ],
           "sequential": [
            [
             0,
             "#0d0887"
            ],
            [
             0.1111111111111111,
             "#46039f"
            ],
            [
             0.2222222222222222,
             "#7201a8"
            ],
            [
             0.3333333333333333,
             "#9c179e"
            ],
            [
             0.4444444444444444,
             "#bd3786"
            ],
            [
             0.5555555555555556,
             "#d8576b"
            ],
            [
             0.6666666666666666,
             "#ed7953"
            ],
            [
             0.7777777777777778,
             "#fb9f3a"
            ],
            [
             0.8888888888888888,
             "#fdca26"
            ],
            [
             1,
             "#f0f921"
            ]
           ],
           "sequentialminus": [
            [
             0,
             "#0d0887"
            ],
            [
             0.1111111111111111,
             "#46039f"
            ],
            [
             0.2222222222222222,
             "#7201a8"
            ],
            [
             0.3333333333333333,
             "#9c179e"
            ],
            [
             0.4444444444444444,
             "#bd3786"
            ],
            [
             0.5555555555555556,
             "#d8576b"
            ],
            [
             0.6666666666666666,
             "#ed7953"
            ],
            [
             0.7777777777777778,
             "#fb9f3a"
            ],
            [
             0.8888888888888888,
             "#fdca26"
            ],
            [
             1,
             "#f0f921"
            ]
           ]
          },
          "colorway": [
           "#636efa",
           "#EF553B",
           "#00cc96",
           "#ab63fa",
           "#FFA15A",
           "#19d3f3",
           "#FF6692",
           "#B6E880",
           "#FF97FF",
           "#FECB52"
          ],
          "font": {
           "color": "#2a3f5f"
          },
          "geo": {
           "bgcolor": "white",
           "lakecolor": "white",
           "landcolor": "#E5ECF6",
           "showlakes": true,
           "showland": true,
           "subunitcolor": "white"
          },
          "hoverlabel": {
           "align": "left"
          },
          "hovermode": "closest",
          "mapbox": {
           "style": "light"
          },
          "paper_bgcolor": "white",
          "plot_bgcolor": "#E5ECF6",
          "polar": {
           "angularaxis": {
            "gridcolor": "white",
            "linecolor": "white",
            "ticks": ""
           },
           "bgcolor": "#E5ECF6",
           "radialaxis": {
            "gridcolor": "white",
            "linecolor": "white",
            "ticks": ""
           }
          },
          "scene": {
           "xaxis": {
            "backgroundcolor": "#E5ECF6",
            "gridcolor": "white",
            "gridwidth": 2,
            "linecolor": "white",
            "showbackground": true,
            "ticks": "",
            "zerolinecolor": "white"
           },
           "yaxis": {
            "backgroundcolor": "#E5ECF6",
            "gridcolor": "white",
            "gridwidth": 2,
            "linecolor": "white",
            "showbackground": true,
            "ticks": "",
            "zerolinecolor": "white"
           },
           "zaxis": {
            "backgroundcolor": "#E5ECF6",
            "gridcolor": "white",
            "gridwidth": 2,
            "linecolor": "white",
            "showbackground": true,
            "ticks": "",
            "zerolinecolor": "white"
           }
          },
          "shapedefaults": {
           "line": {
            "color": "#2a3f5f"
           }
          },
          "ternary": {
           "aaxis": {
            "gridcolor": "white",
            "linecolor": "white",
            "ticks": ""
           },
           "baxis": {
            "gridcolor": "white",
            "linecolor": "white",
            "ticks": ""
           },
           "bgcolor": "#E5ECF6",
           "caxis": {
            "gridcolor": "white",
            "linecolor": "white",
            "ticks": ""
           }
          },
          "title": {
           "x": 0.05
          },
          "xaxis": {
           "automargin": true,
           "gridcolor": "white",
           "linecolor": "white",
           "ticks": "",
           "title": {
            "standoff": 15
           },
           "zerolinecolor": "white",
           "zerolinewidth": 2
          },
          "yaxis": {
           "automargin": true,
           "gridcolor": "white",
           "linecolor": "white",
           "ticks": "",
           "title": {
            "standoff": 15
           },
           "zerolinecolor": "white",
           "zerolinewidth": 2
          }
         }
        },
        "title": {
         "text": "Tech and Vocational Education Expenditure Trends by Region & Expenditure Title",
         "x": 0.5,
         "xanchor": "center",
         "y": 0.98,
         "yanchor": "top"
        },
        "width": 1050,
        "xaxis": {
         "anchor": "y",
         "domain": [
          0,
          0.49
         ],
         "tickangle": 45,
         "tickfont": {
          "size": 10
         },
         "title": {
          "text": "year"
         }
        },
        "xaxis2": {
         "anchor": "y2",
         "domain": [
          0.51,
          1
         ],
         "matches": "x",
         "tickangle": 45,
         "tickfont": {
          "size": 10
         },
         "title": {
          "text": "year"
         }
        },
        "xaxis3": {
         "anchor": "y3",
         "domain": [
          0,
          0.49
         ],
         "matches": "x",
         "showticklabels": false,
         "tickangle": 45,
         "tickfont": {
          "size": 10
         }
        },
        "xaxis4": {
         "anchor": "y4",
         "domain": [
          0.51,
          1
         ],
         "matches": "x",
         "showticklabels": false,
         "tickangle": 45,
         "tickfont": {
          "size": 10
         }
        },
        "yaxis": {
         "anchor": "x",
         "domain": [
          0,
          0.46499999999999997
         ],
         "title": {
          "text": "amount"
         }
        },
        "yaxis2": {
         "anchor": "x2",
         "domain": [
          0,
          0.46499999999999997
         ],
         "matches": "y",
         "showticklabels": false
        },
        "yaxis3": {
         "anchor": "x3",
         "domain": [
          0.5349999999999999,
          0.9999999999999999
         ],
         "matches": "y",
         "title": {
          "text": "amount"
         }
        },
        "yaxis4": {
         "anchor": "x4",
         "domain": [
          0.5349999999999999,
          0.9999999999999999
         ],
         "matches": "y",
         "showticklabels": false
        }
       }
      }
     },
     "metadata": {},
     "output_type": "display_data"
    }
   ],
   "source": [
    "regionwise_expenditure_totals_line = utils.make_line_plot_grid(regionwise_tech_vocational_expenditures,\n",
    "                                                  x= 'year',\n",
    "                                                  y= 'amount',\n",
    "                                                  color= 'expenditure_title',\n",
    "                                                  facet_col= 'region',\n",
    "                                                  facet_col_wrap= 2,\n",
    "                                                  title= 'Tech and Vocational Education Expenditure Trends by Region & Expenditure Title',\n",
    "                                                  hover_data= ['yearly_difference', 'growth_rate']\n",
    "                                                  )\n",
    "\n",
    "regionwise_expenditure_totals_line.show()"
   ]
  },
  {
   "cell_type": "markdown",
   "metadata": {},
   "source": [
    "#### Notes:\n",
    "\n",
    "`tech_related_supplies_services` and `tech_related_equipment`\n",
    "- First introduced in 2015\n",
    "    - 2015 was also the end of the *No Child Left Behind Act (NCLB)* and the start of the *Every Student Succeeds Act (ESSA)*. This shift in policy could be an indicator of why these additional expenditure titles were introduced. \n",
    "\n",
    "**Midwest**\n",
    "- `teacher_salaries_vocational_education` \n",
    "    - Remains quite stable between 2010 and 2020. Hovering close around the $1 Billion line.\n",
    "    - Remains the leading expense between 2015 and 2017.\n",
    "\n",
    "- `tech_related_supplies_services`\n",
    "    - Has a steep climb from 2015 to 2016, after which point, spending becomes more steady, maintaining a consistent growth trend until 2019.\n",
    "    - 2019 marks the year when spending surpasses `teacher_salaries_vocational_education` in total spending.\n",
    "\n",
    "- `tech_related_equipment`\n",
    "    - Has a steep climb from 2015 to 2016, after which point, spending becomes more steady. \n",
    "    - Spending increases at a constant rate beginning in 2017 until 2019.\n",
    "    - 2020 indicates a decline in spending. "
   ]
  },
  {
   "cell_type": "code",
   "execution_count": 27,
   "metadata": {},
   "outputs": [
    {
     "data": {
      "application/vnd.plotly.v1+json": {
       "config": {
        "plotlyServerURL": "https://plot.ly"
       },
       "data": [
        {
         "customdata": [
          [
           null
          ],
          [
           59848000
          ],
          [
           -36260000
          ],
          [
           -11708000
          ],
          [
           -14499000
          ],
          [
           135310000
          ],
          [
           905298000
          ],
          [
           195628000
          ],
          [
           398825000
          ],
          [
           365514000
          ],
          [
           -64726000
          ],
          [
           null
          ],
          [
           47878000
          ],
          [
           -16772000
          ],
          [
           -7969000
          ],
          [
           231161000
          ],
          [
           5957000
          ],
          [
           372301000
          ],
          [
           246113000
          ],
          [
           112457000
          ],
          [
           136584000
          ],
          [
           294615000
          ],
          [
           null
          ],
          [
           -4789000
          ],
          [
           609163000
          ],
          [
           899000
          ],
          [
           47502000
          ],
          [
           905230000
          ],
          [
           1420848000
          ],
          [
           167388000
          ],
          [
           843723000
          ],
          [
           445335000
          ],
          [
           698600000
          ],
          [
           null
          ],
          [
           -13233000
          ],
          [
           -15517000
          ],
          [
           77565000
          ],
          [
           41352000
          ],
          [
           330787000
          ],
          [
           274622000
          ],
          [
           294607000
          ],
          [
           135341000
          ],
          [
           23673000
          ],
          [
           410605000
          ]
         ],
         "hovertemplate": "Year: %{x}<br>Growth Rate: %{y:.2f}%<br>Yearly Difference: %{customdata[0]:.2f}",
         "legendgroup": "Midwest",
         "line": {
          "color": "#636efa",
          "dash": "solid"
         },
         "marker": {
          "symbol": "circle"
         },
         "mode": "lines",
         "name": "Midwest",
         "orientation": "v",
         "showlegend": true,
         "type": "scatter",
         "x": [
          2010,
          2011,
          2012,
          2013,
          2014,
          2015,
          2016,
          2017,
          2018,
          2019,
          2020
         ],
         "xaxis": "x3",
         "y": [
          null,
          6.691054147362396,
          -3.7996596443870656,
          -1.2753312506263326,
          -1.5997519661756,
          15.17219108147414,
          88.13782749949131,
          10.12338306501066,
          18.741203863603783,
          14.464974731784919,
          -2.2377925075473537
         ],
         "yaxis": "y3"
        },
        {
         "customdata": [
          [
           null
          ],
          [
           59848000
          ],
          [
           -36260000
          ],
          [
           -11708000
          ],
          [
           -14499000
          ],
          [
           135310000
          ],
          [
           905298000
          ],
          [
           195628000
          ],
          [
           398825000
          ],
          [
           365514000
          ],
          [
           -64726000
          ],
          [
           null
          ],
          [
           47878000
          ],
          [
           -16772000
          ],
          [
           -7969000
          ],
          [
           231161000
          ],
          [
           5957000
          ],
          [
           372301000
          ],
          [
           246113000
          ],
          [
           112457000
          ],
          [
           136584000
          ],
          [
           294615000
          ],
          [
           null
          ],
          [
           -4789000
          ],
          [
           609163000
          ],
          [
           899000
          ],
          [
           47502000
          ],
          [
           905230000
          ],
          [
           1420848000
          ],
          [
           167388000
          ],
          [
           843723000
          ],
          [
           445335000
          ],
          [
           698600000
          ],
          [
           null
          ],
          [
           -13233000
          ],
          [
           -15517000
          ],
          [
           77565000
          ],
          [
           41352000
          ],
          [
           330787000
          ],
          [
           274622000
          ],
          [
           294607000
          ],
          [
           135341000
          ],
          [
           23673000
          ],
          [
           410605000
          ]
         ],
         "hovertemplate": "Year: %{x}<br>Growth Rate: %{y:.2f}%<br>Yearly Difference: %{customdata[0]:.2f}",
         "legendgroup": "Northeast",
         "line": {
          "color": "#EF553B",
          "dash": "solid"
         },
         "marker": {
          "symbol": "circle"
         },
         "mode": "lines",
         "name": "Northeast",
         "orientation": "v",
         "showlegend": true,
         "type": "scatter",
         "x": [
          2010,
          2011,
          2012,
          2013,
          2014,
          2015,
          2016,
          2017,
          2018,
          2019,
          2020
         ],
         "xaxis": "x4",
         "y": [
          null,
          4.226966133418086,
          -1.420684117171711,
          -0.6847478832018972,
          19.999792354672064,
          0.4294949162856332,
          26.727808548137567,
          13.94221509191973,
          5.591123171562962,
          6.431095872221859,
          13.03381274912736
         ],
         "yaxis": "y4"
        },
        {
         "customdata": [
          [
           null
          ],
          [
           59848000
          ],
          [
           -36260000
          ],
          [
           -11708000
          ],
          [
           -14499000
          ],
          [
           135310000
          ],
          [
           905298000
          ],
          [
           195628000
          ],
          [
           398825000
          ],
          [
           365514000
          ],
          [
           -64726000
          ],
          [
           null
          ],
          [
           47878000
          ],
          [
           -16772000
          ],
          [
           -7969000
          ],
          [
           231161000
          ],
          [
           5957000
          ],
          [
           372301000
          ],
          [
           246113000
          ],
          [
           112457000
          ],
          [
           136584000
          ],
          [
           294615000
          ],
          [
           null
          ],
          [
           -4789000
          ],
          [
           609163000
          ],
          [
           899000
          ],
          [
           47502000
          ],
          [
           905230000
          ],
          [
           1420848000
          ],
          [
           167388000
          ],
          [
           843723000
          ],
          [
           445335000
          ],
          [
           698600000
          ],
          [
           null
          ],
          [
           -13233000
          ],
          [
           -15517000
          ],
          [
           77565000
          ],
          [
           41352000
          ],
          [
           330787000
          ],
          [
           274622000
          ],
          [
           294607000
          ],
          [
           135341000
          ],
          [
           23673000
          ],
          [
           410605000
          ]
         ],
         "hovertemplate": "Year: %{x}<br>Growth Rate: %{y:.2f}%<br>Yearly Difference: %{customdata[0]:.2f}",
         "legendgroup": "South",
         "line": {
          "color": "#00cc96",
          "dash": "solid"
         },
         "marker": {
          "symbol": "circle"
         },
         "mode": "lines",
         "name": "South",
         "orientation": "v",
         "showlegend": true,
         "type": "scatter",
         "x": [
          2010,
          2011,
          2012,
          2013,
          2014,
          2015,
          2016,
          2017,
          2018,
          2019,
          2020
         ],
         "xaxis": "x",
         "y": [
          null,
          -0.2850527368395972,
          36.36249135204217,
          0.03935363730040997,
          2.078577420248351,
          38.80419150254093,
          43.87981019411404,
          3.592870666915937,
          17.481845752454106,
          7.854227263331737,
          11.423733009731762
         ],
         "yaxis": "y"
        },
        {
         "customdata": [
          [
           null
          ],
          [
           59848000
          ],
          [
           -36260000
          ],
          [
           -11708000
          ],
          [
           -14499000
          ],
          [
           135310000
          ],
          [
           905298000
          ],
          [
           195628000
          ],
          [
           398825000
          ],
          [
           365514000
          ],
          [
           -64726000
          ],
          [
           null
          ],
          [
           47878000
          ],
          [
           -16772000
          ],
          [
           -7969000
          ],
          [
           231161000
          ],
          [
           5957000
          ],
          [
           372301000
          ],
          [
           246113000
          ],
          [
           112457000
          ],
          [
           136584000
          ],
          [
           294615000
          ],
          [
           null
          ],
          [
           -4789000
          ],
          [
           609163000
          ],
          [
           899000
          ],
          [
           47502000
          ],
          [
           905230000
          ],
          [
           1420848000
          ],
          [
           167388000
          ],
          [
           843723000
          ],
          [
           445335000
          ],
          [
           698600000
          ],
          [
           null
          ],
          [
           -13233000
          ],
          [
           -15517000
          ],
          [
           77565000
          ],
          [
           41352000
          ],
          [
           330787000
          ],
          [
           274622000
          ],
          [
           294607000
          ],
          [
           135341000
          ],
          [
           23673000
          ],
          [
           410605000
          ]
         ],
         "hovertemplate": "Year: %{x}<br>Growth Rate: %{y:.2f}%<br>Yearly Difference: %{customdata[0]:.2f}",
         "legendgroup": "West",
         "line": {
          "color": "#ab63fa",
          "dash": "solid"
         },
         "marker": {
          "symbol": "circle"
         },
         "mode": "lines",
         "name": "West",
         "orientation": "v",
         "showlegend": true,
         "type": "scatter",
         "x": [
          2010,
          2011,
          2012,
          2013,
          2014,
          2015,
          2016,
          2017,
          2018,
          2019,
          2020
         ],
         "xaxis": "x2",
         "y": [
          null,
          -2.3530102100692396,
          -2.825624188523057,
          14.535188780367147,
          6.765695736754362,
          50.69120822369983,
          27.92747167815812,
          23.419387867042097,
          8.717229314767971,
          1.4025036879928399,
          23.98978022100009
         ],
         "yaxis": "y2"
        }
       ],
       "layout": {
        "annotations": [
         {
          "font": {
           "size": 10
          },
          "showarrow": false,
          "text": "region=South",
          "x": 0.245,
          "xanchor": "center",
          "xref": "paper",
          "y": 0.46499999999999997,
          "yanchor": "bottom",
          "yref": "paper"
         },
         {
          "font": {
           "size": 10
          },
          "showarrow": false,
          "text": "region=West",
          "x": 0.755,
          "xanchor": "center",
          "xref": "paper",
          "y": 0.46499999999999997,
          "yanchor": "bottom",
          "yref": "paper"
         },
         {
          "font": {
           "size": 10
          },
          "showarrow": false,
          "text": "region=Midwest",
          "x": 0.245,
          "xanchor": "center",
          "xref": "paper",
          "y": 0.9999999999999999,
          "yanchor": "bottom",
          "yref": "paper"
         },
         {
          "font": {
           "size": 10
          },
          "showarrow": false,
          "text": "region=Northeast",
          "x": 0.755,
          "xanchor": "center",
          "xref": "paper",
          "y": 0.9999999999999999,
          "yanchor": "bottom",
          "yref": "paper"
         }
        ],
        "height": 800,
        "hoverlabel": {
         "bgcolor": "white",
         "font": {
          "family": "Calibri",
          "size": 16
         }
        },
        "legend": {
         "orientation": "h",
         "title": {
          "text": "region"
         },
         "tracegroupgap": 0,
         "x": 0.5,
         "xanchor": "center",
         "y": -0.5,
         "yanchor": "bottom"
        },
        "margin": {
         "b": 200,
         "l": 40,
         "r": 40,
         "t": 80
        },
        "template": {
         "data": {
          "bar": [
           {
            "error_x": {
             "color": "#2a3f5f"
            },
            "error_y": {
             "color": "#2a3f5f"
            },
            "marker": {
             "line": {
              "color": "#E5ECF6",
              "width": 0.5
             },
             "pattern": {
              "fillmode": "overlay",
              "size": 10,
              "solidity": 0.2
             }
            },
            "type": "bar"
           }
          ],
          "barpolar": [
           {
            "marker": {
             "line": {
              "color": "#E5ECF6",
              "width": 0.5
             },
             "pattern": {
              "fillmode": "overlay",
              "size": 10,
              "solidity": 0.2
             }
            },
            "type": "barpolar"
           }
          ],
          "carpet": [
           {
            "aaxis": {
             "endlinecolor": "#2a3f5f",
             "gridcolor": "white",
             "linecolor": "white",
             "minorgridcolor": "white",
             "startlinecolor": "#2a3f5f"
            },
            "baxis": {
             "endlinecolor": "#2a3f5f",
             "gridcolor": "white",
             "linecolor": "white",
             "minorgridcolor": "white",
             "startlinecolor": "#2a3f5f"
            },
            "type": "carpet"
           }
          ],
          "choropleth": [
           {
            "colorbar": {
             "outlinewidth": 0,
             "ticks": ""
            },
            "type": "choropleth"
           }
          ],
          "contour": [
           {
            "colorbar": {
             "outlinewidth": 0,
             "ticks": ""
            },
            "colorscale": [
             [
              0,
              "#0d0887"
             ],
             [
              0.1111111111111111,
              "#46039f"
             ],
             [
              0.2222222222222222,
              "#7201a8"
             ],
             [
              0.3333333333333333,
              "#9c179e"
             ],
             [
              0.4444444444444444,
              "#bd3786"
             ],
             [
              0.5555555555555556,
              "#d8576b"
             ],
             [
              0.6666666666666666,
              "#ed7953"
             ],
             [
              0.7777777777777778,
              "#fb9f3a"
             ],
             [
              0.8888888888888888,
              "#fdca26"
             ],
             [
              1,
              "#f0f921"
             ]
            ],
            "type": "contour"
           }
          ],
          "contourcarpet": [
           {
            "colorbar": {
             "outlinewidth": 0,
             "ticks": ""
            },
            "type": "contourcarpet"
           }
          ],
          "heatmap": [
           {
            "colorbar": {
             "outlinewidth": 0,
             "ticks": ""
            },
            "colorscale": [
             [
              0,
              "#0d0887"
             ],
             [
              0.1111111111111111,
              "#46039f"
             ],
             [
              0.2222222222222222,
              "#7201a8"
             ],
             [
              0.3333333333333333,
              "#9c179e"
             ],
             [
              0.4444444444444444,
              "#bd3786"
             ],
             [
              0.5555555555555556,
              "#d8576b"
             ],
             [
              0.6666666666666666,
              "#ed7953"
             ],
             [
              0.7777777777777778,
              "#fb9f3a"
             ],
             [
              0.8888888888888888,
              "#fdca26"
             ],
             [
              1,
              "#f0f921"
             ]
            ],
            "type": "heatmap"
           }
          ],
          "heatmapgl": [
           {
            "colorbar": {
             "outlinewidth": 0,
             "ticks": ""
            },
            "colorscale": [
             [
              0,
              "#0d0887"
             ],
             [
              0.1111111111111111,
              "#46039f"
             ],
             [
              0.2222222222222222,
              "#7201a8"
             ],
             [
              0.3333333333333333,
              "#9c179e"
             ],
             [
              0.4444444444444444,
              "#bd3786"
             ],
             [
              0.5555555555555556,
              "#d8576b"
             ],
             [
              0.6666666666666666,
              "#ed7953"
             ],
             [
              0.7777777777777778,
              "#fb9f3a"
             ],
             [
              0.8888888888888888,
              "#fdca26"
             ],
             [
              1,
              "#f0f921"
             ]
            ],
            "type": "heatmapgl"
           }
          ],
          "histogram": [
           {
            "marker": {
             "pattern": {
              "fillmode": "overlay",
              "size": 10,
              "solidity": 0.2
             }
            },
            "type": "histogram"
           }
          ],
          "histogram2d": [
           {
            "colorbar": {
             "outlinewidth": 0,
             "ticks": ""
            },
            "colorscale": [
             [
              0,
              "#0d0887"
             ],
             [
              0.1111111111111111,
              "#46039f"
             ],
             [
              0.2222222222222222,
              "#7201a8"
             ],
             [
              0.3333333333333333,
              "#9c179e"
             ],
             [
              0.4444444444444444,
              "#bd3786"
             ],
             [
              0.5555555555555556,
              "#d8576b"
             ],
             [
              0.6666666666666666,
              "#ed7953"
             ],
             [
              0.7777777777777778,
              "#fb9f3a"
             ],
             [
              0.8888888888888888,
              "#fdca26"
             ],
             [
              1,
              "#f0f921"
             ]
            ],
            "type": "histogram2d"
           }
          ],
          "histogram2dcontour": [
           {
            "colorbar": {
             "outlinewidth": 0,
             "ticks": ""
            },
            "colorscale": [
             [
              0,
              "#0d0887"
             ],
             [
              0.1111111111111111,
              "#46039f"
             ],
             [
              0.2222222222222222,
              "#7201a8"
             ],
             [
              0.3333333333333333,
              "#9c179e"
             ],
             [
              0.4444444444444444,
              "#bd3786"
             ],
             [
              0.5555555555555556,
              "#d8576b"
             ],
             [
              0.6666666666666666,
              "#ed7953"
             ],
             [
              0.7777777777777778,
              "#fb9f3a"
             ],
             [
              0.8888888888888888,
              "#fdca26"
             ],
             [
              1,
              "#f0f921"
             ]
            ],
            "type": "histogram2dcontour"
           }
          ],
          "mesh3d": [
           {
            "colorbar": {
             "outlinewidth": 0,
             "ticks": ""
            },
            "type": "mesh3d"
           }
          ],
          "parcoords": [
           {
            "line": {
             "colorbar": {
              "outlinewidth": 0,
              "ticks": ""
             }
            },
            "type": "parcoords"
           }
          ],
          "pie": [
           {
            "automargin": true,
            "type": "pie"
           }
          ],
          "scatter": [
           {
            "fillpattern": {
             "fillmode": "overlay",
             "size": 10,
             "solidity": 0.2
            },
            "type": "scatter"
           }
          ],
          "scatter3d": [
           {
            "line": {
             "colorbar": {
              "outlinewidth": 0,
              "ticks": ""
             }
            },
            "marker": {
             "colorbar": {
              "outlinewidth": 0,
              "ticks": ""
             }
            },
            "type": "scatter3d"
           }
          ],
          "scattercarpet": [
           {
            "marker": {
             "colorbar": {
              "outlinewidth": 0,
              "ticks": ""
             }
            },
            "type": "scattercarpet"
           }
          ],
          "scattergeo": [
           {
            "marker": {
             "colorbar": {
              "outlinewidth": 0,
              "ticks": ""
             }
            },
            "type": "scattergeo"
           }
          ],
          "scattergl": [
           {
            "marker": {
             "colorbar": {
              "outlinewidth": 0,
              "ticks": ""
             }
            },
            "type": "scattergl"
           }
          ],
          "scattermapbox": [
           {
            "marker": {
             "colorbar": {
              "outlinewidth": 0,
              "ticks": ""
             }
            },
            "type": "scattermapbox"
           }
          ],
          "scatterpolar": [
           {
            "marker": {
             "colorbar": {
              "outlinewidth": 0,
              "ticks": ""
             }
            },
            "type": "scatterpolar"
           }
          ],
          "scatterpolargl": [
           {
            "marker": {
             "colorbar": {
              "outlinewidth": 0,
              "ticks": ""
             }
            },
            "type": "scatterpolargl"
           }
          ],
          "scatterternary": [
           {
            "marker": {
             "colorbar": {
              "outlinewidth": 0,
              "ticks": ""
             }
            },
            "type": "scatterternary"
           }
          ],
          "surface": [
           {
            "colorbar": {
             "outlinewidth": 0,
             "ticks": ""
            },
            "colorscale": [
             [
              0,
              "#0d0887"
             ],
             [
              0.1111111111111111,
              "#46039f"
             ],
             [
              0.2222222222222222,
              "#7201a8"
             ],
             [
              0.3333333333333333,
              "#9c179e"
             ],
             [
              0.4444444444444444,
              "#bd3786"
             ],
             [
              0.5555555555555556,
              "#d8576b"
             ],
             [
              0.6666666666666666,
              "#ed7953"
             ],
             [
              0.7777777777777778,
              "#fb9f3a"
             ],
             [
              0.8888888888888888,
              "#fdca26"
             ],
             [
              1,
              "#f0f921"
             ]
            ],
            "type": "surface"
           }
          ],
          "table": [
           {
            "cells": {
             "fill": {
              "color": "#EBF0F8"
             },
             "line": {
              "color": "white"
             }
            },
            "header": {
             "fill": {
              "color": "#C8D4E3"
             },
             "line": {
              "color": "white"
             }
            },
            "type": "table"
           }
          ]
         },
         "layout": {
          "annotationdefaults": {
           "arrowcolor": "#2a3f5f",
           "arrowhead": 0,
           "arrowwidth": 1
          },
          "autotypenumbers": "strict",
          "coloraxis": {
           "colorbar": {
            "outlinewidth": 0,
            "ticks": ""
           }
          },
          "colorscale": {
           "diverging": [
            [
             0,
             "#8e0152"
            ],
            [
             0.1,
             "#c51b7d"
            ],
            [
             0.2,
             "#de77ae"
            ],
            [
             0.3,
             "#f1b6da"
            ],
            [
             0.4,
             "#fde0ef"
            ],
            [
             0.5,
             "#f7f7f7"
            ],
            [
             0.6,
             "#e6f5d0"
            ],
            [
             0.7,
             "#b8e186"
            ],
            [
             0.8,
             "#7fbc41"
            ],
            [
             0.9,
             "#4d9221"
            ],
            [
             1,
             "#276419"
            ]
           ],
           "sequential": [
            [
             0,
             "#0d0887"
            ],
            [
             0.1111111111111111,
             "#46039f"
            ],
            [
             0.2222222222222222,
             "#7201a8"
            ],
            [
             0.3333333333333333,
             "#9c179e"
            ],
            [
             0.4444444444444444,
             "#bd3786"
            ],
            [
             0.5555555555555556,
             "#d8576b"
            ],
            [
             0.6666666666666666,
             "#ed7953"
            ],
            [
             0.7777777777777778,
             "#fb9f3a"
            ],
            [
             0.8888888888888888,
             "#fdca26"
            ],
            [
             1,
             "#f0f921"
            ]
           ],
           "sequentialminus": [
            [
             0,
             "#0d0887"
            ],
            [
             0.1111111111111111,
             "#46039f"
            ],
            [
             0.2222222222222222,
             "#7201a8"
            ],
            [
             0.3333333333333333,
             "#9c179e"
            ],
            [
             0.4444444444444444,
             "#bd3786"
            ],
            [
             0.5555555555555556,
             "#d8576b"
            ],
            [
             0.6666666666666666,
             "#ed7953"
            ],
            [
             0.7777777777777778,
             "#fb9f3a"
            ],
            [
             0.8888888888888888,
             "#fdca26"
            ],
            [
             1,
             "#f0f921"
            ]
           ]
          },
          "colorway": [
           "#636efa",
           "#EF553B",
           "#00cc96",
           "#ab63fa",
           "#FFA15A",
           "#19d3f3",
           "#FF6692",
           "#B6E880",
           "#FF97FF",
           "#FECB52"
          ],
          "font": {
           "color": "#2a3f5f"
          },
          "geo": {
           "bgcolor": "white",
           "lakecolor": "white",
           "landcolor": "#E5ECF6",
           "showlakes": true,
           "showland": true,
           "subunitcolor": "white"
          },
          "hoverlabel": {
           "align": "left"
          },
          "hovermode": "closest",
          "mapbox": {
           "style": "light"
          },
          "paper_bgcolor": "white",
          "plot_bgcolor": "#E5ECF6",
          "polar": {
           "angularaxis": {
            "gridcolor": "white",
            "linecolor": "white",
            "ticks": ""
           },
           "bgcolor": "#E5ECF6",
           "radialaxis": {
            "gridcolor": "white",
            "linecolor": "white",
            "ticks": ""
           }
          },
          "scene": {
           "xaxis": {
            "backgroundcolor": "#E5ECF6",
            "gridcolor": "white",
            "gridwidth": 2,
            "linecolor": "white",
            "showbackground": true,
            "ticks": "",
            "zerolinecolor": "white"
           },
           "yaxis": {
            "backgroundcolor": "#E5ECF6",
            "gridcolor": "white",
            "gridwidth": 2,
            "linecolor": "white",
            "showbackground": true,
            "ticks": "",
            "zerolinecolor": "white"
           },
           "zaxis": {
            "backgroundcolor": "#E5ECF6",
            "gridcolor": "white",
            "gridwidth": 2,
            "linecolor": "white",
            "showbackground": true,
            "ticks": "",
            "zerolinecolor": "white"
           }
          },
          "shapedefaults": {
           "line": {
            "color": "#2a3f5f"
           }
          },
          "ternary": {
           "aaxis": {
            "gridcolor": "white",
            "linecolor": "white",
            "ticks": ""
           },
           "baxis": {
            "gridcolor": "white",
            "linecolor": "white",
            "ticks": ""
           },
           "bgcolor": "#E5ECF6",
           "caxis": {
            "gridcolor": "white",
            "linecolor": "white",
            "ticks": ""
           }
          },
          "title": {
           "x": 0.05
          },
          "xaxis": {
           "automargin": true,
           "gridcolor": "white",
           "linecolor": "white",
           "ticks": "",
           "title": {
            "standoff": 15
           },
           "zerolinecolor": "white",
           "zerolinewidth": 2
          },
          "yaxis": {
           "automargin": true,
           "gridcolor": "white",
           "linecolor": "white",
           "ticks": "",
           "title": {
            "standoff": 15
           },
           "zerolinecolor": "white",
           "zerolinewidth": 2
          }
         }
        },
        "title": {
         "text": "Tech and Vocational Education Expenditure Growth by Region Over Time",
         "x": 0.5,
         "xanchor": "center",
         "y": 0.98,
         "yanchor": "top"
        },
        "width": 1050,
        "xaxis": {
         "anchor": "y",
         "domain": [
          0,
          0.49
         ],
         "tickangle": 45,
         "tickfont": {
          "size": 10
         },
         "title": {
          "text": "year"
         }
        },
        "xaxis2": {
         "anchor": "y2",
         "domain": [
          0.51,
          1
         ],
         "matches": "x",
         "tickangle": 45,
         "tickfont": {
          "size": 10
         },
         "title": {
          "text": "year"
         }
        },
        "xaxis3": {
         "anchor": "y3",
         "domain": [
          0,
          0.49
         ],
         "matches": "x",
         "showticklabels": false,
         "tickangle": 45,
         "tickfont": {
          "size": 10
         }
        },
        "xaxis4": {
         "anchor": "y4",
         "domain": [
          0.51,
          1
         ],
         "matches": "x",
         "showticklabels": false,
         "tickangle": 45,
         "tickfont": {
          "size": 10
         }
        },
        "yaxis": {
         "anchor": "x",
         "domain": [
          0,
          0.46499999999999997
         ],
         "title": {
          "text": "growth_rate"
         }
        },
        "yaxis2": {
         "anchor": "x2",
         "domain": [
          0,
          0.46499999999999997
         ],
         "matches": "y",
         "showticklabels": false
        },
        "yaxis3": {
         "anchor": "x3",
         "domain": [
          0.5349999999999999,
          0.9999999999999999
         ],
         "matches": "y",
         "title": {
          "text": "growth_rate"
         }
        },
        "yaxis4": {
         "anchor": "x4",
         "domain": [
          0.5349999999999999,
          0.9999999999999999
         ],
         "matches": "y",
         "showticklabels": false
        }
       }
      }
     },
     "metadata": {},
     "output_type": "display_data"
    }
   ],
   "source": [
    "regionwise_totals_line = utils.make_line_plot_grid(regionwise_expenditure_totals,\n",
    "                                                  x= 'year',\n",
    "                                                  y= 'growth_rate',\n",
    "                                                  color= 'region',\n",
    "                                                  facet_col= 'region',\n",
    "                                                  facet_col_wrap= 2,\n",
    "                                                  title= 'Tech and Vocational Education Expenditure Growth by Region Over Time'\n",
    "                                                  )\n",
    "\n",
    "regionwise_totals_line.update_traces(\n",
    "    hovertemplate=\"<br>\".join([\n",
    "        \"Year: %{x}\",\n",
    "        \"Growth Rate: %{y:.2f}%\",\n",
    "        \"Yearly Difference: %{customdata[0]:.2f}\"\n",
    "    ]),\n",
    "    customdata=regionwise_expenditure_totals[['yearly_difference']].values\n",
    ")\n",
    "\n",
    "regionwise_totals_line.show()"
   ]
  },
  {
   "cell_type": "code",
   "execution_count": null,
   "metadata": {},
   "outputs": [],
   "source": []
  }
 ],
 "metadata": {
  "kernelspec": {
   "display_name": "venv",
   "language": "python",
   "name": "python3"
  },
  "language_info": {
   "codemirror_mode": {
    "name": "ipython",
    "version": 3
   },
   "file_extension": ".py",
   "mimetype": "text/x-python",
   "name": "python",
   "nbconvert_exporter": "python",
   "pygments_lexer": "ipython3",
   "version": "3.9.6"
  }
 },
 "nbformat": 4,
 "nbformat_minor": 2
}
